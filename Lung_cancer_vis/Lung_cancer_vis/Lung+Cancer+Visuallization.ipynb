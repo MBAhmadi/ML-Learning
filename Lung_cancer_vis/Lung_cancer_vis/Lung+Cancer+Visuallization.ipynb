{
 "cells": [
  {
   "cell_type": "markdown",
   "id": "8ce56212",
   "metadata": {},
   "source": [
    "# Lung Cancer Mortality Datasets\n",
    "\n",
    "This database is a comprehensive collection of patient information, specifically focused on individuals diagnosed with cancer. It is designed to facilitate the analysis of various factors that may influence cancer prognosis and treatment outcomes. The database includes a range of demographic, medical, and treatment-related variables, capturing essential details about each patient's condition and history.\n",
    "\n",
    "<img src=\"lung.jpg\">\n",
    "\n",
    "- **id**: A unique identifier for each patient in the dataset.\n",
    "- **age**: The age of the patient at the time of diagnosis.\n",
    "- **gender**: The gender of the patient (e.g., male, female).\n",
    "- **country**: The country or region where the patient resides.\n",
    "- **diagnosis_date**: The date on which the patient was diagnosed with lung cancer.\n",
    "- **cancer_stage**: The stage of lung cancer at the time of diagnosis (e.g., Stage I, Stage II, Stage III, Stage IV).\n",
    "- **family_history**: Indicates whether there is a family history of cancer (e.g., yes, no).\n",
    "- **smoking_status**: The smoking status of the patient (e.g., current smoker, former smoker, never smoked, passive smoker).\n",
    "- **bmi**: The Body Mass Index of the patient at the time of diagnosis.\n",
    "- **cholesterol_level**: The cholesterol level of the patient (value).\n",
    "- **hypertension**: Indicates whether the patient has hypertension (high blood pressure) (e.g., yes, no).\n",
    "- **asthma**: Indicates whether the patient has asthma (e.g., yes, no).\n",
    "- **cirrhosis**: Indicates whether the patient has cirrhosis of the liver (e.g., yes, no).\n",
    "- **other_cancer**: Indicates whether the patient has had any other type of cancer in addition to the primary diagnosis (e.g., yes, no).\n",
    "- **treatment_type**: The type of treatment the patient received (e.g., surgery, chemotherapy, radiation, combined).\n",
    "- **end_treatment_date**: The date on which the patient completed their cancer treatment or died.\n",
    "- **survived**: Indicates whether the patient survived (e.g., yes, no)."
   ]
  },
  {
   "cell_type": "markdown",
   "id": "3eb371e4",
   "metadata": {},
   "source": [
    "## Data Loading:"
   ]
  },
  {
   "cell_type": "code",
   "execution_count": 1,
   "id": "7d25020d",
   "metadata": {},
   "outputs": [],
   "source": [
    "import numpy as np\n",
    "import pandas as pd\n",
    "\n",
    "import seaborn as sns\n",
    "import matplotlib.pyplot as plt"
   ]
  },
  {
   "cell_type": "code",
   "execution_count": 2,
   "id": "e6b8bc99",
   "metadata": {},
   "outputs": [],
   "source": [
    "data = pd.read_csv('Lung_Cancer_data.csv', index_col=0)"
   ]
  },
  {
   "cell_type": "code",
   "execution_count": 3,
   "id": "9b6e92f3",
   "metadata": {},
   "outputs": [
    {
     "data": {
      "text/html": [
       "<div>\n",
       "<style scoped>\n",
       "    .dataframe tbody tr th:only-of-type {\n",
       "        vertical-align: middle;\n",
       "    }\n",
       "\n",
       "    .dataframe tbody tr th {\n",
       "        vertical-align: top;\n",
       "    }\n",
       "\n",
       "    .dataframe thead th {\n",
       "        text-align: right;\n",
       "    }\n",
       "</style>\n",
       "<table border=\"1\" class=\"dataframe\">\n",
       "  <thead>\n",
       "    <tr style=\"text-align: right;\">\n",
       "      <th></th>\n",
       "      <th>id</th>\n",
       "      <th>age</th>\n",
       "      <th>gender</th>\n",
       "      <th>country</th>\n",
       "      <th>diagnosis_date</th>\n",
       "      <th>cancer_stage</th>\n",
       "      <th>beginning_of_treatment_date</th>\n",
       "      <th>family_history</th>\n",
       "      <th>smoking_status</th>\n",
       "      <th>bmi</th>\n",
       "      <th>cholesterol_level</th>\n",
       "      <th>hypertension</th>\n",
       "      <th>asthma</th>\n",
       "      <th>cirrhosis</th>\n",
       "      <th>other_cancer</th>\n",
       "      <th>treatment_type</th>\n",
       "      <th>end_treatment_date</th>\n",
       "      <th>survived</th>\n",
       "    </tr>\n",
       "  </thead>\n",
       "  <tbody>\n",
       "    <tr>\n",
       "      <th>0</th>\n",
       "      <td>2233434</td>\n",
       "      <td>66.0</td>\n",
       "      <td>Male</td>\n",
       "      <td>Netherlands</td>\n",
       "      <td>2016-09-15</td>\n",
       "      <td>Stage IV</td>\n",
       "      <td>2016-09-16</td>\n",
       "      <td>No</td>\n",
       "      <td>Former Smoker</td>\n",
       "      <td>33.9</td>\n",
       "      <td>274.0</td>\n",
       "      <td>1.0</td>\n",
       "      <td>1.0</td>\n",
       "      <td>0.0</td>\n",
       "      <td>0.0</td>\n",
       "      <td>Surgery</td>\n",
       "      <td>2018-06-17</td>\n",
       "      <td>0.0</td>\n",
       "    </tr>\n",
       "    <tr>\n",
       "      <th>1</th>\n",
       "      <td>1888251</td>\n",
       "      <td>59.0</td>\n",
       "      <td>Male</td>\n",
       "      <td>Austria</td>\n",
       "      <td>2015-05-15</td>\n",
       "      <td>Stage IV</td>\n",
       "      <td>2015-05-17</td>\n",
       "      <td>Yes</td>\n",
       "      <td>Never Smoked</td>\n",
       "      <td>40.4</td>\n",
       "      <td>260.0</td>\n",
       "      <td>0.0</td>\n",
       "      <td>0.0</td>\n",
       "      <td>0.0</td>\n",
       "      <td>0.0</td>\n",
       "      <td>Radiation</td>\n",
       "      <td>2016-08-27</td>\n",
       "      <td>0.0</td>\n",
       "    </tr>\n",
       "    <tr>\n",
       "      <th>2</th>\n",
       "      <td>615363</td>\n",
       "      <td>67.0</td>\n",
       "      <td>Male</td>\n",
       "      <td>Czech Republic</td>\n",
       "      <td>2020-02-25</td>\n",
       "      <td>Stage III</td>\n",
       "      <td>2020-03-08</td>\n",
       "      <td>Yes</td>\n",
       "      <td>Never Smoked</td>\n",
       "      <td>17.0</td>\n",
       "      <td>169.0</td>\n",
       "      <td>1.0</td>\n",
       "      <td>1.0</td>\n",
       "      <td>0.0</td>\n",
       "      <td>1.0</td>\n",
       "      <td>Surgery</td>\n",
       "      <td>2021-06-09</td>\n",
       "      <td>0.0</td>\n",
       "    </tr>\n",
       "    <tr>\n",
       "      <th>3</th>\n",
       "      <td>2028257</td>\n",
       "      <td>42.0</td>\n",
       "      <td>Female</td>\n",
       "      <td>Sweden</td>\n",
       "      <td>2016-05-18</td>\n",
       "      <td>Stage IV</td>\n",
       "      <td>2016-05-19</td>\n",
       "      <td>No</td>\n",
       "      <td>Passive Smoker</td>\n",
       "      <td>19.7</td>\n",
       "      <td>156.0</td>\n",
       "      <td>1.0</td>\n",
       "      <td>0.0</td>\n",
       "      <td>0.0</td>\n",
       "      <td>0.0</td>\n",
       "      <td>Radiation</td>\n",
       "      <td>2017-06-15</td>\n",
       "      <td>0.0</td>\n",
       "    </tr>\n",
       "    <tr>\n",
       "      <th>4</th>\n",
       "      <td>2295973</td>\n",
       "      <td>63.0</td>\n",
       "      <td>Female</td>\n",
       "      <td>Ireland</td>\n",
       "      <td>2022-02-02</td>\n",
       "      <td>Stage III</td>\n",
       "      <td>2022-02-08</td>\n",
       "      <td>Yes</td>\n",
       "      <td>Current Smoker</td>\n",
       "      <td>16.9</td>\n",
       "      <td>235.0</td>\n",
       "      <td>0.0</td>\n",
       "      <td>0.0</td>\n",
       "      <td>0.0</td>\n",
       "      <td>0.0</td>\n",
       "      <td>Radiation</td>\n",
       "      <td>2022-08-12</td>\n",
       "      <td>0.0</td>\n",
       "    </tr>\n",
       "    <tr>\n",
       "      <th>...</th>\n",
       "      <td>...</td>\n",
       "      <td>...</td>\n",
       "      <td>...</td>\n",
       "      <td>...</td>\n",
       "      <td>...</td>\n",
       "      <td>...</td>\n",
       "      <td>...</td>\n",
       "      <td>...</td>\n",
       "      <td>...</td>\n",
       "      <td>...</td>\n",
       "      <td>...</td>\n",
       "      <td>...</td>\n",
       "      <td>...</td>\n",
       "      <td>...</td>\n",
       "      <td>...</td>\n",
       "      <td>...</td>\n",
       "      <td>...</td>\n",
       "      <td>...</td>\n",
       "    </tr>\n",
       "    <tr>\n",
       "      <th>899995</th>\n",
       "      <td>2497466</td>\n",
       "      <td>53.0</td>\n",
       "      <td>Female</td>\n",
       "      <td>Romania</td>\n",
       "      <td>2023-11-30</td>\n",
       "      <td>Stage II</td>\n",
       "      <td>2023-12-14</td>\n",
       "      <td>Yes</td>\n",
       "      <td>Passive Smoker</td>\n",
       "      <td>35.2</td>\n",
       "      <td>280.0</td>\n",
       "      <td>1.0</td>\n",
       "      <td>1.0</td>\n",
       "      <td>0.0</td>\n",
       "      <td>0.0</td>\n",
       "      <td>Surgery</td>\n",
       "      <td>2025-04-25</td>\n",
       "      <td>0.0</td>\n",
       "    </tr>\n",
       "    <tr>\n",
       "      <th>899996</th>\n",
       "      <td>2949365</td>\n",
       "      <td>51.0</td>\n",
       "      <td>Female</td>\n",
       "      <td>Ireland</td>\n",
       "      <td>2023-06-25</td>\n",
       "      <td>Stage III</td>\n",
       "      <td>2023-06-30</td>\n",
       "      <td>No</td>\n",
       "      <td>Never Smoked</td>\n",
       "      <td>40.4</td>\n",
       "      <td>272.0</td>\n",
       "      <td>1.0</td>\n",
       "      <td>0.0</td>\n",
       "      <td>0.0</td>\n",
       "      <td>0.0</td>\n",
       "      <td>Surgery</td>\n",
       "      <td>2024-02-24</td>\n",
       "      <td>0.0</td>\n",
       "    </tr>\n",
       "    <tr>\n",
       "      <th>899997</th>\n",
       "      <td>2934633</td>\n",
       "      <td>54.0</td>\n",
       "      <td>Female</td>\n",
       "      <td>Sweden</td>\n",
       "      <td>2021-06-02</td>\n",
       "      <td>Stage III</td>\n",
       "      <td>2021-06-05</td>\n",
       "      <td>Yes</td>\n",
       "      <td>Former Smoker</td>\n",
       "      <td>23.7</td>\n",
       "      <td>226.0</td>\n",
       "      <td>1.0</td>\n",
       "      <td>1.0</td>\n",
       "      <td>0.0</td>\n",
       "      <td>0.0</td>\n",
       "      <td>Radiation</td>\n",
       "      <td>2023-01-07</td>\n",
       "      <td>0.0</td>\n",
       "    </tr>\n",
       "    <tr>\n",
       "      <th>899998</th>\n",
       "      <td>1741195</td>\n",
       "      <td>58.0</td>\n",
       "      <td>Female</td>\n",
       "      <td>Slovakia</td>\n",
       "      <td>2018-12-24</td>\n",
       "      <td>Stage IV</td>\n",
       "      <td>2018-12-27</td>\n",
       "      <td>No</td>\n",
       "      <td>Current Smoker</td>\n",
       "      <td>39.4</td>\n",
       "      <td>266.0</td>\n",
       "      <td>1.0</td>\n",
       "      <td>1.0</td>\n",
       "      <td>0.0</td>\n",
       "      <td>0.0</td>\n",
       "      <td>Chemotherapy</td>\n",
       "      <td>2019-11-06</td>\n",
       "      <td>0.0</td>\n",
       "    </tr>\n",
       "    <tr>\n",
       "      <th>899999</th>\n",
       "      <td>833314</td>\n",
       "      <td>57.0</td>\n",
       "      <td>Female</td>\n",
       "      <td>Netherlands</td>\n",
       "      <td>2014-11-09</td>\n",
       "      <td>Stage II</td>\n",
       "      <td>2014-11-17</td>\n",
       "      <td>Yes</td>\n",
       "      <td>Former Smoker</td>\n",
       "      <td>23.6</td>\n",
       "      <td>218.0</td>\n",
       "      <td>1.0</td>\n",
       "      <td>1.0</td>\n",
       "      <td>0.0</td>\n",
       "      <td>0.0</td>\n",
       "      <td>Surgery</td>\n",
       "      <td>2016-03-16</td>\n",
       "      <td>0.0</td>\n",
       "    </tr>\n",
       "  </tbody>\n",
       "</table>\n",
       "<p>900000 rows × 18 columns</p>\n",
       "</div>"
      ],
      "text/plain": [
       "             id   age  gender         country diagnosis_date cancer_stage  \\\n",
       "0       2233434  66.0    Male     Netherlands     2016-09-15     Stage IV   \n",
       "1       1888251  59.0    Male         Austria     2015-05-15     Stage IV   \n",
       "2        615363  67.0    Male  Czech Republic     2020-02-25    Stage III   \n",
       "3       2028257  42.0  Female          Sweden     2016-05-18     Stage IV   \n",
       "4       2295973  63.0  Female         Ireland     2022-02-02    Stage III   \n",
       "...         ...   ...     ...             ...            ...          ...   \n",
       "899995  2497466  53.0  Female         Romania     2023-11-30     Stage II   \n",
       "899996  2949365  51.0  Female         Ireland     2023-06-25    Stage III   \n",
       "899997  2934633  54.0  Female          Sweden     2021-06-02    Stage III   \n",
       "899998  1741195  58.0  Female        Slovakia     2018-12-24     Stage IV   \n",
       "899999   833314  57.0  Female     Netherlands     2014-11-09     Stage II   \n",
       "\n",
       "       beginning_of_treatment_date family_history  smoking_status   bmi  \\\n",
       "0                       2016-09-16             No   Former Smoker  33.9   \n",
       "1                       2015-05-17            Yes    Never Smoked  40.4   \n",
       "2                       2020-03-08            Yes    Never Smoked  17.0   \n",
       "3                       2016-05-19             No  Passive Smoker  19.7   \n",
       "4                       2022-02-08            Yes  Current Smoker  16.9   \n",
       "...                            ...            ...             ...   ...   \n",
       "899995                  2023-12-14            Yes  Passive Smoker  35.2   \n",
       "899996                  2023-06-30             No    Never Smoked  40.4   \n",
       "899997                  2021-06-05            Yes   Former Smoker  23.7   \n",
       "899998                  2018-12-27             No  Current Smoker  39.4   \n",
       "899999                  2014-11-17            Yes   Former Smoker  23.6   \n",
       "\n",
       "        cholesterol_level  hypertension  asthma  cirrhosis  other_cancer  \\\n",
       "0                   274.0           1.0     1.0        0.0           0.0   \n",
       "1                   260.0           0.0     0.0        0.0           0.0   \n",
       "2                   169.0           1.0     1.0        0.0           1.0   \n",
       "3                   156.0           1.0     0.0        0.0           0.0   \n",
       "4                   235.0           0.0     0.0        0.0           0.0   \n",
       "...                   ...           ...     ...        ...           ...   \n",
       "899995              280.0           1.0     1.0        0.0           0.0   \n",
       "899996              272.0           1.0     0.0        0.0           0.0   \n",
       "899997              226.0           1.0     1.0        0.0           0.0   \n",
       "899998              266.0           1.0     1.0        0.0           0.0   \n",
       "899999              218.0           1.0     1.0        0.0           0.0   \n",
       "\n",
       "       treatment_type end_treatment_date  survived  \n",
       "0             Surgery         2018-06-17       0.0  \n",
       "1           Radiation         2016-08-27       0.0  \n",
       "2             Surgery         2021-06-09       0.0  \n",
       "3           Radiation         2017-06-15       0.0  \n",
       "4           Radiation         2022-08-12       0.0  \n",
       "...               ...                ...       ...  \n",
       "899995        Surgery         2025-04-25       0.0  \n",
       "899996        Surgery         2024-02-24       0.0  \n",
       "899997      Radiation         2023-01-07       0.0  \n",
       "899998   Chemotherapy         2019-11-06       0.0  \n",
       "899999        Surgery         2016-03-16       0.0  \n",
       "\n",
       "[900000 rows x 18 columns]"
      ]
     },
     "execution_count": 3,
     "metadata": {},
     "output_type": "execute_result"
    }
   ],
   "source": [
    "data"
   ]
  },
  {
   "cell_type": "markdown",
   "id": "57e4e81a",
   "metadata": {},
   "source": [
    "## Data Preprocessing"
   ]
  },
  {
   "cell_type": "code",
   "execution_count": 4,
   "id": "41d47e21",
   "metadata": {},
   "outputs": [
    {
     "name": "stdout",
     "output_type": "stream",
     "text": [
      "<class 'pandas.core.frame.DataFrame'>\n",
      "Int64Index: 900000 entries, 0 to 899999\n",
      "Data columns (total 18 columns):\n",
      " #   Column                       Non-Null Count   Dtype  \n",
      "---  ------                       --------------   -----  \n",
      " 0   id                           900000 non-null  int64  \n",
      " 1   age                          899981 non-null  float64\n",
      " 2   gender                       899980 non-null  object \n",
      " 3   country                      899988 non-null  object \n",
      " 4   diagnosis_date               899980 non-null  object \n",
      " 5   cancer_stage                 899989 non-null  object \n",
      " 6   beginning_of_treatment_date  899983 non-null  object \n",
      " 7   family_history               899979 non-null  object \n",
      " 8   smoking_status               899985 non-null  object \n",
      " 9   bmi                          899988 non-null  float64\n",
      " 10  cholesterol_level            899972 non-null  float64\n",
      " 11  hypertension                 899979 non-null  float64\n",
      " 12  asthma                       899981 non-null  float64\n",
      " 13  cirrhosis                    899977 non-null  float64\n",
      " 14  other_cancer                 899982 non-null  float64\n",
      " 15  treatment_type               899990 non-null  object \n",
      " 16  end_treatment_date           899988 non-null  object \n",
      " 17  survived                     899978 non-null  float64\n",
      "dtypes: float64(8), int64(1), object(9)\n",
      "memory usage: 130.5+ MB\n"
     ]
    }
   ],
   "source": [
    "data.info()"
   ]
  },
  {
   "cell_type": "code",
   "execution_count": 5,
   "id": "c1310f69",
   "metadata": {},
   "outputs": [
    {
     "data": {
      "text/plain": [
       "id                              0\n",
       "age                            19\n",
       "gender                         20\n",
       "country                        12\n",
       "diagnosis_date                 20\n",
       "cancer_stage                   11\n",
       "beginning_of_treatment_date    17\n",
       "family_history                 21\n",
       "smoking_status                 15\n",
       "bmi                            12\n",
       "cholesterol_level              28\n",
       "hypertension                   21\n",
       "asthma                         19\n",
       "cirrhosis                      23\n",
       "other_cancer                   18\n",
       "treatment_type                 10\n",
       "end_treatment_date             12\n",
       "survived                       22\n",
       "dtype: int64"
      ]
     },
     "execution_count": 5,
     "metadata": {},
     "output_type": "execute_result"
    }
   ],
   "source": [
    "data.isna().sum()"
   ]
  },
  {
   "cell_type": "code",
   "execution_count": 6,
   "id": "0ad27887",
   "metadata": {},
   "outputs": [],
   "source": [
    "data = data.dropna()"
   ]
  },
  {
   "cell_type": "code",
   "execution_count": 7,
   "id": "9e38cf03",
   "metadata": {},
   "outputs": [],
   "source": [
    "data.reset_index(drop=True, inplace=True)"
   ]
  },
  {
   "cell_type": "code",
   "execution_count": 8,
   "id": "73afa3ad",
   "metadata": {},
   "outputs": [
    {
     "data": {
      "text/plain": [
       "(899700, 18)"
      ]
     },
     "execution_count": 8,
     "metadata": {},
     "output_type": "execute_result"
    }
   ],
   "source": [
    "data.shape"
   ]
  },
  {
   "cell_type": "code",
   "execution_count": 9,
   "id": "f9fc11bc",
   "metadata": {},
   "outputs": [
    {
     "data": {
      "text/html": [
       "<div>\n",
       "<style scoped>\n",
       "    .dataframe tbody tr th:only-of-type {\n",
       "        vertical-align: middle;\n",
       "    }\n",
       "\n",
       "    .dataframe tbody tr th {\n",
       "        vertical-align: top;\n",
       "    }\n",
       "\n",
       "    .dataframe thead th {\n",
       "        text-align: right;\n",
       "    }\n",
       "</style>\n",
       "<table border=\"1\" class=\"dataframe\">\n",
       "  <thead>\n",
       "    <tr style=\"text-align: right;\">\n",
       "      <th></th>\n",
       "      <th>id</th>\n",
       "      <th>age</th>\n",
       "      <th>gender</th>\n",
       "      <th>country</th>\n",
       "      <th>diagnosis_date</th>\n",
       "      <th>cancer_stage</th>\n",
       "      <th>beginning_of_treatment_date</th>\n",
       "      <th>family_history</th>\n",
       "      <th>smoking_status</th>\n",
       "      <th>bmi</th>\n",
       "      <th>cholesterol_level</th>\n",
       "      <th>hypertension</th>\n",
       "      <th>asthma</th>\n",
       "      <th>cirrhosis</th>\n",
       "      <th>other_cancer</th>\n",
       "      <th>treatment_type</th>\n",
       "      <th>end_treatment_date</th>\n",
       "      <th>survived</th>\n",
       "    </tr>\n",
       "  </thead>\n",
       "  <tbody>\n",
       "    <tr>\n",
       "      <th>0</th>\n",
       "      <td>2233434</td>\n",
       "      <td>66.0</td>\n",
       "      <td>Male</td>\n",
       "      <td>Netherlands</td>\n",
       "      <td>2016-09-15</td>\n",
       "      <td>Stage IV</td>\n",
       "      <td>2016-09-16</td>\n",
       "      <td>No</td>\n",
       "      <td>Former Smoker</td>\n",
       "      <td>33.9</td>\n",
       "      <td>274.0</td>\n",
       "      <td>1.0</td>\n",
       "      <td>1.0</td>\n",
       "      <td>0.0</td>\n",
       "      <td>0.0</td>\n",
       "      <td>Surgery</td>\n",
       "      <td>2018-06-17</td>\n",
       "      <td>0.0</td>\n",
       "    </tr>\n",
       "    <tr>\n",
       "      <th>1</th>\n",
       "      <td>1888251</td>\n",
       "      <td>59.0</td>\n",
       "      <td>Male</td>\n",
       "      <td>Austria</td>\n",
       "      <td>2015-05-15</td>\n",
       "      <td>Stage IV</td>\n",
       "      <td>2015-05-17</td>\n",
       "      <td>Yes</td>\n",
       "      <td>Never Smoked</td>\n",
       "      <td>40.4</td>\n",
       "      <td>260.0</td>\n",
       "      <td>0.0</td>\n",
       "      <td>0.0</td>\n",
       "      <td>0.0</td>\n",
       "      <td>0.0</td>\n",
       "      <td>Radiation</td>\n",
       "      <td>2016-08-27</td>\n",
       "      <td>0.0</td>\n",
       "    </tr>\n",
       "    <tr>\n",
       "      <th>2</th>\n",
       "      <td>615363</td>\n",
       "      <td>67.0</td>\n",
       "      <td>Male</td>\n",
       "      <td>Czech Republic</td>\n",
       "      <td>2020-02-25</td>\n",
       "      <td>Stage III</td>\n",
       "      <td>2020-03-08</td>\n",
       "      <td>Yes</td>\n",
       "      <td>Never Smoked</td>\n",
       "      <td>17.0</td>\n",
       "      <td>169.0</td>\n",
       "      <td>1.0</td>\n",
       "      <td>1.0</td>\n",
       "      <td>0.0</td>\n",
       "      <td>1.0</td>\n",
       "      <td>Surgery</td>\n",
       "      <td>2021-06-09</td>\n",
       "      <td>0.0</td>\n",
       "    </tr>\n",
       "    <tr>\n",
       "      <th>3</th>\n",
       "      <td>2028257</td>\n",
       "      <td>42.0</td>\n",
       "      <td>Female</td>\n",
       "      <td>Sweden</td>\n",
       "      <td>2016-05-18</td>\n",
       "      <td>Stage IV</td>\n",
       "      <td>2016-05-19</td>\n",
       "      <td>No</td>\n",
       "      <td>Passive Smoker</td>\n",
       "      <td>19.7</td>\n",
       "      <td>156.0</td>\n",
       "      <td>1.0</td>\n",
       "      <td>0.0</td>\n",
       "      <td>0.0</td>\n",
       "      <td>0.0</td>\n",
       "      <td>Radiation</td>\n",
       "      <td>2017-06-15</td>\n",
       "      <td>0.0</td>\n",
       "    </tr>\n",
       "    <tr>\n",
       "      <th>4</th>\n",
       "      <td>2295973</td>\n",
       "      <td>63.0</td>\n",
       "      <td>Female</td>\n",
       "      <td>Ireland</td>\n",
       "      <td>2022-02-02</td>\n",
       "      <td>Stage III</td>\n",
       "      <td>2022-02-08</td>\n",
       "      <td>Yes</td>\n",
       "      <td>Current Smoker</td>\n",
       "      <td>16.9</td>\n",
       "      <td>235.0</td>\n",
       "      <td>0.0</td>\n",
       "      <td>0.0</td>\n",
       "      <td>0.0</td>\n",
       "      <td>0.0</td>\n",
       "      <td>Radiation</td>\n",
       "      <td>2022-08-12</td>\n",
       "      <td>0.0</td>\n",
       "    </tr>\n",
       "    <tr>\n",
       "      <th>...</th>\n",
       "      <td>...</td>\n",
       "      <td>...</td>\n",
       "      <td>...</td>\n",
       "      <td>...</td>\n",
       "      <td>...</td>\n",
       "      <td>...</td>\n",
       "      <td>...</td>\n",
       "      <td>...</td>\n",
       "      <td>...</td>\n",
       "      <td>...</td>\n",
       "      <td>...</td>\n",
       "      <td>...</td>\n",
       "      <td>...</td>\n",
       "      <td>...</td>\n",
       "      <td>...</td>\n",
       "      <td>...</td>\n",
       "      <td>...</td>\n",
       "      <td>...</td>\n",
       "    </tr>\n",
       "    <tr>\n",
       "      <th>899695</th>\n",
       "      <td>2497466</td>\n",
       "      <td>53.0</td>\n",
       "      <td>Female</td>\n",
       "      <td>Romania</td>\n",
       "      <td>2023-11-30</td>\n",
       "      <td>Stage II</td>\n",
       "      <td>2023-12-14</td>\n",
       "      <td>Yes</td>\n",
       "      <td>Passive Smoker</td>\n",
       "      <td>35.2</td>\n",
       "      <td>280.0</td>\n",
       "      <td>1.0</td>\n",
       "      <td>1.0</td>\n",
       "      <td>0.0</td>\n",
       "      <td>0.0</td>\n",
       "      <td>Surgery</td>\n",
       "      <td>2025-04-25</td>\n",
       "      <td>0.0</td>\n",
       "    </tr>\n",
       "    <tr>\n",
       "      <th>899696</th>\n",
       "      <td>2949365</td>\n",
       "      <td>51.0</td>\n",
       "      <td>Female</td>\n",
       "      <td>Ireland</td>\n",
       "      <td>2023-06-25</td>\n",
       "      <td>Stage III</td>\n",
       "      <td>2023-06-30</td>\n",
       "      <td>No</td>\n",
       "      <td>Never Smoked</td>\n",
       "      <td>40.4</td>\n",
       "      <td>272.0</td>\n",
       "      <td>1.0</td>\n",
       "      <td>0.0</td>\n",
       "      <td>0.0</td>\n",
       "      <td>0.0</td>\n",
       "      <td>Surgery</td>\n",
       "      <td>2024-02-24</td>\n",
       "      <td>0.0</td>\n",
       "    </tr>\n",
       "    <tr>\n",
       "      <th>899697</th>\n",
       "      <td>2934633</td>\n",
       "      <td>54.0</td>\n",
       "      <td>Female</td>\n",
       "      <td>Sweden</td>\n",
       "      <td>2021-06-02</td>\n",
       "      <td>Stage III</td>\n",
       "      <td>2021-06-05</td>\n",
       "      <td>Yes</td>\n",
       "      <td>Former Smoker</td>\n",
       "      <td>23.7</td>\n",
       "      <td>226.0</td>\n",
       "      <td>1.0</td>\n",
       "      <td>1.0</td>\n",
       "      <td>0.0</td>\n",
       "      <td>0.0</td>\n",
       "      <td>Radiation</td>\n",
       "      <td>2023-01-07</td>\n",
       "      <td>0.0</td>\n",
       "    </tr>\n",
       "    <tr>\n",
       "      <th>899698</th>\n",
       "      <td>1741195</td>\n",
       "      <td>58.0</td>\n",
       "      <td>Female</td>\n",
       "      <td>Slovakia</td>\n",
       "      <td>2018-12-24</td>\n",
       "      <td>Stage IV</td>\n",
       "      <td>2018-12-27</td>\n",
       "      <td>No</td>\n",
       "      <td>Current Smoker</td>\n",
       "      <td>39.4</td>\n",
       "      <td>266.0</td>\n",
       "      <td>1.0</td>\n",
       "      <td>1.0</td>\n",
       "      <td>0.0</td>\n",
       "      <td>0.0</td>\n",
       "      <td>Chemotherapy</td>\n",
       "      <td>2019-11-06</td>\n",
       "      <td>0.0</td>\n",
       "    </tr>\n",
       "    <tr>\n",
       "      <th>899699</th>\n",
       "      <td>833314</td>\n",
       "      <td>57.0</td>\n",
       "      <td>Female</td>\n",
       "      <td>Netherlands</td>\n",
       "      <td>2014-11-09</td>\n",
       "      <td>Stage II</td>\n",
       "      <td>2014-11-17</td>\n",
       "      <td>Yes</td>\n",
       "      <td>Former Smoker</td>\n",
       "      <td>23.6</td>\n",
       "      <td>218.0</td>\n",
       "      <td>1.0</td>\n",
       "      <td>1.0</td>\n",
       "      <td>0.0</td>\n",
       "      <td>0.0</td>\n",
       "      <td>Surgery</td>\n",
       "      <td>2016-03-16</td>\n",
       "      <td>0.0</td>\n",
       "    </tr>\n",
       "  </tbody>\n",
       "</table>\n",
       "<p>899700 rows × 18 columns</p>\n",
       "</div>"
      ],
      "text/plain": [
       "             id   age  gender         country diagnosis_date cancer_stage  \\\n",
       "0       2233434  66.0    Male     Netherlands     2016-09-15     Stage IV   \n",
       "1       1888251  59.0    Male         Austria     2015-05-15     Stage IV   \n",
       "2        615363  67.0    Male  Czech Republic     2020-02-25    Stage III   \n",
       "3       2028257  42.0  Female          Sweden     2016-05-18     Stage IV   \n",
       "4       2295973  63.0  Female         Ireland     2022-02-02    Stage III   \n",
       "...         ...   ...     ...             ...            ...          ...   \n",
       "899695  2497466  53.0  Female         Romania     2023-11-30     Stage II   \n",
       "899696  2949365  51.0  Female         Ireland     2023-06-25    Stage III   \n",
       "899697  2934633  54.0  Female          Sweden     2021-06-02    Stage III   \n",
       "899698  1741195  58.0  Female        Slovakia     2018-12-24     Stage IV   \n",
       "899699   833314  57.0  Female     Netherlands     2014-11-09     Stage II   \n",
       "\n",
       "       beginning_of_treatment_date family_history  smoking_status   bmi  \\\n",
       "0                       2016-09-16             No   Former Smoker  33.9   \n",
       "1                       2015-05-17            Yes    Never Smoked  40.4   \n",
       "2                       2020-03-08            Yes    Never Smoked  17.0   \n",
       "3                       2016-05-19             No  Passive Smoker  19.7   \n",
       "4                       2022-02-08            Yes  Current Smoker  16.9   \n",
       "...                            ...            ...             ...   ...   \n",
       "899695                  2023-12-14            Yes  Passive Smoker  35.2   \n",
       "899696                  2023-06-30             No    Never Smoked  40.4   \n",
       "899697                  2021-06-05            Yes   Former Smoker  23.7   \n",
       "899698                  2018-12-27             No  Current Smoker  39.4   \n",
       "899699                  2014-11-17            Yes   Former Smoker  23.6   \n",
       "\n",
       "        cholesterol_level  hypertension  asthma  cirrhosis  other_cancer  \\\n",
       "0                   274.0           1.0     1.0        0.0           0.0   \n",
       "1                   260.0           0.0     0.0        0.0           0.0   \n",
       "2                   169.0           1.0     1.0        0.0           1.0   \n",
       "3                   156.0           1.0     0.0        0.0           0.0   \n",
       "4                   235.0           0.0     0.0        0.0           0.0   \n",
       "...                   ...           ...     ...        ...           ...   \n",
       "899695              280.0           1.0     1.0        0.0           0.0   \n",
       "899696              272.0           1.0     0.0        0.0           0.0   \n",
       "899697              226.0           1.0     1.0        0.0           0.0   \n",
       "899698              266.0           1.0     1.0        0.0           0.0   \n",
       "899699              218.0           1.0     1.0        0.0           0.0   \n",
       "\n",
       "       treatment_type end_treatment_date  survived  \n",
       "0             Surgery         2018-06-17       0.0  \n",
       "1           Radiation         2016-08-27       0.0  \n",
       "2             Surgery         2021-06-09       0.0  \n",
       "3           Radiation         2017-06-15       0.0  \n",
       "4           Radiation         2022-08-12       0.0  \n",
       "...               ...                ...       ...  \n",
       "899695        Surgery         2025-04-25       0.0  \n",
       "899696        Surgery         2024-02-24       0.0  \n",
       "899697      Radiation         2023-01-07       0.0  \n",
       "899698   Chemotherapy         2019-11-06       0.0  \n",
       "899699        Surgery         2016-03-16       0.0  \n",
       "\n",
       "[899700 rows x 18 columns]"
      ]
     },
     "execution_count": 9,
     "metadata": {},
     "output_type": "execute_result"
    }
   ],
   "source": [
    "data"
   ]
  },
  {
   "cell_type": "markdown",
   "id": "a8cbb3e9",
   "metadata": {},
   "source": [
    "## Data Visualization (EDA):"
   ]
  },
  {
   "cell_type": "code",
   "execution_count": 10,
   "id": "c484ab0a",
   "metadata": {},
   "outputs": [
    {
     "data": {
      "text/html": [
       "<div>\n",
       "<style scoped>\n",
       "    .dataframe tbody tr th:only-of-type {\n",
       "        vertical-align: middle;\n",
       "    }\n",
       "\n",
       "    .dataframe tbody tr th {\n",
       "        vertical-align: top;\n",
       "    }\n",
       "\n",
       "    .dataframe thead th {\n",
       "        text-align: right;\n",
       "    }\n",
       "</style>\n",
       "<table border=\"1\" class=\"dataframe\">\n",
       "  <thead>\n",
       "    <tr style=\"text-align: right;\">\n",
       "      <th></th>\n",
       "      <th>id</th>\n",
       "      <th>age</th>\n",
       "      <th>bmi</th>\n",
       "      <th>cholesterol_level</th>\n",
       "      <th>hypertension</th>\n",
       "      <th>asthma</th>\n",
       "      <th>cirrhosis</th>\n",
       "      <th>other_cancer</th>\n",
       "      <th>survived</th>\n",
       "    </tr>\n",
       "  </thead>\n",
       "  <tbody>\n",
       "    <tr>\n",
       "      <th>count</th>\n",
       "      <td>8.997000e+05</td>\n",
       "      <td>899700.000000</td>\n",
       "      <td>899700.000000</td>\n",
       "      <td>899700.000000</td>\n",
       "      <td>899700.000000</td>\n",
       "      <td>899700.000000</td>\n",
       "      <td>899700.000000</td>\n",
       "      <td>899700.000000</td>\n",
       "      <td>899700.000000</td>\n",
       "    </tr>\n",
       "    <tr>\n",
       "      <th>mean</th>\n",
       "      <td>1.624018e+06</td>\n",
       "      <td>55.016980</td>\n",
       "      <td>30.493156</td>\n",
       "      <td>233.652217</td>\n",
       "      <td>0.749559</td>\n",
       "      <td>0.469306</td>\n",
       "      <td>0.226878</td>\n",
       "      <td>0.087874</td>\n",
       "      <td>0.220313</td>\n",
       "    </tr>\n",
       "    <tr>\n",
       "      <th>std</th>\n",
       "      <td>9.383231e+05</td>\n",
       "      <td>10.004356</td>\n",
       "      <td>8.372024</td>\n",
       "      <td>43.446669</td>\n",
       "      <td>0.433267</td>\n",
       "      <td>0.499057</td>\n",
       "      <td>0.418813</td>\n",
       "      <td>0.283111</td>\n",
       "      <td>0.414458</td>\n",
       "    </tr>\n",
       "    <tr>\n",
       "      <th>min</th>\n",
       "      <td>5.000000e+00</td>\n",
       "      <td>4.000000</td>\n",
       "      <td>16.000000</td>\n",
       "      <td>150.000000</td>\n",
       "      <td>0.000000</td>\n",
       "      <td>0.000000</td>\n",
       "      <td>0.000000</td>\n",
       "      <td>0.000000</td>\n",
       "      <td>0.000000</td>\n",
       "    </tr>\n",
       "    <tr>\n",
       "      <th>25%</th>\n",
       "      <td>8.113562e+05</td>\n",
       "      <td>48.000000</td>\n",
       "      <td>23.200000</td>\n",
       "      <td>196.000000</td>\n",
       "      <td>0.000000</td>\n",
       "      <td>0.000000</td>\n",
       "      <td>0.000000</td>\n",
       "      <td>0.000000</td>\n",
       "      <td>0.000000</td>\n",
       "    </tr>\n",
       "    <tr>\n",
       "      <th>50%</th>\n",
       "      <td>1.623956e+06</td>\n",
       "      <td>55.000000</td>\n",
       "      <td>30.500000</td>\n",
       "      <td>242.000000</td>\n",
       "      <td>1.000000</td>\n",
       "      <td>0.000000</td>\n",
       "      <td>0.000000</td>\n",
       "      <td>0.000000</td>\n",
       "      <td>0.000000</td>\n",
       "    </tr>\n",
       "    <tr>\n",
       "      <th>75%</th>\n",
       "      <td>2.437122e+06</td>\n",
       "      <td>62.000000</td>\n",
       "      <td>37.700000</td>\n",
       "      <td>271.000000</td>\n",
       "      <td>1.000000</td>\n",
       "      <td>1.000000</td>\n",
       "      <td>0.000000</td>\n",
       "      <td>0.000000</td>\n",
       "      <td>0.000000</td>\n",
       "    </tr>\n",
       "    <tr>\n",
       "      <th>max</th>\n",
       "      <td>3.250000e+06</td>\n",
       "      <td>101.000000</td>\n",
       "      <td>45.000000</td>\n",
       "      <td>300.000000</td>\n",
       "      <td>1.000000</td>\n",
       "      <td>1.000000</td>\n",
       "      <td>1.000000</td>\n",
       "      <td>1.000000</td>\n",
       "      <td>1.000000</td>\n",
       "    </tr>\n",
       "  </tbody>\n",
       "</table>\n",
       "</div>"
      ],
      "text/plain": [
       "                 id            age            bmi  cholesterol_level  \\\n",
       "count  8.997000e+05  899700.000000  899700.000000      899700.000000   \n",
       "mean   1.624018e+06      55.016980      30.493156         233.652217   \n",
       "std    9.383231e+05      10.004356       8.372024          43.446669   \n",
       "min    5.000000e+00       4.000000      16.000000         150.000000   \n",
       "25%    8.113562e+05      48.000000      23.200000         196.000000   \n",
       "50%    1.623956e+06      55.000000      30.500000         242.000000   \n",
       "75%    2.437122e+06      62.000000      37.700000         271.000000   \n",
       "max    3.250000e+06     101.000000      45.000000         300.000000   \n",
       "\n",
       "        hypertension         asthma      cirrhosis   other_cancer  \\\n",
       "count  899700.000000  899700.000000  899700.000000  899700.000000   \n",
       "mean        0.749559       0.469306       0.226878       0.087874   \n",
       "std         0.433267       0.499057       0.418813       0.283111   \n",
       "min         0.000000       0.000000       0.000000       0.000000   \n",
       "25%         0.000000       0.000000       0.000000       0.000000   \n",
       "50%         1.000000       0.000000       0.000000       0.000000   \n",
       "75%         1.000000       1.000000       0.000000       0.000000   \n",
       "max         1.000000       1.000000       1.000000       1.000000   \n",
       "\n",
       "            survived  \n",
       "count  899700.000000  \n",
       "mean        0.220313  \n",
       "std         0.414458  \n",
       "min         0.000000  \n",
       "25%         0.000000  \n",
       "50%         0.000000  \n",
       "75%         0.000000  \n",
       "max         1.000000  "
      ]
     },
     "execution_count": 10,
     "metadata": {},
     "output_type": "execute_result"
    }
   ],
   "source": [
    "data.describe()"
   ]
  },
  {
   "cell_type": "code",
   "execution_count": 11,
   "id": "690cb471",
   "metadata": {},
   "outputs": [
    {
     "data": {
      "image/png": "[encoded data removed]",
      "text/plain": [
       "<Figure size 640x480 with 1 Axes>"
      ]
     },
     "metadata": {},
     "output_type": "display_data"
    }
   ],
   "source": [
    "sns.countplot(x='survived', data=data);"
   ]
  },
  {
   "cell_type": "code",
   "execution_count": 12,
   "id": "8f53fd0f",
   "metadata": {},
   "outputs": [
    {
     "data": {
      "image/png": "[encoded data removed]",
      "text/plain": [
       "<Figure size 640x480 with 1 Axes>"
      ]
     },
     "metadata": {},
     "output_type": "display_data"
    }
   ],
   "source": [
    "sns.countplot(x='survived', data=data, hue='asthma');"
   ]
  },
  {
   "cell_type": "code",
   "execution_count": 13,
   "id": "296dbfa1",
   "metadata": {},
   "outputs": [
    {
     "data": {
      "text/plain": [
       "(27,)"
      ]
     },
     "execution_count": 13,
     "metadata": {},
     "output_type": "execute_result"
    }
   ],
   "source": [
    "data['country'].unique().shape"
   ]
  },
  {
   "cell_type": "code",
   "execution_count": 14,
   "id": "2cec1fb6",
   "metadata": {},
   "outputs": [
    {
     "data": {
      "text/plain": [
       "Italy             33606\n",
       "Latvia            33556\n",
       "Lithuania         33504\n",
       "Denmark           33494\n",
       "Austria           33481\n",
       "Slovakia          33443\n",
       "Poland            33418\n",
       "Ireland           33378\n",
       "Luxembourg        33374\n",
       "Czech Republic    33371\n",
       "Belgium           33336\n",
       "Cyprus            33336\n",
       "Greece            33335\n",
       "Sweden            33330\n",
       "Slovenia          33315\n",
       "Germany           33312\n",
       "Romania           33276\n",
       "Estonia           33273\n",
       "Bulgaria          33269\n",
       "Spain             33261\n",
       "Portugal          33250\n",
       "Malta             33241\n",
       "Croatia           33222\n",
       "Hungary           33221\n",
       "France            33115\n",
       "Finland           33050\n",
       "Netherlands       32933\n",
       "Name: country, dtype: int64"
      ]
     },
     "execution_count": 14,
     "metadata": {},
     "output_type": "execute_result"
    }
   ],
   "source": [
    "data['country'].value_counts()"
   ]
  },
  {
   "cell_type": "code",
   "execution_count": 15,
   "id": "12265a60",
   "metadata": {},
   "outputs": [
    {
     "data": {
      "text/plain": [
       "country\n",
       "Austria           0.226337\n",
       "Belgium           0.218053\n",
       "Bulgaria          0.225074\n",
       "Croatia           0.215219\n",
       "Cyprus            0.222282\n",
       "Czech Republic    0.218124\n",
       "Denmark           0.222816\n",
       "Estonia           0.221711\n",
       "Finland           0.221876\n",
       "France            0.217666\n",
       "Germany           0.220971\n",
       "Greece            0.220459\n",
       "Hungary           0.221818\n",
       "Ireland           0.217748\n",
       "Italy             0.215319\n",
       "Latvia            0.223209\n",
       "Lithuania         0.222332\n",
       "Luxembourg        0.218703\n",
       "Malta             0.216630\n",
       "Netherlands       0.221359\n",
       "Poland            0.217787\n",
       "Portugal          0.219789\n",
       "Romania           0.219708\n",
       "Slovakia          0.220106\n",
       "Slovenia          0.219331\n",
       "Spain             0.220078\n",
       "Sweden            0.223942\n",
       "Name: survived, dtype: float64"
      ]
     },
     "execution_count": 15,
     "metadata": {},
     "output_type": "execute_result"
    }
   ],
   "source": [
    "data.groupby(by='country')['survived'].mean()"
   ]
  },
  {
   "cell_type": "code",
   "execution_count": 16,
   "id": "32fafd59",
   "metadata": {},
   "outputs": [
    {
     "data": {
      "text/plain": [
       "gender  country       \n",
       "Female  Austria           30.424335\n",
       "        Belgium           30.448357\n",
       "        Bulgaria          30.493618\n",
       "        Croatia           30.481082\n",
       "        Cyprus            30.519377\n",
       "        Czech Republic    30.505176\n",
       "        Denmark           30.437095\n",
       "        Estonia           30.425396\n",
       "        Finland           30.418760\n",
       "        France            30.575573\n",
       "        Germany           30.474884\n",
       "        Greece            30.437041\n",
       "        Hungary           30.531167\n",
       "        Ireland           30.402502\n",
       "        Italy             30.471864\n",
       "        Latvia            30.480008\n",
       "        Lithuania         30.449048\n",
       "        Luxembourg        30.594493\n",
       "        Malta             30.544183\n",
       "        Netherlands       30.392431\n",
       "        Poland            30.478771\n",
       "        Portugal          30.496011\n",
       "        Romania           30.371328\n",
       "        Slovakia          30.550093\n",
       "        Slovenia          30.617160\n",
       "        Spain             30.573182\n",
       "        Sweden            30.467158\n",
       "Male    Austria           30.396026\n",
       "        Belgium           30.534153\n",
       "        Bulgaria          30.498128\n",
       "        Croatia           30.535418\n",
       "        Cyprus            30.516099\n",
       "        Czech Republic    30.422067\n",
       "        Denmark           30.502673\n",
       "        Estonia           30.459608\n",
       "        Finland           30.506998\n",
       "        France            30.465566\n",
       "        Germany           30.491469\n",
       "        Greece            30.465787\n",
       "        Hungary           30.523644\n",
       "        Ireland           30.525479\n",
       "        Italy             30.670664\n",
       "        Latvia            30.387795\n",
       "        Lithuania         30.490481\n",
       "        Luxembourg        30.558403\n",
       "        Malta             30.509360\n",
       "        Netherlands       30.467357\n",
       "        Poland            30.556623\n",
       "        Portugal          30.520860\n",
       "        Romania           30.397251\n",
       "        Slovakia          30.477439\n",
       "        Slovenia          30.569324\n",
       "        Spain             30.540874\n",
       "        Sweden            30.579998\n",
       "Name: bmi, dtype: float64"
      ]
     },
     "execution_count": 16,
     "metadata": {},
     "output_type": "execute_result"
    }
   ],
   "source": [
    "data.groupby(by=['gender', 'country'])['bmi'].mean()"
   ]
  },
  {
   "cell_type": "code",
   "execution_count": 17,
   "id": "65ea842c",
   "metadata": {},
   "outputs": [
    {
     "data": {
      "text/plain": [
       "country\n",
       "Austria           54.921478\n",
       "Belgium           55.025048\n",
       "Bulgaria          55.015660\n",
       "Croatia           55.115315\n",
       "Cyprus            55.043257\n",
       "Czech Republic    55.081628\n",
       "Denmark           55.011524\n",
       "Estonia           55.015959\n",
       "Finland           55.069198\n",
       "France            54.959022\n",
       "Germany           54.964247\n",
       "Greece            55.033208\n",
       "Hungary           54.989043\n",
       "Ireland           55.021451\n",
       "Italy             55.013688\n",
       "Latvia            54.983609\n",
       "Lithuania         55.053307\n",
       "Luxembourg        55.051927\n",
       "Malta             54.980175\n",
       "Netherlands       55.063401\n",
       "Poland            55.016518\n",
       "Portugal          55.069534\n",
       "Romania           55.030803\n",
       "Slovakia          54.902401\n",
       "Slovenia          55.020711\n",
       "Spain             54.992393\n",
       "Sweden            55.015542\n",
       "Name: age, dtype: float64"
      ]
     },
     "execution_count": 17,
     "metadata": {},
     "output_type": "execute_result"
    }
   ],
   "source": [
    "data.groupby(by='country')['age'].mean()"
   ]
  },
  {
   "cell_type": "code",
   "execution_count": 18,
   "id": "a8b306ba",
   "metadata": {},
   "outputs": [
    {
     "data": {
      "image/png": "[encoded data removed]",
      "text/plain": [
       "<Figure size 640x480 with 2 Axes>"
      ]
     },
     "metadata": {},
     "output_type": "display_data"
    }
   ],
   "source": [
    "df = data.drop(columns=['id']).corr(numeric_only=True)\n",
    "sns.heatmap(df);"
   ]
  },
  {
   "cell_type": "code",
   "execution_count": 19,
   "id": "9df8d799",
   "metadata": {},
   "outputs": [
    {
     "data": {
      "text/plain": [
       "Former Smoker     225215\n",
       "Passive Smoker    225183\n",
       "Current Smoker    224719\n",
       "Never Smoked      224583\n",
       "Name: smoking_status, dtype: int64"
      ]
     },
     "execution_count": 19,
     "metadata": {},
     "output_type": "execute_result"
    }
   ],
   "source": [
    "data['smoking_status'].value_counts()"
   ]
  },
  {
   "cell_type": "code",
   "execution_count": 20,
   "id": "9e164aad",
   "metadata": {},
   "outputs": [
    {
     "data": {
      "image/png": "[encoded data removed]",
      "text/plain": [
       "<Figure size 1200x500 with 2 Axes>"
      ]
     },
     "metadata": {},
     "output_type": "display_data"
    }
   ],
   "source": [
    "# grid spec or add_subplot\n",
    "\n",
    "plt.figure(figsize=(12, 5))\n",
    "plt.subplot(121)\n",
    "plt.title('Effect of smoking')\n",
    "sns.countplot(x='survived', data=data, \n",
    "              hue='smoking_status');\n",
    "\n",
    "plt.subplot(122)\n",
    "plt.title('Effect of cancer stage')\n",
    "sns.countplot(x='survived', data=data, \n",
    "              hue='cancer_stage');"
   ]
  },
  {
   "cell_type": "code",
   "execution_count": 21,
   "id": "b44132ad",
   "metadata": {},
   "outputs": [
    {
     "data": {
      "text/plain": [
       "Chemotherapy    0.250336\n",
       "Combined        0.250242\n",
       "Surgery         0.250132\n",
       "Radiation       0.249290\n",
       "Name: treatment_type, dtype: float64"
      ]
     },
     "execution_count": 21,
     "metadata": {},
     "output_type": "execute_result"
    }
   ],
   "source": [
    "data['treatment_type'].value_counts()/data.shape[0]"
   ]
  },
  {
   "cell_type": "code",
   "execution_count": 22,
   "id": "8235545e",
   "metadata": {
    "scrolled": true
   },
   "outputs": [
    {
     "data": {
      "text/plain": [
       "treatment_type\n",
       "Chemotherapy    0.220609\n",
       "Combined        0.220260\n",
       "Radiation       0.220375\n",
       "Surgery         0.220010\n",
       "Name: survived, dtype: float64"
      ]
     },
     "execution_count": 22,
     "metadata": {},
     "output_type": "execute_result"
    }
   ],
   "source": [
    "data.groupby(by='treatment_type')['survived'].mean()"
   ]
  },
  {
   "cell_type": "code",
   "execution_count": 23,
   "id": "ed409b7e",
   "metadata": {},
   "outputs": [
    {
     "data": {
      "text/plain": [
       "0         2016-09-15\n",
       "1         2015-05-15\n",
       "2         2020-02-25\n",
       "3         2016-05-18\n",
       "4         2022-02-02\n",
       "             ...    \n",
       "899695    2023-11-30\n",
       "899696    2023-06-25\n",
       "899697    2021-06-02\n",
       "899698    2018-12-24\n",
       "899699    2014-11-09\n",
       "Name: diagnosis_date, Length: 899700, dtype: object"
      ]
     },
     "execution_count": 23,
     "metadata": {},
     "output_type": "execute_result"
    }
   ],
   "source": [
    "data['diagnosis_date']"
   ]
  },
  {
   "cell_type": "code",
   "execution_count": 24,
   "id": "1d4cbd13",
   "metadata": {},
   "outputs": [],
   "source": [
    "# start_year = []\n",
    "# start_month = []\n",
    "# start_day = []\n",
    "# for e in data['diagnosis_date'].str.split('-'):\n",
    "#     start_year.append(int(e[0]))\n",
    "#     start_month.append(int(e[1]))\n",
    "#     start_day.append(int(e[2]))"
   ]
  },
  {
   "cell_type": "code",
   "execution_count": 25,
   "id": "bf9bb55e",
   "metadata": {},
   "outputs": [],
   "source": [
    "start = pd.to_datetime(data['diagnosis_date']) \n",
    "end = pd.to_datetime(data['end_treatment_date']) "
   ]
  },
  {
   "cell_type": "code",
   "execution_count": 26,
   "id": "33814413",
   "metadata": {},
   "outputs": [
    {
     "name": "stderr",
     "output_type": "stream",
     "text": [
      "/var/folders/n_/r9yj_2js1418_tccsyp_f6s80000gn/T/ipykernel_58768/2886516544.py:1: SettingWithCopyWarning: \n",
      "A value is trying to be set on a copy of a slice from a DataFrame.\n",
      "Try using .loc[row_indexer,col_indexer] = value instead\n",
      "\n",
      "See the caveats in the documentation: https://pandas.pydata.org/pandas-docs/stable/user_guide/indexing.html#returning-a-view-versus-a-copy\n",
      "  data['duration'] = end-start\n"
     ]
    }
   ],
   "source": [
    "data['duration'] = end-start"
   ]
  },
  {
   "cell_type": "code",
   "execution_count": 31,
   "id": "25feae39",
   "metadata": {},
   "outputs": [],
   "source": [
    "Days = []\n",
    "for i in range(data.shape[0]):\n",
    "    Days.append((end[i] - start[i]).days)"
   ]
  },
  {
   "cell_type": "code",
   "execution_count": 32,
   "id": "04ade62c",
   "metadata": {},
   "outputs": [
    {
     "name": "stderr",
     "output_type": "stream",
     "text": [
      "/var/folders/n_/r9yj_2js1418_tccsyp_f6s80000gn/T/ipykernel_58768/2093555190.py:1: SettingWithCopyWarning: \n",
      "A value is trying to be set on a copy of a slice from a DataFrame.\n",
      "Try using .loc[row_indexer,col_indexer] = value instead\n",
      "\n",
      "See the caveats in the documentation: https://pandas.pydata.org/pandas-docs/stable/user_guide/indexing.html#returning-a-view-versus-a-copy\n",
      "  data['Days'] = Days\n"
     ]
    }
   ],
   "source": [
    "data['Days'] = Days"
   ]
  },
  {
   "cell_type": "code",
   "execution_count": 36,
   "id": "9ee299a2",
   "metadata": {},
   "outputs": [
    {
     "data": {
      "text/plain": [
       "<AxesSubplot: xlabel='Days', ylabel='Density'>"
      ]
     },
     "execution_count": 36,
     "metadata": {},
     "output_type": "execute_result"
    },
    {
     "data": {
      "image/png": "[encoded data removed]",
      "text/plain": [
       "<Figure size 640x480 with 1 Axes>"
      ]
     },
     "metadata": {},
     "output_type": "display_data"
    }
   ],
   "source": [
    "sns.kdeplot(x='Days', data=data, hue='survived')"
   ]
  },
  {
   "cell_type": "code",
   "execution_count": 38,
   "id": "6908e02e",
   "metadata": {},
   "outputs": [
    {
     "data": {
      "image/png": "[encoded data removed]",
      "text/plain": [
       "<Figure size 640x480 with 1 Axes>"
      ]
     },
     "metadata": {},
     "output_type": "display_data"
    }
   ],
   "source": [
    "sns.kdeplot(x='age', data=data);"
   ]
  },
  {
   "cell_type": "code",
   "execution_count": null,
   "id": "bc146abf",
   "metadata": {},
   "outputs": [
    {
     "data": {
      "text/plain": [
       "<seaborn.axisgrid.PairGrid at 0x3341886d0>"
      ]
     },
     "execution_count": 39,
     "metadata": {},
     "output_type": "execute_result"
    }
   ],
   "source": [
    "sns.pairplot(data=data)"
   ]
  },
  {
   "cell_type": "code",
   "execution_count": null,
   "id": "e6cfcf5c",
   "metadata": {},
   "outputs": [],
   "source": []
  }
 ],
 "metadata": {
  "kernelspec": {
   "display_name": "Python 3 (ipykernel)",
   "language": "python",
   "name": "python3"
  },
  "language_info": {
   "codemirror_mode": {
    "name": "ipython",
    "version": 3
   },
   "file_extension": ".py",
   "mimetype": "text/x-python",
   "name": "python",
   "nbconvert_exporter": "python",
   "pygments_lexer": "ipython3",
   "version": "3.10.6"
  }
 },
 "nbformat": 4,
 "nbformat_minor": 5
}
