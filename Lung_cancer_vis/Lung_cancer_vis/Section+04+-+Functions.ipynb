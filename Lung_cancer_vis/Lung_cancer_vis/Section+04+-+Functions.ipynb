{
 "cells": [
  {
   "cell_type": "markdown",
   "id": "ea81c7ce",
   "metadata": {},
   "source": [
    "# Functions\n",
    "\n",
    "- Normal funcions\n",
    "\n",
    "- Anonymous function"
   ]
  },
  {
   "cell_type": "markdown",
   "id": "58dfaa0d",
   "metadata": {},
   "source": [
    "## Normal Functions"
   ]
  },
  {
   "cell_type": "code",
   "execution_count": 1,
   "id": "7f4ba8ba",
   "metadata": {},
   "outputs": [],
   "source": [
    "# def name(inputs):\n",
    "#     command1\n",
    "#     command2\n",
    "#     command3\n",
    "#     ...\n",
    "#     return sth"
   ]
  },
  {
   "cell_type": "code",
   "execution_count": 9,
   "id": "a5b3cecc",
   "metadata": {},
   "outputs": [],
   "source": [
    "def double(x):\n",
    "    return 2*x"
   ]
  },
  {
   "cell_type": "code",
   "execution_count": 10,
   "id": "bab14669",
   "metadata": {},
   "outputs": [],
   "source": [
    "a = double(5) + 5"
   ]
  },
  {
   "cell_type": "code",
   "execution_count": 12,
   "id": "a6ff2194",
   "metadata": {},
   "outputs": [
    {
     "data": {
      "text/plain": [
       "15"
      ]
     },
     "execution_count": 12,
     "metadata": {},
     "output_type": "execute_result"
    }
   ],
   "source": [
    "a"
   ]
  },
  {
   "cell_type": "code",
   "execution_count": 11,
   "id": "fc75c12d",
   "metadata": {},
   "outputs": [
    {
     "data": {
      "text/plain": [
       "6"
      ]
     },
     "execution_count": 11,
     "metadata": {},
     "output_type": "execute_result"
    }
   ],
   "source": [
    "double(3)"
   ]
  },
  {
   "cell_type": "code",
   "execution_count": 13,
   "id": "eb665454",
   "metadata": {},
   "outputs": [
    {
     "data": {
      "text/plain": [
       "'amiramir'"
      ]
     },
     "execution_count": 13,
     "metadata": {},
     "output_type": "execute_result"
    }
   ],
   "source": [
    "double('amir')"
   ]
  },
  {
   "cell_type": "code",
   "execution_count": 14,
   "id": "85fa21f5",
   "metadata": {},
   "outputs": [],
   "source": [
    "def add(x, y):\n",
    "    return x + y"
   ]
  },
  {
   "cell_type": "code",
   "execution_count": 15,
   "id": "2753c64b",
   "metadata": {},
   "outputs": [
    {
     "data": {
      "text/plain": [
       "8"
      ]
     },
     "execution_count": 15,
     "metadata": {},
     "output_type": "execute_result"
    }
   ],
   "source": [
    "add(3, 5)"
   ]
  },
  {
   "cell_type": "code",
   "execution_count": 17,
   "id": "98ae370a",
   "metadata": {},
   "outputs": [
    {
     "data": {
      "text/plain": [
       "'AmirHosein'"
      ]
     },
     "execution_count": 17,
     "metadata": {},
     "output_type": "execute_result"
    }
   ],
   "source": [
    "add('Amir', 'Hosein')"
   ]
  },
  {
   "cell_type": "code",
   "execution_count": 18,
   "id": "ac796c52",
   "metadata": {},
   "outputs": [],
   "source": [
    "def f(x, y):\n",
    "    s = x + y\n",
    "    m = x - y\n",
    "    return s, m "
   ]
  },
  {
   "cell_type": "code",
   "execution_count": 20,
   "id": "86c047d4",
   "metadata": {},
   "outputs": [],
   "source": [
    "a, b = f(5, 3)"
   ]
  },
  {
   "cell_type": "code",
   "execution_count": 21,
   "id": "0e45ce00",
   "metadata": {},
   "outputs": [
    {
     "data": {
      "text/plain": [
       "8"
      ]
     },
     "execution_count": 21,
     "metadata": {},
     "output_type": "execute_result"
    }
   ],
   "source": [
    "a"
   ]
  },
  {
   "cell_type": "code",
   "execution_count": 22,
   "id": "13bf7b1b",
   "metadata": {},
   "outputs": [
    {
     "data": {
      "text/plain": [
       "2"
      ]
     },
     "execution_count": 22,
     "metadata": {},
     "output_type": "execute_result"
    }
   ],
   "source": [
    "b"
   ]
  },
  {
   "cell_type": "code",
   "execution_count": 31,
   "id": "39b07724",
   "metadata": {},
   "outputs": [],
   "source": [
    "def minus(L):\n",
    "    L2 = []\n",
    "    for i in range(len(L)):\n",
    "        L2.append(-L[i])\n",
    "    return L2"
   ]
  },
  {
   "cell_type": "code",
   "execution_count": 36,
   "id": "3a4b1c71",
   "metadata": {},
   "outputs": [],
   "source": [
    "l = [1, 2, 3, 4, 5]\n",
    "l2 = minus(l)"
   ]
  },
  {
   "cell_type": "code",
   "execution_count": 35,
   "id": "517c6b73",
   "metadata": {},
   "outputs": [
    {
     "data": {
      "text/plain": [
       "[1, 2, 3, 4, 5]"
      ]
     },
     "execution_count": 35,
     "metadata": {},
     "output_type": "execute_result"
    }
   ],
   "source": [
    "l"
   ]
  },
  {
   "cell_type": "code",
   "execution_count": 37,
   "id": "05dc9af1",
   "metadata": {},
   "outputs": [
    {
     "data": {
      "text/plain": [
       "[-1, -2, -3, -4, -5]"
      ]
     },
     "execution_count": 37,
     "metadata": {},
     "output_type": "execute_result"
    }
   ],
   "source": [
    "l2"
   ]
  },
  {
   "cell_type": "code",
   "execution_count": 40,
   "id": "bfe8645e",
   "metadata": {},
   "outputs": [],
   "source": [
    "# 1, 1, 2, 3, 5, 8, 13, 21, 34, ...\n",
    "# Fibo(1) = 1, Fibo(2) = 1\n",
    "# Fibo(n) = Fibo(n-1) + Fibo(n-2)\n",
    "\n",
    "def Fibo(n):\n",
    "    if n == 1 or n == 2:\n",
    "        return 1\n",
    "    elif n > 2:\n",
    "        return Fibo(n - 1) + Fibo(n - 2)"
   ]
  },
  {
   "cell_type": "code",
   "execution_count": 41,
   "id": "906e8002",
   "metadata": {},
   "outputs": [
    {
     "data": {
      "text/plain": [
       "3"
      ]
     },
     "execution_count": 41,
     "metadata": {},
     "output_type": "execute_result"
    }
   ],
   "source": [
    "Fibo(4)\n",
    "\n",
    "# Fibo(4) --> Fibo(3) + Fibo(2)\n",
    "# Fibo(3) --> Fibo(2) + Fibo(1)\n",
    "# Fibo(2) --> 1\n",
    "# Fibo(1) --> 1\n",
    "# Fibo(2) --> 1"
   ]
  },
  {
   "cell_type": "code",
   "execution_count": 44,
   "id": "2f10c77a",
   "metadata": {},
   "outputs": [
    {
     "name": "stdout",
     "output_type": "stream",
     "text": [
      "[1, 1, 2]\n",
      "[1, 1, 2, 3]\n",
      "[1, 1, 2, 3, 5]\n",
      "[1, 1, 2, 3, 5, 8]\n",
      "[1, 1, 2, 3, 5, 8, 13]\n"
     ]
    }
   ],
   "source": [
    "F = [1, 1]\n",
    "\n",
    "for i in range(5):\n",
    "    F.append(F[-1] + F[-2])\n",
    "    print(F)\n",
    "    \n",
    "# print(F)"
   ]
  },
  {
   "cell_type": "markdown",
   "id": "61d8b521",
   "metadata": {},
   "source": [
    "# Exercise:\n",
    "\n",
    "implement is_palindomre function!\n",
    "\n",
    "example:\n",
    "\n",
    "1 --> True\n",
    "\n",
    "1111 ---> True\n",
    "\n",
    "1221 ---> True\n",
    "\n",
    "1231 ---> False\n",
    "\n",
    "34 ---> False"
   ]
  },
  {
   "cell_type": "code",
   "execution_count": 58,
   "id": "9829b832",
   "metadata": {},
   "outputs": [],
   "source": [
    "def is_palindorme(n):\n",
    "    s = str(n)\n",
    "    return s[:] == s[::-1]"
   ]
  },
  {
   "cell_type": "code",
   "execution_count": 59,
   "id": "d5ded9aa",
   "metadata": {},
   "outputs": [
    {
     "data": {
      "text/plain": [
       "False"
      ]
     },
     "execution_count": 59,
     "metadata": {},
     "output_type": "execute_result"
    }
   ],
   "source": [
    "is_palindorme(10)"
   ]
  },
  {
   "cell_type": "code",
   "execution_count": 60,
   "id": "536de46e",
   "metadata": {},
   "outputs": [
    {
     "data": {
      "text/plain": [
       "True"
      ]
     },
     "execution_count": 60,
     "metadata": {},
     "output_type": "execute_result"
    }
   ],
   "source": [
    "is_palindorme(121)"
   ]
  },
  {
   "cell_type": "code",
   "execution_count": 57,
   "id": "361f8917",
   "metadata": {},
   "outputs": [
    {
     "data": {
      "text/plain": [
       "'abcd'"
      ]
     },
     "execution_count": 57,
     "metadata": {},
     "output_type": "execute_result"
    }
   ],
   "source": [
    "s = 'abcd'\n",
    "\n",
    "s[:]"
   ]
  },
  {
   "cell_type": "markdown",
   "id": "d98c6eb9",
   "metadata": {},
   "source": [
    "# Lambda functions"
   ]
  },
  {
   "cell_type": "code",
   "execution_count": 19,
   "id": "f9a97191",
   "metadata": {},
   "outputs": [],
   "source": [
    "# lambda x:  command "
   ]
  },
  {
   "cell_type": "code",
   "execution_count": 61,
   "id": "e9c42dbf",
   "metadata": {},
   "outputs": [],
   "source": [
    "double = lambda x: 2*x"
   ]
  },
  {
   "cell_type": "code",
   "execution_count": 62,
   "id": "9a59fcb9",
   "metadata": {},
   "outputs": [
    {
     "data": {
      "text/plain": [
       "10"
      ]
     },
     "execution_count": 62,
     "metadata": {},
     "output_type": "execute_result"
    }
   ],
   "source": [
    "double(5)"
   ]
  },
  {
   "cell_type": "code",
   "execution_count": 63,
   "id": "cb180e32",
   "metadata": {},
   "outputs": [
    {
     "data": {
      "text/plain": [
       "20"
      ]
     },
     "execution_count": 63,
     "metadata": {},
     "output_type": "execute_result"
    }
   ],
   "source": [
    "double(10)"
   ]
  },
  {
   "cell_type": "code",
   "execution_count": 64,
   "id": "74019e6c",
   "metadata": {},
   "outputs": [],
   "source": [
    "add = lambda x, y: x+y"
   ]
  },
  {
   "cell_type": "code",
   "execution_count": 65,
   "id": "5a25772f",
   "metadata": {},
   "outputs": [
    {
     "data": {
      "text/plain": [
       "11"
      ]
     },
     "execution_count": 65,
     "metadata": {},
     "output_type": "execute_result"
    }
   ],
   "source": [
    "add(3, 8)"
   ]
  },
  {
   "cell_type": "markdown",
   "id": "b010ff91",
   "metadata": {},
   "source": [
    "$$fog(x) = f(g(x))$$"
   ]
  },
  {
   "cell_type": "code",
   "execution_count": 66,
   "id": "14f27d0a",
   "metadata": {},
   "outputs": [],
   "source": [
    "def fog(f, g, x):\n",
    "    return f(g(x))"
   ]
  },
  {
   "cell_type": "code",
   "execution_count": 67,
   "id": "5a0b5bf6",
   "metadata": {},
   "outputs": [
    {
     "data": {
      "text/plain": [
       "100"
      ]
     },
     "execution_count": 67,
     "metadata": {},
     "output_type": "execute_result"
    }
   ],
   "source": [
    "fog(lambda x: x**2,\n",
    "    lambda x: 2*x,\n",
    "    5)"
   ]
  },
  {
   "cell_type": "code",
   "execution_count": 69,
   "id": "17f57a0b",
   "metadata": {},
   "outputs": [
    {
     "data": {
      "text/plain": [
       "1"
      ]
     },
     "execution_count": 69,
     "metadata": {},
     "output_type": "execute_result"
    }
   ],
   "source": [
    "fog(lambda x: (-1)**x,\n",
    "    lambda x: x%2,\n",
    "    4)"
   ]
  },
  {
   "cell_type": "code",
   "execution_count": 71,
   "id": "ac23a3f8",
   "metadata": {},
   "outputs": [],
   "source": [
    "check_even = lambda x: 'Even' if x%2==0 else 'Odd'"
   ]
  },
  {
   "cell_type": "code",
   "execution_count": 73,
   "id": "6918a8e1",
   "metadata": {},
   "outputs": [
    {
     "data": {
      "text/plain": [
       "'Odd'"
      ]
     },
     "execution_count": 73,
     "metadata": {},
     "output_type": "execute_result"
    }
   ],
   "source": [
    "check_even(3)"
   ]
  },
  {
   "cell_type": "markdown",
   "id": "8bb8ab0f",
   "metadata": {},
   "source": [
    "# Try your self:\n",
    "\n",
    "def apply(L, f):\n",
    "\n",
    "in which L is a list, f is a function, and apply function f on all elements of L.\n",
    "\n",
    "L = 1, 2, 3, 4, 5\n",
    "\n",
    "f = lambda x: $x**2$\n",
    "\n",
    "output:\n",
    "\n",
    "1, 4, 9, 16, 25"
   ]
  },
  {
   "cell_type": "markdown",
   "id": "d6660154",
   "metadata": {},
   "source": [
    "## Python packages"
   ]
  },
  {
   "cell_type": "code",
   "execution_count": 87,
   "id": "bb4724da",
   "metadata": {},
   "outputs": [],
   "source": [
    "# import math\n",
    "import math as M\n",
    "from math import pi, log, sin\n",
    "from math import sin\n",
    "from math import *"
   ]
  },
  {
   "cell_type": "code",
   "execution_count": 83,
   "id": "8e48219e",
   "metadata": {},
   "outputs": [
    {
     "data": {
      "text/plain": [
       "2.302585092994046"
      ]
     },
     "execution_count": 83,
     "metadata": {},
     "output_type": "execute_result"
    }
   ],
   "source": [
    "math.log(10)"
   ]
  },
  {
   "cell_type": "code",
   "execution_count": 84,
   "id": "861b4f16",
   "metadata": {},
   "outputs": [
    {
     "data": {
      "text/plain": [
       "3.141592653589793"
      ]
     },
     "execution_count": 84,
     "metadata": {},
     "output_type": "execute_result"
    }
   ],
   "source": [
    "pi"
   ]
  },
  {
   "cell_type": "code",
   "execution_count": 81,
   "id": "32a94b9f",
   "metadata": {},
   "outputs": [
    {
     "data": {
      "text/plain": [
       "1.0"
      ]
     },
     "execution_count": 81,
     "metadata": {},
     "output_type": "execute_result"
    }
   ],
   "source": [
    "sin(pi/2)"
   ]
  },
  {
   "cell_type": "code",
   "execution_count": 90,
   "id": "fcb63c5c",
   "metadata": {},
   "outputs": [
    {
     "data": {
      "text/plain": [
       "6.123233995736766e-17"
      ]
     },
     "execution_count": 90,
     "metadata": {},
     "output_type": "execute_result"
    }
   ],
   "source": [
    "M.cos(M.pi/2)"
   ]
  },
  {
   "cell_type": "code",
   "execution_count": 88,
   "id": "cde7cb27",
   "metadata": {},
   "outputs": [
    {
     "data": {
      "text/plain": [
       "1.1752011936438014"
      ]
     },
     "execution_count": 88,
     "metadata": {},
     "output_type": "execute_result"
    }
   ],
   "source": [
    "sinh(1)"
   ]
  },
  {
   "cell_type": "code",
   "execution_count": 89,
   "id": "36dce266",
   "metadata": {},
   "outputs": [
    {
     "data": {
      "text/plain": [
       "1.0"
      ]
     },
     "execution_count": 89,
     "metadata": {},
     "output_type": "execute_result"
    }
   ],
   "source": [
    "log10(10)"
   ]
  },
  {
   "cell_type": "code",
   "execution_count": null,
   "id": "d333aa9c",
   "metadata": {},
   "outputs": [],
   "source": []
  }
 ],
 "metadata": {
  "kernelspec": {
   "display_name": "Python 3 (ipykernel)",
   "language": "python",
   "name": "python3"
  },
  "language_info": {
   "codemirror_mode": {
    "name": "ipython",
    "version": 3
   },
   "file_extension": ".py",
   "mimetype": "text/x-python",
   "name": "python",
   "nbconvert_exporter": "python",
   "pygments_lexer": "ipython3",
   "version": "3.10.6"
  }
 },
 "nbformat": 4,
 "nbformat_minor": 5
}
