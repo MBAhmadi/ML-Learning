{
 "cells": [
  {
   "cell_type": "code",
   "execution_count": 1,
   "id": "e2e6405c-25f6-4ca8-a037-b54629194271",
   "metadata": {},
   "outputs": [],
   "source": [
    "mytuple = (\"A\", \"B\", \"C\")"
   ]
  },
  {
   "cell_type": "code",
   "execution_count": 3,
   "id": "d4e0d081-50ff-43e5-983d-922b9ce7408b",
   "metadata": {},
   "outputs": [
    {
     "name": "stdout",
     "output_type": "stream",
     "text": [
      "('A', 'B', 'C')\n"
     ]
    }
   ],
   "source": [
    "print(mytuple)"
   ]
  },
  {
   "cell_type": "code",
   "execution_count": 5,
   "id": "d369d1cf-2ca0-476d-8638-bec1554cf8bc",
   "metadata": {},
   "outputs": [],
   "source": [
    "mytuple_2 = (\"C\", \"A\", \"B\", \"A\")"
   ]
  },
  {
   "cell_type": "code",
   "execution_count": 7,
   "id": "28a533b6-1211-4985-bc9f-e1e77df8481a",
   "metadata": {},
   "outputs": [
    {
     "name": "stdout",
     "output_type": "stream",
     "text": [
      "('C', 'A', 'B', 'A')\n"
     ]
    }
   ],
   "source": [
    "print(mytuple_2)"
   ]
  },
  {
   "cell_type": "code",
   "execution_count": 9,
   "id": "9d44aea8-4eab-440e-aff2-44af81c21503",
   "metadata": {},
   "outputs": [
    {
     "name": "stdout",
     "output_type": "stream",
     "text": [
      "('apple', 'banana', 'cherry', 'apple', 'cherry')\n"
     ]
    }
   ],
   "source": [
    "thistuple = (\"apple\", \"banana\", \"cherry\", \"apple\", \"cherry\")\n",
    "print(thistuple)"
   ]
  },
  {
   "cell_type": "code",
   "execution_count": 39,
   "id": "a4bfdf39-42ab-45f6-bae1-19c14b35611e",
   "metadata": {},
   "outputs": [
    {
     "name": "stdout",
     "output_type": "stream",
     "text": [
      "\n",
      " 3 \n",
      " 4 \n",
      " 5\n"
     ]
    }
   ],
   "source": [
    "print('\\n',len(mytuple),'\\n',len(mytuple_2),'\\n',len(thistuple))"
   ]
  },
  {
   "cell_type": "code",
   "execution_count": null,
   "id": "7292597f-70cd-4406-b10c-6f184caa7ff4",
   "metadata": {},
   "outputs": [],
   "source": []
  }
 ],
 "metadata": {
  "kernelspec": {
   "display_name": "Python 3 (ipykernel)",
   "language": "python",
   "name": "python3"
  },
  "language_info": {
   "codemirror_mode": {
    "name": "ipython",
    "version": 3
   },
   "file_extension": ".py",
   "mimetype": "text/x-python",
   "name": "python",
   "nbconvert_exporter": "python",
   "pygments_lexer": "ipython3",
   "version": "3.11.7"
  }
 },
 "nbformat": 4,
 "nbformat_minor": 5
}
