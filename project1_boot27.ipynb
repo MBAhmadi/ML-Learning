{
  "cells": [
    {
      "cell_type": "markdown",
      "metadata": {
        "id": "view-in-github",
        "colab_type": "text"
      },
      "source": [
        "<a href=\"https://colab.research.google.com/github/MBAhmadi/ML-Learning/blob/main/project1_boot27.ipynb\" target=\"_parent\"><img src=\"https://colab.research.google.com/assets/colab-badge.svg\" alt=\"Open In Colab\"/></a>"
      ]
    },
    {
      "cell_type": "markdown",
      "metadata": {
        "id": "aa9MJQXSAQTR"
      },
      "source": [
        "# Problem 1: Basic Printing and Data Types"
      ]
    },
    {
      "cell_type": "markdown",
      "metadata": {
        "id": "21wWKe5-AQTS"
      },
      "source": [
        "1. Write a Python program that prints the following text:\n",
        "    - Hello, World!\n",
        "    - Python programming is fun!\n",
        "2. Write a Python program that creates the following variables and prints their types:\n",
        "    - A string variable with your name\n",
        "    - An integer variable with your age\n",
        "    - A float variable with your height\n",
        "    - A boolean variable indicating if you are a student"
      ]
    },
    {
      "cell_type": "markdown",
      "source": [
        "**Solving the problem 1.1**"
      ],
      "metadata": {
        "id": "uN6d_FH9OTpy"
      }
    },
    {
      "cell_type": "code",
      "execution_count": 1,
      "metadata": {
        "id": "gQ8ihSWVAQTT",
        "outputId": "993332db-bbfc-476b-fed0-a14ae50834a4",
        "colab": {
          "base_uri": "https://localhost:8080/"
        }
      },
      "outputs": [
        {
          "output_type": "stream",
          "name": "stdout",
          "text": [
            "Hello, World!\n",
            "Python programming is fun!\n"
          ]
        }
      ],
      "source": [
        "print(\"Hello, World!\")\n",
        "print(\"Python programming is fun!\")"
      ]
    },
    {
      "cell_type": "markdown",
      "source": [
        "**Solving the problem 1.2**"
      ],
      "metadata": {
        "id": "SkBe9-GRObpc"
      }
    },
    {
      "cell_type": "code",
      "execution_count": 2,
      "metadata": {
        "id": "k0ieGbhwAQTU",
        "outputId": "d8390c52-5ea4-40f7-c9ce-a7dc528e7ab0",
        "colab": {
          "base_uri": "https://localhost:8080/"
        }
      },
      "outputs": [
        {
          "output_type": "stream",
          "name": "stdout",
          "text": [
            "Type of name: <class 'str'>\n",
            "Type of age: <class 'int'>\n",
            "Type of height: <class 'float'>\n",
            "Type of is_student: <class 'bool'>\n"
          ]
        }
      ],
      "source": [
        "name = \"MBAhmadi\"\n",
        "age = 45\n",
        "height = 82.5\n",
        "is_student = True\n",
        "\n",
        "print(\"Type of name:\", type(name))\n",
        "print(\"Type of age:\", type(age))\n",
        "print(\"Type of height:\", type(height))\n",
        "print(\"Type of is_student:\", type(is_student))"
      ]
    },
    {
      "cell_type": "markdown",
      "metadata": {
        "id": "U-E7Ao4IAQTU"
      },
      "source": [
        "# Problem 2: If Conditions\n",
        "\n",
        "1. Write a Python program that checks if a number is positive, negative, or zero. The number should be assigned to a variable.\n",
        "2. Write a Python program that checks if a given year is a leap year. (A leap year is divisible by 4, but not every year divisible by 4 is a leap year; it also needs to be divisible by 400 if it is divisible by 100.)"
      ]
    },
    {
      "cell_type": "markdown",
      "source": [
        "**Solving the problem 2.1**"
      ],
      "metadata": {
        "id": "NHyGz7IvOjbE"
      }
    },
    {
      "cell_type": "code",
      "execution_count": 3,
      "metadata": {
        "id": "Bm5IbKWTAQTV",
        "outputId": "d266055e-3cf9-4636-d461-bf165b5e6f0d",
        "colab": {
          "base_uri": "https://localhost:8080/"
        }
      },
      "outputs": [
        {
          "output_type": "stream",
          "name": "stdout",
          "text": [
            "Enter The number: -523\n",
            "The number is negative.\n"
          ]
        }
      ],
      "source": [
        "number = int(input(\"Enter The number: \"))\n",
        "\n",
        "if number > 0:\n",
        "    print(\"The number is positive.\")\n",
        "elif number < 0:\n",
        "    print(\"The number is negative.\")\n",
        "else:\n",
        "    print(\"The number is zero.\")\n"
      ]
    },
    {
      "cell_type": "markdown",
      "source": [
        "**Solving the problem 2.2**"
      ],
      "metadata": {
        "id": "O3boG79oOmWO"
      }
    },
    {
      "cell_type": "code",
      "execution_count": 4,
      "metadata": {
        "id": "VKgfTspKAQTV",
        "outputId": "8de6dbbe-d840-4d73-e328-8ca49ad4e5bb",
        "colab": {
          "base_uri": "https://localhost:8080/"
        }
      },
      "outputs": [
        {
          "output_type": "stream",
          "name": "stdout",
          "text": [
            "Enter The year: 1845\n",
            "1845 is not a leap year.\n"
          ]
        }
      ],
      "source": [
        "year = int(input(\"Enter The year: \"))\n",
        "\n",
        "if (year % 4 == 0 and year % 100 != 0) or (year % 400 == 0):\n",
        "    print(f\"{year} is a leap year.\")\n",
        "else:\n",
        "    print(f\"{year} is not a leap year.\")\n"
      ]
    },
    {
      "cell_type": "markdown",
      "metadata": {
        "id": "8471NWs7AQTV"
      },
      "source": [
        "# Problem 3: For Loop\n",
        "1. Write a Python program that prints the numbers from 1 to 10 using a for loop.\n",
        "2. Write a Python program that calculates the sum of all even numbers from 1 to 100 using a for loop.\n",
        "3. Write a Python program that iterates over a list of strings and prints each string with its length."
      ]
    },
    {
      "cell_type": "markdown",
      "source": [
        "**Solving the problem 3.1**"
      ],
      "metadata": {
        "id": "mpNOEo2IOpJQ"
      }
    },
    {
      "cell_type": "code",
      "execution_count": 5,
      "metadata": {
        "id": "EnMj0M_1AQTV",
        "outputId": "313e261a-6c3e-476c-baf8-1c0b95c61a9b",
        "colab": {
          "base_uri": "https://localhost:8080/"
        }
      },
      "outputs": [
        {
          "output_type": "stream",
          "name": "stdout",
          "text": [
            "1\n",
            "2\n",
            "3\n",
            "4\n",
            "5\n",
            "6\n",
            "7\n",
            "8\n",
            "9\n",
            "10\n"
          ]
        }
      ],
      "source": [
        "for i in range(1, 11):\n",
        "    print(i)"
      ]
    },
    {
      "cell_type": "markdown",
      "source": [
        "**Solving the problem 3.2**"
      ],
      "metadata": {
        "id": "AmqTu-yPOsZd"
      }
    },
    {
      "cell_type": "code",
      "execution_count": 6,
      "metadata": {
        "id": "39pJL6QdAQTV",
        "outputId": "82423365-bc6f-4076-a01b-1d67efc49bcf",
        "colab": {
          "base_uri": "https://localhost:8080/"
        }
      },
      "outputs": [
        {
          "output_type": "stream",
          "name": "stdout",
          "text": [
            "Sum of all even numbers from 1 to 100 is: 2550\n"
          ]
        }
      ],
      "source": [
        "sum_of_evens = 0\n",
        "for i in range(1, 101):\n",
        "    if i % 2 == 0:\n",
        "        sum_of_evens += i\n",
        "\n",
        "print(\"Sum of all even numbers from 1 to 100 is:\", sum_of_evens)"
      ]
    },
    {
      "cell_type": "markdown",
      "source": [
        "**Another solution to problem 3.2**"
      ],
      "metadata": {
        "id": "alDwpF4ANtap"
      }
    },
    {
      "cell_type": "code",
      "source": [
        "sum_of_evens = 0\n",
        "for i in range(1, 101):\n",
        "    if i % 2 != 0:\n",
        "      continue\n",
        "    sum_of_evens += i\n",
        "\n",
        "print(\"Sum of all even numbers from 1 to 100 is:\", sum_of_evens)"
      ],
      "metadata": {
        "id": "gkLBppZDNhRk",
        "outputId": "abd4839f-af87-49cc-8246-1668445796b9",
        "colab": {
          "base_uri": "https://localhost:8080/"
        }
      },
      "execution_count": 7,
      "outputs": [
        {
          "output_type": "stream",
          "name": "stdout",
          "text": [
            "Sum of all even numbers from 1 to 100 is: 2550\n"
          ]
        }
      ]
    },
    {
      "cell_type": "markdown",
      "source": [
        "**Solving the problem 3.3**"
      ],
      "metadata": {
        "id": "FslvuK1mO3WH"
      }
    },
    {
      "cell_type": "code",
      "execution_count": 8,
      "metadata": {
        "id": "1AIdBJGgAQTW",
        "outputId": "66db4cd4-9181-476c-ba85-a7e3e9a624ac",
        "colab": {
          "base_uri": "https://localhost:8080/"
        }
      },
      "outputs": [
        {
          "output_type": "stream",
          "name": "stdout",
          "text": [
            "apple: 5\n",
            "banana: 6\n",
            "cherry: 6\n",
            "date: 4\n",
            "MBAhmadi: 8\n",
            "ON Academy: 10\n"
          ]
        }
      ],
      "source": [
        "strings = [\"apple\", \"banana\", \"cherry\", \"date\", \"MBAhmadi\", \"ON Academy\"]\n",
        "\n",
        "for string in strings:\n",
        "    print(f\"{string}: {len(string)}\")\n"
      ]
    }
  ],
  "metadata": {
    "kernelspec": {
      "display_name": "Python 3 (ipykernel)",
      "language": "python",
      "name": "python3"
    },
    "language_info": {
      "codemirror_mode": {
        "name": "ipython",
        "version": 3
      },
      "file_extension": ".py",
      "mimetype": "text/x-python",
      "name": "python",
      "nbconvert_exporter": "python",
      "pygments_lexer": "ipython3",
      "version": "3.11.7"
    },
    "colab": {
      "provenance": [],
      "toc_visible": true,
      "include_colab_link": true
    }
  },
  "nbformat": 4,
  "nbformat_minor": 0
}