{
  "cells": [
    {
      "cell_type": "markdown",
      "metadata": {
        "id": "view-in-github",
        "colab_type": "text"
      },
      "source": [
        "<a href=\"https://colab.research.google.com/github/MBAhmadi/ML-Learning/blob/main/project1_boot27.ipynb\" target=\"_parent\"><img src=\"https://colab.research.google.com/assets/colab-badge.svg\" alt=\"Open In Colab\"/></a>"
      ]
    },
    {
      "cell_type": "markdown",
      "metadata": {
        "id": "aa9MJQXSAQTR"
      },
      "source": [
        "# Problem 1: Basic Printing and Data Types"
      ]
    },
    {
      "cell_type": "markdown",
      "metadata": {
        "id": "21wWKe5-AQTS"
      },
      "source": [
        "1. Write a Python program that prints the following text:\n",
        "    - Hello, World!\n",
        "    - Python programming is fun!\n",
        "2. Write a Python program that creates the following variables and prints their types:\n",
        "    - A string variable with your name\n",
        "    - An integer variable with your age\n",
        "    - A float variable with your height\n",
        "    - A boolean variable indicating if you are a student"
      ]
    },
    {
      "cell_type": "markdown",
      "source": [
        "**Solving the problem 1.1**"
      ],
      "metadata": {
        "id": "uN6d_FH9OTpy"
      }
    },
    {
      "cell_type": "code",
      "execution_count": null,
      "metadata": {
        "id": "gQ8ihSWVAQTT",
        "outputId": "22a1a6bf-2400-4bf5-d450-3be3814c5855"
      },
      "outputs": [
        {
          "name": "stdout",
          "output_type": "stream",
          "text": [
            "Hello, World!\n",
            "Python programming is fun!\n"
          ]
        }
      ],
      "source": [
        "print(\"Hello, World!\")\n",
        "print(\"Python programming is fun!\")"
      ]
    },
    {
      "cell_type": "markdown",
      "source": [
        "**Solving the problem 1.2**"
      ],
      "metadata": {
        "id": "SkBe9-GRObpc"
      }
    },
    {
      "cell_type": "code",
      "execution_count": null,
      "metadata": {
        "id": "k0ieGbhwAQTU",
        "outputId": "b8608a57-0ca3-42b5-c60f-c7f662a27c96"
      },
      "outputs": [
        {
          "name": "stdout",
          "output_type": "stream",
          "text": [
            "Type of name: <class 'str'>\n",
            "Type of age: <class 'int'>\n",
            "Type of height: <class 'float'>\n",
            "Type of is_student: <class 'bool'>\n"
          ]
        }
      ],
      "source": [
        "name = \"MBAhmadi\"\n",
        "age = 45\n",
        "height = 175\n",
        "is_student = True\n",
        "\n",
        "print(\"Type of name:\", type(name))\n",
        "print(\"Type of age:\", type(age))\n",
        "print(\"Type of height:\", type(height))\n",
        "print(\"Type of is_student:\", type(is_student))"
      ]
    },
    {
      "cell_type": "markdown",
      "metadata": {
        "id": "U-E7Ao4IAQTU"
      },
      "source": [
        "# Problem 2: If Conditions\n",
        "\n",
        "1. Write a Python program that checks if a number is positive, negative, or zero. The number should be assigned to a variable.\n",
        "2. Write a Python program that checks if a given year is a leap year. (A leap year is divisible by 4, but not every year divisible by 4 is a leap year; it also needs to be divisible by 400 if it is divisible by 100.)"
      ]
    },
    {
      "cell_type": "markdown",
      "source": [
        "**Solving the problem 2.1**"
      ],
      "metadata": {
        "id": "NHyGz7IvOjbE"
      }
    },
    {
      "cell_type": "code",
      "execution_count": null,
      "metadata": {
        "id": "Bm5IbKWTAQTV",
        "outputId": "ca591bff-e5fc-42cd-f69b-8e7be6a4b672",
        "colab": {
          "base_uri": "https://localhost:8080/"
        }
      },
      "outputs": [
        {
          "output_type": "stream",
          "name": "stdout",
          "text": [
            "Enter The number: -189\n",
            "The number is negative.\n"
          ]
        }
      ],
      "source": [
        "number = int(input(\"Enter The number: \"))\n",
        "\n",
        "if number > 0:\n",
        "    print(\"The number is positive.\")\n",
        "elif number < 0:\n",
        "    print(\"The number is negative.\")\n",
        "else:\n",
        "    print(\"The number is zero.\")\n"
      ]
    },
    {
      "cell_type": "markdown",
      "source": [
        "**Solving the problem 2.2**"
      ],
      "metadata": {
        "id": "O3boG79oOmWO"
      }
    },
    {
      "cell_type": "code",
      "execution_count": null,
      "metadata": {
        "id": "VKgfTspKAQTV",
        "outputId": "1a50c4c8-3736-4d09-f8f3-17579b06ae07",
        "colab": {
          "base_uri": "https://localhost:8080/"
        }
      },
      "outputs": [
        {
          "output_type": "stream",
          "name": "stdout",
          "text": [
            "Enter The year: 1240\n",
            "1240 is a leap year.\n"
          ]
        }
      ],
      "source": [
        "year = int(input(\"Enter The year: \"))\n",
        "\n",
        "if (year % 4 == 0 and year % 100 != 0) or (year % 400 == 0):\n",
        "    print(f\"{year} is a leap year.\")\n",
        "else:\n",
        "    print(f\"{year} is not a leap year.\")\n"
      ]
    },
    {
      "cell_type": "markdown",
      "metadata": {
        "id": "8471NWs7AQTV"
      },
      "source": [
        "# Problem 3: For Loop\n",
        "1. Write a Python program that prints the numbers from 1 to 10 using a for loop.\n",
        "2. Write a Python program that calculates the sum of all even numbers from 1 to 100 using a for loop.\n",
        "3. Write a Python program that iterates over a list of strings and prints each string with its length."
      ]
    },
    {
      "cell_type": "markdown",
      "source": [
        "**Solving the problem 3.1**"
      ],
      "metadata": {
        "id": "mpNOEo2IOpJQ"
      }
    },
    {
      "cell_type": "code",
      "execution_count": null,
      "metadata": {
        "id": "EnMj0M_1AQTV",
        "outputId": "9dec8b95-0557-4b13-b6a1-f02685353723"
      },
      "outputs": [
        {
          "name": "stdout",
          "output_type": "stream",
          "text": [
            "1\n",
            "2\n",
            "3\n",
            "4\n",
            "5\n",
            "6\n",
            "7\n",
            "8\n",
            "9\n",
            "10\n"
          ]
        }
      ],
      "source": [
        "for i in range(1, 11):\n",
        "    print(i)"
      ]
    },
    {
      "cell_type": "markdown",
      "source": [
        "**Solving the problem 3.2**"
      ],
      "metadata": {
        "id": "AmqTu-yPOsZd"
      }
    },
    {
      "cell_type": "code",
      "execution_count": null,
      "metadata": {
        "id": "39pJL6QdAQTV",
        "outputId": "23cf661e-edfd-48e0-cd55-3e51deb1e179"
      },
      "outputs": [
        {
          "name": "stdout",
          "output_type": "stream",
          "text": [
            "Sum of all even numbers from 1 to 100 is: 2550\n"
          ]
        }
      ],
      "source": [
        "sum_of_evens = 0\n",
        "for i in range(1, 101):\n",
        "    if i % 2 == 0:\n",
        "        sum_of_evens += i\n",
        "\n",
        "print(\"Sum of all even numbers from 1 to 100 is:\", sum_of_evens)"
      ]
    },
    {
      "cell_type": "markdown",
      "source": [
        "**Another solution to problem 3.2**"
      ],
      "metadata": {
        "id": "alDwpF4ANtap"
      }
    },
    {
      "cell_type": "code",
      "source": [
        "sum_of_evens = 0\n",
        "for i in range(1, 101):\n",
        "    if i % 2 != 0:\n",
        "      continue\n",
        "    sum_of_evens += i\n",
        "\n",
        "print(\"Sum of all even numbers from 1 to 100 is:\", sum_of_evens)"
      ],
      "metadata": {
        "id": "gkLBppZDNhRk",
        "outputId": "ba140b4f-e404-46bd-86a8-827ce7ee04b0",
        "colab": {
          "base_uri": "https://localhost:8080/"
        }
      },
      "execution_count": 1,
      "outputs": [
        {
          "output_type": "stream",
          "name": "stdout",
          "text": [
            "Sum of all even numbers from 1 to 100 is: 2550\n"
          ]
        }
      ]
    },
    {
      "cell_type": "markdown",
      "source": [
        "**Solving the problem 3.3**"
      ],
      "metadata": {
        "id": "FslvuK1mO3WH"
      }
    },
    {
      "cell_type": "code",
      "execution_count": null,
      "metadata": {
        "id": "1AIdBJGgAQTW",
        "outputId": "a63623fa-1549-43de-d17e-81c59068adad",
        "colab": {
          "base_uri": "https://localhost:8080/"
        }
      },
      "outputs": [
        {
          "output_type": "stream",
          "name": "stdout",
          "text": [
            "apple: 5\n",
            "banana: 6\n",
            "cherry: 6\n",
            "date: 4\n",
            "MBAhmadi: 8\n",
            "ON Academy: 10\n"
          ]
        }
      ],
      "source": [
        "strings = [\"apple\", \"banana\", \"cherry\", \"date\", \"MBAhmadi\", \"ON Academy\"]\n",
        "\n",
        "for string in strings:\n",
        "    print(f\"{string}: {len(string)}\")\n"
      ]
    }
  ],
  "metadata": {
    "kernelspec": {
      "display_name": "Python 3 (ipykernel)",
      "language": "python",
      "name": "python3"
    },
    "language_info": {
      "codemirror_mode": {
        "name": "ipython",
        "version": 3
      },
      "file_extension": ".py",
      "mimetype": "text/x-python",
      "name": "python",
      "nbconvert_exporter": "python",
      "pygments_lexer": "ipython3",
      "version": "3.11.7"
    },
    "colab": {
      "provenance": [],
      "include_colab_link": true
    }
  },
  "nbformat": 4,
  "nbformat_minor": 0
}