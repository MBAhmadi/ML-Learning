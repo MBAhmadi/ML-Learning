{
 "cells": [
  {
   "cell_type": "markdown",
   "metadata": {},
   "source": [
    "**1. Simple Calculator:** Write a Python program that takes two numbers and an operator (+, -, *, /) as input and prints the result of the operation.\n",
    "\n",
    "- *Skills used:* Basic syntax, input, if, elif, else."
   ]
  },
  {
   "cell_type": "markdown",
   "metadata": {},
   "source": [
    "**Solving the problem 1. Simple Calculator:**"
   ]
  },
  {
   "cell_type": "code",
   "execution_count": 20,
   "metadata": {},
   "outputs": [
    {
     "name": "stdin",
     "output_type": "stream",
     "text": [
      "Enter the first number:  125\n",
      "Enter the second number:  369\n",
      "Enter the operator (+, -, *, /):  *\n"
     ]
    },
    {
     "name": "stdout",
     "output_type": "stream",
     "text": [
      "The result is: 46125.0\n"
     ]
    }
   ],
   "source": [
    "# Function to perform the calculation\n",
    "def calculate(num1, num2, operator):\n",
    "    if operator == '+':\n",
    "        return num1 + num2\n",
    "    elif operator == '-':\n",
    "        return num1 - num2\n",
    "    elif operator == '*':\n",
    "        return num1 * num2\n",
    "    elif operator == '/':\n",
    "        if num2 != 0:\n",
    "            return num1 / num2\n",
    "        else:\n",
    "            return \"Error! Division by zero.\"\n",
    "    else:\n",
    "        return \"Invalid operator!\"\n",
    "\n",
    "# Main program\n",
    "def main():\n",
    "    # Taking input from the user\n",
    "    num1 = float(input(\"Enter the first number: \"))\n",
    "    num2 = float(input(\"Enter the second number: \"))\n",
    "    operator = input(\"Enter the operator (+, -, *, /): \")\n",
    "\n",
    "    # Performing the calculation\n",
    "    result = calculate(num1, num2, operator)\n",
    "\n",
    "    # Printing the result\n",
    "    print(\"The result is:\", result)\n",
    "\n",
    "# Running the main program\n",
    "if __name__ == \"__main__\":\n",
    "    main()"
   ]
  },
  {
   "cell_type": "markdown",
   "metadata": {},
   "source": [
    "**2. Odd or Even:** Write a Python program that takes a number as input and prints whether the number is odd or even.\n",
    "\n",
    "- *Skills used:* Basic syntax, input, if, else."
   ]
  },
  {
   "cell_type": "markdown",
   "metadata": {},
   "source": [
    "**Solving the problem 2. Odd or Even:**"
   ]
  },
  {
   "cell_type": "code",
   "execution_count": 16,
   "metadata": {},
   "outputs": [
    {
     "name": "stdin",
     "output_type": "stream",
     "text": [
      "Enter a number:  124\n"
     ]
    },
    {
     "name": "stdout",
     "output_type": "stream",
     "text": [
      "124 is Even\n"
     ]
    }
   ],
   "source": [
    "# Function to check odd or even\n",
    "def check_odd_even(number):\n",
    "    if number % 2 == 0:\n",
    "        return f\"{number} is Even\"\n",
    "    else:\n",
    "        return f\"{number} is Odd\"\n",
    "\n",
    "# Main program\n",
    "def main():\n",
    "    # Taking input from the user\n",
    "    num = int(input(\"Enter a number: \"))\n",
    "\n",
    "    # Checking if the number is odd or even\n",
    "    result = check_odd_even(num)\n",
    "\n",
    "    # Printing the result\n",
    "    print(result)\n",
    "\n",
    "# Running the main program\n",
    "if __name__ == \"__main__\":\n",
    "    main()"
   ]
  },
  {
   "cell_type": "markdown",
   "metadata": {},
   "source": [
    "**3. Student Grades:** Write a Python program to manage student grades. The program should allow entering the grades of students, storing them in a dictionary, and calculating the average grade.\n",
    "\n",
    "- *Skills used:* Data structures (dict), loops (for), functions."
   ]
  },
  {
   "cell_type": "markdown",
   "metadata": {},
   "source": [
    "**Solving the problem 3. Student Grades:**"
   ]
  },
  {
   "cell_type": "code",
   "execution_count": 30,
   "metadata": {},
   "outputs": [
    {
     "name": "stdin",
     "output_type": "stream",
     "text": [
      "Enter the number of students:  2\n",
      "Enter the student's name:  mba\n",
      "Enter the grades separated by space:  18 19 15 14 17 18 12 10\n",
      "Enter the student's name:  nbbxn\n",
      "Enter the grades separated by space:  12 15 16 17 14 10 12 10\n"
     ]
    },
    {
     "name": "stdout",
     "output_type": "stream",
     "text": [
      "mba's average grade is: 15.38\n",
      "nbbxn's average grade is: 13.25\n"
     ]
    }
   ],
   "source": [
    "# Function to calculate the average grade\n",
    "def calculate_average(grades):\n",
    "    return sum(grades) / len(grades)\n",
    "\n",
    "# Main program\n",
    "def main():\n",
    "    # Dictionary to store student grades\n",
    "    student_grades = {}\n",
    "\n",
    "    # Number of students\n",
    "    num_students = int(input(\"Enter the number of students: \"))\n",
    "\n",
    "    # Loop to enter grades for each student\n",
    "    for _ in range(num_students):\n",
    "        name = input(\"Enter the student's name: \")\n",
    "        grades = input(\"Enter the grades separated by space: \").split()\n",
    "        grades = [float(grade) for grade in grades]\n",
    "        student_grades[name] = grades\n",
    "\n",
    "    # Calculate and print the average grade for each student\n",
    "    for student, grades in student_grades.items():\n",
    "        average = calculate_average(grades)\n",
    "        print(f\"{student}'s average grade is: {average:.2f}\")\n",
    "\n",
    "# Running the main program\n",
    "if __name__ == \"__main__\":\n",
    "    main()"
   ]
  },
  {
   "cell_type": "markdown",
   "metadata": {},
   "source": [
    "**4. Word Frequency:** Write a Python program to read a text file and count the frequency of each word in the file.\n",
    "\n",
    "- *Skills used:* File handling, data structures (dict), loops."
   ]
  },
  {
   "cell_type": "markdown",
   "metadata": {},
   "source": [
    "**Solving the problem 4. Word Frequency:**"
   ]
  },
  {
   "cell_type": "code",
   "execution_count": 41,
   "metadata": {},
   "outputs": [
    {
     "name": "stdin",
     "output_type": "stream",
     "text": [
      "Enter the filename:  mba.txt\n"
     ]
    },
    {
     "name": "stdout",
     "output_type": "stream",
     "text": [
      "parents: 1\n",
      "often: 2\n",
      "tell: 1\n",
      "their: 1\n",
      "children: 1\n",
      "myths: 1\n",
      "and: 3\n",
      "misconceptions: 1\n",
      "in: 1\n",
      "an: 1\n",
      "effort: 1\n",
      "to: 1\n",
      "avoid: 1\n",
      "tantrums: 1\n",
      "gain: 1\n",
      "obedience: 1\n",
      "regrettably: 1\n",
      "these: 1\n",
      "falsehoods: 1\n",
      "are: 1\n",
      "perpetuated: 1\n",
      "unquestioningly: 1\n",
      "accepted: 1\n",
      "as: 1\n",
      "truth: 1\n",
      "for: 1\n",
      "generations: 1\n"
     ]
    }
   ],
   "source": [
    "from collections import Counter\n",
    "import re\n",
    "\n",
    "# Function to count word frequency\n",
    "def count_word_frequency(filename):\n",
    "    with open(filename, 'r') as file:\n",
    "        contents = file.read()\n",
    "        # Use regular expressions to find all words\n",
    "        words = re.findall(r'\\b\\w+\\b', contents.lower())\n",
    "        word_count = Counter(words)\n",
    "    return word_count\n",
    "\n",
    "# Main program\n",
    "def main():\n",
    "    # Taking the filename as input from the user\n",
    "    filename = input(\"Enter the filename: \")\n",
    "    \n",
    "    # Counting word frequency\n",
    "    word_count = count_word_frequency(filename)\n",
    "    \n",
    "    # Printing the word frequencies\n",
    "    for word, count in word_count.items():\n",
    "        print(f\"{word}: {count}\")\n",
    "\n",
    "# Running the main program\n",
    "if __name__ == \"__main__\":\n",
    "    main()\n"
   ]
  },
  {
   "cell_type": "markdown",
   "metadata": {},
   "source": [
    "**5. Fibonacci Sequence:** Write a Python function that returns the first n numbers of the Fibonacci sequence.\n",
    "\n",
    "- *Skills used:* Functions, loops."
   ]
  },
  {
   "cell_type": "markdown",
   "metadata": {},
   "source": [
    "**Solving the problem 5. Fibonacci Sequence:**"
   ]
  },
  {
   "cell_type": "code",
   "execution_count": 72,
   "metadata": {},
   "outputs": [
    {
     "name": "stdin",
     "output_type": "stream",
     "text": [
      "Enter the number of Fibonacci numbers to generate:  20\n"
     ]
    },
    {
     "name": "stdout",
     "output_type": "stream",
     "text": [
      "The first 20 numbers of the Fibonacci sequence are:\n",
      "[0, 1, 1, 2, 3, 5, 8, 13, 21, 34, 55, 89, 144, 233, 377, 610, 987, 1597, 2584, 4181]\n"
     ]
    }
   ],
   "source": [
    "# Function to generate the first n Fibonacci numbers\n",
    "def fibonacci_sequence(n):\n",
    "    sequence = []\n",
    "    a, b = 0, 1\n",
    "    for _ in range(n):\n",
    "        sequence.append(a)\n",
    "        a, b = b, a + b\n",
    "    return sequence\n",
    "\n",
    "# Main program\n",
    "def main():\n",
    "    # Taking input from the user\n",
    "    n = int(input(\"Enter the number of Fibonacci numbers to generate: \"))\n",
    "    \n",
    "    # Generating the Fibonacci sequence\n",
    "    sequence = fibonacci_sequence(n)\n",
    "    \n",
    "    # Printing the sequence\n",
    "    print(\"The first\", n, \"numbers of the Fibonacci sequence are:\")\n",
    "    print(sequence)\n",
    "\n",
    "# Running the main program\n",
    "if __name__ == \"__main__\":\n",
    "    main()"
   ]
  },
  {
   "cell_type": "markdown",
   "metadata": {},
   "source": [
    "**6. Text File Statistics:** Write a Python program that reads a text file and calculates the number of lines, words, and characters in the file.\n",
    "\n",
    "- *Skills used:* File handling, data structures, loops."
   ]
  },
  {
   "cell_type": "markdown",
   "metadata": {},
   "source": [
    "**Solving the problem 6. Text File Statistics:**"
   ]
  },
  {
   "cell_type": "code",
   "execution_count": 76,
   "metadata": {},
   "outputs": [
    {
     "name": "stdin",
     "output_type": "stream",
     "text": [
      "Enter the filename:  mba.txt\n"
     ]
    },
    {
     "name": "stdout",
     "output_type": "stream",
     "text": [
      "Number of lines: 1\n",
      "Number of words: 30\n",
      "Number of characters: 216\n"
     ]
    }
   ],
   "source": [
    "# Function to calculate statistics\n",
    "def file_statistics(filename):\n",
    "    with open(filename, 'r') as file:\n",
    "        lines = file.readlines()\n",
    "        num_lines = len(lines)\n",
    "        num_words = sum(len(line.split()) for line in lines)\n",
    "        num_chars = sum(len(line) for line in lines)\n",
    "    return num_lines, num_words, num_chars\n",
    "\n",
    "# Main program\n",
    "def main():\n",
    "    # Taking the filename as input from the user\n",
    "    filename = input(\"Enter the filename: \")\n",
    "    \n",
    "    # Calculating statistics\n",
    "    num_lines, num_words, num_chars = file_statistics(filename)\n",
    "    \n",
    "    # Printing the statistics\n",
    "    print(f\"Number of lines: {num_lines}\")\n",
    "    print(f\"Number of words: {num_words}\")\n",
    "    print(f\"Number of characters: {num_chars}\")\n",
    "\n",
    "# Running the main program\n",
    "if __name__ == \"__main__\":\n",
    "    main()"
   ]
  },
  {
   "cell_type": "markdown",
   "metadata": {},
   "source": [
    "**7. Shopping List:** Write a Python program that allows the user to create, view, and delete items from a shopping list stored in a text file.\n",
    "\n",
    "- *Skills used:* File handling, data structures (list), functions, loops."
   ]
  },
  {
   "cell_type": "markdown",
   "metadata": {},
   "source": [
    "**Solving the problem 7. Shopping List:**"
   ]
  },
  {
   "cell_type": "code",
   "execution_count": 79,
   "metadata": {},
   "outputs": [
    {
     "name": "stdout",
     "output_type": "stream",
     "text": [
      "\n",
      "Shopping List Menu:\n",
      "1. Add an item\n",
      "2. View the list\n",
      "3. Delete an item\n",
      "4. Exit\n"
     ]
    },
    {
     "name": "stdin",
     "output_type": "stream",
     "text": [
      "Enter your choice:  1\n",
      "Enter the item to add:  coffee\n"
     ]
    },
    {
     "name": "stdout",
     "output_type": "stream",
     "text": [
      "\n",
      "Shopping List Menu:\n",
      "1. Add an item\n",
      "2. View the list\n",
      "3. Delete an item\n",
      "4. Exit\n"
     ]
    },
    {
     "name": "stdin",
     "output_type": "stream",
     "text": [
      "Enter your choice:  1\n",
      "Enter the item to add:  sugar\n"
     ]
    },
    {
     "name": "stdout",
     "output_type": "stream",
     "text": [
      "\n",
      "Shopping List Menu:\n",
      "1. Add an item\n",
      "2. View the list\n",
      "3. Delete an item\n",
      "4. Exit\n"
     ]
    },
    {
     "name": "stdin",
     "output_type": "stream",
     "text": [
      "Enter your choice:  1\n",
      "Enter the item to add:  bread\n"
     ]
    },
    {
     "name": "stdout",
     "output_type": "stream",
     "text": [
      "\n",
      "Shopping List Menu:\n",
      "1. Add an item\n",
      "2. View the list\n",
      "3. Delete an item\n",
      "4. Exit\n"
     ]
    },
    {
     "name": "stdin",
     "output_type": "stream",
     "text": [
      "Enter your choice:  2\n"
     ]
    },
    {
     "name": "stdout",
     "output_type": "stream",
     "text": [
      "Shopping List:\n",
      "coffee\n",
      "sugar\n",
      "bread\n",
      "\n",
      "Shopping List Menu:\n",
      "1. Add an item\n",
      "2. View the list\n",
      "3. Delete an item\n",
      "4. Exit\n"
     ]
    },
    {
     "name": "stdin",
     "output_type": "stream",
     "text": [
      "Enter your choice:  3\n",
      "Enter the item to delete:  bread\n"
     ]
    },
    {
     "name": "stdout",
     "output_type": "stream",
     "text": [
      "'bread' has been deleted from the shopping list.\n",
      "\n",
      "Shopping List Menu:\n",
      "1. Add an item\n",
      "2. View the list\n",
      "3. Delete an item\n",
      "4. Exit\n"
     ]
    },
    {
     "name": "stdin",
     "output_type": "stream",
     "text": [
      "Enter your choice:  2\n"
     ]
    },
    {
     "name": "stdout",
     "output_type": "stream",
     "text": [
      "Shopping List:\n",
      "coffee\n",
      "sugar\n",
      "\n",
      "Shopping List Menu:\n",
      "1. Add an item\n",
      "2. View the list\n",
      "3. Delete an item\n",
      "4. Exit\n"
     ]
    },
    {
     "name": "stdin",
     "output_type": "stream",
     "text": [
      "Enter your choice:  4\n"
     ]
    },
    {
     "name": "stdout",
     "output_type": "stream",
     "text": [
      "Exiting the program.\n"
     ]
    }
   ],
   "source": [
    "# Function to add an item to the shopping list\n",
    "def add_item(filename, item):\n",
    "    with open(filename, 'a') as file:\n",
    "        file.write(item + '\\n')\n",
    "\n",
    "# Function to view the shopping list\n",
    "def view_list(filename):\n",
    "    try:\n",
    "        with open(filename, 'r') as file:\n",
    "            items = file.readlines()\n",
    "            if items:\n",
    "                print(\"Shopping List:\")\n",
    "                for item in items:\n",
    "                    print(item.strip())\n",
    "            else:\n",
    "                print(\"The shopping list is empty.\")\n",
    "    except FileNotFoundError:\n",
    "        print(\"The shopping list is empty.\")\n",
    "\n",
    "# Function to delete an item from the shopping list\n",
    "def delete_item(filename, item):\n",
    "    try:\n",
    "        with open(filename, 'r') as file:\n",
    "            items = file.readlines()\n",
    "        with open(filename, 'w') as file:\n",
    "            for line in items:\n",
    "                if line.strip() != item:\n",
    "                    file.write(line)\n",
    "        print(f\"'{item}' has been deleted from the shopping list.\")\n",
    "    except FileNotFoundError:\n",
    "        print(\"The shopping list is empty.\")\n",
    "\n",
    "# Main program\n",
    "def main():\n",
    "    filename = 'shopping_list.txt'\n",
    "    \n",
    "    while True:\n",
    "        print(\"\\nShopping List Menu:\")\n",
    "        print(\"1. Add an item\")\n",
    "        print(\"2. View the list\")\n",
    "        print(\"3. Delete an item\")\n",
    "        print(\"4. Exit\")\n",
    "        \n",
    "        choice = input(\"Enter your choice: \")\n",
    "        \n",
    "        if choice == '1':\n",
    "            item = input(\"Enter the item to add: \")\n",
    "            add_item(filename, item)\n",
    "        elif choice == '2':\n",
    "            view_list(filename)\n",
    "        elif choice == '3':\n",
    "            item = input(\"Enter the item to delete: \")\n",
    "            delete_item(filename, item)\n",
    "        elif choice == '4':\n",
    "            print(\"Exiting the program.\")\n",
    "            break\n",
    "        else:\n",
    "            print(\"Invalid choice. Please try again.\")\n",
    "\n",
    "# Running the main program\n",
    "if __name__ == \"__main__\":\n",
    "    main()"
   ]
  },
  {
   "cell_type": "markdown",
   "metadata": {},
   "source": [
    "**8. Prime Numbers:** Write a Python function to check if a number is prime and then use it to print all prime numbers in a given range.\n",
    "\n",
    "- *Skills used:* Functions, loops, conditional statements."
   ]
  },
  {
   "cell_type": "markdown",
   "metadata": {},
   "source": [
    "**Solving the problem 8. Prime Numbers:**"
   ]
  },
  {
   "cell_type": "code",
   "execution_count": 81,
   "metadata": {},
   "outputs": [
    {
     "name": "stdin",
     "output_type": "stream",
     "text": [
      "Enter the start of the range:  25\n",
      "Enter the end of the range:  80\n"
     ]
    },
    {
     "name": "stdout",
     "output_type": "stream",
     "text": [
      "Prime numbers between 25 and 80 are: [29, 31, 37, 41, 43, 47, 53, 59, 61, 67, 71, 73, 79]\n"
     ]
    }
   ],
   "source": [
    "# Function to check if a number is prime\n",
    "def is_prime(n):\n",
    "    if n <= 1:\n",
    "        return False\n",
    "    for i in range(2, int(n**0.5) + 1):\n",
    "        if n % i == 0:\n",
    "            return False\n",
    "    return True\n",
    "\n",
    "# Function to print all prime numbers in a given range\n",
    "def print_primes_in_range(start, end):\n",
    "    primes = []\n",
    "    for num in range(start, end + 1):\n",
    "        if is_prime(num):\n",
    "            primes.append(num)\n",
    "    return primes\n",
    "\n",
    "# Main program\n",
    "def main():\n",
    "    # Taking input from the user\n",
    "    start = int(input(\"Enter the start of the range: \"))\n",
    "    end = int(input(\"Enter the end of the range: \"))\n",
    "    \n",
    "    # Printing prime numbers in the given range\n",
    "    primes = print_primes_in_range(start, end)\n",
    "    print(f\"Prime numbers between {start} and {end} are: {primes}\")\n",
    "\n",
    "# Running the main program\n",
    "if __name__ == \"__main__\":\n",
    "    main()"
   ]
  },
  {
   "cell_type": "markdown",
   "metadata": {},
   "source": [
    "**9. Simple Chatbot:** Write a Python program to create a simple chatbot that can respond to basic greetings and questions.\n",
    "\n",
    "- *Skills used:* Functions, conditional statements, loops, string operations."
   ]
  },
  {
   "cell_type": "code",
   "execution_count": 91,
   "metadata": {},
   "outputs": [
    {
     "name": "stdout",
     "output_type": "stream",
     "text": [
      "Chatbot: Hello! Type 'bye' to exit.\n"
     ]
    },
    {
     "name": "stdin",
     "output_type": "stream",
     "text": [
      "You:  whats your name\n"
     ]
    },
    {
     "name": "stdout",
     "output_type": "stream",
     "text": [
      "Chatbot: I'm a simple chatbot created to assist you.\n"
     ]
    },
    {
     "name": "stdin",
     "output_type": "stream",
     "text": [
      "You:  how are    you\n"
     ]
    },
    {
     "name": "stdout",
     "output_type": "stream",
     "text": [
      "Chatbot: I'm a simple chatbot created to assist you.\n"
     ]
    },
    {
     "name": "stdin",
     "output_type": "stream",
     "text": [
      "You:  how are you\n"
     ]
    },
    {
     "name": "stdout",
     "output_type": "stream",
     "text": [
      "Chatbot: I'm just a bot, but I'm doing great! How about you?\n"
     ]
    },
    {
     "name": "stdin",
     "output_type": "stream",
     "text": [
      "You:  jkcvkjc\n"
     ]
    },
    {
     "name": "stdout",
     "output_type": "stream",
     "text": [
      "Chatbot: I'm a simple chatbot created to assist you.\n"
     ]
    },
    {
     "name": "stdin",
     "output_type": "stream",
     "text": [
      "You:  sdfsdfsdfsdfsdf\n"
     ]
    },
    {
     "name": "stdout",
     "output_type": "stream",
     "text": [
      "Chatbot: I'm a simple chatbot created to assist you.\n"
     ]
    },
    {
     "name": "stdin",
     "output_type": "stream",
     "text": [
      "You:  bye\n"
     ]
    },
    {
     "name": "stdout",
     "output_type": "stream",
     "text": [
      "Chatbot: Goodbye! Have a great day!\n"
     ]
    }
   ],
   "source": [
    "# Function to get a response from the chatbot\n",
    "def get_response(user_input):\n",
    "    user_input = user_input.lower()\n",
    "    if \"hello\" in user_input or \"hi\" in user_input:\n",
    "        return \"Hello! How can I help you today?\"\n",
    "    elif \"how are you\" in user_input:\n",
    "        return \"I'm just a bot, but I'm doing great! How about you?\"\n",
    "    elif \"what is your name\" or \"whats your name\" in user_input:\n",
    "        return \"I'm a simple chatbot created to assist you.\"\n",
    "    elif \"bye\" in user_input or \"goodbye\" in user_input:\n",
    "        return \"Goodbye! Have a great day!\"\n",
    "    else:\n",
    "        return \"I'm sorry, I don't understand that. Can you please rephrase?\"\n",
    "\n",
    "# Main program\n",
    "def main():\n",
    "    print(\"Chatbot: Hello! Type 'bye' to exit.\")\n",
    "    while True:\n",
    "        user_input = input(\"You: \")\n",
    "        if user_input.lower() in [\"bye\", \"goodbye\"]:\n",
    "            print(\"Chatbot: Goodbye! Have a great day!\")\n",
    "            break\n",
    "        response = get_response(user_input)\n",
    "        print(\"Chatbot:\", response)\n",
    "\n",
    "# Running the main program\n",
    "if __name__ == \"__main__\":\n",
    "    main()"
   ]
  },
  {
   "cell_type": "markdown",
   "metadata": {},
   "source": [
    "**10. Matrix Multiplication:** Write a Python function to perform matrix multiplication on two matrices.\n",
    "\n",
    "- *Skills used:* Functions, nested loops, list operations."
   ]
  },
  {
   "cell_type": "markdown",
   "metadata": {},
   "source": [
    "**EXTRA: Library Management System:** Write a Python program to create a library management system with functionalities to add, view, issue, and return books. The data should be stored in a text file.\n",
    "\n",
    "- *Skills used:* File handling, data structures (dict, list), functions, loops, conditional statements."
   ]
  },
  {
   "cell_type": "markdown",
   "metadata": {},
   "source": [
    "**EXTRA: E-commerce Inventory Management System:** Write a Python program to create an e-commerce inventory management system that includes functionalities for adding, updating, viewing, and deleting products. The system should also allow tracking of stock levels and generating sales reports. Store data in a text file or a database.\n",
    "\n",
    "**Requirements:**\n",
    "- Add Product: Add a new product with details such as product ID, name, description, price, and stock quantity.\n",
    "- Update Product: Update the details of an existing product.\n",
    "- View Products: View the list of all products.\n",
    "- Delete Product: Delete a product from the inventory.\n",
    "- Track Stock Levels: Track and update the stock levels of products after sales.\n",
    "- Generate Sales Reports: Generate reports showing sales details such as total revenue, total products sold, and inventory levels.\n",
    "\n",
    "- *Skills Used:* File handling, Data structures (dict, list), Functions, Loops, Conditional statements, String operations"
   ]
  },
  {
   "cell_type": "markdown",
   "metadata": {},
   "source": []
  }
 ],
 "metadata": {
  "kernelspec": {
   "display_name": "Python 3 (ipykernel)",
   "language": "python",
   "name": "python3"
  },
  "language_info": {
   "codemirror_mode": {
    "name": "ipython",
    "version": 3
   },
   "file_extension": ".py",
   "mimetype": "text/x-python",
   "name": "python",
   "nbconvert_exporter": "python",
   "pygments_lexer": "ipython3",
   "version": "3.11.7"
  }
 },
 "nbformat": 4,
 "nbformat_minor": 4
}
