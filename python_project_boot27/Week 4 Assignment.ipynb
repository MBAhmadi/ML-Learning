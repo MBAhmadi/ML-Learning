{
 "cells": [
  {
   "cell_type": "markdown",
   "metadata": {},
   "source": [
    "**1. Simple Calculator:** Write a Python program that takes two numbers and an operator (+, -, *, /) as input and prints the result of the operation.\n",
    "\n",
    "- *Skills used:* Basic syntax, input, if, elif, else."
   ]
  },
  {
   "cell_type": "markdown",
   "metadata": {},
   "source": [
    "**Solving the problem 1. Simple Calculator:**"
   ]
  },
  {
   "cell_type": "code",
   "execution_count": 4,
   "metadata": {},
   "outputs": [
    {
     "name": "stdin",
     "output_type": "stream",
     "text": [
      "Enter the first number:  12.8\n",
      "Enter the second number:  13.6\n",
      "Enter the operator (+, -, *, /):  *\n"
     ]
    },
    {
     "name": "stdout",
     "output_type": "stream",
     "text": [
      "The result is: 174.08\n"
     ]
    }
   ],
   "source": [
    "# Function to perform the calculation\n",
    "def calculate(num1, num2, operator):\n",
    "    if operator == '+':\n",
    "        return num1 + num2\n",
    "    elif operator == '-':\n",
    "        return num1 - num2\n",
    "    elif operator == '*':\n",
    "        return num1 * num2\n",
    "    elif operator == '/':\n",
    "        if num2 != 0:\n",
    "            return num1 / num2\n",
    "        else:\n",
    "            return \"Error! Division by zero.\"\n",
    "    else:\n",
    "        return \"Invalid operator!\"\n",
    "\n",
    "# Main program\n",
    "def main():\n",
    "    # Taking input from the user\n",
    "    num1 = float(input(\"Enter the first number: \"))\n",
    "    num2 = float(input(\"Enter the second number: \"))\n",
    "    operator = input(\"Enter the operator (+, -, *, /): \")\n",
    "\n",
    "    # Performing the calculation\n",
    "    result = calculate(num1, num2, operator)\n",
    "\n",
    "    # Printing the result\n",
    "    print(\"The result is:\", result)\n",
    "\n",
    "# Running the main program\n",
    "main()"
   ]
  },
  {
   "cell_type": "markdown",
   "metadata": {},
   "source": [
    "**2. Odd or Even:** Write a Python program that takes a number as input and prints whether the number is odd or even.\n",
    "\n",
    "- *Skills used:* Basic syntax, input, if, else."
   ]
  },
  {
   "cell_type": "markdown",
   "metadata": {},
   "source": [
    "**Solving the problem 2. Odd or Even:**"
   ]
  },
  {
   "cell_type": "code",
   "execution_count": 6,
   "metadata": {},
   "outputs": [
    {
     "name": "stdin",
     "output_type": "stream",
     "text": [
      "Enter a number:  58\n"
     ]
    },
    {
     "name": "stdout",
     "output_type": "stream",
     "text": [
      "58 is Even\n"
     ]
    }
   ],
   "source": [
    "# Function to check odd or even\n",
    "def check_odd_even(number):\n",
    "    if number % 2 == 0:\n",
    "        return f\"{number} is Even\"\n",
    "    else:\n",
    "        return f\"{number} is Odd\"\n",
    "\n",
    "# Main program\n",
    "def main():\n",
    "    # Taking input from the user\n",
    "    num = int(input(\"Enter a number: \"))\n",
    "\n",
    "    # Checking if the number is odd or even\n",
    "    result = check_odd_even(num)\n",
    "\n",
    "    # Printing the result\n",
    "    print(result)\n",
    "\n",
    "# Running the main program\n",
    "main()"
   ]
  },
  {
   "cell_type": "markdown",
   "metadata": {},
   "source": [
    "**3. Student Grades:** Write a Python program to manage student grades. The program should allow entering the grades of students, storing them in a dictionary, and calculating the average grade.\n",
    "\n",
    "- *Skills used:* Data structures (dict), loops (for), functions."
   ]
  },
  {
   "cell_type": "markdown",
   "metadata": {},
   "source": [
    "**Solving the problem 3. Student Grades:**"
   ]
  },
  {
   "cell_type": "code",
   "execution_count": 30,
   "metadata": {},
   "outputs": [
    {
     "name": "stdin",
     "output_type": "stream",
     "text": [
      "Enter the number of students:  2\n",
      "Enter the student's name:  mba\n",
      "Enter the grades separated by space:  18 19 15 14 17 18 12 10\n",
      "Enter the student's name:  nbbxn\n",
      "Enter the grades separated by space:  12 15 16 17 14 10 12 10\n"
     ]
    },
    {
     "name": "stdout",
     "output_type": "stream",
     "text": [
      "mba's average grade is: 15.38\n",
      "nbbxn's average grade is: 13.25\n"
     ]
    }
   ],
   "source": [
    "# Function to calculate the average grade\n",
    "def calculate_average(grades):\n",
    "    return sum(grades) / len(grades)\n",
    "\n",
    "# Main program\n",
    "def main():\n",
    "    # Dictionary to store student grades\n",
    "    student_grades = {}\n",
    "\n",
    "    # Number of students\n",
    "    num_students = int(input(\"Enter the number of students: \"))\n",
    "\n",
    "    # Loop to enter grades for each student\n",
    "    for _ in range(num_students):\n",
    "        name = input(\"Enter the student's name: \")\n",
    "        grades = input(\"Enter the grades separated by space: \").split()\n",
    "        grades = [float(grade) for grade in grades]\n",
    "        student_grades[name] = grades\n",
    "\n",
    "    # Calculate and print the average grade for each student\n",
    "    for student, grades in student_grades.items():\n",
    "        average = calculate_average(grades)\n",
    "        print(f\"{student}'s average grade is: {average:.2f}\")\n",
    "\n",
    "# Running the main program\n",
    "main()"
   ]
  },
  {
   "cell_type": "markdown",
   "metadata": {},
   "source": [
    "**4. Word Frequency:** Write a Python program to read a text file and count the frequency of each word in the file.\n",
    "\n",
    "- *Skills used:* File handling, data structures (dict), loops."
   ]
  },
  {
   "cell_type": "markdown",
   "metadata": {},
   "source": [
    "**Solving the problem 4. Word Frequency:**"
   ]
  },
  {
   "cell_type": "code",
   "execution_count": 8,
   "metadata": {},
   "outputs": [
    {
     "name": "stdin",
     "output_type": "stream",
     "text": [
      "Enter the filename:  mba.txt\n"
     ]
    },
    {
     "name": "stdout",
     "output_type": "stream",
     "text": [
      "parents: 1\n",
      "often: 2\n",
      "tell: 1\n",
      "their: 1\n",
      "children: 1\n",
      "myths: 1\n",
      "and: 3\n",
      "misconceptions: 1\n",
      "in: 1\n",
      "an: 1\n",
      "effort: 1\n",
      "to: 1\n",
      "avoid: 1\n",
      "tantrums: 1\n",
      "gain: 1\n",
      "obedience: 1\n",
      "regrettably: 1\n",
      "these: 1\n",
      "falsehoods: 1\n",
      "are: 1\n",
      "perpetuated: 1\n",
      "unquestioningly: 1\n",
      "accepted: 1\n",
      "as: 1\n",
      "truth: 1\n",
      "for: 1\n",
      "generations: 1\n"
     ]
    }
   ],
   "source": [
    "# Function to count word frequency\n",
    "def count_word_frequency(filename):\n",
    "    word_count = {}\n",
    "    with open(filename, 'r') as file:\n",
    "        contents = file.read().lower()\n",
    "        words = ''.join(char if char.isalnum() else ' ' for char in contents).split()\n",
    "        for word in words:\n",
    "            if word in word_count:\n",
    "                word_count[word] += 1\n",
    "            else:\n",
    "                word_count[word] = 1\n",
    "    return word_count\n",
    "\n",
    "# Main program\n",
    "def main():\n",
    "    # Taking the filename as input from the user\n",
    "    filename = input(\"Enter the filename: \")\n",
    "    \n",
    "    # Counting word frequency\n",
    "    word_count = count_word_frequency(filename)\n",
    "    \n",
    "    # Printing the word frequencies\n",
    "    for word, count in word_count.items():\n",
    "        print(f\"{word}: {count}\")\n",
    "\n",
    "# Running the main program\n",
    "main()"
   ]
  },
  {
   "cell_type": "markdown",
   "metadata": {},
   "source": [
    "**5. Fibonacci Sequence:** Write a Python function that returns the first n numbers of the Fibonacci sequence.\n",
    "\n",
    "- *Skills used:* Functions, loops."
   ]
  },
  {
   "cell_type": "markdown",
   "metadata": {},
   "source": [
    "**Solving the problem 5. Fibonacci Sequence:**"
   ]
  },
  {
   "cell_type": "code",
   "execution_count": 10,
   "metadata": {},
   "outputs": [
    {
     "name": "stdin",
     "output_type": "stream",
     "text": [
      "Enter the number of Fibonacci numbers to generate:  25\n"
     ]
    },
    {
     "name": "stdout",
     "output_type": "stream",
     "text": [
      "The first 25 numbers of the Fibonacci sequence are:\n",
      "[0, 1, 1, 2, 3, 5, 8, 13, 21, 34, 55, 89, 144, 233, 377, 610, 987, 1597, 2584, 4181, 6765, 10946, 17711, 28657, 46368]\n"
     ]
    }
   ],
   "source": [
    "# Function to generate the first n Fibonacci numbers\n",
    "def fibonacci_sequence(n):\n",
    "    sequence = []\n",
    "    a, b = 0, 1\n",
    "    for _ in range(n):\n",
    "        sequence.append(a)\n",
    "        a, b = b, a + b\n",
    "    return sequence\n",
    "\n",
    "# Main program\n",
    "def main():\n",
    "    # Taking input from the user\n",
    "    n = int(input(\"Enter the number of Fibonacci numbers to generate: \"))\n",
    "    \n",
    "    # Generating the Fibonacci sequence\n",
    "    sequence = fibonacci_sequence(n)\n",
    "    \n",
    "    # Printing the sequence\n",
    "    print(\"The first\", n, \"numbers of the Fibonacci sequence are:\")\n",
    "    print(sequence)\n",
    "\n",
    "# Running the main program\n",
    "main()"
   ]
  },
  {
   "cell_type": "markdown",
   "metadata": {},
   "source": [
    "**6. Text File Statistics:** Write a Python program that reads a text file and calculates the number of lines, words, and characters in the file.\n",
    "\n",
    "- *Skills used:* File handling, data structures, loops."
   ]
  },
  {
   "cell_type": "markdown",
   "metadata": {},
   "source": [
    "**Solving the problem 6. Text File Statistics:**"
   ]
  },
  {
   "cell_type": "code",
   "execution_count": 12,
   "metadata": {},
   "outputs": [
    {
     "name": "stdin",
     "output_type": "stream",
     "text": [
      "Enter the filename:  mba.txt\n"
     ]
    },
    {
     "name": "stdout",
     "output_type": "stream",
     "text": [
      "Number of lines: 1\n",
      "Number of words: 30\n",
      "Number of characters: 216\n"
     ]
    }
   ],
   "source": [
    "# Function to calculate statistics\n",
    "def file_statistics(filename):\n",
    "    with open(filename, 'r') as file:\n",
    "        lines = file.readlines()\n",
    "        num_lines = len(lines)\n",
    "        num_words = sum(len(line.split()) for line in lines)\n",
    "        num_chars = sum(len(line) for line in lines)\n",
    "    return num_lines, num_words, num_chars\n",
    "\n",
    "# Main program\n",
    "def main():\n",
    "    # Taking the filename as input from the user\n",
    "    filename = input(\"Enter the filename: \")\n",
    "    \n",
    "    # Calculating statistics\n",
    "    num_lines, num_words, num_chars = file_statistics(filename)\n",
    "    \n",
    "    # Printing the statistics\n",
    "    print(f\"Number of lines: {num_lines}\")\n",
    "    print(f\"Number of words: {num_words}\")\n",
    "    print(f\"Number of characters: {num_chars}\")\n",
    "\n",
    "# Running the main program\n",
    "main()"
   ]
  },
  {
   "cell_type": "markdown",
   "metadata": {},
   "source": [
    "**7. Shopping List:** Write a Python program that allows the user to create, view, and delete items from a shopping list stored in a text file.\n",
    "\n",
    "- *Skills used:* File handling, data structures (list), functions, loops."
   ]
  },
  {
   "cell_type": "markdown",
   "metadata": {},
   "source": [
    "**Solving the problem 7. Shopping List:**"
   ]
  },
  {
   "cell_type": "code",
   "execution_count": 14,
   "metadata": {},
   "outputs": [
    {
     "name": "stdout",
     "output_type": "stream",
     "text": [
      "\n",
      "Shopping List Menu:\n",
      "1. Add an item\n",
      "2. View the list\n",
      "3. Delete an item\n",
      "4. Exit\n"
     ]
    },
    {
     "name": "stdin",
     "output_type": "stream",
     "text": [
      "Enter your choice:  2\n"
     ]
    },
    {
     "name": "stdout",
     "output_type": "stream",
     "text": [
      "Shopping List:\n",
      "coffee\n",
      "sugar\n",
      "\n",
      "Shopping List Menu:\n",
      "1. Add an item\n",
      "2. View the list\n",
      "3. Delete an item\n",
      "4. Exit\n"
     ]
    },
    {
     "name": "stdin",
     "output_type": "stream",
     "text": [
      "Enter your choice:  1\n",
      "Enter the item to add:  detergent\n"
     ]
    },
    {
     "name": "stdout",
     "output_type": "stream",
     "text": [
      "\n",
      "Shopping List Menu:\n",
      "1. Add an item\n",
      "2. View the list\n",
      "3. Delete an item\n",
      "4. Exit\n"
     ]
    },
    {
     "name": "stdin",
     "output_type": "stream",
     "text": [
      "Enter your choice:  1\n",
      "Enter the item to add:  bread\n"
     ]
    },
    {
     "name": "stdout",
     "output_type": "stream",
     "text": [
      "\n",
      "Shopping List Menu:\n",
      "1. Add an item\n",
      "2. View the list\n",
      "3. Delete an item\n",
      "4. Exit\n"
     ]
    },
    {
     "name": "stdin",
     "output_type": "stream",
     "text": [
      "Enter your choice:  1\n",
      "Enter the item to add:  tea\n"
     ]
    },
    {
     "name": "stdout",
     "output_type": "stream",
     "text": [
      "\n",
      "Shopping List Menu:\n",
      "1. Add an item\n",
      "2. View the list\n",
      "3. Delete an item\n",
      "4. Exit\n"
     ]
    },
    {
     "name": "stdin",
     "output_type": "stream",
     "text": [
      "Enter your choice:  2\n"
     ]
    },
    {
     "name": "stdout",
     "output_type": "stream",
     "text": [
      "Shopping List:\n",
      "coffee\n",
      "sugar\n",
      "detergent\n",
      "bread\n",
      "tea\n",
      "\n",
      "Shopping List Menu:\n",
      "1. Add an item\n",
      "2. View the list\n",
      "3. Delete an item\n",
      "4. Exit\n"
     ]
    },
    {
     "name": "stdin",
     "output_type": "stream",
     "text": [
      "Enter your choice:  4\n"
     ]
    },
    {
     "name": "stdout",
     "output_type": "stream",
     "text": [
      "Exiting the program.\n"
     ]
    }
   ],
   "source": [
    "# Function to add an item to the shopping list\n",
    "def add_item(filename, item):\n",
    "    with open(filename, 'a') as file:\n",
    "        file.write(item + '\\n')\n",
    "\n",
    "# Function to view the shopping list\n",
    "def view_list(filename):\n",
    "    try:\n",
    "        with open(filename, 'r') as file:\n",
    "            items = file.readlines()\n",
    "            if items:\n",
    "                print(\"Shopping List:\")\n",
    "                for item in items:\n",
    "                    print(item.strip())\n",
    "            else:\n",
    "                print(\"The shopping list is empty.\")\n",
    "    except FileNotFoundError:\n",
    "        print(\"The shopping list is empty.\")\n",
    "\n",
    "# Function to delete an item from the shopping list\n",
    "def delete_item(filename, item):\n",
    "    try:\n",
    "        with open(filename, 'r') as file:\n",
    "            items = file.readlines()\n",
    "        with open(filename, 'w') as file:\n",
    "            for line in items:\n",
    "                if line.strip() != item:\n",
    "                    file.write(line)\n",
    "        print(f\"'{item}' has been deleted from the shopping list.\")\n",
    "    except FileNotFoundError:\n",
    "        print(\"The shopping list is empty.\")\n",
    "\n",
    "# Main program\n",
    "def main():\n",
    "    filename = 'shopping_list.txt'\n",
    "    \n",
    "    while True:\n",
    "        print(\"\\nShopping List Menu:\")\n",
    "        print(\"1. Add an item\")\n",
    "        print(\"2. View the list\")\n",
    "        print(\"3. Delete an item\")\n",
    "        print(\"4. Exit\")\n",
    "        \n",
    "        choice = input(\"Enter your choice: \")\n",
    "        \n",
    "        if choice == '1':\n",
    "            item = input(\"Enter the item to add: \")\n",
    "            add_item(filename, item)\n",
    "        elif choice == '2':\n",
    "            view_list(filename)\n",
    "        elif choice == '3':\n",
    "            item = input(\"Enter the item to delete: \")\n",
    "            delete_item(filename, item)\n",
    "        elif choice == '4':\n",
    "            print(\"Exiting the program.\")\n",
    "            break\n",
    "        else:\n",
    "            print(\"Invalid choice. Please try again.\")\n",
    "\n",
    "# Running the main program\n",
    "main()"
   ]
  },
  {
   "cell_type": "markdown",
   "metadata": {},
   "source": [
    "**8. Prime Numbers:** Write a Python function to check if a number is prime and then use it to print all prime numbers in a given range.\n",
    "\n",
    "- *Skills used:* Functions, loops, conditional statements."
   ]
  },
  {
   "cell_type": "markdown",
   "metadata": {},
   "source": [
    "**Solving the problem 8. Prime Numbers:**"
   ]
  },
  {
   "cell_type": "code",
   "execution_count": 16,
   "metadata": {},
   "outputs": [
    {
     "name": "stdin",
     "output_type": "stream",
     "text": [
      "Enter the start of the range:  10\n",
      "Enter the end of the range:  158\n"
     ]
    },
    {
     "name": "stdout",
     "output_type": "stream",
     "text": [
      "Prime numbers between 10 and 158 are: [11, 13, 17, 19, 23, 29, 31, 37, 41, 43, 47, 53, 59, 61, 67, 71, 73, 79, 83, 89, 97, 101, 103, 107, 109, 113, 127, 131, 137, 139, 149, 151, 157]\n"
     ]
    }
   ],
   "source": [
    "# Function to check if a number is prime\n",
    "def is_prime(n):\n",
    "    if n <= 1:\n",
    "        return False\n",
    "    for i in range(2, int(n**0.5) + 1):\n",
    "        if n % i == 0:\n",
    "            return False\n",
    "    return True\n",
    "\n",
    "# Function to print all prime numbers in a given range\n",
    "def print_primes_in_range(start, end):\n",
    "    primes = []\n",
    "    for num in range(start, end + 1):\n",
    "        if is_prime(num):\n",
    "            primes.append(num)\n",
    "    return primes\n",
    "\n",
    "# Main program\n",
    "def main():\n",
    "    # Taking input from the user\n",
    "    start = int(input(\"Enter the start of the range: \"))\n",
    "    end = int(input(\"Enter the end of the range: \"))\n",
    "    \n",
    "    # Printing prime numbers in the given range\n",
    "    primes = print_primes_in_range(start, end)\n",
    "    print(f\"Prime numbers between {start} and {end} are: {primes}\")\n",
    "\n",
    "# Running the main program\n",
    "main()"
   ]
  },
  {
   "cell_type": "markdown",
   "metadata": {},
   "source": [
    "**9. Simple Chatbot:** Write a Python program to create a simple chatbot that can respond to basic greetings and questions.\n",
    "\n",
    "- *Skills used:* Functions, conditional statements, loops, string operations."
   ]
  },
  {
   "cell_type": "markdown",
   "metadata": {},
   "source": [
    "**Solving the problem 9. Simple Chatbot:**"
   ]
  },
  {
   "cell_type": "code",
   "execution_count": 30,
   "metadata": {},
   "outputs": [
    {
     "name": "stdout",
     "output_type": "stream",
     "text": [
      "Chatbot: Hello! Type 'bye' to exit.\n"
     ]
    },
    {
     "name": "stdin",
     "output_type": "stream",
     "text": [
      "You:  hi\n"
     ]
    },
    {
     "name": "stdout",
     "output_type": "stream",
     "text": [
      "Chatbot: Hello! How can I help you today?\n"
     ]
    },
    {
     "name": "stdin",
     "output_type": "stream",
     "text": [
      "You:  sdfsdfs\n"
     ]
    },
    {
     "name": "stdout",
     "output_type": "stream",
     "text": [
      "Chatbot: I'm sorry, I don't understand that. Can you please rephrase?\n"
     ]
    },
    {
     "name": "stdin",
     "output_type": "stream",
     "text": [
      "You:  hi\n"
     ]
    },
    {
     "name": "stdout",
     "output_type": "stream",
     "text": [
      "Chatbot: Hello! How can I help you today?\n"
     ]
    },
    {
     "name": "stdin",
     "output_type": "stream",
     "text": [
      "You:  whats your name\n"
     ]
    },
    {
     "name": "stdout",
     "output_type": "stream",
     "text": [
      "Chatbot: I'm a simple chatbot created to assist you.\n"
     ]
    },
    {
     "name": "stdin",
     "output_type": "stream",
     "text": [
      "You:  bye\n"
     ]
    },
    {
     "name": "stdout",
     "output_type": "stream",
     "text": [
      "Chatbot: Goodbye! Have a great day!\n"
     ]
    }
   ],
   "source": [
    "# Function to get a response from the chatbot\n",
    "def get_response(user_input):\n",
    "    user_input = user_input.lower()\n",
    "    if \"hello\" in user_input or \"hi\" in user_input:\n",
    "        return \"Hello! How can I help you today?\"\n",
    "    elif \"how are you\" in user_input:\n",
    "        return \"I'm just a bot, but I'm doing great! How about you?\"\n",
    "    elif \"what is your name\" in user_input or \"whats your name\" in user_input:\n",
    "        return \"I'm a simple chatbot created to assist you.\"\n",
    "    elif \"bye\" in user_input or \"goodbye\" in user_input:\n",
    "        return \"Goodbye! Have a great day!\"\n",
    "    else:\n",
    "        return \"I'm sorry, I don't understand that. Can you please rephrase?\"\n",
    "\n",
    "# Main program\n",
    "def main():\n",
    "    print(\"Chatbot: Hello! Type 'bye' to exit.\")\n",
    "    while True:\n",
    "        user_input = input(\"You: \")\n",
    "        if user_input.lower() in [\"bye\", \"goodbye\"]:\n",
    "            print(\"Chatbot: Goodbye! Have a great day!\")\n",
    "            break\n",
    "        response = get_response(user_input)\n",
    "        print(\"Chatbot:\", response)\n",
    "\n",
    "# Running the main program\n",
    "main()"
   ]
  },
  {
   "cell_type": "markdown",
   "metadata": {},
   "source": [
    "**10. Matrix Multiplication:** Write a Python function to perform matrix multiplication on two matrices.\n",
    "\n",
    "- *Skills used:* Functions, nested loops, list operations."
   ]
  },
  {
   "cell_type": "markdown",
   "metadata": {},
   "source": [
    "**Solving the problem 10. Matrix Multiplication:**"
   ]
  },
  {
   "cell_type": "code",
   "execution_count": 20,
   "metadata": {},
   "outputs": [
    {
     "name": "stdout",
     "output_type": "stream",
     "text": [
      "Result of matrix multiplication:\n",
      "[30, 24, 18]\n",
      "[84, 69, 54]\n",
      "[138, 114, 90]\n"
     ]
    }
   ],
   "source": [
    "# Function to perform matrix multiplication\n",
    "def matrix_multiply(A, B):\n",
    "    # Get the dimensions of the matrices\n",
    "    rows_A, cols_A = len(A), len(A[0])\n",
    "    rows_B, cols_B = len(B), len(B[0])\n",
    "    \n",
    "    # Check if multiplication is possible\n",
    "    if cols_A != rows_B:\n",
    "        raise ValueError(\"Number of columns in A must be equal to number of rows in B\")\n",
    "    \n",
    "    # Initialize the result matrix with zeros\n",
    "    result = [[0 for _ in range(cols_B)] for _ in range(rows_A)]\n",
    "    \n",
    "    # Perform matrix multiplication\n",
    "    for i in range(rows_A):\n",
    "        for j in range(cols_B):\n",
    "            for k in range(cols_A):\n",
    "                result[i][j] += A[i][k] * B[k][j]\n",
    "    \n",
    "    return result\n",
    "\n",
    "# Main program\n",
    "def main():\n",
    "    # Example matrices\n",
    "    A = [\n",
    "        [1, 2, 3],\n",
    "        [4, 5, 6],\n",
    "        [7, 8, 9]\n",
    "    ]\n",
    "    \n",
    "    B = [\n",
    "        [9, 8, 7],\n",
    "        [6, 5, 4],\n",
    "        [3, 2, 1]\n",
    "    ]\n",
    "    \n",
    "    # Perform matrix multiplication\n",
    "    result = matrix_multiply(A, B)\n",
    "    \n",
    "    # Print the result\n",
    "    print(\"Result of matrix multiplication:\")\n",
    "    for row in result:\n",
    "        print(row)\n",
    "\n",
    "# Running the main program\n",
    "main()"
   ]
  },
  {
   "cell_type": "markdown",
   "metadata": {},
   "source": [
    "**EXTRA: Library Management System:** Write a Python program to create a library management system with functionalities to add, view, issue, and return books. The data should be stored in a text file.\n",
    "\n",
    "- *Skills used:* File handling, data structures (dict, list), functions, loops, conditional statements."
   ]
  },
  {
   "cell_type": "markdown",
   "metadata": {},
   "source": [
    "**Solving the problem EXTRA: Library Management System:**"
   ]
  },
  {
   "cell_type": "code",
   "execution_count": 22,
   "metadata": {},
   "outputs": [
    {
     "name": "stdout",
     "output_type": "stream",
     "text": [
      "\n",
      "Library Management System Menu:\n",
      "1. Add a book\n",
      "2. View all books\n",
      "3. Issue a book\n",
      "4. Return a book\n",
      "5. Exit\n"
     ]
    },
    {
     "name": "stdin",
     "output_type": "stream",
     "text": [
      "Enter your choice:  1\n",
      "Enter the book title:  css learning\n",
      "Enter the book author:  mba\n"
     ]
    },
    {
     "name": "stdout",
     "output_type": "stream",
     "text": [
      "\n",
      "Library Management System Menu:\n",
      "1. Add a book\n",
      "2. View all books\n",
      "3. Issue a book\n",
      "4. Return a book\n",
      "5. Exit\n"
     ]
    },
    {
     "name": "stdin",
     "output_type": "stream",
     "text": [
      "Enter your choice:  2\n"
     ]
    },
    {
     "name": "stdout",
     "output_type": "stream",
     "text": [
      "Books in the library:\n",
      "Title: python learning, Author: mba, Status: available\n",
      "Title: css learning, Author: mba, Status: available\n",
      "\n",
      "Library Management System Menu:\n",
      "1. Add a book\n",
      "2. View all books\n",
      "3. Issue a book\n",
      "4. Return a book\n",
      "5. Exit\n"
     ]
    },
    {
     "name": "stdin",
     "output_type": "stream",
     "text": [
      "Enter your choice:  5\n"
     ]
    },
    {
     "name": "stdout",
     "output_type": "stream",
     "text": [
      "Exiting the program.\n"
     ]
    }
   ],
   "source": [
    "import os\n",
    "\n",
    "# Function to add a book\n",
    "def add_book(filename, book):\n",
    "    with open(filename, 'a') as file:\n",
    "        file.write(f\"{book['title']},{book['author']},{book['status']}\\n\")\n",
    "\n",
    "# Function to view all books\n",
    "def view_books(filename):\n",
    "    if not os.path.exists(filename):\n",
    "        print(\"No books found.\")\n",
    "        return\n",
    "    with open(filename, 'r') as file:\n",
    "        books = file.readlines()\n",
    "        if books:\n",
    "            print(\"Books in the library:\")\n",
    "            for book in books:\n",
    "                title, author, status = book.strip().split(',')\n",
    "                print(f\"Title: {title}, Author: {author}, Status: {status}\")\n",
    "        else:\n",
    "            print(\"No books found.\")\n",
    "\n",
    "# Function to issue a book\n",
    "def issue_book(filename, title):\n",
    "    if not os.path.exists(filename):\n",
    "        print(\"No books found.\")\n",
    "        return\n",
    "    with open(filename, 'r') as file:\n",
    "        books = file.readlines()\n",
    "    with open(filename, 'w') as file:\n",
    "        issued = False\n",
    "        for book in books:\n",
    "            book_title, author, status = book.strip().split(',')\n",
    "            if book_title == title and status == 'available':\n",
    "                file.write(f\"{book_title},{author},issued\\n\")\n",
    "                issued = True\n",
    "            else:\n",
    "                file.write(book)\n",
    "        if issued:\n",
    "            print(f\"The book '{title}' has been issued.\")\n",
    "        else:\n",
    "            print(f\"The book '{title}' is not available or does not exist.\")\n",
    "\n",
    "# Function to return a book\n",
    "def return_book(filename, title):\n",
    "    if not os.path.exists(filename):\n",
    "        print(\"No books found.\")\n",
    "        return\n",
    "    with open(filename, 'r') as file:\n",
    "        books = file.readlines()\n",
    "    with open(filename, 'w') as file:\n",
    "        returned = False\n",
    "        for book in books:\n",
    "            book_title, author, status = book.strip().split(',')\n",
    "            if book_title == title and status == 'issued':\n",
    "                file.write(f\"{book_title},{author},available\\n\")\n",
    "                returned = True\n",
    "            else:\n",
    "                file.write(book)\n",
    "        if returned:\n",
    "            print(f\"The book '{title}' has been returned.\")\n",
    "        else:\n",
    "            print(f\"The book '{title}' was not issued or does not exist.\")\n",
    "\n",
    "# Main program\n",
    "def main():\n",
    "    filename = 'library.txt'\n",
    "    \n",
    "    while True:\n",
    "        print(\"\\nLibrary Management System Menu:\")\n",
    "        print(\"1. Add a book\")\n",
    "        print(\"2. View all books\")\n",
    "        print(\"3. Issue a book\")\n",
    "        print(\"4. Return a book\")\n",
    "        print(\"5. Exit\")\n",
    "        \n",
    "        choice = input(\"Enter your choice: \")\n",
    "        \n",
    "        if choice == '1':\n",
    "            title = input(\"Enter the book title: \")\n",
    "            author = input(\"Enter the book author: \")\n",
    "            book = {'title': title, 'author': author, 'status': 'available'}\n",
    "            add_book(filename, book)\n",
    "        elif choice == '2':\n",
    "            view_books(filename)\n",
    "        elif choice == '3':\n",
    "            title = input(\"Enter the book title to issue: \")\n",
    "            issue_book(filename, title)\n",
    "        elif choice == '4':\n",
    "            title = input(\"Enter the book title to return: \")\n",
    "            return_book(filename, title)\n",
    "        elif choice == '5':\n",
    "            print(\"Exiting the program.\")\n",
    "            break\n",
    "        else:\n",
    "            print(\"Invalid choice. Please try again.\")\n",
    "\n",
    "# Running the main program\n",
    "main()"
   ]
  },
  {
   "cell_type": "markdown",
   "metadata": {},
   "source": [
    "**EXTRA: E-commerce Inventory Management System:** Write a Python program to create an e-commerce inventory management system that includes functionalities for adding, updating, viewing, and deleting products. The system should also allow tracking of stock levels and generating sales reports. Store data in a text file or a database.\n",
    "\n",
    "**Requirements:**\n",
    "- Add Product: Add a new product with details such as product ID, name, description, price, and stock quantity.\n",
    "- Update Product: Update the details of an existing product.\n",
    "- View Products: View the list of all products.\n",
    "- Delete Product: Delete a product from the inventory.\n",
    "- Track Stock Levels: Track and update the stock levels of products after sales.\n",
    "- Generate Sales Reports: Generate reports showing sales details such as total revenue, total products sold, and inventory levels.\n",
    "\n",
    "- *Skills Used:* File handling, Data structures (dict, list), Functions, Loops, Conditional statements, String operations"
   ]
  },
  {
   "cell_type": "markdown",
   "metadata": {},
   "source": [
    "**Solving the problem EXTRA: E-commerce Inventory Management System:**"
   ]
  },
  {
   "cell_type": "code",
   "execution_count": 24,
   "metadata": {},
   "outputs": [
    {
     "name": "stdout",
     "output_type": "stream",
     "text": [
      "\n",
      "E-commerce Inventory Management System Menu:\n",
      "1. Add a product\n",
      "2. Update a product\n",
      "3. View all products\n",
      "4. Delete a product\n",
      "5. Track stock levels\n",
      "6. Generate sales report\n",
      "7. Exit\n"
     ]
    },
    {
     "name": "stdin",
     "output_type": "stream",
     "text": [
      "Enter your choice:  3\n"
     ]
    },
    {
     "name": "stdout",
     "output_type": "stream",
     "text": [
      "Products in the inventory:\n",
      "{'product_id': 'book', 'name': 'book', 'description': 'the bok', 'price': 125.0, 'stock_quantity': 10, 'initial_stock': 10}\n",
      "\n",
      "E-commerce Inventory Management System Menu:\n",
      "1. Add a product\n",
      "2. Update a product\n",
      "3. View all products\n",
      "4. Delete a product\n",
      "5. Track stock levels\n",
      "6. Generate sales report\n",
      "7. Exit\n"
     ]
    },
    {
     "name": "stdin",
     "output_type": "stream",
     "text": [
      "Enter your choice:  4\n",
      "Enter product ID to delete:  book\n"
     ]
    },
    {
     "name": "stdout",
     "output_type": "stream",
     "text": [
      "Product with ID 'book' has been deleted.\n",
      "\n",
      "E-commerce Inventory Management System Menu:\n",
      "1. Add a product\n",
      "2. Update a product\n",
      "3. View all products\n",
      "4. Delete a product\n",
      "5. Track stock levels\n",
      "6. Generate sales report\n",
      "7. Exit\n"
     ]
    },
    {
     "name": "stdin",
     "output_type": "stream",
     "text": [
      "Enter your choice:  3\n"
     ]
    },
    {
     "name": "stdout",
     "output_type": "stream",
     "text": [
      "No products found.\n",
      "\n",
      "E-commerce Inventory Management System Menu:\n",
      "1. Add a product\n",
      "2. Update a product\n",
      "3. View all products\n",
      "4. Delete a product\n",
      "5. Track stock levels\n",
      "6. Generate sales report\n",
      "7. Exit\n"
     ]
    },
    {
     "name": "stdin",
     "output_type": "stream",
     "text": [
      "Enter your choice:  1\n",
      "Enter product ID:  100\n",
      "Enter product name:  book\n",
      "Enter product description:  the book for learning python\n",
      "Enter product price:  150\n",
      "Enter stock quantity:  20\n"
     ]
    },
    {
     "name": "stdout",
     "output_type": "stream",
     "text": [
      "\n",
      "E-commerce Inventory Management System Menu:\n",
      "1. Add a product\n",
      "2. Update a product\n",
      "3. View all products\n",
      "4. Delete a product\n",
      "5. Track stock levels\n",
      "6. Generate sales report\n",
      "7. Exit\n"
     ]
    },
    {
     "name": "stdin",
     "output_type": "stream",
     "text": [
      "Enter your choice:  1\n",
      "Enter product ID:  101\n",
      "Enter product name:  phone\n",
      "Enter product description:  apple iphone 13\n",
      "Enter product price:  1200\n",
      "Enter stock quantity:  18\n"
     ]
    },
    {
     "name": "stdout",
     "output_type": "stream",
     "text": [
      "\n",
      "E-commerce Inventory Management System Menu:\n",
      "1. Add a product\n",
      "2. Update a product\n",
      "3. View all products\n",
      "4. Delete a product\n",
      "5. Track stock levels\n",
      "6. Generate sales report\n",
      "7. Exit\n"
     ]
    },
    {
     "name": "stdin",
     "output_type": "stream",
     "text": [
      "Enter your choice:  3\n"
     ]
    },
    {
     "name": "stdout",
     "output_type": "stream",
     "text": [
      "Products in the inventory:\n",
      "{'product_id': '100', 'name': 'book', 'description': 'the book for learning python', 'price': 150.0, 'stock_quantity': 20, 'initial_stock': 20}\n",
      "{'product_id': '101', 'name': 'phone', 'description': 'apple iphone 13', 'price': 1200.0, 'stock_quantity': 18, 'initial_stock': 18}\n",
      "\n",
      "E-commerce Inventory Management System Menu:\n",
      "1. Add a product\n",
      "2. Update a product\n",
      "3. View all products\n",
      "4. Delete a product\n",
      "5. Track stock levels\n",
      "6. Generate sales report\n",
      "7. Exit\n"
     ]
    },
    {
     "name": "stdin",
     "output_type": "stream",
     "text": [
      "Enter your choice:  6\n"
     ]
    },
    {
     "name": "stdout",
     "output_type": "stream",
     "text": [
      "Total Revenue: 0.0\n",
      "Total Products Sold: 0\n",
      "\n",
      "E-commerce Inventory Management System Menu:\n",
      "1. Add a product\n",
      "2. Update a product\n",
      "3. View all products\n",
      "4. Delete a product\n",
      "5. Track stock levels\n",
      "6. Generate sales report\n",
      "7. Exit\n"
     ]
    },
    {
     "name": "stdin",
     "output_type": "stream",
     "text": [
      "Enter your choice:  5\n",
      "Enter product ID to track:  100\n",
      "Enter quantity sold:  3\n"
     ]
    },
    {
     "name": "stdout",
     "output_type": "stream",
     "text": [
      "Stock for product ID '100' has been updated.\n",
      "\n",
      "E-commerce Inventory Management System Menu:\n",
      "1. Add a product\n",
      "2. Update a product\n",
      "3. View all products\n",
      "4. Delete a product\n",
      "5. Track stock levels\n",
      "6. Generate sales report\n",
      "7. Exit\n"
     ]
    },
    {
     "name": "stdin",
     "output_type": "stream",
     "text": [
      "Enter your choice:  5\n",
      "Enter product ID to track:  101\n",
      "Enter quantity sold:  6\n"
     ]
    },
    {
     "name": "stdout",
     "output_type": "stream",
     "text": [
      "Stock for product ID '101' has been updated.\n",
      "\n",
      "E-commerce Inventory Management System Menu:\n",
      "1. Add a product\n",
      "2. Update a product\n",
      "3. View all products\n",
      "4. Delete a product\n",
      "5. Track stock levels\n",
      "6. Generate sales report\n",
      "7. Exit\n"
     ]
    },
    {
     "name": "stdin",
     "output_type": "stream",
     "text": [
      "Enter your choice:  6\n"
     ]
    },
    {
     "name": "stdout",
     "output_type": "stream",
     "text": [
      "Total Revenue: 7650.0\n",
      "Total Products Sold: 9\n",
      "\n",
      "E-commerce Inventory Management System Menu:\n",
      "1. Add a product\n",
      "2. Update a product\n",
      "3. View all products\n",
      "4. Delete a product\n",
      "5. Track stock levels\n",
      "6. Generate sales report\n",
      "7. Exit\n"
     ]
    },
    {
     "name": "stdin",
     "output_type": "stream",
     "text": [
      "Enter your choice:  2\n",
      "Enter product ID to update:  100\n",
      "Enter new product name:  book\n",
      "Enter new product description:  the book learning css\n",
      "Enter new product price:  410\n",
      "Enter new stock quantity:  16\n"
     ]
    },
    {
     "name": "stdout",
     "output_type": "stream",
     "text": [
      "Product with ID '100' has been updated.\n",
      "\n",
      "E-commerce Inventory Management System Menu:\n",
      "1. Add a product\n",
      "2. Update a product\n",
      "3. View all products\n",
      "4. Delete a product\n",
      "5. Track stock levels\n",
      "6. Generate sales report\n",
      "7. Exit\n"
     ]
    },
    {
     "name": "stdin",
     "output_type": "stream",
     "text": [
      "Enter your choice:  3\n"
     ]
    },
    {
     "name": "stdout",
     "output_type": "stream",
     "text": [
      "Products in the inventory:\n",
      "{'product_id': '100', 'name': 'book', 'description': 'the book learning css', 'price': 410.0, 'stock_quantity': 16, 'initial_stock': 16}\n",
      "{'product_id': '101', 'name': 'phone', 'description': 'apple iphone 13', 'price': 1200.0, 'stock_quantity': 12, 'initial_stock': 18}\n",
      "\n",
      "E-commerce Inventory Management System Menu:\n",
      "1. Add a product\n",
      "2. Update a product\n",
      "3. View all products\n",
      "4. Delete a product\n",
      "5. Track stock levels\n",
      "6. Generate sales report\n",
      "7. Exit\n"
     ]
    },
    {
     "name": "stdin",
     "output_type": "stream",
     "text": [
      "Enter your choice:  7\n"
     ]
    },
    {
     "name": "stdout",
     "output_type": "stream",
     "text": [
      "Exiting the program.\n"
     ]
    }
   ],
   "source": [
    "import os\n",
    "import json\n",
    "\n",
    "# Function to add a product\n",
    "def add_product(filename, product):\n",
    "    with open(filename, 'a') as file:\n",
    "        file.write(json.dumps(product) + '\\n')\n",
    "\n",
    "# Function to update a product\n",
    "def update_product(filename, product_id, updated_product):\n",
    "    if not os.path.exists(filename):\n",
    "        print(\"No products found.\")\n",
    "        return\n",
    "    with open(filename, 'r') as file:\n",
    "        products = file.readlines()\n",
    "    with open(filename, 'w') as file:\n",
    "        updated = False\n",
    "        for product in products:\n",
    "            product_data = json.loads(product.strip())\n",
    "            if product_data['product_id'] == product_id:\n",
    "                file.write(json.dumps(updated_product) + '\\n')\n",
    "                updated = True\n",
    "            else:\n",
    "                file.write(product)\n",
    "        if updated:\n",
    "            print(f\"Product with ID '{product_id}' has been updated.\")\n",
    "        else:\n",
    "            print(f\"Product with ID '{product_id}' not found.\")\n",
    "\n",
    "# Function to view all products\n",
    "def view_products(filename):\n",
    "    if not os.path.exists(filename):\n",
    "        print(\"No products found.\")\n",
    "        return\n",
    "    with open(filename, 'r') as file:\n",
    "        products = file.readlines()\n",
    "        if products:\n",
    "            print(\"Products in the inventory:\")\n",
    "            for product in products:\n",
    "                product_data = json.loads(product.strip())\n",
    "                print(product_data)\n",
    "        else:\n",
    "            print(\"No products found.\")\n",
    "\n",
    "# Function to delete a product\n",
    "def delete_product(filename, product_id):\n",
    "    if not os.path.exists(filename):\n",
    "        print(\"No products found.\")\n",
    "        return\n",
    "    with open(filename, 'r') as file:\n",
    "        products = file.readlines()\n",
    "    with open(filename, 'w') as file:\n",
    "        deleted = False\n",
    "        for product in products:\n",
    "            product_data = json.loads(product.strip())\n",
    "            if product_data['product_id'] == product_id:\n",
    "                deleted = True\n",
    "            else:\n",
    "                file.write(product)\n",
    "        if deleted:\n",
    "            print(f\"Product with ID '{product_id}' has been deleted.\")\n",
    "        else:\n",
    "            print(f\"Product with ID '{product_id}' not found.\")\n",
    "\n",
    "# Function to track stock levels\n",
    "def track_stock(filename, product_id, quantity_sold):\n",
    "    if not os.path.exists(filename):\n",
    "        print(\"No products found.\")\n",
    "        return\n",
    "    with open(filename, 'r') as file:\n",
    "        products = file.readlines()\n",
    "    with open(filename, 'w') as file:\n",
    "        updated = False\n",
    "        for product in products:\n",
    "            product_data = json.loads(product.strip())\n",
    "            if product_data['product_id'] == product_id:\n",
    "                if product_data['stock_quantity'] >= quantity_sold:\n",
    "                    product_data['stock_quantity'] -= quantity_sold\n",
    "                    updated = True\n",
    "                else:\n",
    "                    print(f\"Not enough stock for product ID '{product_id}'.\")\n",
    "            file.write(json.dumps(product_data) + '\\n')\n",
    "        if updated:\n",
    "            print(f\"Stock for product ID '{product_id}' has been updated.\")\n",
    "\n",
    "# Function to generate sales reports\n",
    "def generate_sales_report(filename):\n",
    "    if not os.path.exists(filename):\n",
    "        print(\"No products found.\")\n",
    "        return\n",
    "    with open(filename, 'r') as file:\n",
    "        products = file.readlines()\n",
    "    total_revenue = 0\n",
    "    total_products_sold = 0\n",
    "    for product in products:\n",
    "        product_data = json.loads(product.strip())\n",
    "        total_revenue += product_data['price'] * (product_data['initial_stock'] - product_data['stock_quantity'])\n",
    "        total_products_sold += product_data['initial_stock'] - product_data['stock_quantity']\n",
    "    print(f\"Total Revenue: {total_revenue}\")\n",
    "    print(f\"Total Products Sold: {total_products_sold}\")\n",
    "\n",
    "# Main program\n",
    "def main():\n",
    "    filename = 'inventory.txt'\n",
    "    \n",
    "    while True:\n",
    "        print(\"\\nE-commerce Inventory Management System Menu:\")\n",
    "        print(\"1. Add a product\")\n",
    "        print(\"2. Update a product\")\n",
    "        print(\"3. View all products\")\n",
    "        print(\"4. Delete a product\")\n",
    "        print(\"5. Track stock levels\")\n",
    "        print(\"6. Generate sales report\")\n",
    "        print(\"7. Exit\")\n",
    "        \n",
    "        choice = input(\"Enter your choice: \")\n",
    "        \n",
    "        if choice == '1':\n",
    "            product_id = input(\"Enter product ID: \")\n",
    "            name = input(\"Enter product name: \")\n",
    "            description = input(\"Enter product description: \")\n",
    "            price = float(input(\"Enter product price: \"))\n",
    "            stock_quantity = int(input(\"Enter stock quantity: \"))\n",
    "            product = {\n",
    "                'product_id': product_id,\n",
    "                'name': name,\n",
    "                'description': description,\n",
    "                'price': price,\n",
    "                'stock_quantity': stock_quantity,\n",
    "                'initial_stock': stock_quantity\n",
    "            }\n",
    "            add_product(filename, product)\n",
    "        elif choice == '2':\n",
    "            product_id = input(\"Enter product ID to update: \")\n",
    "            name = input(\"Enter new product name: \")\n",
    "            description = input(\"Enter new product description: \")\n",
    "            price = float(input(\"Enter new product price: \"))\n",
    "            stock_quantity = int(input(\"Enter new stock quantity: \"))\n",
    "            updated_product = {\n",
    "                'product_id': product_id,\n",
    "                'name': name,\n",
    "                'description': description,\n",
    "                'price': price,\n",
    "                'stock_quantity': stock_quantity,\n",
    "                'initial_stock': stock_quantity\n",
    "            }\n",
    "            update_product(filename, product_id, updated_product)\n",
    "        elif choice == '3':\n",
    "            view_products(filename)\n",
    "        elif choice == '4':\n",
    "            product_id = input(\"Enter product ID to delete: \")\n",
    "            delete_product(filename, product_id)\n",
    "        elif choice == '5':\n",
    "            product_id = input(\"Enter product ID to track: \")\n",
    "            quantity_sold = int(input(\"Enter quantity sold: \"))\n",
    "            track_stock(filename, product_id, quantity_sold)\n",
    "        elif choice == '6':\n",
    "            generate_sales_report(filename)\n",
    "        elif choice == '7':\n",
    "            print(\"Exiting the program.\")\n",
    "            break\n",
    "        else:\n",
    "            print(\"Invalid choice. Please try again.\")\n",
    "\n",
    "# Running the main program\n",
    "main()\n"
   ]
  },
  {
   "cell_type": "code",
   "execution_count": null,
   "metadata": {},
   "outputs": [],
   "source": []
  }
 ],
 "metadata": {
  "kernelspec": {
   "display_name": "Python 3 (ipykernel)",
   "language": "python",
   "name": "python3"
  },
  "language_info": {
   "codemirror_mode": {
    "name": "ipython",
    "version": 3
   },
   "file_extension": ".py",
   "mimetype": "text/x-python",
   "name": "python",
   "nbconvert_exporter": "python",
   "pygments_lexer": "ipython3",
   "version": "3.11.7"
  }
 },
 "nbformat": 4,
 "nbformat_minor": 4
}
