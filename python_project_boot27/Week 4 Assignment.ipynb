{
 "cells": [
  {
   "cell_type": "markdown",
   "metadata": {},
   "source": [
    "**1. Simple Calculator:** Write a Python program that takes two numbers and an operator (+, -, *, /) as input and prints the result of the operation.\n",
    "\n",
    "- *Skills used:* Basic syntax, input, if, elif, else."
   ]
  },
  {
   "cell_type": "markdown",
   "metadata": {},
   "source": [
    "**2. Odd or Even:** Write a Python program that takes a number as input and prints whether the number is odd or even.\n",
    "\n",
    "- *Skills used:* Basic syntax, input, if, else."
   ]
  },
  {
   "cell_type": "markdown",
   "metadata": {},
   "source": [
    "**3. Student Grades:** Write a Python program to manage student grades. The program should allow entering the grades of students, storing them in a dictionary, and calculating the average grade.\n",
    "\n",
    "- *Skills used:* Data structures (dict), loops (for), functions."
   ]
  },
  {
   "cell_type": "markdown",
   "metadata": {},
   "source": [
    "**4. Word Frequency:** Write a Python program to read a text file and count the frequency of each word in the file.\n",
    "\n",
    "- *Skills used:* File handling, data structures (dict), loops."
   ]
  },
  {
   "cell_type": "markdown",
   "metadata": {},
   "source": [
    "**5. Fibonacci Sequence:** Write a Python function that returns the first n numbers of the Fibonacci sequence.\n",
    "\n",
    "- *Skills used:* Functions, loops."
   ]
  },
  {
   "cell_type": "markdown",
   "metadata": {},
   "source": [
    "**6. Text File Statistics:** Write a Python program that reads a text file and calculates the number of lines, words, and characters in the file.\n",
    "\n",
    "- *Skills used:* File handling, data structures, loops."
   ]
  },
  {
   "cell_type": "markdown",
   "metadata": {},
   "source": [
    "**7. Shopping List:** Write a Python program that allows the user to create, view, and delete items from a shopping list stored in a text file.\n",
    "\n",
    "- *Skills used:* File handling, data structures (list), functions, loops."
   ]
  },
  {
   "cell_type": "markdown",
   "metadata": {},
   "source": [
    "**8. Prime Numbers:** Write a Python function to check if a number is prime and then use it to print all prime numbers in a given range.\n",
    "\n",
    "- *Skills used:* Functions, loops, conditional statements."
   ]
  },
  {
   "cell_type": "markdown",
   "metadata": {},
   "source": [
    "**9. Simple Chatbot:** Write a Python program to create a simple chatbot that can respond to basic greetings and questions.\n",
    "\n",
    "- *Skills used:* Functions, conditional statements, loops, string operations."
   ]
  },
  {
   "cell_type": "markdown",
   "metadata": {},
   "source": [
    "**10. Matrix Multiplication:** Write a Python function to perform matrix multiplication on two matrices.\n",
    "\n",
    "- *Skills used:* Functions, nested loops, list operations."
   ]
  },
  {
   "cell_type": "markdown",
   "metadata": {},
   "source": [
    "**EXTRA: Library Management System:** Write a Python program to create a library management system with functionalities to add, view, issue, and return books. The data should be stored in a text file.\n",
    "\n",
    "- *Skills used:* File handling, data structures (dict, list), functions, loops, conditional statements."
   ]
  },
  {
   "cell_type": "markdown",
   "metadata": {},
   "source": [
    "**EXTRA: E-commerce Inventory Management System:** Write a Python program to create an e-commerce inventory management system that includes functionalities for adding, updating, viewing, and deleting products. The system should also allow tracking of stock levels and generating sales reports. Store data in a text file or a database.\n",
    "\n",
    "**Requirements:**\n",
    "- Add Product: Add a new product with details such as product ID, name, description, price, and stock quantity.\n",
    "- Update Product: Update the details of an existing product.\n",
    "- View Products: View the list of all products.\n",
    "- Delete Product: Delete a product from the inventory.\n",
    "- Track Stock Levels: Track and update the stock levels of products after sales.\n",
    "- Generate Sales Reports: Generate reports showing sales details such as total revenue, total products sold, and inventory levels.\n",
    "\n",
    "- *Skills Used:* File handling, Data structures (dict, list), Functions, Loops, Conditional statements, String operations"
   ]
  },
  {
   "cell_type": "markdown",
   "metadata": {},
   "source": []
  }
 ],
 "metadata": {
  "language_info": {
   "name": "python"
  }
 },
 "nbformat": 4,
 "nbformat_minor": 2
}
