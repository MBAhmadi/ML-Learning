{
 "cells": [
  {
   "cell_type": "markdown",
   "id": "8b69342a-7009-4c9b-9812-33a19ac5dc92",
   "metadata": {},
   "source": [
    "# practice tupple"
   ]
  },
  {
   "cell_type": "code",
   "execution_count": 3,
   "id": "94b46d49-614d-46c1-8637-ea5a058c88ce",
   "metadata": {},
   "outputs": [
    {
     "name": "stdout",
     "output_type": "stream",
     "text": [
      "('apple', 'banana', 'cherry')\n"
     ]
    }
   ],
   "source": [
    "thistuple = (\"apple\", \"banana\", \"cherry\")\n",
    "print(thistuple)"
   ]
  },
  {
   "cell_type": "code",
   "execution_count": null,
   "id": "8a2b7acd-f807-4eb5-896c-56ef6f319144",
   "metadata": {},
   "outputs": [],
   "source": []
  }
 ],
 "metadata": {
  "kernelspec": {
   "display_name": "Python 3 (ipykernel)",
   "language": "python",
   "name": "python3"
  },
  "language_info": {
   "codemirror_mode": {
    "name": "ipython",
    "version": 3
   },
   "file_extension": ".py",
   "mimetype": "text/x-python",
   "name": "python",
   "nbconvert_exporter": "python",
   "pygments_lexer": "ipython3",
   "version": "3.11.7"
  }
 },
 "nbformat": 4,
 "nbformat_minor": 5
}
