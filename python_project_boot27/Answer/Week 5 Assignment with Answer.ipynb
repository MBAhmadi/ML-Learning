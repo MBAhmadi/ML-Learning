{
 "cells": [
  {
   "cell_type": "markdown",
   "metadata": {},
   "source": [
    "**1- Calculate the Area Under a Curve:** Write a Python program to calculate the area under the curve y=e^(−x)^2 over the interval [0, 2].\n",
    "\n",
    "- *Skills used:* scipy.integrate.quad function."
   ]
  },
  {
   "cell_type": "code",
   "execution_count": null,
   "metadata": {},
   "outputs": [],
   "source": [
    "import numpy as np\n",
    "from scipy.integrate import quad\n",
    "\n",
    "def integrand(x):\n",
    "    return np.exp(-x**2)\n",
    "\n",
    "# Numerical integration\n",
    "result, error = quad(integrand, 0, 2)\n",
    "print(f\"Numerical result: {result}\")"
   ]
  },
  {
   "cell_type": "markdown",
   "metadata": {},
   "source": [
    "**2- Interpolate Missing Data Points:** You are given a set of data points representing the temperature (in degrees Celsius) recorded at different times of the day. Some data points are missing. Use interpolation algorithms to estimate the missing values.\n",
    "\n",
    "**Note:** User should give the time and related temperature as input and exit getting input with time equal to \"0\" or \"exit\" command\n",
    "- *Skills used:* scipy.interpolate.interp1d, input function, np.array"
   ]
  },
  {
   "cell_type": "code",
   "execution_count": null,
   "metadata": {},
   "outputs": [],
   "source": [
    "import numpy as np\n",
    "import matplotlib.pyplot as plt\n",
    "from scipy.interpolate import interp1d\n",
    "\n",
    "# Given data points\n",
    "times=[]\n",
    "temperatures=[]\n",
    "while True:\n",
    "    time = input(\"time: \").lower()\n",
    "    if time == '0' or time == 'exit':\n",
    "        break\n",
    "    temp = input(\"temperature: \").lower()\n",
    "    \n",
    "    times.append(time)\n",
    "    temperatures.append(temp)\n",
    "\n",
    "    times = np.asarray(times)\n",
    "    temperatures = np.asarray(temperatures)\n",
    "\n",
    "# Interpolation\n",
    "interp_func = interp1d(times, temperatures, kind='cubic')\n",
    "\n",
    "# Interpolated values\n",
    "time_interpolated = np.array([6, 15])\n",
    "temperature_interpolated = interp_func(time_interpolated)\n",
    "\n",
    "# Plotting\n",
    "print(\"Predicted temperatures:\", temperature_interpolated)"
   ]
  },
  {
   "cell_type": "markdown",
   "metadata": {},
   "source": [
    "**3- Minimize a Multivariable Function:** Write a Python program to find the minimum value of the function 𝑓(𝑥,𝑦) = (𝑥−1)^2 + (𝑦−2.5)^2. The initial guess for the variables is x=2, 𝑦=0.\n",
    "\n",
    "- *Skills used:* scipy.optimize.minimize"
   ]
  },
  {
   "cell_type": "code",
   "execution_count": null,
   "metadata": {},
   "outputs": [],
   "source": [
    "import numpy as np\n",
    "from scipy.optimize import minimize\n",
    "\n",
    "def objective_function(variables):\n",
    "    x, y = variables\n",
    "    return (x - 1)**2 + (y - 2.5)**2\n",
    "\n",
    "# Initial guess\n",
    "initial_guess = [2, 0]\n",
    "\n",
    "# Minimization\n",
    "result = minimize(objective_function, initial_guess, method='BFGS')\n",
    "\n",
    "print(f\"Optimal variables: {result.x}\")\n",
    "print(f\"Minimum value: {result.fun}\")\n"
   ]
  },
  {
   "cell_type": "markdown",
   "metadata": {},
   "source": [
    "**EXTRAS:**\n",
    "**Warehouse Inventory Management System**\n",
    "\n",
    "You will create a program that simulates a warehouse inventory management system, where the inventory data is stored in a matrix format. The system will allow you to reshape the input items (matrix with values) to match your storage layouts.\n",
    "\n",
    "**Objective:** Create a function that takes user input to generate a matrix representing warehouse inventory storage capacity and format, then reshapes the matrix input to your storage layouts.\n",
    "\n",
    "**Scenario:**\n",
    "- You manage a warehouse with inventory items stored in racks and shelves. First you need to design the order of racks and shelfs and the value of each element whould be depth of each shelf that can store items(Consider a 3D storage).\n",
    "- The input (item groups) to the warehouse whould be represented as a matrix (row and column with value of item).\n",
    "- Check if you can store the input items into your warehouse or not (you can reshape the items to fill the empty spaces of your warehouse but you can not change the depth of items)."
   ]
  },
  {
   "cell_type": "code",
   "execution_count": null,
   "metadata": {},
   "outputs": [],
   "source": [
    "import numpy as np\n",
    "\n",
    "def create_warehouse_layout():\n",
    "    racks = int(input(\"Enter the number of racks (rows): \"))\n",
    "    shelves = int(input(\"Enter the number of shelves per rack (columns): \"))\n",
    "    print(\"Enter the depth (storage capacity) of each shelf:\")\n",
    "    \n",
    "    depth = []\n",
    "    for i in range(racks):\n",
    "        for j in range(shelves):\n",
    "            depth.append(input(f\"Enter depths for rack No. {i+1} and shelf No. {j+1}: \"))\n",
    "        \n",
    "    \n",
    "    warehouse_layout = np.reshape(np.array(depth), (racks, shelves))\n",
    "    print(f\"\\nWarehouse Layout (Storage Capacity):\\n{warehouse_layout}\\n\")\n",
    "    \n",
    "    return warehouse_layout\n",
    "\n",
    "def input_inventory_items():\n",
    "    item_row = int(input(\"Enter the number of item groups (rows): \"))\n",
    "    item_column = int(input(\"Enter the number of items in each group (columns): \"))\n",
    "    print(\"Enter the number of items to store in each section:\")\n",
    "    \n",
    "    items = []\n",
    "    for i in range(item_row):\n",
    "        for j in range(item_column):\n",
    "            items.append(input(f\"Enter depths for item row No. {i+1} and item column No. {j+1}: \"))\n",
    "    \n",
    "    item_matrix = np.array(items).reshape((item_row, item_column))\n",
    "    print(f\"\\nInventory Items to Store:\\n{item_matrix}\\n\")\n",
    "    \n",
    "    return item_matrix\n",
    "\n",
    "def check_storage_capacity(warehouse_layout, item_matrix):\n",
    "    # Ensure the item matrix can fit into the warehouse layout\n",
    "    if np.sum(item_matrix.shape) > np.sum(warehouse_layout.shape):\n",
    "        print(\"Error: The item matrix will not fit into the warehouse layout.\")\n",
    "    else:\n",
    "        new_shape_items = np.reshape(item_matrix, warehouse_layout.shape)\n",
    "        print(\"Storing the matrix based on depth is:\", np.sum(new_shape_items < warehouse_layout) < np.sum(warehouse_layout.shape))"
   ]
  }
 ],
 "metadata": {
  "language_info": {
   "name": "python"
  }
 },
 "nbformat": 4,
 "nbformat_minor": 2
}
