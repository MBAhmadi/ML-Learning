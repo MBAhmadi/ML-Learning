{
 "cells": [
  {
   "cell_type": "markdown",
   "metadata": {},
   "source": [
    "# Problem 1: Basic Printing and Data Types"
   ]
  },
  {
   "cell_type": "markdown",
   "metadata": {},
   "source": [
    "1. Write a Python program that prints the following text:\n",
    "    - Hello, World!\n",
    "    - Python programming is fun!\n",
    "2. Write a Python program that creates the following variables and prints their types:\n",
    "    - A string variable with your name\n",
    "    - An integer variable with your age\n",
    "    - A float variable with your height\n",
    "    - A boolean variable indicating if you are a student"
   ]
  },
  {
   "cell_type": "code",
   "execution_count": null,
   "metadata": {},
   "outputs": [],
   "source": [
    "# Part 1\n",
    "print(\"Hello, World!\")\n",
    "print(\"Python programming is fun!\")\n",
    "\n",
    "# Part 2\n",
    "name = \"John Doe\"\n",
    "age = 20\n",
    "height = 5.9\n",
    "is_student = True\n",
    "\n",
    "print(type(name))\n",
    "print(type(age))\n",
    "print(type(height))\n",
    "print(type(is_student))\n"
   ]
  },
  {
   "cell_type": "markdown",
   "metadata": {},
   "source": [
    "# Problem 2: If Conditions\n",
    "\n",
    "1. Write a Python program that checks if a number is positive, negative, or zero. The number should be assigned to a variable.\n",
    "2. Write a Python program that checks if a given year is a leap year. (A leap year is divisible by 4, but not every year divisible by 4 is a leap year; it also needs to be divisible by 400 if it is divisible by 100.)"
   ]
  },
  {
   "cell_type": "code",
   "execution_count": null,
   "metadata": {},
   "outputs": [],
   "source": [
    "# Part 1\n",
    "number = -5\n",
    "\n",
    "if number > 0:\n",
    "    print(\"The number is positive.\")\n",
    "elif number < 0:\n",
    "    print(\"The number is negative.\")\n",
    "else:\n",
    "    print(\"The number is zero.\")\n",
    "\n",
    "# Part 2\n",
    "year = 2000\n",
    "\n",
    "if (year % 4 == 0 and year % 100 != 0) or (year % 400 == 0):\n",
    "    print(f\"{year} is a leap year.\")\n",
    "else:\n",
    "    print(f\"{year} is not a leap year.\")\n"
   ]
  },
  {
   "cell_type": "markdown",
   "metadata": {},
   "source": [
    "# Problem 3: For Loop\n",
    "1. Write a Python program that prints the numbers from 1 to 10 using a for loop.\n",
    "2. Write a Python program that calculates the sum of all even numbers from 1 to 100 using a for loop.\n",
    "3. Write a Python program that iterates over a list of strings and prints each string with its length."
   ]
  },
  {
   "cell_type": "code",
   "execution_count": null,
   "metadata": {},
   "outputs": [],
   "source": [
    "# Part 1\n",
    "for i in range(1, 11):\n",
    "    print(i)\n",
    "\n",
    "# Part 2\n",
    "sum_even = 0\n",
    "for i in range(1, 101):\n",
    "    if i % 2 == 0:\n",
    "        sum_even += i\n",
    "print(\"Sum of even numbers from 1 to 100:\", sum_even)\n",
    "\n",
    "# Part 3\n",
    "strings = [\"apple\", \"banana\", \"cherry\"]\n",
    "for s in strings:\n",
    "    print(s, \"has length\", len(s))\n"
   ]
  }
 ],
 "metadata": {
  "language_info": {
   "name": "python"
  }
 },
 "nbformat": 4,
 "nbformat_minor": 2
}
