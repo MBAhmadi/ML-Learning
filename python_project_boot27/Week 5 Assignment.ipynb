{
 "cells": [
  {
   "cell_type": "markdown",
   "metadata": {},
   "source": [
    "**1- Calculate the Area Under a Curve:** Write a Python program to calculate the area under the curve y=e^(−x)^2 over the interval [0, 2].\n",
    "\n",
    "- *Skills used:* scipy.integrate.quad function."
   ]
  },
  {
   "cell_type": "markdown",
   "metadata": {},
   "source": [
    "**2- Interpolate Missing Data Points:** You are given a set of data points representing the temperature (in degrees Celsius) recorded at different times of the day. Some data points are missing. Use interpolation algorithms to estimate the missing values.\n",
    "\n",
    "**Note:** User should give the time and related temperature as input and exit getting input with time equal to \"0\" or \"exit\" command\n",
    "- *Skills used:* scipy.interpolate.interp1d, input function, np.array"
   ]
  },
  {
   "cell_type": "markdown",
   "metadata": {},
   "source": [
    "**3- Minimize a Multivariable Function:** Write a Python program to find the minimum value of the function 𝑓(𝑥,𝑦) = (𝑥−1)^2 + (𝑦−2.5)^2. The initial guess for the variables is x=2, 𝑦=0.\n",
    "\n",
    "- *Skills used:* scipy.optimize.minimize"
   ]
  },
  {
   "cell_type": "markdown",
   "metadata": {},
   "source": [
    "**EXTRAS:**\n",
    "**Warehouse Inventory Management System**\n",
    "\n",
    "You will create a program that simulates a warehouse inventory management system, where the inventory data is stored in a matrix format. The system will allow you to reshape the input items (matrix with values) to match your storage layouts.\n",
    "\n",
    "**Objective:** Create a function that takes user input to generate a matrix representing warehouse inventory storage capacity and format, then reshapes the matrix input to your storage layouts.\n",
    "\n",
    "**Scenario:**\n",
    "- You manage a warehouse with inventory items stored in racks and shelves. First you need to design the order of racks and shelfs and the value of each element whould be depth of each shelf that can store items(Consider a 3D storage).\n",
    "- The input (item groups) to the warehouse whould be represented as a matrix (row and column with value of item).\n",
    "- Check if you can store the input items into your warehouse or not (you can reshape the items to fill the empty spaces of your warehouse but you can not change the depth of items)."
   ]
  }
 ],
 "metadata": {
  "language_info": {
   "name": "python"
  }
 },
 "nbformat": 4,
 "nbformat_minor": 2
}
