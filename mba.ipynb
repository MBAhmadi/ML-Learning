{
 "cells": [
  {
   "cell_type": "code",
   "execution_count": null,
   "id": "506344d3-e42e-45ae-abd2-55b657b5ccc7",
   "metadata": {},
   "outputs": [],
   "source": [
    "def x2(x = None):\n",
    "    if x != None:\n",
    "        y = x ** 2\n",
    "        return y\n",
    "    else:\n",
    "        print(\"voroodi vared nashode\")\n",
    "\n",
    "x2(5)\n",
    "x2(10)\n",
    "x2()"
   ]
  }
 ],
 "metadata": {
  "kernelspec": {
   "display_name": "Python 3 (ipykernel)",
   "language": "python",
   "name": "python3"
  },
  "language_info": {
   "codemirror_mode": {
    "name": "ipython",
    "version": 3
   },
   "file_extension": ".py",
   "mimetype": "text/x-python",
   "name": "python",
   "nbconvert_exporter": "python",
   "pygments_lexer": "ipython3",
   "version": "3.11.7"
  }
 },
 "nbformat": 4,
 "nbformat_minor": 5
}
