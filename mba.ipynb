{
 "cells": [
  {
   "cell_type": "code",
   "execution_count": 2,
   "id": "506344d3-e42e-45ae-abd2-55b657b5ccc7",
   "metadata": {},
   "outputs": [
    {
     "name": "stdout",
     "output_type": "stream",
     "text": [
      "25\n",
      "100\n",
      "voroodi vared nashode\n"
     ]
    }
   ],
   "source": [
    "def x2(x = None):\n",
    "    if x != None:\n",
    "        y = x ** 2\n",
    "        return y\n",
    "    else:\n",
    "        print(\"voroodi vared nashode\")\n",
    "\n",
    "print(x2(5))\n",
    "print(x2(10))\n",
    "x2()"
   ]
  },
  {
   "cell_type": "code",
   "execution_count": null,
   "id": "8b19bf45-c88a-4dc4-8194-cc9f61c08166",
   "metadata": {},
   "outputs": [],
   "source": []
  }
 ],
 "metadata": {
  "kernelspec": {
   "display_name": "Python 3 (ipykernel)",
   "language": "python",
   "name": "python3"
  },
  "language_info": {
   "codemirror_mode": {
    "name": "ipython",
    "version": 3
   },
   "file_extension": ".py",
   "mimetype": "text/x-python",
   "name": "python",
   "nbconvert_exporter": "python",
   "pygments_lexer": "ipython3",
   "version": "3.11.7"
  }
 },
 "nbformat": 4,
 "nbformat_minor": 5
}
