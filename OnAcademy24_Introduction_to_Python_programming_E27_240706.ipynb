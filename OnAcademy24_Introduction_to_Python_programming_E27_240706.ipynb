{
  "nbformat": 4,
  "nbformat_minor": 0,
  "metadata": {
    "colab": {
      "provenance": [],
      "include_colab_link": true
    },
    "kernelspec": {
      "name": "python3",
      "display_name": "Python 3"
    },
    "language_info": {
      "name": "python"
    }
  },
  "cells": [
    {
      "cell_type": "markdown",
      "metadata": {
        "id": "view-in-github",
        "colab_type": "text"
      },
      "source": [
        "<a href=\"https://colab.research.google.com/github/MBAhmadi/ML-Learning/blob/main/OnAcademy24_Introduction_to_Python_programming_E27_240706.ipynb\" target=\"_parent\"><img src=\"https://colab.research.google.com/assets/colab-badge.svg\" alt=\"Open In Colab\"/></a>"
      ]
    },
    {
      "cell_type": "code",
      "execution_count": null,
      "metadata": {
        "id": "hTpvkc73xwBy"
      },
      "outputs": [],
      "source": [
        "! wget https://repo.anaconda.com/archive/Anaconda3-2024.06-1-Windows-x86_64.exe"
      ]
    },
    {
      "cell_type": "markdown",
      "source": [
        "# Python Basic Syntax\n",
        "\n",
        "\n",
        "*   Variables type\n",
        "*   Operators\n",
        "*   Getting Input\n",
        "*   Conditions\n",
        "*   Loop (iterators)\n",
        "\n"
      ],
      "metadata": {
        "id": "gQts8mrE_9XO"
      }
    },
    {
      "cell_type": "code",
      "source": [
        "print(\"Salam\")"
      ],
      "metadata": {
        "id": "5wteUSbNzmRw",
        "colab": {
          "base_uri": "https://localhost:8080/"
        },
        "outputId": "f04310c5-8d87-4811-b34d-e3452a600a6d"
      },
      "execution_count": null,
      "outputs": [
        {
          "output_type": "stream",
          "name": "stdout",
          "text": [
            "Salam\n"
          ]
        }
      ]
    },
    {
      "cell_type": "code",
      "source": [
        "print('سلام')"
      ],
      "metadata": {
        "colab": {
          "base_uri": "https://localhost:8080/"
        },
        "id": "W8OktSM2ExxY",
        "outputId": "bdba1384-8e71-446a-d508-a9f66fce12fc"
      },
      "execution_count": null,
      "outputs": [
        {
          "output_type": "stream",
          "name": "stdout",
          "text": [
            "سلام\n"
          ]
        }
      ]
    },
    {
      "cell_type": "code",
      "source": [
        "# این یک کامنت است\n",
        "# دستور زیر یک پرینت سلام است\n",
        "print('salam')"
      ],
      "metadata": {
        "colab": {
          "base_uri": "https://localhost:8080/"
        },
        "id": "g9GxG5tJESDv",
        "outputId": "aa077a09-0192-4215-b864-dc109f710649"
      },
      "execution_count": null,
      "outputs": [
        {
          "output_type": "stream",
          "name": "stdout",
          "text": [
            "salam\n"
          ]
        }
      ]
    },
    {
      "cell_type": "code",
      "source": [
        "# Strings vs Character\n",
        "print('a') # 'a'"
      ],
      "metadata": {
        "colab": {
          "base_uri": "https://localhost:8080/"
        },
        "id": "b0Tz-3YkEjyB",
        "outputId": "4b5a2aaa-c7c3-4c77-b935-3d5a17372cdd"
      },
      "execution_count": null,
      "outputs": [
        {
          "output_type": "stream",
          "name": "stdout",
          "text": [
            "a\n"
          ]
        }
      ]
    },
    {
      "cell_type": "code",
      "source": [
        "print('abas') # \"abas\""
      ],
      "metadata": {
        "colab": {
          "base_uri": "https://localhost:8080/"
        },
        "id": "KA8go8PTEm32",
        "outputId": "5c27fb3d-9460-4be3-e2cd-7c511230e2d7"
      },
      "execution_count": null,
      "outputs": [
        {
          "output_type": "stream",
          "name": "stdout",
          "text": [
            "abas\n"
          ]
        }
      ]
    },
    {
      "cell_type": "code",
      "source": [
        "print('a') # 'a' ajskbfjajksbgaouaeuewijbkfi   print(\"salam\")"
      ],
      "metadata": {
        "id": "8rg0KL6WF90y"
      },
      "execution_count": null,
      "outputs": []
    },
    {
      "cell_type": "code",
      "source": [
        "print(\"salam\");"
      ],
      "metadata": {
        "colab": {
          "base_uri": "https://localhost:8080/"
        },
        "id": "d6dSd9Z0Gby5",
        "outputId": "b723faef-0dda-4894-9310-6a9eba1dcfc4"
      },
      "execution_count": null,
      "outputs": [
        {
          "output_type": "stream",
          "name": "stdout",
          "text": [
            "salam\n"
          ]
        }
      ]
    },
    {
      "cell_type": "code",
      "source": [
        "# akslfs\n",
        "# akslnfiiasf\n",
        "# manskfjabsr"
      ],
      "metadata": {
        "id": "I2vV25YUGdTE"
      },
      "execution_count": null,
      "outputs": []
    },
    {
      "cell_type": "code",
      "source": [
        "# madgfn\n",
        "# njaek\n",
        "# jfao;sg\n",
        "# kjjsbbdst     crtl /"
      ],
      "metadata": {
        "id": "TmcDTIh_Gz1C"
      },
      "execution_count": null,
      "outputs": []
    },
    {
      "cell_type": "code",
      "source": [
        "print(\"سلام\"), print(\"خداحافظ\")"
      ],
      "metadata": {
        "colab": {
          "base_uri": "https://localhost:8080/"
        },
        "id": "_iBkeYWcHBGx",
        "outputId": "094a00df-44f5-4483-e1a3-64e5f0ab5837"
      },
      "execution_count": null,
      "outputs": [
        {
          "output_type": "stream",
          "name": "stdout",
          "text": [
            "سلام\n",
            "خداحافظ\n"
          ]
        },
        {
          "output_type": "execute_result",
          "data": {
            "text/plain": [
              "(None, None)"
            ]
          },
          "metadata": {},
          "execution_count": 9
        }
      ]
    },
    {
      "cell_type": "code",
      "source": [
        "print(salam) # این کد ایراد دارد. متغیر سلام تعریف نشده است"
      ],
      "metadata": {
        "id": "IfzHd0CxH0hs"
      },
      "execution_count": null,
      "outputs": []
    },
    {
      "cell_type": "code",
      "source": [
        "# aaaaaaaaaaaaaaaaaaaaaaaaaaaaaaaaaaaaaa\n",
        "# aaaaaaaaaaaaaaaaaaaaaaaaaaaaaaaaaaaaaa\n",
        "# aaaaaaaaaaaaaaaaaaaaaaaaaaaaaaaaaaaaaaaaaaaaaaaaaaaaaaaaaaaaaaaaaaaaaaaaaaaaaaaaaaaaaaaaaaaaaaaaaaaaaaaaaaaaaaaaaaaaaaaaaaaaaaaaaaaaaaaaaaaaaaaaaaaaaaaaaaaaaaaaaaaaaaaaaaaaaaaaaaa"
      ],
      "metadata": {
        "id": "LBd2MdmZIul7"
      },
      "execution_count": null,
      "outputs": []
    },
    {
      "cell_type": "code",
      "source": [
        "print(salam)"
      ],
      "metadata": {
        "colab": {
          "base_uri": "https://localhost:8080/",
          "height": 146
        },
        "id": "9tHKf3y3JD00",
        "outputId": "6dfd893d-00b5-4f4d-df22-a121de1ef358"
      },
      "execution_count": null,
      "outputs": [
        {
          "output_type": "error",
          "ename": "NameError",
          "evalue": "name 'salam' is not defined",
          "traceback": [
            "\u001b[0;31m---------------------------------------------------------------------------\u001b[0m",
            "\u001b[0;31mNameError\u001b[0m                                 Traceback (most recent call last)",
            "\u001b[0;32m<ipython-input-10-0484178a56bb>\u001b[0m in \u001b[0;36m<cell line: 1>\u001b[0;34m()\u001b[0m\n\u001b[0;32m----> 1\u001b[0;31m \u001b[0mprint\u001b[0m\u001b[0;34m(\u001b[0m\u001b[0msalam\u001b[0m\u001b[0;34m)\u001b[0m\u001b[0;34m\u001b[0m\u001b[0;34m\u001b[0m\u001b[0m\n\u001b[0m",
            "\u001b[0;31mNameError\u001b[0m: name 'salam' is not defined"
          ]
        }
      ]
    },
    {
      "cell_type": "code",
      "source": [
        "a = 10\n",
        "b = 11"
      ],
      "metadata": {
        "id": "LmbD9aR4JVg0"
      },
      "execution_count": null,
      "outputs": []
    },
    {
      "cell_type": "code",
      "source": [
        "salam = 2\n",
        "print(salam)"
      ],
      "metadata": {
        "colab": {
          "base_uri": "https://localhost:8080/"
        },
        "id": "bsV_oyUxJnId",
        "outputId": "48ecdf3a-8c5c-47e0-f8ea-38e7dbffeed9"
      },
      "execution_count": null,
      "outputs": [
        {
          "output_type": "stream",
          "name": "stdout",
          "text": [
            "2\n"
          ]
        }
      ]
    },
    {
      "cell_type": "code",
      "source": [
        "salam = 3"
      ],
      "metadata": {
        "id": "jsArxKwBJ5dC"
      },
      "execution_count": null,
      "outputs": []
    },
    {
      "cell_type": "code",
      "source": [
        "print(salam)"
      ],
      "metadata": {
        "colab": {
          "base_uri": "https://localhost:8080/"
        },
        "id": "3C6qxm2sKHtl",
        "outputId": "c68c2d1e-6f06-4b88-dc07-e441ef55e93a"
      },
      "execution_count": null,
      "outputs": [
        {
          "output_type": "stream",
          "name": "stdout",
          "text": [
            "3\n"
          ]
        }
      ]
    },
    {
      "cell_type": "code",
      "source": [
        "print(1)"
      ],
      "metadata": {
        "colab": {
          "base_uri": "https://localhost:8080/"
        },
        "id": "ZYOapDlOKJp-",
        "outputId": "9a533aa3-00a2-4ff4-bf0e-4537abe55436"
      },
      "execution_count": null,
      "outputs": [
        {
          "output_type": "stream",
          "name": "stdout",
          "text": [
            "1\n"
          ]
        }
      ]
    },
    {
      "cell_type": "code",
      "source": [
        "print(c)"
      ],
      "metadata": {
        "colab": {
          "base_uri": "https://localhost:8080/",
          "height": 146
        },
        "id": "KUZ7v29RL-7v",
        "outputId": "72e8d9e8-2473-487a-a964-6e8321e279f8"
      },
      "execution_count": null,
      "outputs": [
        {
          "output_type": "error",
          "ename": "NameError",
          "evalue": "name 'c' is not defined",
          "traceback": [
            "\u001b[0;31m---------------------------------------------------------------------------\u001b[0m",
            "\u001b[0;31mNameError\u001b[0m                                 Traceback (most recent call last)",
            "\u001b[0;32m<ipython-input-16-1dd5973cae19>\u001b[0m in \u001b[0;36m<cell line: 1>\u001b[0;34m()\u001b[0m\n\u001b[0;32m----> 1\u001b[0;31m \u001b[0mprint\u001b[0m\u001b[0;34m(\u001b[0m\u001b[0mc\u001b[0m\u001b[0;34m)\u001b[0m\u001b[0;34m\u001b[0m\u001b[0;34m\u001b[0m\u001b[0m\n\u001b[0m",
            "\u001b[0;31mNameError\u001b[0m: name 'c' is not defined"
          ]
        }
      ]
    },
    {
      "cell_type": "code",
      "source": [
        "print(4)"
      ],
      "metadata": {
        "colab": {
          "base_uri": "https://localhost:8080/"
        },
        "id": "2m1aD9_MMDDw",
        "outputId": "2e82de2f-6f19-4da8-8d70-6c415c8a18eb"
      },
      "execution_count": null,
      "outputs": [
        {
          "output_type": "stream",
          "name": "stdout",
          "text": [
            "4\n"
          ]
        }
      ]
    },
    {
      "cell_type": "code",
      "source": [
        "print(۱) # این رو بعدا توضیح میدم چرا ارور داد"
      ],
      "metadata": {
        "colab": {
          "base_uri": "https://localhost:8080/",
          "height": 110
        },
        "id": "lwbuG1hHMEYq",
        "outputId": "0a5e1c44-a933-49a2-95a2-973ca677dfeb"
      },
      "execution_count": null,
      "outputs": [
        {
          "output_type": "error",
          "ename": "SyntaxError",
          "evalue": "invalid character '۱' (U+06F1) (<ipython-input-19-36ee92ad88aa>, line 1)",
          "traceback": [
            "\u001b[0;36m  File \u001b[0;32m\"<ipython-input-19-36ee92ad88aa>\"\u001b[0;36m, line \u001b[0;32m1\u001b[0m\n\u001b[0;31m    print(۱) # این رو بعدا توضیح میدم چرا ارور داد\u001b[0m\n\u001b[0m          ^\u001b[0m\n\u001b[0;31mSyntaxError\u001b[0m\u001b[0;31m:\u001b[0m invalid character '۱' (U+06F1)\n"
          ]
        }
      ]
    },
    {
      "cell_type": "code",
      "source": [
        "print(type(4))"
      ],
      "metadata": {
        "colab": {
          "base_uri": "https://localhost:8080/"
        },
        "id": "JLchnW5lMs7A",
        "outputId": "20a96fa3-cab9-489f-daf1-029e96cf3c4f"
      },
      "execution_count": null,
      "outputs": [
        {
          "output_type": "stream",
          "name": "stdout",
          "text": [
            "<class 'int'>\n"
          ]
        }
      ]
    },
    {
      "cell_type": "code",
      "source": [
        "print(type(9845098))"
      ],
      "metadata": {
        "colab": {
          "base_uri": "https://localhost:8080/"
        },
        "id": "wm9lUk8mNP5N",
        "outputId": "dee9cf65-a059-4898-807c-ad9876a00662"
      },
      "execution_count": null,
      "outputs": [
        {
          "output_type": "stream",
          "name": "stdout",
          "text": [
            "<class 'int'>\n"
          ]
        }
      ]
    },
    {
      "cell_type": "code",
      "source": [
        "4"
      ],
      "metadata": {
        "colab": {
          "base_uri": "https://localhost:8080/"
        },
        "id": "g9MT1G1qNV7o",
        "outputId": "a35b0aba-9ca0-45b7-d48a-58a3a414bd18"
      },
      "execution_count": null,
      "outputs": [
        {
          "output_type": "execute_result",
          "data": {
            "text/plain": [
              "4"
            ]
          },
          "metadata": {},
          "execution_count": 22
        }
      ]
    },
    {
      "cell_type": "code",
      "source": [
        "print(type(3.14))"
      ],
      "metadata": {
        "colab": {
          "base_uri": "https://localhost:8080/"
        },
        "id": "hwJL_woANxw_",
        "outputId": "6e33539e-ed5e-4b89-f434-116f1453c441"
      },
      "execution_count": null,
      "outputs": [
        {
          "output_type": "stream",
          "name": "stdout",
          "text": [
            "<class 'float'>\n"
          ]
        }
      ]
    },
    {
      "cell_type": "code",
      "source": [
        "print(type(3.141596))"
      ],
      "metadata": {
        "colab": {
          "base_uri": "https://localhost:8080/"
        },
        "id": "U3TDCajbOAlZ",
        "outputId": "fbcca75a-a213-40e7-cf1e-f8066cdb4755"
      },
      "execution_count": null,
      "outputs": [
        {
          "output_type": "stream",
          "name": "stdout",
          "text": [
            "<class 'float'>\n"
          ]
        }
      ]
    },
    {
      "cell_type": "code",
      "source": [
        "print(type(True))"
      ],
      "metadata": {
        "colab": {
          "base_uri": "https://localhost:8080/"
        },
        "id": "rfR1DZUZOJMg",
        "outputId": "cc1ccd9e-5697-4789-916d-e96fd68c92c0"
      },
      "execution_count": null,
      "outputs": [
        {
          "output_type": "stream",
          "name": "stdout",
          "text": [
            "<class 'bool'>\n"
          ]
        }
      ]
    },
    {
      "cell_type": "code",
      "source": [
        "print(type(False))"
      ],
      "metadata": {
        "colab": {
          "base_uri": "https://localhost:8080/"
        },
        "id": "tmimOXguOVdD",
        "outputId": "d2c3e3d5-a656-4b84-cb6d-b33111a9ecbf"
      },
      "execution_count": null,
      "outputs": [
        {
          "output_type": "stream",
          "name": "stdout",
          "text": [
            "<class 'bool'>\n"
          ]
        }
      ]
    },
    {
      "cell_type": "code",
      "source": [
        "print(type(2 + 4j))"
      ],
      "metadata": {
        "colab": {
          "base_uri": "https://localhost:8080/"
        },
        "id": "FrYCW3CFOW76",
        "outputId": "233edb20-2288-49a4-a465-9c83a227c056"
      },
      "execution_count": null,
      "outputs": [
        {
          "output_type": "stream",
          "name": "stdout",
          "text": [
            "<class 'complex'>\n"
          ]
        }
      ]
    },
    {
      "cell_type": "code",
      "source": [
        "Aa = 4"
      ],
      "metadata": {
        "id": "JyO_ZAkEOrod"
      },
      "execution_count": null,
      "outputs": []
    },
    {
      "cell_type": "code",
      "source": [
        "aa = 5"
      ],
      "metadata": {
        "id": "parI4UYHOwoT"
      },
      "execution_count": null,
      "outputs": []
    },
    {
      "cell_type": "code",
      "source": [
        "print(Aa, aa)"
      ],
      "metadata": {
        "colab": {
          "base_uri": "https://localhost:8080/"
        },
        "id": "Pzc5IfyAOySp",
        "outputId": "6d443f9e-5891-4211-cba1-417cb2abcc5b"
      },
      "execution_count": null,
      "outputs": [
        {
          "output_type": "stream",
          "name": "stdout",
          "text": [
            "4 5\n"
          ]
        }
      ]
    },
    {
      "cell_type": "code",
      "source": [
        "# اینها با هم هیچ تفاوتی ندارند\n",
        "a=4\n",
        "a =4\n",
        "a = 4\n",
        "a       =                 4"
      ],
      "metadata": {
        "id": "YrpU-j5fPDDO"
      },
      "execution_count": null,
      "outputs": []
    },
    {
      "cell_type": "code",
      "source": [
        "a = 4\n",
        "b = 3.14\n",
        "c = False\n",
        "d = 2 + 1j\n",
        "e = \"salam\" # فرقی بین رشته (جمله) و حرف (کارکتر) وجود ندارد\n",
        "f = 'س'"
      ],
      "metadata": {
        "id": "QRxF3XGAPe9d"
      },
      "execution_count": null,
      "outputs": []
    },
    {
      "cell_type": "code",
      "source": [
        "print(a, b, c, d, e)"
      ],
      "metadata": {
        "colab": {
          "base_uri": "https://localhost:8080/"
        },
        "id": "enxrSrRyP6df",
        "outputId": "dfb37ee3-ef84-44aa-c3fb-0f2f5827dcf9"
      },
      "execution_count": null,
      "outputs": [
        {
          "output_type": "stream",
          "name": "stdout",
          "text": [
            "4 3.14 False (2+1j) salam\n"
          ]
        }
      ]
    },
    {
      "cell_type": "code",
      "source": [
        "print(type([5]))"
      ],
      "metadata": {
        "colab": {
          "base_uri": "https://localhost:8080/"
        },
        "id": "BcgOTtb4P7_v",
        "outputId": "3a58b4c8-2584-4dd6-d29c-b4b2a51b7a77"
      },
      "execution_count": null,
      "outputs": [
        {
          "output_type": "stream",
          "name": "stdout",
          "text": [
            "<class 'list'>\n"
          ]
        }
      ]
    },
    {
      "cell_type": "code",
      "source": [
        "print(type([5,3,2,7]))"
      ],
      "metadata": {
        "colab": {
          "base_uri": "https://localhost:8080/"
        },
        "id": "9ApoGkB3Rb0e",
        "outputId": "bee697c6-2cb1-48dd-84ef-d6eb58f2cb2c"
      },
      "execution_count": null,
      "outputs": [
        {
          "output_type": "stream",
          "name": "stdout",
          "text": [
            "<class 'list'>\n"
          ]
        }
      ]
    },
    {
      "cell_type": "code",
      "source": [
        "omid = [4,2,1,7,9]"
      ],
      "metadata": {
        "id": "rbRZ4xavRlzT"
      },
      "execution_count": null,
      "outputs": []
    },
    {
      "cell_type": "code",
      "source": [
        "print(omid)"
      ],
      "metadata": {
        "colab": {
          "base_uri": "https://localhost:8080/"
        },
        "id": "9Dow-gy4RztI",
        "outputId": "c36caa4b-72de-45dd-efef-03e84c20d784"
      },
      "execution_count": null,
      "outputs": [
        {
          "output_type": "stream",
          "name": "stdout",
          "text": [
            "[4, 2, 1, 7, 9]\n"
          ]
        }
      ]
    },
    {
      "cell_type": "code",
      "source": [
        "omid = [4, 5, 3.14, 'a', \"salam\", 1+2j, True]"
      ],
      "metadata": {
        "id": "haSW6Q9YR_kz"
      },
      "execution_count": null,
      "outputs": []
    },
    {
      "cell_type": "code",
      "source": [
        "print(omid)"
      ],
      "metadata": {
        "colab": {
          "base_uri": "https://localhost:8080/"
        },
        "id": "2afn_ZtQSRna",
        "outputId": "76a3683c-6cd5-4ca7-cf15-7fee5aea12cf"
      },
      "execution_count": null,
      "outputs": [
        {
          "output_type": "stream",
          "name": "stdout",
          "text": [
            "[4, 5, 3.14, 'a', 'salam', (1+2j), True]\n"
          ]
        }
      ]
    },
    {
      "cell_type": "code",
      "source": [
        "print(type(omid))"
      ],
      "metadata": {
        "colab": {
          "base_uri": "https://localhost:8080/"
        },
        "id": "y1RZs2XuSTb1",
        "outputId": "d2112c29-8504-456a-fb7e-1009902b535b"
      },
      "execution_count": null,
      "outputs": [
        {
          "output_type": "stream",
          "name": "stdout",
          "text": [
            "<class 'list'>\n"
          ]
        }
      ]
    },
    {
      "cell_type": "code",
      "source": [
        " # array int omid = [1, 2, 3]"
      ],
      "metadata": {
        "id": "xOMVvw8USfvH"
      },
      "execution_count": null,
      "outputs": []
    },
    {
      "cell_type": "code",
      "source": [
        "print(type((1, 2, 3)))"
      ],
      "metadata": {
        "colab": {
          "base_uri": "https://localhost:8080/"
        },
        "id": "Vp1mDz4OSx10",
        "outputId": "9fd3fffa-0ddc-4053-c2b7-d9813951fd2c"
      },
      "execution_count": null,
      "outputs": [
        {
          "output_type": "stream",
          "name": "stdout",
          "text": [
            "<class 'tuple'>\n"
          ]
        }
      ]
    },
    {
      "cell_type": "code",
      "source": [
        "print(type({1,2,3}))"
      ],
      "metadata": {
        "colab": {
          "base_uri": "https://localhost:8080/"
        },
        "id": "mofTN56xS-vM",
        "outputId": "eb712028-0c73-4dd9-c36e-b98fbf68845f"
      },
      "execution_count": null,
      "outputs": [
        {
          "output_type": "stream",
          "name": "stdout",
          "text": [
            "<class 'set'>\n"
          ]
        }
      ]
    },
    {
      "cell_type": "code",
      "source": [
        "print(type({'mohammad' : 'javad'}))"
      ],
      "metadata": {
        "colab": {
          "base_uri": "https://localhost:8080/"
        },
        "id": "6TNLmwguTWSS",
        "outputId": "1a0fecfb-56e9-4212-d19f-90262eeda8ca"
      },
      "execution_count": null,
      "outputs": [
        {
          "output_type": "stream",
          "name": "stdout",
          "text": [
            "<class 'dict'>\n"
          ]
        }
      ]
    },
    {
      "cell_type": "markdown",
      "source": [
        "# Operations"
      ],
      "metadata": {
        "id": "6kvkYNITwWZX"
      }
    },
    {
      "cell_type": "code",
      "source": [
        "print(2 + 3)"
      ],
      "metadata": {
        "colab": {
          "base_uri": "https://localhost:8080/"
        },
        "id": "7qAw6QDdi1nq",
        "outputId": "fc72bfbe-eece-4692-8e60-82edfbb2c5f6"
      },
      "execution_count": null,
      "outputs": [
        {
          "output_type": "stream",
          "name": "stdout",
          "text": [
            "5\n"
          ]
        }
      ]
    },
    {
      "cell_type": "code",
      "source": [
        "print(2-3)"
      ],
      "metadata": {
        "colab": {
          "base_uri": "https://localhost:8080/"
        },
        "id": "2b9Qwt8AkJ5l",
        "outputId": "8c231f26-1779-4d95-f418-e8cc040c280d"
      },
      "execution_count": null,
      "outputs": [
        {
          "output_type": "stream",
          "name": "stdout",
          "text": [
            "-1\n"
          ]
        }
      ]
    },
    {
      "cell_type": "code",
      "source": [
        "a = 2\n",
        "b = 3"
      ],
      "metadata": {
        "id": "nrV548BjkL9P"
      },
      "execution_count": null,
      "outputs": []
    },
    {
      "cell_type": "code",
      "source": [
        "print(a+b)"
      ],
      "metadata": {
        "colab": {
          "base_uri": "https://localhost:8080/"
        },
        "id": "Mj1KdTQzkSlz",
        "outputId": "d4cadf24-0cb8-4004-85f3-1f9bbd844141"
      },
      "execution_count": null,
      "outputs": [
        {
          "output_type": "stream",
          "name": "stdout",
          "text": [
            "5\n"
          ]
        }
      ]
    },
    {
      "cell_type": "code",
      "source": [
        "print(2 * 3)"
      ],
      "metadata": {
        "colab": {
          "base_uri": "https://localhost:8080/"
        },
        "id": "QPKLbUs8kUhA",
        "outputId": "a73315a9-9069-4be6-8f41-77b5a11592db"
      },
      "execution_count": null,
      "outputs": [
        {
          "output_type": "stream",
          "name": "stdout",
          "text": [
            "6\n"
          ]
        }
      ]
    },
    {
      "cell_type": "code",
      "source": [
        "print(2 / 3)"
      ],
      "metadata": {
        "colab": {
          "base_uri": "https://localhost:8080/"
        },
        "id": "Q9M-g_a1knp1",
        "outputId": "55e996f5-2315-403f-9169-c68dbc8c5532"
      },
      "execution_count": null,
      "outputs": [
        {
          "output_type": "stream",
          "name": "stdout",
          "text": [
            "0.6666666666666666\n"
          ]
        }
      ]
    },
    {
      "cell_type": "code",
      "source": [
        "print(2 // 3)"
      ],
      "metadata": {
        "colab": {
          "base_uri": "https://localhost:8080/"
        },
        "id": "lDYPKzECkqPx",
        "outputId": "6efff284-9720-4d65-ed19-17912675bf68"
      },
      "execution_count": null,
      "outputs": [
        {
          "output_type": "stream",
          "name": "stdout",
          "text": [
            "0\n"
          ]
        }
      ]
    },
    {
      "cell_type": "code",
      "source": [
        "print(5 // 3)"
      ],
      "metadata": {
        "colab": {
          "base_uri": "https://localhost:8080/"
        },
        "id": "ropPWs5_kydo",
        "outputId": "cbcdb287-4752-4f90-e7af-5cb03d1f3fca"
      },
      "execution_count": null,
      "outputs": [
        {
          "output_type": "stream",
          "name": "stdout",
          "text": [
            "1\n"
          ]
        }
      ]
    },
    {
      "cell_type": "code",
      "source": [
        "print(5 / 3)"
      ],
      "metadata": {
        "colab": {
          "base_uri": "https://localhost:8080/"
        },
        "id": "64QwHkefk1qt",
        "outputId": "9b7e36ac-af8a-450b-bccf-061c67f08ce5"
      },
      "execution_count": null,
      "outputs": [
        {
          "output_type": "stream",
          "name": "stdout",
          "text": [
            "1.6666666666666667\n"
          ]
        }
      ]
    },
    {
      "cell_type": "code",
      "source": [
        "c = a + b"
      ],
      "metadata": {
        "id": "lEG7pbFIk30t"
      },
      "execution_count": null,
      "outputs": []
    },
    {
      "cell_type": "code",
      "source": [
        "print(c)"
      ],
      "metadata": {
        "colab": {
          "base_uri": "https://localhost:8080/"
        },
        "id": "bWP7SdQSk_Sp",
        "outputId": "f21f1151-6cb1-460c-b5f3-3d46b5fb0553"
      },
      "execution_count": null,
      "outputs": [
        {
          "output_type": "stream",
          "name": "stdout",
          "text": [
            "5\n"
          ]
        }
      ]
    },
    {
      "cell_type": "code",
      "source": [
        "print(2 / 3)"
      ],
      "metadata": {
        "colab": {
          "base_uri": "https://localhost:8080/"
        },
        "id": "bL45x4eylAI1",
        "outputId": "aa4d80f0-4aff-455e-dce9-92853de9eb08"
      },
      "execution_count": null,
      "outputs": [
        {
          "output_type": "stream",
          "name": "stdout",
          "text": [
            "0.6666666666666666\n"
          ]
        }
      ]
    },
    {
      "cell_type": "code",
      "source": [
        "print(2 // 3)"
      ],
      "metadata": {
        "colab": {
          "base_uri": "https://localhost:8080/"
        },
        "id": "In5DhRxXlK1F",
        "outputId": "02e4b86c-7a5f-4dc9-e9b3-251dde7c3b68"
      },
      "execution_count": null,
      "outputs": [
        {
          "output_type": "stream",
          "name": "stdout",
          "text": [
            "0\n"
          ]
        }
      ]
    },
    {
      "cell_type": "code",
      "source": [
        "print(99 / 100)"
      ],
      "metadata": {
        "colab": {
          "base_uri": "https://localhost:8080/"
        },
        "id": "bKcOVGGOlMsm",
        "outputId": "84650ad5-ae99-48b4-8af3-408d4b84d723"
      },
      "execution_count": null,
      "outputs": [
        {
          "output_type": "stream",
          "name": "stdout",
          "text": [
            "0.99\n"
          ]
        }
      ]
    },
    {
      "cell_type": "code",
      "source": [
        "print(99 // 100)"
      ],
      "metadata": {
        "colab": {
          "base_uri": "https://localhost:8080/"
        },
        "id": "7IQt8t04lUtw",
        "outputId": "298d38eb-6a4d-492b-f784-c03aec97eea4"
      },
      "execution_count": null,
      "outputs": [
        {
          "output_type": "stream",
          "name": "stdout",
          "text": [
            "0\n"
          ]
        }
      ]
    },
    {
      "cell_type": "code",
      "source": [
        "print(2.1 - 3.9)"
      ],
      "metadata": {
        "colab": {
          "base_uri": "https://localhost:8080/"
        },
        "id": "v6uQxu5SlirM",
        "outputId": "9d4ba8e0-1f9c-47a7-a362-4196ba31b7f5"
      },
      "execution_count": null,
      "outputs": [
        {
          "output_type": "stream",
          "name": "stdout",
          "text": [
            "-1.7999999999999998\n"
          ]
        }
      ]
    },
    {
      "cell_type": "code",
      "source": [
        "print(2.1 / 3.9)"
      ],
      "metadata": {
        "colab": {
          "base_uri": "https://localhost:8080/"
        },
        "id": "9K9LQQ8nlkse",
        "outputId": "98cb1ce2-56cd-431b-cc20-9d4b52fc61e0"
      },
      "execution_count": null,
      "outputs": [
        {
          "output_type": "stream",
          "name": "stdout",
          "text": [
            "0.5384615384615385\n"
          ]
        }
      ]
    },
    {
      "cell_type": "code",
      "source": [
        "print(2.1 // 3.9)"
      ],
      "metadata": {
        "colab": {
          "base_uri": "https://localhost:8080/"
        },
        "id": "cRzn9BRkloP6",
        "outputId": "645acfa8-5e3b-4c30-890e-8da2af7f4ef7"
      },
      "execution_count": null,
      "outputs": [
        {
          "output_type": "stream",
          "name": "stdout",
          "text": [
            "0.0\n"
          ]
        }
      ]
    },
    {
      "cell_type": "code",
      "source": [
        "print(4/0)"
      ],
      "metadata": {
        "colab": {
          "base_uri": "https://localhost:8080/",
          "height": 146
        },
        "id": "miRpLPAFlqLh",
        "outputId": "9fd9d283-832b-4e75-af88-09a989223f80"
      },
      "execution_count": null,
      "outputs": [
        {
          "output_type": "error",
          "ename": "ZeroDivisionError",
          "evalue": "division by zero",
          "traceback": [
            "\u001b[0;31m---------------------------------------------------------------------------\u001b[0m",
            "\u001b[0;31mZeroDivisionError\u001b[0m                         Traceback (most recent call last)",
            "\u001b[0;32m<ipython-input-19-4bf1a7e4a751>\u001b[0m in \u001b[0;36m<cell line: 1>\u001b[0;34m()\u001b[0m\n\u001b[0;32m----> 1\u001b[0;31m \u001b[0mprint\u001b[0m\u001b[0;34m(\u001b[0m\u001b[0;36m4\u001b[0m\u001b[0;34m/\u001b[0m\u001b[0;36m0\u001b[0m\u001b[0;34m)\u001b[0m\u001b[0;34m\u001b[0m\u001b[0;34m\u001b[0m\u001b[0m\n\u001b[0m",
            "\u001b[0;31mZeroDivisionError\u001b[0m: division by zero"
          ]
        }
      ]
    },
    {
      "cell_type": "code",
      "source": [
        "epsilon=0.00000001\n",
        "print(4/(0 + epsilon))"
      ],
      "metadata": {
        "colab": {
          "base_uri": "https://localhost:8080/"
        },
        "id": "p4vpZh-0mGZD",
        "outputId": "fb5b5a4f-f80d-489d-967f-2e94fa618d9e"
      },
      "execution_count": null,
      "outputs": [
        {
          "output_type": "stream",
          "name": "stdout",
          "text": [
            "400000000.0\n"
          ]
        }
      ]
    },
    {
      "cell_type": "code",
      "source": [
        "0.1 + 0.2"
      ],
      "metadata": {
        "colab": {
          "base_uri": "https://localhost:8080/"
        },
        "id": "GE_dC85imWcM",
        "outputId": "b8e0fb0e-1b67-4a13-896b-da5fa4a843a4"
      },
      "execution_count": null,
      "outputs": [
        {
          "output_type": "execute_result",
          "data": {
            "text/plain": [
              "0.30000000000000004"
            ]
          },
          "metadata": {},
          "execution_count": 21
        }
      ]
    },
    {
      "cell_type": "code",
      "source": [
        "1e-4"
      ],
      "metadata": {
        "colab": {
          "base_uri": "https://localhost:8080/"
        },
        "id": "YDa_yDXLnttr",
        "outputId": "33b12483-e6d0-477a-8d2f-38a8d750c81c"
      },
      "execution_count": null,
      "outputs": [
        {
          "output_type": "execute_result",
          "data": {
            "text/plain": [
              "0.0001"
            ]
          },
          "metadata": {},
          "execution_count": 23
        }
      ]
    },
    {
      "cell_type": "code",
      "source": [
        "1e4"
      ],
      "metadata": {
        "colab": {
          "base_uri": "https://localhost:8080/"
        },
        "id": "BvhHM94hn5Yf",
        "outputId": "54795f24-8226-484c-c8c8-4580d142c83a"
      },
      "execution_count": null,
      "outputs": [
        {
          "output_type": "execute_result",
          "data": {
            "text/plain": [
              "10000.0"
            ]
          },
          "metadata": {},
          "execution_count": 24
        }
      ]
    },
    {
      "cell_type": "code",
      "source": [
        "print(5 ** 2)"
      ],
      "metadata": {
        "colab": {
          "base_uri": "https://localhost:8080/"
        },
        "id": "UHl8ucRdn90F",
        "outputId": "20ce373f-313b-4969-f08a-c493b9f37df1"
      },
      "execution_count": null,
      "outputs": [
        {
          "output_type": "stream",
          "name": "stdout",
          "text": [
            "25\n"
          ]
        }
      ]
    },
    {
      "cell_type": "code",
      "source": [
        "5 ** 6"
      ],
      "metadata": {
        "colab": {
          "base_uri": "https://localhost:8080/"
        },
        "id": "LCp9b0PtoIjp",
        "outputId": "f4e6e5f7-755e-4a76-f9e5-57f9a0193add"
      },
      "execution_count": null,
      "outputs": [
        {
          "output_type": "execute_result",
          "data": {
            "text/plain": [
              "15625"
            ]
          },
          "metadata": {},
          "execution_count": 27
        }
      ]
    },
    {
      "cell_type": "code",
      "source": [
        "5 % 2"
      ],
      "metadata": {
        "colab": {
          "base_uri": "https://localhost:8080/"
        },
        "id": "bgU5ucP_oOcQ",
        "outputId": "4dadc7cb-ca3f-4c8d-b4c2-bd8c9bf37b22"
      },
      "execution_count": null,
      "outputs": [
        {
          "output_type": "execute_result",
          "data": {
            "text/plain": [
              "1"
            ]
          },
          "metadata": {},
          "execution_count": 28
        }
      ]
    },
    {
      "cell_type": "code",
      "source": [
        "# + جمع\n",
        "# - منها\n",
        "# * ضرب\n",
        "# / تقسیم\n",
        "# // تقسیم صحیح(کف عدد)\n",
        "# ** توان\n",
        "# % مود"
      ],
      "metadata": {
        "id": "mJFlJjgfoVBY"
      },
      "execution_count": null,
      "outputs": []
    },
    {
      "cell_type": "code",
      "source": [
        "True and True"
      ],
      "metadata": {
        "colab": {
          "base_uri": "https://localhost:8080/"
        },
        "id": "TFHcDKCJohzF",
        "outputId": "b1c8406c-981d-45bc-b88d-daf409abe122"
      },
      "execution_count": null,
      "outputs": [
        {
          "output_type": "execute_result",
          "data": {
            "text/plain": [
              "True"
            ]
          },
          "metadata": {},
          "execution_count": 30
        }
      ]
    },
    {
      "cell_type": "code",
      "source": [
        "True and False"
      ],
      "metadata": {
        "colab": {
          "base_uri": "https://localhost:8080/"
        },
        "id": "-FfN2WDMpP_7",
        "outputId": "7c88cabe-3cb7-4741-a995-b1d089484349"
      },
      "execution_count": null,
      "outputs": [
        {
          "output_type": "execute_result",
          "data": {
            "text/plain": [
              "False"
            ]
          },
          "metadata": {},
          "execution_count": 31
        }
      ]
    },
    {
      "cell_type": "code",
      "source": [
        "True == False"
      ],
      "metadata": {
        "colab": {
          "base_uri": "https://localhost:8080/"
        },
        "id": "ctE9Ptn4pSLp",
        "outputId": "019a8511-9915-41b6-b847-0d3e57f7a84d"
      },
      "execution_count": null,
      "outputs": [
        {
          "output_type": "execute_result",
          "data": {
            "text/plain": [
              "False"
            ]
          },
          "metadata": {},
          "execution_count": 32
        }
      ]
    },
    {
      "cell_type": "code",
      "source": [
        "False and False"
      ],
      "metadata": {
        "colab": {
          "base_uri": "https://localhost:8080/"
        },
        "id": "3wlHNCWcpVGn",
        "outputId": "e7c37630-4ccc-41c4-d2c3-f76bfa5eb487"
      },
      "execution_count": null,
      "outputs": [
        {
          "output_type": "execute_result",
          "data": {
            "text/plain": [
              "False"
            ]
          },
          "metadata": {},
          "execution_count": 35
        }
      ]
    },
    {
      "cell_type": "code",
      "source": [
        "a = 2\n",
        "b = 3\n",
        "a = b\n",
        "print(a)"
      ],
      "metadata": {
        "colab": {
          "base_uri": "https://localhost:8080/"
        },
        "id": "zTwaBa8_paYz",
        "outputId": "d476cb4e-90d0-4d1a-a272-b0d9ec05a260"
      },
      "execution_count": null,
      "outputs": [
        {
          "output_type": "stream",
          "name": "stdout",
          "text": [
            "3\n"
          ]
        }
      ]
    },
    {
      "cell_type": "code",
      "source": [
        "a = 2\n",
        "b = 3\n",
        "print(a == b)"
      ],
      "metadata": {
        "colab": {
          "base_uri": "https://localhost:8080/"
        },
        "id": "CbAZStaJprV1",
        "outputId": "927a6349-7a1e-4e36-f7a0-0a7ea7ae9d65"
      },
      "execution_count": null,
      "outputs": [
        {
          "output_type": "stream",
          "name": "stdout",
          "text": [
            "False\n"
          ]
        }
      ]
    },
    {
      "cell_type": "code",
      "source": [
        "a = 3\n",
        "b = 3\n",
        "print(a == b)"
      ],
      "metadata": {
        "colab": {
          "base_uri": "https://localhost:8080/"
        },
        "id": "dpVHE1zWpxVQ",
        "outputId": "f16a62bc-5cd2-4b7e-ca5d-ccf7a6bb7676"
      },
      "execution_count": null,
      "outputs": [
        {
          "output_type": "stream",
          "name": "stdout",
          "text": [
            "True\n"
          ]
        }
      ]
    },
    {
      "cell_type": "code",
      "source": [
        "True & True"
      ],
      "metadata": {
        "colab": {
          "base_uri": "https://localhost:8080/"
        },
        "id": "q6d_qBn6pzZP",
        "outputId": "e30bd3d8-e696-4b57-957a-5a96841e9b63"
      },
      "execution_count": null,
      "outputs": [
        {
          "output_type": "execute_result",
          "data": {
            "text/plain": [
              "True"
            ]
          },
          "metadata": {},
          "execution_count": 39
        }
      ]
    },
    {
      "cell_type": "code",
      "source": [
        "True or False # True | False"
      ],
      "metadata": {
        "colab": {
          "base_uri": "https://localhost:8080/"
        },
        "id": "DvnLI5Mcp9g-",
        "outputId": "8cca9653-6d4c-4a4d-94b9-49f1b2ab6f99"
      },
      "execution_count": null,
      "outputs": [
        {
          "output_type": "execute_result",
          "data": {
            "text/plain": [
              "True"
            ]
          },
          "metadata": {},
          "execution_count": 42
        }
      ]
    },
    {
      "cell_type": "code",
      "source": [
        "True | False"
      ],
      "metadata": {
        "colab": {
          "base_uri": "https://localhost:8080/"
        },
        "id": "YqIThAvoqRDS",
        "outputId": "0f3a2123-5a4e-41e2-f1dd-fe16a59e9cc6"
      },
      "execution_count": null,
      "outputs": [
        {
          "output_type": "execute_result",
          "data": {
            "text/plain": [
              "True"
            ]
          },
          "metadata": {},
          "execution_count": 43
        }
      ]
    },
    {
      "cell_type": "code",
      "source": [
        "False or False"
      ],
      "metadata": {
        "colab": {
          "base_uri": "https://localhost:8080/"
        },
        "id": "XnenJqQ8qTob",
        "outputId": "d821d216-082c-471a-c3b9-0109fc429f61"
      },
      "execution_count": null,
      "outputs": [
        {
          "output_type": "execute_result",
          "data": {
            "text/plain": [
              "False"
            ]
          },
          "metadata": {},
          "execution_count": 48
        }
      ]
    },
    {
      "cell_type": "code",
      "source": [
        "not False"
      ],
      "metadata": {
        "colab": {
          "base_uri": "https://localhost:8080/"
        },
        "id": "dniDKc2fqc4_",
        "outputId": "19b12232-2380-476c-827c-623206046e21"
      },
      "execution_count": null,
      "outputs": [
        {
          "output_type": "execute_result",
          "data": {
            "text/plain": [
              "True"
            ]
          },
          "metadata": {},
          "execution_count": 45
        }
      ]
    },
    {
      "cell_type": "code",
      "source": [
        "not True"
      ],
      "metadata": {
        "colab": {
          "base_uri": "https://localhost:8080/"
        },
        "id": "UuDQhEDkqk54",
        "outputId": "7391ad0b-161f-4be6-89c8-0cbae8f6e633"
      },
      "execution_count": null,
      "outputs": [
        {
          "output_type": "execute_result",
          "data": {
            "text/plain": [
              "False"
            ]
          },
          "metadata": {},
          "execution_count": 47
        }
      ]
    },
    {
      "cell_type": "code",
      "source": [
        "a=4\n",
        "b=5\n",
        "\n",
        "a > b"
      ],
      "metadata": {
        "colab": {
          "base_uri": "https://localhost:8080/"
        },
        "id": "DYm28xeHqm0C",
        "outputId": "6febe2f6-5cb0-48aa-d3b0-a5ccd865b293"
      },
      "execution_count": null,
      "outputs": [
        {
          "output_type": "execute_result",
          "data": {
            "text/plain": [
              "False"
            ]
          },
          "metadata": {},
          "execution_count": 49
        }
      ]
    },
    {
      "cell_type": "code",
      "source": [
        "a < b"
      ],
      "metadata": {
        "colab": {
          "base_uri": "https://localhost:8080/"
        },
        "id": "WHqHJwpqrAMP",
        "outputId": "61c3cdb8-1515-499f-a703-67a5be1d6cc3"
      },
      "execution_count": null,
      "outputs": [
        {
          "output_type": "execute_result",
          "data": {
            "text/plain": [
              "True"
            ]
          },
          "metadata": {},
          "execution_count": 50
        }
      ]
    },
    {
      "cell_type": "code",
      "source": [
        "a == b"
      ],
      "metadata": {
        "colab": {
          "base_uri": "https://localhost:8080/"
        },
        "id": "fZQBIjdNrFZX",
        "outputId": "2a6e2f14-d749-458f-b808-6c026c6b1a7e"
      },
      "execution_count": null,
      "outputs": [
        {
          "output_type": "execute_result",
          "data": {
            "text/plain": [
              "False"
            ]
          },
          "metadata": {},
          "execution_count": 51
        }
      ]
    },
    {
      "cell_type": "code",
      "source": [
        "a != b"
      ],
      "metadata": {
        "colab": {
          "base_uri": "https://localhost:8080/"
        },
        "id": "x3c_ifTTrITA",
        "outputId": "bc3f0703-a6c7-4aa1-cc2b-60e6f03a36a2"
      },
      "execution_count": null,
      "outputs": [
        {
          "output_type": "execute_result",
          "data": {
            "text/plain": [
              "True"
            ]
          },
          "metadata": {},
          "execution_count": 52
        }
      ]
    },
    {
      "cell_type": "code",
      "source": [
        "a >= b"
      ],
      "metadata": {
        "colab": {
          "base_uri": "https://localhost:8080/"
        },
        "id": "CQ372q3VrKSv",
        "outputId": "2e88358a-bf3f-4b33-f098-e40f1621475a"
      },
      "execution_count": null,
      "outputs": [
        {
          "output_type": "execute_result",
          "data": {
            "text/plain": [
              "False"
            ]
          },
          "metadata": {},
          "execution_count": 53
        }
      ]
    },
    {
      "cell_type": "code",
      "source": [
        "a <= b"
      ],
      "metadata": {
        "colab": {
          "base_uri": "https://localhost:8080/"
        },
        "id": "fEbJ1GqCrOj8",
        "outputId": "5aa58887-6a6e-4a0f-dfba-7cf6f578ed6f"
      },
      "execution_count": null,
      "outputs": [
        {
          "output_type": "execute_result",
          "data": {
            "text/plain": [
              "True"
            ]
          },
          "metadata": {},
          "execution_count": 54
        }
      ]
    },
    {
      "cell_type": "code",
      "source": [
        "c = 5"
      ],
      "metadata": {
        "id": "J_qq9cJVrQdJ"
      },
      "execution_count": null,
      "outputs": []
    },
    {
      "cell_type": "code",
      "source": [
        "c > b"
      ],
      "metadata": {
        "colab": {
          "base_uri": "https://localhost:8080/"
        },
        "id": "cpa7xTfKrS_r",
        "outputId": "2e8619ec-61d4-441d-b4e4-3d3fdc370fae"
      },
      "execution_count": null,
      "outputs": [
        {
          "output_type": "execute_result",
          "data": {
            "text/plain": [
              "False"
            ]
          },
          "metadata": {},
          "execution_count": 56
        }
      ]
    },
    {
      "cell_type": "code",
      "source": [
        "c >= b"
      ],
      "metadata": {
        "colab": {
          "base_uri": "https://localhost:8080/"
        },
        "id": "JzIYyNxGrUnR",
        "outputId": "161331a4-613d-439d-ecb3-664e54641580"
      },
      "execution_count": null,
      "outputs": [
        {
          "output_type": "execute_result",
          "data": {
            "text/plain": [
              "True"
            ]
          },
          "metadata": {},
          "execution_count": 57
        }
      ]
    },
    {
      "cell_type": "code",
      "source": [
        "c != b"
      ],
      "metadata": {
        "colab": {
          "base_uri": "https://localhost:8080/"
        },
        "id": "fUSInUTPrn2H",
        "outputId": "2df9d8b5-fb28-4b12-ac85-26b5394bf619"
      },
      "execution_count": null,
      "outputs": [
        {
          "output_type": "execute_result",
          "data": {
            "text/plain": [
              "False"
            ]
          },
          "metadata": {},
          "execution_count": 58
        }
      ]
    },
    {
      "cell_type": "code",
      "source": [
        "# !=    یعنی آیا دو طرف مخالف هم هستند؟\n",
        "# ==     آیا دو طرف با هم برابر هستند؟"
      ],
      "metadata": {
        "id": "hu9mBF9orpl9"
      },
      "execution_count": null,
      "outputs": []
    },
    {
      "cell_type": "code",
      "source": [
        "c == b"
      ],
      "metadata": {
        "colab": {
          "base_uri": "https://localhost:8080/"
        },
        "id": "jibysVLEr1GP",
        "outputId": "66626488-31c0-4ada-9be6-f7146ffb000d"
      },
      "execution_count": null,
      "outputs": [
        {
          "output_type": "execute_result",
          "data": {
            "text/plain": [
              "True"
            ]
          },
          "metadata": {},
          "execution_count": 60
        }
      ]
    },
    {
      "cell_type": "code",
      "source": [
        "a = 5"
      ],
      "metadata": {
        "id": "bioH31CFr35H"
      },
      "execution_count": null,
      "outputs": []
    },
    {
      "cell_type": "code",
      "source": [
        "a = a + 2\n",
        "print(a)"
      ],
      "metadata": {
        "colab": {
          "base_uri": "https://localhost:8080/"
        },
        "id": "mYVi6E2MsIBl",
        "outputId": "5167e412-69ae-4301-fdc3-adb9a33c929e"
      },
      "execution_count": null,
      "outputs": [
        {
          "output_type": "stream",
          "name": "stdout",
          "text": [
            "7\n"
          ]
        }
      ]
    },
    {
      "cell_type": "code",
      "source": [
        "a += 2\n",
        "print(a)"
      ],
      "metadata": {
        "colab": {
          "base_uri": "https://localhost:8080/"
        },
        "id": "IGhe_EHgsLDP",
        "outputId": "d8e4f168-2ff4-436f-dc1d-38395218698f"
      },
      "execution_count": null,
      "outputs": [
        {
          "output_type": "stream",
          "name": "stdout",
          "text": [
            "9\n"
          ]
        }
      ]
    },
    {
      "cell_type": "code",
      "source": [
        "a -= 2\n",
        "print(a)"
      ],
      "metadata": {
        "colab": {
          "base_uri": "https://localhost:8080/"
        },
        "id": "W2-scFkJsVJI",
        "outputId": "0c3b441e-2372-4e0d-aa17-5080dcbc21fb"
      },
      "execution_count": null,
      "outputs": [
        {
          "output_type": "stream",
          "name": "stdout",
          "text": [
            "7\n"
          ]
        }
      ]
    },
    {
      "cell_type": "code",
      "source": [
        "a *= 2\n",
        "print(a)"
      ],
      "metadata": {
        "colab": {
          "base_uri": "https://localhost:8080/"
        },
        "id": "CM-h4EBusYvm",
        "outputId": "8ab67e26-cfec-47d0-fc8e-f4a7c19ef393"
      },
      "execution_count": null,
      "outputs": [
        {
          "output_type": "stream",
          "name": "stdout",
          "text": [
            "14\n"
          ]
        }
      ]
    },
    {
      "cell_type": "code",
      "source": [
        "a /= 2\n",
        "print(a)"
      ],
      "metadata": {
        "colab": {
          "base_uri": "https://localhost:8080/"
        },
        "id": "DpgcGkecsgk6",
        "outputId": "ce3798d7-169a-41d2-92b7-46df4467eec2"
      },
      "execution_count": null,
      "outputs": [
        {
          "output_type": "stream",
          "name": "stdout",
          "text": [
            "7.0\n"
          ]
        }
      ]
    },
    {
      "cell_type": "code",
      "source": [
        "a **= 2\n",
        "print(a)"
      ],
      "metadata": {
        "colab": {
          "base_uri": "https://localhost:8080/"
        },
        "id": "mqxQ_nRFsiNr",
        "outputId": "5c4a0f6f-37de-4270-d52f-3078356d7830"
      },
      "execution_count": null,
      "outputs": [
        {
          "output_type": "stream",
          "name": "stdout",
          "text": [
            "49.0\n"
          ]
        }
      ]
    },
    {
      "cell_type": "code",
      "source": [
        "a %= 2\n",
        "print(a)"
      ],
      "metadata": {
        "colab": {
          "base_uri": "https://localhost:8080/"
        },
        "id": "JaTJ8PLJsnxU",
        "outputId": "db278fcb-f034-44c3-e6d8-64dfe9595972"
      },
      "execution_count": null,
      "outputs": [
        {
          "output_type": "stream",
          "name": "stdout",
          "text": [
            "1.0\n"
          ]
        }
      ]
    },
    {
      "cell_type": "code",
      "source": [
        "a //= 2\n",
        "print(a)"
      ],
      "metadata": {
        "colab": {
          "base_uri": "https://localhost:8080/"
        },
        "id": "uDnKP8gOs0B4",
        "outputId": "046650e1-27cd-4399-e52a-01bd70437e71"
      },
      "execution_count": null,
      "outputs": [
        {
          "output_type": "stream",
          "name": "stdout",
          "text": [
            "0.0\n"
          ]
        }
      ]
    },
    {
      "cell_type": "code",
      "source": [
        "# +=\n",
        "# -=\n",
        "# *=\n",
        "# /=\n",
        "# **=\n",
        "# %=\n",
        "# //"
      ],
      "metadata": {
        "id": "Kq3L15YYtDQm"
      },
      "execution_count": null,
      "outputs": []
    },
    {
      "cell_type": "code",
      "source": [
        "a"
      ],
      "metadata": {
        "colab": {
          "base_uri": "https://localhost:8080/"
        },
        "id": "xIYlBfmTtRdc",
        "outputId": "31d1281a-0161-4ff1-b9c8-ba97b1565877"
      },
      "execution_count": null,
      "outputs": [
        {
          "output_type": "execute_result",
          "data": {
            "text/plain": [
              "0.0"
            ]
          },
          "metadata": {},
          "execution_count": 75
        }
      ]
    },
    {
      "cell_type": "code",
      "source": [
        "b = a + 2"
      ],
      "metadata": {
        "id": "vjx6V2rNtSaE"
      },
      "execution_count": null,
      "outputs": []
    },
    {
      "cell_type": "code",
      "source": [
        "b"
      ],
      "metadata": {
        "colab": {
          "base_uri": "https://localhost:8080/"
        },
        "id": "HWBs-y8QtTmd",
        "outputId": "83841163-42b8-4ee7-8a09-1798d838ee31"
      },
      "execution_count": null,
      "outputs": [
        {
          "output_type": "execute_result",
          "data": {
            "text/plain": [
              "2.0"
            ]
          },
          "metadata": {},
          "execution_count": 77
        }
      ]
    },
    {
      "cell_type": "code",
      "source": [
        "c = b ** 5"
      ],
      "metadata": {
        "id": "reuDAChbtUiV"
      },
      "execution_count": null,
      "outputs": []
    },
    {
      "cell_type": "code",
      "source": [
        "c"
      ],
      "metadata": {
        "colab": {
          "base_uri": "https://localhost:8080/"
        },
        "id": "-R3vS20htXQd",
        "outputId": "0432e82e-6706-470b-efaa-88effd19f2a4"
      },
      "execution_count": null,
      "outputs": [
        {
          "output_type": "execute_result",
          "data": {
            "text/plain": [
              "32.0"
            ]
          },
          "metadata": {},
          "execution_count": 79
        }
      ]
    },
    {
      "cell_type": "code",
      "source": [
        "a=4"
      ],
      "metadata": {
        "id": "ptQN7zQZtXnG"
      },
      "execution_count": null,
      "outputs": []
    },
    {
      "cell_type": "code",
      "source": [
        "a/2"
      ],
      "metadata": {
        "colab": {
          "base_uri": "https://localhost:8080/"
        },
        "id": "6tuIniaGud-V",
        "outputId": "f6b309eb-f89d-4c7a-d699-a7e214932fe5"
      },
      "execution_count": null,
      "outputs": [
        {
          "output_type": "execute_result",
          "data": {
            "text/plain": [
              "2.0"
            ]
          },
          "metadata": {},
          "execution_count": 82
        }
      ]
    },
    {
      "cell_type": "code",
      "source": [
        "a"
      ],
      "metadata": {
        "colab": {
          "base_uri": "https://localhost:8080/"
        },
        "id": "-h96T4z9uf_Y",
        "outputId": "6916e8e5-f3d2-4109-b68e-3442153cfc4e"
      },
      "execution_count": null,
      "outputs": [
        {
          "output_type": "execute_result",
          "data": {
            "text/plain": [
              "4"
            ]
          },
          "metadata": {},
          "execution_count": 83
        }
      ]
    },
    {
      "cell_type": "code",
      "source": [
        "b = a/2"
      ],
      "metadata": {
        "id": "UYUpc43zukWl"
      },
      "execution_count": null,
      "outputs": []
    },
    {
      "cell_type": "code",
      "source": [
        "b, a"
      ],
      "metadata": {
        "colab": {
          "base_uri": "https://localhost:8080/"
        },
        "id": "Dimx8b41urZl",
        "outputId": "ae268280-7872-476c-d5f5-7f75e3edc84c"
      },
      "execution_count": null,
      "outputs": [
        {
          "output_type": "execute_result",
          "data": {
            "text/plain": [
              "(2.0, 4)"
            ]
          },
          "metadata": {},
          "execution_count": 86
        }
      ]
    },
    {
      "cell_type": "code",
      "source": [
        "a = a+2\n",
        "a +=2"
      ],
      "metadata": {
        "id": "z5CPe-p6urzq"
      },
      "execution_count": null,
      "outputs": []
    },
    {
      "cell_type": "code",
      "source": [
        "a = '2'\n",
        "b = 2"
      ],
      "metadata": {
        "id": "Po6HIDWnvIs_"
      },
      "execution_count": null,
      "outputs": []
    },
    {
      "cell_type": "code",
      "source": [
        "b + a"
      ],
      "metadata": {
        "colab": {
          "base_uri": "https://localhost:8080/",
          "height": 146
        },
        "id": "Au7pHSj_vNS-",
        "outputId": "82316ca5-68c0-4834-c145-534609a1c681"
      },
      "execution_count": null,
      "outputs": [
        {
          "output_type": "error",
          "ename": "TypeError",
          "evalue": "unsupported operand type(s) for +: 'int' and 'str'",
          "traceback": [
            "\u001b[0;31m---------------------------------------------------------------------------\u001b[0m",
            "\u001b[0;31mTypeError\u001b[0m                                 Traceback (most recent call last)",
            "\u001b[0;32m<ipython-input-88-44550f31dd64>\u001b[0m in \u001b[0;36m<cell line: 1>\u001b[0;34m()\u001b[0m\n\u001b[0;32m----> 1\u001b[0;31m \u001b[0mb\u001b[0m \u001b[0;34m+\u001b[0m \u001b[0ma\u001b[0m\u001b[0;34m\u001b[0m\u001b[0;34m\u001b[0m\u001b[0m\n\u001b[0m",
            "\u001b[0;31mTypeError\u001b[0m: unsupported operand type(s) for +: 'int' and 'str'"
          ]
        }
      ]
    },
    {
      "cell_type": "code",
      "source": [
        "0.2 + 4"
      ],
      "metadata": {
        "colab": {
          "base_uri": "https://localhost:8080/"
        },
        "id": "KsP_KGiwvOYy",
        "outputId": "84da226d-ffe1-4059-ec57-53f58c42f8ae"
      },
      "execution_count": null,
      "outputs": [
        {
          "output_type": "execute_result",
          "data": {
            "text/plain": [
              "4.2"
            ]
          },
          "metadata": {},
          "execution_count": 89
        }
      ]
    },
    {
      "cell_type": "code",
      "source": [
        "print(2+=2)"
      ],
      "metadata": {
        "colab": {
          "base_uri": "https://localhost:8080/",
          "height": 110
        },
        "id": "8YICBmhWvT6v",
        "outputId": "b3068c9b-d62e-4c3c-dca3-910186c55585"
      },
      "execution_count": null,
      "outputs": [
        {
          "output_type": "error",
          "ename": "SyntaxError",
          "evalue": "invalid syntax (<ipython-input-90-5ca48f3eade7>, line 1)",
          "traceback": [
            "\u001b[0;36m  File \u001b[0;32m\"<ipython-input-90-5ca48f3eade7>\"\u001b[0;36m, line \u001b[0;32m1\u001b[0m\n\u001b[0;31m    print(2+=2)\u001b[0m\n\u001b[0m           ^\u001b[0m\n\u001b[0;31mSyntaxError\u001b[0m\u001b[0;31m:\u001b[0m invalid syntax\n"
          ]
        }
      ]
    },
    {
      "cell_type": "code",
      "source": [
        "2 + 3 * 4  # ترتبی عملیات‌ها مثل ترتیب اولویت در ریاضی است"
      ],
      "metadata": {
        "colab": {
          "base_uri": "https://localhost:8080/"
        },
        "id": "sYBIgp4Kvw__",
        "outputId": "0b3ee7ce-6128-427e-c949-5e53dcc75bd8"
      },
      "execution_count": null,
      "outputs": [
        {
          "output_type": "execute_result",
          "data": {
            "text/plain": [
              "14"
            ]
          },
          "metadata": {},
          "execution_count": 95
        }
      ]
    },
    {
      "cell_type": "code",
      "source": [
        "2 + 3 * 2 ** 2"
      ],
      "metadata": {
        "colab": {
          "base_uri": "https://localhost:8080/"
        },
        "id": "M-VNaOgjv6n7",
        "outputId": "15561dc9-9376-44d2-b7d0-001aa1e9325d"
      },
      "execution_count": null,
      "outputs": [
        {
          "output_type": "execute_result",
          "data": {
            "text/plain": [
              "14"
            ]
          },
          "metadata": {},
          "execution_count": 96
        }
      ]
    },
    {
      "cell_type": "markdown",
      "source": [
        "# Getting Input"
      ],
      "metadata": {
        "id": "_Jx9agYswb_6"
      }
    },
    {
      "cell_type": "code",
      "source": [
        "input('Please enter your name: ')"
      ],
      "metadata": {
        "colab": {
          "base_uri": "https://localhost:8080/",
          "height": 54
        },
        "id": "Kc3R_T6Vv_5V",
        "outputId": "2b660b23-22b2-4772-bdb0-a0fa66eb05ee"
      },
      "execution_count": null,
      "outputs": [
        {
          "name": "stdout",
          "output_type": "stream",
          "text": [
            "Please enter your name: Mohammad\n"
          ]
        },
        {
          "output_type": "execute_result",
          "data": {
            "text/plain": [
              "'Mohammad'"
            ],
            "application/vnd.google.colaboratory.intrinsic+json": {
              "type": "string"
            }
          },
          "metadata": {},
          "execution_count": 97
        }
      ]
    },
    {
      "cell_type": "code",
      "source": [
        "name = input('Please enter your name: ')"
      ],
      "metadata": {
        "colab": {
          "base_uri": "https://localhost:8080/"
        },
        "id": "q6KyxmTVx93s",
        "outputId": "4b574f33-1bbd-400b-deb9-ff5957897d90"
      },
      "execution_count": null,
      "outputs": [
        {
          "name": "stdout",
          "output_type": "stream",
          "text": [
            "Please enter your name: Abtin\n"
          ]
        }
      ]
    },
    {
      "cell_type": "code",
      "source": [
        "print(name)"
      ],
      "metadata": {
        "colab": {
          "base_uri": "https://localhost:8080/"
        },
        "id": "vHKRphROyEoM",
        "outputId": "007f3c86-eea6-4f9d-cd4b-f49e330045d1"
      },
      "execution_count": null,
      "outputs": [
        {
          "output_type": "stream",
          "name": "stdout",
          "text": [
            "Abtin\n"
          ]
        }
      ]
    },
    {
      "cell_type": "code",
      "source": [
        "type(name)"
      ],
      "metadata": {
        "colab": {
          "base_uri": "https://localhost:8080/"
        },
        "id": "pHv8EXmIyJet",
        "outputId": "671c0a26-6d5c-4acb-81de-c43393a9179e"
      },
      "execution_count": null,
      "outputs": [
        {
          "output_type": "execute_result",
          "data": {
            "text/plain": [
              "str"
            ]
          },
          "metadata": {},
          "execution_count": 100
        }
      ]
    },
    {
      "cell_type": "code",
      "source": [
        "age = input('Please enter your age: ')"
      ],
      "metadata": {
        "colab": {
          "base_uri": "https://localhost:8080/"
        },
        "id": "QNdq2FhMyKf3",
        "outputId": "23bf1276-20f6-4444-a1fc-f2704dd7741a"
      },
      "execution_count": null,
      "outputs": [
        {
          "name": "stdout",
          "output_type": "stream",
          "text": [
            "Please enter your age: 14\n"
          ]
        }
      ]
    },
    {
      "cell_type": "code",
      "source": [
        "type(age)"
      ],
      "metadata": {
        "colab": {
          "base_uri": "https://localhost:8080/"
        },
        "id": "wMqWts7dyOWu",
        "outputId": "273ffd70-91e0-44f3-b097-4d87db32b6fc"
      },
      "execution_count": null,
      "outputs": [
        {
          "output_type": "execute_result",
          "data": {
            "text/plain": [
              "str"
            ]
          },
          "metadata": {},
          "execution_count": 103
        }
      ]
    },
    {
      "cell_type": "code",
      "source": [
        "weight = input('Please enter your weight: ')"
      ],
      "metadata": {
        "colab": {
          "base_uri": "https://localhost:8080/"
        },
        "id": "HgmT4QpzyVBG",
        "outputId": "fd223fb0-45fe-4401-87a7-02ca9c61bbfe"
      },
      "execution_count": null,
      "outputs": [
        {
          "name": "stdout",
          "output_type": "stream",
          "text": [
            "Please enter your weight: 61.2\n"
          ]
        }
      ]
    },
    {
      "cell_type": "code",
      "source": [
        "weight"
      ],
      "metadata": {
        "colab": {
          "base_uri": "https://localhost:8080/",
          "height": 36
        },
        "id": "ef_XTc8kyYVi",
        "outputId": "583bfb9e-3d49-41f2-9ddf-9a5c98a8fe52"
      },
      "execution_count": null,
      "outputs": [
        {
          "output_type": "execute_result",
          "data": {
            "text/plain": [
              "'61.2'"
            ],
            "application/vnd.google.colaboratory.intrinsic+json": {
              "type": "string"
            }
          },
          "metadata": {},
          "execution_count": 105
        }
      ]
    },
    {
      "cell_type": "code",
      "source": [
        "int('1')"
      ],
      "metadata": {
        "colab": {
          "base_uri": "https://localhost:8080/"
        },
        "id": "HiZgzL8-yk8N",
        "outputId": "9ca575d3-5e85-4997-d33b-b7e1e6b28781"
      },
      "execution_count": null,
      "outputs": [
        {
          "output_type": "execute_result",
          "data": {
            "text/plain": [
              "1"
            ]
          },
          "metadata": {},
          "execution_count": 106
        }
      ]
    },
    {
      "cell_type": "code",
      "source": [
        "int(1.1)"
      ],
      "metadata": {
        "colab": {
          "base_uri": "https://localhost:8080/"
        },
        "id": "d9f-oRovyqGg",
        "outputId": "aaaa4fea-3dbe-48c0-802a-0b112c6a63c1"
      },
      "execution_count": null,
      "outputs": [
        {
          "output_type": "execute_result",
          "data": {
            "text/plain": [
              "1"
            ]
          },
          "metadata": {},
          "execution_count": 107
        }
      ]
    },
    {
      "cell_type": "code",
      "source": [
        "float(4)"
      ],
      "metadata": {
        "colab": {
          "base_uri": "https://localhost:8080/"
        },
        "id": "ceFwbxIXysvL",
        "outputId": "0be30bed-33e8-4a34-cc07-d59b694c70c4"
      },
      "execution_count": null,
      "outputs": [
        {
          "output_type": "execute_result",
          "data": {
            "text/plain": [
              "4.0"
            ]
          },
          "metadata": {},
          "execution_count": 108
        }
      ]
    },
    {
      "cell_type": "code",
      "source": [
        "str(4.1)"
      ],
      "metadata": {
        "colab": {
          "base_uri": "https://localhost:8080/",
          "height": 36
        },
        "id": "MY0iaAr1y467",
        "outputId": "1bcf5d9b-1d64-44fc-a4e9-a46e17c1fe6c"
      },
      "execution_count": null,
      "outputs": [
        {
          "output_type": "execute_result",
          "data": {
            "text/plain": [
              "'4.1'"
            ],
            "application/vnd.google.colaboratory.intrinsic+json": {
              "type": "string"
            }
          },
          "metadata": {},
          "execution_count": 109
        }
      ]
    },
    {
      "cell_type": "code",
      "source": [
        "print(int(1.1))"
      ],
      "metadata": {
        "colab": {
          "base_uri": "https://localhost:8080/"
        },
        "id": "7i5iKDcrzErY",
        "outputId": "35766a2f-e420-4929-e7fc-f15c6367abc7"
      },
      "execution_count": null,
      "outputs": [
        {
          "output_type": "stream",
          "name": "stdout",
          "text": [
            "1\n"
          ]
        }
      ]
    },
    {
      "cell_type": "code",
      "source": [
        "int(1.1)"
      ],
      "metadata": {
        "colab": {
          "base_uri": "https://localhost:8080/"
        },
        "id": "ytuuv6vwzBLy",
        "outputId": "d5c1be50-f209-4cda-a49c-154ea39900f7"
      },
      "execution_count": null,
      "outputs": [
        {
          "output_type": "execute_result",
          "data": {
            "text/plain": [
              "1"
            ]
          },
          "metadata": {},
          "execution_count": 112
        }
      ]
    },
    {
      "cell_type": "code",
      "source": [
        "int(1.9)"
      ],
      "metadata": {
        "colab": {
          "base_uri": "https://localhost:8080/"
        },
        "id": "Z26LqkSgzMSX",
        "outputId": "17593297-207d-45d8-d351-903cc1307b99"
      },
      "execution_count": null,
      "outputs": [
        {
          "output_type": "execute_result",
          "data": {
            "text/plain": [
              "1"
            ]
          },
          "metadata": {},
          "execution_count": 113
        }
      ]
    },
    {
      "cell_type": "code",
      "source": [
        "int('a')"
      ],
      "metadata": {
        "colab": {
          "base_uri": "https://localhost:8080/",
          "height": 146
        },
        "id": "lWZYdOtazgTI",
        "outputId": "7600ea14-f98b-4ef2-d9e2-f529d8867b5e"
      },
      "execution_count": null,
      "outputs": [
        {
          "output_type": "error",
          "ename": "ValueError",
          "evalue": "invalid literal for int() with base 10: 'a'",
          "traceback": [
            "\u001b[0;31m---------------------------------------------------------------------------\u001b[0m",
            "\u001b[0;31mValueError\u001b[0m                                Traceback (most recent call last)",
            "\u001b[0;32m<ipython-input-114-233884bacd4e>\u001b[0m in \u001b[0;36m<cell line: 1>\u001b[0;34m()\u001b[0m\n\u001b[0;32m----> 1\u001b[0;31m \u001b[0mint\u001b[0m\u001b[0;34m(\u001b[0m\u001b[0;34m'a'\u001b[0m\u001b[0;34m)\u001b[0m\u001b[0;34m\u001b[0m\u001b[0;34m\u001b[0m\u001b[0m\n\u001b[0m",
            "\u001b[0;31mValueError\u001b[0m: invalid literal for int() with base 10: 'a'"
          ]
        }
      ]
    },
    {
      "cell_type": "code",
      "source": [
        "name = input('Please enter your name: ')\n",
        "age = int(input('Please enter your age: '))\n",
        "weight = float(input('Please enter your weight: '))"
      ],
      "metadata": {
        "colab": {
          "base_uri": "https://localhost:8080/"
        },
        "id": "pKo4Ct5wzNaX",
        "outputId": "d8ccf3bd-6403-4cbe-b90d-86ec53ca54a8"
      },
      "execution_count": null,
      "outputs": [
        {
          "name": "stdout",
          "output_type": "stream",
          "text": [
            "Please enter your name: Mohammad\n",
            "Please enter your age: 12\n",
            "Please enter your weight: 39\n"
          ]
        }
      ]
    },
    {
      "cell_type": "code",
      "source": [
        "name, age , weight"
      ],
      "metadata": {
        "colab": {
          "base_uri": "https://localhost:8080/"
        },
        "id": "VEZ0mSHU0kdO",
        "outputId": "e9d0f35d-bc05-433e-bf2e-26826cb9b20c"
      },
      "execution_count": null,
      "outputs": [
        {
          "output_type": "execute_result",
          "data": {
            "text/plain": [
              "('Mohammad', 12, 39.0)"
            ]
          },
          "metadata": {},
          "execution_count": 116
        }
      ]
    },
    {
      "cell_type": "code",
      "source": [
        "age = int(input('Please enter your age: '))"
      ],
      "metadata": {
        "colab": {
          "base_uri": "https://localhost:8080/",
          "height": 164
        },
        "id": "YM40MX1k0sPQ",
        "outputId": "5d31b93d-e12f-4e11-ad85-c2ea6f23962a"
      },
      "execution_count": null,
      "outputs": [
        {
          "name": "stdout",
          "output_type": "stream",
          "text": [
            "Please enter your age: '10.5'\n"
          ]
        },
        {
          "output_type": "error",
          "ename": "ValueError",
          "evalue": "invalid literal for int() with base 10: \"'10.5'\"",
          "traceback": [
            "\u001b[0;31m---------------------------------------------------------------------------\u001b[0m",
            "\u001b[0;31mValueError\u001b[0m                                Traceback (most recent call last)",
            "\u001b[0;32m<ipython-input-117-64ea66f8f2bb>\u001b[0m in \u001b[0;36m<cell line: 1>\u001b[0;34m()\u001b[0m\n\u001b[0;32m----> 1\u001b[0;31m \u001b[0mage\u001b[0m \u001b[0;34m=\u001b[0m \u001b[0mint\u001b[0m\u001b[0;34m(\u001b[0m\u001b[0minput\u001b[0m\u001b[0;34m(\u001b[0m\u001b[0;34m'Please enter your age: '\u001b[0m\u001b[0;34m)\u001b[0m\u001b[0;34m)\u001b[0m\u001b[0;34m\u001b[0m\u001b[0;34m\u001b[0m\u001b[0m\n\u001b[0m",
            "\u001b[0;31mValueError\u001b[0m: invalid literal for int() with base 10: \"'10.5'\""
          ]
        }
      ]
    },
    {
      "cell_type": "code",
      "source": [
        "age = int(input('Please enter your age: '))"
      ],
      "metadata": {
        "colab": {
          "base_uri": "https://localhost:8080/",
          "height": 164
        },
        "id": "Em9n8seO07q5",
        "outputId": "262591c5-a700-4efe-d808-8b9079c7b7a1"
      },
      "execution_count": null,
      "outputs": [
        {
          "name": "stdout",
          "output_type": "stream",
          "text": [
            "Please enter your age: 10.5\n"
          ]
        },
        {
          "output_type": "error",
          "ename": "ValueError",
          "evalue": "invalid literal for int() with base 10: '10.5'",
          "traceback": [
            "\u001b[0;31m---------------------------------------------------------------------------\u001b[0m",
            "\u001b[0;31mValueError\u001b[0m                                Traceback (most recent call last)",
            "\u001b[0;32m<ipython-input-118-64ea66f8f2bb>\u001b[0m in \u001b[0;36m<cell line: 1>\u001b[0;34m()\u001b[0m\n\u001b[0;32m----> 1\u001b[0;31m \u001b[0mage\u001b[0m \u001b[0;34m=\u001b[0m \u001b[0mint\u001b[0m\u001b[0;34m(\u001b[0m\u001b[0minput\u001b[0m\u001b[0;34m(\u001b[0m\u001b[0;34m'Please enter your age: '\u001b[0m\u001b[0;34m)\u001b[0m\u001b[0;34m)\u001b[0m\u001b[0;34m\u001b[0m\u001b[0;34m\u001b[0m\u001b[0m\n\u001b[0m",
            "\u001b[0;31mValueError\u001b[0m: invalid literal for int() with base 10: '10.5'"
          ]
        }
      ]
    },
    {
      "cell_type": "code",
      "source": [
        "age = int(input('Please enter your age: '))"
      ],
      "metadata": {
        "colab": {
          "base_uri": "https://localhost:8080/"
        },
        "id": "pPYiRiXd1AJz",
        "outputId": "7b1358cd-0d51-4c02-fc60-a6b30a8b8aaf"
      },
      "execution_count": null,
      "outputs": [
        {
          "name": "stdout",
          "output_type": "stream",
          "text": [
            "Please enter your age: 11\n"
          ]
        }
      ]
    },
    {
      "cell_type": "code",
      "source": [
        "age"
      ],
      "metadata": {
        "colab": {
          "base_uri": "https://localhost:8080/"
        },
        "id": "UrqsTvBD2p7q",
        "outputId": "50a00ee6-bb2e-42af-e384-cf39fb44bc82"
      },
      "execution_count": null,
      "outputs": [
        {
          "output_type": "execute_result",
          "data": {
            "text/plain": [
              "11"
            ]
          },
          "metadata": {},
          "execution_count": 121
        }
      ]
    },
    {
      "cell_type": "code",
      "source": [
        "if True: # وارد می‌شود\n",
        "if False: # وارد نمی‌شود"
      ],
      "metadata": {
        "id": "lnJ0wL724GGA"
      },
      "execution_count": null,
      "outputs": []
    },
    {
      "cell_type": "code",
      "source": [
        "# در زبان C/C++/C#/Java\n",
        "# if True:{\n",
        "# print('salam')\n",
        "#                         print('salam')\n",
        "# }\n",
        "\n",
        "# indentation in python\n",
        "# if True:\n",
        "#   print(\"salam\")\n",
        "#    print(\"salam\") # این ارور است اگر ایندنتیشن انتخابی شما ۲ باشد\n"
      ],
      "metadata": {
        "id": "Gmu3MYKB47mJ"
      },
      "execution_count": null,
      "outputs": []
    },
    {
      "cell_type": "code",
      "source": [
        "if True:\n",
        "  print(\"salam\")\n",
        "   print(\"salam\")"
      ],
      "metadata": {
        "colab": {
          "base_uri": "https://localhost:8080/",
          "height": 110
        },
        "id": "5_6h3L-k5wRF",
        "outputId": "61e0d09d-e20b-422c-c00e-351769381e67"
      },
      "execution_count": null,
      "outputs": [
        {
          "output_type": "error",
          "ename": "IndentationError",
          "evalue": "unexpected indent (<ipython-input-128-89501c347066>, line 3)",
          "traceback": [
            "\u001b[0;36m  File \u001b[0;32m\"<ipython-input-128-89501c347066>\"\u001b[0;36m, line \u001b[0;32m3\u001b[0m\n\u001b[0;31m    print(\"salam\")\u001b[0m\n\u001b[0m    ^\u001b[0m\n\u001b[0;31mIndentationError\u001b[0m\u001b[0;31m:\u001b[0m unexpected indent\n"
          ]
        }
      ]
    },
    {
      "cell_type": "code",
      "source": [
        "if True:\n",
        " print(\"salam\")\n",
        "if True:\n",
        "                    print(\"salam\")\n",
        "# indentation in python 2 space\n",
        "# indentation in python 4 space, 1 tab"
      ],
      "metadata": {
        "colab": {
          "base_uri": "https://localhost:8080/"
        },
        "id": "D1ynyRGj53p0",
        "outputId": "3f9d2a8e-5474-41bc-e6e5-e750c65208a0"
      },
      "execution_count": null,
      "outputs": [
        {
          "output_type": "stream",
          "name": "stdout",
          "text": [
            "salam\n",
            "salam\n"
          ]
        }
      ]
    },
    {
      "cell_type": "code",
      "source": [
        "if age >= 15:\n",
        "    print('You can enter')"
      ],
      "metadata": {
        "id": "7FI6t4Qb2vSo"
      },
      "execution_count": null,
      "outputs": []
    },
    {
      "cell_type": "code",
      "source": [
        "if True:\n",
        "    print('salam')"
      ],
      "metadata": {
        "colab": {
          "base_uri": "https://localhost:8080/"
        },
        "id": "SQAH8NHW29Kp",
        "outputId": "bed19f10-47c7-4871-d4f4-9087836cf569"
      },
      "execution_count": null,
      "outputs": [
        {
          "output_type": "stream",
          "name": "stdout",
          "text": [
            "salam\n"
          ]
        }
      ]
    },
    {
      "cell_type": "code",
      "source": [
        "if False:\n",
        "    print('salam')"
      ],
      "metadata": {
        "id": "lUYNFPnC2_UK"
      },
      "execution_count": null,
      "outputs": []
    },
    {
      "cell_type": "code",
      "source": [
        "age == 11"
      ],
      "metadata": {
        "colab": {
          "base_uri": "https://localhost:8080/"
        },
        "id": "UrEWfkSn3BU9",
        "outputId": "976ea11c-233d-4664-fee0-4c45706d2f25"
      },
      "execution_count": null,
      "outputs": [
        {
          "output_type": "execute_result",
          "data": {
            "text/plain": [
              "True"
            ]
          },
          "metadata": {},
          "execution_count": 124
        }
      ]
    },
    {
      "cell_type": "code",
      "source": [
        "if age >= 15:\n",
        "    print('You can enter')"
      ],
      "metadata": {
        "id": "eQQB0yVW3HPl"
      },
      "execution_count": null,
      "outputs": []
    },
    {
      "cell_type": "code",
      "source": [
        "if age <= 15:\n",
        "    print('You can enter')"
      ],
      "metadata": {
        "colab": {
          "base_uri": "https://localhost:8080/"
        },
        "id": "2I4q64q53MIo",
        "outputId": "f34ea5a1-5db0-4e1f-c444-11b8c555736a"
      },
      "execution_count": null,
      "outputs": [
        {
          "output_type": "stream",
          "name": "stdout",
          "text": [
            "You can enter\n"
          ]
        }
      ]
    },
    {
      "cell_type": "code",
      "source": [
        "print(\"salam\") if True else print(\"Kodafez\")\n",
        "# else: print(\"Kodafez\")"
      ],
      "metadata": {
        "colab": {
          "base_uri": "https://localhost:8080/"
        },
        "id": "d9Fh9jTc3Rfy",
        "outputId": "f39ff3de-25e3-4aa2-b5e8-3fa2519f10d9"
      },
      "execution_count": null,
      "outputs": [
        {
          "output_type": "stream",
          "name": "stdout",
          "text": [
            "salam\n"
          ]
        }
      ]
    },
    {
      "cell_type": "code",
      "source": [
        "if age <= 15 and weight <= 35:\n",
        "    print('You can enter')"
      ],
      "metadata": {
        "id": "TibacyEY7yl2"
      },
      "execution_count": null,
      "outputs": []
    },
    {
      "cell_type": "markdown",
      "source": [
        "# 2024-07-20"
      ],
      "metadata": {
        "id": "7w5537mt_wEr"
      }
    },
    {
      "cell_type": "code",
      "source": [
        "name = input('Please enter your name: ')\n",
        "age = int(input('Please enter your age: '))\n",
        "weight = float(input('Please enter your weight: '))"
      ],
      "metadata": {
        "id": "ypMd6Qj38dww",
        "colab": {
          "base_uri": "https://localhost:8080/"
        },
        "outputId": "e942adb7-9d63-4851-d44a-53be4f4ed30d"
      },
      "execution_count": null,
      "outputs": [
        {
          "name": "stdout",
          "output_type": "stream",
          "text": [
            "Please enter your name: Manager\n",
            "Please enter your age: 41\n",
            "Please enter your weight: 92\n"
          ]
        }
      ]
    },
    {
      "cell_type": "code",
      "source": [
        "if (age <= 15 and weight <= 35) or name == \"Manager\":\n",
        "    print('You can enter')"
      ],
      "metadata": {
        "id": "F18PyDhb_zm7",
        "colab": {
          "base_uri": "https://localhost:8080/"
        },
        "outputId": "4c8729df-1a34-4aca-a75f-4c8c1e237627"
      },
      "execution_count": null,
      "outputs": [
        {
          "output_type": "stream",
          "name": "stdout",
          "text": [
            "You can enter\n"
          ]
        }
      ]
    },
    {
      "cell_type": "code",
      "source": [
        "if age <= 15:\n",
        "    print('You can enter')\n",
        "else:\n",
        "    print('You can not enter bacause of your age!')"
      ],
      "metadata": {
        "colab": {
          "base_uri": "https://localhost:8080/"
        },
        "id": "WD9CgDuLAwBP",
        "outputId": "d6bf87ca-3cd9-4c57-e61b-fc163953d3e7"
      },
      "execution_count": null,
      "outputs": [
        {
          "output_type": "stream",
          "name": "stdout",
          "text": [
            "You can not enter bacause of your age!\n"
          ]
        }
      ]
    },
    {
      "cell_type": "code",
      "source": [
        "if age <= 15:                   # if age <= 15 or weight <= 35:\n",
        "    print('You can enter')\n",
        "elif weight <= 35:\n",
        "    print('You can enter')\n",
        "else:\n",
        "    print('You can not enter bacause of your age or weight!')"
      ],
      "metadata": {
        "id": "8ISB1sZYDEe7"
      },
      "execution_count": null,
      "outputs": []
    },
    {
      "cell_type": "code",
      "source": [
        "if age <= 15: #if age <= 15 or weight <= 35:\n",
        "    print('Your age is under 15')\n",
        "elif weight <= 35:\n",
        "    print('Your weight is under 35')"
      ],
      "metadata": {
        "id": "Ku576dMXDx7i"
      },
      "execution_count": null,
      "outputs": []
    },
    {
      "cell_type": "code",
      "source": [
        "# if False:\n",
        "# elif False:\n",
        "# elif False:\n",
        "# elif False:\n",
        "# elif False:\n",
        "# elif False:\n",
        "# else:"
      ],
      "metadata": {
        "id": "obK_WXhnEJvk"
      },
      "execution_count": null,
      "outputs": []
    },
    {
      "cell_type": "code",
      "source": [
        "if age <= 15: #if age <= 15 or weight <= 35:\n",
        "    print('Your age is under 15')\n",
        "elif weight <= 35:\n",
        "    print('Your weight is under 35')\n",
        "elif name == \"Manager\":\n",
        "    print('You are Manager!')\n",
        "else:\n",
        "    print('You can not enter bacause of your age or weight!')"
      ],
      "metadata": {
        "id": "o8auR88zE_Dp"
      },
      "execution_count": null,
      "outputs": []
    },
    {
      "cell_type": "code",
      "source": [
        "a=4\n",
        "if a == 0:\n",
        "    print('a=0')\n",
        "elif a == 1:\n",
        "    print('a=1')\n",
        "elif a == 2:\n",
        "    print('a=2')\n",
        "elif a == 3:\n",
        "    print('a=3')\n",
        "elif a == 4:\n",
        "    print('a=4')\n",
        "elif a == 5:\n",
        "    print('a=5')\n",
        "else:\n",
        "    print('a=other')\n"
      ],
      "metadata": {
        "id": "InThBhu-FWNU"
      },
      "execution_count": null,
      "outputs": []
    },
    {
      "cell_type": "code",
      "source": [
        "if True:\n",
        "    pass"
      ],
      "metadata": {
        "id": "1UmS97jOGmpp"
      },
      "execution_count": null,
      "outputs": []
    },
    {
      "cell_type": "code",
      "source": [
        "a=4\n",
        "if a == 0:\n",
        "    pass\n",
        "elif a == 1:\n",
        "    pass\n",
        "elif a == 2:\n",
        "    pass\n",
        "elif a == 3:\n",
        "    pass\n",
        "elif a == 4:\n",
        "    pass\n",
        "elif a == 5:\n",
        "    pass\n",
        "else:\n",
        "    pass\n"
      ],
      "metadata": {
        "id": "jKzlyHrtGzvx"
      },
      "execution_count": null,
      "outputs": []
    },
    {
      "cell_type": "code",
      "source": [
        "# for\n",
        "# while"
      ],
      "metadata": {
        "id": "-v_3IiPeIYSB"
      },
      "execution_count": null,
      "outputs": []
    },
    {
      "cell_type": "code",
      "source": [
        "range(2)"
      ],
      "metadata": {
        "colab": {
          "base_uri": "https://localhost:8080/"
        },
        "id": "6CPki-I9IzJx",
        "outputId": "8dbe7a67-ed7b-4ed4-b74b-ef8f366968bd"
      },
      "execution_count": null,
      "outputs": [
        {
          "output_type": "execute_result",
          "data": {
            "text/plain": [
              "range(0, 2)"
            ]
          },
          "metadata": {},
          "execution_count": 10
        }
      ]
    },
    {
      "cell_type": "code",
      "source": [
        "for i in range(3):\n",
        "    print(i)\n",
        "    # i = عدد جدید"
      ],
      "metadata": {
        "colab": {
          "base_uri": "https://localhost:8080/"
        },
        "id": "Az5Y35F9IojX",
        "outputId": "a02788d5-ac59-4f44-cf2e-e93117817d54"
      },
      "execution_count": null,
      "outputs": [
        {
          "output_type": "stream",
          "name": "stdout",
          "text": [
            "0\n",
            "1\n",
            "2\n"
          ]
        }
      ]
    },
    {
      "cell_type": "code",
      "source": [
        "for mohammad in range(10):\n",
        "    print(mohammad)"
      ],
      "metadata": {
        "colab": {
          "base_uri": "https://localhost:8080/"
        },
        "id": "CvT5IEp3I5Ax",
        "outputId": "7ec9d5fc-bf48-482b-a1ef-9a6599fa5abf"
      },
      "execution_count": null,
      "outputs": [
        {
          "output_type": "stream",
          "name": "stdout",
          "text": [
            "0\n",
            "1\n",
            "2\n",
            "3\n",
            "4\n",
            "5\n",
            "6\n",
            "7\n",
            "8\n",
            "9\n"
          ]
        }
      ]
    },
    {
      "cell_type": "code",
      "source": [
        "type(range(2))"
      ],
      "metadata": {
        "colab": {
          "base_uri": "https://localhost:8080/"
        },
        "id": "Re90NnM8JaRl",
        "outputId": "30caa913-a143-46ef-dd20-6afcfd1d6b62"
      },
      "execution_count": null,
      "outputs": [
        {
          "output_type": "execute_result",
          "data": {
            "text/plain": [
              "range"
            ]
          },
          "metadata": {},
          "execution_count": 14
        }
      ]
    },
    {
      "cell_type": "code",
      "source": [
        "print(range(2))"
      ],
      "metadata": {
        "colab": {
          "base_uri": "https://localhost:8080/"
        },
        "id": "cCyOVglMJjEx",
        "outputId": "48ddcfce-3e0b-4a26-aff5-ade03b4bc6ec"
      },
      "execution_count": null,
      "outputs": [
        {
          "output_type": "stream",
          "name": "stdout",
          "text": [
            "range(0, 2)\n"
          ]
        }
      ]
    },
    {
      "cell_type": "code",
      "source": [
        "for mohammad in range(10):\n",
        "    print(mohammad/10)"
      ],
      "metadata": {
        "colab": {
          "base_uri": "https://localhost:8080/"
        },
        "id": "oGpUyKfnJ1oM",
        "outputId": "55b940de-1255-4ebe-d280-e376165d1c83"
      },
      "execution_count": null,
      "outputs": [
        {
          "output_type": "stream",
          "name": "stdout",
          "text": [
            "0.0\n",
            "0.1\n",
            "0.2\n",
            "0.3\n",
            "0.4\n",
            "0.5\n",
            "0.6\n",
            "0.7\n",
            "0.8\n",
            "0.9\n"
          ]
        }
      ]
    },
    {
      "cell_type": "code",
      "source": [
        "for i in range(1,11):\n",
        "    print(i)\n",
        "\n",
        "# i=1\n",
        "# while i<11:\n",
        "#     print(i)\n",
        "#     i += 1"
      ],
      "metadata": {
        "colab": {
          "base_uri": "https://localhost:8080/"
        },
        "id": "MTNfI1JIKaKM",
        "outputId": "bbd3e68f-f77f-4360-b488-30f2d4ae8082"
      },
      "execution_count": null,
      "outputs": [
        {
          "output_type": "stream",
          "name": "stdout",
          "text": [
            "1\n",
            "2\n",
            "3\n",
            "4\n",
            "5\n",
            "6\n",
            "7\n",
            "8\n",
            "9\n",
            "10\n"
          ]
        }
      ]
    },
    {
      "cell_type": "code",
      "source": [],
      "metadata": {
        "id": "QIHxjqygTIlz"
      },
      "execution_count": null,
      "outputs": []
    },
    {
      "cell_type": "code",
      "source": [
        "for i in range(0, 20, 2): # range(start, end , step)\n",
        "    print(i)"
      ],
      "metadata": {
        "colab": {
          "base_uri": "https://localhost:8080/"
        },
        "id": "Xxyfc959K0kC",
        "outputId": "8279bfd6-9179-432a-ffac-aee076c97717"
      },
      "execution_count": null,
      "outputs": [
        {
          "output_type": "stream",
          "name": "stdout",
          "text": [
            "0\n",
            "2\n",
            "4\n",
            "6\n",
            "8\n",
            "10\n",
            "12\n",
            "14\n",
            "16\n",
            "18\n"
          ]
        }
      ]
    },
    {
      "cell_type": "code",
      "source": [
        "for i in range(0, 20, 5):\n",
        "    print(i)"
      ],
      "metadata": {
        "colab": {
          "base_uri": "https://localhost:8080/"
        },
        "id": "MmhnAQLBLMcp",
        "outputId": "62a63dad-00c8-4314-e1ab-9b35a655093c"
      },
      "execution_count": null,
      "outputs": [
        {
          "output_type": "stream",
          "name": "stdout",
          "text": [
            "0\n",
            "5\n",
            "10\n",
            "15\n"
          ]
        }
      ]
    },
    {
      "cell_type": "code",
      "source": [
        "a = 0\n",
        "for i in range(10):\n",
        "    a += i\n",
        "    print(a, i)\n"
      ],
      "metadata": {
        "colab": {
          "base_uri": "https://localhost:8080/"
        },
        "id": "SY4mWqqyLQXk",
        "outputId": "ef335fd8-1609-49cc-96a4-7e74e49cb437"
      },
      "execution_count": null,
      "outputs": [
        {
          "output_type": "stream",
          "name": "stdout",
          "text": [
            "0 0\n",
            "1 1\n",
            "3 2\n",
            "6 3\n",
            "10 4\n",
            "15 5\n",
            "21 6\n",
            "28 7\n",
            "36 8\n",
            "45 9\n"
          ]
        }
      ]
    },
    {
      "cell_type": "code",
      "source": [
        "a = 0\n",
        "for i in range(10):\n",
        "    a += i\n",
        "    if a > 20:\n",
        "        print(a)\n"
      ],
      "metadata": {
        "colab": {
          "base_uri": "https://localhost:8080/"
        },
        "id": "U3LiLxslLfQn",
        "outputId": "f47d4133-a873-415b-8297-b40c6781e2ea"
      },
      "execution_count": null,
      "outputs": [
        {
          "output_type": "stream",
          "name": "stdout",
          "text": [
            "21\n",
            "28\n",
            "36\n",
            "45\n"
          ]
        }
      ]
    },
    {
      "cell_type": "code",
      "source": [
        "a = 0\n",
        "for i in range(10):\n",
        "    a += i\n",
        "    if a > 20:\n",
        "        print(\"WARNING: a is bigger than 20!\")\n"
      ],
      "metadata": {
        "colab": {
          "base_uri": "https://localhost:8080/"
        },
        "id": "-awJStI3LuXF",
        "outputId": "e70ed7a0-b01d-4ddc-c57b-18376437f2ab"
      },
      "execution_count": null,
      "outputs": [
        {
          "output_type": "stream",
          "name": "stdout",
          "text": [
            "WARNING: a is bigger than 20!\n",
            "WARNING: a is bigger than 20!\n",
            "WARNING: a is bigger than 20!\n",
            "WARNING: a is bigger than 20!\n"
          ]
        }
      ]
    },
    {
      "cell_type": "code",
      "source": [
        "a = 0\n",
        "for i in range(10):\n",
        "    a += i\n",
        "    if a > 20:\n",
        "        print(\"WARNING: a is bigger than 20!\")\n",
        "        break\n",
        "        print(\"This is after break!\")\n",
        "print(\"out of loop\")"
      ],
      "metadata": {
        "colab": {
          "base_uri": "https://localhost:8080/"
        },
        "id": "D7jAMkvgL5wJ",
        "outputId": "7eb013d3-6db5-4d28-f2b6-251438347dd5"
      },
      "execution_count": null,
      "outputs": [
        {
          "output_type": "stream",
          "name": "stdout",
          "text": [
            "WARNING: a is bigger than 20!\n",
            "out of loop\n"
          ]
        }
      ]
    },
    {
      "cell_type": "code",
      "source": [
        "a = 0\n",
        "for i in range(10):\n",
        "    if i % 2 == 0:\n",
        "        continue\n",
        "        print(\"continue\")\n",
        "\n",
        "    a += i\n",
        "    print(a, i)\n",
        "\n",
        "print(\"out of loop\")"
      ],
      "metadata": {
        "colab": {
          "base_uri": "https://localhost:8080/"
        },
        "id": "Qo1il4K8MHc3",
        "outputId": "5adf0be6-84ff-466d-c1d9-353c1c0f0943"
      },
      "execution_count": null,
      "outputs": [
        {
          "output_type": "stream",
          "name": "stdout",
          "text": [
            "1 1\n",
            "4 3\n",
            "9 5\n",
            "16 7\n",
            "25 9\n",
            "out of loop\n"
          ]
        }
      ]
    },
    {
      "cell_type": "code",
      "source": [
        "i = 0\n",
        "while i<10:\n",
        "    i += 1\n",
        "    print(i)"
      ],
      "metadata": {
        "colab": {
          "base_uri": "https://localhost:8080/"
        },
        "id": "4eaAtVURNf6P",
        "outputId": "45105594-7703-4405-e0cb-c507022c7f2a"
      },
      "execution_count": null,
      "outputs": [
        {
          "output_type": "stream",
          "name": "stdout",
          "text": [
            "1\n",
            "2\n",
            "3\n",
            "4\n",
            "5\n",
            "6\n",
            "7\n",
            "8\n",
            "9\n",
            "10\n"
          ]
        }
      ]
    },
    {
      "cell_type": "code",
      "source": [
        "10<10"
      ],
      "metadata": {
        "colab": {
          "base_uri": "https://localhost:8080/"
        },
        "id": "XhFuM-ojOsKM",
        "outputId": "40444a92-3bc6-482b-e4ed-e2aa22d37b8c"
      },
      "execution_count": null,
      "outputs": [
        {
          "output_type": "execute_result",
          "data": {
            "text/plain": [
              "False"
            ]
          },
          "metadata": {},
          "execution_count": 34
        }
      ]
    },
    {
      "cell_type": "code",
      "source": [
        "for _ in range(10):\n",
        "    print(_)"
      ],
      "metadata": {
        "colab": {
          "base_uri": "https://localhost:8080/"
        },
        "id": "y4S7mCr7OusT",
        "outputId": "4c07b0ac-cf4c-412f-9396-7525e0dd81b6"
      },
      "execution_count": null,
      "outputs": [
        {
          "output_type": "stream",
          "name": "stdout",
          "text": [
            "0\n",
            "1\n",
            "2\n",
            "3\n",
            "4\n",
            "5\n",
            "6\n",
            "7\n",
            "8\n",
            "9\n"
          ]
        }
      ]
    },
    {
      "cell_type": "code",
      "source": [
        "while True:\n",
        "    output=input('Please enter a number: ')\n",
        "    print(output)"
      ],
      "metadata": {
        "colab": {
          "base_uri": "https://localhost:8080/",
          "height": 478
        },
        "id": "LBc5baAFS_DJ",
        "outputId": "712bd0ae-805a-4dc9-e43e-6b5a23ae6d46"
      },
      "execution_count": null,
      "outputs": [
        {
          "output_type": "stream",
          "name": "stdout",
          "text": [
            "Please enter a number: 1\n",
            "1\n",
            "Please enter a number: 2\n",
            "2\n",
            "Please enter a number: 3\n",
            "3\n",
            "Please enter a number: 9\n",
            "9\n"
          ]
        },
        {
          "output_type": "error",
          "ename": "KeyboardInterrupt",
          "evalue": "Interrupted by user",
          "traceback": [
            "\u001b[0;31m---------------------------------------------------------------------------\u001b[0m",
            "\u001b[0;31mKeyboardInterrupt\u001b[0m                         Traceback (most recent call last)",
            "\u001b[0;32m<ipython-input-42-69e20edcce63>\u001b[0m in \u001b[0;36m<cell line: 1>\u001b[0;34m()\u001b[0m\n\u001b[1;32m      1\u001b[0m \u001b[0;32mwhile\u001b[0m \u001b[0;32mTrue\u001b[0m\u001b[0;34m:\u001b[0m\u001b[0;34m\u001b[0m\u001b[0;34m\u001b[0m\u001b[0m\n\u001b[0;32m----> 2\u001b[0;31m     \u001b[0moutput\u001b[0m\u001b[0;34m=\u001b[0m\u001b[0minput\u001b[0m\u001b[0;34m(\u001b[0m\u001b[0;34m'Please enter a number: '\u001b[0m\u001b[0;34m)\u001b[0m\u001b[0;34m\u001b[0m\u001b[0;34m\u001b[0m\u001b[0m\n\u001b[0m\u001b[1;32m      3\u001b[0m     \u001b[0mprint\u001b[0m\u001b[0;34m(\u001b[0m\u001b[0moutput\u001b[0m\u001b[0;34m)\u001b[0m\u001b[0;34m\u001b[0m\u001b[0;34m\u001b[0m\u001b[0m\n",
            "\u001b[0;32m/usr/local/lib/python3.10/dist-packages/ipykernel/kernelbase.py\u001b[0m in \u001b[0;36mraw_input\u001b[0;34m(self, prompt)\u001b[0m\n\u001b[1;32m    849\u001b[0m                 \u001b[0;34m\"raw_input was called, but this frontend does not support input requests.\"\u001b[0m\u001b[0;34m\u001b[0m\u001b[0;34m\u001b[0m\u001b[0m\n\u001b[1;32m    850\u001b[0m             )\n\u001b[0;32m--> 851\u001b[0;31m         return self._input_request(str(prompt),\n\u001b[0m\u001b[1;32m    852\u001b[0m             \u001b[0mself\u001b[0m\u001b[0;34m.\u001b[0m\u001b[0m_parent_ident\u001b[0m\u001b[0;34m,\u001b[0m\u001b[0;34m\u001b[0m\u001b[0;34m\u001b[0m\u001b[0m\n\u001b[1;32m    853\u001b[0m             \u001b[0mself\u001b[0m\u001b[0;34m.\u001b[0m\u001b[0m_parent_header\u001b[0m\u001b[0;34m,\u001b[0m\u001b[0;34m\u001b[0m\u001b[0;34m\u001b[0m\u001b[0m\n",
            "\u001b[0;32m/usr/local/lib/python3.10/dist-packages/ipykernel/kernelbase.py\u001b[0m in \u001b[0;36m_input_request\u001b[0;34m(self, prompt, ident, parent, password)\u001b[0m\n\u001b[1;32m    893\u001b[0m             \u001b[0;32mexcept\u001b[0m \u001b[0mKeyboardInterrupt\u001b[0m\u001b[0;34m:\u001b[0m\u001b[0;34m\u001b[0m\u001b[0;34m\u001b[0m\u001b[0m\n\u001b[1;32m    894\u001b[0m                 \u001b[0;31m# re-raise KeyboardInterrupt, to truncate traceback\u001b[0m\u001b[0;34m\u001b[0m\u001b[0;34m\u001b[0m\u001b[0m\n\u001b[0;32m--> 895\u001b[0;31m                 \u001b[0;32mraise\u001b[0m \u001b[0mKeyboardInterrupt\u001b[0m\u001b[0;34m(\u001b[0m\u001b[0;34m\"Interrupted by user\"\u001b[0m\u001b[0;34m)\u001b[0m \u001b[0;32mfrom\u001b[0m \u001b[0;32mNone\u001b[0m\u001b[0;34m\u001b[0m\u001b[0;34m\u001b[0m\u001b[0m\n\u001b[0m\u001b[1;32m    896\u001b[0m             \u001b[0;32mexcept\u001b[0m \u001b[0mException\u001b[0m \u001b[0;32mas\u001b[0m \u001b[0me\u001b[0m\u001b[0;34m:\u001b[0m\u001b[0;34m\u001b[0m\u001b[0;34m\u001b[0m\u001b[0m\n\u001b[1;32m    897\u001b[0m                 \u001b[0mself\u001b[0m\u001b[0;34m.\u001b[0m\u001b[0mlog\u001b[0m\u001b[0;34m.\u001b[0m\u001b[0mwarning\u001b[0m\u001b[0;34m(\u001b[0m\u001b[0;34m\"Invalid Message:\"\u001b[0m\u001b[0;34m,\u001b[0m \u001b[0mexc_info\u001b[0m\u001b[0;34m=\u001b[0m\u001b[0;32mTrue\u001b[0m\u001b[0;34m)\u001b[0m\u001b[0;34m\u001b[0m\u001b[0;34m\u001b[0m\u001b[0m\n",
            "\u001b[0;31mKeyboardInterrupt\u001b[0m: Interrupted by user"
          ]
        }
      ]
    },
    {
      "cell_type": "code",
      "source": [
        "True"
      ],
      "metadata": {
        "colab": {
          "base_uri": "https://localhost:8080/"
        },
        "id": "i8AVOYwMUmvg",
        "outputId": "125f3ff5-f63a-41cb-d818-4c167f681d6f"
      },
      "execution_count": null,
      "outputs": [
        {
          "output_type": "execute_result",
          "data": {
            "text/plain": [
              "True"
            ]
          },
          "metadata": {},
          "execution_count": 44
        }
      ]
    },
    {
      "cell_type": "code",
      "source": [
        "False"
      ],
      "metadata": {
        "colab": {
          "base_uri": "https://localhost:8080/"
        },
        "id": "n5f8L9kDVmnI",
        "outputId": "18e1747e-f493-48bd-a010-c8964b9707aa"
      },
      "execution_count": null,
      "outputs": [
        {
          "output_type": "execute_result",
          "data": {
            "text/plain": [
              "False"
            ]
          },
          "metadata": {},
          "execution_count": 43
        }
      ]
    },
    {
      "cell_type": "code",
      "source": [
        "name = \"Mohammad\""
      ],
      "metadata": {
        "id": "-QTNwPLoVoa8"
      },
      "execution_count": null,
      "outputs": []
    },
    {
      "cell_type": "code",
      "source": [
        "print(name)"
      ],
      "metadata": {
        "colab": {
          "base_uri": "https://localhost:8080/"
        },
        "id": "zTGPHR_GWIrW",
        "outputId": "dab76185-2f83-47ab-af50-167dbbd29816"
      },
      "execution_count": null,
      "outputs": [
        {
          "output_type": "stream",
          "name": "stdout",
          "text": [
            "Mohammad\n"
          ]
        }
      ]
    },
    {
      "cell_type": "code",
      "source": [
        "type(name)"
      ],
      "metadata": {
        "colab": {
          "base_uri": "https://localhost:8080/"
        },
        "id": "Qa_CLNwUWKJA",
        "outputId": "d7009c13-0ad3-495b-9316-55bbd01f4986"
      },
      "execution_count": null,
      "outputs": [
        {
          "output_type": "execute_result",
          "data": {
            "text/plain": [
              "str"
            ]
          },
          "metadata": {},
          "execution_count": 47
        }
      ]
    },
    {
      "cell_type": "code",
      "source": [
        "len(name) # طول اسم رو میدهد"
      ],
      "metadata": {
        "colab": {
          "base_uri": "https://localhost:8080/"
        },
        "id": "flikDREGWL2d",
        "outputId": "ae1e7445-aeb6-4584-8494-8965c2fe2326"
      },
      "execution_count": null,
      "outputs": [
        {
          "output_type": "execute_result",
          "data": {
            "text/plain": [
              "8"
            ]
          },
          "metadata": {},
          "execution_count": 49
        }
      ]
    },
    {
      "cell_type": "code",
      "source": [
        "for char in name:\n",
        "    print(char)"
      ],
      "metadata": {
        "colab": {
          "base_uri": "https://localhost:8080/"
        },
        "id": "2yNCWO2RWV3d",
        "outputId": "c87d773b-41c3-4033-81b8-d0d2aec14791"
      },
      "execution_count": null,
      "outputs": [
        {
          "output_type": "stream",
          "name": "stdout",
          "text": [
            "M\n",
            "o\n",
            "h\n",
            "a\n",
            "m\n",
            "m\n",
            "a\n",
            "d\n"
          ]
        }
      ]
    },
    {
      "cell_type": "markdown",
      "source": [
        "# Data Structure\n",
        "1. String\n",
        "2. list\n",
        "3. dictionary\n",
        "4. tuple and set\n",
        "5. VS Code\n",
        "6. Github"
      ],
      "metadata": {
        "id": "eIppJ2xIW9HC"
      }
    },
    {
      "cell_type": "code",
      "source": [
        "name = \"Mohammadjavad Ahmanejade Kamrani.\""
      ],
      "metadata": {
        "id": "Sr9OTP0OWykk"
      },
      "execution_count": null,
      "outputs": []
    },
    {
      "cell_type": "code",
      "source": [
        "len(name)"
      ],
      "metadata": {
        "colab": {
          "base_uri": "https://localhost:8080/"
        },
        "id": "Q8vtdLxYoL8A",
        "outputId": "4e23fa59-2632-4f8b-acd0-de79f967cbc7"
      },
      "execution_count": null,
      "outputs": [
        {
          "output_type": "execute_result",
          "data": {
            "text/plain": [
              "33"
            ]
          },
          "metadata": {},
          "execution_count": 4
        }
      ]
    },
    {
      "cell_type": "code",
      "source": [
        "name[0]"
      ],
      "metadata": {
        "colab": {
          "base_uri": "https://localhost:8080/",
          "height": 36
        },
        "id": "MYOvDBuwoSZt",
        "outputId": "10ac8488-5ac4-4018-dd20-5683232c809f"
      },
      "execution_count": null,
      "outputs": [
        {
          "output_type": "execute_result",
          "data": {
            "text/plain": [
              "'M'"
            ],
            "application/vnd.google.colaboratory.intrinsic+json": {
              "type": "string"
            }
          },
          "metadata": {},
          "execution_count": 5
        }
      ]
    },
    {
      "cell_type": "code",
      "source": [
        "name[12]"
      ],
      "metadata": {
        "colab": {
          "base_uri": "https://localhost:8080/",
          "height": 36
        },
        "id": "yxFvwzjnonyS",
        "outputId": "506b4904-c688-4b83-c89c-05981d274259"
      },
      "execution_count": null,
      "outputs": [
        {
          "output_type": "execute_result",
          "data": {
            "text/plain": [
              "'d'"
            ],
            "application/vnd.google.colaboratory.intrinsic+json": {
              "type": "string"
            }
          },
          "metadata": {},
          "execution_count": 6
        }
      ]
    },
    {
      "cell_type": "code",
      "source": [
        "name[13]"
      ],
      "metadata": {
        "colab": {
          "base_uri": "https://localhost:8080/",
          "height": 36
        },
        "id": "6EB60i7loqhh",
        "outputId": "85e8d3b5-f6b7-440f-d962-5752f924cbe7"
      },
      "execution_count": null,
      "outputs": [
        {
          "output_type": "execute_result",
          "data": {
            "text/plain": [
              "' '"
            ],
            "application/vnd.google.colaboratory.intrinsic+json": {
              "type": "string"
            }
          },
          "metadata": {},
          "execution_count": 7
        }
      ]
    },
    {
      "cell_type": "code",
      "source": [
        "if \"Mohammad\" in name:\n",
        "    print(\"Mohammad exist in name\")"
      ],
      "metadata": {
        "colab": {
          "base_uri": "https://localhost:8080/"
        },
        "id": "igFGg9WbotIN",
        "outputId": "fb0d7ad2-54f8-49bf-bfa4-8ff11bed35c5"
      },
      "execution_count": null,
      "outputs": [
        {
          "output_type": "stream",
          "name": "stdout",
          "text": [
            "Mohamma exist in name\n"
          ]
        }
      ]
    },
    {
      "cell_type": "code",
      "source": [
        "if \"Mohamma\" in name:\n",
        "    print(\"Mohamma exist in name\")"
      ],
      "metadata": {
        "id": "OZq4L51bpFjO"
      },
      "execution_count": null,
      "outputs": []
    },
    {
      "cell_type": "code",
      "source": [
        "if \"M\" in name:\n",
        "    print(\"M exist in name\")"
      ],
      "metadata": {
        "colab": {
          "base_uri": "https://localhost:8080/"
        },
        "id": "l6mygD5XpNQo",
        "outputId": "831276f4-9197-40af-9933-c7505bcac996"
      },
      "execution_count": null,
      "outputs": [
        {
          "output_type": "stream",
          "name": "stdout",
          "text": [
            "M exist in name\n"
          ]
        }
      ]
    },
    {
      "cell_type": "code",
      "source": [
        "if \"Z\" in name:\n",
        "    print(\"Z exist in name\")"
      ],
      "metadata": {
        "id": "HMzYBZmDpQc-"
      },
      "execution_count": null,
      "outputs": []
    },
    {
      "cell_type": "code",
      "source": [
        "if \"j\" in name:\n",
        "    print(\"j exist in name\")"
      ],
      "metadata": {
        "colab": {
          "base_uri": "https://localhost:8080/"
        },
        "id": "3fx_6iY0pTWc",
        "outputId": "5d55e988-56dc-4bbd-ce7b-d5e39dd514ef"
      },
      "execution_count": null,
      "outputs": [
        {
          "output_type": "stream",
          "name": "stdout",
          "text": [
            "j exist in name\n"
          ]
        }
      ]
    },
    {
      "cell_type": "code",
      "source": [
        "if \"J\" in name:\n",
        "    print(\"J exist in name\")"
      ],
      "metadata": {
        "id": "iZGJx0LmpaK1"
      },
      "execution_count": null,
      "outputs": []
    },
    {
      "cell_type": "code",
      "source": [
        "if \"k\" in name:\n",
        "    print(\"k exist in name\")"
      ],
      "metadata": {
        "id": "TZSHbZhDpcV-"
      },
      "execution_count": null,
      "outputs": []
    },
    {
      "cell_type": "code",
      "source": [
        "for char in name:\n",
        "    print(char)"
      ],
      "metadata": {
        "colab": {
          "base_uri": "https://localhost:8080/"
        },
        "id": "8YSgF-OZpms5",
        "outputId": "70a79b16-53d5-4b8a-eb9b-f6835ecc452e"
      },
      "execution_count": null,
      "outputs": [
        {
          "output_type": "stream",
          "name": "stdout",
          "text": [
            "M\n",
            "o\n",
            "h\n",
            "a\n",
            "m\n",
            "m\n",
            "a\n",
            "d\n",
            "j\n",
            "a\n",
            "v\n",
            "a\n",
            "d\n",
            " \n",
            "A\n",
            "h\n",
            "m\n",
            "a\n",
            "n\n",
            "e\n",
            "j\n",
            "a\n",
            "d\n",
            "e\n",
            " \n",
            "K\n",
            "a\n",
            "m\n",
            "r\n",
            "a\n",
            "n\n",
            "i\n",
            ".\n"
          ]
        }
      ]
    },
    {
      "cell_type": "code",
      "source": [
        "for char in name:\n",
        "    if char == \"j\":\n",
        "        print(char)"
      ],
      "metadata": {
        "colab": {
          "base_uri": "https://localhost:8080/"
        },
        "id": "mEYeX2KHpyI5",
        "outputId": "a8e510ac-7ae0-4b33-ce02-c9187ede9be2"
      },
      "execution_count": null,
      "outputs": [
        {
          "output_type": "stream",
          "name": "stdout",
          "text": [
            "j\n",
            "j\n"
          ]
        }
      ]
    },
    {
      "cell_type": "code",
      "source": [
        "name.lower()"
      ],
      "metadata": {
        "colab": {
          "base_uri": "https://localhost:8080/",
          "height": 36
        },
        "id": "frOA1iO6p7K7",
        "outputId": "c78605dd-b524-4553-9d09-4b65bc766419"
      },
      "execution_count": null,
      "outputs": [
        {
          "output_type": "execute_result",
          "data": {
            "text/plain": [
              "'mohammadjavad ahmanejade kamrani.'"
            ],
            "application/vnd.google.colaboratory.intrinsic+json": {
              "type": "string"
            }
          },
          "metadata": {},
          "execution_count": 21
        }
      ]
    },
    {
      "cell_type": "code",
      "source": [
        "name.upper()"
      ],
      "metadata": {
        "colab": {
          "base_uri": "https://localhost:8080/",
          "height": 36
        },
        "id": "o1BF6AZBqMh1",
        "outputId": "a57da29d-7d2f-454f-c30a-ab2897b8db4f"
      },
      "execution_count": null,
      "outputs": [
        {
          "output_type": "execute_result",
          "data": {
            "text/plain": [
              "'MOHAMMADJAVAD AHMANEJADE KAMRANI.'"
            ],
            "application/vnd.google.colaboratory.intrinsic+json": {
              "type": "string"
            }
          },
          "metadata": {},
          "execution_count": 22
        }
      ]
    },
    {
      "cell_type": "code",
      "source": [
        "name"
      ],
      "metadata": {
        "colab": {
          "base_uri": "https://localhost:8080/",
          "height": 36
        },
        "id": "0MBwSBmFqVEc",
        "outputId": "5809fbed-9e16-4160-8dc4-2671bd91de68"
      },
      "execution_count": null,
      "outputs": [
        {
          "output_type": "execute_result",
          "data": {
            "text/plain": [
              "'Mohammadjavad Ahmanejade Kamrani.'"
            ],
            "application/vnd.google.colaboratory.intrinsic+json": {
              "type": "string"
            }
          },
          "metadata": {},
          "execution_count": 23
        }
      ]
    },
    {
      "cell_type": "code",
      "source": [
        "if \"mohammad\" in name:\n",
        "    print(\"mohammad exist in name\")\n",
        "else:\n",
        "    print(\"mohammad does not exist\")"
      ],
      "metadata": {
        "colab": {
          "base_uri": "https://localhost:8080/"
        },
        "id": "ZR2pXU8JqW6D",
        "outputId": "d14aeebe-305f-41cf-ce47-92ca6a9e68cb"
      },
      "execution_count": null,
      "outputs": [
        {
          "output_type": "stream",
          "name": "stdout",
          "text": [
            "mohammad does not exist\n"
          ]
        }
      ]
    },
    {
      "cell_type": "code",
      "source": [
        "if \"mohammad\" in name.lower():\n",
        "    print(\"mohammad exist in name\")"
      ],
      "metadata": {
        "colab": {
          "base_uri": "https://localhost:8080/"
        },
        "id": "u2v6ebzLqeMj",
        "outputId": "8d5d728b-37f8-4a6d-e733-1fa6d1153e81"
      },
      "execution_count": null,
      "outputs": [
        {
          "output_type": "stream",
          "name": "stdout",
          "text": [
            "mohammad exist in name\n"
          ]
        }
      ]
    },
    {
      "cell_type": "code",
      "source": [
        "name.split(' ')"
      ],
      "metadata": {
        "colab": {
          "base_uri": "https://localhost:8080/"
        },
        "id": "eGQtIzMPqis2",
        "outputId": "404d8d43-6b3a-4d23-ea8a-cdfd06763445"
      },
      "execution_count": null,
      "outputs": [
        {
          "output_type": "execute_result",
          "data": {
            "text/plain": [
              "['Mohammadjavad', 'Ahmanejade', 'Kamrani.']"
            ]
          },
          "metadata": {},
          "execution_count": 28
        }
      ]
    },
    {
      "cell_type": "code",
      "source": [
        "name.split('m')"
      ],
      "metadata": {
        "colab": {
          "base_uri": "https://localhost:8080/"
        },
        "id": "lRZuukAbq1rp",
        "outputId": "d895b64f-9766-49d2-a4a6-365dd7487c4e"
      },
      "execution_count": null,
      "outputs": [
        {
          "output_type": "execute_result",
          "data": {
            "text/plain": [
              "['Moha', '', 'adjavad Ah', 'anejade Ka', 'rani.']"
            ]
          },
          "metadata": {},
          "execution_count": 29
        }
      ]
    },
    {
      "cell_type": "code",
      "source": [
        "name.split(',')"
      ],
      "metadata": {
        "colab": {
          "base_uri": "https://localhost:8080/"
        },
        "id": "kARyNmrEq4_F",
        "outputId": "ed8e7ff5-c455-44a0-f76d-ea472a728285"
      },
      "execution_count": null,
      "outputs": [
        {
          "output_type": "execute_result",
          "data": {
            "text/plain": [
              "['Mohammadjavad Ahmanejade Kamrani.']"
            ]
          },
          "metadata": {},
          "execution_count": 30
        }
      ]
    },
    {
      "cell_type": "code",
      "source": [
        "name.split('')"
      ],
      "metadata": {
        "colab": {
          "base_uri": "https://localhost:8080/",
          "height": 146
        },
        "id": "nYdDnZubrII9",
        "outputId": "eb9c2508-8f71-4c43-fc6c-52ad8c4edc57"
      },
      "execution_count": null,
      "outputs": [
        {
          "output_type": "error",
          "ename": "ValueError",
          "evalue": "empty separator",
          "traceback": [
            "\u001b[0;31m---------------------------------------------------------------------------\u001b[0m",
            "\u001b[0;31mValueError\u001b[0m                                Traceback (most recent call last)",
            "\u001b[0;32m<ipython-input-32-e97150ec4c1e>\u001b[0m in \u001b[0;36m<cell line: 1>\u001b[0;34m()\u001b[0m\n\u001b[0;32m----> 1\u001b[0;31m \u001b[0mname\u001b[0m\u001b[0;34m.\u001b[0m\u001b[0msplit\u001b[0m\u001b[0;34m(\u001b[0m\u001b[0;34m''\u001b[0m\u001b[0;34m)\u001b[0m\u001b[0;34m\u001b[0m\u001b[0;34m\u001b[0m\u001b[0m\n\u001b[0m",
            "\u001b[0;31mValueError\u001b[0m: empty separator"
          ]
        }
      ]
    },
    {
      "cell_type": "code",
      "source": [
        "name = \"Mohammadjavad Ahmanejade Kamrani. Hoshang dishab be park raft? javad cheto?\""
      ],
      "metadata": {
        "id": "EsT8oieWruVe"
      },
      "execution_count": null,
      "outputs": []
    },
    {
      "cell_type": "code",
      "source": [
        "name.split(' ')"
      ],
      "metadata": {
        "colab": {
          "base_uri": "https://localhost:8080/"
        },
        "id": "PkCHJ0TJsMgo",
        "outputId": "c7813ee0-a0c2-400c-e819-155de6cec4fe"
      },
      "execution_count": null,
      "outputs": [
        {
          "output_type": "execute_result",
          "data": {
            "text/plain": [
              "['Mohammadjavad',\n",
              " 'Ahmanejade',\n",
              " 'Kamrani.',\n",
              " 'Hoshang',\n",
              " 'dishab',\n",
              " 'be',\n",
              " 'park',\n",
              " 'raft?',\n",
              " 'javad',\n",
              " 'cheto?']"
            ]
          },
          "metadata": {},
          "execution_count": 35
        }
      ]
    },
    {
      "cell_type": "code",
      "source": [
        "name.split(\" \")"
      ],
      "metadata": {
        "colab": {
          "base_uri": "https://localhost:8080/"
        },
        "id": "CdNA0AsEsOQ1",
        "outputId": "bed8a8ec-55c0-4dd4-e2c6-3003097891e5"
      },
      "execution_count": null,
      "outputs": [
        {
          "output_type": "execute_result",
          "data": {
            "text/plain": [
              "['Mohammadjavad',\n",
              " 'Ahmanejade',\n",
              " 'Kamrani.',\n",
              " 'Hoshang',\n",
              " 'dishab',\n",
              " 'be',\n",
              " 'park',\n",
              " 'raft?',\n",
              " 'javad',\n",
              " 'cheto?']"
            ]
          },
          "metadata": {},
          "execution_count": 36
        }
      ]
    },
    {
      "cell_type": "code",
      "source": [
        "name.split(\"d\")"
      ],
      "metadata": {
        "colab": {
          "base_uri": "https://localhost:8080/"
        },
        "id": "YFx4mnQDslG8",
        "outputId": "a4d6aa03-e292-4d9d-ff3e-0ac73e26d505"
      },
      "execution_count": null,
      "outputs": [
        {
          "output_type": "execute_result",
          "data": {
            "text/plain": [
              "['Mohamma',\n",
              " 'java',\n",
              " ' Ahmaneja',\n",
              " 'e Kamrani. Hoshang ',\n",
              " 'ishab be park raft? java',\n",
              " ' cheto?']"
            ]
          },
          "metadata": {},
          "execution_count": 37
        }
      ]
    },
    {
      "cell_type": "code",
      "source": [
        "name"
      ],
      "metadata": {
        "colab": {
          "base_uri": "https://localhost:8080/",
          "height": 36
        },
        "id": "sBu1XaKEtPhe",
        "outputId": "32e42dfb-b740-4b5b-92fd-1b7396775f98"
      },
      "execution_count": null,
      "outputs": [
        {
          "output_type": "execute_result",
          "data": {
            "text/plain": [
              "'Mohammadjavad Ahmanejade Kamrani. Hoshang dishab be park raft? javad cheto?'"
            ],
            "application/vnd.google.colaboratory.intrinsic+json": {
              "type": "string"
            }
          },
          "metadata": {},
          "execution_count": 38
        }
      ]
    },
    {
      "cell_type": "code",
      "source": [
        "name_new = name + \"Na javad be part naraft.\""
      ],
      "metadata": {
        "id": "CXPg4GnJtfcI"
      },
      "execution_count": null,
      "outputs": []
    },
    {
      "cell_type": "code",
      "source": [
        "name_new"
      ],
      "metadata": {
        "colab": {
          "base_uri": "https://localhost:8080/",
          "height": 36
        },
        "id": "9lG3WbV6tuFP",
        "outputId": "2f580015-2a96-4a0a-def6-783747f8ae84"
      },
      "execution_count": null,
      "outputs": [
        {
          "output_type": "execute_result",
          "data": {
            "text/plain": [
              "'Mohammadjavad Ahmanejade Kamrani. Hoshang dishab be park raft? javad cheto?Na javad be part naraft.'"
            ],
            "application/vnd.google.colaboratory.intrinsic+json": {
              "type": "string"
            }
          },
          "metadata": {},
          "execution_count": 40
        }
      ]
    },
    {
      "cell_type": "code",
      "source": [
        "len(name_new)"
      ],
      "metadata": {
        "colab": {
          "base_uri": "https://localhost:8080/"
        },
        "id": "Jc9wW650tu3L",
        "outputId": "0a7f5871-a2ec-452b-82a1-cd6b262212fe"
      },
      "execution_count": null,
      "outputs": [
        {
          "output_type": "execute_result",
          "data": {
            "text/plain": [
              "99"
            ]
          },
          "metadata": {},
          "execution_count": 41
        }
      ]
    },
    {
      "cell_type": "code",
      "source": [
        "name_new[89]"
      ],
      "metadata": {
        "colab": {
          "base_uri": "https://localhost:8080/",
          "height": 36
        },
        "id": "O4mwAG0-t7Tw",
        "outputId": "4dab7cb8-5e89-46dc-a8eb-8818290889f5"
      },
      "execution_count": null,
      "outputs": [
        {
          "output_type": "execute_result",
          "data": {
            "text/plain": [
              "'r'"
            ],
            "application/vnd.google.colaboratory.intrinsic+json": {
              "type": "string"
            }
          },
          "metadata": {},
          "execution_count": 42
        }
      ]
    },
    {
      "cell_type": "code",
      "source": [
        "for i in range(80, 90):\n",
        "    print(name_new[i])"
      ],
      "metadata": {
        "colab": {
          "base_uri": "https://localhost:8080/"
        },
        "id": "w0UnLOmGt938",
        "outputId": "3017aff3-b512-415e-d7c5-9108ebac1fd7"
      },
      "execution_count": null,
      "outputs": [
        {
          "output_type": "stream",
          "name": "stdout",
          "text": [
            "v\n",
            "a\n",
            "d\n",
            " \n",
            "b\n",
            "e\n",
            " \n",
            "p\n",
            "a\n",
            "r\n"
          ]
        }
      ]
    },
    {
      "cell_type": "code",
      "source": [
        "name_new[80:90]"
      ],
      "metadata": {
        "colab": {
          "base_uri": "https://localhost:8080/",
          "height": 36
        },
        "id": "kWiSBiZIuIsX",
        "outputId": "9d62ffe4-18d8-4b11-f314-da1115c642b4"
      },
      "execution_count": null,
      "outputs": [
        {
          "output_type": "execute_result",
          "data": {
            "text/plain": [
              "'vad be par'"
            ],
            "application/vnd.google.colaboratory.intrinsic+json": {
              "type": "string"
            }
          },
          "metadata": {},
          "execution_count": 44
        }
      ]
    },
    {
      "cell_type": "code",
      "source": [
        "name_new[80:90].upper()"
      ],
      "metadata": {
        "colab": {
          "base_uri": "https://localhost:8080/",
          "height": 36
        },
        "id": "MAAg4DyhuXRJ",
        "outputId": "b8a9df33-b033-4d96-c25d-09c41854d5a8"
      },
      "execution_count": null,
      "outputs": [
        {
          "output_type": "execute_result",
          "data": {
            "text/plain": [
              "'VAD BE PAR'"
            ],
            "application/vnd.google.colaboratory.intrinsic+json": {
              "type": "string"
            }
          },
          "metadata": {},
          "execution_count": 45
        }
      ]
    },
    {
      "cell_type": "code",
      "source": [
        "\"javad\" in name_new[80:90]"
      ],
      "metadata": {
        "colab": {
          "base_uri": "https://localhost:8080/"
        },
        "id": "EOlkeY7Ouo1w",
        "outputId": "822b5a52-acf5-486e-83ea-c38d7ed4c156"
      },
      "execution_count": null,
      "outputs": [
        {
          "output_type": "execute_result",
          "data": {
            "text/plain": [
              "False"
            ]
          },
          "metadata": {},
          "execution_count": 46
        }
      ]
    },
    {
      "cell_type": "code",
      "source": [
        "name_new[:10]"
      ],
      "metadata": {
        "colab": {
          "base_uri": "https://localhost:8080/",
          "height": 36
        },
        "id": "867tT1yWuwnC",
        "outputId": "1b00b33b-31a3-416e-b5eb-226fddef5e59"
      },
      "execution_count": null,
      "outputs": [
        {
          "output_type": "execute_result",
          "data": {
            "text/plain": [
              "'Mohammadja'"
            ],
            "application/vnd.google.colaboratory.intrinsic+json": {
              "type": "string"
            }
          },
          "metadata": {},
          "execution_count": 47
        }
      ]
    },
    {
      "cell_type": "code",
      "source": [
        "name_new[89:]"
      ],
      "metadata": {
        "colab": {
          "base_uri": "https://localhost:8080/",
          "height": 36
        },
        "id": "a9cUzeM2u4bN",
        "outputId": "aac9f516-9cb0-4a7e-ed0c-67d43f9a758c"
      },
      "execution_count": null,
      "outputs": [
        {
          "output_type": "execute_result",
          "data": {
            "text/plain": [
              "'rt naraft.'"
            ],
            "application/vnd.google.colaboratory.intrinsic+json": {
              "type": "string"
            }
          },
          "metadata": {},
          "execution_count": 48
        }
      ]
    },
    {
      "cell_type": "code",
      "source": [
        "name_new[-1]"
      ],
      "metadata": {
        "colab": {
          "base_uri": "https://localhost:8080/",
          "height": 36
        },
        "id": "RkvW_BQ4u674",
        "outputId": "b7a7fc09-fc65-467b-c737-88f775a9e0c2"
      },
      "execution_count": null,
      "outputs": [
        {
          "output_type": "execute_result",
          "data": {
            "text/plain": [
              "'.'"
            ],
            "application/vnd.google.colaboratory.intrinsic+json": {
              "type": "string"
            }
          },
          "metadata": {},
          "execution_count": 49
        }
      ]
    },
    {
      "cell_type": "code",
      "source": [
        "name_new[-2]"
      ],
      "metadata": {
        "colab": {
          "base_uri": "https://localhost:8080/",
          "height": 36
        },
        "id": "2ZgRtTsjv1tq",
        "outputId": "c972ec48-069c-4b64-c2e9-e1f1902c8b6a"
      },
      "execution_count": null,
      "outputs": [
        {
          "output_type": "execute_result",
          "data": {
            "text/plain": [
              "'t'"
            ],
            "application/vnd.google.colaboratory.intrinsic+json": {
              "type": "string"
            }
          },
          "metadata": {},
          "execution_count": 50
        }
      ]
    },
    {
      "cell_type": "code",
      "source": [
        "name_new[-5]"
      ],
      "metadata": {
        "colab": {
          "base_uri": "https://localhost:8080/",
          "height": 36
        },
        "id": "xDJxszlBv8es",
        "outputId": "b18cc813-3632-4645-eb54-ed7d4f01d5b8"
      },
      "execution_count": null,
      "outputs": [
        {
          "output_type": "execute_result",
          "data": {
            "text/plain": [
              "'r'"
            ],
            "application/vnd.google.colaboratory.intrinsic+json": {
              "type": "string"
            }
          },
          "metadata": {},
          "execution_count": 53
        }
      ]
    },
    {
      "cell_type": "code",
      "source": [
        "name_new[-10:] # name_new[89:]"
      ],
      "metadata": {
        "colab": {
          "base_uri": "https://localhost:8080/",
          "height": 36
        },
        "id": "sIlm_S7qwBtT",
        "outputId": "49171585-5f93-4d66-9774-64d1a7b7d40b"
      },
      "execution_count": null,
      "outputs": [
        {
          "output_type": "execute_result",
          "data": {
            "text/plain": [
              "'rt naraft.'"
            ],
            "application/vnd.google.colaboratory.intrinsic+json": {
              "type": "string"
            }
          },
          "metadata": {},
          "execution_count": 54
        }
      ]
    },
    {
      "cell_type": "code",
      "source": [
        "name_new[89:]"
      ],
      "metadata": {
        "colab": {
          "base_uri": "https://localhost:8080/",
          "height": 36
        },
        "id": "yPkTs5PswRtO",
        "outputId": "cc79ed06-139a-4ba7-d487-f8854bf2907a"
      },
      "execution_count": null,
      "outputs": [
        {
          "output_type": "execute_result",
          "data": {
            "text/plain": [
              "'rt naraft.'"
            ],
            "application/vnd.google.colaboratory.intrinsic+json": {
              "type": "string"
            }
          },
          "metadata": {},
          "execution_count": 55
        }
      ]
    },
    {
      "cell_type": "code",
      "source": [
        "print(len(name_new)-10)\n",
        "name_new[len(name_new)-10:] # name_new[89:]"
      ],
      "metadata": {
        "colab": {
          "base_uri": "https://localhost:8080/",
          "height": 54
        },
        "id": "VWHU2G6vwThH",
        "outputId": "e401d141-b163-4b0c-ecf0-548a7bcbd4c3"
      },
      "execution_count": null,
      "outputs": [
        {
          "output_type": "stream",
          "name": "stdout",
          "text": [
            "89\n"
          ]
        },
        {
          "output_type": "execute_result",
          "data": {
            "text/plain": [
              "'rt naraft.'"
            ],
            "application/vnd.google.colaboratory.intrinsic+json": {
              "type": "string"
            }
          },
          "metadata": {},
          "execution_count": 56
        }
      ]
    },
    {
      "cell_type": "code",
      "source": [
        "name_new * 3"
      ],
      "metadata": {
        "colab": {
          "base_uri": "https://localhost:8080/",
          "height": 72
        },
        "id": "f5-nuKuAwi2p",
        "outputId": "5d902d7f-7695-4549-9199-c70093b82035"
      },
      "execution_count": null,
      "outputs": [
        {
          "output_type": "execute_result",
          "data": {
            "text/plain": [
              "'Mohammadjavad Ahmanejade Kamrani. Hoshang dishab be park raft? javad cheto?Na javad be part naraft.Mohammadjavad Ahmanejade Kamrani. Hoshang dishab be park raft? javad cheto?Na javad be part naraft.Mohammadjavad Ahmanejade Kamrani. Hoshang dishab be park raft? javad cheto?Na javad be part naraft.'"
            ],
            "application/vnd.google.colaboratory.intrinsic+json": {
              "type": "string"
            }
          },
          "metadata": {},
          "execution_count": 57
        }
      ]
    },
    {
      "cell_type": "code",
      "source": [
        "name = \"            Mohammadjavad Ahmanejade Kamrani. Hoshang dishab be park raft? javad cheto? Na javad be part naraft.\""
      ],
      "metadata": {
        "id": "XtnRBpesyGsl"
      },
      "execution_count": null,
      "outputs": []
    },
    {
      "cell_type": "code",
      "source": [
        "name"
      ],
      "metadata": {
        "colab": {
          "base_uri": "https://localhost:8080/",
          "height": 36
        },
        "id": "yQ1XSK5QyX1O",
        "outputId": "9dfc746a-1e00-424d-b105-796307e480ea"
      },
      "execution_count": null,
      "outputs": [
        {
          "output_type": "execute_result",
          "data": {
            "text/plain": [
              "'            Mohammadjavad Ahmanejade Kamrani. Hoshang dishab be park raft? javad cheto? Na javad be part naraft.'"
            ],
            "application/vnd.google.colaboratory.intrinsic+json": {
              "type": "string"
            }
          },
          "metadata": {},
          "execution_count": 59
        }
      ]
    },
    {
      "cell_type": "code",
      "source": [
        "name.strip()"
      ],
      "metadata": {
        "colab": {
          "base_uri": "https://localhost:8080/",
          "height": 36
        },
        "id": "EiEiMAwfycxI",
        "outputId": "16973d14-6bae-4df6-ebe4-f60040dfd994"
      },
      "execution_count": null,
      "outputs": [
        {
          "output_type": "execute_result",
          "data": {
            "text/plain": [
              "'Mohammadjavad Ahmanejade Kamrani. Hoshang dishab be park raft? javad cheto? Na javad be part naraft.'"
            ],
            "application/vnd.google.colaboratory.intrinsic+json": {
              "type": "string"
            }
          },
          "metadata": {},
          "execution_count": 60
        }
      ]
    },
    {
      "cell_type": "code",
      "source": [
        "name = \"            Mohammadjavad Ahmanejade             Kamrani. Hoshang dishab be park raft? javad cheto? Na javad be part naraft.          \""
      ],
      "metadata": {
        "id": "IKvJ_tXzyiBA"
      },
      "execution_count": null,
      "outputs": []
    },
    {
      "cell_type": "code",
      "source": [
        "name.strip()"
      ],
      "metadata": {
        "colab": {
          "base_uri": "https://localhost:8080/",
          "height": 36
        },
        "id": "xhwmUpQ4yn-J",
        "outputId": "919c4e14-fbfb-4618-d041-bc9eaf3dcaf8"
      },
      "execution_count": null,
      "outputs": [
        {
          "output_type": "execute_result",
          "data": {
            "text/plain": [
              "'Mohammadjavad Ahmanejade             Kamrani. Hoshang dishab be park raft? javad cheto? Na javad be part naraft.'"
            ],
            "application/vnd.google.colaboratory.intrinsic+json": {
              "type": "string"
            }
          },
          "metadata": {},
          "execution_count": 65
        }
      ]
    },
    {
      "cell_type": "code",
      "source": [
        "name.lstrip()"
      ],
      "metadata": {
        "colab": {
          "base_uri": "https://localhost:8080/",
          "height": 36
        },
        "id": "3bF-qYBByoq4",
        "outputId": "775db801-9130-414a-a9e5-ec3d78a59491"
      },
      "execution_count": null,
      "outputs": [
        {
          "output_type": "execute_result",
          "data": {
            "text/plain": [
              "'Mohammadjavad Ahmanejade Kamrani. Hoshang dishab be park raft? javad cheto? Na javad be part naraft.          '"
            ],
            "application/vnd.google.colaboratory.intrinsic+json": {
              "type": "string"
            }
          },
          "metadata": {},
          "execution_count": 63
        }
      ]
    },
    {
      "cell_type": "code",
      "source": [
        "name.rstrip()"
      ],
      "metadata": {
        "colab": {
          "base_uri": "https://localhost:8080/",
          "height": 36
        },
        "id": "Xl0M0vYyyuwx",
        "outputId": "273dc499-8949-4dd5-9467-3e6969382cee"
      },
      "execution_count": null,
      "outputs": [
        {
          "output_type": "execute_result",
          "data": {
            "text/plain": [
              "'            Mohammadjavad Ahmanejade             Kamrani. Hoshang dishab be park raft? javad cheto? Na javad be part naraft.'"
            ],
            "application/vnd.google.colaboratory.intrinsic+json": {
              "type": "string"
            }
          },
          "metadata": {},
          "execution_count": 66
        }
      ]
    },
    {
      "cell_type": "code",
      "source": [
        "\"javad\" in name"
      ],
      "metadata": {
        "colab": {
          "base_uri": "https://localhost:8080/"
        },
        "id": "olWZuG-AzkZj",
        "outputId": "30d88edf-3ff7-49af-d01c-587f387e644d"
      },
      "execution_count": null,
      "outputs": [
        {
          "output_type": "execute_result",
          "data": {
            "text/plain": [
              "True"
            ]
          },
          "metadata": {},
          "execution_count": 67
        }
      ]
    },
    {
      "cell_type": "code",
      "source": [
        "name.find(\"javad\")"
      ],
      "metadata": {
        "colab": {
          "base_uri": "https://localhost:8080/"
        },
        "id": "7Ck6pnxIzzH8",
        "outputId": "cfc3e03d-f79c-49f0-d636-d0bcd67b379c"
      },
      "execution_count": null,
      "outputs": [
        {
          "output_type": "execute_result",
          "data": {
            "text/plain": [
              "20"
            ]
          },
          "metadata": {},
          "execution_count": 68
        }
      ]
    },
    {
      "cell_type": "code",
      "source": [
        "name[20]"
      ],
      "metadata": {
        "colab": {
          "base_uri": "https://localhost:8080/",
          "height": 36
        },
        "id": "zz2yrMM-0Ta8",
        "outputId": "5ac1ef24-5c5d-4813-9e6d-e1ee34938ee2"
      },
      "execution_count": null,
      "outputs": [
        {
          "output_type": "execute_result",
          "data": {
            "text/plain": [
              "'j'"
            ],
            "application/vnd.google.colaboratory.intrinsic+json": {
              "type": "string"
            }
          },
          "metadata": {},
          "execution_count": 69
        }
      ]
    },
    {
      "cell_type": "code",
      "source": [
        "name.index(\"javad\")"
      ],
      "metadata": {
        "colab": {
          "base_uri": "https://localhost:8080/"
        },
        "id": "z3QBpLkh0Xod",
        "outputId": "459293ba-52df-4d4b-92a1-fade08968201"
      },
      "execution_count": null,
      "outputs": [
        {
          "output_type": "execute_result",
          "data": {
            "text/plain": [
              "20"
            ]
          },
          "metadata": {},
          "execution_count": 70
        }
      ]
    },
    {
      "cell_type": "code",
      "source": [
        "name.index(\"Javad\")"
      ],
      "metadata": {
        "colab": {
          "base_uri": "https://localhost:8080/",
          "height": 146
        },
        "id": "Fgeupfpg0oaH",
        "outputId": "c43b2549-f2c2-4652-dae0-6ef7b5be2265"
      },
      "execution_count": null,
      "outputs": [
        {
          "output_type": "error",
          "ename": "ValueError",
          "evalue": "substring not found",
          "traceback": [
            "\u001b[0;31m---------------------------------------------------------------------------\u001b[0m",
            "\u001b[0;31mValueError\u001b[0m                                Traceback (most recent call last)",
            "\u001b[0;32m<ipython-input-71-5cb53c96b47b>\u001b[0m in \u001b[0;36m<cell line: 1>\u001b[0;34m()\u001b[0m\n\u001b[0;32m----> 1\u001b[0;31m \u001b[0mname\u001b[0m\u001b[0;34m.\u001b[0m\u001b[0mindex\u001b[0m\u001b[0;34m(\u001b[0m\u001b[0;34m\"Javad\"\u001b[0m\u001b[0;34m)\u001b[0m\u001b[0;34m\u001b[0m\u001b[0;34m\u001b[0m\u001b[0m\n\u001b[0m",
            "\u001b[0;31mValueError\u001b[0m: substring not found"
          ]
        }
      ]
    },
    {
      "cell_type": "code",
      "source": [
        "name"
      ],
      "metadata": {
        "colab": {
          "base_uri": "https://localhost:8080/",
          "height": 36
        },
        "id": "lX8BKbO405-e",
        "outputId": "7c490b0a-30be-44f4-8e14-4303fef83296"
      },
      "execution_count": null,
      "outputs": [
        {
          "output_type": "execute_result",
          "data": {
            "text/plain": [
              "'            Mohammadjavad Ahmanejade             Kamrani. Hoshang dishab be park raft? javad cheto? Na javad be part naraft.          '"
            ],
            "application/vnd.google.colaboratory.intrinsic+json": {
              "type": "string"
            }
          },
          "metadata": {},
          "execution_count": 72
        }
      ]
    },
    {
      "cell_type": "code",
      "source": [
        "name.replace(\"javad\", \"amir\")"
      ],
      "metadata": {
        "colab": {
          "base_uri": "https://localhost:8080/",
          "height": 36
        },
        "id": "9DxPEA3C1MaU",
        "outputId": "3a6fc7dd-fa46-42a6-af35-0b9f40528541"
      },
      "execution_count": null,
      "outputs": [
        {
          "output_type": "execute_result",
          "data": {
            "text/plain": [
              "'            Mohammadamir Ahmanejade             Kamrani. Hoshang dishab be park raft? amir cheto? Na amir be part naraft.          '"
            ],
            "application/vnd.google.colaboratory.intrinsic+json": {
              "type": "string"
            }
          },
          "metadata": {},
          "execution_count": 73
        }
      ]
    },
    {
      "cell_type": "code",
      "source": [
        "name.replace(\" \", \",\")"
      ],
      "metadata": {
        "colab": {
          "base_uri": "https://localhost:8080/",
          "height": 36
        },
        "id": "YffIzz8N1YNL",
        "outputId": "1ed75dcd-8139-4f2f-b768-d839dac272c9"
      },
      "execution_count": null,
      "outputs": [
        {
          "output_type": "execute_result",
          "data": {
            "text/plain": [
              "',,,,,,,,,,,,Mohammadjavad,Ahmanejade,,,,,,,,,,,,,Kamrani.,Hoshang,dishab,be,park,raft?,javad,cheto?,Na,javad,be,part,naraft.,,,,,,,,,,'"
            ],
            "application/vnd.google.colaboratory.intrinsic+json": {
              "type": "string"
            }
          },
          "metadata": {},
          "execution_count": 74
        }
      ]
    },
    {
      "cell_type": "code",
      "source": [
        "name.replace(\" \", \"\")"
      ],
      "metadata": {
        "colab": {
          "base_uri": "https://localhost:8080/",
          "height": 36
        },
        "id": "3sZTiaLm1yKw",
        "outputId": "adf12b48-a32e-4225-dcfb-ba557d6c630b"
      },
      "execution_count": null,
      "outputs": [
        {
          "output_type": "execute_result",
          "data": {
            "text/plain": [
              "'MohammadjavadAhmanejadeKamrani.Hoshangdishabbeparkraft?javadcheto?Najavadbepartnaraft.'"
            ],
            "application/vnd.google.colaboratory.intrinsic+json": {
              "type": "string"
            }
          },
          "metadata": {},
          "execution_count": 77
        }
      ]
    },
    {
      "cell_type": "code",
      "source": [
        "name.replace(\" \", \"\").replace(\"a\", \"\")"
      ],
      "metadata": {
        "colab": {
          "base_uri": "https://localhost:8080/",
          "height": 36
        },
        "id": "__nf1LQk14jR",
        "outputId": "f48cd0a1-d865-45cc-a41a-e55e85502acd"
      },
      "execution_count": null,
      "outputs": [
        {
          "output_type": "execute_result",
          "data": {
            "text/plain": [
              "'MohmmdjvdAhmnejdeKmrni.Hoshngdishbbeprkrft?jvdcheto?Njvdbeprtnrft.'"
            ],
            "application/vnd.google.colaboratory.intrinsic+json": {
              "type": "string"
            }
          },
          "metadata": {},
          "execution_count": 78
        }
      ]
    },
    {
      "cell_type": "code",
      "source": [
        "name[10:19].replace(\"a\", \"b\")"
      ],
      "metadata": {
        "colab": {
          "base_uri": "https://localhost:8080/",
          "height": 36
        },
        "id": "JFHo2tOh2hMo",
        "outputId": "2a48e1fd-7559-457e-8a84-d2ef2a0278a7"
      },
      "execution_count": null,
      "outputs": [
        {
          "output_type": "execute_result",
          "data": {
            "text/plain": [
              "'  Mohbmmb'"
            ],
            "application/vnd.google.colaboratory.intrinsic+json": {
              "type": "string"
            }
          },
          "metadata": {},
          "execution_count": 81
        }
      ]
    },
    {
      "cell_type": "code",
      "source": [
        "name[10,99] # ارور خواهد داد"
      ],
      "metadata": {
        "colab": {
          "base_uri": "https://localhost:8080/",
          "height": 146
        },
        "id": "X0nAypHS24v0",
        "outputId": "514e395b-7d4b-4808-8bed-c4047db87249"
      },
      "execution_count": null,
      "outputs": [
        {
          "output_type": "error",
          "ename": "TypeError",
          "evalue": "string indices must be integers",
          "traceback": [
            "\u001b[0;31m---------------------------------------------------------------------------\u001b[0m",
            "\u001b[0;31mTypeError\u001b[0m                                 Traceback (most recent call last)",
            "\u001b[0;32m<ipython-input-82-a585ad3d5ac9>\u001b[0m in \u001b[0;36m<cell line: 1>\u001b[0;34m()\u001b[0m\n\u001b[0;32m----> 1\u001b[0;31m \u001b[0mname\u001b[0m\u001b[0;34m[\u001b[0m\u001b[0;36m10\u001b[0m\u001b[0;34m,\u001b[0m\u001b[0;36m99\u001b[0m\u001b[0;34m]\u001b[0m\u001b[0;34m\u001b[0m\u001b[0;34m\u001b[0m\u001b[0m\n\u001b[0m",
            "\u001b[0;31mTypeError\u001b[0m: string indices must be integers"
          ]
        }
      ]
    },
    {
      "cell_type": "code",
      "source": [
        "name[10:15] + name[-15:]"
      ],
      "metadata": {
        "colab": {
          "base_uri": "https://localhost:8080/",
          "height": 36
        },
        "id": "72_tF2gx3Xkh",
        "outputId": "9f90acbc-0694-45df-8030-b9a9824b4bbf"
      },
      "execution_count": null,
      "outputs": [
        {
          "output_type": "execute_result",
          "data": {
            "text/plain": [
              "'  Mohraft.          '"
            ],
            "application/vnd.google.colaboratory.intrinsic+json": {
              "type": "string"
            }
          },
          "metadata": {},
          "execution_count": 84
        }
      ]
    },
    {
      "cell_type": "code",
      "source": [
        "my_list = [1, 2, 3]"
      ],
      "metadata": {
        "id": "J8ykIKIu39Co"
      },
      "execution_count": null,
      "outputs": []
    },
    {
      "cell_type": "code",
      "source": [
        "print(my_list)"
      ],
      "metadata": {
        "colab": {
          "base_uri": "https://localhost:8080/"
        },
        "id": "wBCMBsHW4bCZ",
        "outputId": "d11893d5-e9d9-431c-f9ec-8f3a3ba3fe72"
      },
      "execution_count": null,
      "outputs": [
        {
          "output_type": "stream",
          "name": "stdout",
          "text": [
            "[1, 2, 3]\n"
          ]
        }
      ]
    },
    {
      "cell_type": "code",
      "source": [
        "my_list = [1, 0, 1.4, \"salam\", 2+3j, True]"
      ],
      "metadata": {
        "id": "FIXyov0S4cXx"
      },
      "execution_count": null,
      "outputs": []
    },
    {
      "cell_type": "code",
      "source": [
        "my_list[0]"
      ],
      "metadata": {
        "colab": {
          "base_uri": "https://localhost:8080/"
        },
        "id": "0F4LlCbe4uhS",
        "outputId": "4831af5e-31c3-47fd-9ebd-93b3865ea7d2"
      },
      "execution_count": null,
      "outputs": [
        {
          "output_type": "execute_result",
          "data": {
            "text/plain": [
              "1"
            ]
          },
          "metadata": {},
          "execution_count": 88
        }
      ]
    },
    {
      "cell_type": "code",
      "source": [
        "my_list[2]"
      ],
      "metadata": {
        "colab": {
          "base_uri": "https://localhost:8080/"
        },
        "id": "Isf_Fa8E42FY",
        "outputId": "d54d2f45-8925-47e8-b989-daad8fd9fb0e"
      },
      "execution_count": null,
      "outputs": [
        {
          "output_type": "execute_result",
          "data": {
            "text/plain": [
              "1.4"
            ]
          },
          "metadata": {},
          "execution_count": 89
        }
      ]
    },
    {
      "cell_type": "code",
      "source": [
        "my_list[2:4]"
      ],
      "metadata": {
        "colab": {
          "base_uri": "https://localhost:8080/"
        },
        "id": "uRM0iMDj43AR",
        "outputId": "324c9780-22e4-4e9d-f15b-9a196a7bc0a7"
      },
      "execution_count": null,
      "outputs": [
        {
          "output_type": "execute_result",
          "data": {
            "text/plain": [
              "[1.4, 'salam']"
            ]
          },
          "metadata": {},
          "execution_count": 90
        }
      ]
    },
    {
      "cell_type": "code",
      "source": [
        "my_list[-2:]"
      ],
      "metadata": {
        "colab": {
          "base_uri": "https://localhost:8080/"
        },
        "id": "7DIBJOvG45ia",
        "outputId": "99911c88-0309-4c07-9840-18f5c145b6b3"
      },
      "execution_count": null,
      "outputs": [
        {
          "output_type": "execute_result",
          "data": {
            "text/plain": [
              "[(2+3j), True]"
            ]
          },
          "metadata": {},
          "execution_count": 91
        }
      ]
    },
    {
      "cell_type": "code",
      "source": [
        "my_list = [1, 0, 1.4, \"salam\", 2+3j, True, [1, 2, 9, \"Hello\"]]"
      ],
      "metadata": {
        "id": "HJLZ-pTG5BDT"
      },
      "execution_count": null,
      "outputs": []
    },
    {
      "cell_type": "code",
      "source": [
        "my_list[-1]"
      ],
      "metadata": {
        "colab": {
          "base_uri": "https://localhost:8080/"
        },
        "id": "sNIuo9yY5IIZ",
        "outputId": "22de21a8-03a3-44a3-c8dc-3404c5a8cf8d"
      },
      "execution_count": null,
      "outputs": [
        {
          "output_type": "execute_result",
          "data": {
            "text/plain": [
              "[1, 2, 9, 'Hello']"
            ]
          },
          "metadata": {},
          "execution_count": 93
        }
      ]
    },
    {
      "cell_type": "code",
      "source": [
        "my_list[-1][-1]"
      ],
      "metadata": {
        "colab": {
          "base_uri": "https://localhost:8080/",
          "height": 36
        },
        "id": "YfTK5RGK5KCE",
        "outputId": "9899b9dc-17c0-497d-8ceb-1f919f167ccc"
      },
      "execution_count": null,
      "outputs": [
        {
          "output_type": "execute_result",
          "data": {
            "text/plain": [
              "'Hello'"
            ],
            "application/vnd.google.colaboratory.intrinsic+json": {
              "type": "string"
            }
          },
          "metadata": {},
          "execution_count": 94
        }
      ]
    },
    {
      "cell_type": "code",
      "source": [
        "my_list[-1][2:]"
      ],
      "metadata": {
        "colab": {
          "base_uri": "https://localhost:8080/"
        },
        "id": "gr22nsgt5Pz8",
        "outputId": "8c74197b-6833-4edf-d1ff-96244821e17b"
      },
      "execution_count": null,
      "outputs": [
        {
          "output_type": "execute_result",
          "data": {
            "text/plain": [
              "[9, 'Hello']"
            ]
          },
          "metadata": {},
          "execution_count": 95
        }
      ]
    },
    {
      "cell_type": "code",
      "source": [
        "list2 = []"
      ],
      "metadata": {
        "id": "F1edpM_h5San"
      },
      "execution_count": null,
      "outputs": []
    },
    {
      "cell_type": "code",
      "source": [
        "list2"
      ],
      "metadata": {
        "colab": {
          "base_uri": "https://localhost:8080/"
        },
        "id": "zOc7cOYB6YL0",
        "outputId": "f21ae7e5-ec36-4dc2-c1ec-84649726266b"
      },
      "execution_count": null,
      "outputs": [
        {
          "output_type": "execute_result",
          "data": {
            "text/plain": [
              "[]"
            ]
          },
          "metadata": {},
          "execution_count": 97
        }
      ]
    },
    {
      "cell_type": "code",
      "source": [
        "for i in range(10):\n",
        "    list2.append(i)"
      ],
      "metadata": {
        "id": "kZ0pWXbR6Y7k"
      },
      "execution_count": null,
      "outputs": []
    },
    {
      "cell_type": "code",
      "source": [
        "list2"
      ],
      "metadata": {
        "colab": {
          "base_uri": "https://localhost:8080/"
        },
        "id": "Pnp8el7e6mQn",
        "outputId": "594454dc-4d8d-446b-f075-0bcbf8a31a6d"
      },
      "execution_count": null,
      "outputs": [
        {
          "output_type": "execute_result",
          "data": {
            "text/plain": [
              "[0, 1, 2, 3, 4, 5, 6, 7, 8, 9]"
            ]
          },
          "metadata": {},
          "execution_count": 99
        }
      ]
    },
    {
      "cell_type": "code",
      "source": [
        "list2.append(\"salam\")"
      ],
      "metadata": {
        "id": "NVLFHG746sE3"
      },
      "execution_count": null,
      "outputs": []
    },
    {
      "cell_type": "code",
      "source": [
        "list2"
      ],
      "metadata": {
        "colab": {
          "base_uri": "https://localhost:8080/"
        },
        "id": "k6NEhkYI6x_A",
        "outputId": "d2cd7103-611a-4651-aca7-48d730d2c196"
      },
      "execution_count": null,
      "outputs": [
        {
          "output_type": "execute_result",
          "data": {
            "text/plain": [
              "[0, 1, 2, 3, 4, 5, 6, 7, 8, 9, 'salam']"
            ]
          },
          "metadata": {},
          "execution_count": 101
        }
      ]
    },
    {
      "cell_type": "code",
      "source": [
        "list2.insert(0, \"Hello\")"
      ],
      "metadata": {
        "id": "Ic5a6Q1b6y2k"
      },
      "execution_count": null,
      "outputs": []
    },
    {
      "cell_type": "code",
      "source": [
        "list2"
      ],
      "metadata": {
        "colab": {
          "base_uri": "https://localhost:8080/"
        },
        "id": "cu6gfZEF6-pX",
        "outputId": "f7040bfc-f721-45f7-9a5f-54febdf4922f"
      },
      "execution_count": null,
      "outputs": [
        {
          "output_type": "execute_result",
          "data": {
            "text/plain": [
              "['Hello', 0, 1, 2, 3, 4, 5, 6, 7, 8, 9, 'salam']"
            ]
          },
          "metadata": {},
          "execution_count": 103
        }
      ]
    },
    {
      "cell_type": "code",
      "source": [
        "list2.insert(5, \"Kodafez\")"
      ],
      "metadata": {
        "id": "BEoT87GT6_j-"
      },
      "execution_count": null,
      "outputs": []
    },
    {
      "cell_type": "code",
      "source": [
        "list2"
      ],
      "metadata": {
        "colab": {
          "base_uri": "https://localhost:8080/"
        },
        "id": "EDlJ3B8v7GHM",
        "outputId": "c7eba672-7e7f-4cb6-cf20-a3e84d31985b"
      },
      "execution_count": null,
      "outputs": [
        {
          "output_type": "execute_result",
          "data": {
            "text/plain": [
              "['Hello', 0, 1, 2, 3, 'Kodafez', 4, 5, 6, 7, 8, 9, 'salam']"
            ]
          },
          "metadata": {},
          "execution_count": 105
        }
      ]
    },
    {
      "cell_type": "code",
      "source": [
        "\"salam\".insert(1, \".\")"
      ],
      "metadata": {
        "colab": {
          "base_uri": "https://localhost:8080/",
          "height": 146
        },
        "id": "pvMuKsi67H36",
        "outputId": "dd5e0793-9a0c-4cd4-a027-cb489a8c9a34"
      },
      "execution_count": null,
      "outputs": [
        {
          "output_type": "error",
          "ename": "AttributeError",
          "evalue": "'str' object has no attribute 'insert'",
          "traceback": [
            "\u001b[0;31m---------------------------------------------------------------------------\u001b[0m",
            "\u001b[0;31mAttributeError\u001b[0m                            Traceback (most recent call last)",
            "\u001b[0;32m<ipython-input-106-3c608cc90012>\u001b[0m in \u001b[0;36m<cell line: 1>\u001b[0;34m()\u001b[0m\n\u001b[0;32m----> 1\u001b[0;31m \u001b[0;34m\"salam\"\u001b[0m\u001b[0;34m.\u001b[0m\u001b[0minsert\u001b[0m\u001b[0;34m(\u001b[0m\u001b[0;36m1\u001b[0m\u001b[0;34m,\u001b[0m \u001b[0;34m\".\"\u001b[0m\u001b[0;34m)\u001b[0m\u001b[0;34m\u001b[0m\u001b[0;34m\u001b[0m\u001b[0m\n\u001b[0m",
            "\u001b[0;31mAttributeError\u001b[0m: 'str' object has no attribute 'insert'"
          ]
        }
      ]
    },
    {
      "cell_type": "code",
      "source": [
        "list3 = [j]"
      ],
      "metadata": {
        "colab": {
          "base_uri": "https://localhost:8080/",
          "height": 146
        },
        "id": "jkGbH2pq7pf0",
        "outputId": "a9026b53-1986-4ac1-8b7b-e94312913a7a"
      },
      "execution_count": null,
      "outputs": [
        {
          "output_type": "error",
          "ename": "NameError",
          "evalue": "name 'j' is not defined",
          "traceback": [
            "\u001b[0;31m---------------------------------------------------------------------------\u001b[0m",
            "\u001b[0;31mNameError\u001b[0m                                 Traceback (most recent call last)",
            "\u001b[0;32m<ipython-input-108-4c8da98b36be>\u001b[0m in \u001b[0;36m<cell line: 1>\u001b[0;34m()\u001b[0m\n\u001b[0;32m----> 1\u001b[0;31m \u001b[0mlist3\u001b[0m \u001b[0;34m=\u001b[0m \u001b[0;34m[\u001b[0m\u001b[0mj\u001b[0m\u001b[0;34m]\u001b[0m\u001b[0;34m\u001b[0m\u001b[0;34m\u001b[0m\u001b[0m\n\u001b[0m",
            "\u001b[0;31mNameError\u001b[0m: name 'j' is not defined"
          ]
        }
      ]
    },
    {
      "cell_type": "code",
      "source": [
        "list3 = [j for j in range(10)]\n",
        "\n",
        "# for j in range(10):\n",
        "#      list3.append(j)\n",
        "#\n",
        "#"
      ],
      "metadata": {
        "id": "96BYh4Vo8Go2"
      },
      "execution_count": null,
      "outputs": []
    },
    {
      "cell_type": "code",
      "source": [
        "list3"
      ],
      "metadata": {
        "colab": {
          "base_uri": "https://localhost:8080/"
        },
        "id": "Jh6soU8F8P77",
        "outputId": "d72b6591-0cc5-40be-fc9f-c25afa66e658"
      },
      "execution_count": null,
      "outputs": [
        {
          "output_type": "execute_result",
          "data": {
            "text/plain": [
              "[0, 1, 2, 3, 4, 5, 6, 7, 8, 9]"
            ]
          },
          "metadata": {},
          "execution_count": 110
        }
      ]
    },
    {
      "cell_type": "code",
      "source": [
        "[j for j in range(10, 100, 10)]"
      ],
      "metadata": {
        "colab": {
          "base_uri": "https://localhost:8080/"
        },
        "id": "OvAU74W58Qwb",
        "outputId": "7d548bdd-99c1-4c00-c31f-933313963000"
      },
      "execution_count": null,
      "outputs": [
        {
          "output_type": "execute_result",
          "data": {
            "text/plain": [
              "[10, 20, 30, 40, 50, 60, 70, 80, 90]"
            ]
          },
          "metadata": {},
          "execution_count": 111
        }
      ]
    },
    {
      "cell_type": "code",
      "source": [
        "name.replace(\"a\",\"b\" , 2)"
      ],
      "metadata": {
        "colab": {
          "base_uri": "https://localhost:8080/",
          "height": 36
        },
        "id": "k2eogA2J8WJw",
        "outputId": "cc32acd5-52d1-48a4-ce70-5da29e13e831"
      },
      "execution_count": null,
      "outputs": [
        {
          "output_type": "execute_result",
          "data": {
            "text/plain": [
              "'            Mohbmmbdjavad Ahmanejade             Kamrani. Hoshang dishab be park raft? javad cheto? Na javad be part naraft.          '"
            ],
            "application/vnd.google.colaboratory.intrinsic+json": {
              "type": "string"
            }
          },
          "metadata": {},
          "execution_count": 114
        }
      ]
    },
    {
      "cell_type": "code",
      "source": [
        "name.find('a')"
      ],
      "metadata": {
        "colab": {
          "base_uri": "https://localhost:8080/"
        },
        "id": "tIom-Gjq-NSr",
        "outputId": "f2b9f854-90c6-471d-8e26-e7b8c1ff614c"
      },
      "execution_count": null,
      "outputs": [
        {
          "output_type": "execute_result",
          "data": {
            "text/plain": [
              "15"
            ]
          },
          "metadata": {},
          "execution_count": 115
        }
      ]
    },
    {
      "cell_type": "code",
      "source": [
        "name[name.find('a')+1:].find('a')"
      ],
      "metadata": {
        "colab": {
          "base_uri": "https://localhost:8080/"
        },
        "id": "Jp_UkbFP_Ddb",
        "outputId": "2ea2310b-9411-48a6-994c-1f4449ce9d35"
      },
      "execution_count": null,
      "outputs": [
        {
          "output_type": "execute_result",
          "data": {
            "text/plain": [
              "2"
            ]
          },
          "metadata": {},
          "execution_count": 119
        }
      ]
    },
    {
      "cell_type": "code",
      "source": [
        "name[name[name.find('a')+1:].find('a')+1:].find('a')"
      ],
      "metadata": {
        "colab": {
          "base_uri": "https://localhost:8080/"
        },
        "id": "Q7riAJeV_LhM",
        "outputId": "a0912137-d8e9-44c9-8113-01769db5d49b"
      },
      "execution_count": null,
      "outputs": [
        {
          "output_type": "execute_result",
          "data": {
            "text/plain": [
              "12"
            ]
          },
          "metadata": {},
          "execution_count": 121
        }
      ]
    },
    {
      "cell_type": "code",
      "source": [
        "name[a3:a5].replace(\"a\",\"b\" , 3)"
      ],
      "metadata": {
        "id": "kgaj1c02_OT2"
      },
      "execution_count": null,
      "outputs": []
    },
    {
      "cell_type": "markdown",
      "source": [
        "# 2024-07-27"
      ],
      "metadata": {
        "id": "VkAYXU39EDST"
      }
    },
    {
      "cell_type": "code",
      "source": [
        "[i for i in range(10) if i%2 == 0]\n",
        "\n",
        "# for i in range(10):\n",
        "#     if i%2 == 0:\n",
        "#         print(i)"
      ],
      "metadata": {
        "id": "V-OmpzEh_w0H",
        "colab": {
          "base_uri": "https://localhost:8080/"
        },
        "outputId": "2c15e9f1-6516-4ccf-c29b-d6b3229f3e3c"
      },
      "execution_count": null,
      "outputs": [
        {
          "output_type": "execute_result",
          "data": {
            "text/plain": [
              "[0, 2, 4, 6, 8]"
            ]
          },
          "metadata": {},
          "execution_count": 1
        }
      ]
    },
    {
      "cell_type": "code",
      "source": [
        "t = (1,2,3)"
      ],
      "metadata": {
        "id": "mVWmJe2RDRVe"
      },
      "execution_count": null,
      "outputs": []
    },
    {
      "cell_type": "code",
      "source": [
        "t[0]"
      ],
      "metadata": {
        "colab": {
          "base_uri": "https://localhost:8080/"
        },
        "id": "2Q5Kt8M3D120",
        "outputId": "70ba7710-cd56-4bdb-ca0d-5a65e90f2812"
      },
      "execution_count": null,
      "outputs": [
        {
          "output_type": "execute_result",
          "data": {
            "text/plain": [
              "1"
            ]
          },
          "metadata": {},
          "execution_count": 3
        }
      ]
    },
    {
      "cell_type": "code",
      "source": [
        "t[0] = 10"
      ],
      "metadata": {
        "colab": {
          "base_uri": "https://localhost:8080/",
          "height": 141
        },
        "id": "6EQCqRQHD8HD",
        "outputId": "2e9ca504-6e52-40d1-96d7-9645c903e235"
      },
      "execution_count": null,
      "outputs": [
        {
          "output_type": "error",
          "ename": "TypeError",
          "evalue": "'tuple' object does not support item assignment",
          "traceback": [
            "\u001b[0;31m---------------------------------------------------------------------------\u001b[0m",
            "\u001b[0;31mTypeError\u001b[0m                                 Traceback (most recent call last)",
            "\u001b[0;32m<ipython-input-4-88963aa635fa>\u001b[0m in \u001b[0;36m<cell line: 1>\u001b[0;34m()\u001b[0m\n\u001b[0;32m----> 1\u001b[0;31m \u001b[0mt\u001b[0m\u001b[0;34m[\u001b[0m\u001b[0;36m0\u001b[0m\u001b[0;34m]\u001b[0m \u001b[0;34m=\u001b[0m \u001b[0;36m10\u001b[0m\u001b[0;34m\u001b[0m\u001b[0;34m\u001b[0m\u001b[0m\n\u001b[0m",
            "\u001b[0;31mTypeError\u001b[0m: 'tuple' object does not support item assignment"
          ]
        }
      ]
    },
    {
      "cell_type": "code",
      "source": [
        "s = {1,2,3,4,5}"
      ],
      "metadata": {
        "id": "BpOEEJ7LD-AO"
      },
      "execution_count": null,
      "outputs": []
    },
    {
      "cell_type": "code",
      "source": [
        "s"
      ],
      "metadata": {
        "colab": {
          "base_uri": "https://localhost:8080/"
        },
        "id": "Ofx6LXbYERes",
        "outputId": "90bb3a25-9ea0-48a6-e7c4-749bf0f7e85a"
      },
      "execution_count": null,
      "outputs": [
        {
          "output_type": "execute_result",
          "data": {
            "text/plain": [
              "{1, 2, 3, 4, 5}"
            ]
          },
          "metadata": {},
          "execution_count": 6
        }
      ]
    },
    {
      "cell_type": "code",
      "source": [
        "dictionary = {\n",
        "    'key': 'value',\n",
        "    'key2': 2,\n",
        "    2: 'string',\n",
        "    3: [1,2,3],\n",
        "    \"dict\": {\n",
        "        'key': 'value'\n",
        "    }\n",
        "}"
      ],
      "metadata": {
        "id": "KwuKsAdFETuF"
      },
      "execution_count": null,
      "outputs": []
    },
    {
      "cell_type": "code",
      "source": [
        "dictionary['key'], dictionary[3], dictionary['dict']['key']"
      ],
      "metadata": {
        "colab": {
          "base_uri": "https://localhost:8080/"
        },
        "id": "OnKmCWCPFEzO",
        "outputId": "4be8674b-b876-412e-a2e9-c86bb3524d72"
      },
      "execution_count": null,
      "outputs": [
        {
          "output_type": "execute_result",
          "data": {
            "text/plain": [
              "('value', [1, 2, 3], 'value')"
            ]
          },
          "metadata": {},
          "execution_count": 11
        }
      ]
    },
    {
      "cell_type": "code",
      "source": [
        "dictionary.keys()"
      ],
      "metadata": {
        "colab": {
          "base_uri": "https://localhost:8080/"
        },
        "id": "FDpFxTcVFG2o",
        "outputId": "8e2614b9-edcc-4f23-a1b0-5650896ad77a"
      },
      "execution_count": null,
      "outputs": [
        {
          "output_type": "execute_result",
          "data": {
            "text/plain": [
              "dict_keys(['key', 'key2', 2, 3, 'dict'])"
            ]
          },
          "metadata": {},
          "execution_count": 12
        }
      ]
    },
    {
      "cell_type": "code",
      "source": [
        "dictionary.values()"
      ],
      "metadata": {
        "colab": {
          "base_uri": "https://localhost:8080/"
        },
        "id": "jKsoBkHLFVjF",
        "outputId": "cd9ab705-9ebc-4eca-c949-9779db0f3b52"
      },
      "execution_count": null,
      "outputs": [
        {
          "output_type": "execute_result",
          "data": {
            "text/plain": [
              "dict_values(['value', 2, 'string', [1, 2, 3], {'key': 'value'}])"
            ]
          },
          "metadata": {},
          "execution_count": 13
        }
      ]
    },
    {
      "cell_type": "code",
      "source": [
        "dictionary[3].append(12)"
      ],
      "metadata": {
        "id": "QI4rg-lwFXiK"
      },
      "execution_count": null,
      "outputs": []
    },
    {
      "cell_type": "code",
      "source": [
        "dictionary.values()"
      ],
      "metadata": {
        "colab": {
          "base_uri": "https://localhost:8080/"
        },
        "id": "s5X-3Q9OFcCs",
        "outputId": "f0aade1a-004c-4143-f9b4-8136f3cb5425"
      },
      "execution_count": null,
      "outputs": [
        {
          "output_type": "execute_result",
          "data": {
            "text/plain": [
              "dict_values(['value', 2, 'string', [1, 2, 3, 12], {'key': 'value'}])"
            ]
          },
          "metadata": {},
          "execution_count": 15
        }
      ]
    },
    {
      "cell_type": "code",
      "source": [
        "(x, y), [(x1, y1), (x2, y2), (x3, y3)]"
      ],
      "metadata": {
        "id": "1lQTOC3WFdJK"
      },
      "execution_count": null,
      "outputs": []
    },
    {
      "cell_type": "code",
      "source": [
        "s = {1, 5, 8, 11, 2}"
      ],
      "metadata": {
        "id": "byDlF6fGGNld"
      },
      "execution_count": null,
      "outputs": []
    },
    {
      "cell_type": "code",
      "source": [
        "s"
      ],
      "metadata": {
        "colab": {
          "base_uri": "https://localhost:8080/"
        },
        "id": "je0l4xGIGQFk",
        "outputId": "8282a8f4-97c6-41be-970f-4ef518a609ba"
      },
      "execution_count": null,
      "outputs": [
        {
          "output_type": "execute_result",
          "data": {
            "text/plain": [
              "{1, 2, 5, 8, 11}"
            ]
          },
          "metadata": {},
          "execution_count": 17
        }
      ]
    },
    {
      "cell_type": "code",
      "source": [
        "s.add(10)"
      ],
      "metadata": {
        "id": "lKdl_ZggGRWf"
      },
      "execution_count": null,
      "outputs": []
    },
    {
      "cell_type": "code",
      "source": [
        "s"
      ],
      "metadata": {
        "colab": {
          "base_uri": "https://localhost:8080/"
        },
        "id": "OHalGxi_GpiE",
        "outputId": "7219eaa8-e8c9-4371-9d1e-a6c7a80a30a1"
      },
      "execution_count": null,
      "outputs": [
        {
          "output_type": "execute_result",
          "data": {
            "text/plain": [
              "{1, 2, 5, 8, 10, 11}"
            ]
          },
          "metadata": {},
          "execution_count": 21
        }
      ]
    },
    {
      "cell_type": "code",
      "source": [
        "s = {\"salam\", \"b\", \"c\"}"
      ],
      "metadata": {
        "id": "7wdz8DVjGwff"
      },
      "execution_count": null,
      "outputs": []
    },
    {
      "cell_type": "code",
      "source": [
        "s"
      ],
      "metadata": {
        "colab": {
          "base_uri": "https://localhost:8080/"
        },
        "id": "Pg8VqSEtG4o6",
        "outputId": "ea91aecc-ea30-4728-e238-90ea6fce259c"
      },
      "execution_count": null,
      "outputs": [
        {
          "output_type": "execute_result",
          "data": {
            "text/plain": [
              "{'b', 'c', 'salam'}"
            ]
          },
          "metadata": {},
          "execution_count": 23
        }
      ]
    },
    {
      "cell_type": "code",
      "source": [
        "s = {\"salam\", \"b\", \"c\", \"salom\"}"
      ],
      "metadata": {
        "id": "L4oNOeAaG5Sa"
      },
      "execution_count": null,
      "outputs": []
    },
    {
      "cell_type": "code",
      "source": [
        "s"
      ],
      "metadata": {
        "colab": {
          "base_uri": "https://localhost:8080/"
        },
        "id": "D-P1N_xJG9bC",
        "outputId": "38ee1e82-1aba-433a-abb5-657f2106866d"
      },
      "execution_count": null,
      "outputs": [
        {
          "output_type": "execute_result",
          "data": {
            "text/plain": [
              "{'b', 'c', 'salam', 'salom'}"
            ]
          },
          "metadata": {},
          "execution_count": 25
        }
      ]
    },
    {
      "cell_type": "code",
      "source": [
        "dictionary[3] = [9,10,11]"
      ],
      "metadata": {
        "id": "TiQIv1OvG970"
      },
      "execution_count": null,
      "outputs": []
    },
    {
      "cell_type": "code",
      "source": [
        "dictionary[3]"
      ],
      "metadata": {
        "colab": {
          "base_uri": "https://localhost:8080/"
        },
        "id": "4zq15kjiHcHf",
        "outputId": "c4edc272-7977-416a-c3a1-edcfc5645700"
      },
      "execution_count": null,
      "outputs": [
        {
          "output_type": "execute_result",
          "data": {
            "text/plain": [
              "[9, 10, 11]"
            ]
          },
          "metadata": {},
          "execution_count": 28
        }
      ]
    },
    {
      "cell_type": "code",
      "source": [
        "dict2 = {\n",
        "    'key': 'value',\n",
        "    3.7: 'value'\n",
        "}\n"
      ],
      "metadata": {
        "id": "1x1Yb09-Hgrm"
      },
      "execution_count": null,
      "outputs": []
    },
    {
      "cell_type": "code",
      "source": [
        "dict2[3.7]"
      ],
      "metadata": {
        "colab": {
          "base_uri": "https://localhost:8080/",
          "height": 35
        },
        "id": "EYxBUSG6IsZU",
        "outputId": "34db95b8-6fa4-4a3e-fbef-d7b31b492b39"
      },
      "execution_count": null,
      "outputs": [
        {
          "output_type": "execute_result",
          "data": {
            "text/plain": [
              "'value'"
            ],
            "application/vnd.google.colaboratory.intrinsic+json": {
              "type": "string"
            }
          },
          "metadata": {},
          "execution_count": 30
        }
      ]
    },
    {
      "cell_type": "code",
      "source": [
        "dict2 = {\n",
        "    'key': 'value',\n",
        "    2+3j: 'value'\n",
        "}\n"
      ],
      "metadata": {
        "id": "0x9rgeh7IujU"
      },
      "execution_count": null,
      "outputs": []
    },
    {
      "cell_type": "code",
      "source": [
        "dict2[2+3j]"
      ],
      "metadata": {
        "colab": {
          "base_uri": "https://localhost:8080/",
          "height": 35
        },
        "id": "idxgtYFMIxcv",
        "outputId": "446fadac-8994-45b3-afbc-842a47f9cd86"
      },
      "execution_count": null,
      "outputs": [
        {
          "output_type": "execute_result",
          "data": {
            "text/plain": [
              "'value'"
            ],
            "application/vnd.google.colaboratory.intrinsic+json": {
              "type": "string"
            }
          },
          "metadata": {},
          "execution_count": 32
        }
      ]
    },
    {
      "cell_type": "code",
      "source": [
        "del dict2['key']"
      ],
      "metadata": {
        "id": "aQhEvCVRIzQg"
      },
      "execution_count": null,
      "outputs": []
    },
    {
      "cell_type": "code",
      "source": [
        "dict2"
      ],
      "metadata": {
        "colab": {
          "base_uri": "https://localhost:8080/"
        },
        "id": "wBLsGkaDJSNi",
        "outputId": "0a107d4b-3596-4f16-eeb1-23a228183228"
      },
      "execution_count": null,
      "outputs": [
        {
          "output_type": "execute_result",
          "data": {
            "text/plain": [
              "{(2+3j): 'value'}"
            ]
          },
          "metadata": {},
          "execution_count": 34
        }
      ]
    },
    {
      "cell_type": "code",
      "source": [
        "a = 2\n",
        "print(a)\n",
        "del a\n",
        "print(a)"
      ],
      "metadata": {
        "colab": {
          "base_uri": "https://localhost:8080/",
          "height": 193
        },
        "id": "WG0O6FDwJTPn",
        "outputId": "a5b073bb-34f4-4d88-aba8-fccc684cef3d"
      },
      "execution_count": null,
      "outputs": [
        {
          "output_type": "stream",
          "name": "stdout",
          "text": [
            "2\n"
          ]
        },
        {
          "output_type": "error",
          "ename": "NameError",
          "evalue": "name 'a' is not defined",
          "traceback": [
            "\u001b[0;31m---------------------------------------------------------------------------\u001b[0m",
            "\u001b[0;31mNameError\u001b[0m                                 Traceback (most recent call last)",
            "\u001b[0;32m<ipython-input-35-1e219bccec94>\u001b[0m in \u001b[0;36m<cell line: 4>\u001b[0;34m()\u001b[0m\n\u001b[1;32m      2\u001b[0m \u001b[0mprint\u001b[0m\u001b[0;34m(\u001b[0m\u001b[0ma\u001b[0m\u001b[0;34m)\u001b[0m\u001b[0;34m\u001b[0m\u001b[0;34m\u001b[0m\u001b[0m\n\u001b[1;32m      3\u001b[0m \u001b[0;32mdel\u001b[0m \u001b[0ma\u001b[0m\u001b[0;34m\u001b[0m\u001b[0;34m\u001b[0m\u001b[0m\n\u001b[0;32m----> 4\u001b[0;31m \u001b[0mprint\u001b[0m\u001b[0;34m(\u001b[0m\u001b[0ma\u001b[0m\u001b[0;34m)\u001b[0m\u001b[0;34m\u001b[0m\u001b[0;34m\u001b[0m\u001b[0m\n\u001b[0m",
            "\u001b[0;31mNameError\u001b[0m: name 'a' is not defined"
          ]
        }
      ]
    },
    {
      "cell_type": "code",
      "source": [
        "resnet_acc = {}\n",
        "resnet_acc['mnist'] = 89"
      ],
      "metadata": {
        "id": "PAQ5voB3JaNp"
      },
      "execution_count": null,
      "outputs": []
    },
    {
      "cell_type": "code",
      "source": [
        "resnet_acc['iris'] = 99"
      ],
      "metadata": {
        "id": "7rmN6PXxKSsO"
      },
      "execution_count": null,
      "outputs": []
    },
    {
      "cell_type": "code",
      "source": [
        "resnet_acc['imagenet'] = 72"
      ],
      "metadata": {
        "id": "Lcvp_HZmKU09"
      },
      "execution_count": null,
      "outputs": []
    },
    {
      "cell_type": "code",
      "source": [
        "resnet_acc['mnist']"
      ],
      "metadata": {
        "colab": {
          "base_uri": "https://localhost:8080/"
        },
        "id": "Qenja8imKXVE",
        "outputId": "499d226b-6107-4988-e31a-f2bd498ac523"
      },
      "execution_count": null,
      "outputs": [
        {
          "output_type": "execute_result",
          "data": {
            "text/plain": [
              "89"
            ]
          },
          "metadata": {},
          "execution_count": 39
        }
      ]
    },
    {
      "cell_type": "code",
      "source": [
        "resnet_acc.items()"
      ],
      "metadata": {
        "colab": {
          "base_uri": "https://localhost:8080/"
        },
        "id": "lBTAkva5KbhN",
        "outputId": "227d20c6-1529-4406-9451-782d019789c2"
      },
      "execution_count": null,
      "outputs": [
        {
          "output_type": "execute_result",
          "data": {
            "text/plain": [
              "dict_items([('mnist', 89), ('iris', 99), ('imagenet', 72)])"
            ]
          },
          "metadata": {},
          "execution_count": 40
        }
      ]
    },
    {
      "cell_type": "code",
      "source": [
        "power = {}\n",
        "for idx in range(10):\n",
        "    power[idx] = idx**2"
      ],
      "metadata": {
        "id": "g0fzQz4nKfED"
      },
      "execution_count": null,
      "outputs": []
    },
    {
      "cell_type": "code",
      "source": [
        "power[4]"
      ],
      "metadata": {
        "colab": {
          "base_uri": "https://localhost:8080/"
        },
        "id": "lxyWBMZ7Kz_X",
        "outputId": "d240f21d-28d1-41bd-8257-7f3065d37ff9"
      },
      "execution_count": null,
      "outputs": [
        {
          "output_type": "execute_result",
          "data": {
            "text/plain": [
              "16"
            ]
          },
          "metadata": {},
          "execution_count": 42
        }
      ]
    },
    {
      "cell_type": "code",
      "source": [
        "y = x ** 2"
      ],
      "metadata": {
        "colab": {
          "base_uri": "https://localhost:8080/",
          "height": 141
        },
        "id": "3ZGb1CLuK1oY",
        "outputId": "077467f2-40ee-47d2-de5f-0eef4aa227e0"
      },
      "execution_count": null,
      "outputs": [
        {
          "output_type": "error",
          "ename": "NameError",
          "evalue": "name 'x' is not defined",
          "traceback": [
            "\u001b[0;31m---------------------------------------------------------------------------\u001b[0m",
            "\u001b[0;31mNameError\u001b[0m                                 Traceback (most recent call last)",
            "\u001b[0;32m<ipython-input-43-7206e28ccf79>\u001b[0m in \u001b[0;36m<cell line: 1>\u001b[0;34m()\u001b[0m\n\u001b[0;32m----> 1\u001b[0;31m \u001b[0my\u001b[0m \u001b[0;34m=\u001b[0m \u001b[0mx\u001b[0m \u001b[0;34m**\u001b[0m \u001b[0;36m2\u001b[0m\u001b[0;34m\u001b[0m\u001b[0;34m\u001b[0m\u001b[0m\n\u001b[0m",
            "\u001b[0;31mNameError\u001b[0m: name 'x' is not defined"
          ]
        }
      ]
    },
    {
      "cell_type": "code",
      "source": [
        "def x2(x):\n",
        "    y = x ** 2\n",
        "    return y"
      ],
      "metadata": {
        "id": "JYTw6tvILOrg"
      },
      "execution_count": null,
      "outputs": []
    },
    {
      "cell_type": "code",
      "source": [
        "x2(10)"
      ],
      "metadata": {
        "colab": {
          "base_uri": "https://localhost:8080/"
        },
        "id": "puk_mLHGLqTq",
        "outputId": "c93d9fcf-e60e-4f33-fe94-9941ce00a9d1"
      },
      "execution_count": null,
      "outputs": [
        {
          "output_type": "execute_result",
          "data": {
            "text/plain": [
              "100"
            ]
          },
          "metadata": {},
          "execution_count": 45
        }
      ]
    },
    {
      "cell_type": "code",
      "source": [
        "x2(-4)"
      ],
      "metadata": {
        "colab": {
          "base_uri": "https://localhost:8080/"
        },
        "id": "hSLHPxeGLskB",
        "outputId": "39c1ba7e-7db7-4141-b3a0-0abf999f94fc"
      },
      "execution_count": null,
      "outputs": [
        {
          "output_type": "execute_result",
          "data": {
            "text/plain": [
              "16"
            ]
          },
          "metadata": {},
          "execution_count": 46
        }
      ]
    },
    {
      "cell_type": "code",
      "source": [
        "def empty():\n",
        "    return \"empty\""
      ],
      "metadata": {
        "id": "srMvT6llLuwf"
      },
      "execution_count": null,
      "outputs": []
    },
    {
      "cell_type": "code",
      "source": [
        "o = empty()\n",
        "print(o)"
      ],
      "metadata": {
        "colab": {
          "base_uri": "https://localhost:8080/"
        },
        "id": "yu_TcQ4HL7uQ",
        "outputId": "e155d097-fdd7-4392-bc3f-76385fd18f81"
      },
      "execution_count": null,
      "outputs": [
        {
          "output_type": "stream",
          "name": "stdout",
          "text": [
            "empty\n"
          ]
        }
      ]
    },
    {
      "cell_type": "code",
      "source": [
        "def empty2():\n",
        "    pass"
      ],
      "metadata": {
        "id": "lkvXp5imL9LP"
      },
      "execution_count": null,
      "outputs": []
    },
    {
      "cell_type": "code",
      "source": [
        "a = x2(0)"
      ],
      "metadata": {
        "id": "OO-GAh18MFv9"
      },
      "execution_count": null,
      "outputs": []
    },
    {
      "cell_type": "code",
      "source": [
        "a"
      ],
      "metadata": {
        "colab": {
          "base_uri": "https://localhost:8080/"
        },
        "id": "INjI5fFwMTRa",
        "outputId": "bbcac2ac-cb2e-4e5a-860e-a9059abb4526"
      },
      "execution_count": null,
      "outputs": [
        {
          "output_type": "execute_result",
          "data": {
            "text/plain": [
              "0"
            ]
          },
          "metadata": {},
          "execution_count": 52
        }
      ]
    },
    {
      "cell_type": "code",
      "source": [
        "i = int(input())\n",
        "output = x2(i)\n",
        "print(output)"
      ],
      "metadata": {
        "colab": {
          "base_uri": "https://localhost:8080/"
        },
        "id": "Bxn7nmcyMXIn",
        "outputId": "3eb3bdc2-d99f-4955-f01c-fa263c2120e2"
      },
      "execution_count": null,
      "outputs": [
        {
          "output_type": "stream",
          "name": "stdout",
          "text": [
            "2\n",
            "4\n"
          ]
        }
      ]
    },
    {
      "cell_type": "code",
      "source": [
        "def x3(q):\n",
        "    Q = q + 1\n",
        "    return q ** 2, Q, True"
      ],
      "metadata": {
        "id": "bb2WvDfwMz7k"
      },
      "execution_count": null,
      "outputs": []
    },
    {
      "cell_type": "code",
      "source": [
        "x3(4)"
      ],
      "metadata": {
        "colab": {
          "base_uri": "https://localhost:8080/"
        },
        "id": "wv4D3_rONLFA",
        "outputId": "df08c253-4162-4dfd-9942-3ae82c499431"
      },
      "execution_count": null,
      "outputs": [
        {
          "output_type": "execute_result",
          "data": {
            "text/plain": [
              "(16, 5, True)"
            ]
          },
          "metadata": {},
          "execution_count": 60
        }
      ]
    },
    {
      "cell_type": "code",
      "source": [
        "def plus(a, b):\n",
        "    return a + b"
      ],
      "metadata": {
        "id": "-Wn7cEv1NMlQ"
      },
      "execution_count": null,
      "outputs": []
    },
    {
      "cell_type": "code",
      "source": [
        "plus(2, 3)"
      ],
      "metadata": {
        "colab": {
          "base_uri": "https://localhost:8080/"
        },
        "id": "jmtnfTyjPokw",
        "outputId": "bbd559e4-fef7-444d-b744-c73bc53a9068"
      },
      "execution_count": null,
      "outputs": [
        {
          "output_type": "execute_result",
          "data": {
            "text/plain": [
              "5"
            ]
          },
          "metadata": {},
          "execution_count": 63
        }
      ]
    },
    {
      "cell_type": "code",
      "source": [
        "plus(-4,1)"
      ],
      "metadata": {
        "colab": {
          "base_uri": "https://localhost:8080/"
        },
        "id": "8YXS-jpFPqGL",
        "outputId": "b880182b-630b-40f4-910c-21c34889f65b"
      },
      "execution_count": null,
      "outputs": [
        {
          "output_type": "execute_result",
          "data": {
            "text/plain": [
              "-3"
            ]
          },
          "metadata": {},
          "execution_count": 64
        }
      ]
    },
    {
      "cell_type": "code",
      "source": [
        "for i in range(5):\n",
        "    print(plus(i, 4))"
      ],
      "metadata": {
        "colab": {
          "base_uri": "https://localhost:8080/"
        },
        "id": "9lLUELgtPtVq",
        "outputId": "a4fbdf96-1a7f-4467-dd02-d41658291060"
      },
      "execution_count": null,
      "outputs": [
        {
          "output_type": "stream",
          "name": "stdout",
          "text": [
            "4\n",
            "5\n",
            "6\n",
            "7\n",
            "8\n"
          ]
        }
      ]
    },
    {
      "cell_type": "code",
      "source": [
        "def odd(a):\n",
        "    if a % 2 == 0:\n",
        "        return False\n",
        "    else:\n",
        "        return True"
      ],
      "metadata": {
        "id": "mxMJ4BMBQcxf"
      },
      "execution_count": null,
      "outputs": []
    },
    {
      "cell_type": "code",
      "source": [
        "odd(109)"
      ],
      "metadata": {
        "colab": {
          "base_uri": "https://localhost:8080/"
        },
        "id": "JwmADENcQnCg",
        "outputId": "438313b0-94d7-4ea8-983b-54b0aecd650c"
      },
      "execution_count": null,
      "outputs": [
        {
          "output_type": "execute_result",
          "data": {
            "text/plain": [
              "True"
            ]
          },
          "metadata": {},
          "execution_count": 67
        }
      ]
    },
    {
      "cell_type": "code",
      "source": [
        "# lambda x: 4 * x"
      ],
      "metadata": {
        "id": "DsdfIO5VQoAk"
      },
      "execution_count": null,
      "outputs": []
    },
    {
      "cell_type": "code",
      "source": [
        "plus = lambda x: 4 * x"
      ],
      "metadata": {
        "id": "5-XSgKwdRNXA"
      },
      "execution_count": null,
      "outputs": []
    },
    {
      "cell_type": "code",
      "source": [
        "plus(4)"
      ],
      "metadata": {
        "colab": {
          "base_uri": "https://localhost:8080/"
        },
        "id": "51pchbWARRZq",
        "outputId": "3b963189-309f-4f48-a0d1-5de6a222d1db"
      },
      "execution_count": null,
      "outputs": [
        {
          "output_type": "execute_result",
          "data": {
            "text/plain": [
              "16"
            ]
          },
          "metadata": {},
          "execution_count": 72
        }
      ]
    },
    {
      "cell_type": "code",
      "source": [
        "plus = lambda x, y: 4 * (x + y)"
      ],
      "metadata": {
        "id": "CpLpL-IuRVjw"
      },
      "execution_count": null,
      "outputs": []
    },
    {
      "cell_type": "code",
      "source": [
        "plus(2,3)"
      ],
      "metadata": {
        "colab": {
          "base_uri": "https://localhost:8080/"
        },
        "id": "3VvZRpMDRhcL",
        "outputId": "079b4d5a-12e0-40b9-8868-8be9e622cbd3"
      },
      "execution_count": null,
      "outputs": [
        {
          "output_type": "execute_result",
          "data": {
            "text/plain": [
              "20"
            ]
          },
          "metadata": {},
          "execution_count": 74
        }
      ]
    },
    {
      "cell_type": "code",
      "source": [
        "import math\n",
        "from math import sqrt"
      ],
      "metadata": {
        "id": "D2vGj3XRRjCR"
      },
      "execution_count": null,
      "outputs": []
    },
    {
      "cell_type": "code",
      "source": [
        "sqrt(4)"
      ],
      "metadata": {
        "colab": {
          "base_uri": "https://localhost:8080/"
        },
        "id": "VZuR181xSaqE",
        "outputId": "81d7af65-4ff4-469d-a645-8e9e842357cf"
      },
      "execution_count": null,
      "outputs": [
        {
          "output_type": "execute_result",
          "data": {
            "text/plain": [
              "2.0"
            ]
          },
          "metadata": {},
          "execution_count": 76
        }
      ]
    },
    {
      "cell_type": "code",
      "source": [
        "math.sqrt(4)"
      ],
      "metadata": {
        "colab": {
          "base_uri": "https://localhost:8080/"
        },
        "id": "636sBsnASc1S",
        "outputId": "03303b69-54a9-4a6f-d4e4-4d469f2d9f1a"
      },
      "execution_count": null,
      "outputs": [
        {
          "output_type": "execute_result",
          "data": {
            "text/plain": [
              "2.0"
            ]
          },
          "metadata": {},
          "execution_count": 77
        }
      ]
    },
    {
      "cell_type": "code",
      "source": [
        "pi = math.pi"
      ],
      "metadata": {
        "id": "wfYoxlvcSfXZ"
      },
      "execution_count": null,
      "outputs": []
    },
    {
      "cell_type": "code",
      "source": [
        "math.sin(pi) # math.sin(math.pi)"
      ],
      "metadata": {
        "colab": {
          "base_uri": "https://localhost:8080/"
        },
        "id": "89v9sniBSiRi",
        "outputId": "1fc12726-5b60-44dd-d9fd-9c565c0c80cd"
      },
      "execution_count": null,
      "outputs": [
        {
          "output_type": "execute_result",
          "data": {
            "text/plain": [
              "1.2246467991473532e-16"
            ]
          },
          "metadata": {},
          "execution_count": 81
        }
      ]
    },
    {
      "cell_type": "code",
      "source": [
        "from math import *"
      ],
      "metadata": {
        "id": "-H1OQZZxSmdm"
      },
      "execution_count": null,
      "outputs": []
    },
    {
      "cell_type": "code",
      "source": [
        "sin(4)"
      ],
      "metadata": {
        "colab": {
          "base_uri": "https://localhost:8080/"
        },
        "id": "6cU0ZuEhS2Pq",
        "outputId": "00d52f63-dd0b-458d-8345-74a24f9c4815"
      },
      "execution_count": null,
      "outputs": [
        {
          "output_type": "execute_result",
          "data": {
            "text/plain": [
              "-0.7568024953079282"
            ]
          },
          "metadata": {},
          "execution_count": 83
        }
      ]
    },
    {
      "cell_type": "code",
      "source": [
        "log(2)"
      ],
      "metadata": {
        "colab": {
          "base_uri": "https://localhost:8080/"
        },
        "id": "XXjTZ8vOS3v6",
        "outputId": "736ad88b-402b-4648-d595-b012879c9524"
      },
      "execution_count": null,
      "outputs": [
        {
          "output_type": "execute_result",
          "data": {
            "text/plain": [
              "0.6931471805599453"
            ]
          },
          "metadata": {},
          "execution_count": 84
        }
      ]
    },
    {
      "cell_type": "code",
      "source": [
        "log10(10)"
      ],
      "metadata": {
        "colab": {
          "base_uri": "https://localhost:8080/"
        },
        "id": "ao20xRHjS8EM",
        "outputId": "145cc893-1ed1-4cf5-adf3-0686cff94065"
      },
      "execution_count": null,
      "outputs": [
        {
          "output_type": "execute_result",
          "data": {
            "text/plain": [
              "1.0"
            ]
          },
          "metadata": {},
          "execution_count": 85
        }
      ]
    },
    {
      "cell_type": "code",
      "source": [
        "log10(2)"
      ],
      "metadata": {
        "colab": {
          "base_uri": "https://localhost:8080/"
        },
        "id": "YxcrpGaFS_Dx",
        "outputId": "406cba26-0dc9-4b37-dbff-6082c013723a"
      },
      "execution_count": null,
      "outputs": [
        {
          "output_type": "execute_result",
          "data": {
            "text/plain": [
              "0.3010299956639812"
            ]
          },
          "metadata": {},
          "execution_count": 86
        }
      ]
    },
    {
      "cell_type": "code",
      "source": [
        "import math"
      ],
      "metadata": {
        "id": "ZADfFEHgTAao"
      },
      "execution_count": null,
      "outputs": []
    },
    {
      "cell_type": "code",
      "source": [
        "math."
      ],
      "metadata": {
        "id": "cEmRMDiCTKmZ"
      },
      "execution_count": null,
      "outputs": []
    },
    {
      "cell_type": "code",
      "source": [
        "# انواع روش‌های استفاده از توابع داخل یک package\n",
        "# import math # math.sin(2)\n",
        "# from math import sin # sin(2)\n",
        "# from math import * # sin(2), tan(2), log(2)"
      ],
      "metadata": {
        "id": "yIkFWhUdTUY4"
      },
      "execution_count": null,
      "outputs": []
    },
    {
      "cell_type": "code",
      "source": [
        "math.radians(180)"
      ],
      "metadata": {
        "colab": {
          "base_uri": "https://localhost:8080/"
        },
        "id": "1VBq3sqRTZwK",
        "outputId": "4cec315d-43ce-4dda-9c2c-02f4e5203010"
      },
      "execution_count": null,
      "outputs": [
        {
          "output_type": "execute_result",
          "data": {
            "text/plain": [
              "3.141592653589793"
            ]
          },
          "metadata": {},
          "execution_count": 90
        }
      ]
    },
    {
      "cell_type": "code",
      "source": [
        "# open()"
      ],
      "metadata": {
        "id": "aMHg0y-gTySm"
      },
      "execution_count": null,
      "outputs": []
    },
    {
      "cell_type": "code",
      "source": [
        "# path /user/mohammad/python_project/test.txt\n",
        "# path C:\\\\user\\\\mohammad\\\\python_project\\\\test.txt\n",
        "# path \\\\user\\\\mohammad\\\\python_project/test.txt ترکیب این دو ارور میدهد"
      ],
      "metadata": {
        "id": "aczrNyBsV6Yd"
      },
      "execution_count": null,
      "outputs": []
    },
    {
      "cell_type": "code",
      "source": [
        "file = open('./test.txt', 'r')"
      ],
      "metadata": {
        "id": "MhaA7bmuVrWh"
      },
      "execution_count": null,
      "outputs": []
    },
    {
      "cell_type": "code",
      "source": [
        "print(file.read())"
      ],
      "metadata": {
        "colab": {
          "base_uri": "https://localhost:8080/"
        },
        "id": "V513P0BtXRHx",
        "outputId": "9457879d-14c0-4bf8-9f32-411fded2ec08"
      },
      "execution_count": null,
      "outputs": [
        {
          "output_type": "stream",
          "name": "stdout",
          "text": [
            "salam\n"
          ]
        }
      ]
    },
    {
      "cell_type": "code",
      "source": [
        "file = open('./test.txt', 'r') # read\n",
        "print(file.read())"
      ],
      "metadata": {
        "colab": {
          "base_uri": "https://localhost:8080/"
        },
        "id": "4oMW7JxEXbym",
        "outputId": "a1c5f7c7-110e-45ce-a3ca-11f7b712ba62"
      },
      "execution_count": null,
      "outputs": [
        {
          "output_type": "stream",
          "name": "stdout",
          "text": [
            "salam\n",
            "salam2\n",
            "salam3\n",
            "\n",
            "\n",
            "\n",
            "khodahafez\n"
          ]
        }
      ]
    },
    {
      "cell_type": "code",
      "source": [
        "file = open('../test2.txt', 'r') # read\n",
        "print(file.read())"
      ],
      "metadata": {
        "colab": {
          "base_uri": "https://localhost:8080/"
        },
        "id": "7aBNE4wnXk7D",
        "outputId": "181f03af-6196-4181-fcff-f0143c059171"
      },
      "execution_count": null,
      "outputs": [
        {
          "output_type": "stream",
          "name": "stdout",
          "text": [
            "salam az folder ghbli\n"
          ]
        }
      ]
    },
    {
      "cell_type": "code",
      "source": [
        "# open('/test2.txt', 'r'), open('../test2.txt', 'r') /content/test.txt"
      ],
      "metadata": {
        "id": "cXAmlobqY7DF"
      },
      "execution_count": null,
      "outputs": []
    },
    {
      "cell_type": "code",
      "source": [
        "\"\"\"\n",
        "fkal;sjdowinfskjfda\n",
        "nadsjklgfoauielwjvbldbv\n",
        "njadgfjksdvnuoadsiv\n",
        "\"\"\""
      ],
      "metadata": {
        "id": "gCXSATm5aXTf"
      },
      "execution_count": null,
      "outputs": []
    },
    {
      "cell_type": "code",
      "source": [
        "\n",
        "def x2(x = None):\n",
        "    if x != None:\n",
        "        y = x ** 2\n",
        "        return y\n",
        "    else:\n",
        "        print(\"voroodi vared nashode\")\n",
        "\n",
        "print(x2(5))\n",
        "print(x2(10))\n",
        "print(x2())"
      ],
      "metadata": {
        "colab": {
          "base_uri": "https://localhost:8080/"
        },
        "id": "WW7PJxNRdDzN",
        "outputId": "125e1408-a11b-466d-8c61-a497719f9c19"
      },
      "execution_count": null,
      "outputs": [
        {
          "output_type": "stream",
          "name": "stdout",
          "text": [
            "25\n",
            "100\n",
            "voroodi vared nashode\n",
            "None\n"
          ]
        }
      ]
    },
    {
      "cell_type": "code",
      "source": [
        "f = open('news.txt', 'r')\n",
        "f.read()"
      ],
      "metadata": {
        "id": "d8onBytUdFes",
        "colab": {
          "base_uri": "https://localhost:8080/",
          "height": 191
        },
        "outputId": "c5115359-2b68-49ad-900d-4e4ba22467e4"
      },
      "execution_count": null,
      "outputs": [
        {
          "output_type": "execute_result",
          "data": {
            "text/plain": [
              "'Wi-fi web reaches farmers in Peru\\n\\nA network of community computer centres, linked by wireless technology, is providing a helping hand for poor farmers in Peru.\\n\\nThe pilot scheme in the Huaral Valley, 80 kilometres north of the capital Lima, aims to offer the 6,000-strong community up-to-date information on agricultural market prices and trends. The Agricultural Information Project for Farmers of the Chancay-Huaral Valley also provides vital links between local organisations in charge of water irrigation, enabling them to coordinate their actions. More than 13,000 rural inhabitants, as well as 18,000 students in the region, will also benefit from the telecoms infrastructure.\\n\\nThe 14 telecentres uses only free open source software and affordable computer equipment. The network has been three years in the making and was officially inaugurated in September.\\n\\nThe non-government organisation, Cepes (Peruvian Centre for Social Studies) led the $200,000 project, also backed by local institutions, the Education and Agriculture ministries, and European development organisations. \"The plan includes training on computers and internet skills for both operators and users of the system,\" said Carlos Saldarriaga, technical coordinator at Cepes. Farmers are also taking extra lessons on how to apply the new information to make the most of their plots of land. The Board of Irrigation Users which runs the computer centres, aims to make the network self-sustainable within three years, through the cash generated by using the telecentres as internet cafes.\\n\\nOne of the key elements of the project is the Agricultural Information System, with its flagship huaral.org website. There, farmers can find the prices for local produce, as well as information on topics ranging from plague prevention to the latest farming techniques. The system also helps the inhabitants of the Chancay-Huaral Valley to organise their vital irrigation systems. \"Water is the main element that unites them all. It is a precious element in Peru\\'s coastal areas, because it is so scarce, and therefore it is necessary to have proper irrigation systems to make the most of it,\" Mr Saldarriaga told the BBC News website. The information network also allows farmers to look beyond their own region, and share experiences with other colleagues from the rest of Peru and even around the world.\\n\\nCepes says the involvement of the farmers has been key in the project\\'s success. \"Throughout the last three years, the people have provided a vital thrust to the project; they feel it belongs to them,\" said Mr Saldarriaga. The community training sessions, attended by an equal number of men and women, have been the perfect showcase for their enthusiasm. \"We have had an excellent response, mainly from young people. But we have also had a great feedback when we trained 40 or 50-year old women, who were seeing a computer for the first time in their lives.\" So far, the Huaral programme promoters say the experience has been very positive, and are already planning on spreading the model among other farmers\\' organisations in Peru. \"This is a pilot project, and we have been very keen on its cloning potential in other places,\" underlined Mr Saldarriaga.\\n\\nThe Cepes researcher recalls what happened in Cuyo, a 50-family community with no electricity, during the construction of the local telecentre site. There it was necessary to build a mini-hydraulic dam in order to generate 2kW worth of power for the computers, the communications equipment and the cabin lights. \"It was already dark when the technicians realised they didn\\'t have any light bulbs to test the generator, so they turned up to the local store to buy light bulbs,\" recalls Carlos Saldarriaga. \"The logical answer was \\'we don\\'t sell any\\', so they had to wait until the next morning to do the testing.\" Now, with the wireless network, Cuyo as well as the other communities is no longer isolated.\\n'"
            ],
            "application/vnd.google.colaboratory.intrinsic+json": {
              "type": "string"
            }
          },
          "metadata": {},
          "execution_count": 1
        }
      ]
    },
    {
      "cell_type": "code",
      "source": [
        "news = f.read()"
      ],
      "metadata": {
        "id": "eC0OHU9Jq5So"
      },
      "execution_count": null,
      "outputs": []
    },
    {
      "cell_type": "markdown",
      "source": [
        "\\n یعنی اینتر\n",
        "\n",
        "\n",
        "\\t یعنی تب"
      ],
      "metadata": {
        "id": "UE17WavJsMkw"
      }
    },
    {
      "cell_type": "code",
      "source": [
        "f = open('news.txt', 'r')\n",
        "f.readlines()"
      ],
      "metadata": {
        "colab": {
          "base_uri": "https://localhost:8080/"
        },
        "id": "6vW-6t0Frpwk",
        "outputId": "5a1a5aaf-a07b-450e-a25c-f91c957fd476"
      },
      "execution_count": null,
      "outputs": [
        {
          "output_type": "execute_result",
          "data": {
            "text/plain": [
              "['Wi-fi web reaches farmers in Peru\\n',\n",
              " '\\n',\n",
              " 'A network of community computer centres, linked by wireless technology, is providing a helping hand for poor farmers in Peru.\\n',\n",
              " '\\n',\n",
              " 'The pilot scheme in the Huaral Valley, 80 kilometres north of the capital Lima, aims to offer the 6,000-strong community up-to-date information on agricultural market prices and trends. The Agricultural Information Project for Farmers of the Chancay-Huaral Valley also provides vital links between local organisations in charge of water irrigation, enabling them to coordinate their actions. More than 13,000 rural inhabitants, as well as 18,000 students in the region, will also benefit from the telecoms infrastructure.\\n',\n",
              " '\\n',\n",
              " 'The 14 telecentres uses only free open source software and affordable computer equipment. The network has been three years in the making and was officially inaugurated in September.\\n',\n",
              " '\\n',\n",
              " 'The non-government organisation, Cepes (Peruvian Centre for Social Studies) led the $200,000 project, also backed by local institutions, the Education and Agriculture ministries, and European development organisations. \"The plan includes training on computers and internet skills for both operators and users of the system,\" said Carlos Saldarriaga, technical coordinator at Cepes. Farmers are also taking extra lessons on how to apply the new information to make the most of their plots of land. The Board of Irrigation Users which runs the computer centres, aims to make the network self-sustainable within three years, through the cash generated by using the telecentres as internet cafes.\\n',\n",
              " '\\n',\n",
              " 'One of the key elements of the project is the Agricultural Information System, with its flagship huaral.org website. There, farmers can find the prices for local produce, as well as information on topics ranging from plague prevention to the latest farming techniques. The system also helps the inhabitants of the Chancay-Huaral Valley to organise their vital irrigation systems. \"Water is the main element that unites them all. It is a precious element in Peru\\'s coastal areas, because it is so scarce, and therefore it is necessary to have proper irrigation systems to make the most of it,\" Mr Saldarriaga told the BBC News website. The information network also allows farmers to look beyond their own region, and share experiences with other colleagues from the rest of Peru and even around the world.\\n',\n",
              " '\\n',\n",
              " 'Cepes says the involvement of the farmers has been key in the project\\'s success. \"Throughout the last three years, the people have provided a vital thrust to the project; they feel it belongs to them,\" said Mr Saldarriaga. The community training sessions, attended by an equal number of men and women, have been the perfect showcase for their enthusiasm. \"We have had an excellent response, mainly from young people. But we have also had a great feedback when we trained 40 or 50-year old women, who were seeing a computer for the first time in their lives.\" So far, the Huaral programme promoters say the experience has been very positive, and are already planning on spreading the model among other farmers\\' organisations in Peru. \"This is a pilot project, and we have been very keen on its cloning potential in other places,\" underlined Mr Saldarriaga.\\n',\n",
              " '\\n',\n",
              " 'The Cepes researcher recalls what happened in Cuyo, a 50-family community with no electricity, during the construction of the local telecentre site. There it was necessary to build a mini-hydraulic dam in order to generate 2kW worth of power for the computers, the communications equipment and the cabin lights. \"It was already dark when the technicians realised they didn\\'t have any light bulbs to test the generator, so they turned up to the local store to buy light bulbs,\" recalls Carlos Saldarriaga. \"The logical answer was \\'we don\\'t sell any\\', so they had to wait until the next morning to do the testing.\" Now, with the wireless network, Cuyo as well as the other communities is no longer isolated.\\n']"
            ]
          },
          "metadata": {},
          "execution_count": 6
        }
      ]
    },
    {
      "cell_type": "code",
      "source": [
        "f = open('news.txt', 'r')\n",
        "news = f.read()"
      ],
      "metadata": {
        "id": "ApsaRdF7r38i"
      },
      "execution_count": null,
      "outputs": []
    },
    {
      "cell_type": "code",
      "source": [
        "news.split('\\n')[10:15]"
      ],
      "metadata": {
        "colab": {
          "base_uri": "https://localhost:8080/"
        },
        "id": "7tuHgF0TtExh",
        "outputId": "69643402-7035-4334-f331-7ee238124ff2"
      },
      "execution_count": null,
      "outputs": [
        {
          "output_type": "execute_result",
          "data": {
            "text/plain": [
              "['One of the key elements of the project is the Agricultural Information System, with its flagship huaral.org website. There, farmers can find the prices for local produce, as well as information on topics ranging from plague prevention to the latest farming techniques. The system also helps the inhabitants of the Chancay-Huaral Valley to organise their vital irrigation systems. \"Water is the main element that unites them all. It is a precious element in Peru\\'s coastal areas, because it is so scarce, and therefore it is necessary to have proper irrigation systems to make the most of it,\" Mr Saldarriaga told the BBC News website. The information network also allows farmers to look beyond their own region, and share experiences with other colleagues from the rest of Peru and even around the world.',\n",
              " '',\n",
              " 'Cepes says the involvement of the farmers has been key in the project\\'s success. \"Throughout the last three years, the people have provided a vital thrust to the project; they feel it belongs to them,\" said Mr Saldarriaga. The community training sessions, attended by an equal number of men and women, have been the perfect showcase for their enthusiasm. \"We have had an excellent response, mainly from young people. But we have also had a great feedback when we trained 40 or 50-year old women, who were seeing a computer for the first time in their lives.\" So far, the Huaral programme promoters say the experience has been very positive, and are already planning on spreading the model among other farmers\\' organisations in Peru. \"This is a pilot project, and we have been very keen on its cloning potential in other places,\" underlined Mr Saldarriaga.',\n",
              " '',\n",
              " 'The Cepes researcher recalls what happened in Cuyo, a 50-family community with no electricity, during the construction of the local telecentre site. There it was necessary to build a mini-hydraulic dam in order to generate 2kW worth of power for the computers, the communications equipment and the cabin lights. \"It was already dark when the technicians realised they didn\\'t have any light bulbs to test the generator, so they turned up to the local store to buy light bulbs,\" recalls Carlos Saldarriaga. \"The logical answer was \\'we don\\'t sell any\\', so they had to wait until the next morning to do the testing.\" Now, with the wireless network, Cuyo as well as the other communities is no longer isolated.']"
            ]
          },
          "metadata": {},
          "execution_count": 10
        }
      ]
    },
    {
      "cell_type": "code",
      "source": [
        "f = open('news.txt', 'r')\n",
        "print(f.readline())"
      ],
      "metadata": {
        "colab": {
          "base_uri": "https://localhost:8080/"
        },
        "id": "SWIq2hzZtI8M",
        "outputId": "a7845eca-4399-4e7d-9d85-5e7910355399"
      },
      "execution_count": null,
      "outputs": [
        {
          "output_type": "stream",
          "name": "stdout",
          "text": [
            "Wi-fi web reaches farmers in Peru\n",
            "\n"
          ]
        }
      ]
    },
    {
      "cell_type": "code",
      "source": [
        "with open('news.txt', 'r') as f:\n",
        "    print(f.read())"
      ],
      "metadata": {
        "colab": {
          "base_uri": "https://localhost:8080/"
        },
        "id": "iG0zBv0AtelD",
        "outputId": "a7230af4-7071-44f2-b5af-8142d807ee2e"
      },
      "execution_count": null,
      "outputs": [
        {
          "output_type": "stream",
          "name": "stdout",
          "text": [
            "Wi-fi web reaches farmers in Peru\n",
            "\n",
            "A network of community computer centres, linked by wireless technology, is providing a helping hand for poor farmers in Peru.\n",
            "\n",
            "The pilot scheme in the Huaral Valley, 80 kilometres north of the capital Lima, aims to offer the 6,000-strong community up-to-date information on agricultural market prices and trends. The Agricultural Information Project for Farmers of the Chancay-Huaral Valley also provides vital links between local organisations in charge of water irrigation, enabling them to coordinate their actions. More than 13,000 rural inhabitants, as well as 18,000 students in the region, will also benefit from the telecoms infrastructure.\n",
            "\n",
            "The 14 telecentres uses only free open source software and affordable computer equipment. The network has been three years in the making and was officially inaugurated in September.\n",
            "\n",
            "The non-government organisation, Cepes (Peruvian Centre for Social Studies) led the $200,000 project, also backed by local institutions, the Education and Agriculture ministries, and European development organisations. \"The plan includes training on computers and internet skills for both operators and users of the system,\" said Carlos Saldarriaga, technical coordinator at Cepes. Farmers are also taking extra lessons on how to apply the new information to make the most of their plots of land. The Board of Irrigation Users which runs the computer centres, aims to make the network self-sustainable within three years, through the cash generated by using the telecentres as internet cafes.\n",
            "\n",
            "One of the key elements of the project is the Agricultural Information System, with its flagship huaral.org website. There, farmers can find the prices for local produce, as well as information on topics ranging from plague prevention to the latest farming techniques. The system also helps the inhabitants of the Chancay-Huaral Valley to organise their vital irrigation systems. \"Water is the main element that unites them all. It is a precious element in Peru's coastal areas, because it is so scarce, and therefore it is necessary to have proper irrigation systems to make the most of it,\" Mr Saldarriaga told the BBC News website. The information network also allows farmers to look beyond their own region, and share experiences with other colleagues from the rest of Peru and even around the world.\n",
            "\n",
            "Cepes says the involvement of the farmers has been key in the project's success. \"Throughout the last three years, the people have provided a vital thrust to the project; they feel it belongs to them,\" said Mr Saldarriaga. The community training sessions, attended by an equal number of men and women, have been the perfect showcase for their enthusiasm. \"We have had an excellent response, mainly from young people. But we have also had a great feedback when we trained 40 or 50-year old women, who were seeing a computer for the first time in their lives.\" So far, the Huaral programme promoters say the experience has been very positive, and are already planning on spreading the model among other farmers' organisations in Peru. \"This is a pilot project, and we have been very keen on its cloning potential in other places,\" underlined Mr Saldarriaga.\n",
            "\n",
            "The Cepes researcher recalls what happened in Cuyo, a 50-family community with no electricity, during the construction of the local telecentre site. There it was necessary to build a mini-hydraulic dam in order to generate 2kW worth of power for the computers, the communications equipment and the cabin lights. \"It was already dark when the technicians realised they didn't have any light bulbs to test the generator, so they turned up to the local store to buy light bulbs,\" recalls Carlos Saldarriaga. \"The logical answer was 'we don't sell any', so they had to wait until the next morning to do the testing.\" Now, with the wireless network, Cuyo as well as the other communities is no longer isolated.\n",
            "\n"
          ]
        }
      ]
    },
    {
      "cell_type": "code",
      "source": [
        "# with open('news.txt', 'r') as f:\n",
        "#     line = f.readline()\n",
        "#     while line != '':\n",
        "#         print(line)\n",
        "#         line = f.readline()\n",
        "\n",
        "with open('news.txt', 'r') as f:\n",
        "    while True:\n",
        "        line = f.readline()\n",
        "        print(line)\n",
        "        if line == '':\n",
        "            break"
      ],
      "metadata": {
        "colab": {
          "base_uri": "https://localhost:8080/"
        },
        "id": "pVDtIU8puRA1",
        "outputId": "1d3ad8f7-f592-4b8f-f48d-c65e2fdd01ef"
      },
      "execution_count": null,
      "outputs": [
        {
          "output_type": "stream",
          "name": "stdout",
          "text": [
            "Wi-fi web reaches farmers in Peru\n",
            "\n",
            "\n",
            "\n",
            "A network of community computer centres, linked by wireless technology, is providing a helping hand for poor farmers in Peru.\n",
            "\n",
            "\n",
            "\n",
            "The pilot scheme in the Huaral Valley, 80 kilometres north of the capital Lima, aims to offer the 6,000-strong community up-to-date information on agricultural market prices and trends. The Agricultural Information Project for Farmers of the Chancay-Huaral Valley also provides vital links between local organisations in charge of water irrigation, enabling them to coordinate their actions. More than 13,000 rural inhabitants, as well as 18,000 students in the region, will also benefit from the telecoms infrastructure.\n",
            "\n",
            "\n",
            "\n",
            "The 14 telecentres uses only free open source software and affordable computer equipment. The network has been three years in the making and was officially inaugurated in September.\n",
            "\n",
            "\n",
            "\n",
            "The non-government organisation, Cepes (Peruvian Centre for Social Studies) led the $200,000 project, also backed by local institutions, the Education and Agriculture ministries, and European development organisations. \"The plan includes training on computers and internet skills for both operators and users of the system,\" said Carlos Saldarriaga, technical coordinator at Cepes. Farmers are also taking extra lessons on how to apply the new information to make the most of their plots of land. The Board of Irrigation Users which runs the computer centres, aims to make the network self-sustainable within three years, through the cash generated by using the telecentres as internet cafes.\n",
            "\n",
            "\n",
            "\n",
            "One of the key elements of the project is the Agricultural Information System, with its flagship huaral.org website. There, farmers can find the prices for local produce, as well as information on topics ranging from plague prevention to the latest farming techniques. The system also helps the inhabitants of the Chancay-Huaral Valley to organise their vital irrigation systems. \"Water is the main element that unites them all. It is a precious element in Peru's coastal areas, because it is so scarce, and therefore it is necessary to have proper irrigation systems to make the most of it,\" Mr Saldarriaga told the BBC News website. The information network also allows farmers to look beyond their own region, and share experiences with other colleagues from the rest of Peru and even around the world.\n",
            "\n",
            "\n",
            "\n",
            "Cepes says the involvement of the farmers has been key in the project's success. \"Throughout the last three years, the people have provided a vital thrust to the project; they feel it belongs to them,\" said Mr Saldarriaga. The community training sessions, attended by an equal number of men and women, have been the perfect showcase for their enthusiasm. \"We have had an excellent response, mainly from young people. But we have also had a great feedback when we trained 40 or 50-year old women, who were seeing a computer for the first time in their lives.\" So far, the Huaral programme promoters say the experience has been very positive, and are already planning on spreading the model among other farmers' organisations in Peru. \"This is a pilot project, and we have been very keen on its cloning potential in other places,\" underlined Mr Saldarriaga.\n",
            "\n",
            "\n",
            "\n",
            "The Cepes researcher recalls what happened in Cuyo, a 50-family community with no electricity, during the construction of the local telecentre site. There it was necessary to build a mini-hydraulic dam in order to generate 2kW worth of power for the computers, the communications equipment and the cabin lights. \"It was already dark when the technicians realised they didn't have any light bulbs to test the generator, so they turned up to the local store to buy light bulbs,\" recalls Carlos Saldarriaga. \"The logical answer was 'we don't sell any', so they had to wait until the next morning to do the testing.\" Now, with the wireless network, Cuyo as well as the other communities is no longer isolated.\n",
            "\n",
            "\n"
          ]
        }
      ]
    },
    {
      "cell_type": "code",
      "source": [
        "# with open('news.txt', 'r') as f:\n",
        "#     news2 = f.readlines()\n",
        "#\n",
        "news2 = []\n",
        "with open('news.txt', 'r') as f:\n",
        "    while True:\n",
        "        line = f.readline()\n",
        "        news2.append(line)\n",
        "        if line == '':\n",
        "            break"
      ],
      "metadata": {
        "id": "Pbcd9K2ounMK"
      },
      "execution_count": null,
      "outputs": []
    },
    {
      "cell_type": "code",
      "source": [
        "news2"
      ],
      "metadata": {
        "colab": {
          "base_uri": "https://localhost:8080/"
        },
        "id": "vC056rXsvTEN",
        "outputId": "9a26a0cb-d4ca-4e44-b15e-e6a58b837940"
      },
      "execution_count": null,
      "outputs": [
        {
          "output_type": "execute_result",
          "data": {
            "text/plain": [
              "['Wi-fi web reaches farmers in Peru\\n',\n",
              " '\\n',\n",
              " 'A network of community computer centres, linked by wireless technology, is providing a helping hand for poor farmers in Peru.\\n',\n",
              " '\\n',\n",
              " 'The pilot scheme in the Huaral Valley, 80 kilometres north of the capital Lima, aims to offer the 6,000-strong community up-to-date information on agricultural market prices and trends. The Agricultural Information Project for Farmers of the Chancay-Huaral Valley also provides vital links between local organisations in charge of water irrigation, enabling them to coordinate their actions. More than 13,000 rural inhabitants, as well as 18,000 students in the region, will also benefit from the telecoms infrastructure.\\n',\n",
              " '\\n',\n",
              " 'The 14 telecentres uses only free open source software and affordable computer equipment. The network has been three years in the making and was officially inaugurated in September.\\n',\n",
              " '\\n',\n",
              " 'The non-government organisation, Cepes (Peruvian Centre for Social Studies) led the $200,000 project, also backed by local institutions, the Education and Agriculture ministries, and European development organisations. \"The plan includes training on computers and internet skills for both operators and users of the system,\" said Carlos Saldarriaga, technical coordinator at Cepes. Farmers are also taking extra lessons on how to apply the new information to make the most of their plots of land. The Board of Irrigation Users which runs the computer centres, aims to make the network self-sustainable within three years, through the cash generated by using the telecentres as internet cafes.\\n',\n",
              " '\\n',\n",
              " 'One of the key elements of the project is the Agricultural Information System, with its flagship huaral.org website. There, farmers can find the prices for local produce, as well as information on topics ranging from plague prevention to the latest farming techniques. The system also helps the inhabitants of the Chancay-Huaral Valley to organise their vital irrigation systems. \"Water is the main element that unites them all. It is a precious element in Peru\\'s coastal areas, because it is so scarce, and therefore it is necessary to have proper irrigation systems to make the most of it,\" Mr Saldarriaga told the BBC News website. The information network also allows farmers to look beyond their own region, and share experiences with other colleagues from the rest of Peru and even around the world.\\n',\n",
              " '\\n',\n",
              " 'Cepes says the involvement of the farmers has been key in the project\\'s success. \"Throughout the last three years, the people have provided a vital thrust to the project; they feel it belongs to them,\" said Mr Saldarriaga. The community training sessions, attended by an equal number of men and women, have been the perfect showcase for their enthusiasm. \"We have had an excellent response, mainly from young people. But we have also had a great feedback when we trained 40 or 50-year old women, who were seeing a computer for the first time in their lives.\" So far, the Huaral programme promoters say the experience has been very positive, and are already planning on spreading the model among other farmers\\' organisations in Peru. \"This is a pilot project, and we have been very keen on its cloning potential in other places,\" underlined Mr Saldarriaga.\\n',\n",
              " '\\n',\n",
              " 'The Cepes researcher recalls what happened in Cuyo, a 50-family community with no electricity, during the construction of the local telecentre site. There it was necessary to build a mini-hydraulic dam in order to generate 2kW worth of power for the computers, the communications equipment and the cabin lights. \"It was already dark when the technicians realised they didn\\'t have any light bulbs to test the generator, so they turned up to the local store to buy light bulbs,\" recalls Carlos Saldarriaga. \"The logical answer was \\'we don\\'t sell any\\', so they had to wait until the next morning to do the testing.\" Now, with the wireless network, Cuyo as well as the other communities is no longer isolated.\\n',\n",
              " '']"
            ]
          },
          "metadata": {},
          "execution_count": 16
        }
      ]
    },
    {
      "cell_type": "code",
      "source": [
        "with open('news.txt', 'rb') as f:\n",
        "    print(f.read())"
      ],
      "metadata": {
        "colab": {
          "base_uri": "https://localhost:8080/"
        },
        "id": "sVfc6aDnvtcN",
        "outputId": "292f94f2-bc62-46f2-97fa-5e8588ea76a8"
      },
      "execution_count": null,
      "outputs": [
        {
          "output_type": "stream",
          "name": "stdout",
          "text": [
            "b'Wi-fi web reaches farmers in Peru\\n\\nA network of community computer centres, linked by wireless technology, is providing a helping hand for poor farmers in Peru.\\n\\nThe pilot scheme in the Huaral Valley, 80 kilometres north of the capital Lima, aims to offer the 6,000-strong community up-to-date information on agricultural market prices and trends. The Agricultural Information Project for Farmers of the Chancay-Huaral Valley also provides vital links between local organisations in charge of water irrigation, enabling them to coordinate their actions. More than 13,000 rural inhabitants, as well as 18,000 students in the region, will also benefit from the telecoms infrastructure.\\n\\nThe 14 telecentres uses only free open source software and affordable computer equipment. The network has been three years in the making and was officially inaugurated in September.\\n\\nThe non-government organisation, Cepes (Peruvian Centre for Social Studies) led the $200,000 project, also backed by local institutions, the Education and Agriculture ministries, and European development organisations. \"The plan includes training on computers and internet skills for both operators and users of the system,\" said Carlos Saldarriaga, technical coordinator at Cepes. Farmers are also taking extra lessons on how to apply the new information to make the most of their plots of land. The Board of Irrigation Users which runs the computer centres, aims to make the network self-sustainable within three years, through the cash generated by using the telecentres as internet cafes.\\n\\nOne of the key elements of the project is the Agricultural Information System, with its flagship huaral.org website. There, farmers can find the prices for local produce, as well as information on topics ranging from plague prevention to the latest farming techniques. The system also helps the inhabitants of the Chancay-Huaral Valley to organise their vital irrigation systems. \"Water is the main element that unites them all. It is a precious element in Peru\\'s coastal areas, because it is so scarce, and therefore it is necessary to have proper irrigation systems to make the most of it,\" Mr Saldarriaga told the BBC News website. The information network also allows farmers to look beyond their own region, and share experiences with other colleagues from the rest of Peru and even around the world.\\n\\nCepes says the involvement of the farmers has been key in the project\\'s success. \"Throughout the last three years, the people have provided a vital thrust to the project; they feel it belongs to them,\" said Mr Saldarriaga. The community training sessions, attended by an equal number of men and women, have been the perfect showcase for their enthusiasm. \"We have had an excellent response, mainly from young people. But we have also had a great feedback when we trained 40 or 50-year old women, who were seeing a computer for the first time in their lives.\" So far, the Huaral programme promoters say the experience has been very positive, and are already planning on spreading the model among other farmers\\' organisations in Peru. \"This is a pilot project, and we have been very keen on its cloning potential in other places,\" underlined Mr Saldarriaga.\\n\\nThe Cepes researcher recalls what happened in Cuyo, a 50-family community with no electricity, during the construction of the local telecentre site. There it was necessary to build a mini-hydraulic dam in order to generate 2kW worth of power for the computers, the communications equipment and the cabin lights. \"It was already dark when the technicians realised they didn\\'t have any light bulbs to test the generator, so they turned up to the local store to buy light bulbs,\" recalls Carlos Saldarriaga. \"The logical answer was \\'we don\\'t sell any\\', so they had to wait until the next morning to do the testing.\" Now, with the wireless network, Cuyo as well as the other communities is no longer isolated.\\n'\n"
          ]
        }
      ]
    },
    {
      "cell_type": "code",
      "source": [
        "with open('news2.txt', 'w') as f:\n",
        "    f.write(\"salam\")\n"
      ],
      "metadata": {
        "id": "5vX_JaNsv27E"
      },
      "execution_count": null,
      "outputs": []
    },
    {
      "cell_type": "code",
      "source": [
        "with open('news2.txt', 'w') as f:\n",
        "    for line in news2:\n",
        "        f.write(line)\n"
      ],
      "metadata": {
        "id": "XaXL_7fJxKHp"
      },
      "execution_count": null,
      "outputs": []
    },
    {
      "cell_type": "code",
      "source": [
        "# 'r', 'w', 'rb', 'wb', 'a', 'ab'"
      ],
      "metadata": {
        "id": "Tq9wMOXgxb_f"
      },
      "execution_count": null,
      "outputs": []
    },
    {
      "cell_type": "code",
      "source": [
        "with open('news3.txt', 'w') as f:\n",
        "    for line in range(10):\n",
        "        f.write(str(line))\n"
      ],
      "metadata": {
        "id": "PhqiuxJlxm6w"
      },
      "execution_count": null,
      "outputs": []
    },
    {
      "cell_type": "code",
      "source": [
        "with open('news3.txt', 'w') as f:\n",
        "    for line in range(10):\n",
        "        f.write(str(line) + '\\n')\n"
      ],
      "metadata": {
        "id": "TRs13YvXyEGJ"
      },
      "execution_count": null,
      "outputs": []
    },
    {
      "cell_type": "code",
      "source": [
        "with open('news3.txt', 'a') as f:\n",
        "    for line in range(10, 20):\n",
        "        f.write(str(line) + '\\n')\n"
      ],
      "metadata": {
        "id": "mJ8fGOcLyQ64"
      },
      "execution_count": null,
      "outputs": []
    },
    {
      "cell_type": "code",
      "source": [
        "with open('news3.txt', 'w') as f:\n",
        "    for line in range(10):\n",
        "        f.write(str(-line))\n"
      ],
      "metadata": {
        "id": "FjZJPVNJyegj"
      },
      "execution_count": null,
      "outputs": []
    },
    {
      "cell_type": "code",
      "source": [
        "import os"
      ],
      "metadata": {
        "id": "FLmo04T7yi-C"
      },
      "execution_count": null,
      "outputs": []
    },
    {
      "cell_type": "code",
      "source": [
        "! pwd"
      ],
      "metadata": {
        "colab": {
          "base_uri": "https://localhost:8080/"
        },
        "id": "RPweV2cBzwfy",
        "outputId": "e731892d-20a9-40fd-fb64-749b2fe0944c"
      },
      "execution_count": null,
      "outputs": [
        {
          "output_type": "stream",
          "name": "stdout",
          "text": [
            "/content\n"
          ]
        }
      ]
    },
    {
      "cell_type": "code",
      "source": [
        "os.chdir('..')"
      ],
      "metadata": {
        "id": "orxON44fzqBh"
      },
      "execution_count": null,
      "outputs": []
    },
    {
      "cell_type": "code",
      "source": [
        "! pwd"
      ],
      "metadata": {
        "colab": {
          "base_uri": "https://localhost:8080/"
        },
        "id": "3GU7F3Wtz0e-",
        "outputId": "6384f9cb-6ca4-42ff-bc21-02712b655e73"
      },
      "execution_count": null,
      "outputs": [
        {
          "output_type": "stream",
          "name": "stdout",
          "text": [
            "/\n"
          ]
        }
      ]
    },
    {
      "cell_type": "code",
      "source": [
        "os.chdir('./usr')"
      ],
      "metadata": {
        "id": "XXe1UrTjz1e8"
      },
      "execution_count": null,
      "outputs": []
    },
    {
      "cell_type": "code",
      "source": [
        "! pwd"
      ],
      "metadata": {
        "colab": {
          "base_uri": "https://localhost:8080/"
        },
        "id": "C_eqTFtkz4lh",
        "outputId": "8e65995b-b103-46ca-8d3a-53dd2492f55f"
      },
      "execution_count": null,
      "outputs": [
        {
          "output_type": "stream",
          "name": "stdout",
          "text": [
            "/usr\n"
          ]
        }
      ]
    },
    {
      "cell_type": "code",
      "source": [
        "os.chdir('../content') # os.chdir('/content')"
      ],
      "metadata": {
        "id": "rW8bo_ENz54X"
      },
      "execution_count": null,
      "outputs": []
    },
    {
      "cell_type": "code",
      "source": [
        "! pwd"
      ],
      "metadata": {
        "colab": {
          "base_uri": "https://localhost:8080/"
        },
        "id": "ShRary7N0J1N",
        "outputId": "ee4fef44-3912-410d-df09-d8f8618a786d"
      },
      "execution_count": null,
      "outputs": [
        {
          "output_type": "stream",
          "name": "stdout",
          "text": [
            "/content\n"
          ]
        }
      ]
    },
    {
      "cell_type": "code",
      "source": [
        "os.listdir('./')"
      ],
      "metadata": {
        "colab": {
          "base_uri": "https://localhost:8080/"
        },
        "id": "fPpfVjEZ0Npf",
        "outputId": "4c8406cc-3651-41fe-82a8-0a537ded7fc5"
      },
      "execution_count": null,
      "outputs": [
        {
          "output_type": "execute_result",
          "data": {
            "text/plain": [
              "['.config', 'news2.txt', 'news.txt', 'news3.txt', 'sample_data']"
            ]
          },
          "metadata": {},
          "execution_count": 33
        }
      ]
    },
    {
      "cell_type": "code",
      "source": [
        "os.getcwd()"
      ],
      "metadata": {
        "colab": {
          "base_uri": "https://localhost:8080/",
          "height": 35
        },
        "id": "fGDsHGfS0Q5z",
        "outputId": "257d8a8e-e260-4819-be29-3fd30b56ccad"
      },
      "execution_count": null,
      "outputs": [
        {
          "output_type": "execute_result",
          "data": {
            "text/plain": [
              "'/content'"
            ],
            "application/vnd.google.colaboratory.intrinsic+json": {
              "type": "string"
            }
          },
          "metadata": {},
          "execution_count": 34
        }
      ]
    },
    {
      "cell_type": "code",
      "source": [
        "os.mkdir('test_os')"
      ],
      "metadata": {
        "id": "se8VXO-70j--"
      },
      "execution_count": null,
      "outputs": []
    },
    {
      "cell_type": "code",
      "source": [
        "os.chdir('test_os')"
      ],
      "metadata": {
        "id": "Z9lxSoPp0-im"
      },
      "execution_count": null,
      "outputs": []
    },
    {
      "cell_type": "code",
      "source": [
        "os.path.exists('test.txt')"
      ],
      "metadata": {
        "colab": {
          "base_uri": "https://localhost:8080/"
        },
        "id": "2EhPJrVn1hqR",
        "outputId": "bb1c2a4d-e8bf-4ef9-e27a-16deef02f74e"
      },
      "execution_count": null,
      "outputs": [
        {
          "output_type": "execute_result",
          "data": {
            "text/plain": [
              "False"
            ]
          },
          "metadata": {},
          "execution_count": 37
        }
      ]
    },
    {
      "cell_type": "code",
      "source": [
        "with open('test.txt', 'r') as f:\n",
        "    print(f.read())"
      ],
      "metadata": {
        "colab": {
          "base_uri": "https://localhost:8080/",
          "height": 164
        },
        "id": "i7dLNGDB5wBR",
        "outputId": "9063bd0f-b130-4c8d-9b20-e5c77552380c"
      },
      "execution_count": null,
      "outputs": [
        {
          "output_type": "error",
          "ename": "FileNotFoundError",
          "evalue": "[Errno 2] No such file or directory: 'test.txt'",
          "traceback": [
            "\u001b[0;31m---------------------------------------------------------------------------\u001b[0m",
            "\u001b[0;31mFileNotFoundError\u001b[0m                         Traceback (most recent call last)",
            "\u001b[0;32m<ipython-input-46-a507e867ee1b>\u001b[0m in \u001b[0;36m<cell line: 1>\u001b[0;34m()\u001b[0m\n\u001b[0;32m----> 1\u001b[0;31m \u001b[0;32mwith\u001b[0m \u001b[0mopen\u001b[0m\u001b[0;34m(\u001b[0m\u001b[0;34m'test.txt'\u001b[0m\u001b[0;34m,\u001b[0m \u001b[0;34m'r'\u001b[0m\u001b[0;34m)\u001b[0m \u001b[0;32mas\u001b[0m \u001b[0mf\u001b[0m\u001b[0;34m:\u001b[0m\u001b[0;34m\u001b[0m\u001b[0;34m\u001b[0m\u001b[0m\n\u001b[0m\u001b[1;32m      2\u001b[0m         \u001b[0mprint\u001b[0m\u001b[0;34m(\u001b[0m\u001b[0mf\u001b[0m\u001b[0;34m.\u001b[0m\u001b[0mread\u001b[0m\u001b[0;34m(\u001b[0m\u001b[0;34m)\u001b[0m\u001b[0;34m)\u001b[0m\u001b[0;34m\u001b[0m\u001b[0;34m\u001b[0m\u001b[0m\n",
            "\u001b[0;31mFileNotFoundError\u001b[0m: [Errno 2] No such file or directory: 'test.txt'"
          ]
        }
      ]
    },
    {
      "cell_type": "code",
      "source": [
        "if os.path.exists('test.txt'):\n",
        "    with open('test.txt', 'r') as f:\n",
        "        print(f.read())\n",
        "else:\n",
        "    print(\"test.txt does not exist!\")\n",
        "    # exit() قطع کل برنامه"
      ],
      "metadata": {
        "id": "ueZS5jT71pHt",
        "colab": {
          "base_uri": "https://localhost:8080/"
        },
        "outputId": "97fbdaba-5a4c-4ee2-8155-4bb03459e987"
      },
      "execution_count": null,
      "outputs": [
        {
          "output_type": "stream",
          "name": "stdout",
          "text": [
            "test.txt does not exist!\n"
          ]
        }
      ]
    },
    {
      "cell_type": "code",
      "source": [
        "os.path.join('/content', 'news.txt')"
      ],
      "metadata": {
        "colab": {
          "base_uri": "https://localhost:8080/",
          "height": 35
        },
        "id": "xcNbF-Om1vRj",
        "outputId": "e1ac6509-4d92-4016-e13b-59682517d96e"
      },
      "execution_count": null,
      "outputs": [
        {
          "output_type": "execute_result",
          "data": {
            "text/plain": [
              "'/content/news.txt'"
            ],
            "application/vnd.google.colaboratory.intrinsic+json": {
              "type": "string"
            }
          },
          "metadata": {},
          "execution_count": 39
        }
      ]
    },
    {
      "cell_type": "code",
      "source": [
        "news_path = os.path.join('/content', 'news.txt')\n",
        "with open(news_path, 'r') as f:\n",
        "    print(f.read())"
      ],
      "metadata": {
        "id": "UJuQDNaK18LR"
      },
      "execution_count": null,
      "outputs": []
    },
    {
      "cell_type": "code",
      "source": [
        "for folder in os.listdir('/'):\n",
        "    print(folder, os.listdir(folder))"
      ],
      "metadata": {
        "colab": {
          "base_uri": "https://localhost:8080/",
          "height": 159
        },
        "id": "XLIgi8Ci2GO2",
        "outputId": "1c46b013-ad86-45c8-ce03-70ed7cf6daaf"
      },
      "execution_count": null,
      "outputs": [
        {
          "output_type": "error",
          "ename": "FileNotFoundError",
          "evalue": "[Errno 2] No such file or directory: 'home'",
          "traceback": [
            "\u001b[0;31m---------------------------------------------------------------------------\u001b[0m",
            "\u001b[0;31mFileNotFoundError\u001b[0m                         Traceback (most recent call last)",
            "\u001b[0;32m<ipython-input-40-868feabab6d7>\u001b[0m in \u001b[0;36m<cell line: 1>\u001b[0;34m()\u001b[0m\n\u001b[1;32m      1\u001b[0m \u001b[0;32mfor\u001b[0m \u001b[0mfolder\u001b[0m \u001b[0;32min\u001b[0m \u001b[0mos\u001b[0m\u001b[0;34m.\u001b[0m\u001b[0mlistdir\u001b[0m\u001b[0;34m(\u001b[0m\u001b[0;34m'/'\u001b[0m\u001b[0;34m)\u001b[0m\u001b[0;34m:\u001b[0m\u001b[0;34m\u001b[0m\u001b[0;34m\u001b[0m\u001b[0m\n\u001b[0;32m----> 2\u001b[0;31m     \u001b[0mprint\u001b[0m\u001b[0;34m(\u001b[0m\u001b[0mfolder\u001b[0m\u001b[0;34m,\u001b[0m \u001b[0mos\u001b[0m\u001b[0;34m.\u001b[0m\u001b[0mlistdir\u001b[0m\u001b[0;34m(\u001b[0m\u001b[0mfolder\u001b[0m\u001b[0;34m)\u001b[0m\u001b[0;34m)\u001b[0m\u001b[0;34m\u001b[0m\u001b[0;34m\u001b[0m\u001b[0m\n\u001b[0m",
            "\u001b[0;31mFileNotFoundError\u001b[0m: [Errno 2] No such file or directory: 'home'"
          ]
        }
      ]
    },
    {
      "cell_type": "code",
      "source": [
        "os.path.exists('/home')"
      ],
      "metadata": {
        "colab": {
          "base_uri": "https://localhost:8080/"
        },
        "id": "kA8x52rT2YwA",
        "outputId": "4dc8eadc-28f9-42cb-9212-719a4bf59bf4"
      },
      "execution_count": null,
      "outputs": [
        {
          "output_type": "execute_result",
          "data": {
            "text/plain": [
              "True"
            ]
          },
          "metadata": {},
          "execution_count": 43
        }
      ]
    },
    {
      "cell_type": "code",
      "source": [
        "os.listdir('/')"
      ],
      "metadata": {
        "colab": {
          "base_uri": "https://localhost:8080/"
        },
        "id": "qwxF3E0A2ggi",
        "outputId": "723005f0-27c5-49e2-93e6-b752334f1584"
      },
      "execution_count": null,
      "outputs": [
        {
          "output_type": "execute_result",
          "data": {
            "text/plain": [
              "['home',\n",
              " 'srv',\n",
              " 'bin',\n",
              " 'lib32',\n",
              " 'boot',\n",
              " 'mnt',\n",
              " 'proc',\n",
              " 'lib64',\n",
              " 'libx32',\n",
              " 'usr',\n",
              " 'lib',\n",
              " 'sbin',\n",
              " 'media',\n",
              " 'run',\n",
              " 'opt',\n",
              " 'tmp',\n",
              " 'dev',\n",
              " 'var',\n",
              " 'root',\n",
              " 'sys',\n",
              " 'etc',\n",
              " 'content',\n",
              " 'kaggle',\n",
              " '.dockerenv',\n",
              " 'datalab',\n",
              " 'tools',\n",
              " 'python-apt',\n",
              " 'NGC-DL-CONTAINER-LICENSE',\n",
              " 'cuda-keyring_1.0-1_all.deb']"
            ]
          },
          "metadata": {},
          "execution_count": 44
        }
      ]
    },
    {
      "cell_type": "code",
      "source": [
        "os.path.join('/', 'home')"
      ],
      "metadata": {
        "colab": {
          "base_uri": "https://localhost:8080/",
          "height": 36
        },
        "id": "JKBM3SWN7IjZ",
        "outputId": "af2b39c8-bca3-49e5-a40b-11503b56fe65"
      },
      "execution_count": null,
      "outputs": [
        {
          "output_type": "execute_result",
          "data": {
            "text/plain": [
              "'/home'"
            ],
            "application/vnd.google.colaboratory.intrinsic+json": {
              "type": "string"
            }
          },
          "metadata": {},
          "execution_count": 50
        }
      ]
    },
    {
      "cell_type": "code",
      "source": [
        "for folder in os.listdir('/'):\n",
        "    print(folder, os.listdir(os.path.join('/', folder)))"
      ],
      "metadata": {
        "colab": {
          "base_uri": "https://localhost:8080/",
          "height": 578
        },
        "id": "BS6hpHXa2QAW",
        "outputId": "9d371a09-20d7-42a4-9fb8-f6a84464d935"
      },
      "execution_count": null,
      "outputs": [
        {
          "output_type": "stream",
          "name": "stdout",
          "text": [
            "home []\n",
            "srv []\n",
            "bin ['apt-config', 'sdiff', 'more', 'sg', 'gpasswd', 'dmesg', 'realpath', 'setsid', 'rgrep', 'bash', 'ln', 'sensible-pager', 'tload', 'sync', 'unshare', 'skill', 'man', 'groups', 'du', 'basename', 'fallocate', 'gpgv', 'hostid', 'select-editor', 'getent', 'env', 'chmod', 'shred', 'uptime', 'chage', 'id', 'fmt', 'sort', 'pathchk', 'lslocks', 'dpkg-trigger', 'mount', 'zmore', 'factor', 'base64', 'dpkg-maintscript-helper', 'awk', 'shuf', 'zcmp', 'debconf-copydb', 'addpart', 'cut', 'head', 'false', 'prlimit', 'numfmt', 'egrep', 'scriptlive', 'ps', 'md5sum.textutils', 'runcon', 'ipcs', 'resizepart', 'pidwait', 'sed', 'domainname', 'linux32', 'partx', 'tzselect', 'dircolors', 'mountpoint', 'touch', 'bashbug', 'debconf-communicate', 'ipcmk', 'stty', 'sha256sum', 'dpkg-query', 'chattr', 'apt-cdrom', 'chsh', 'lsblk', 'getopt', 'whoami', 'newgrp', 'run-parts', 'update-alternatives', 'mknod', 'expiry', 'unexpand', 'whereis', 'getconf', 'apt-mark', 'chfn', 'lscpu', 'apt-cache', 'pldd', 'ionice', 'diff', 'grep', 'findmnt', 'pidof', 'slabtop', 'znew', 'nisdomainname', 'rbash', 'lsattr', 'debconf-escape', 'logname', 'mkfifo', 'split', 'chown', 'sha384sum', 'expand', 'nl', 'apt-key', 'link', 'vdir', 'tset', 'zfgrep', 'dpkg-divert', 'taskset', 'zcat', 'lsns', 'basenc', 'rm', 'zgrep', 'nohup', 'nawk', 'chrt', 'i386', 'ypdomainname', 'snice', 'perl5.34.0', 'zforce', 'debconf', 'ipcrm', 'uncompress', 'wc', 'printenv', 'namei', 'ldd', 'base32', 'df', 'arch', 'true', 'utmpdump', 'free', 'lslogins', 'zegrep', 'zdump', 'vmstat', 'find', 'dpkg-realpath', 'savelog', 'mesg', 'nice', 'fincore', 'timeout', 'clear_console', 'rmdir', 'sha224sum', 'dpkg', 'deb-systemd-invoke', 'kill', 'clear', 'renice', 'scriptreplay', 'users', 'od', 'diff3', 'dir', 'ischroot', 'csplit', 'umount', 'tic', 'passwd', 'md5sum', 'top', 'cksum', 'install', '[', 'fold', 'gzexe', 'mcookie', 'dpkg-deb', 'reset', 'mktemp', 'infocmp', 'tempfile', 'debconf-set-selections', 'dpkg-split', 'deb-systemd-helper', 'tail', 'dd', 'unlink', 'lsipc', 'login', 'script', 'sha512sum', 'sh', 'lastb', 'apt', 'linux64', 'mv', 'cp', 'lastlog', 'tabs', 'captoinfo', 'seq', 'setterm', 'tsort', 'fgrep', 'sha1sum', 'apt-get', 'zdiff', 'tty', 'mkdir', 'test', 'locale', 'paste', 'mawk', 'uclampset', 'pkill', 'x86_64', 'b2sum', 'toe', 'watch', 'pr', 'who', 'which', 'last', 'ptx', 'debconf-apt-progress', 'wall', 'truncate', 'setarch', 'sleep', 'tac', 'gzip', 'dash', 'tar', 'dnsdomainname', 'comm', 'localedef', 'pmap', 'stat', 'setpriv', 'sensible-browser', 'tee', 'dirname', 'logger', 'pwdx', 'pwd', 'tr', 'perl', 'locale-check', 'rev', 'which.debianutils', 'wdctl', 'echo', 'delpart', 'printf', 'faillog', 'stdbuf', 'hostname', 'uniq', 'cat', 'iconv', 'infotocap', 'chcon', 'debconf-show', 'pgrep', 'nproc', 'ls', 'expr', 'sensible-editor', 'flock', 'su', 'join', 'zless', 'uname', 'xargs', 'lsmem', 'dpkg-statoverride', 'pinky', 'gunzip', 'tput', 'w', 'chgrp', 'cmp', 'hardlink', 'nsenter', 'yes', 'readlink', 'pager', 'choom', 'sum', 'date', 'xdg-open', 'curl', 'python3.10', 'man.REAL', 'pdb3', 'xdg-mime', 'mpexpand', 'mm2gv', 'gtbl', 'cmake', 'oshcc', 'ompi-server', 'vimdot', 'tclsh', 'lessecho', 'h5cc', 'man-recode', 'jhsdb', 'gencnval', 'mandb', 'vimdiff', 'mispipe', 'ip', 'systemd-inhibit', 'jjs', 'jdeps', 'systemd-detect-virt', 'grotty', 'zipnote', 'fuser', 'nstat', 'dot2gxl', 'gsettings', 'xdg-screensaver', 'shmemrun', 'unzipsfx', 'ffmpeg', 'view', 'jshell', 'paperconf', 'gvpr', 'fio-genzipf', 'orted', 'pprof-symbolize', 'pee', 'ifne', 'pcre2-config', 'clang++-14', 'column', 'makeconv', 'unrar', 'routef', 'gdal-config', 'xxd', 'automake-1.16', 'uconv', 'fc-validate', 'mingle', 'wish8.6', 'krb5-config', 'pkttyagent', 'mpijavac', 'x86_64-linux-gnu-gfortran', 'lessfile', 'rmiregistry', 'fio', 'grog', 'jar', 'rlogin', 'pstree.x11', 'autom4te', 'mpicc.openmpi', 'bcomps', 'ul', 'javac', 'dh_autotools-dev_restoreconfig', 'unpack200', 'autoheader', 'zipcloak', 'patchwork', 'groff', 'systemd-umount', 'gapplication', 'autoscan', 'ts', 'pdb3.10', 'systemd-sysext', 'pslog', 'gfortran-11', 'mpirun.openmpi', 'update-mime-database', 'oshc++', 'gfortran', 'systemd-sysusers', 'browse', 'busctl', 'geos-config', 'libpng-config', 'gtk-update-icon-cache', 'javadoc', 'gdbus', 'dbus-cleanup-sockets', 'systemd-escape', 'xdg-email', 'open', 'nop', 'acyclic', 'ssh-keygen', 'page', 'mpicxx', 'mpicc', 'localectl', 'orte-info', 'resolvectl', 'gvgen', 'serialver', 'killall', 'systemd-run', 'pg_config', 'qt-faststart', 'python3.10-config', 'gpic', 'krb5-config.mit', 'jmap', 'ortecc', 'zip', 'vi', 'gvmap.sh', 'dh_autotools-dev_updateconfig', 'ssh-keyscan', 'java', 'jrunscript', 'xml2-config', 'systemd-cat', 'x86_64-linux-gnu-python3.10-config', 'sfdp', 'gxl2dot', 'zrun', 'jps', 'cluster', 'jstack', 'lsmod', 'dbus-daemon', 'jstatd', 'preconv', 'lckdo', 'Rscript', 'gvmap', 'keyring', 'fusermount', 'scp', 'ss', 'hexdump', 'ctest', 'shmemCC', 'lsof', 'git', 'ucfr', 'ucfq', 'xdg-settings', 'troff', 'tcldocstrip', 'dbus-update-activation-environment', 'tmux', 'lneato', 'funzip', 'gio-querymodules', 'systemd-mount', 'mpif90', 'isutf8', 'aclocal-1.16', 'fc-match', 'lsb_release', 'colcrt', 'vim', 'geqn', 'gvpack', 'ifnames', 'jimage', 'ifdata', 'fio_generate_plots', 'mpifort.openmpi', 'shmemc++', 'systemd-socket-activate', 'circo', 'lefty', 'rmic', 'hd', 'col', 'quickbook', 'oshcxx', 'pcre-config', 'mpijavac.pl', 'h5fc', 'git-receive-pack', 'rvim', 'inspect', 'rview', 'ulockmgr_server', 'dot', 'clang', 'aclocal', 'pt', '7zr', 'opalcc', 'jlink', 'ssh', 'rename', 'vimtutor', 'gencat', 'ffprobe', 'dijkstra', 'zipgrep', 'clinfo', 'grops', 'fc-list', 'opal_wrapper', 'keytool', 'javap', 'neqn', 'editor', 'tred', 'loginctl', 'pydoc3.10', 'lcf', 'shmemcc', 'pygettext3', 'rdma', 'fio2gnuplot', 'jmod', 'gencfu', 'routel', 'systemctl', 'apropos', 'dot_builtins', 'glib-compile-schemas', 'x86_64-linux-gnu-gfortran-11', 'osage', 'wish', 'tcltk-depends', 'f77', 'systemd-machine-id-setup', 'git-shell', 'systemd-id128', 'sponge', 'clang-cpp-14', 'clang-14', 'xauth', 'fc-scan', 'wget', 'jdb', 'gendict', 'google-pprof', 'rsync-ssl', 'prune', 'fio-btrace2fio', 'icuexportdata', 'opencv_version', 'ssh-copy-id', 'ssh-argv0', 'systemd-analyze', 'fc-conflist', 'vim.basic', 'py3versions', 'gxl2gv', 'libpng16-config', 'mpic++', 'prtstat', 'neato', 'curl-config', 'ex', 'mpiCC', 'rsh', 'fio_jsonplus_clat2csv', 'shmemcxx', 'clang++', 'pkg-config', 'sudo', 'ncursesw6-config', 'oshfort', 'ncurses6-config', 'systemd', 'mpif90.openmpi', 'opalc++', 'nnsd', 'dbus-monitor', 'opencv_annotation', 'protoc', 'pkexec', 'mpif77', 'gresource', 'm4', 'mpif77.openmpi', 'fc-cat', 'systemd-notify', 'networkctl', 'ompi_info', 'p7zip', 'R', 'vipe', 'opencv_waldboost_detector', 'oshrun', 'python3-config', 'ucf', 'pkaction', 'ffplay', 'dotty', 'catman', 'errno', 'systemd-stdio-bridge', 'manpath', 'file-rename', 'pkgdata', 'systemd-tmpfiles', 'pic', 'graphml2gv', 'write.ul', 'fc-cache', 'unflatten', 'kmod', 'fdp', 'dbus-run-session', '7za', 'apt-add-repository', 'xdg-icon-resource', 'opencv_visualisation', 'add-apt-repository', 'colrm', 'zipsplit', 'helpztags', 'timedatectl', 'lesspipe', 'mpirun', 'pkgconf', 'gc', 'mysql_config', 'journalctl', 'genrb', 'whatis', 'b2', 'nroff', 'h5c++', 'chronic', 'ncurses5-config', 'hostnamectl', '7z', 'asan_symbolize', 'systemd-cgls', 'jdeprscan', 'ssh-agent', 'unrar-nonfree', 'dbus-send', 'combine', 'sccmap', 'jaotc', 'edgepaint', 'oshmem_info', 'autoupdate', 'X11', 'parallel', 'systemd-tty-ask-password-agent', 'file', 'ogdi-config', 'tbl', 'sftp', 'genbrk', 'pack200', 'asan_symbolize-14', 'lesskey', 'opencv_model_diagnostics', 'systemd-path', 'aggregate_profile', 'mpic++.openmpi', 'ssh-add', 'jfr', 'jcmd', 'ncursesw5-config', 'ccomps', 'opencv_interactive-calibration', 'profile2mat', 'autoreconf', 'slogin', 'peekfd', 'gv2gml', 'bootctl', 'xdg-desktop-menu', 'xdg-desktop-icon', 'lnstat', 'mpiexec', 'bjam', 'systemd-cryptenroll', 'jinfo', 'cvtsudoers', 'cpack', 'python3', 'shmemfort', 'fc-query', 'ctstat', 'diffimg', 'mpiexec.openmpi', 'systemd-delta', 'pygettext3.10', 'tclsh8.6', 'jarsigner', 'rrsync', 'fio-dedupe', 'mpiCC.openmpi', 'py3compile', 'mpifort', 'dtplite', 'ompi-clean', 'vidir', 'gv2gxl', 'look', 'apt-ftparchive', 'py3clean', 'compile_et', 'git-upload-pack', 'mpicxx.openmpi', 'gvcolor', 'systemd-cgtop', 'fc-pattern', 'unzip', 'apt-sortpkgs', 'bcp', 'jexec', 'autoconf', 'gml2gv', 'nnslog', 'sudoreplay', 'rsync', 'zipinfo', 'genfio', 'orterun', 'orte-server', 'automake', 'derb', 'pydoc3', 'lexgrog', 'eqn', 'pstree', 'git-upload-archive', 'f95', 'kernel-install', 'orte-clean', 'write', 'jstat', 'pkcheck', 'rmid', 'rtstat', 'icuinfo', 'apt-extracttemplates', 'prename', 'soelim', 'x86_64-linux-gnu-python3-config', 'rcp', 'sudoedit', 'nc-config', 'systemd-ask-password', 'dbus-uuidgen', 'less', 'x86_64-linux-gnu-pkg-config', 'oshCC', 'twopi', 'nns', 'gio', 'git-lfs', 'fio-verify-state', 'xz', 'readelf', 'x86_64-linux-gnu-gcov-11', 'perlthanks', 'bunzip2', 'shasum', 'encguess', 'h2ph', 'x86_64-linux-gnu-gcov-dump', 'gold', 'zipdetails', 'x86_64-linux-gnu-strings', 'xzegrep', 'gcc-ranlib-11', 'x86_64-linux-gnu-gcc-nm-11', 'x86_64-linux-gnu-gcc-nm', 'c99', 'x86_64-linux-gnu-size', 'x86_64-linux-gnu-ld.bfd', 'gcc-nm', 'dpkg-architecture', 'xzfgrep', 'x86_64-linux-gnu-readelf', 'unxz', 'pod2man', 'splain', 'bzdiff', 'gcov-tool', 'make-first-existing-target', 'dpkg-name', 'unlzma', 'ld.gold', 'patch', 'x86_64-linux-gnu-strip', 'x86_64-linux-gnu-g++', 'dpkg-scansources', 'xsubpp', 'x86_64-linux-gnu-gcov-tool-11', 'ld.bfd', 'instmodsh', 'gcc-ar', 'bzegrep', 'x86_64-linux-gnu-gcc', 'lzless', 'dpkg-buildflags', 'cc', 'bzcat', 'ranlib', 'x86_64-linux-gnu-gcc-ranlib', 'cpan5.34-x86_64-linux-gnu', 'c89-gcc', 'x86_64-linux-gnu-as', 'gcov-dump', 'perlbug', 'objdump', 'rpcgen', 'lzmainfo', 'bzcmp', 'gcc-ar-11', 'lzfgrep', 'gcc', 'x86_64-linux-gnu-elfedit', 'bzmore', 'x86_64-linux-gnu-gcc-ar', 'gcov-tool-11', 'x86_64-linux-gnu-gold', 'piconv', 'dpkg-gencontrol', 'x86_64-linux-gnu-objdump', 'objcopy', 'perlivp', 'lzegrep', 'prove', 'gcc-ranlib', 'xzless', 'gcc-nm-11', 'c99-gcc', 'cpan', 'addr2line', 'x86_64-linux-gnu-cpp-11', 'g++', 'xzmore', 'c89', 'dpkg-scanpackages', 'xzdiff', 'make', 'nm', 'xzgrep', 'x86_64-linux-gnu-gcov', 'x86_64-linux-gnu-g++-11', 'dpkg-genbuildinfo', 'ptargrep', 'x86_64-linux-gnu-gprof', 'dpkg-source', 'x86_64-linux-gnu-nm', 'gcov', 'x86_64-linux-gnu-c++filt', 'lto-dump-11', 'x86_64-linux-gnu-dwp', 'x86_64-linux-gnu-gcc-11', 'pod2text', 'pod2html', 'bzip2recover', 'x86_64-linux-gnu-ld.gold', 'lzcmp', 'bzgrep', 'elfedit', 'lzgrep', 'dpkg-buildpackage', 'c++', 'c++filt', 'ar', 'x86_64-linux-gnu-ar', 'x86_64-linux-gnu-ranlib', 'strings', 'x86_64-linux-gnu-gcc-ranlib-11', 'dpkg-parsechangelog', 'xzcat', 'lzdiff', 'pod2usage', 'cpp', 'x86_64-linux-gnu-lto-dump-11', 'pl2pm', 'dpkg-vendor', 'perldoc', 'h2xs', 'dwp', 'x86_64-linux-gnu-ld', 'as', 'bzip2', 'size', 'streamzip', 'enc2xs', 'gprof', 'bzexe', 'x86_64-linux-gnu-objcopy', 'dpkg-distaddfile', 'gcc-11', 'lzcat', 'cpp-11', 'lzmore', 'x86_64-linux-gnu-gcov-tool', 'x86_64-linux-gnu-gcc-ar-11', 'podchecker', 'dpkg-genchanges', 'xzcmp', 'ptardiff', 'dpkg-checkbuilddeps', 'dpkg-shlibdeps', 'strip', 'libnetcfg', 'gcov-dump-11', 'ld', 'bzless', 'json_pp', 'dpkg-gensymbols', 'bzfgrep', 'lzma', 'ptar', 'corelist', 'g++-11', 'gmake', 'x86_64-linux-gnu-cpp', 'gcov-11', 'x86_64-linux-gnu-addr2line', 'perl5.34-x86_64-linux-gnu', 'dpkg-mergechangelogs', 'x86_64-linux-gnu-gcov-dump-11', 'c_rehash', 'openssl', 'gpg2', 'gpgsplit', 'watchgnupg', 'gpgconf', 'gpg', 'gpg-agent', 'pinentry', 'lspgpot', 'gpg-connect-agent', 'pinentry-curses', 'kbxutil', 'gpgsm', 'gpgcompose', 'gpg-zip', 'dirmngr-client', 'gpgtar', 'gpg-wks-server', 'dirmngr', 'gpgparsemail', 'migrate-pubring-from-classic-gpg']\n",
            "lib32 ['libresolv.so.2', 'libutil.so.1', 'libgcc_s.so.1', 'libstdc++.so.6', 'libthread_db.so.1', 'libm.so.6', 'libnss_dns.so.2', 'libmemusage.so', 'libnsl.so.1', 'libpthread.so.0', 'libnss_compat.so.2', 'libnss_hesiod.so.2', 'librt.so.1', 'libanl.so.1', 'libBrokenLocale.so.1', 'libpcprofile.so', 'libc_malloc_debug.so.0', 'libc.so.6', 'libdl.so.2', 'gconv', 'ld-linux.so.2', 'libstdc++.so.6.0.30', 'libnss_files.so.2']\n",
            "boot []\n",
            "mnt []\n",
            "proc ['fs', 'bus', 'dma', 'irq', 'net', 'sys', 'tty', 'acpi', 'keys', 'kmsg', 'misc', 'mtrr', 'scsi', 'stat', 'iomem', 'kcore', 'locks', 'swaps', 'crypto', 'driver', 'mdstat', 'mounts', 'uptime', 'vmstat', 'cgroups', 'cmdline', 'cpuinfo', 'devices', 'ioports', 'loadavg', 'meminfo', 'modules', 'sysvipc', 'version', 'consoles', 'kallsyms', 'pressure', 'slabinfo', 'softirqs', 'zoneinfo', 'buddyinfo', 'config.gz', 'diskstats', 'key-users', 'schedstat', 'interrupts', 'kpagecount', 'kpageflags', 'partitions', 'timer_list', 'execdomains', 'filesystems', 'kpagecgroup', 'vmallocinfo', 'pagetypeinfo', 'sysrq-trigger', 'self', 'thread-self', '1', '6', '15', '17', '19', '21', '61', '62', '79', '80', '1092', '1131', '1181', '1186', '13740']\n",
            "lib64 ['ld-linux-x86-64.so.2']\n",
            "libx32 []\n",
            "usr ['bin', 'lib32', 'src', 'lib64', 'libx32', 'include', 'local', 'lib', 'sbin', 'games', 'libexec', 'share', 'colab', 'grte']\n",
            "lib ['init', 'terminfo', 'x86_64-linux-gnu', 'tmpfiles.d', 'usrmerge', 'sysctl.d', 'mime', 'lsb', 'os-release', 'dpkg', 'systemd', 'apt', 'locale', 'udev', 'python3', 'R', 'libBLT.2.5.so.8.6', 'python3.10', 'tkConfig.sh', 'cmake', 'libvpf.so.4.1', 'python3.11', 'modules-load.d', 'libhdf4.settings', 'software-properties', 'bfd-plugins', 'kernel', 'libvpf.so', 'tclConfig.sh', 'groff', 'blt2.5', 'libarmadillo.so', 'dh-elpa', 'git-core', 'libmfhdfalt.la', 'ogdi', 'binfmt.d', 'valgrind', 'libmfhdfalt.so.0.0.0', 'tclooConfig.sh', 'pkgconf.multiarch', 'libdfalt.la', 'libpsm1', 'modprobe.d', 'man-db', 'libmfhdfalt.a', 'gcc', 'libBLTlite.2.5.so.8.6', 'clang', 'libarmadillo.so.10.8.2', 'dbus-1.0', 'jvm', 'libmfhdfalt.so', 'debug', 'libarmadillo.so.10', 'libogdi.so.4', 'python2.7', 'libdfalt.so', 'libdfalt.so.0.0.0', 'modules', 'llvm-14', 'libogdi.so', 'p7zip', 'emacsen-common', 'tcl8.6', 'environment.d', 'libogdi.so.4.1', 'pkgconfig', 'tcltk', 'pam.d', 'libmfhdfalt.so.0', 'sysusers.d', 'X11', 'tc', 'file', 'polkit-1', 'policykit-1', 'libdfalt.a', 'girepository-1.0', 'ld-linux.so.2', 'libvpf.so.4', 'tk8.6', 'openssh', 'libR.so', 'libdfalt.so.0', 'gold-ld', 'cpp', 'compat-ld', 'gnupg2', 'sasl2', 'ssl', 'gnupg']\n",
            "sbin ['killall5', 'policy-rc.d', 'e2scrub', 'newusers', 'findfs', 'update-passwd', 'wipefs', 'vigr', 'fsck.ext2', 'invoke-rc.d', 'ldconfig.real', 'adduser', 'pam_extrausers_update', 'groupmod', 'ctrlaltdel', 'installkernel', 'sysctl', 'chcpu', 'deluser', 'readprofile', 'mkswap', 'pam-auth-update', 'unix_chkpwd', 'tune2fs', 'resize2fs', 'tarcat', 'shadowconfig', 'mkfs.ext2', 'addgroup', 'zic', 'fstrim', 'e2mmpstatus', 'filefrag', 'badblocks', 'mkfs.ext3', 'cpgr', 'delgroup', 'chroot', 'switch_root', 'blkdiscard', 'pwunconv', 'chpasswd', 'isosize', 'nologin', 'iconvconfig', 'e2fsck', 'pam_timestamp_check', 'mkfs', 'rtcwake', 'fstab-decode', 'pwck', 'rmt-tar', 'dumpe2fs', 'fsck.ext3', 'mklost+found', 'e4crypt', 'userdel', 'agetty', 'pwconv', 'useradd', 'pam_getenv', 'mkfs.bfs', 'add-shell', 'fsck.minix', 'rmt', 'getty', 'chmem', 'grpconv', 'start-stop-daemon', 'groupadd', 'e2image', 'dpkg-preconfigure', 'blkzone', 'faillock', 'chgpasswd', 'update-shells', 'mke2fs', 'groupdel', 'swaplabel', 'remove-shell', 'mkfs.ext4', 'e2label', 'groupmems', 'cppw', 'e2undo', 'pam_extrausers_chkpwd', 'fsck.cramfs', 'zramctl', 'swapon', 'fsck', 'usermod', 'blkid', 'unix_update', 'debugfs', 'service', 'ldattach', 'ldconfig', 'grpck', 'mkfs.minix', 'runuser', 'e2freefrag', 'logsave', 'hwclock', 'losetup', 'update-rc.d', 'mkfs.cramfs', 'dpkg-reconfigure', 'grpunconv', 'pivot_root', 'vipw', 'blockdev', 'sulogin', 'initctl', 'e2scrub_all', 'mkhomedir_helper', 'swapoff', 'fsck.ext4', 'e4defrag', 'fsfreeze', 'docker-init', 'genccode', 'gensprep', 'init', 'arpd', 'ip', 'validlocale', 'libgvc6-config-update', 'visudo', 'paperconfig', 'devlink', 'insmod', 'sudo_sendlog', 'modprobe', 'capsh', 'dcb', 'telinit', 'sudo_logsrvd', 'depmod', 'update-icon-caches', 'lsmod', 'modinfo', 'gencmn', 'halt', 'locale-gen', 'genl', 'tipc', 'bridge', 'rmmod', 'getcap', 'mount.fuse', 'shutdown', 'setcap', 'update-java-alternatives', 'escapesrc', 'rtmon', 'vdpa', 'gennorm2', 'rtacct', 'update-locale', 'tc', 'icupkg', 'poweroff', 'runlevel', 'tzconfig', 'getpcaps', 'reboot', 'accessdb', 'addgnupghome', 'applygnupgdefaults', 'update-ca-certificates']\n",
            "media []\n",
            "run ['mount', 'lock', 'systemd', 'log', 'shm', 'sendsigs.omit.d', 'user']\n",
            "opt ['google', 'nvidia']\n",
            "tmp ['debugger_1mg8qfk7cp', 'language_service.e6270b0f336c.root.log.INFO.20240731-164045.1164', 'language_service.e6270b0f336c.root.log.INFO.20240731-164045.1181', 'dap_multiplexer.INFO', 'initgoogle_syslog_dir.0', 'language_service.INFO', 'tmpdsd99gy_', 'python-languageserver-cancellation', 'dap_multiplexer.e6270b0f336c.root.log.INFO.20240731-163626.80']\n",
            "dev ['core', 'stderr', 'stdout', 'stdin', 'fd', 'ptmx', 'fuse', 'urandom', 'zero', 'tty', 'full', 'random', 'null', 'shm', 'mqueue', 'pts']\n",
            "var ['spool', 'mail', 'lock', 'backups', 'local', 'lib', 'cache', 'log', 'run', 'opt', 'tmp', 'colab']\n",
            "root ['.profile', '.bashrc', '.local', '.jupyter', '.keras', '.tmux.conf', '.cache', '.config', '.wget-hsts', '.npm', '.ipython', '.launchpadlib']\n",
            "sys ['kernel', 'power', 'class', 'devices', 'dev', 'hypervisor', 'fs', 'bus', 'firmware', 'block', 'module']\n",
            "etc ['host.conf', 'xattr.conf', 'terminfo', 'ld.so.conf.d', 'bindresvport.blacklist', 'rc3.d', 'gss', 'kernel', 'rc4.d', 'deluser.conf', 'bash.bashrc', 'sysctl.d', 'machine-id', 'profile', 'default', 'resolv.conf', 'issue.net', 'init.d', 'sysctl.conf', 'rcS.d', 'gai.conf', 'profile.d', 'mke2fs.conf', 'rc2.d', 'legal', 'subuid', 'rmt', 'group', 'update-motd.d', 'cron.daily', '.pwd.lock', 'debconf.conf', 'debian_version', 'os-release', 'security', 'dpkg', 'alternatives', 'adduser.conf', 'rc1.d', 'passwd', 'gshadow', 'hosts', 'e2scrub.conf', 'systemd', 'login.defs', 'selinux', 'logrotate.d', 'apt', 'cron.d', 'rc0.d', 'libaudit.conf', 'ld.so.conf', 'subgid', 'pam.d', 'opt', 'cloud', 'skel', 'ld.so.cache', 'fstab', 'hostname', 'issue', 'netconfig', 'environment', 'shells', 'lsb-release', 'rc6.d', 'nsswitch.conf', 'pam.conf', 'networks', 'shadow', 'rc5.d', 'mtab', 'ipython', 'jupyter', 'requirements3.txt', 'requirements.in', 'requirements.user.in', 'requirements.core.in', 'pip.conf', 'R', 'python3.10', 'fonts', 'emacs', 'magic', 'gshadow-', 'modules-load.d', 'locale.gen', 'mysql', 'ucf.conf', 'tmpfiles.d', 'xdg', 'gtk-3.0', 'apparmor.d', 'odbc.ini', 'openmpi', 'localtime', 'sudoers.d', 'groff', 'sensors.d', 'depmod.d', 'papersize', 'magic.mime', 'ca-certificates', 'binfmt.d', 'sudo.conf', 'modprobe.d', 'vim', 'mime.types', 'java-11-openjdk', 'locale.alias', 'ssh', 'libnl-3', 'sudoers', 'PackageKit', 'group-', 'vdpau_wrapper.cfg', 'pulse', 'bash_completion.d', 'wgetrc', 'modules', 'sensors3.conf', 'shadow-', 'passwd-', 'manpath.config', '.java', 'ssl', 'timezone', 'odbcinst.ini', 'X11', 'libpaper.d', 'polkit-1', 'gitconfig', 'sudo_logsrvd.conf', 'libibverbs.d', 'python3', 'cron.weekly', 'dbus-1', 'openal', 'glvnd', 'dconf', 'iproute2', 'ODBCDataSources', 'fuse.conf', 'perl', 'cufile.json', 'logcheck', 'ca-certificates.conf', 'inputrc']\n",
            "content ['.config', 'news2.txt', 'news.txt', 'news3.txt', 'test_os', 'sample_data']\n",
            "kaggle ['input']\n"
          ]
        },
        {
          "output_type": "error",
          "ename": "NotADirectoryError",
          "evalue": "[Errno 20] Not a directory: '/.dockerenv'",
          "traceback": [
            "\u001b[0;31m---------------------------------------------------------------------------\u001b[0m",
            "\u001b[0;31mNotADirectoryError\u001b[0m                        Traceback (most recent call last)",
            "\u001b[0;32m<ipython-input-45-8f684962d67f>\u001b[0m in \u001b[0;36m<cell line: 1>\u001b[0;34m()\u001b[0m\n\u001b[1;32m      1\u001b[0m \u001b[0;32mfor\u001b[0m \u001b[0mfolder\u001b[0m \u001b[0;32min\u001b[0m \u001b[0mos\u001b[0m\u001b[0;34m.\u001b[0m\u001b[0mlistdir\u001b[0m\u001b[0;34m(\u001b[0m\u001b[0;34m'/'\u001b[0m\u001b[0;34m)\u001b[0m\u001b[0;34m:\u001b[0m\u001b[0;34m\u001b[0m\u001b[0;34m\u001b[0m\u001b[0m\n\u001b[0;32m----> 2\u001b[0;31m     \u001b[0mprint\u001b[0m\u001b[0;34m(\u001b[0m\u001b[0mfolder\u001b[0m\u001b[0;34m,\u001b[0m \u001b[0mos\u001b[0m\u001b[0;34m.\u001b[0m\u001b[0mlistdir\u001b[0m\u001b[0;34m(\u001b[0m\u001b[0mos\u001b[0m\u001b[0;34m.\u001b[0m\u001b[0mpath\u001b[0m\u001b[0;34m.\u001b[0m\u001b[0mjoin\u001b[0m\u001b[0;34m(\u001b[0m\u001b[0;34m'/'\u001b[0m\u001b[0;34m,\u001b[0m \u001b[0mfolder\u001b[0m\u001b[0;34m)\u001b[0m\u001b[0;34m)\u001b[0m\u001b[0;34m)\u001b[0m\u001b[0;34m\u001b[0m\u001b[0;34m\u001b[0m\u001b[0m\n\u001b[0m",
            "\u001b[0;31mNotADirectoryError\u001b[0m: [Errno 20] Not a directory: '/.dockerenv'"
          ]
        }
      ]
    },
    {
      "cell_type": "code",
      "source": [
        "home = os.path.join('/', 'home')"
      ],
      "metadata": {
        "id": "bprNbciz2l4z"
      },
      "execution_count": null,
      "outputs": []
    },
    {
      "cell_type": "code",
      "source": [
        "home + 'mohammad'"
      ],
      "metadata": {
        "colab": {
          "base_uri": "https://localhost:8080/",
          "height": 36
        },
        "id": "_LTyXl_87t4k",
        "outputId": "c8e6a08f-36c9-496e-efd2-7c8251e76ab5"
      },
      "execution_count": null,
      "outputs": [
        {
          "output_type": "execute_result",
          "data": {
            "text/plain": [
              "'/homemohammad'"
            ],
            "application/vnd.google.colaboratory.intrinsic+json": {
              "type": "string"
            }
          },
          "metadata": {},
          "execution_count": 52
        }
      ]
    },
    {
      "cell_type": "code",
      "source": [
        "os.path.join(home,'mohammad')"
      ],
      "metadata": {
        "colab": {
          "base_uri": "https://localhost:8080/",
          "height": 36
        },
        "id": "HvfmufLE7woj",
        "outputId": "c1f5c2a4-162c-443d-9d21-90d416e7dd15"
      },
      "execution_count": null,
      "outputs": [
        {
          "output_type": "execute_result",
          "data": {
            "text/plain": [
              "'/home/mohammad'"
            ],
            "application/vnd.google.colaboratory.intrinsic+json": {
              "type": "string"
            }
          },
          "metadata": {},
          "execution_count": 53
        }
      ]
    },
    {
      "cell_type": "code",
      "source": [
        "os.makedirs('/home', exist_ok=True)"
      ],
      "metadata": {
        "id": "5e4ERu_Y8WOJ"
      },
      "execution_count": null,
      "outputs": []
    },
    {
      "cell_type": "code",
      "source": [
        "for i in range(10):\n",
        "    for j in range(10):\n",
        "        print(i*j)"
      ],
      "metadata": {
        "colab": {
          "base_uri": "https://localhost:8080/"
        },
        "id": "dvVMU8aS8Y2M",
        "outputId": "d311371d-a268-465b-c20c-5fe7d09ee42e"
      },
      "execution_count": null,
      "outputs": [
        {
          "output_type": "stream",
          "name": "stdout",
          "text": [
            "0\n",
            "0\n",
            "0\n",
            "0\n",
            "0\n",
            "0\n",
            "0\n",
            "0\n",
            "0\n",
            "0\n",
            "0\n",
            "1\n",
            "2\n",
            "3\n",
            "4\n",
            "5\n",
            "6\n",
            "7\n",
            "8\n",
            "9\n",
            "0\n",
            "2\n",
            "4\n",
            "6\n",
            "8\n",
            "10\n",
            "12\n",
            "14\n",
            "16\n",
            "18\n",
            "0\n",
            "3\n",
            "6\n",
            "9\n",
            "12\n",
            "15\n",
            "18\n",
            "21\n",
            "24\n",
            "27\n",
            "0\n",
            "4\n",
            "8\n",
            "12\n",
            "16\n",
            "20\n",
            "24\n",
            "28\n",
            "32\n",
            "36\n",
            "0\n",
            "5\n",
            "10\n",
            "15\n",
            "20\n",
            "25\n",
            "30\n",
            "35\n",
            "40\n",
            "45\n",
            "0\n",
            "6\n",
            "12\n",
            "18\n",
            "24\n",
            "30\n",
            "36\n",
            "42\n",
            "48\n",
            "54\n",
            "0\n",
            "7\n",
            "14\n",
            "21\n",
            "28\n",
            "35\n",
            "42\n",
            "49\n",
            "56\n",
            "63\n",
            "0\n",
            "8\n",
            "16\n",
            "24\n",
            "32\n",
            "40\n",
            "48\n",
            "56\n",
            "64\n",
            "72\n",
            "0\n",
            "9\n",
            "18\n",
            "27\n",
            "36\n",
            "45\n",
            "54\n",
            "63\n",
            "72\n",
            "81\n"
          ]
        }
      ]
    },
    {
      "cell_type": "code",
      "source": [
        "name='mohammad'\n",
        "family='mohammadi'\n",
        "if name == 'mohammad':\n",
        "    if family == 'mohammadi':\n",
        "        print('correct')"
      ],
      "metadata": {
        "colab": {
          "base_uri": "https://localhost:8080/"
        },
        "id": "Bt3Fb0Yd88N6",
        "outputId": "c6bfe5db-1e20-4931-dfc6-18756cd717bd"
      },
      "execution_count": null,
      "outputs": [
        {
          "output_type": "stream",
          "name": "stdout",
          "text": [
            "correct\n"
          ]
        }
      ]
    },
    {
      "cell_type": "code",
      "source": [
        "name='mohammad'\n",
        "family='mohammadii'\n",
        "if name == 'mohammad' and family == 'mohammadi':\n",
        "    print('correct')\n",
        "else:\n",
        "    print(\"name or family is not correct\")"
      ],
      "metadata": {
        "colab": {
          "base_uri": "https://localhost:8080/"
        },
        "id": "uwbTj9SY9b4t",
        "outputId": "5d103ea8-4a05-4c89-881e-649dd26dfece"
      },
      "execution_count": null,
      "outputs": [
        {
          "output_type": "stream",
          "name": "stdout",
          "text": [
            "name or family is not correct\n"
          ]
        }
      ]
    },
    {
      "cell_type": "code",
      "source": [
        "name='mohammadi'\n",
        "family='mohammadi'\n",
        "if name == 'mohammad':\n",
        "    if family == 'mohammadi':\n",
        "        print('correct')\n",
        "    else:\n",
        "        print(\"family is not correct!\")\n",
        "else:\n",
        "    print(\"name is not correct\")"
      ],
      "metadata": {
        "colab": {
          "base_uri": "https://localhost:8080/"
        },
        "id": "VwcsvK2S9mp9",
        "outputId": "6aebc669-f4dc-4cd6-a981-6a52d0fa4740"
      },
      "execution_count": null,
      "outputs": [
        {
          "output_type": "stream",
          "name": "stdout",
          "text": [
            "name is not correct\n"
          ]
        }
      ]
    },
    {
      "cell_type": "code",
      "source": [
        "dict1 = {\n",
        "    'key1': 'value1',\n",
        "    'key2': 'value2'\n",
        "}"
      ],
      "metadata": {
        "id": "2sV5kuiq9wDG"
      },
      "execution_count": null,
      "outputs": []
    },
    {
      "cell_type": "code",
      "source": [
        "dict1['jey3']='value3'"
      ],
      "metadata": {
        "id": "O-NbrluN-Fh9"
      },
      "execution_count": null,
      "outputs": []
    },
    {
      "cell_type": "code",
      "source": [
        "import json"
      ],
      "metadata": {
        "id": "JF7yEAYI-IRJ"
      },
      "execution_count": null,
      "outputs": []
    },
    {
      "cell_type": "code",
      "source": [
        "with open('dict1.json', 'w') as f:\n",
        "    json.dump(dict1, f)"
      ],
      "metadata": {
        "id": "qiBKRYTk-LTD"
      },
      "execution_count": null,
      "outputs": []
    },
    {
      "cell_type": "code",
      "source": [
        "oo"
      ],
      "metadata": {
        "colab": {
          "base_uri": "https://localhost:8080/",
          "height": 146
        },
        "id": "0D8lUxFg-wso",
        "outputId": "7e41bcc7-7893-4eed-9ccd-b679f81a566f"
      },
      "execution_count": null,
      "outputs": [
        {
          "output_type": "error",
          "ename": "NameError",
          "evalue": "name 'oo' is not defined",
          "traceback": [
            "\u001b[0;31m---------------------------------------------------------------------------\u001b[0m",
            "\u001b[0;31mNameError\u001b[0m                                 Traceback (most recent call last)",
            "\u001b[0;32m<ipython-input-69-193f71a04933>\u001b[0m in \u001b[0;36m<cell line: 1>\u001b[0;34m()\u001b[0m\n\u001b[0;32m----> 1\u001b[0;31m \u001b[0moo\u001b[0m\u001b[0;34m\u001b[0m\u001b[0;34m\u001b[0m\u001b[0m\n\u001b[0m",
            "\u001b[0;31mNameError\u001b[0m: name 'oo' is not defined"
          ]
        }
      ]
    },
    {
      "cell_type": "code",
      "source": [
        "try:\n",
        "    print(oo)\n",
        "    sdnlkfgainf\n",
        "    sfmdliasonfgjksd\n",
        "    smdfkjshagklfmsd\n",
        "    sdmlvjadlhgf\n",
        "except:\n",
        "    print(\"oo is not defined!\")"
      ],
      "metadata": {
        "colab": {
          "base_uri": "https://localhost:8080/"
        },
        "id": "7tynDCl5-c65",
        "outputId": "a44aec0e-a86a-4321-f8b7-803dddc669d3"
      },
      "execution_count": null,
      "outputs": [
        {
          "output_type": "stream",
          "name": "stdout",
          "text": [
            "oo is not defined!\n"
          ]
        }
      ]
    },
    {
      "cell_type": "code",
      "source": [
        "with open('dict1.json', 'w') as f:\n",
        "    # json.dump(dict1, f)\n",
        "    f.write(dict1)"
      ],
      "metadata": {
        "colab": {
          "base_uri": "https://localhost:8080/",
          "height": 182
        },
        "id": "oU0eeT0x-6wx",
        "outputId": "ac7bf6bc-0f38-48f6-9d61-b7d0900a9fd5"
      },
      "execution_count": null,
      "outputs": [
        {
          "output_type": "error",
          "ename": "TypeError",
          "evalue": "write() argument must be str, not dict",
          "traceback": [
            "\u001b[0;31m---------------------------------------------------------------------------\u001b[0m",
            "\u001b[0;31mTypeError\u001b[0m                                 Traceback (most recent call last)",
            "\u001b[0;32m<ipython-input-72-2b52cfc9e49d>\u001b[0m in \u001b[0;36m<cell line: 1>\u001b[0;34m()\u001b[0m\n\u001b[1;32m      1\u001b[0m \u001b[0;32mwith\u001b[0m \u001b[0mopen\u001b[0m\u001b[0;34m(\u001b[0m\u001b[0;34m'dict1.json'\u001b[0m\u001b[0;34m,\u001b[0m \u001b[0;34m'w'\u001b[0m\u001b[0;34m)\u001b[0m \u001b[0;32mas\u001b[0m \u001b[0mf\u001b[0m\u001b[0;34m:\u001b[0m\u001b[0;34m\u001b[0m\u001b[0;34m\u001b[0m\u001b[0m\n\u001b[1;32m      2\u001b[0m     \u001b[0;31m# json.dump(dict1, f)\u001b[0m\u001b[0;34m\u001b[0m\u001b[0;34m\u001b[0m\u001b[0m\n\u001b[0;32m----> 3\u001b[0;31m     \u001b[0mf\u001b[0m\u001b[0;34m.\u001b[0m\u001b[0mwrite\u001b[0m\u001b[0;34m(\u001b[0m\u001b[0mdict1\u001b[0m\u001b[0;34m)\u001b[0m\u001b[0;34m\u001b[0m\u001b[0;34m\u001b[0m\u001b[0m\n\u001b[0m",
            "\u001b[0;31mTypeError\u001b[0m: write() argument must be str, not dict"
          ]
        }
      ]
    },
    {
      "cell_type": "code",
      "source": [
        "with open('dict1.json', 'r') as f:\n",
        "    dict2 = json.load(f)"
      ],
      "metadata": {
        "id": "SbrDP75h_Wky"
      },
      "execution_count": null,
      "outputs": []
    },
    {
      "cell_type": "code",
      "source": [
        "dict2"
      ],
      "metadata": {
        "colab": {
          "base_uri": "https://localhost:8080/"
        },
        "id": "os9YTDPF_l03",
        "outputId": "620f42e8-7e13-4022-eb6f-3f1b4d5f07c5"
      },
      "execution_count": null,
      "outputs": [
        {
          "output_type": "execute_result",
          "data": {
            "text/plain": [
              "{'key1': 'value1', 'key2': 'value2', 'jey3': 'value3'}"
            ]
          },
          "metadata": {},
          "execution_count": 76
        }
      ]
    },
    {
      "cell_type": "code",
      "source": [],
      "metadata": {
        "id": "aaUCOQUZ_rgd"
      },
      "execution_count": null,
      "outputs": []
    }
  ]
}