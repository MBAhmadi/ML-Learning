{
  "cells": [
    {
      "cell_type": "code",
      "execution_count": null,
      "metadata": {
        "id": "hTpvkc73xwBy"
      },
      "outputs": [],
      "source": [
        "! wget https://repo.anaconda.com/archive/Anaconda3-2024.06-1-Windows-x86_64.exe"
      ]
    },
    {
      "cell_type": "markdown",
      "metadata": {
        "id": "gQts8mrE_9XO"
      },
      "source": [
        "# Python Basic Syntax\n",
        "\n",
        "\n",
        "*   Variables type\n",
        "*   Operators\n",
        "*   Getting Input\n",
        "*   Conditions\n",
        "*   Loop (iterators)\n",
        "\n"
      ]
    },
    {
      "cell_type": "code",
      "execution_count": null,
      "metadata": {
        "colab": {
          "base_uri": "https://localhost:8080/"
        },
        "id": "5wteUSbNzmRw",
        "outputId": "f04310c5-8d87-4811-b34d-e3452a600a6d"
      },
      "outputs": [
        {
          "name": "stdout",
          "output_type": "stream",
          "text": [
            "Salam\n"
          ]
        }
      ],
      "source": [
        "print(\"Salam\")"
      ]
    },
    {
      "cell_type": "code",
      "execution_count": null,
      "metadata": {
        "colab": {
          "base_uri": "https://localhost:8080/"
        },
        "id": "W8OktSM2ExxY",
        "outputId": "bdba1384-8e71-446a-d508-a9f66fce12fc"
      },
      "outputs": [
        {
          "name": "stdout",
          "output_type": "stream",
          "text": [
            "سلام\n"
          ]
        }
      ],
      "source": [
        "print('سلام')"
      ]
    },
    {
      "cell_type": "code",
      "execution_count": null,
      "metadata": {
        "colab": {
          "base_uri": "https://localhost:8080/"
        },
        "id": "g9GxG5tJESDv",
        "outputId": "aa077a09-0192-4215-b864-dc109f710649"
      },
      "outputs": [
        {
          "name": "stdout",
          "output_type": "stream",
          "text": [
            "salam\n"
          ]
        }
      ],
      "source": [
        "# این یک کامنت است\n",
        "# دستور زیر یک پرینت سلام است\n",
        "print('salam')"
      ]
    },
    {
      "cell_type": "code",
      "execution_count": null,
      "metadata": {
        "colab": {
          "base_uri": "https://localhost:8080/"
        },
        "id": "b0Tz-3YkEjyB",
        "outputId": "4b5a2aaa-c7c3-4c77-b935-3d5a17372cdd"
      },
      "outputs": [
        {
          "name": "stdout",
          "output_type": "stream",
          "text": [
            "a\n"
          ]
        }
      ],
      "source": [
        "# Strings vs Character\n",
        "print('a') # 'a'"
      ]
    },
    {
      "cell_type": "code",
      "execution_count": null,
      "metadata": {
        "colab": {
          "base_uri": "https://localhost:8080/"
        },
        "id": "KA8go8PTEm32",
        "outputId": "5c27fb3d-9460-4be3-e2cd-7c511230e2d7"
      },
      "outputs": [
        {
          "name": "stdout",
          "output_type": "stream",
          "text": [
            "abas\n"
          ]
        }
      ],
      "source": [
        "print('abas') # \"abas\""
      ]
    },
    {
      "cell_type": "code",
      "execution_count": null,
      "metadata": {
        "id": "8rg0KL6WF90y"
      },
      "outputs": [],
      "source": [
        "print('a') # 'a' ajskbfjajksbgaouaeuewijbkfi   print(\"salam\")"
      ]
    },
    {
      "cell_type": "code",
      "execution_count": null,
      "metadata": {
        "colab": {
          "base_uri": "https://localhost:8080/"
        },
        "id": "d6dSd9Z0Gby5",
        "outputId": "b723faef-0dda-4894-9310-6a9eba1dcfc4"
      },
      "outputs": [
        {
          "name": "stdout",
          "output_type": "stream",
          "text": [
            "salam\n"
          ]
        }
      ],
      "source": [
        "print(\"salam\");"
      ]
    },
    {
      "cell_type": "code",
      "execution_count": null,
      "metadata": {
        "id": "I2vV25YUGdTE"
      },
      "outputs": [],
      "source": [
        "# akslfs\n",
        "# akslnfiiasf\n",
        "# manskfjabsr"
      ]
    },
    {
      "cell_type": "code",
      "execution_count": null,
      "metadata": {
        "id": "TmcDTIh_Gz1C"
      },
      "outputs": [],
      "source": [
        "# madgfn\n",
        "# njaek\n",
        "# jfao;sg\n",
        "# kjjsbbdst     crtl /"
      ]
    },
    {
      "cell_type": "code",
      "execution_count": null,
      "metadata": {
        "colab": {
          "base_uri": "https://localhost:8080/"
        },
        "id": "_iBkeYWcHBGx",
        "outputId": "094a00df-44f5-4483-e1a3-64e5f0ab5837"
      },
      "outputs": [
        {
          "name": "stdout",
          "output_type": "stream",
          "text": [
            "سلام\n",
            "خداحافظ\n"
          ]
        },
        {
          "data": {
            "text/plain": [
              "(None, None)"
            ]
          },
          "execution_count": 9,
          "metadata": {},
          "output_type": "execute_result"
        }
      ],
      "source": [
        "print(\"سلام\"), print(\"خداحافظ\")"
      ]
    },
    {
      "cell_type": "code",
      "execution_count": null,
      "metadata": {
        "id": "IfzHd0CxH0hs"
      },
      "outputs": [],
      "source": [
        "print(salam) # این کد ایراد دارد. متغیر سلام تعریف نشده است"
      ]
    },
    {
      "cell_type": "code",
      "execution_count": null,
      "metadata": {
        "id": "LBd2MdmZIul7"
      },
      "outputs": [],
      "source": [
        "# aaaaaaaaaaaaaaaaaaaaaaaaaaaaaaaaaaaaaa\n",
        "# aaaaaaaaaaaaaaaaaaaaaaaaaaaaaaaaaaaaaa\n",
        "# aaaaaaaaaaaaaaaaaaaaaaaaaaaaaaaaaaaaaaaaaaaaaaaaaaaaaaaaaaaaaaaaaaaaaaaaaaaaaaaaaaaaaaaaaaaaaaaaaaaaaaaaaaaaaaaaaaaaaaaaaaaaaaaaaaaaaaaaaaaaaaaaaaaaaaaaaaaaaaaaaaaaaaaaaaaaaaaaaaa"
      ]
    },
    {
      "cell_type": "code",
      "execution_count": null,
      "metadata": {
        "colab": {
          "base_uri": "https://localhost:8080/",
          "height": 146
        },
        "id": "9tHKf3y3JD00",
        "outputId": "6dfd893d-00b5-4f4d-df22-a121de1ef358"
      },
      "outputs": [
        {
          "ename": "NameError",
          "evalue": "name 'salam' is not defined",
          "output_type": "error",
          "traceback": [
            "\u001b[0;31m---------------------------------------------------------------------------\u001b[0m",
            "\u001b[0;31mNameError\u001b[0m                                 Traceback (most recent call last)",
            "\u001b[0;32m<ipython-input-10-0484178a56bb>\u001b[0m in \u001b[0;36m<cell line: 1>\u001b[0;34m()\u001b[0m\n\u001b[0;32m----> 1\u001b[0;31m \u001b[0mprint\u001b[0m\u001b[0;34m(\u001b[0m\u001b[0msalam\u001b[0m\u001b[0;34m)\u001b[0m\u001b[0;34m\u001b[0m\u001b[0;34m\u001b[0m\u001b[0m\n\u001b[0m",
            "\u001b[0;31mNameError\u001b[0m: name 'salam' is not defined"
          ]
        }
      ],
      "source": [
        "print(salam)"
      ]
    },
    {
      "cell_type": "code",
      "execution_count": null,
      "metadata": {
        "id": "LmbD9aR4JVg0"
      },
      "outputs": [],
      "source": [
        "a = 10\n",
        "b = 11"
      ]
    },
    {
      "cell_type": "code",
      "execution_count": null,
      "metadata": {
        "colab": {
          "base_uri": "https://localhost:8080/"
        },
        "id": "bsV_oyUxJnId",
        "outputId": "48ecdf3a-8c5c-47e0-f8ea-38e7dbffeed9"
      },
      "outputs": [
        {
          "name": "stdout",
          "output_type": "stream",
          "text": [
            "2\n"
          ]
        }
      ],
      "source": [
        "salam = 2\n",
        "print(salam)"
      ]
    },
    {
      "cell_type": "code",
      "execution_count": null,
      "metadata": {
        "id": "jsArxKwBJ5dC"
      },
      "outputs": [],
      "source": [
        "salam = 3"
      ]
    },
    {
      "cell_type": "code",
      "execution_count": null,
      "metadata": {
        "colab": {
          "base_uri": "https://localhost:8080/"
        },
        "id": "3C6qxm2sKHtl",
        "outputId": "c68c2d1e-6f06-4b88-dc07-e441ef55e93a"
      },
      "outputs": [
        {
          "name": "stdout",
          "output_type": "stream",
          "text": [
            "3\n"
          ]
        }
      ],
      "source": [
        "print(salam)"
      ]
    },
    {
      "cell_type": "code",
      "execution_count": null,
      "metadata": {
        "colab": {
          "base_uri": "https://localhost:8080/"
        },
        "id": "ZYOapDlOKJp-",
        "outputId": "9a533aa3-00a2-4ff4-bf0e-4537abe55436"
      },
      "outputs": [
        {
          "name": "stdout",
          "output_type": "stream",
          "text": [
            "1\n"
          ]
        }
      ],
      "source": [
        "print(1)"
      ]
    },
    {
      "cell_type": "code",
      "execution_count": null,
      "metadata": {
        "colab": {
          "base_uri": "https://localhost:8080/",
          "height": 146
        },
        "id": "KUZ7v29RL-7v",
        "outputId": "72e8d9e8-2473-487a-a964-6e8321e279f8"
      },
      "outputs": [
        {
          "ename": "NameError",
          "evalue": "name 'c' is not defined",
          "output_type": "error",
          "traceback": [
            "\u001b[0;31m---------------------------------------------------------------------------\u001b[0m",
            "\u001b[0;31mNameError\u001b[0m                                 Traceback (most recent call last)",
            "\u001b[0;32m<ipython-input-16-1dd5973cae19>\u001b[0m in \u001b[0;36m<cell line: 1>\u001b[0;34m()\u001b[0m\n\u001b[0;32m----> 1\u001b[0;31m \u001b[0mprint\u001b[0m\u001b[0;34m(\u001b[0m\u001b[0mc\u001b[0m\u001b[0;34m)\u001b[0m\u001b[0;34m\u001b[0m\u001b[0;34m\u001b[0m\u001b[0m\n\u001b[0m",
            "\u001b[0;31mNameError\u001b[0m: name 'c' is not defined"
          ]
        }
      ],
      "source": [
        "print(c)"
      ]
    },
    {
      "cell_type": "code",
      "execution_count": null,
      "metadata": {
        "colab": {
          "base_uri": "https://localhost:8080/"
        },
        "id": "2m1aD9_MMDDw",
        "outputId": "2e82de2f-6f19-4da8-8d70-6c415c8a18eb"
      },
      "outputs": [
        {
          "name": "stdout",
          "output_type": "stream",
          "text": [
            "4\n"
          ]
        }
      ],
      "source": [
        "print(4)"
      ]
    },
    {
      "cell_type": "code",
      "execution_count": null,
      "metadata": {
        "colab": {
          "base_uri": "https://localhost:8080/",
          "height": 110
        },
        "id": "lwbuG1hHMEYq",
        "outputId": "0a5e1c44-a933-49a2-95a2-973ca677dfeb"
      },
      "outputs": [
        {
          "ename": "SyntaxError",
          "evalue": "invalid character '۱' (U+06F1) (<ipython-input-19-36ee92ad88aa>, line 1)",
          "output_type": "error",
          "traceback": [
            "\u001b[0;36m  File \u001b[0;32m\"<ipython-input-19-36ee92ad88aa>\"\u001b[0;36m, line \u001b[0;32m1\u001b[0m\n\u001b[0;31m    print(۱) # این رو بعدا توضیح میدم چرا ارور داد\u001b[0m\n\u001b[0m          ^\u001b[0m\n\u001b[0;31mSyntaxError\u001b[0m\u001b[0;31m:\u001b[0m invalid character '۱' (U+06F1)\n"
          ]
        }
      ],
      "source": [
        "print(۱) # این رو بعدا توضیح میدم چرا ارور داد"
      ]
    },
    {
      "cell_type": "code",
      "execution_count": null,
      "metadata": {
        "colab": {
          "base_uri": "https://localhost:8080/"
        },
        "id": "JLchnW5lMs7A",
        "outputId": "20a96fa3-cab9-489f-daf1-029e96cf3c4f"
      },
      "outputs": [
        {
          "name": "stdout",
          "output_type": "stream",
          "text": [
            "<class 'int'>\n"
          ]
        }
      ],
      "source": [
        "print(type(4))"
      ]
    },
    {
      "cell_type": "code",
      "execution_count": null,
      "metadata": {
        "colab": {
          "base_uri": "https://localhost:8080/"
        },
        "id": "wm9lUk8mNP5N",
        "outputId": "dee9cf65-a059-4898-807c-ad9876a00662"
      },
      "outputs": [
        {
          "name": "stdout",
          "output_type": "stream",
          "text": [
            "<class 'int'>\n"
          ]
        }
      ],
      "source": [
        "print(type(9845098))"
      ]
    },
    {
      "cell_type": "code",
      "execution_count": null,
      "metadata": {
        "colab": {
          "base_uri": "https://localhost:8080/"
        },
        "id": "g9MT1G1qNV7o",
        "outputId": "a35b0aba-9ca0-45b7-d48a-58a3a414bd18"
      },
      "outputs": [
        {
          "data": {
            "text/plain": [
              "4"
            ]
          },
          "execution_count": 22,
          "metadata": {},
          "output_type": "execute_result"
        }
      ],
      "source": [
        "4"
      ]
    },
    {
      "cell_type": "code",
      "execution_count": null,
      "metadata": {
        "colab": {
          "base_uri": "https://localhost:8080/"
        },
        "id": "hwJL_woANxw_",
        "outputId": "6e33539e-ed5e-4b89-f434-116f1453c441"
      },
      "outputs": [
        {
          "name": "stdout",
          "output_type": "stream",
          "text": [
            "<class 'float'>\n"
          ]
        }
      ],
      "source": [
        "print(type(3.14))"
      ]
    },
    {
      "cell_type": "code",
      "execution_count": null,
      "metadata": {
        "colab": {
          "base_uri": "https://localhost:8080/"
        },
        "id": "U3TDCajbOAlZ",
        "outputId": "fbcca75a-a213-40e7-cf1e-f8066cdb4755"
      },
      "outputs": [
        {
          "name": "stdout",
          "output_type": "stream",
          "text": [
            "<class 'float'>\n"
          ]
        }
      ],
      "source": [
        "print(type(3.141596))"
      ]
    },
    {
      "cell_type": "code",
      "execution_count": null,
      "metadata": {
        "colab": {
          "base_uri": "https://localhost:8080/"
        },
        "id": "rfR1DZUZOJMg",
        "outputId": "cc1ccd9e-5697-4789-916d-e96fd68c92c0"
      },
      "outputs": [
        {
          "name": "stdout",
          "output_type": "stream",
          "text": [
            "<class 'bool'>\n"
          ]
        }
      ],
      "source": [
        "print(type(True))"
      ]
    },
    {
      "cell_type": "code",
      "execution_count": null,
      "metadata": {
        "colab": {
          "base_uri": "https://localhost:8080/"
        },
        "id": "tmimOXguOVdD",
        "outputId": "d2c3e3d5-a656-4b84-cb6d-b33111a9ecbf"
      },
      "outputs": [
        {
          "name": "stdout",
          "output_type": "stream",
          "text": [
            "<class 'bool'>\n"
          ]
        }
      ],
      "source": [
        "print(type(False))"
      ]
    },
    {
      "cell_type": "code",
      "execution_count": null,
      "metadata": {
        "colab": {
          "base_uri": "https://localhost:8080/"
        },
        "id": "FrYCW3CFOW76",
        "outputId": "233edb20-2288-49a4-a465-9c83a227c056"
      },
      "outputs": [
        {
          "name": "stdout",
          "output_type": "stream",
          "text": [
            "<class 'complex'>\n"
          ]
        }
      ],
      "source": [
        "print(type(2 + 4j))"
      ]
    },
    {
      "cell_type": "code",
      "execution_count": null,
      "metadata": {
        "id": "JyO_ZAkEOrod"
      },
      "outputs": [],
      "source": [
        "Aa = 4"
      ]
    },
    {
      "cell_type": "code",
      "execution_count": null,
      "metadata": {
        "id": "parI4UYHOwoT"
      },
      "outputs": [],
      "source": [
        "aa = 5"
      ]
    },
    {
      "cell_type": "code",
      "execution_count": null,
      "metadata": {
        "colab": {
          "base_uri": "https://localhost:8080/"
        },
        "id": "Pzc5IfyAOySp",
        "outputId": "6d443f9e-5891-4211-cba1-417cb2abcc5b"
      },
      "outputs": [
        {
          "name": "stdout",
          "output_type": "stream",
          "text": [
            "4 5\n"
          ]
        }
      ],
      "source": [
        "print(Aa, aa)"
      ]
    },
    {
      "cell_type": "code",
      "execution_count": null,
      "metadata": {
        "id": "YrpU-j5fPDDO"
      },
      "outputs": [],
      "source": [
        "# اینها با هم هیچ تفاوتی ندارند\n",
        "a=4\n",
        "a =4\n",
        "a = 4\n",
        "a       =                 4"
      ]
    },
    {
      "cell_type": "code",
      "execution_count": null,
      "metadata": {
        "id": "QRxF3XGAPe9d"
      },
      "outputs": [],
      "source": [
        "a = 4\n",
        "b = 3.14\n",
        "c = False\n",
        "d = 2 + 1j\n",
        "e = \"salam\" # فرقی بین رشته (جمله) و حرف (کارکتر) وجود ندارد\n",
        "f = 'س'"
      ]
    },
    {
      "cell_type": "code",
      "execution_count": null,
      "metadata": {
        "colab": {
          "base_uri": "https://localhost:8080/"
        },
        "id": "enxrSrRyP6df",
        "outputId": "dfb37ee3-ef84-44aa-c3fb-0f2f5827dcf9"
      },
      "outputs": [
        {
          "name": "stdout",
          "output_type": "stream",
          "text": [
            "4 3.14 False (2+1j) salam\n"
          ]
        }
      ],
      "source": [
        "print(a, b, c, d, e)"
      ]
    },
    {
      "cell_type": "code",
      "execution_count": null,
      "metadata": {
        "colab": {
          "base_uri": "https://localhost:8080/"
        },
        "id": "BcgOTtb4P7_v",
        "outputId": "3a58b4c8-2584-4dd6-d29c-b4b2a51b7a77"
      },
      "outputs": [
        {
          "name": "stdout",
          "output_type": "stream",
          "text": [
            "<class 'list'>\n"
          ]
        }
      ],
      "source": [
        "print(type([5]))"
      ]
    },
    {
      "cell_type": "code",
      "execution_count": null,
      "metadata": {
        "colab": {
          "base_uri": "https://localhost:8080/"
        },
        "id": "9ApoGkB3Rb0e",
        "outputId": "bee697c6-2cb1-48dd-84ef-d6eb58f2cb2c"
      },
      "outputs": [
        {
          "name": "stdout",
          "output_type": "stream",
          "text": [
            "<class 'list'>\n"
          ]
        }
      ],
      "source": [
        "print(type([5,3,2,7]))"
      ]
    },
    {
      "cell_type": "code",
      "execution_count": null,
      "metadata": {
        "id": "rbRZ4xavRlzT"
      },
      "outputs": [],
      "source": [
        "omid = [4,2,1,7,9]"
      ]
    },
    {
      "cell_type": "code",
      "execution_count": null,
      "metadata": {
        "colab": {
          "base_uri": "https://localhost:8080/"
        },
        "id": "9Dow-gy4RztI",
        "outputId": "c36caa4b-72de-45dd-efef-03e84c20d784"
      },
      "outputs": [
        {
          "name": "stdout",
          "output_type": "stream",
          "text": [
            "[4, 2, 1, 7, 9]\n"
          ]
        }
      ],
      "source": [
        "print(omid)"
      ]
    },
    {
      "cell_type": "code",
      "execution_count": null,
      "metadata": {
        "id": "haSW6Q9YR_kz"
      },
      "outputs": [],
      "source": [
        "omid = [4, 5, 3.14, 'a', \"salam\", 1+2j, True]"
      ]
    },
    {
      "cell_type": "code",
      "execution_count": null,
      "metadata": {
        "colab": {
          "base_uri": "https://localhost:8080/"
        },
        "id": "2afn_ZtQSRna",
        "outputId": "76a3683c-6cd5-4ca7-cf15-7fee5aea12cf"
      },
      "outputs": [
        {
          "name": "stdout",
          "output_type": "stream",
          "text": [
            "[4, 5, 3.14, 'a', 'salam', (1+2j), True]\n"
          ]
        }
      ],
      "source": [
        "print(omid)"
      ]
    },
    {
      "cell_type": "code",
      "execution_count": null,
      "metadata": {
        "colab": {
          "base_uri": "https://localhost:8080/"
        },
        "id": "y1RZs2XuSTb1",
        "outputId": "d2112c29-8504-456a-fb7e-1009902b535b"
      },
      "outputs": [
        {
          "name": "stdout",
          "output_type": "stream",
          "text": [
            "<class 'list'>\n"
          ]
        }
      ],
      "source": [
        "print(type(omid))"
      ]
    },
    {
      "cell_type": "code",
      "execution_count": null,
      "metadata": {
        "id": "xOMVvw8USfvH"
      },
      "outputs": [],
      "source": [
        " # array int omid = [1, 2, 3]"
      ]
    },
    {
      "cell_type": "code",
      "execution_count": null,
      "metadata": {
        "colab": {
          "base_uri": "https://localhost:8080/"
        },
        "id": "Vp1mDz4OSx10",
        "outputId": "9fd3fffa-0ddc-4053-c2b7-d9813951fd2c"
      },
      "outputs": [
        {
          "name": "stdout",
          "output_type": "stream",
          "text": [
            "<class 'tuple'>\n"
          ]
        }
      ],
      "source": [
        "print(type((1, 2, 3)))"
      ]
    },
    {
      "cell_type": "code",
      "execution_count": null,
      "metadata": {
        "colab": {
          "base_uri": "https://localhost:8080/"
        },
        "id": "mofTN56xS-vM",
        "outputId": "eb712028-0c73-4dd9-c36e-b98fbf68845f"
      },
      "outputs": [
        {
          "name": "stdout",
          "output_type": "stream",
          "text": [
            "<class 'set'>\n"
          ]
        }
      ],
      "source": [
        "print(type({1,2,3}))"
      ]
    },
    {
      "cell_type": "code",
      "execution_count": null,
      "metadata": {
        "colab": {
          "base_uri": "https://localhost:8080/"
        },
        "id": "6TNLmwguTWSS",
        "outputId": "1a0fecfb-56e9-4212-d19f-90262eeda8ca"
      },
      "outputs": [
        {
          "name": "stdout",
          "output_type": "stream",
          "text": [
            "<class 'dict'>\n"
          ]
        }
      ],
      "source": [
        "print(type({'mohammad' : 'javad'}))"
      ]
    },
    {
      "cell_type": "markdown",
      "metadata": {
        "id": "6kvkYNITwWZX"
      },
      "source": [
        "# Operations"
      ]
    },
    {
      "cell_type": "code",
      "execution_count": null,
      "metadata": {
        "colab": {
          "base_uri": "https://localhost:8080/"
        },
        "id": "7qAw6QDdi1nq",
        "outputId": "fc72bfbe-eece-4692-8e60-82edfbb2c5f6"
      },
      "outputs": [
        {
          "name": "stdout",
          "output_type": "stream",
          "text": [
            "5\n"
          ]
        }
      ],
      "source": [
        "print(2 + 3)"
      ]
    },
    {
      "cell_type": "code",
      "execution_count": null,
      "metadata": {
        "colab": {
          "base_uri": "https://localhost:8080/"
        },
        "id": "2b9Qwt8AkJ5l",
        "outputId": "8c231f26-1779-4d95-f418-e8cc040c280d"
      },
      "outputs": [
        {
          "name": "stdout",
          "output_type": "stream",
          "text": [
            "-1\n"
          ]
        }
      ],
      "source": [
        "print(2-3)"
      ]
    },
    {
      "cell_type": "code",
      "execution_count": null,
      "metadata": {
        "id": "nrV548BjkL9P"
      },
      "outputs": [],
      "source": [
        "a = 2\n",
        "b = 3"
      ]
    },
    {
      "cell_type": "code",
      "execution_count": null,
      "metadata": {
        "colab": {
          "base_uri": "https://localhost:8080/"
        },
        "id": "Mj1KdTQzkSlz",
        "outputId": "d4cadf24-0cb8-4004-85f3-1f9bbd844141"
      },
      "outputs": [
        {
          "name": "stdout",
          "output_type": "stream",
          "text": [
            "5\n"
          ]
        }
      ],
      "source": [
        "print(a+b)"
      ]
    },
    {
      "cell_type": "code",
      "execution_count": null,
      "metadata": {
        "colab": {
          "base_uri": "https://localhost:8080/"
        },
        "id": "QPKLbUs8kUhA",
        "outputId": "a73315a9-9069-4be6-8f41-77b5a11592db"
      },
      "outputs": [
        {
          "name": "stdout",
          "output_type": "stream",
          "text": [
            "6\n"
          ]
        }
      ],
      "source": [
        "print(2 * 3)"
      ]
    },
    {
      "cell_type": "code",
      "execution_count": null,
      "metadata": {
        "colab": {
          "base_uri": "https://localhost:8080/"
        },
        "id": "Q9M-g_a1knp1",
        "outputId": "55e996f5-2315-403f-9169-c68dbc8c5532"
      },
      "outputs": [
        {
          "name": "stdout",
          "output_type": "stream",
          "text": [
            "0.6666666666666666\n"
          ]
        }
      ],
      "source": [
        "print(2 / 3)"
      ]
    },
    {
      "cell_type": "code",
      "execution_count": null,
      "metadata": {
        "colab": {
          "base_uri": "https://localhost:8080/"
        },
        "id": "lDYPKzECkqPx",
        "outputId": "6efff284-9720-4d65-ed19-17912675bf68"
      },
      "outputs": [
        {
          "name": "stdout",
          "output_type": "stream",
          "text": [
            "0\n"
          ]
        }
      ],
      "source": [
        "print(2 // 3)"
      ]
    },
    {
      "cell_type": "code",
      "execution_count": null,
      "metadata": {
        "colab": {
          "base_uri": "https://localhost:8080/"
        },
        "id": "ropPWs5_kydo",
        "outputId": "cbcdb287-4752-4f90-e7af-5cb03d1f3fca"
      },
      "outputs": [
        {
          "name": "stdout",
          "output_type": "stream",
          "text": [
            "1\n"
          ]
        }
      ],
      "source": [
        "print(5 // 3)"
      ]
    },
    {
      "cell_type": "code",
      "execution_count": null,
      "metadata": {
        "colab": {
          "base_uri": "https://localhost:8080/"
        },
        "id": "64QwHkefk1qt",
        "outputId": "9b7e36ac-af8a-450b-bccf-061c67f08ce5"
      },
      "outputs": [
        {
          "name": "stdout",
          "output_type": "stream",
          "text": [
            "1.6666666666666667\n"
          ]
        }
      ],
      "source": [
        "print(5 / 3)"
      ]
    },
    {
      "cell_type": "code",
      "execution_count": null,
      "metadata": {
        "id": "lEG7pbFIk30t"
      },
      "outputs": [],
      "source": [
        "c = a + b"
      ]
    },
    {
      "cell_type": "code",
      "execution_count": null,
      "metadata": {
        "colab": {
          "base_uri": "https://localhost:8080/"
        },
        "id": "bWP7SdQSk_Sp",
        "outputId": "f21f1151-6cb1-460c-b5f3-3d46b5fb0553"
      },
      "outputs": [
        {
          "name": "stdout",
          "output_type": "stream",
          "text": [
            "5\n"
          ]
        }
      ],
      "source": [
        "print(c)"
      ]
    },
    {
      "cell_type": "code",
      "execution_count": null,
      "metadata": {
        "colab": {
          "base_uri": "https://localhost:8080/"
        },
        "id": "bL45x4eylAI1",
        "outputId": "aa4d80f0-4aff-455e-dce9-92853de9eb08"
      },
      "outputs": [
        {
          "name": "stdout",
          "output_type": "stream",
          "text": [
            "0.6666666666666666\n"
          ]
        }
      ],
      "source": [
        "print(2 / 3)"
      ]
    },
    {
      "cell_type": "code",
      "execution_count": null,
      "metadata": {
        "colab": {
          "base_uri": "https://localhost:8080/"
        },
        "id": "In5DhRxXlK1F",
        "outputId": "02e4b86c-7a5f-4dc9-e9b3-251dde7c3b68"
      },
      "outputs": [
        {
          "name": "stdout",
          "output_type": "stream",
          "text": [
            "0\n"
          ]
        }
      ],
      "source": [
        "print(2 // 3)"
      ]
    },
    {
      "cell_type": "code",
      "execution_count": null,
      "metadata": {
        "colab": {
          "base_uri": "https://localhost:8080/"
        },
        "id": "bKcOVGGOlMsm",
        "outputId": "84650ad5-ae99-48b4-8af3-408d4b84d723"
      },
      "outputs": [
        {
          "name": "stdout",
          "output_type": "stream",
          "text": [
            "0.99\n"
          ]
        }
      ],
      "source": [
        "print(99 / 100)"
      ]
    },
    {
      "cell_type": "code",
      "execution_count": null,
      "metadata": {
        "colab": {
          "base_uri": "https://localhost:8080/"
        },
        "id": "7IQt8t04lUtw",
        "outputId": "298d38eb-6a4d-492b-f784-c03aec97eea4"
      },
      "outputs": [
        {
          "name": "stdout",
          "output_type": "stream",
          "text": [
            "0\n"
          ]
        }
      ],
      "source": [
        "print(99 // 100)"
      ]
    },
    {
      "cell_type": "code",
      "execution_count": null,
      "metadata": {
        "colab": {
          "base_uri": "https://localhost:8080/"
        },
        "id": "v6uQxu5SlirM",
        "outputId": "9d4ba8e0-1f9c-47a7-a362-4196ba31b7f5"
      },
      "outputs": [
        {
          "name": "stdout",
          "output_type": "stream",
          "text": [
            "-1.7999999999999998\n"
          ]
        }
      ],
      "source": [
        "print(2.1 - 3.9)"
      ]
    },
    {
      "cell_type": "code",
      "execution_count": null,
      "metadata": {
        "colab": {
          "base_uri": "https://localhost:8080/"
        },
        "id": "9K9LQQ8nlkse",
        "outputId": "98cb1ce2-56cd-431b-cc20-9d4b52fc61e0"
      },
      "outputs": [
        {
          "name": "stdout",
          "output_type": "stream",
          "text": [
            "0.5384615384615385\n"
          ]
        }
      ],
      "source": [
        "print(2.1 / 3.9)"
      ]
    },
    {
      "cell_type": "code",
      "execution_count": null,
      "metadata": {
        "colab": {
          "base_uri": "https://localhost:8080/"
        },
        "id": "cRzn9BRkloP6",
        "outputId": "645acfa8-5e3b-4c30-890e-8da2af7f4ef7"
      },
      "outputs": [
        {
          "name": "stdout",
          "output_type": "stream",
          "text": [
            "0.0\n"
          ]
        }
      ],
      "source": [
        "print(2.1 // 3.9)"
      ]
    },
    {
      "cell_type": "code",
      "execution_count": null,
      "metadata": {
        "colab": {
          "base_uri": "https://localhost:8080/",
          "height": 146
        },
        "id": "miRpLPAFlqLh",
        "outputId": "9fd9d283-832b-4e75-af88-09a989223f80"
      },
      "outputs": [
        {
          "ename": "ZeroDivisionError",
          "evalue": "division by zero",
          "output_type": "error",
          "traceback": [
            "\u001b[0;31m---------------------------------------------------------------------------\u001b[0m",
            "\u001b[0;31mZeroDivisionError\u001b[0m                         Traceback (most recent call last)",
            "\u001b[0;32m<ipython-input-19-4bf1a7e4a751>\u001b[0m in \u001b[0;36m<cell line: 1>\u001b[0;34m()\u001b[0m\n\u001b[0;32m----> 1\u001b[0;31m \u001b[0mprint\u001b[0m\u001b[0;34m(\u001b[0m\u001b[0;36m4\u001b[0m\u001b[0;34m/\u001b[0m\u001b[0;36m0\u001b[0m\u001b[0;34m)\u001b[0m\u001b[0;34m\u001b[0m\u001b[0;34m\u001b[0m\u001b[0m\n\u001b[0m",
            "\u001b[0;31mZeroDivisionError\u001b[0m: division by zero"
          ]
        }
      ],
      "source": [
        "print(4/0)"
      ]
    },
    {
      "cell_type": "code",
      "execution_count": null,
      "metadata": {
        "colab": {
          "base_uri": "https://localhost:8080/"
        },
        "id": "p4vpZh-0mGZD",
        "outputId": "fb5b5a4f-f80d-489d-967f-2e94fa618d9e"
      },
      "outputs": [
        {
          "name": "stdout",
          "output_type": "stream",
          "text": [
            "400000000.0\n"
          ]
        }
      ],
      "source": [
        "epsilon=0.00000001\n",
        "print(4/(0 + epsilon))"
      ]
    },
    {
      "cell_type": "code",
      "execution_count": null,
      "metadata": {
        "colab": {
          "base_uri": "https://localhost:8080/"
        },
        "id": "GE_dC85imWcM",
        "outputId": "b8e0fb0e-1b67-4a13-896b-da5fa4a843a4"
      },
      "outputs": [
        {
          "data": {
            "text/plain": [
              "0.30000000000000004"
            ]
          },
          "execution_count": 21,
          "metadata": {},
          "output_type": "execute_result"
        }
      ],
      "source": [
        "0.1 + 0.2"
      ]
    },
    {
      "cell_type": "code",
      "execution_count": null,
      "metadata": {
        "colab": {
          "base_uri": "https://localhost:8080/"
        },
        "id": "YDa_yDXLnttr",
        "outputId": "33b12483-e6d0-477a-8d2f-38a8d750c81c"
      },
      "outputs": [
        {
          "data": {
            "text/plain": [
              "0.0001"
            ]
          },
          "execution_count": 23,
          "metadata": {},
          "output_type": "execute_result"
        }
      ],
      "source": [
        "1e-4"
      ]
    },
    {
      "cell_type": "code",
      "execution_count": null,
      "metadata": {
        "colab": {
          "base_uri": "https://localhost:8080/"
        },
        "id": "BvhHM94hn5Yf",
        "outputId": "54795f24-8226-484c-c8c8-4580d142c83a"
      },
      "outputs": [
        {
          "data": {
            "text/plain": [
              "10000.0"
            ]
          },
          "execution_count": 24,
          "metadata": {},
          "output_type": "execute_result"
        }
      ],
      "source": [
        "1e4"
      ]
    },
    {
      "cell_type": "code",
      "execution_count": null,
      "metadata": {
        "colab": {
          "base_uri": "https://localhost:8080/"
        },
        "id": "UHl8ucRdn90F",
        "outputId": "20ce373f-313b-4969-f08a-c493b9f37df1"
      },
      "outputs": [
        {
          "name": "stdout",
          "output_type": "stream",
          "text": [
            "25\n"
          ]
        }
      ],
      "source": [
        "print(5 ** 2)"
      ]
    },
    {
      "cell_type": "code",
      "execution_count": null,
      "metadata": {
        "colab": {
          "base_uri": "https://localhost:8080/"
        },
        "id": "LCp9b0PtoIjp",
        "outputId": "f4e6e5f7-755e-4a76-f9e5-57f9a0193add"
      },
      "outputs": [
        {
          "data": {
            "text/plain": [
              "15625"
            ]
          },
          "execution_count": 27,
          "metadata": {},
          "output_type": "execute_result"
        }
      ],
      "source": [
        "5 ** 6"
      ]
    },
    {
      "cell_type": "code",
      "execution_count": null,
      "metadata": {
        "colab": {
          "base_uri": "https://localhost:8080/"
        },
        "id": "bgU5ucP_oOcQ",
        "outputId": "4dadc7cb-ca3f-4c8d-b4c2-bd8c9bf37b22"
      },
      "outputs": [
        {
          "data": {
            "text/plain": [
              "1"
            ]
          },
          "execution_count": 28,
          "metadata": {},
          "output_type": "execute_result"
        }
      ],
      "source": [
        "5 % 2"
      ]
    },
    {
      "cell_type": "code",
      "execution_count": null,
      "metadata": {
        "id": "mJFlJjgfoVBY"
      },
      "outputs": [],
      "source": [
        "# + جمع\n",
        "# - منها\n",
        "# * ضرب\n",
        "# / تقسیم\n",
        "# // تقسیم صحیح(کف عدد)\n",
        "# ** توان\n",
        "# % مود"
      ]
    },
    {
      "cell_type": "code",
      "execution_count": null,
      "metadata": {
        "colab": {
          "base_uri": "https://localhost:8080/"
        },
        "id": "TFHcDKCJohzF",
        "outputId": "b1c8406c-981d-45bc-b88d-daf409abe122"
      },
      "outputs": [
        {
          "data": {
            "text/plain": [
              "True"
            ]
          },
          "execution_count": 30,
          "metadata": {},
          "output_type": "execute_result"
        }
      ],
      "source": [
        "True and True"
      ]
    },
    {
      "cell_type": "code",
      "execution_count": null,
      "metadata": {
        "colab": {
          "base_uri": "https://localhost:8080/"
        },
        "id": "-FfN2WDMpP_7",
        "outputId": "7c88cabe-3cb7-4741-a995-b1d089484349"
      },
      "outputs": [
        {
          "data": {
            "text/plain": [
              "False"
            ]
          },
          "execution_count": 31,
          "metadata": {},
          "output_type": "execute_result"
        }
      ],
      "source": [
        "True and False"
      ]
    },
    {
      "cell_type": "code",
      "execution_count": null,
      "metadata": {
        "colab": {
          "base_uri": "https://localhost:8080/"
        },
        "id": "ctE9Ptn4pSLp",
        "outputId": "019a8511-9915-41b6-b847-0d3e57f7a84d"
      },
      "outputs": [
        {
          "data": {
            "text/plain": [
              "False"
            ]
          },
          "execution_count": 32,
          "metadata": {},
          "output_type": "execute_result"
        }
      ],
      "source": [
        "True == False"
      ]
    },
    {
      "cell_type": "code",
      "execution_count": null,
      "metadata": {
        "colab": {
          "base_uri": "https://localhost:8080/"
        },
        "id": "3wlHNCWcpVGn",
        "outputId": "e7c37630-4ccc-41c4-d2c3-f76bfa5eb487"
      },
      "outputs": [
        {
          "data": {
            "text/plain": [
              "False"
            ]
          },
          "execution_count": 35,
          "metadata": {},
          "output_type": "execute_result"
        }
      ],
      "source": [
        "False and False"
      ]
    },
    {
      "cell_type": "code",
      "execution_count": null,
      "metadata": {
        "colab": {
          "base_uri": "https://localhost:8080/"
        },
        "id": "zTwaBa8_paYz",
        "outputId": "d476cb4e-90d0-4d1a-a272-b0d9ec05a260"
      },
      "outputs": [
        {
          "name": "stdout",
          "output_type": "stream",
          "text": [
            "3\n"
          ]
        }
      ],
      "source": [
        "a = 2\n",
        "b = 3\n",
        "a = b\n",
        "print(a)"
      ]
    },
    {
      "cell_type": "code",
      "execution_count": null,
      "metadata": {
        "colab": {
          "base_uri": "https://localhost:8080/"
        },
        "id": "CbAZStaJprV1",
        "outputId": "927a6349-7a1e-4e36-f7a0-0a7ea7ae9d65"
      },
      "outputs": [
        {
          "name": "stdout",
          "output_type": "stream",
          "text": [
            "False\n"
          ]
        }
      ],
      "source": [
        "a = 2\n",
        "b = 3\n",
        "print(a == b)"
      ]
    },
    {
      "cell_type": "code",
      "execution_count": null,
      "metadata": {
        "colab": {
          "base_uri": "https://localhost:8080/"
        },
        "id": "dpVHE1zWpxVQ",
        "outputId": "f16a62bc-5cd2-4b7e-ca5d-ccf7a6bb7676"
      },
      "outputs": [
        {
          "name": "stdout",
          "output_type": "stream",
          "text": [
            "True\n"
          ]
        }
      ],
      "source": [
        "a = 3\n",
        "b = 3\n",
        "print(a == b)"
      ]
    },
    {
      "cell_type": "code",
      "execution_count": null,
      "metadata": {
        "colab": {
          "base_uri": "https://localhost:8080/"
        },
        "id": "q6d_qBn6pzZP",
        "outputId": "e30bd3d8-e696-4b57-957a-5a96841e9b63"
      },
      "outputs": [
        {
          "data": {
            "text/plain": [
              "True"
            ]
          },
          "execution_count": 39,
          "metadata": {},
          "output_type": "execute_result"
        }
      ],
      "source": [
        "True & True"
      ]
    },
    {
      "cell_type": "code",
      "execution_count": null,
      "metadata": {
        "colab": {
          "base_uri": "https://localhost:8080/"
        },
        "id": "DvnLI5Mcp9g-",
        "outputId": "8cca9653-6d4c-4a4d-94b9-49f1b2ab6f99"
      },
      "outputs": [
        {
          "data": {
            "text/plain": [
              "True"
            ]
          },
          "execution_count": 42,
          "metadata": {},
          "output_type": "execute_result"
        }
      ],
      "source": [
        "True or False # True | False"
      ]
    },
    {
      "cell_type": "code",
      "execution_count": null,
      "metadata": {
        "colab": {
          "base_uri": "https://localhost:8080/"
        },
        "id": "YqIThAvoqRDS",
        "outputId": "0f3a2123-5a4e-41e2-f1dd-fe16a59e9cc6"
      },
      "outputs": [
        {
          "data": {
            "text/plain": [
              "True"
            ]
          },
          "execution_count": 43,
          "metadata": {},
          "output_type": "execute_result"
        }
      ],
      "source": [
        "True | False"
      ]
    },
    {
      "cell_type": "code",
      "execution_count": null,
      "metadata": {
        "colab": {
          "base_uri": "https://localhost:8080/"
        },
        "id": "XnenJqQ8qTob",
        "outputId": "d821d216-082c-471a-c3b9-0109fc429f61"
      },
      "outputs": [
        {
          "data": {
            "text/plain": [
              "False"
            ]
          },
          "execution_count": 48,
          "metadata": {},
          "output_type": "execute_result"
        }
      ],
      "source": [
        "False or False"
      ]
    },
    {
      "cell_type": "code",
      "execution_count": null,
      "metadata": {
        "colab": {
          "base_uri": "https://localhost:8080/"
        },
        "id": "dniDKc2fqc4_",
        "outputId": "19b12232-2380-476c-827c-623206046e21"
      },
      "outputs": [
        {
          "data": {
            "text/plain": [
              "True"
            ]
          },
          "execution_count": 45,
          "metadata": {},
          "output_type": "execute_result"
        }
      ],
      "source": [
        "not False"
      ]
    },
    {
      "cell_type": "code",
      "execution_count": null,
      "metadata": {
        "colab": {
          "base_uri": "https://localhost:8080/"
        },
        "id": "UuDQhEDkqk54",
        "outputId": "7391ad0b-161f-4be6-89c8-0cbae8f6e633"
      },
      "outputs": [
        {
          "data": {
            "text/plain": [
              "False"
            ]
          },
          "execution_count": 47,
          "metadata": {},
          "output_type": "execute_result"
        }
      ],
      "source": [
        "not True"
      ]
    },
    {
      "cell_type": "code",
      "execution_count": null,
      "metadata": {
        "colab": {
          "base_uri": "https://localhost:8080/"
        },
        "id": "DYm28xeHqm0C",
        "outputId": "6febe2f6-5cb0-48aa-d3b0-a5ccd865b293"
      },
      "outputs": [
        {
          "data": {
            "text/plain": [
              "False"
            ]
          },
          "execution_count": 49,
          "metadata": {},
          "output_type": "execute_result"
        }
      ],
      "source": [
        "a=4\n",
        "b=5\n",
        "\n",
        "a > b"
      ]
    },
    {
      "cell_type": "code",
      "execution_count": null,
      "metadata": {
        "colab": {
          "base_uri": "https://localhost:8080/"
        },
        "id": "WHqHJwpqrAMP",
        "outputId": "61c3cdb8-1515-499f-a703-67a5be1d6cc3"
      },
      "outputs": [
        {
          "data": {
            "text/plain": [
              "True"
            ]
          },
          "execution_count": 50,
          "metadata": {},
          "output_type": "execute_result"
        }
      ],
      "source": [
        "a < b"
      ]
    },
    {
      "cell_type": "code",
      "execution_count": null,
      "metadata": {
        "colab": {
          "base_uri": "https://localhost:8080/"
        },
        "id": "fZQBIjdNrFZX",
        "outputId": "2a6e2f14-d749-458f-b808-6c026c6b1a7e"
      },
      "outputs": [
        {
          "data": {
            "text/plain": [
              "False"
            ]
          },
          "execution_count": 51,
          "metadata": {},
          "output_type": "execute_result"
        }
      ],
      "source": [
        "a == b"
      ]
    },
    {
      "cell_type": "code",
      "execution_count": null,
      "metadata": {
        "colab": {
          "base_uri": "https://localhost:8080/"
        },
        "id": "x3c_ifTTrITA",
        "outputId": "bc3f0703-a6c7-4aa1-cc2b-60e6f03a36a2"
      },
      "outputs": [
        {
          "data": {
            "text/plain": [
              "True"
            ]
          },
          "execution_count": 52,
          "metadata": {},
          "output_type": "execute_result"
        }
      ],
      "source": [
        "a != b"
      ]
    },
    {
      "cell_type": "code",
      "execution_count": null,
      "metadata": {
        "colab": {
          "base_uri": "https://localhost:8080/"
        },
        "id": "CQ372q3VrKSv",
        "outputId": "2e88358a-bf3f-4b33-f098-e40f1621475a"
      },
      "outputs": [
        {
          "data": {
            "text/plain": [
              "False"
            ]
          },
          "execution_count": 53,
          "metadata": {},
          "output_type": "execute_result"
        }
      ],
      "source": [
        "a >= b"
      ]
    },
    {
      "cell_type": "code",
      "execution_count": null,
      "metadata": {
        "colab": {
          "base_uri": "https://localhost:8080/"
        },
        "id": "fEbJ1GqCrOj8",
        "outputId": "5aa58887-6a6e-4a0f-dfba-7cf6f578ed6f"
      },
      "outputs": [
        {
          "data": {
            "text/plain": [
              "True"
            ]
          },
          "execution_count": 54,
          "metadata": {},
          "output_type": "execute_result"
        }
      ],
      "source": [
        "a <= b"
      ]
    },
    {
      "cell_type": "code",
      "execution_count": null,
      "metadata": {
        "id": "J_qq9cJVrQdJ"
      },
      "outputs": [],
      "source": [
        "c = 5"
      ]
    },
    {
      "cell_type": "code",
      "execution_count": null,
      "metadata": {
        "colab": {
          "base_uri": "https://localhost:8080/"
        },
        "id": "cpa7xTfKrS_r",
        "outputId": "2e8619ec-61d4-441d-b4e4-3d3fdc370fae"
      },
      "outputs": [
        {
          "data": {
            "text/plain": [
              "False"
            ]
          },
          "execution_count": 56,
          "metadata": {},
          "output_type": "execute_result"
        }
      ],
      "source": [
        "c > b"
      ]
    },
    {
      "cell_type": "code",
      "execution_count": null,
      "metadata": {
        "colab": {
          "base_uri": "https://localhost:8080/"
        },
        "id": "JzIYyNxGrUnR",
        "outputId": "161331a4-613d-439d-ecb3-664e54641580"
      },
      "outputs": [
        {
          "data": {
            "text/plain": [
              "True"
            ]
          },
          "execution_count": 57,
          "metadata": {},
          "output_type": "execute_result"
        }
      ],
      "source": [
        "c >= b"
      ]
    },
    {
      "cell_type": "code",
      "execution_count": null,
      "metadata": {
        "colab": {
          "base_uri": "https://localhost:8080/"
        },
        "id": "fUSInUTPrn2H",
        "outputId": "2df9d8b5-fb28-4b12-ac85-26b5394bf619"
      },
      "outputs": [
        {
          "data": {
            "text/plain": [
              "False"
            ]
          },
          "execution_count": 58,
          "metadata": {},
          "output_type": "execute_result"
        }
      ],
      "source": [
        "c != b"
      ]
    },
    {
      "cell_type": "code",
      "execution_count": null,
      "metadata": {
        "id": "hu9mBF9orpl9"
      },
      "outputs": [],
      "source": [
        "# !=    یعنی آیا دو طرف مخالف هم هستند؟\n",
        "# ==     آیا دو طرف با هم برابر هستند؟"
      ]
    },
    {
      "cell_type": "code",
      "execution_count": null,
      "metadata": {
        "colab": {
          "base_uri": "https://localhost:8080/"
        },
        "id": "jibysVLEr1GP",
        "outputId": "66626488-31c0-4ada-9be6-f7146ffb000d"
      },
      "outputs": [
        {
          "data": {
            "text/plain": [
              "True"
            ]
          },
          "execution_count": 60,
          "metadata": {},
          "output_type": "execute_result"
        }
      ],
      "source": [
        "c == b"
      ]
    },
    {
      "cell_type": "code",
      "execution_count": null,
      "metadata": {
        "id": "bioH31CFr35H"
      },
      "outputs": [],
      "source": [
        "a = 5"
      ]
    },
    {
      "cell_type": "code",
      "execution_count": null,
      "metadata": {
        "colab": {
          "base_uri": "https://localhost:8080/"
        },
        "id": "mYVi6E2MsIBl",
        "outputId": "5167e412-69ae-4301-fdc3-adb9a33c929e"
      },
      "outputs": [
        {
          "name": "stdout",
          "output_type": "stream",
          "text": [
            "7\n"
          ]
        }
      ],
      "source": [
        "a = a + 2\n",
        "print(a)"
      ]
    },
    {
      "cell_type": "code",
      "execution_count": null,
      "metadata": {
        "colab": {
          "base_uri": "https://localhost:8080/"
        },
        "id": "IGhe_EHgsLDP",
        "outputId": "d8e4f168-2ff4-436f-dc1d-38395218698f"
      },
      "outputs": [
        {
          "name": "stdout",
          "output_type": "stream",
          "text": [
            "9\n"
          ]
        }
      ],
      "source": [
        "a += 2\n",
        "print(a)"
      ]
    },
    {
      "cell_type": "code",
      "execution_count": null,
      "metadata": {
        "colab": {
          "base_uri": "https://localhost:8080/"
        },
        "id": "W2-scFkJsVJI",
        "outputId": "0c3b441e-2372-4e0d-aa17-5080dcbc21fb"
      },
      "outputs": [
        {
          "name": "stdout",
          "output_type": "stream",
          "text": [
            "7\n"
          ]
        }
      ],
      "source": [
        "a -= 2\n",
        "print(a)"
      ]
    },
    {
      "cell_type": "code",
      "execution_count": null,
      "metadata": {
        "colab": {
          "base_uri": "https://localhost:8080/"
        },
        "id": "CM-h4EBusYvm",
        "outputId": "8ab67e26-cfec-47d0-fc8e-f4a7c19ef393"
      },
      "outputs": [
        {
          "name": "stdout",
          "output_type": "stream",
          "text": [
            "14\n"
          ]
        }
      ],
      "source": [
        "a *= 2\n",
        "print(a)"
      ]
    },
    {
      "cell_type": "code",
      "execution_count": null,
      "metadata": {
        "colab": {
          "base_uri": "https://localhost:8080/"
        },
        "id": "DpgcGkecsgk6",
        "outputId": "ce3798d7-169a-41d2-92b7-46df4467eec2"
      },
      "outputs": [
        {
          "name": "stdout",
          "output_type": "stream",
          "text": [
            "7.0\n"
          ]
        }
      ],
      "source": [
        "a /= 2\n",
        "print(a)"
      ]
    },
    {
      "cell_type": "code",
      "execution_count": null,
      "metadata": {
        "colab": {
          "base_uri": "https://localhost:8080/"
        },
        "id": "mqxQ_nRFsiNr",
        "outputId": "5c4a0f6f-37de-4270-d52f-3078356d7830"
      },
      "outputs": [
        {
          "name": "stdout",
          "output_type": "stream",
          "text": [
            "49.0\n"
          ]
        }
      ],
      "source": [
        "a **= 2\n",
        "print(a)"
      ]
    },
    {
      "cell_type": "code",
      "execution_count": null,
      "metadata": {
        "colab": {
          "base_uri": "https://localhost:8080/"
        },
        "id": "JaTJ8PLJsnxU",
        "outputId": "db278fcb-f034-44c3-e6d8-64dfe9595972"
      },
      "outputs": [
        {
          "name": "stdout",
          "output_type": "stream",
          "text": [
            "1.0\n"
          ]
        }
      ],
      "source": [
        "a %= 2\n",
        "print(a)"
      ]
    },
    {
      "cell_type": "code",
      "execution_count": null,
      "metadata": {
        "colab": {
          "base_uri": "https://localhost:8080/"
        },
        "id": "uDnKP8gOs0B4",
        "outputId": "046650e1-27cd-4399-e52a-01bd70437e71"
      },
      "outputs": [
        {
          "name": "stdout",
          "output_type": "stream",
          "text": [
            "0.0\n"
          ]
        }
      ],
      "source": [
        "a //= 2\n",
        "print(a)"
      ]
    },
    {
      "cell_type": "code",
      "execution_count": null,
      "metadata": {
        "id": "Kq3L15YYtDQm"
      },
      "outputs": [],
      "source": [
        "# +=\n",
        "# -=\n",
        "# *=\n",
        "# /=\n",
        "# **=\n",
        "# %=\n",
        "# //"
      ]
    },
    {
      "cell_type": "code",
      "execution_count": null,
      "metadata": {
        "colab": {
          "base_uri": "https://localhost:8080/"
        },
        "id": "xIYlBfmTtRdc",
        "outputId": "31d1281a-0161-4ff1-b9c8-ba97b1565877"
      },
      "outputs": [
        {
          "data": {
            "text/plain": [
              "0.0"
            ]
          },
          "execution_count": 75,
          "metadata": {},
          "output_type": "execute_result"
        }
      ],
      "source": [
        "a"
      ]
    },
    {
      "cell_type": "code",
      "execution_count": null,
      "metadata": {
        "id": "vjx6V2rNtSaE"
      },
      "outputs": [],
      "source": [
        "b = a + 2"
      ]
    },
    {
      "cell_type": "code",
      "execution_count": null,
      "metadata": {
        "colab": {
          "base_uri": "https://localhost:8080/"
        },
        "id": "HWBs-y8QtTmd",
        "outputId": "83841163-42b8-4ee7-8a09-1798d838ee31"
      },
      "outputs": [
        {
          "data": {
            "text/plain": [
              "2.0"
            ]
          },
          "execution_count": 77,
          "metadata": {},
          "output_type": "execute_result"
        }
      ],
      "source": [
        "b"
      ]
    },
    {
      "cell_type": "code",
      "execution_count": null,
      "metadata": {
        "id": "reuDAChbtUiV"
      },
      "outputs": [],
      "source": [
        "c = b ** 5"
      ]
    },
    {
      "cell_type": "code",
      "execution_count": null,
      "metadata": {
        "colab": {
          "base_uri": "https://localhost:8080/"
        },
        "id": "-R3vS20htXQd",
        "outputId": "0432e82e-6706-470b-efaa-88effd19f2a4"
      },
      "outputs": [
        {
          "data": {
            "text/plain": [
              "32.0"
            ]
          },
          "execution_count": 79,
          "metadata": {},
          "output_type": "execute_result"
        }
      ],
      "source": [
        "c"
      ]
    },
    {
      "cell_type": "code",
      "execution_count": null,
      "metadata": {
        "id": "ptQN7zQZtXnG"
      },
      "outputs": [],
      "source": [
        "a=4"
      ]
    },
    {
      "cell_type": "code",
      "execution_count": null,
      "metadata": {
        "colab": {
          "base_uri": "https://localhost:8080/"
        },
        "id": "6tuIniaGud-V",
        "outputId": "f6b309eb-f89d-4c7a-d699-a7e214932fe5"
      },
      "outputs": [
        {
          "data": {
            "text/plain": [
              "2.0"
            ]
          },
          "execution_count": 82,
          "metadata": {},
          "output_type": "execute_result"
        }
      ],
      "source": [
        "a/2"
      ]
    },
    {
      "cell_type": "code",
      "execution_count": null,
      "metadata": {
        "colab": {
          "base_uri": "https://localhost:8080/"
        },
        "id": "-h96T4z9uf_Y",
        "outputId": "6916e8e5-f3d2-4109-b68e-3442153cfc4e"
      },
      "outputs": [
        {
          "data": {
            "text/plain": [
              "4"
            ]
          },
          "execution_count": 83,
          "metadata": {},
          "output_type": "execute_result"
        }
      ],
      "source": [
        "a"
      ]
    },
    {
      "cell_type": "code",
      "execution_count": null,
      "metadata": {
        "id": "UYUpc43zukWl"
      },
      "outputs": [],
      "source": [
        "b = a/2"
      ]
    },
    {
      "cell_type": "code",
      "execution_count": null,
      "metadata": {
        "colab": {
          "base_uri": "https://localhost:8080/"
        },
        "id": "Dimx8b41urZl",
        "outputId": "ae268280-7872-476c-d5f5-7f75e3edc84c"
      },
      "outputs": [
        {
          "data": {
            "text/plain": [
              "(2.0, 4)"
            ]
          },
          "execution_count": 86,
          "metadata": {},
          "output_type": "execute_result"
        }
      ],
      "source": [
        "b, a"
      ]
    },
    {
      "cell_type": "code",
      "execution_count": null,
      "metadata": {
        "id": "z5CPe-p6urzq"
      },
      "outputs": [],
      "source": [
        "a = a+2\n",
        "a +=2"
      ]
    },
    {
      "cell_type": "code",
      "execution_count": null,
      "metadata": {
        "id": "Po6HIDWnvIs_"
      },
      "outputs": [],
      "source": [
        "a = '2'\n",
        "b = 2"
      ]
    },
    {
      "cell_type": "code",
      "execution_count": null,
      "metadata": {
        "colab": {
          "base_uri": "https://localhost:8080/",
          "height": 146
        },
        "id": "Au7pHSj_vNS-",
        "outputId": "82316ca5-68c0-4834-c145-534609a1c681"
      },
      "outputs": [
        {
          "ename": "TypeError",
          "evalue": "unsupported operand type(s) for +: 'int' and 'str'",
          "output_type": "error",
          "traceback": [
            "\u001b[0;31m---------------------------------------------------------------------------\u001b[0m",
            "\u001b[0;31mTypeError\u001b[0m                                 Traceback (most recent call last)",
            "\u001b[0;32m<ipython-input-88-44550f31dd64>\u001b[0m in \u001b[0;36m<cell line: 1>\u001b[0;34m()\u001b[0m\n\u001b[0;32m----> 1\u001b[0;31m \u001b[0mb\u001b[0m \u001b[0;34m+\u001b[0m \u001b[0ma\u001b[0m\u001b[0;34m\u001b[0m\u001b[0;34m\u001b[0m\u001b[0m\n\u001b[0m",
            "\u001b[0;31mTypeError\u001b[0m: unsupported operand type(s) for +: 'int' and 'str'"
          ]
        }
      ],
      "source": [
        "b + a"
      ]
    },
    {
      "cell_type": "code",
      "execution_count": null,
      "metadata": {
        "colab": {
          "base_uri": "https://localhost:8080/"
        },
        "id": "KsP_KGiwvOYy",
        "outputId": "84da226d-ffe1-4059-ec57-53f58c42f8ae"
      },
      "outputs": [
        {
          "data": {
            "text/plain": [
              "4.2"
            ]
          },
          "execution_count": 89,
          "metadata": {},
          "output_type": "execute_result"
        }
      ],
      "source": [
        "0.2 + 4"
      ]
    },
    {
      "cell_type": "code",
      "execution_count": null,
      "metadata": {
        "colab": {
          "base_uri": "https://localhost:8080/",
          "height": 110
        },
        "id": "8YICBmhWvT6v",
        "outputId": "b3068c9b-d62e-4c3c-dca3-910186c55585"
      },
      "outputs": [
        {
          "ename": "SyntaxError",
          "evalue": "invalid syntax (<ipython-input-90-5ca48f3eade7>, line 1)",
          "output_type": "error",
          "traceback": [
            "\u001b[0;36m  File \u001b[0;32m\"<ipython-input-90-5ca48f3eade7>\"\u001b[0;36m, line \u001b[0;32m1\u001b[0m\n\u001b[0;31m    print(2+=2)\u001b[0m\n\u001b[0m           ^\u001b[0m\n\u001b[0;31mSyntaxError\u001b[0m\u001b[0;31m:\u001b[0m invalid syntax\n"
          ]
        }
      ],
      "source": [
        "print(2+=2)"
      ]
    },
    {
      "cell_type": "code",
      "execution_count": null,
      "metadata": {
        "colab": {
          "base_uri": "https://localhost:8080/"
        },
        "id": "sYBIgp4Kvw__",
        "outputId": "0b3ee7ce-6128-427e-c949-5e53dcc75bd8"
      },
      "outputs": [
        {
          "data": {
            "text/plain": [
              "14"
            ]
          },
          "execution_count": 95,
          "metadata": {},
          "output_type": "execute_result"
        }
      ],
      "source": [
        "2 + 3 * 4  # ترتبی عملیات‌ها مثل ترتیب اولویت در ریاضی است"
      ]
    },
    {
      "cell_type": "code",
      "execution_count": null,
      "metadata": {
        "colab": {
          "base_uri": "https://localhost:8080/"
        },
        "id": "M-VNaOgjv6n7",
        "outputId": "15561dc9-9376-44d2-b7d0-001aa1e9325d"
      },
      "outputs": [
        {
          "data": {
            "text/plain": [
              "14"
            ]
          },
          "execution_count": 96,
          "metadata": {},
          "output_type": "execute_result"
        }
      ],
      "source": [
        "2 + 3 * 2 ** 2"
      ]
    },
    {
      "cell_type": "markdown",
      "metadata": {
        "id": "_Jx9agYswb_6"
      },
      "source": [
        "# Getting Input"
      ]
    },
    {
      "cell_type": "code",
      "execution_count": null,
      "metadata": {
        "colab": {
          "base_uri": "https://localhost:8080/",
          "height": 54
        },
        "id": "Kc3R_T6Vv_5V",
        "outputId": "2b660b23-22b2-4772-bdb0-a0fa66eb05ee"
      },
      "outputs": [
        {
          "name": "stdout",
          "output_type": "stream",
          "text": [
            "Please enter your name: Mohammad\n"
          ]
        },
        {
          "data": {
            "application/vnd.google.colaboratory.intrinsic+json": {
              "type": "string"
            },
            "text/plain": [
              "'Mohammad'"
            ]
          },
          "execution_count": 97,
          "metadata": {},
          "output_type": "execute_result"
        }
      ],
      "source": [
        "input('Please enter your name: ')"
      ]
    },
    {
      "cell_type": "code",
      "execution_count": null,
      "metadata": {
        "colab": {
          "base_uri": "https://localhost:8080/"
        },
        "id": "q6KyxmTVx93s",
        "outputId": "4b574f33-1bbd-400b-deb9-ff5957897d90"
      },
      "outputs": [
        {
          "name": "stdout",
          "output_type": "stream",
          "text": [
            "Please enter your name: Abtin\n"
          ]
        }
      ],
      "source": [
        "name = input('Please enter your name: ')"
      ]
    },
    {
      "cell_type": "code",
      "execution_count": null,
      "metadata": {
        "colab": {
          "base_uri": "https://localhost:8080/"
        },
        "id": "vHKRphROyEoM",
        "outputId": "007f3c86-eea6-4f9d-cd4b-f49e330045d1"
      },
      "outputs": [
        {
          "name": "stdout",
          "output_type": "stream",
          "text": [
            "Abtin\n"
          ]
        }
      ],
      "source": [
        "print(name)"
      ]
    },
    {
      "cell_type": "code",
      "execution_count": null,
      "metadata": {
        "colab": {
          "base_uri": "https://localhost:8080/"
        },
        "id": "pHv8EXmIyJet",
        "outputId": "671c0a26-6d5c-4acb-81de-c43393a9179e"
      },
      "outputs": [
        {
          "data": {
            "text/plain": [
              "str"
            ]
          },
          "execution_count": 100,
          "metadata": {},
          "output_type": "execute_result"
        }
      ],
      "source": [
        "type(name)"
      ]
    },
    {
      "cell_type": "code",
      "execution_count": null,
      "metadata": {
        "colab": {
          "base_uri": "https://localhost:8080/"
        },
        "id": "QNdq2FhMyKf3",
        "outputId": "23bf1276-20f6-4444-a1fc-f2704dd7741a"
      },
      "outputs": [
        {
          "name": "stdout",
          "output_type": "stream",
          "text": [
            "Please enter your age: 14\n"
          ]
        }
      ],
      "source": [
        "age = input('Please enter your age: ')"
      ]
    },
    {
      "cell_type": "code",
      "execution_count": null,
      "metadata": {
        "colab": {
          "base_uri": "https://localhost:8080/"
        },
        "id": "wMqWts7dyOWu",
        "outputId": "273ffd70-91e0-44f3-b097-4d87db32b6fc"
      },
      "outputs": [
        {
          "data": {
            "text/plain": [
              "str"
            ]
          },
          "execution_count": 103,
          "metadata": {},
          "output_type": "execute_result"
        }
      ],
      "source": [
        "type(age)"
      ]
    },
    {
      "cell_type": "code",
      "execution_count": null,
      "metadata": {
        "colab": {
          "base_uri": "https://localhost:8080/"
        },
        "id": "HgmT4QpzyVBG",
        "outputId": "fd223fb0-45fe-4401-87a7-02ca9c61bbfe"
      },
      "outputs": [
        {
          "name": "stdout",
          "output_type": "stream",
          "text": [
            "Please enter your weight: 61.2\n"
          ]
        }
      ],
      "source": [
        "weight = input('Please enter your weight: ')"
      ]
    },
    {
      "cell_type": "code",
      "execution_count": null,
      "metadata": {
        "colab": {
          "base_uri": "https://localhost:8080/",
          "height": 36
        },
        "id": "ef_XTc8kyYVi",
        "outputId": "583bfb9e-3d49-41f2-9ddf-9a5c98a8fe52"
      },
      "outputs": [
        {
          "data": {
            "application/vnd.google.colaboratory.intrinsic+json": {
              "type": "string"
            },
            "text/plain": [
              "'61.2'"
            ]
          },
          "execution_count": 105,
          "metadata": {},
          "output_type": "execute_result"
        }
      ],
      "source": [
        "weight"
      ]
    },
    {
      "cell_type": "code",
      "execution_count": null,
      "metadata": {
        "colab": {
          "base_uri": "https://localhost:8080/"
        },
        "id": "HiZgzL8-yk8N",
        "outputId": "9ca575d3-5e85-4997-d33b-b7e1e6b28781"
      },
      "outputs": [
        {
          "data": {
            "text/plain": [
              "1"
            ]
          },
          "execution_count": 106,
          "metadata": {},
          "output_type": "execute_result"
        }
      ],
      "source": [
        "int('1')"
      ]
    },
    {
      "cell_type": "code",
      "execution_count": null,
      "metadata": {
        "colab": {
          "base_uri": "https://localhost:8080/"
        },
        "id": "d9f-oRovyqGg",
        "outputId": "aaaa4fea-3dbe-48c0-802a-0b112c6a63c1"
      },
      "outputs": [
        {
          "data": {
            "text/plain": [
              "1"
            ]
          },
          "execution_count": 107,
          "metadata": {},
          "output_type": "execute_result"
        }
      ],
      "source": [
        "int(1.1)"
      ]
    },
    {
      "cell_type": "code",
      "execution_count": null,
      "metadata": {
        "colab": {
          "base_uri": "https://localhost:8080/"
        },
        "id": "ceFwbxIXysvL",
        "outputId": "0be30bed-33e8-4a34-cc07-d59b694c70c4"
      },
      "outputs": [
        {
          "data": {
            "text/plain": [
              "4.0"
            ]
          },
          "execution_count": 108,
          "metadata": {},
          "output_type": "execute_result"
        }
      ],
      "source": [
        "float(4)"
      ]
    },
    {
      "cell_type": "code",
      "execution_count": null,
      "metadata": {
        "colab": {
          "base_uri": "https://localhost:8080/",
          "height": 36
        },
        "id": "MY0iaAr1y467",
        "outputId": "1bcf5d9b-1d64-44fc-a4e9-a46e17c1fe6c"
      },
      "outputs": [
        {
          "data": {
            "application/vnd.google.colaboratory.intrinsic+json": {
              "type": "string"
            },
            "text/plain": [
              "'4.1'"
            ]
          },
          "execution_count": 109,
          "metadata": {},
          "output_type": "execute_result"
        }
      ],
      "source": [
        "str(4.1)"
      ]
    },
    {
      "cell_type": "code",
      "execution_count": null,
      "metadata": {
        "colab": {
          "base_uri": "https://localhost:8080/"
        },
        "id": "7i5iKDcrzErY",
        "outputId": "35766a2f-e420-4929-e7fc-f15c6367abc7"
      },
      "outputs": [
        {
          "name": "stdout",
          "output_type": "stream",
          "text": [
            "1\n"
          ]
        }
      ],
      "source": [
        "print(int(1.1))"
      ]
    },
    {
      "cell_type": "code",
      "execution_count": null,
      "metadata": {
        "colab": {
          "base_uri": "https://localhost:8080/"
        },
        "id": "ytuuv6vwzBLy",
        "outputId": "d5c1be50-f209-4cda-a49c-154ea39900f7"
      },
      "outputs": [
        {
          "data": {
            "text/plain": [
              "1"
            ]
          },
          "execution_count": 112,
          "metadata": {},
          "output_type": "execute_result"
        }
      ],
      "source": [
        "int(1.1)"
      ]
    },
    {
      "cell_type": "code",
      "execution_count": null,
      "metadata": {
        "colab": {
          "base_uri": "https://localhost:8080/"
        },
        "id": "Z26LqkSgzMSX",
        "outputId": "17593297-207d-45d8-d351-903cc1307b99"
      },
      "outputs": [
        {
          "data": {
            "text/plain": [
              "1"
            ]
          },
          "execution_count": 113,
          "metadata": {},
          "output_type": "execute_result"
        }
      ],
      "source": [
        "int(1.9)"
      ]
    },
    {
      "cell_type": "code",
      "execution_count": null,
      "metadata": {
        "colab": {
          "base_uri": "https://localhost:8080/",
          "height": 146
        },
        "id": "lWZYdOtazgTI",
        "outputId": "7600ea14-f98b-4ef2-d9e2-f529d8867b5e"
      },
      "outputs": [
        {
          "ename": "ValueError",
          "evalue": "invalid literal for int() with base 10: 'a'",
          "output_type": "error",
          "traceback": [
            "\u001b[0;31m---------------------------------------------------------------------------\u001b[0m",
            "\u001b[0;31mValueError\u001b[0m                                Traceback (most recent call last)",
            "\u001b[0;32m<ipython-input-114-233884bacd4e>\u001b[0m in \u001b[0;36m<cell line: 1>\u001b[0;34m()\u001b[0m\n\u001b[0;32m----> 1\u001b[0;31m \u001b[0mint\u001b[0m\u001b[0;34m(\u001b[0m\u001b[0;34m'a'\u001b[0m\u001b[0;34m)\u001b[0m\u001b[0;34m\u001b[0m\u001b[0;34m\u001b[0m\u001b[0m\n\u001b[0m",
            "\u001b[0;31mValueError\u001b[0m: invalid literal for int() with base 10: 'a'"
          ]
        }
      ],
      "source": [
        "int('a')"
      ]
    },
    {
      "cell_type": "code",
      "execution_count": null,
      "metadata": {
        "colab": {
          "base_uri": "https://localhost:8080/"
        },
        "id": "pKo4Ct5wzNaX",
        "outputId": "d8ccf3bd-6403-4cbe-b90d-86ec53ca54a8"
      },
      "outputs": [
        {
          "name": "stdout",
          "output_type": "stream",
          "text": [
            "Please enter your name: Mohammad\n",
            "Please enter your age: 12\n",
            "Please enter your weight: 39\n"
          ]
        }
      ],
      "source": [
        "name = input('Please enter your name: ')\n",
        "age = int(input('Please enter your age: '))\n",
        "weight = float(input('Please enter your weight: '))"
      ]
    },
    {
      "cell_type": "code",
      "execution_count": null,
      "metadata": {
        "colab": {
          "base_uri": "https://localhost:8080/"
        },
        "id": "VEZ0mSHU0kdO",
        "outputId": "e9d0f35d-bc05-433e-bf2e-26826cb9b20c"
      },
      "outputs": [
        {
          "data": {
            "text/plain": [
              "('Mohammad', 12, 39.0)"
            ]
          },
          "execution_count": 116,
          "metadata": {},
          "output_type": "execute_result"
        }
      ],
      "source": [
        "name, age , weight"
      ]
    },
    {
      "cell_type": "code",
      "execution_count": null,
      "metadata": {
        "colab": {
          "base_uri": "https://localhost:8080/",
          "height": 164
        },
        "id": "YM40MX1k0sPQ",
        "outputId": "5d31b93d-e12f-4e11-ad85-c2ea6f23962a"
      },
      "outputs": [
        {
          "name": "stdout",
          "output_type": "stream",
          "text": [
            "Please enter your age: '10.5'\n"
          ]
        },
        {
          "ename": "ValueError",
          "evalue": "invalid literal for int() with base 10: \"'10.5'\"",
          "output_type": "error",
          "traceback": [
            "\u001b[0;31m---------------------------------------------------------------------------\u001b[0m",
            "\u001b[0;31mValueError\u001b[0m                                Traceback (most recent call last)",
            "\u001b[0;32m<ipython-input-117-64ea66f8f2bb>\u001b[0m in \u001b[0;36m<cell line: 1>\u001b[0;34m()\u001b[0m\n\u001b[0;32m----> 1\u001b[0;31m \u001b[0mage\u001b[0m \u001b[0;34m=\u001b[0m \u001b[0mint\u001b[0m\u001b[0;34m(\u001b[0m\u001b[0minput\u001b[0m\u001b[0;34m(\u001b[0m\u001b[0;34m'Please enter your age: '\u001b[0m\u001b[0;34m)\u001b[0m\u001b[0;34m)\u001b[0m\u001b[0;34m\u001b[0m\u001b[0;34m\u001b[0m\u001b[0m\n\u001b[0m",
            "\u001b[0;31mValueError\u001b[0m: invalid literal for int() with base 10: \"'10.5'\""
          ]
        }
      ],
      "source": [
        "age = int(input('Please enter your age: '))"
      ]
    },
    {
      "cell_type": "code",
      "execution_count": null,
      "metadata": {
        "colab": {
          "base_uri": "https://localhost:8080/",
          "height": 164
        },
        "id": "Em9n8seO07q5",
        "outputId": "262591c5-a700-4efe-d808-8b9079c7b7a1"
      },
      "outputs": [
        {
          "name": "stdout",
          "output_type": "stream",
          "text": [
            "Please enter your age: 10.5\n"
          ]
        },
        {
          "ename": "ValueError",
          "evalue": "invalid literal for int() with base 10: '10.5'",
          "output_type": "error",
          "traceback": [
            "\u001b[0;31m---------------------------------------------------------------------------\u001b[0m",
            "\u001b[0;31mValueError\u001b[0m                                Traceback (most recent call last)",
            "\u001b[0;32m<ipython-input-118-64ea66f8f2bb>\u001b[0m in \u001b[0;36m<cell line: 1>\u001b[0;34m()\u001b[0m\n\u001b[0;32m----> 1\u001b[0;31m \u001b[0mage\u001b[0m \u001b[0;34m=\u001b[0m \u001b[0mint\u001b[0m\u001b[0;34m(\u001b[0m\u001b[0minput\u001b[0m\u001b[0;34m(\u001b[0m\u001b[0;34m'Please enter your age: '\u001b[0m\u001b[0;34m)\u001b[0m\u001b[0;34m)\u001b[0m\u001b[0;34m\u001b[0m\u001b[0;34m\u001b[0m\u001b[0m\n\u001b[0m",
            "\u001b[0;31mValueError\u001b[0m: invalid literal for int() with base 10: '10.5'"
          ]
        }
      ],
      "source": [
        "age = int(input('Please enter your age: '))"
      ]
    },
    {
      "cell_type": "code",
      "execution_count": null,
      "metadata": {
        "colab": {
          "base_uri": "https://localhost:8080/"
        },
        "id": "pPYiRiXd1AJz",
        "outputId": "7b1358cd-0d51-4c02-fc60-a6b30a8b8aaf"
      },
      "outputs": [
        {
          "name": "stdout",
          "output_type": "stream",
          "text": [
            "Please enter your age: 11\n"
          ]
        }
      ],
      "source": [
        "age = int(input('Please enter your age: '))"
      ]
    },
    {
      "cell_type": "code",
      "execution_count": null,
      "metadata": {
        "colab": {
          "base_uri": "https://localhost:8080/"
        },
        "id": "UrqsTvBD2p7q",
        "outputId": "50a00ee6-bb2e-42af-e384-cf39fb44bc82"
      },
      "outputs": [
        {
          "data": {
            "text/plain": [
              "11"
            ]
          },
          "execution_count": 121,
          "metadata": {},
          "output_type": "execute_result"
        }
      ],
      "source": [
        "age"
      ]
    },
    {
      "cell_type": "code",
      "execution_count": null,
      "metadata": {
        "id": "lnJ0wL724GGA"
      },
      "outputs": [],
      "source": [
        "if True: # وارد می‌شود\n",
        "if False: # وارد نمی‌شود"
      ]
    },
    {
      "cell_type": "code",
      "execution_count": null,
      "metadata": {
        "id": "Gmu3MYKB47mJ"
      },
      "outputs": [],
      "source": [
        "# در زبان C/C++/C#/Java\n",
        "# if True:{\n",
        "# print('salam')\n",
        "#                         print('salam')\n",
        "# }\n",
        "\n",
        "# indentation in python\n",
        "# if True:\n",
        "#   print(\"salam\")\n",
        "#    print(\"salam\") # این ارور است اگر ایندنتیشن انتخابی شما ۲ باشد\n"
      ]
    },
    {
      "cell_type": "code",
      "execution_count": null,
      "metadata": {
        "colab": {
          "base_uri": "https://localhost:8080/",
          "height": 110
        },
        "id": "5_6h3L-k5wRF",
        "outputId": "61e0d09d-e20b-422c-c00e-351769381e67"
      },
      "outputs": [
        {
          "ename": "IndentationError",
          "evalue": "unexpected indent (<ipython-input-128-89501c347066>, line 3)",
          "output_type": "error",
          "traceback": [
            "\u001b[0;36m  File \u001b[0;32m\"<ipython-input-128-89501c347066>\"\u001b[0;36m, line \u001b[0;32m3\u001b[0m\n\u001b[0;31m    print(\"salam\")\u001b[0m\n\u001b[0m    ^\u001b[0m\n\u001b[0;31mIndentationError\u001b[0m\u001b[0;31m:\u001b[0m unexpected indent\n"
          ]
        }
      ],
      "source": [
        "if True:\n",
        "  print(\"salam\")\n",
        "   print(\"salam\")"
      ]
    },
    {
      "cell_type": "code",
      "execution_count": null,
      "metadata": {
        "colab": {
          "base_uri": "https://localhost:8080/"
        },
        "id": "D1ynyRGj53p0",
        "outputId": "3f9d2a8e-5474-41bc-e6e5-e750c65208a0"
      },
      "outputs": [
        {
          "name": "stdout",
          "output_type": "stream",
          "text": [
            "salam\n",
            "salam\n"
          ]
        }
      ],
      "source": [
        "if True:\n",
        " print(\"salam\")\n",
        "if True:\n",
        "                    print(\"salam\")\n",
        "# indentation in python 2 space\n",
        "# indentation in python 4 space, 1 tab"
      ]
    },
    {
      "cell_type": "code",
      "execution_count": null,
      "metadata": {
        "id": "7FI6t4Qb2vSo"
      },
      "outputs": [],
      "source": [
        "if age >= 15:\n",
        "    print('You can enter')"
      ]
    },
    {
      "cell_type": "code",
      "execution_count": null,
      "metadata": {
        "colab": {
          "base_uri": "https://localhost:8080/"
        },
        "id": "SQAH8NHW29Kp",
        "outputId": "bed19f10-47c7-4871-d4f4-9087836cf569"
      },
      "outputs": [
        {
          "name": "stdout",
          "output_type": "stream",
          "text": [
            "salam\n"
          ]
        }
      ],
      "source": [
        "if True:\n",
        "    print('salam')"
      ]
    },
    {
      "cell_type": "code",
      "execution_count": null,
      "metadata": {
        "id": "lUYNFPnC2_UK"
      },
      "outputs": [],
      "source": [
        "if False:\n",
        "    print('salam')"
      ]
    },
    {
      "cell_type": "code",
      "execution_count": null,
      "metadata": {
        "colab": {
          "base_uri": "https://localhost:8080/"
        },
        "id": "UrEWfkSn3BU9",
        "outputId": "976ea11c-233d-4664-fee0-4c45706d2f25"
      },
      "outputs": [
        {
          "data": {
            "text/plain": [
              "True"
            ]
          },
          "execution_count": 124,
          "metadata": {},
          "output_type": "execute_result"
        }
      ],
      "source": [
        "age == 11"
      ]
    },
    {
      "cell_type": "code",
      "execution_count": null,
      "metadata": {
        "id": "eQQB0yVW3HPl"
      },
      "outputs": [],
      "source": [
        "if age >= 15:\n",
        "    print('You can enter')"
      ]
    },
    {
      "cell_type": "code",
      "execution_count": null,
      "metadata": {
        "colab": {
          "base_uri": "https://localhost:8080/"
        },
        "id": "2I4q64q53MIo",
        "outputId": "f34ea5a1-5db0-4e1f-c444-11b8c555736a"
      },
      "outputs": [
        {
          "name": "stdout",
          "output_type": "stream",
          "text": [
            "You can enter\n"
          ]
        }
      ],
      "source": [
        "if age <= 15:\n",
        "    print('You can enter')"
      ]
    },
    {
      "cell_type": "code",
      "execution_count": null,
      "metadata": {
        "colab": {
          "base_uri": "https://localhost:8080/"
        },
        "id": "d9Fh9jTc3Rfy",
        "outputId": "f39ff3de-25e3-4aa2-b5e8-3fa2519f10d9"
      },
      "outputs": [
        {
          "name": "stdout",
          "output_type": "stream",
          "text": [
            "salam\n"
          ]
        }
      ],
      "source": [
        "print(\"salam\") if True else print(\"Kodafez\")\n",
        "# else: print(\"Kodafez\")"
      ]
    },
    {
      "cell_type": "code",
      "execution_count": null,
      "metadata": {
        "id": "TibacyEY7yl2"
      },
      "outputs": [],
      "source": [
        "if age <= 15 and weight <= 35:\n",
        "    print('You can enter')"
      ]
    },
    {
      "cell_type": "markdown",
      "metadata": {
        "id": "7w5537mt_wEr"
      },
      "source": [
        "# 2024-07-20"
      ]
    },
    {
      "cell_type": "code",
      "execution_count": null,
      "metadata": {
        "colab": {
          "base_uri": "https://localhost:8080/"
        },
        "id": "ypMd6Qj38dww",
        "outputId": "e942adb7-9d63-4851-d44a-53be4f4ed30d"
      },
      "outputs": [
        {
          "name": "stdout",
          "output_type": "stream",
          "text": [
            "Please enter your name: Manager\n",
            "Please enter your age: 41\n",
            "Please enter your weight: 92\n"
          ]
        }
      ],
      "source": [
        "name = input('Please enter your name: ')\n",
        "age = int(input('Please enter your age: '))\n",
        "weight = float(input('Please enter your weight: '))"
      ]
    },
    {
      "cell_type": "code",
      "execution_count": null,
      "metadata": {
        "colab": {
          "base_uri": "https://localhost:8080/"
        },
        "id": "F18PyDhb_zm7",
        "outputId": "4c8729df-1a34-4aca-a75f-4c8c1e237627"
      },
      "outputs": [
        {
          "name": "stdout",
          "output_type": "stream",
          "text": [
            "You can enter\n"
          ]
        }
      ],
      "source": [
        "if (age <= 15 and weight <= 35) or name == \"Manager\":\n",
        "    print('You can enter')"
      ]
    },
    {
      "cell_type": "code",
      "execution_count": null,
      "metadata": {
        "colab": {
          "base_uri": "https://localhost:8080/"
        },
        "id": "WD9CgDuLAwBP",
        "outputId": "d6bf87ca-3cd9-4c57-e61b-fc163953d3e7"
      },
      "outputs": [
        {
          "name": "stdout",
          "output_type": "stream",
          "text": [
            "You can not enter bacause of your age!\n"
          ]
        }
      ],
      "source": [
        "if age <= 15:\n",
        "    print('You can enter')\n",
        "else:\n",
        "    print('You can not enter bacause of your age!')"
      ]
    },
    {
      "cell_type": "code",
      "execution_count": null,
      "metadata": {
        "id": "8ISB1sZYDEe7"
      },
      "outputs": [],
      "source": [
        "if age <= 15:                   # if age <= 15 or weight <= 35:\n",
        "    print('You can enter')\n",
        "elif weight <= 35:\n",
        "    print('You can enter')\n",
        "else:\n",
        "    print('You can not enter bacause of your age or weight!')"
      ]
    },
    {
      "cell_type": "code",
      "execution_count": null,
      "metadata": {
        "id": "Ku576dMXDx7i"
      },
      "outputs": [],
      "source": [
        "if age <= 15: #if age <= 15 or weight <= 35:\n",
        "    print('Your age is under 15')\n",
        "elif weight <= 35:\n",
        "    print('Your weight is under 35')"
      ]
    },
    {
      "cell_type": "code",
      "execution_count": null,
      "metadata": {
        "id": "obK_WXhnEJvk"
      },
      "outputs": [],
      "source": [
        "# if False:\n",
        "# elif False:\n",
        "# elif False:\n",
        "# elif False:\n",
        "# elif False:\n",
        "# elif False:\n",
        "# else:"
      ]
    },
    {
      "cell_type": "code",
      "execution_count": null,
      "metadata": {
        "id": "o8auR88zE_Dp"
      },
      "outputs": [],
      "source": [
        "if age <= 15: #if age <= 15 or weight <= 35:\n",
        "    print('Your age is under 15')\n",
        "elif weight <= 35:\n",
        "    print('Your weight is under 35')\n",
        "elif name == \"Manager\":\n",
        "    print('You are Manager!')\n",
        "else:\n",
        "    print('You can not enter bacause of your age or weight!')"
      ]
    },
    {
      "cell_type": "code",
      "execution_count": null,
      "metadata": {
        "id": "InThBhu-FWNU"
      },
      "outputs": [],
      "source": [
        "a=4\n",
        "if a == 0:\n",
        "    print('a=0')\n",
        "elif a == 1:\n",
        "    print('a=1')\n",
        "elif a == 2:\n",
        "    print('a=2')\n",
        "elif a == 3:\n",
        "    print('a=3')\n",
        "elif a == 4:\n",
        "    print('a=4')\n",
        "elif a == 5:\n",
        "    print('a=5')\n",
        "else:\n",
        "    print('a=other')\n"
      ]
    },
    {
      "cell_type": "code",
      "execution_count": null,
      "metadata": {
        "id": "1UmS97jOGmpp"
      },
      "outputs": [],
      "source": [
        "if True:\n",
        "    pass"
      ]
    },
    {
      "cell_type": "code",
      "execution_count": null,
      "metadata": {
        "id": "jKzlyHrtGzvx"
      },
      "outputs": [],
      "source": [
        "a=4\n",
        "if a == 0:\n",
        "    pass\n",
        "elif a == 1:\n",
        "    pass\n",
        "elif a == 2:\n",
        "    pass\n",
        "elif a == 3:\n",
        "    pass\n",
        "elif a == 4:\n",
        "    pass\n",
        "elif a == 5:\n",
        "    pass\n",
        "else:\n",
        "    pass\n"
      ]
    },
    {
      "cell_type": "code",
      "execution_count": null,
      "metadata": {
        "id": "-v_3IiPeIYSB"
      },
      "outputs": [],
      "source": [
        "# for\n",
        "# while"
      ]
    },
    {
      "cell_type": "code",
      "execution_count": null,
      "metadata": {
        "colab": {
          "base_uri": "https://localhost:8080/"
        },
        "id": "6CPki-I9IzJx",
        "outputId": "8dbe7a67-ed7b-4ed4-b74b-ef8f366968bd"
      },
      "outputs": [
        {
          "data": {
            "text/plain": [
              "range(0, 2)"
            ]
          },
          "execution_count": 10,
          "metadata": {},
          "output_type": "execute_result"
        }
      ],
      "source": [
        "range(2)"
      ]
    },
    {
      "cell_type": "code",
      "execution_count": null,
      "metadata": {
        "colab": {
          "base_uri": "https://localhost:8080/"
        },
        "id": "Az5Y35F9IojX",
        "outputId": "a02788d5-ac59-4f44-cf2e-e93117817d54"
      },
      "outputs": [
        {
          "name": "stdout",
          "output_type": "stream",
          "text": [
            "0\n",
            "1\n",
            "2\n"
          ]
        }
      ],
      "source": [
        "for i in range(3):\n",
        "    print(i)\n",
        "    # i = عدد جدید"
      ]
    },
    {
      "cell_type": "code",
      "execution_count": null,
      "metadata": {
        "colab": {
          "base_uri": "https://localhost:8080/"
        },
        "id": "CvT5IEp3I5Ax",
        "outputId": "7ec9d5fc-bf48-482b-a1ef-9a6599fa5abf"
      },
      "outputs": [
        {
          "name": "stdout",
          "output_type": "stream",
          "text": [
            "0\n",
            "1\n",
            "2\n",
            "3\n",
            "4\n",
            "5\n",
            "6\n",
            "7\n",
            "8\n",
            "9\n"
          ]
        }
      ],
      "source": [
        "for mohammad in range(10):\n",
        "    print(mohammad)"
      ]
    },
    {
      "cell_type": "code",
      "execution_count": null,
      "metadata": {
        "colab": {
          "base_uri": "https://localhost:8080/"
        },
        "id": "Re90NnM8JaRl",
        "outputId": "30caa913-a143-46ef-dd20-6afcfd1d6b62"
      },
      "outputs": [
        {
          "data": {
            "text/plain": [
              "range"
            ]
          },
          "execution_count": 14,
          "metadata": {},
          "output_type": "execute_result"
        }
      ],
      "source": [
        "type(range(2))"
      ]
    },
    {
      "cell_type": "code",
      "execution_count": null,
      "metadata": {
        "colab": {
          "base_uri": "https://localhost:8080/"
        },
        "id": "cCyOVglMJjEx",
        "outputId": "48ddcfce-3e0b-4a26-aff5-ade03b4bc6ec"
      },
      "outputs": [
        {
          "name": "stdout",
          "output_type": "stream",
          "text": [
            "range(0, 2)\n"
          ]
        }
      ],
      "source": [
        "print(range(2))"
      ]
    },
    {
      "cell_type": "code",
      "execution_count": null,
      "metadata": {
        "colab": {
          "base_uri": "https://localhost:8080/"
        },
        "id": "oGpUyKfnJ1oM",
        "outputId": "55b940de-1255-4ebe-d280-e376165d1c83"
      },
      "outputs": [
        {
          "name": "stdout",
          "output_type": "stream",
          "text": [
            "0.0\n",
            "0.1\n",
            "0.2\n",
            "0.3\n",
            "0.4\n",
            "0.5\n",
            "0.6\n",
            "0.7\n",
            "0.8\n",
            "0.9\n"
          ]
        }
      ],
      "source": [
        "for mohammad in range(10):\n",
        "    print(mohammad/10)"
      ]
    },
    {
      "cell_type": "code",
      "execution_count": null,
      "metadata": {
        "colab": {
          "base_uri": "https://localhost:8080/"
        },
        "id": "MTNfI1JIKaKM",
        "outputId": "bbd3e68f-f77f-4360-b488-30f2d4ae8082"
      },
      "outputs": [
        {
          "name": "stdout",
          "output_type": "stream",
          "text": [
            "1\n",
            "2\n",
            "3\n",
            "4\n",
            "5\n",
            "6\n",
            "7\n",
            "8\n",
            "9\n",
            "10\n"
          ]
        }
      ],
      "source": [
        "for i in range(1,11):\n",
        "    print(i)\n",
        "\n",
        "# i=1\n",
        "# while i<11:\n",
        "#     print(i)\n",
        "#     i += 1"
      ]
    },
    {
      "cell_type": "code",
      "execution_count": null,
      "metadata": {
        "id": "QIHxjqygTIlz"
      },
      "outputs": [],
      "source": []
    },
    {
      "cell_type": "code",
      "execution_count": null,
      "metadata": {
        "colab": {
          "base_uri": "https://localhost:8080/"
        },
        "id": "Xxyfc959K0kC",
        "outputId": "8279bfd6-9179-432a-ffac-aee076c97717"
      },
      "outputs": [
        {
          "name": "stdout",
          "output_type": "stream",
          "text": [
            "0\n",
            "2\n",
            "4\n",
            "6\n",
            "8\n",
            "10\n",
            "12\n",
            "14\n",
            "16\n",
            "18\n"
          ]
        }
      ],
      "source": [
        "for i in range(0, 20, 2): # range(start, end , step)\n",
        "    print(i)"
      ]
    },
    {
      "cell_type": "code",
      "execution_count": null,
      "metadata": {
        "colab": {
          "base_uri": "https://localhost:8080/"
        },
        "id": "MmhnAQLBLMcp",
        "outputId": "62a63dad-00c8-4314-e1ab-9b35a655093c"
      },
      "outputs": [
        {
          "name": "stdout",
          "output_type": "stream",
          "text": [
            "0\n",
            "5\n",
            "10\n",
            "15\n"
          ]
        }
      ],
      "source": [
        "for i in range(0, 20, 5):\n",
        "    print(i)"
      ]
    },
    {
      "cell_type": "code",
      "execution_count": null,
      "metadata": {
        "colab": {
          "base_uri": "https://localhost:8080/"
        },
        "id": "SY4mWqqyLQXk",
        "outputId": "ef335fd8-1609-49cc-96a4-7e74e49cb437"
      },
      "outputs": [
        {
          "name": "stdout",
          "output_type": "stream",
          "text": [
            "0 0\n",
            "1 1\n",
            "3 2\n",
            "6 3\n",
            "10 4\n",
            "15 5\n",
            "21 6\n",
            "28 7\n",
            "36 8\n",
            "45 9\n"
          ]
        }
      ],
      "source": [
        "a = 0\n",
        "for i in range(10):\n",
        "    a += i\n",
        "    print(a, i)\n"
      ]
    },
    {
      "cell_type": "code",
      "execution_count": null,
      "metadata": {
        "colab": {
          "base_uri": "https://localhost:8080/"
        },
        "id": "U3LiLxslLfQn",
        "outputId": "f47d4133-a873-415b-8297-b40c6781e2ea"
      },
      "outputs": [
        {
          "name": "stdout",
          "output_type": "stream",
          "text": [
            "21\n",
            "28\n",
            "36\n",
            "45\n"
          ]
        }
      ],
      "source": [
        "a = 0\n",
        "for i in range(10):\n",
        "    a += i\n",
        "    if a > 20:\n",
        "        print(a)\n"
      ]
    },
    {
      "cell_type": "code",
      "execution_count": null,
      "metadata": {
        "colab": {
          "base_uri": "https://localhost:8080/"
        },
        "id": "-awJStI3LuXF",
        "outputId": "e70ed7a0-b01d-4ddc-c57b-18376437f2ab"
      },
      "outputs": [
        {
          "name": "stdout",
          "output_type": "stream",
          "text": [
            "WARNING: a is bigger than 20!\n",
            "WARNING: a is bigger than 20!\n",
            "WARNING: a is bigger than 20!\n",
            "WARNING: a is bigger than 20!\n"
          ]
        }
      ],
      "source": [
        "a = 0\n",
        "for i in range(10):\n",
        "    a += i\n",
        "    if a > 20:\n",
        "        print(\"WARNING: a is bigger than 20!\")\n"
      ]
    },
    {
      "cell_type": "code",
      "execution_count": null,
      "metadata": {
        "colab": {
          "base_uri": "https://localhost:8080/"
        },
        "id": "D7jAMkvgL5wJ",
        "outputId": "7eb013d3-6db5-4d28-f2b6-251438347dd5"
      },
      "outputs": [
        {
          "name": "stdout",
          "output_type": "stream",
          "text": [
            "WARNING: a is bigger than 20!\n",
            "out of loop\n"
          ]
        }
      ],
      "source": [
        "a = 0\n",
        "for i in range(10):\n",
        "    a += i\n",
        "    if a > 20:\n",
        "        print(\"WARNING: a is bigger than 20!\")\n",
        "        break\n",
        "        print(\"This is after break!\")\n",
        "print(\"out of loop\")"
      ]
    },
    {
      "cell_type": "code",
      "execution_count": null,
      "metadata": {
        "colab": {
          "base_uri": "https://localhost:8080/"
        },
        "id": "Qo1il4K8MHc3",
        "outputId": "5adf0be6-84ff-466d-c1d9-353c1c0f0943"
      },
      "outputs": [
        {
          "name": "stdout",
          "output_type": "stream",
          "text": [
            "1 1\n",
            "4 3\n",
            "9 5\n",
            "16 7\n",
            "25 9\n",
            "out of loop\n"
          ]
        }
      ],
      "source": [
        "a = 0\n",
        "for i in range(10):\n",
        "    if i % 2 == 0:\n",
        "        continue\n",
        "        print(\"continue\")\n",
        "\n",
        "    a += i\n",
        "    print(a, i)\n",
        "\n",
        "print(\"out of loop\")"
      ]
    },
    {
      "cell_type": "code",
      "execution_count": null,
      "metadata": {
        "colab": {
          "base_uri": "https://localhost:8080/"
        },
        "id": "4eaAtVURNf6P",
        "outputId": "45105594-7703-4405-e0cb-c507022c7f2a"
      },
      "outputs": [
        {
          "name": "stdout",
          "output_type": "stream",
          "text": [
            "1\n",
            "2\n",
            "3\n",
            "4\n",
            "5\n",
            "6\n",
            "7\n",
            "8\n",
            "9\n",
            "10\n"
          ]
        }
      ],
      "source": [
        "i = 0\n",
        "while i<10:\n",
        "    i += 1\n",
        "    print(i)"
      ]
    },
    {
      "cell_type": "code",
      "execution_count": null,
      "metadata": {
        "colab": {
          "base_uri": "https://localhost:8080/"
        },
        "id": "XhFuM-ojOsKM",
        "outputId": "40444a92-3bc6-482b-e4ed-e2aa22d37b8c"
      },
      "outputs": [
        {
          "data": {
            "text/plain": [
              "False"
            ]
          },
          "execution_count": 34,
          "metadata": {},
          "output_type": "execute_result"
        }
      ],
      "source": [
        "10<10"
      ]
    },
    {
      "cell_type": "code",
      "execution_count": null,
      "metadata": {
        "colab": {
          "base_uri": "https://localhost:8080/"
        },
        "id": "y4S7mCr7OusT",
        "outputId": "4c07b0ac-cf4c-412f-9396-7525e0dd81b6"
      },
      "outputs": [
        {
          "name": "stdout",
          "output_type": "stream",
          "text": [
            "0\n",
            "1\n",
            "2\n",
            "3\n",
            "4\n",
            "5\n",
            "6\n",
            "7\n",
            "8\n",
            "9\n"
          ]
        }
      ],
      "source": [
        "for _ in range(10):\n",
        "    print(_)"
      ]
    },
    {
      "cell_type": "code",
      "execution_count": null,
      "metadata": {
        "colab": {
          "base_uri": "https://localhost:8080/",
          "height": 1000
        },
        "id": "kc9gPsz_S1D1",
        "outputId": "31fad115-cf9d-4f22-e197-bdb2843e10ae"
      },
      "outputs": [
        {
          "name": "stdout",
          "output_type": "stream",
          "text": [
            "\u001b[1;30;43mStreaming output truncated to the last 5000 lines.\u001b[0m\n",
            "salam\n",
            "salam\n",
            "salam\n",
            "salam\n",
            "salam\n",
            "salam\n",
            "salam\n",
            "salam\n",
            "salam\n",
            "salam\n",
            "salam\n",
            "salam\n",
            "salam\n",
            "salam\n",
            "salam\n",
            "salam\n",
            "salam\n",
            "salam\n",
            "salam\n",
            "salam\n",
            "salam\n",
            "salam\n",
            "salam\n",
            "salam\n",
            "salam\n",
            "salam\n",
            "salam\n",
            "salam\n",
            "salam\n",
            "salam\n",
            "salam\n",
            "salam\n",
            "salam\n",
            "salam\n",
            "salam\n",
            "salam\n",
            "salam\n",
            "salam\n",
            "salam\n",
            "salam\n",
            "salam\n",
            "salam\n",
            "salam\n",
            "salam\n",
            "salam\n",
            "salam\n",
            "salam\n",
            "salam\n",
            "salam\n",
            "salam\n",
            "salam\n",
            "salam\n",
            "salam\n",
            "salam\n",
            "salam\n",
            "salam\n",
            "salam\n",
            "salam\n",
            "salam\n",
            "salam\n",
            "salam\n",
            "salam\n",
            "salam\n",
            "salam\n",
            "salam\n",
            "salam\n",
            "salam\n",
            "salam\n",
            "salam\n",
            "salam\n",
            "salam\n",
            "salam\n",
            "salam\n",
            "salam\n",
            "salam\n",
            "salam\n",
            "salam\n",
            "salam\n",
            "salam\n",
            "salam\n",
            "salam\n",
            "salam\n",
            "salam\n",
            "salam\n",
            "salam\n",
            "salam\n",
            "salam\n",
            "salam\n",
            "salam\n",
            "salam\n",
            "salam\n",
            "salam\n",
            "salam\n",
            "salam\n",
            "salam\n",
            "salam\n",
            "salam\n",
            "salam\n",
            "salam\n",
            "salam\n",
            "salam\n",
            "salam\n",
            "salam\n",
            "salam\n",
            "salam\n",
            "salam\n",
            "salam\n",
            "salam\n",
            "salam\n",
            "salam\n",
            "salam\n",
            "salam\n",
            "salam\n",
            "salam\n",
            "salam\n",
            "salam\n",
            "salam\n",
            "salam\n",
            "salam\n",
            "salam\n",
            "salam\n",
            "salam\n",
            "salam\n",
            "salam\n",
            "salam\n",
            "salam\n",
            "salam\n",
            "salam\n",
            "salam\n",
            "salam\n",
            "salam\n",
            "salam\n",
            "salam\n",
            "salam\n",
            "salam\n",
            "salam\n",
            "salam\n",
            "salam\n",
            "salam\n",
            "salam\n",
            "salam\n",
            "salam\n",
            "salam\n",
            "salam\n",
            "salam\n",
            "salam\n",
            "salam\n",
            "salam\n",
            "salam\n",
            "salam\n",
            "salam\n",
            "salam\n",
            "salam\n",
            "salam\n",
            "salam\n",
            "salam\n",
            "salam\n",
            "salam\n",
            "salam\n",
            "salam\n",
            "salam\n",
            "salam\n",
            "salam\n",
            "salam\n",
            "salam\n",
            "salam\n",
            "salam\n",
            "salam\n",
            "salam\n",
            "salam\n",
            "salam\n",
            "salam\n",
            "salam\n",
            "salam\n",
            "salam\n",
            "salam\n",
            "salam\n",
            "salam\n",
            "salam\n",
            "salam\n",
            "salam\n",
            "salam\n",
            "salam\n",
            "salam\n",
            "salam\n",
            "salam\n",
            "salam\n",
            "salam\n",
            "salam\n",
            "salam\n",
            "salam\n",
            "salam\n",
            "salam\n",
            "salam\n",
            "salam\n",
            "salam\n",
            "salam\n",
            "salam\n",
            "salam\n",
            "salam\n",
            "salam\n",
            "salam\n",
            "salam\n",
            "salam\n",
            "salam\n",
            "salam\n",
            "salam\n",
            "salam\n",
            "salam\n",
            "salam\n",
            "salam\n",
            "salam\n",
            "salam\n",
            "salam\n",
            "salam\n",
            "salam\n",
            "salam\n",
            "salam\n",
            "salam\n",
            "salam\n",
            "salam\n",
            "salam\n",
            "salam\n",
            "salam\n",
            "salam\n",
            "salam\n",
            "salam\n",
            "salam\n",
            "salam\n",
            "salam\n",
            "salam\n",
            "salam\n",
            "salam\n",
            "salam\n",
            "salam\n",
            "salam\n",
            "salam\n",
            "salam\n",
            "salam\n",
            "salam\n",
            "salam\n",
            "salam\n",
            "salam\n",
            "salam\n",
            "salam\n",
            "salam\n",
            "salam\n",
            "salam\n",
            "salam\n",
            "salam\n",
            "salam\n",
            "salam\n",
            "salam\n",
            "salam\n",
            "salam\n",
            "salam\n",
            "salam\n",
            "salam\n",
            "salam\n",
            "salam\n",
            "salam\n",
            "salam\n",
            "salam\n",
            "salam\n",
            "salam\n",
            "salam\n",
            "salam\n",
            "salam\n",
            "salam\n",
            "salam\n",
            "salam\n",
            "salam\n",
            "salam\n",
            "salam\n",
            "salam\n",
            "salam\n",
            "salam\n",
            "salam\n",
            "salam\n",
            "salam\n",
            "salam\n",
            "salam\n",
            "salam\n",
            "salam\n",
            "salam\n",
            "salam\n",
            "salam\n",
            "salam\n",
            "salam\n",
            "salam\n",
            "salam\n",
            "salam\n",
            "salam\n",
            "salam\n",
            "salam\n",
            "salam\n",
            "salam\n",
            "salam\n",
            "salam\n",
            "salam\n",
            "salam\n",
            "salam\n",
            "salam\n",
            "salam\n",
            "salam\n",
            "salam\n",
            "salam\n",
            "salam\n",
            "salam\n",
            "salam\n",
            "salam\n",
            "salam\n",
            "salam\n",
            "salam\n",
            "salam\n",
            "salam\n",
            "salam\n",
            "salam\n",
            "salam\n",
            "salam\n",
            "salam\n",
            "salam\n",
            "salam\n",
            "salam\n",
            "salam\n",
            "salam\n",
            "salam\n",
            "salam\n",
            "salam\n",
            "salam\n",
            "salam\n",
            "salam\n",
            "salam\n",
            "salam\n",
            "salam\n",
            "salam\n",
            "salam\n",
            "salam\n",
            "salam\n",
            "salam\n",
            "salam\n",
            "salam\n",
            "salam\n",
            "salam\n",
            "salam\n",
            "salam\n",
            "salam\n",
            "salam\n",
            "salam\n",
            "salam\n",
            "salam\n",
            "salam\n",
            "salam\n",
            "salam\n",
            "salam\n",
            "salam\n",
            "salam\n",
            "salam\n",
            "salam\n",
            "salam\n",
            "salam\n",
            "salam\n",
            "salam\n",
            "salam\n",
            "salam\n",
            "salam\n",
            "salam\n",
            "salam\n",
            "salam\n",
            "salam\n",
            "salam\n",
            "salam\n",
            "salam\n",
            "salam\n",
            "salam\n",
            "salam\n",
            "salam\n",
            "salam\n",
            "salam\n",
            "salam\n",
            "salam\n",
            "salam\n",
            "salam\n",
            "salam\n",
            "salam\n",
            "salam\n",
            "salam\n",
            "salam\n",
            "salam\n",
            "salam\n",
            "salam\n",
            "salam\n",
            "salam\n",
            "salam\n",
            "salam\n",
            "salam\n",
            "salam\n",
            "salam\n",
            "salam\n",
            "salam\n",
            "salam\n",
            "salam\n",
            "salam\n",
            "salam\n",
            "salam\n",
            "salam\n",
            "salam\n",
            "salam\n",
            "salam\n",
            "salam\n",
            "salam\n",
            "salam\n",
            "salam\n",
            "salam\n",
            "salam\n",
            "salam\n",
            "salam\n",
            "salam\n",
            "salam\n",
            "salam\n",
            "salam\n",
            "salam\n",
            "salam\n",
            "salam\n",
            "salam\n",
            "salam\n",
            "salam\n",
            "salam\n",
            "salam\n",
            "salam\n",
            "salam\n",
            "salam\n",
            "salam\n",
            "salam\n",
            "salam\n",
            "salam\n",
            "salam\n",
            "salam\n",
            "salam\n",
            "salam\n",
            "salam\n",
            "salam\n",
            "salam\n",
            "salam\n",
            "salam\n",
            "salam\n",
            "salam\n",
            "salam\n",
            "salam\n",
            "salam\n",
            "salam\n",
            "salam\n",
            "salam\n",
            "salam\n",
            "salam\n",
            "salam\n",
            "salam\n",
            "salam\n",
            "salam\n",
            "salam\n",
            "salam\n",
            "salam\n",
            "salam\n",
            "salam\n",
            "salam\n",
            "salam\n",
            "salam\n",
            "salam\n",
            "salam\n",
            "salam\n",
            "salam\n",
            "salam\n",
            "salam\n",
            "salam\n",
            "salam\n",
            "salam\n",
            "salam\n",
            "salam\n",
            "salam\n",
            "salam\n",
            "salam\n",
            "salam\n",
            "salam\n",
            "salam\n",
            "salam\n",
            "salam\n",
            "salam\n",
            "salam\n",
            "salam\n",
            "salam\n",
            "salam\n",
            "salam\n",
            "salam\n",
            "salam\n",
            "salam\n",
            "salam\n",
            "salam\n",
            "salam\n",
            "salam\n",
            "salam\n",
            "salam\n",
            "salam\n",
            "salam\n",
            "salam\n",
            "salam\n",
            "salam\n",
            "salam\n",
            "salam\n",
            "salam\n",
            "salam\n",
            "salam\n",
            "salam\n",
            "salam\n",
            "salam\n",
            "salam\n",
            "salam\n",
            "salam\n",
            "salam\n",
            "salam\n",
            "salam\n",
            "salam\n",
            "salam\n",
            "salam\n",
            "salam\n",
            "salam\n",
            "salam\n",
            "salam\n",
            "salam\n",
            "salam\n",
            "salam\n",
            "salam\n",
            "salam\n",
            "salam\n",
            "salam\n",
            "salam\n",
            "salam\n",
            "salam\n",
            "salam\n",
            "salam\n",
            "salam\n",
            "salam\n",
            "salam\n",
            "salam\n",
            "salam\n",
            "salam\n",
            "salam\n",
            "salam\n",
            "salam\n",
            "salam\n",
            "salam\n",
            "salam\n",
            "salam\n",
            "salam\n",
            "salam\n",
            "salam\n",
            "salam\n",
            "salam\n",
            "salam\n",
            "salam\n",
            "salam\n",
            "salam\n",
            "salam\n",
            "salam\n",
            "salam\n",
            "salam\n",
            "salam\n",
            "salam\n",
            "salam\n",
            "salam\n",
            "salam\n",
            "salam\n",
            "salam\n",
            "salam\n",
            "salam\n",
            "salam\n",
            "salam\n",
            "salam\n",
            "salam\n",
            "salam\n",
            "salam\n",
            "salam\n",
            "salam\n",
            "salam\n",
            "salam\n",
            "salam\n",
            "salam\n",
            "salam\n",
            "salam\n",
            "salam\n",
            "salam\n",
            "salam\n",
            "salam\n",
            "salam\n",
            "salam\n",
            "salam\n",
            "salam\n",
            "salam\n",
            "salam\n",
            "salam\n",
            "salam\n",
            "salam\n",
            "salam\n",
            "salam\n",
            "salam\n",
            "salam\n",
            "salam\n",
            "salam\n",
            "salam\n",
            "salam\n",
            "salam\n",
            "salam\n",
            "salam\n",
            "salam\n",
            "salam\n",
            "salam\n",
            "salam\n",
            "salam\n",
            "salam\n",
            "salam\n",
            "salam\n",
            "salam\n",
            "salam\n",
            "salam\n",
            "salam\n",
            "salam\n",
            "salam\n",
            "salam\n",
            "salam\n",
            "salam\n",
            "salam\n",
            "salam\n",
            "salam\n",
            "salam\n",
            "salam\n",
            "salam\n",
            "salam\n",
            "salam\n",
            "salam\n",
            "salam\n",
            "salam\n",
            "salam\n",
            "salam\n",
            "salam\n",
            "salam\n",
            "salam\n",
            "salam\n",
            "salam\n",
            "salam\n",
            "salam\n",
            "salam\n",
            "salam\n",
            "salam\n",
            "salam\n",
            "salam\n",
            "salam\n",
            "salam\n",
            "salam\n",
            "salam\n",
            "salam\n",
            "salam\n",
            "salam\n",
            "salam\n",
            "salam\n",
            "salam\n",
            "salam\n",
            "salam\n",
            "salam\n",
            "salam\n",
            "salam\n",
            "salam\n",
            "salam\n",
            "salam\n",
            "salam\n",
            "salam\n",
            "salam\n",
            "salam\n",
            "salam\n",
            "salam\n",
            "salam\n",
            "salam\n",
            "salam\n",
            "salam\n",
            "salam\n",
            "salam\n",
            "salam\n",
            "salam\n",
            "salam\n",
            "salam\n",
            "salam\n",
            "salam\n",
            "salam\n",
            "salam\n",
            "salam\n",
            "salam\n",
            "salam\n",
            "salam\n",
            "salam\n",
            "salam\n",
            "salam\n",
            "salam\n",
            "salam\n",
            "salam\n",
            "salam\n",
            "salam\n",
            "salam\n",
            "salam\n",
            "salam\n",
            "salam\n",
            "salam\n",
            "salam\n",
            "salam\n",
            "salam\n",
            "salam\n",
            "salam\n",
            "salam\n",
            "salam\n",
            "salam\n",
            "salam\n",
            "salam\n",
            "salam\n",
            "salam\n",
            "salam\n",
            "salam\n",
            "salam\n",
            "salam\n",
            "salam\n",
            "salam\n",
            "salam\n",
            "salam\n",
            "salam\n",
            "salam\n",
            "salam\n",
            "salam\n",
            "salam\n",
            "salam\n",
            "salam\n",
            "salam\n",
            "salam\n",
            "salam\n",
            "salam\n",
            "salam\n",
            "salam\n",
            "salam\n",
            "salam\n",
            "salam\n",
            "salam\n",
            "salam\n",
            "salam\n",
            "salam\n",
            "salam\n",
            "salam\n",
            "salam\n",
            "salam\n",
            "salam\n",
            "salam\n",
            "salam\n",
            "salam\n",
            "salam\n",
            "salam\n",
            "salam\n",
            "salam\n",
            "salam\n",
            "salam\n",
            "salam\n",
            "salam\n",
            "salam\n",
            "salam\n",
            "salam\n",
            "salam\n",
            "salam\n",
            "salam\n",
            "salam\n",
            "salam\n",
            "salam\n",
            "salam\n",
            "salam\n",
            "salam\n",
            "salam\n",
            "salam\n",
            "salam\n",
            "salam\n",
            "salam\n",
            "salam\n",
            "salam\n",
            "salam\n",
            "salam\n",
            "salam\n",
            "salam\n",
            "salam\n",
            "salam\n",
            "salam\n",
            "salam\n",
            "salam\n",
            "salam\n",
            "salam\n",
            "salam\n",
            "salam\n",
            "salam\n",
            "salam\n",
            "salam\n",
            "salam\n",
            "salam\n",
            "salam\n",
            "salam\n",
            "salam\n",
            "salam\n",
            "salam\n",
            "salam\n",
            "salam\n",
            "salam\n",
            "salam\n",
            "salam\n",
            "salam\n",
            "salam\n",
            "salam\n",
            "salam\n",
            "salam\n",
            "salam\n",
            "salam\n",
            "salam\n",
            "salam\n",
            "salam\n",
            "salam\n",
            "salam\n",
            "salam\n",
            "salam\n",
            "salam\n",
            "salam\n",
            "salam\n",
            "salam\n",
            "salam\n",
            "salam\n",
            "salam\n",
            "salam\n",
            "salam\n",
            "salam\n",
            "salam\n",
            "salam\n",
            "salam\n",
            "salam\n",
            "salam\n",
            "salam\n",
            "salam\n",
            "salam\n",
            "salam\n",
            "salam\n",
            "salam\n",
            "salam\n",
            "salam\n",
            "salam\n",
            "salam\n",
            "salam\n",
            "salam\n",
            "salam\n",
            "salam\n",
            "salam\n",
            "salam\n",
            "salam\n",
            "salam\n",
            "salam\n",
            "salam\n",
            "salam\n",
            "salam\n",
            "salam\n",
            "salam\n",
            "salam\n",
            "salam\n",
            "salam\n",
            "salam\n",
            "salam\n",
            "salam\n",
            "salam\n",
            "salam\n",
            "salam\n",
            "salam\n",
            "salam\n",
            "salam\n",
            "salam\n",
            "salam\n",
            "salam\n",
            "salam\n",
            "salam\n",
            "salam\n",
            "salam\n",
            "salam\n",
            "salam\n",
            "salam\n",
            "salam\n",
            "salam\n",
            "salam\n",
            "salam\n",
            "salam\n",
            "salam\n",
            "salam\n",
            "salam\n",
            "salam\n",
            "salam\n",
            "salam\n",
            "salam\n",
            "salam\n",
            "salam\n",
            "salam\n",
            "salam\n",
            "salam\n",
            "salam\n",
            "salam\n",
            "salam\n",
            "salam\n",
            "salam\n",
            "salam\n",
            "salam\n",
            "salam\n",
            "salam\n",
            "salam\n",
            "salam\n",
            "salam\n",
            "salam\n",
            "salam\n",
            "salam\n",
            "salam\n",
            "salam\n",
            "salam\n",
            "salam\n",
            "salam\n",
            "salam\n",
            "salam\n",
            "salam\n",
            "salam\n",
            "salam\n",
            "salam\n",
            "salam\n",
            "salam\n",
            "salam\n",
            "salam\n",
            "salam\n",
            "salam\n",
            "salam\n",
            "salam\n",
            "salam\n",
            "salam\n",
            "salam\n",
            "salam\n",
            "salam\n",
            "salam\n",
            "salam\n",
            "salam\n",
            "salam\n",
            "salam\n",
            "salam\n",
            "salam\n",
            "salam\n",
            "salam\n",
            "salam\n",
            "salam\n",
            "salam\n",
            "salam\n",
            "salam\n",
            "salam\n",
            "salam\n",
            "salam\n",
            "salam\n",
            "salam\n",
            "salam\n",
            "salam\n",
            "salam\n",
            "salam\n",
            "salam\n",
            "salam\n",
            "salam\n",
            "salam\n",
            "salam\n",
            "salam\n",
            "salam\n",
            "salam\n",
            "salam\n",
            "salam\n",
            "salam\n",
            "salam\n",
            "salam\n",
            "salam\n",
            "salam\n",
            "salam\n",
            "salam\n",
            "salam\n",
            "salam\n",
            "salam\n",
            "salam\n",
            "salam\n",
            "salam\n",
            "salam\n",
            "salam\n",
            "salam\n",
            "salam\n",
            "salam\n",
            "salam\n",
            "salam\n",
            "salam\n",
            "salam\n",
            "salam\n",
            "salam\n",
            "salam\n",
            "salam\n",
            "salam\n",
            "salam\n",
            "salam\n",
            "salam\n",
            "salam\n",
            "salam\n",
            "salam\n",
            "salam\n",
            "salam\n",
            "salam\n",
            "salam\n",
            "salam\n",
            "salam\n",
            "salam\n",
            "salam\n",
            "salam\n",
            "salam\n",
            "salam\n",
            "salam\n",
            "salam\n",
            "salam\n",
            "salam\n",
            "salam\n",
            "salam\n",
            "salam\n",
            "salam\n",
            "salam\n",
            "salam\n",
            "salam\n",
            "salam\n",
            "salam\n",
            "salam\n",
            "salam\n",
            "salam\n",
            "salam\n",
            "salam\n",
            "salam\n",
            "salam\n",
            "salam\n",
            "salam\n",
            "salam\n",
            "salam\n",
            "salam\n",
            "salam\n",
            "salam\n",
            "salam\n",
            "salam\n",
            "salam\n",
            "salam\n",
            "salam\n",
            "salam\n",
            "salam\n",
            "salam\n",
            "salam\n",
            "salam\n",
            "salam\n",
            "salam\n",
            "salam\n",
            "salam\n",
            "salam\n",
            "salam\n",
            "salam\n",
            "salam\n",
            "salam\n",
            "salam\n",
            "salam\n",
            "salam\n",
            "salam\n",
            "salam\n",
            "salam\n",
            "salam\n",
            "salam\n",
            "salam\n",
            "salam\n",
            "salam\n",
            "salam\n",
            "salam\n",
            "salam\n",
            "salam\n",
            "salam\n",
            "salam\n",
            "salam\n",
            "salam\n",
            "salam\n",
            "salam\n",
            "salam\n",
            "salam\n",
            "salam\n",
            "salam\n",
            "salam\n",
            "salam\n",
            "salam\n",
            "salam\n",
            "salam\n",
            "salam\n",
            "salam\n",
            "salam\n",
            "salam\n",
            "salam\n",
            "salam\n",
            "salam\n",
            "salam\n",
            "salam\n",
            "salam\n",
            "salam\n",
            "salam\n",
            "salam\n",
            "salam\n",
            "salam\n",
            "salam\n",
            "salam\n",
            "salam\n",
            "salam\n",
            "salam\n",
            "salam\n",
            "salam\n",
            "salam\n",
            "salam\n",
            "salam\n",
            "salam\n",
            "salam\n",
            "salam\n",
            "salam\n",
            "salam\n",
            "salam\n",
            "salam\n",
            "salam\n",
            "salam\n",
            "salam\n",
            "salam\n",
            "salam\n",
            "salam\n",
            "salam\n",
            "salam\n",
            "salam\n",
            "salam\n",
            "salam\n",
            "salam\n",
            "salam\n",
            "salam\n",
            "salam\n",
            "salam\n",
            "salam\n",
            "salam\n",
            "salam\n",
            "salam\n",
            "salam\n",
            "salam\n",
            "salam\n",
            "salam\n",
            "salam\n",
            "salam\n",
            "salam\n",
            "salam\n",
            "salam\n",
            "salam\n",
            "salam\n",
            "salam\n",
            "salam\n",
            "salam\n",
            "salam\n",
            "salam\n",
            "salam\n",
            "salam\n",
            "salam\n",
            "salam\n",
            "salam\n",
            "salam\n",
            "salam\n",
            "salam\n",
            "salam\n",
            "salam\n",
            "salam\n",
            "salam\n",
            "salam\n",
            "salam\n",
            "salam\n",
            "salam\n",
            "salam\n",
            "salam\n",
            "salam\n",
            "salam\n",
            "salam\n",
            "salam\n",
            "salam\n",
            "salam\n",
            "salam\n",
            "salam\n",
            "salam\n",
            "salam\n",
            "salam\n",
            "salam\n",
            "salam\n",
            "salam\n",
            "salam\n",
            "salam\n",
            "salam\n",
            "salam\n",
            "salam\n",
            "salam\n",
            "salam\n",
            "salam\n",
            "salam\n",
            "salam\n",
            "salam\n",
            "salam\n",
            "salam\n",
            "salam\n",
            "salam\n",
            "salam\n",
            "salam\n",
            "salam\n",
            "salam\n",
            "salam\n",
            "salam\n",
            "salam\n",
            "salam\n",
            "salam\n",
            "salam\n",
            "salam\n",
            "salam\n",
            "salam\n",
            "salam\n",
            "salam\n",
            "salam\n",
            "salam\n",
            "salam\n",
            "salam\n",
            "salam\n",
            "salam\n",
            "salam\n",
            "salam\n",
            "salam\n",
            "salam\n",
            "salam\n",
            "salam\n",
            "salam\n",
            "salam\n",
            "salam\n",
            "salam\n",
            "salam\n",
            "salam\n",
            "salam\n",
            "salam\n",
            "salam\n",
            "salam\n",
            "salam\n",
            "salam\n",
            "salam\n",
            "salam\n",
            "salam\n",
            "salam\n",
            "salam\n",
            "salam\n",
            "salam\n",
            "salam\n",
            "salam\n",
            "salam\n",
            "salam\n",
            "salam\n",
            "salam\n",
            "salam\n",
            "salam\n",
            "salam\n",
            "salam\n",
            "salam\n",
            "salam\n",
            "salam\n",
            "salam\n",
            "salam\n",
            "salam\n",
            "salam\n",
            "salam\n",
            "salam\n",
            "salam\n",
            "salam\n",
            "salam\n",
            "salam\n",
            "salam\n",
            "salam\n",
            "salam\n",
            "salam\n",
            "salam\n",
            "salam\n",
            "salam\n",
            "salam\n",
            "salam\n",
            "salam\n",
            "salam\n",
            "salam\n",
            "salam\n",
            "salam\n",
            "salam\n",
            "salam\n",
            "salam\n",
            "salam\n",
            "salam\n",
            "salam\n",
            "salam\n",
            "salam\n",
            "salam\n",
            "salam\n",
            "salam\n",
            "salam\n",
            "salam\n",
            "salam\n",
            "salam\n",
            "salam\n",
            "salam\n",
            "salam\n",
            "salam\n",
            "salam\n",
            "salam\n",
            "salam\n",
            "salam\n",
            "salam\n",
            "salam\n",
            "salam\n",
            "salam\n",
            "salam\n",
            "salam\n",
            "salam\n",
            "salam\n",
            "salam\n",
            "salam\n",
            "salam\n",
            "salam\n",
            "salam\n",
            "salam\n",
            "salam\n",
            "salam\n",
            "salam\n",
            "salam\n",
            "salam\n",
            "salam\n",
            "salam\n",
            "salam\n",
            "salam\n",
            "salam\n",
            "salam\n",
            "salam\n",
            "salam\n",
            "salam\n",
            "salam\n",
            "salam\n",
            "salam\n",
            "salam\n",
            "salam\n",
            "salam\n",
            "salam\n",
            "salam\n",
            "salam\n",
            "salam\n",
            "salam\n",
            "salam\n",
            "salam\n",
            "salam\n",
            "salam\n",
            "salam\n",
            "salam\n",
            "salam\n",
            "salam\n",
            "salam\n",
            "salam\n",
            "salam\n",
            "salam\n",
            "salam\n",
            "salam\n",
            "salam\n",
            "salam\n",
            "salam\n",
            "salam\n",
            "salam\n",
            "salam\n",
            "salam\n",
            "salam\n",
            "salam\n",
            "salam\n",
            "salam\n",
            "salam\n",
            "salam\n",
            "salam\n",
            "salam\n",
            "salam\n",
            "salam\n",
            "salam\n",
            "salam\n",
            "salam\n",
            "salam\n",
            "salam\n",
            "salam\n",
            "salam\n",
            "salam\n",
            "salam\n",
            "salam\n",
            "salam\n",
            "salam\n",
            "salam\n",
            "salam\n",
            "salam\n",
            "salam\n",
            "salam\n",
            "salam\n",
            "salam\n",
            "salam\n",
            "salam\n",
            "salam\n",
            "salam\n",
            "salam\n",
            "salam\n",
            "salam\n",
            "salam\n",
            "salam\n",
            "salam\n",
            "salam\n",
            "salam\n",
            "salam\n",
            "salam\n",
            "salam\n",
            "salam\n",
            "salam\n",
            "salam\n",
            "salam\n",
            "salam\n",
            "salam\n",
            "salam\n",
            "salam\n",
            "salam\n",
            "salam\n",
            "salam\n",
            "salam\n",
            "salam\n",
            "salam\n",
            "salam\n",
            "salam\n",
            "salam\n",
            "salam\n",
            "salam\n",
            "salam\n",
            "salam\n",
            "salam\n",
            "salam\n",
            "salam\n",
            "salam\n",
            "salam\n",
            "salam\n",
            "salam\n",
            "salam\n",
            "salam\n",
            "salam\n",
            "salam\n",
            "salam\n",
            "salam\n",
            "salam\n",
            "salam\n",
            "salam\n",
            "salam\n",
            "salam\n",
            "salam\n",
            "salam\n",
            "salam\n",
            "salam\n",
            "salam\n",
            "salam\n",
            "salam\n",
            "salam\n",
            "salam\n",
            "salam\n",
            "salam\n",
            "salam\n",
            "salam\n",
            "salam\n",
            "salam\n",
            "salam\n",
            "salam\n",
            "salam\n",
            "salam\n",
            "salam\n",
            "salam\n",
            "salam\n",
            "salam\n",
            "salam\n",
            "salam\n",
            "salam\n",
            "salam\n",
            "salam\n",
            "salam\n",
            "salam\n",
            "salam\n",
            "salam\n",
            "salam\n",
            "salam\n",
            "salam\n",
            "salam\n",
            "salam\n",
            "salam\n",
            "salam\n",
            "salam\n",
            "salam\n",
            "salam\n",
            "salam\n",
            "salam\n",
            "salam\n",
            "salam\n",
            "salam\n",
            "salam\n",
            "salam\n",
            "salam\n",
            "salam\n",
            "salam\n",
            "salam\n",
            "salam\n",
            "salam\n",
            "salam\n",
            "salam\n",
            "salam\n",
            "salam\n",
            "salam\n",
            "salam\n",
            "salam\n",
            "salam\n",
            "salam\n",
            "salam\n",
            "salam\n",
            "salam\n",
            "salam\n",
            "salam\n",
            "salam\n",
            "salam\n",
            "salam\n",
            "salam\n",
            "salam\n",
            "salam\n",
            "salam\n",
            "salam\n",
            "salam\n",
            "salam\n",
            "salam\n",
            "salam\n",
            "salam\n",
            "salam\n",
            "salam\n",
            "salam\n",
            "salam\n",
            "salam\n",
            "salam\n",
            "salam\n",
            "salam\n",
            "salam\n",
            "salam\n",
            "salam\n",
            "salam\n",
            "salam\n",
            "salam\n",
            "salam\n",
            "salam\n",
            "salam\n",
            "salam\n",
            "salam\n",
            "salam\n",
            "salam\n",
            "salam\n",
            "salam\n",
            "salam\n",
            "salam\n",
            "salam\n",
            "salam\n",
            "salam\n",
            "salam\n",
            "salam\n",
            "salam\n",
            "salam\n",
            "salam\n",
            "salam\n",
            "salam\n",
            "salam\n",
            "salam\n",
            "salam\n",
            "salam\n",
            "salam\n",
            "salam\n",
            "salam\n",
            "salam\n",
            "salam\n",
            "salam\n",
            "salam\n",
            "salam\n",
            "salam\n",
            "salam\n",
            "salam\n",
            "salam\n",
            "salam\n",
            "salam\n",
            "salam\n",
            "salam\n",
            "salam\n",
            "salam\n",
            "salam\n",
            "salam\n",
            "salam\n",
            "salam\n",
            "salam\n",
            "salam\n",
            "salam\n",
            "salam\n",
            "salam\n",
            "salam\n",
            "salam\n",
            "salam\n",
            "salam\n",
            "salam\n",
            "salam\n",
            "salam\n",
            "salam\n",
            "salam\n",
            "salam\n",
            "salam\n",
            "salam\n",
            "salam\n",
            "salam\n",
            "salam\n",
            "salam\n",
            "salam\n",
            "salam\n",
            "salam\n",
            "salam\n",
            "salam\n",
            "salam\n",
            "salam\n",
            "salam\n",
            "salam\n",
            "salam\n",
            "salam\n",
            "salam\n",
            "salam\n",
            "salam\n",
            "salam\n",
            "salam\n",
            "salam\n",
            "salam\n",
            "salam\n",
            "salam\n",
            "salam\n",
            "salam\n",
            "salam\n",
            "salam\n",
            "salam\n",
            "salam\n",
            "salam\n",
            "salam\n",
            "salam\n",
            "salam\n",
            "salam\n",
            "salam\n",
            "salam\n",
            "salam\n",
            "salam\n",
            "salam\n",
            "salam\n",
            "salam\n",
            "salam\n",
            "salam\n",
            "salam\n",
            "salam\n",
            "salam\n",
            "salam\n",
            "salam\n",
            "salam\n",
            "salam\n",
            "salam\n",
            "salam\n",
            "salam\n",
            "salam\n",
            "salam\n",
            "salam\n",
            "salam\n",
            "salam\n",
            "salam\n",
            "salam\n",
            "salam\n",
            "salam\n",
            "salam\n",
            "salam\n",
            "salam\n",
            "salam\n",
            "salam\n",
            "salam\n",
            "salam\n",
            "salam\n",
            "salam\n",
            "salam\n",
            "salam\n",
            "salam\n",
            "salam\n",
            "salam\n",
            "salam\n",
            "salam\n",
            "salam\n",
            "salam\n",
            "salam\n",
            "salam\n",
            "salam\n",
            "salam\n",
            "salam\n",
            "salam\n",
            "salam\n",
            "salam\n",
            "salam\n",
            "salam\n",
            "salam\n",
            "salam\n",
            "salam\n",
            "salam\n",
            "salam\n",
            "salam\n",
            "salam\n",
            "salam\n",
            "salam\n",
            "salam\n",
            "salam\n",
            "salam\n",
            "salam\n",
            "salam\n",
            "salam\n",
            "salam\n",
            "salam\n",
            "salam\n",
            "salam\n",
            "salam\n",
            "salam\n",
            "salam\n",
            "salam\n",
            "salam\n",
            "salam\n",
            "salam\n",
            "salam\n",
            "salam\n",
            "salam\n",
            "salam\n",
            "salam\n",
            "salam\n",
            "salam\n",
            "salam\n",
            "salam\n",
            "salam\n",
            "salam\n",
            "salam\n",
            "salam\n",
            "salam\n",
            "salam\n",
            "salam\n",
            "salam\n",
            "salam\n",
            "salam\n",
            "salam\n",
            "salam\n",
            "salam\n",
            "salam\n",
            "salam\n",
            "salam\n",
            "salam\n",
            "salam\n",
            "salam\n",
            "salam\n",
            "salam\n",
            "salam\n",
            "salam\n",
            "salam\n",
            "salam\n",
            "salam\n",
            "salam\n",
            "salam\n",
            "salam\n",
            "salam\n",
            "salam\n",
            "salam\n",
            "salam\n",
            "salam\n",
            "salam\n",
            "salam\n",
            "salam\n",
            "salam\n",
            "salam\n",
            "salam\n",
            "salam\n",
            "salam\n",
            "salam\n",
            "salam\n",
            "salam\n",
            "salam\n",
            "salam\n",
            "salam\n",
            "salam\n",
            "salam\n",
            "salam\n",
            "salam\n",
            "salam\n",
            "salam\n",
            "salam\n",
            "salam\n",
            "salam\n",
            "salam\n",
            "salam\n",
            "salam\n",
            "salam\n",
            "salam\n",
            "salam\n",
            "salam\n",
            "salam\n",
            "salam\n",
            "salam\n",
            "salam\n",
            "salam\n",
            "salam\n",
            "salam\n",
            "salam\n",
            "salam\n",
            "salam\n",
            "salam\n",
            "salam\n",
            "salam\n",
            "salam\n",
            "salam\n",
            "salam\n",
            "salam\n",
            "salam\n",
            "salam\n",
            "salam\n",
            "salam\n",
            "salam\n",
            "salam\n",
            "salam\n",
            "salam\n",
            "salam\n",
            "salam\n",
            "salam\n",
            "salam\n",
            "salam\n",
            "salam\n",
            "salam\n",
            "salam\n",
            "salam\n",
            "salam\n",
            "salam\n",
            "salam\n",
            "salam\n",
            "salam\n",
            "salam\n",
            "salam\n",
            "salam\n",
            "salam\n",
            "salam\n",
            "salam\n",
            "salam\n",
            "salam\n",
            "salam\n",
            "salam\n",
            "salam\n",
            "salam\n",
            "salam\n",
            "salam\n",
            "salam\n",
            "salam\n",
            "salam\n",
            "salam\n",
            "salam\n",
            "salam\n",
            "salam\n",
            "salam\n",
            "salam\n",
            "salam\n",
            "salam\n",
            "salam\n",
            "salam\n",
            "salam\n",
            "salam\n",
            "salam\n",
            "salam\n",
            "salam\n",
            "salam\n",
            "salam\n",
            "salam\n",
            "salam\n",
            "salam\n",
            "salam\n",
            "salam\n",
            "salam\n",
            "salam\n",
            "salam\n",
            "salam\n",
            "salam\n",
            "salam\n",
            "salam\n",
            "salam\n",
            "salam\n",
            "salam\n",
            "salam\n",
            "salam\n",
            "salam\n",
            "salam\n",
            "salam\n",
            "salam\n",
            "salam\n",
            "salam\n",
            "salam\n",
            "salam\n",
            "salam\n",
            "salam\n",
            "salam\n",
            "salam\n",
            "salam\n",
            "salam\n",
            "salam\n",
            "salam\n",
            "salam\n",
            "salam\n",
            "salam\n",
            "salam\n",
            "salam\n",
            "salam\n",
            "salam\n",
            "salam\n",
            "salam\n",
            "salam\n",
            "salam\n",
            "salam\n",
            "salam\n",
            "salam\n",
            "salam\n",
            "salam\n",
            "salam\n",
            "salam\n",
            "salam\n",
            "salam\n",
            "salam\n",
            "salam\n",
            "salam\n",
            "salam\n",
            "salam\n",
            "salam\n",
            "salam\n",
            "salam\n",
            "salam\n",
            "salam\n",
            "salam\n",
            "salam\n",
            "salam\n",
            "salam\n",
            "salam\n",
            "salam\n",
            "salam\n",
            "salam\n",
            "salam\n",
            "salam\n",
            "salam\n",
            "salam\n",
            "salam\n",
            "salam\n",
            "salam\n",
            "salam\n",
            "salam\n",
            "salam\n",
            "salam\n",
            "salam\n",
            "salam\n",
            "salam\n",
            "salam\n",
            "salam\n",
            "salam\n",
            "salam\n",
            "salam\n",
            "salam\n",
            "salam\n",
            "salam\n",
            "salam\n",
            "salam\n",
            "salam\n",
            "salam\n",
            "salam\n",
            "salam\n",
            "salam\n",
            "salam\n",
            "salam\n",
            "salam\n",
            "salam\n",
            "salam\n",
            "salam\n",
            "salam\n",
            "salam\n",
            "salam\n",
            "salam\n",
            "salam\n",
            "salam\n",
            "salam\n",
            "salam\n",
            "salam\n",
            "salam\n",
            "salam\n",
            "salam\n",
            "salam\n",
            "salam\n",
            "salam\n",
            "salam\n",
            "salam\n",
            "salam\n",
            "salam\n",
            "salam\n",
            "salam\n",
            "salam\n",
            "salam\n",
            "salam\n",
            "salam\n",
            "salam\n",
            "salam\n",
            "salam\n",
            "salam\n",
            "salam\n",
            "salam\n",
            "salam\n",
            "salam\n",
            "salam\n",
            "salam\n",
            "salam\n",
            "salam\n",
            "salam\n",
            "salam\n",
            "salam\n",
            "salam\n",
            "salam\n",
            "salam\n",
            "salam\n",
            "salam\n",
            "salam\n",
            "salam\n",
            "salam\n",
            "salam\n",
            "salam\n",
            "salam\n",
            "salam\n",
            "salam\n",
            "salam\n",
            "salam\n",
            "salam\n",
            "salam\n",
            "salam\n",
            "salam\n",
            "salam\n",
            "salam\n",
            "salam\n",
            "salam\n",
            "salam\n",
            "salam\n",
            "salam\n",
            "salam\n",
            "salam\n",
            "salam\n",
            "salam\n",
            "salam\n",
            "salam\n",
            "salam\n",
            "salam\n",
            "salam\n",
            "salam\n",
            "salam\n",
            "salam\n",
            "salam\n",
            "salam\n",
            "salam\n",
            "salam\n",
            "salam\n",
            "salam\n",
            "salam\n",
            "salam\n",
            "salam\n",
            "salam\n",
            "salam\n",
            "salam\n",
            "salam\n",
            "salam\n",
            "salam\n",
            "salam\n",
            "salam\n",
            "salam\n",
            "salam\n",
            "salam\n",
            "salam\n",
            "salam\n",
            "salam\n",
            "salam\n",
            "salam\n",
            "salam\n",
            "salam\n",
            "salam\n",
            "salam\n",
            "salam\n",
            "salam\n",
            "salam\n",
            "salam\n",
            "salam\n",
            "salam\n",
            "salam\n",
            "salam\n",
            "salam\n",
            "salam\n",
            "salam\n",
            "salam\n",
            "salam\n",
            "salam\n",
            "salam\n",
            "salam\n",
            "salam\n",
            "salam\n",
            "salam\n",
            "salam\n",
            "salam\n",
            "salam\n",
            "salam\n",
            "salam\n",
            "salam\n",
            "salam\n",
            "salam\n",
            "salam\n",
            "salam\n",
            "salam\n",
            "salam\n",
            "salam\n",
            "salam\n",
            "salam\n",
            "salam\n",
            "salam\n",
            "salam\n",
            "salam\n",
            "salam\n",
            "salam\n",
            "salam\n",
            "salam\n",
            "salam\n",
            "salam\n",
            "salam\n",
            "salam\n",
            "salam\n",
            "salam\n",
            "salam\n",
            "salam\n",
            "salam\n",
            "salam\n",
            "salam\n",
            "salam\n",
            "salam\n",
            "salam\n",
            "salam\n",
            "salam\n",
            "salam\n",
            "salam\n",
            "salam\n",
            "salam\n",
            "salam\n",
            "salam\n",
            "salam\n",
            "salam\n",
            "salam\n",
            "salam\n",
            "salam\n",
            "salam\n",
            "salam\n",
            "salam\n",
            "salam\n",
            "salam\n",
            "salam\n",
            "salam\n",
            "salam\n",
            "salam\n",
            "salam\n",
            "salam\n",
            "salam\n",
            "salam\n",
            "salam\n",
            "salam\n",
            "salam\n",
            "salam\n",
            "salam\n",
            "salam\n",
            "salam\n",
            "salam\n",
            "salam\n",
            "salam\n",
            "salam\n",
            "salam\n",
            "salam\n",
            "salam\n",
            "salam\n",
            "salam\n",
            "salam\n",
            "salam\n",
            "salam\n",
            "salam\n",
            "salam\n",
            "salam\n",
            "salam\n",
            "salam\n",
            "salam\n",
            "salam\n",
            "salam\n",
            "salam\n",
            "salam\n",
            "salam\n",
            "salam\n",
            "salam\n",
            "salam\n",
            "salam\n",
            "salam\n",
            "salam\n",
            "salam\n",
            "salam\n",
            "salam\n",
            "salam\n",
            "salam\n",
            "salam\n",
            "salam\n",
            "salam\n",
            "salam\n",
            "salam\n",
            "salam\n",
            "salam\n",
            "salam\n",
            "salam\n",
            "salam\n",
            "salam\n",
            "salam\n",
            "salam\n",
            "salam\n",
            "salam\n",
            "salam\n",
            "salam\n",
            "salam\n",
            "salam\n",
            "salam\n",
            "salam\n",
            "salam\n",
            "salam\n",
            "salam\n",
            "salam\n",
            "salam\n",
            "salam\n",
            "salam\n",
            "salam\n",
            "salam\n",
            "salam\n",
            "salam\n",
            "salam\n",
            "salam\n",
            "salam\n",
            "salam\n",
            "salam\n",
            "salam\n",
            "salam\n",
            "salam\n",
            "salam\n",
            "salam\n",
            "salam\n",
            "salam\n",
            "salam\n",
            "salam\n",
            "salam\n",
            "salam\n",
            "salam\n",
            "salam\n",
            "salam\n",
            "salam\n",
            "salam\n",
            "salam\n",
            "salam\n",
            "salam\n",
            "salam\n",
            "salam\n",
            "salam\n",
            "salam\n",
            "salam\n",
            "salam\n",
            "salam\n",
            "salam\n",
            "salam\n",
            "salam\n",
            "salam\n",
            "salam\n",
            "salam\n",
            "salam\n",
            "salam\n",
            "salam\n",
            "salam\n",
            "salam\n",
            "salam\n",
            "salam\n",
            "salam\n",
            "salam\n",
            "salam\n",
            "salam\n",
            "salam\n",
            "salam\n",
            "salam\n",
            "salam\n",
            "salam\n",
            "salam\n",
            "salam\n",
            "salam\n",
            "salam\n",
            "salam\n",
            "salam\n",
            "salam\n",
            "salam\n",
            "salam\n",
            "salam\n",
            "salam\n",
            "salam\n",
            "salam\n",
            "salam\n",
            "salam\n",
            "salam\n",
            "salam\n",
            "salam\n",
            "salam\n",
            "salam\n",
            "salam\n",
            "salam\n",
            "salam\n",
            "salam\n",
            "salam\n",
            "salam\n",
            "salam\n",
            "salam\n",
            "salam\n",
            "salam\n",
            "salam\n",
            "salam\n",
            "salam\n",
            "salam\n",
            "salam\n",
            "salam\n",
            "salam\n",
            "salam\n",
            "salam\n",
            "salam\n",
            "salam\n",
            "salam\n",
            "salam\n",
            "salam\n",
            "salam\n",
            "salam\n",
            "salam\n",
            "salam\n",
            "salam\n",
            "salam\n",
            "salam\n",
            "salam\n",
            "salam\n",
            "salam\n",
            "salam\n",
            "salam\n",
            "salam\n",
            "salam\n",
            "salam\n",
            "salam\n",
            "salam\n",
            "salam\n",
            "salam\n",
            "salam\n",
            "salam\n",
            "salam\n",
            "salam\n",
            "salam\n",
            "salam\n",
            "salam\n",
            "salam\n",
            "salam\n",
            "salam\n",
            "salam\n",
            "salam\n",
            "salam\n",
            "salam\n",
            "salam\n",
            "salam\n",
            "salam\n",
            "salam\n",
            "salam\n",
            "salam\n",
            "salam\n",
            "salam\n",
            "salam\n",
            "salam\n",
            "salam\n",
            "salam\n",
            "salam\n",
            "salam\n",
            "salam\n",
            "salam\n",
            "salam\n",
            "salam\n",
            "salam\n",
            "salam\n",
            "salam\n",
            "salam\n",
            "salam\n",
            "salam\n",
            "salam\n",
            "salam\n",
            "salam\n",
            "salam\n",
            "salam\n",
            "salam\n",
            "salam\n",
            "salam\n",
            "salam\n",
            "salam\n",
            "salam\n",
            "salam\n",
            "salam\n",
            "salam\n",
            "salam\n",
            "salam\n",
            "salam\n",
            "salam\n",
            "salam\n",
            "salam\n",
            "salam\n",
            "salam\n",
            "salam\n",
            "salam\n",
            "salam\n",
            "salam\n",
            "salam\n",
            "salam\n",
            "salam\n",
            "salam\n",
            "salam\n",
            "salam\n",
            "salam\n",
            "salam\n",
            "salam\n",
            "salam\n",
            "salam\n",
            "salam\n",
            "salam\n",
            "salam\n",
            "salam\n",
            "salam\n",
            "salam\n",
            "salam\n",
            "salam\n",
            "salam\n",
            "salam\n",
            "salam\n",
            "salam\n",
            "salam\n",
            "salam\n",
            "salam\n",
            "salam\n",
            "salam\n",
            "salam\n",
            "salam\n",
            "salam\n",
            "salam\n",
            "salam\n",
            "salam\n",
            "salam\n",
            "salam\n",
            "salam\n",
            "salam\n",
            "salam\n",
            "salam\n",
            "salam\n",
            "salam\n",
            "salam\n",
            "salam\n",
            "salam\n",
            "salam\n",
            "salam\n",
            "salam\n",
            "salam\n",
            "salam\n",
            "salam\n",
            "salam\n",
            "salam\n",
            "salam\n",
            "salam\n",
            "salam\n",
            "salam\n",
            "salam\n",
            "salam\n",
            "salam\n",
            "salam\n",
            "salam\n",
            "salam\n",
            "salam\n",
            "salam\n",
            "salam\n",
            "salam\n",
            "salam\n",
            "salam\n",
            "salam\n",
            "salam\n",
            "salam\n",
            "salam\n",
            "salam\n",
            "salam\n",
            "salam\n",
            "salam\n",
            "salam\n",
            "salam\n",
            "salam\n",
            "salam\n",
            "salam\n",
            "salam\n",
            "salam\n",
            "salam\n",
            "salam\n",
            "salam\n",
            "salam\n",
            "salam\n",
            "salam\n",
            "salam\n",
            "salam\n",
            "salam\n",
            "salam\n",
            "salam\n",
            "salam\n",
            "salam\n",
            "salam\n",
            "salam\n",
            "salam\n",
            "salam\n",
            "salam\n",
            "salam\n",
            "salam\n",
            "salam\n",
            "salam\n",
            "salam\n",
            "salam\n",
            "salam\n",
            "salam\n",
            "salam\n",
            "salam\n",
            "salam\n",
            "salam\n",
            "salam\n",
            "salam\n",
            "salam\n",
            "salam\n",
            "salam\n",
            "salam\n",
            "salam\n",
            "salam\n",
            "salam\n",
            "salam\n",
            "salam\n",
            "salam\n",
            "salam\n",
            "salam\n",
            "salam\n",
            "salam\n",
            "salam\n",
            "salam\n",
            "salam\n",
            "salam\n",
            "salam\n",
            "salam\n",
            "salam\n",
            "salam\n",
            "salam\n",
            "salam\n",
            "salam\n",
            "salam\n",
            "salam\n",
            "salam\n",
            "salam\n",
            "salam\n",
            "salam\n",
            "salam\n",
            "salam\n",
            "salam\n",
            "salam\n",
            "salam\n",
            "salam\n",
            "salam\n",
            "salam\n",
            "salam\n",
            "salam\n",
            "salam\n",
            "salam\n",
            "salam\n",
            "salam\n",
            "salam\n",
            "salam\n",
            "salam\n",
            "salam\n",
            "salam\n",
            "salam\n",
            "salam\n",
            "salam\n",
            "salam\n",
            "salam\n",
            "salam\n",
            "salam\n",
            "salam\n",
            "salam\n",
            "salam\n",
            "salam\n",
            "salam\n",
            "salam\n",
            "salam\n",
            "salam\n",
            "salam\n",
            "salam\n",
            "salam\n",
            "salam\n",
            "salam\n",
            "salam\n",
            "salam\n",
            "salam\n",
            "salam\n",
            "salam\n",
            "salam\n",
            "salam\n",
            "salam\n",
            "salam\n",
            "salam\n",
            "salam\n",
            "salam\n",
            "salam\n",
            "salam\n",
            "salam\n",
            "salam\n",
            "salam\n",
            "salam\n",
            "salam\n",
            "salam\n",
            "salam\n",
            "salam\n",
            "salam\n",
            "salam\n",
            "salam\n",
            "salam\n",
            "salam\n",
            "salam\n",
            "salam\n",
            "salam\n",
            "salam\n",
            "salam\n",
            "salam\n",
            "salam\n",
            "salam\n",
            "salam\n",
            "salam\n",
            "salam\n",
            "salam\n",
            "salam\n",
            "salam\n",
            "salam\n",
            "salam\n",
            "salam\n",
            "salam\n",
            "salam\n",
            "salam\n",
            "salam\n",
            "salam\n",
            "salam\n",
            "salam\n",
            "salam\n",
            "salam\n",
            "salam\n",
            "salam\n",
            "salam\n",
            "salam\n",
            "salam\n",
            "salam\n",
            "salam\n",
            "salam\n",
            "salam\n",
            "salam\n",
            "salam\n",
            "salam\n",
            "salam\n",
            "salam\n",
            "salam\n",
            "salam\n",
            "salam\n",
            "salam\n",
            "salam\n",
            "salam\n",
            "salam\n",
            "salam\n",
            "salam\n",
            "salam\n",
            "salam\n",
            "salam\n",
            "salam\n",
            "salam\n",
            "salam\n",
            "salam\n",
            "salam\n",
            "salam\n",
            "salam\n",
            "salam\n",
            "salam\n",
            "salam\n",
            "salam\n",
            "salam\n",
            "salam\n",
            "salam\n",
            "salam\n",
            "salam\n",
            "salam\n",
            "salam\n",
            "salam\n",
            "salam\n",
            "salam\n",
            "salam\n",
            "salam\n",
            "salam\n",
            "salam\n",
            "salam\n",
            "salam\n",
            "salam\n",
            "salam\n",
            "salam\n",
            "salam\n",
            "salam\n",
            "salam\n",
            "salam\n",
            "salam\n",
            "salam\n",
            "salam\n",
            "salam\n",
            "salam\n",
            "salam\n",
            "salam\n",
            "salam\n",
            "salam\n",
            "salam\n",
            "salam\n",
            "salam\n",
            "salam\n",
            "salam\n",
            "salam\n",
            "salam\n",
            "salam\n",
            "salam\n",
            "salam\n",
            "salam\n",
            "salam\n",
            "salam\n",
            "salam\n",
            "salam\n",
            "salam\n",
            "salam\n",
            "salam\n",
            "salam\n",
            "salam\n",
            "salam\n",
            "salam\n",
            "salam\n",
            "salam\n",
            "salam\n",
            "salam\n",
            "salam\n",
            "salam\n",
            "salam\n",
            "salam\n",
            "salam\n",
            "salam\n",
            "salam\n",
            "salam\n",
            "salam\n",
            "salam\n",
            "salam\n",
            "salam\n",
            "salam\n",
            "salam\n",
            "salam\n",
            "salam\n",
            "salam\n",
            "salam\n",
            "salam\n",
            "salam\n",
            "salam\n",
            "salam\n",
            "salam\n",
            "salam\n",
            "salam\n",
            "salam\n",
            "salam\n",
            "salam\n",
            "salam\n",
            "salam\n",
            "salam\n",
            "salam\n",
            "salam\n",
            "salam\n",
            "salam\n",
            "salam\n",
            "salam\n",
            "salam\n",
            "salam\n",
            "salam\n",
            "salam\n",
            "salam\n",
            "salam\n",
            "salam\n",
            "salam\n",
            "salam\n",
            "salam\n",
            "salam\n",
            "salam\n",
            "salam\n",
            "salam\n",
            "salam\n",
            "salam\n",
            "salam\n",
            "salam\n",
            "salam\n",
            "salam\n",
            "salam\n",
            "salam\n",
            "salam\n",
            "salam\n",
            "salam\n",
            "salam\n",
            "salam\n",
            "salam\n",
            "salam\n",
            "salam\n",
            "salam\n",
            "salam\n",
            "salam\n",
            "salam\n",
            "salam\n",
            "salam\n",
            "salam\n",
            "salam\n",
            "salam\n",
            "salam\n",
            "salam\n",
            "salam\n",
            "salam\n",
            "salam\n",
            "salam\n",
            "salam\n",
            "salam\n",
            "salam\n",
            "salam\n",
            "salam\n",
            "salam\n",
            "salam\n",
            "salam\n",
            "salam\n",
            "salam\n",
            "salam\n",
            "salam\n",
            "salam\n",
            "salam\n",
            "salam\n",
            "salam\n",
            "salam\n",
            "salam\n",
            "salam\n",
            "salam\n",
            "salam\n",
            "salam\n",
            "salam\n",
            "salam\n",
            "salam\n",
            "salam\n",
            "salam\n",
            "salam\n",
            "salam\n",
            "salam\n",
            "salam\n",
            "salam\n",
            "salam\n",
            "salam\n",
            "salam\n",
            "salam\n",
            "salam\n",
            "salam\n",
            "salam\n",
            "salam\n",
            "salam\n",
            "salam\n",
            "salam\n",
            "salam\n",
            "salam\n",
            "salam\n",
            "salam\n",
            "salam\n",
            "salam\n",
            "salam\n",
            "salam\n",
            "salam\n",
            "salam\n",
            "salam\n",
            "salam\n",
            "salam\n",
            "salam\n",
            "salam\n",
            "salam\n",
            "salam\n",
            "salam\n",
            "salam\n",
            "salam\n",
            "salam\n",
            "salam\n",
            "salam\n",
            "salam\n",
            "salam\n",
            "salam\n",
            "salam\n",
            "salam\n",
            "salam\n",
            "salam\n",
            "salam\n",
            "salam\n",
            "salam\n",
            "salam\n",
            "salam\n",
            "salam\n",
            "salam\n",
            "salam\n",
            "salam\n",
            "salam\n",
            "salam\n",
            "salam\n",
            "salam\n",
            "salam\n",
            "salam\n",
            "salam\n",
            "salam\n",
            "salam\n",
            "salam\n",
            "salam\n",
            "salam\n",
            "salam\n",
            "salam\n",
            "salam\n",
            "salam\n",
            "salam\n",
            "salam\n",
            "salam\n",
            "salam\n",
            "salam\n",
            "salam\n",
            "salam\n",
            "salam\n",
            "salam\n",
            "salam\n",
            "salam\n",
            "salam\n",
            "salam\n",
            "salam\n",
            "salam\n",
            "salam\n",
            "salam\n",
            "salam\n",
            "salam\n",
            "salam\n",
            "salam\n",
            "salam\n",
            "salam\n",
            "salam\n",
            "salam\n",
            "salam\n",
            "salam\n",
            "salam\n",
            "salam\n",
            "salam\n",
            "salam\n",
            "salam\n",
            "salam\n",
            "salam\n",
            "salam\n",
            "salam\n",
            "salam\n",
            "salam\n",
            "salam\n",
            "salam\n",
            "salam\n",
            "salam\n",
            "salam\n",
            "salam\n",
            "salam\n",
            "salam\n",
            "salam\n",
            "salam\n",
            "salam\n",
            "salam\n",
            "salam\n",
            "salam\n",
            "salam\n",
            "salam\n",
            "salam\n",
            "salam\n",
            "salam\n",
            "salam\n",
            "salam\n",
            "salam\n",
            "salam\n",
            "salam\n",
            "salam\n",
            "salam\n",
            "salam\n",
            "salam\n",
            "salam\n",
            "salam\n",
            "salam\n",
            "salam\n",
            "salam\n",
            "salam\n",
            "salam\n",
            "salam\n",
            "salam\n",
            "salam\n",
            "salam\n",
            "salam\n",
            "salam\n",
            "salam\n",
            "salam\n",
            "salam\n",
            "salam\n",
            "salam\n",
            "salam\n",
            "salam\n",
            "salam\n",
            "salam\n",
            "salam\n",
            "salam\n",
            "salam\n",
            "salam\n",
            "salam\n",
            "salam\n",
            "salam\n",
            "salam\n",
            "salam\n",
            "salam\n",
            "salam\n",
            "salam\n",
            "salam\n",
            "salam\n",
            "salam\n",
            "salam\n",
            "salam\n",
            "salam\n",
            "salam\n",
            "salam\n",
            "salam\n",
            "salam\n",
            "salam\n",
            "salam\n",
            "salam\n",
            "salam\n",
            "salam\n",
            "salam\n",
            "salam\n",
            "salam\n",
            "salam\n",
            "salam\n",
            "salam\n",
            "salam\n",
            "salam\n",
            "salam\n",
            "salam\n",
            "salam\n",
            "salam\n",
            "salam\n",
            "salam\n",
            "salam\n",
            "salam\n",
            "salam\n",
            "salam\n",
            "salam\n",
            "salam\n",
            "salam\n",
            "salam\n",
            "salam\n",
            "salam\n",
            "salam\n",
            "salam\n",
            "salam\n",
            "salam\n",
            "salam\n",
            "salam\n",
            "salam\n",
            "salam\n",
            "salam\n",
            "salam\n",
            "salam\n",
            "salam\n",
            "salam\n",
            "salam\n",
            "salam\n",
            "salam\n",
            "salam\n",
            "salam\n",
            "salam\n",
            "salam\n",
            "salam\n",
            "salam\n",
            "salam\n",
            "salam\n",
            "salam\n",
            "salam\n",
            "salam\n",
            "salam\n",
            "salam\n",
            "salam\n",
            "salam\n",
            "salam\n",
            "salam\n",
            "salam\n",
            "salam\n",
            "salam\n",
            "salam\n",
            "salam\n",
            "salam\n",
            "salam\n",
            "salam\n",
            "salam\n",
            "salam\n",
            "salam\n",
            "salam\n",
            "salam\n",
            "salam\n",
            "salam\n",
            "salam\n",
            "salam\n",
            "salam\n",
            "salam\n",
            "salam\n",
            "salam\n",
            "salam\n",
            "salam\n",
            "salam\n",
            "salam\n",
            "salam\n",
            "salam\n",
            "salam\n",
            "salam\n",
            "salam\n",
            "salam\n",
            "salam\n",
            "salam\n",
            "salam\n",
            "salam\n",
            "salam\n",
            "salam\n",
            "salam\n",
            "salam\n",
            "salam\n",
            "salam\n",
            "salam\n",
            "salam\n",
            "salam\n",
            "salam\n",
            "salam\n",
            "salam\n",
            "salam\n",
            "salam\n",
            "salam\n",
            "salam\n",
            "salam\n",
            "salam\n",
            "salam\n",
            "salam\n",
            "salam\n",
            "salam\n",
            "salam\n",
            "salam\n",
            "salam\n",
            "salam\n",
            "salam\n",
            "salam\n",
            "salam\n",
            "salam\n",
            "salam\n",
            "salam\n",
            "salam\n",
            "salam\n",
            "salam\n",
            "salam\n",
            "salam\n",
            "salam\n",
            "salam\n",
            "salam\n",
            "salam\n",
            "salam\n",
            "salam\n",
            "salam\n",
            "salam\n",
            "salam\n",
            "salam\n",
            "salam\n",
            "salam\n",
            "salam\n",
            "salam\n",
            "salam\n",
            "salam\n",
            "salam\n",
            "salam\n",
            "salam\n",
            "salam\n",
            "salam\n",
            "salam\n",
            "salam\n",
            "salam\n",
            "salam\n",
            "salam\n",
            "salam\n",
            "salam\n",
            "salam\n",
            "salam\n",
            "salam\n",
            "salam\n",
            "salam\n",
            "salam\n",
            "salam\n",
            "salam\n",
            "salam\n",
            "salam\n",
            "salam\n",
            "salam\n",
            "salam\n",
            "salam\n",
            "salam\n",
            "salam\n",
            "salam\n",
            "salam\n",
            "salam\n",
            "salam\n",
            "salam\n",
            "salam\n",
            "salam\n",
            "salam\n",
            "salam\n",
            "salam\n",
            "salam\n",
            "salam\n",
            "salam\n",
            "salam\n",
            "salam\n",
            "salam\n",
            "salam\n",
            "salam\n",
            "salam\n",
            "salam\n",
            "salam\n",
            "salam\n",
            "salam\n",
            "salam\n",
            "salam\n",
            "salam\n",
            "salam\n",
            "salam\n",
            "salam\n",
            "salam\n",
            "salam\n",
            "salam\n",
            "salam\n",
            "salam\n",
            "salam\n",
            "salam\n",
            "salam\n",
            "salam\n",
            "salam\n",
            "salam\n",
            "salam\n",
            "salam\n",
            "salam\n",
            "salam\n",
            "salam\n",
            "salam\n",
            "salam\n",
            "salam\n",
            "salam\n",
            "salam\n",
            "salam\n",
            "salam\n",
            "salam\n",
            "salam\n",
            "salam\n",
            "salam\n",
            "salam\n",
            "salam\n",
            "salam\n",
            "salam\n",
            "salam\n",
            "salam\n",
            "salam\n",
            "salam\n",
            "salam\n",
            "salam\n",
            "salam\n",
            "salam\n",
            "salam\n",
            "salam\n",
            "salam\n",
            "salam\n",
            "salam\n",
            "salam\n",
            "salam\n",
            "salam\n",
            "salam\n",
            "salam\n",
            "salam\n",
            "salam\n",
            "salam\n",
            "salam\n",
            "salam\n",
            "salam\n",
            "salam\n",
            "salam\n",
            "salam\n",
            "salam\n",
            "salam\n",
            "salam\n",
            "salam\n",
            "salam\n",
            "salam\n",
            "salam\n",
            "salam\n",
            "salam\n",
            "salam\n",
            "salam\n",
            "salam\n",
            "salam\n",
            "salam\n",
            "salam\n",
            "salam\n",
            "salam\n",
            "salam\n",
            "salam\n",
            "salam\n",
            "salam\n",
            "salam\n",
            "salam\n",
            "salam\n",
            "salam\n",
            "salam\n",
            "salam\n",
            "salam\n",
            "salam\n",
            "salam\n",
            "salam\n",
            "salam\n",
            "salam\n",
            "salam\n",
            "salam\n",
            "salam\n",
            "salam\n",
            "salam\n",
            "salam\n",
            "salam\n",
            "salam\n",
            "salam\n",
            "salam\n",
            "salam\n",
            "salam\n",
            "salam\n",
            "salam\n",
            "salam\n",
            "salam\n",
            "salam\n",
            "salam\n",
            "salam\n",
            "salam\n",
            "salam\n",
            "salam\n",
            "salam\n",
            "salam\n",
            "salam\n",
            "salam\n",
            "salam\n",
            "salam\n",
            "salam\n",
            "salam\n",
            "salam\n",
            "salam\n",
            "salam\n",
            "salam\n",
            "salam\n",
            "salam\n",
            "salam\n",
            "salam\n",
            "salam\n",
            "salam\n",
            "salam\n",
            "salam\n",
            "salam\n",
            "salam\n",
            "salam\n",
            "salam\n",
            "salam\n",
            "salam\n",
            "salam\n",
            "salam\n",
            "salam\n",
            "salam\n",
            "salam\n",
            "salam\n",
            "salam\n",
            "salam\n",
            "salam\n",
            "salam\n",
            "salam\n",
            "salam\n",
            "salam\n",
            "salam\n",
            "salam\n",
            "salam\n",
            "salam\n",
            "salam\n",
            "salam\n",
            "salam\n",
            "salam\n",
            "salam\n",
            "salam\n",
            "salam\n",
            "salam\n",
            "salam\n",
            "salam\n",
            "salam\n",
            "salam\n",
            "salam\n",
            "salam\n",
            "salam\n",
            "salam\n",
            "salam\n",
            "salam\n",
            "salam\n",
            "salam\n",
            "salam\n",
            "salam\n",
            "salam\n",
            "salam\n",
            "salam\n",
            "salam\n",
            "salam\n",
            "salam\n",
            "salam\n",
            "salam\n",
            "salam\n",
            "salam\n",
            "salam\n",
            "salam\n",
            "salam\n",
            "salam\n",
            "salam\n",
            "salam\n",
            "salam\n",
            "salam\n",
            "salam\n",
            "salam\n",
            "salam\n",
            "salam\n",
            "salam\n",
            "salam\n",
            "salam\n",
            "salam\n",
            "salam\n",
            "salam\n",
            "salam\n",
            "salam\n",
            "salam\n",
            "salam\n",
            "salam\n",
            "salam\n",
            "salam\n",
            "salam\n",
            "salam\n",
            "salam\n",
            "salam\n",
            "salam\n",
            "salam\n",
            "salam\n",
            "salam\n",
            "salam\n",
            "salam\n",
            "salam\n",
            "salam\n",
            "salam\n",
            "salam\n",
            "salam\n",
            "salam\n",
            "salam\n",
            "salam\n",
            "salam\n",
            "salam\n",
            "salam\n",
            "salam\n",
            "salam\n",
            "salam\n",
            "salam\n",
            "salam\n",
            "salam\n",
            "salam\n",
            "salam\n",
            "salam\n",
            "salam\n",
            "salam\n",
            "salam\n",
            "salam\n",
            "salam\n",
            "salam\n",
            "salam\n",
            "salam\n",
            "salam\n",
            "salam\n",
            "salam\n",
            "salam\n",
            "salam\n",
            "salam\n",
            "salam\n",
            "salam\n",
            "salam\n",
            "salam\n",
            "salam\n",
            "salam\n",
            "salam\n",
            "salam\n",
            "salam\n",
            "salam\n",
            "salam\n",
            "salam\n",
            "salam\n",
            "salam\n",
            "salam\n",
            "salam\n",
            "salam\n",
            "salam\n",
            "salam\n",
            "salam\n",
            "salam\n",
            "salam\n",
            "salam\n",
            "salam\n",
            "salam\n",
            "salam\n",
            "salam\n",
            "salam\n",
            "salam\n",
            "salam\n",
            "salam\n",
            "salam\n",
            "salam\n",
            "salam\n",
            "salam\n",
            "salam\n",
            "salam\n",
            "salam\n",
            "salam\n",
            "salam\n",
            "salam\n",
            "salam\n",
            "salam\n",
            "salam\n",
            "salam\n",
            "salam\n",
            "salam\n",
            "salam\n",
            "salam\n",
            "salam\n",
            "salam\n",
            "salam\n",
            "salam\n",
            "salam\n",
            "salam\n",
            "salam\n",
            "salam\n",
            "salam\n",
            "salam\n",
            "salam\n",
            "salam\n",
            "salam\n",
            "salam\n",
            "salam\n",
            "salam\n",
            "salam\n",
            "salam\n",
            "salam\n",
            "salam\n",
            "salam\n",
            "salam\n",
            "salam\n",
            "salam\n",
            "salam\n",
            "salam\n",
            "salam\n",
            "salam\n",
            "salam\n",
            "salam\n",
            "salam\n",
            "salam\n",
            "salam\n",
            "salam\n",
            "salam\n",
            "salam\n",
            "salam\n",
            "salam\n",
            "salam\n",
            "salam\n",
            "salam\n",
            "salam\n",
            "salam\n",
            "salam\n",
            "salam\n",
            "salam\n",
            "salam\n",
            "salam\n",
            "salam\n",
            "salam\n",
            "salam\n",
            "salam\n",
            "salam\n",
            "salam\n",
            "salam\n",
            "salam\n",
            "salam\n",
            "salam\n",
            "salam\n",
            "salam\n",
            "salam\n",
            "salam\n",
            "salam\n",
            "salam\n",
            "salam\n",
            "salam\n",
            "salam\n",
            "salam\n",
            "salam\n",
            "salam\n",
            "salam\n",
            "salam\n",
            "salam\n",
            "salam\n",
            "salam\n",
            "salam\n",
            "salam\n",
            "salam\n",
            "salam\n",
            "salam\n",
            "salam\n",
            "salam\n",
            "salam\n",
            "salam\n",
            "salam\n",
            "salam\n",
            "salam\n",
            "salam\n",
            "salam\n",
            "salam\n",
            "salam\n",
            "salam\n",
            "salam\n",
            "salam\n",
            "salam\n",
            "salam\n",
            "salam\n",
            "salam\n",
            "salam\n",
            "salam\n",
            "salam\n",
            "salam\n",
            "salam\n",
            "salam\n",
            "salam\n",
            "salam\n",
            "salam\n",
            "salam\n",
            "salam\n",
            "salam\n",
            "salam\n",
            "salam\n",
            "salam\n",
            "salam\n",
            "salam\n",
            "salam\n",
            "salam\n",
            "salam\n",
            "salam\n",
            "salam\n",
            "salam\n",
            "salam\n",
            "salam\n",
            "salam\n",
            "salam\n",
            "salam\n",
            "salam\n",
            "salam\n",
            "salam\n",
            "salam\n",
            "salam\n",
            "salam\n",
            "salam\n",
            "salam\n",
            "salam\n",
            "salam\n",
            "salam\n",
            "salam\n",
            "salam\n",
            "salam\n",
            "salam\n",
            "salam\n",
            "salam\n",
            "salam\n",
            "salam\n",
            "salam\n",
            "salam\n",
            "salam\n",
            "salam\n",
            "salam\n",
            "salam\n",
            "salam\n",
            "salam\n",
            "salam\n",
            "salam\n",
            "salam\n",
            "salam\n",
            "salam\n",
            "salam\n",
            "salam\n",
            "salam\n",
            "salam\n",
            "salam\n",
            "salam\n",
            "salam\n",
            "salam\n",
            "salam\n",
            "salam\n",
            "salam\n",
            "salam\n",
            "salam\n",
            "salam\n",
            "salam\n",
            "salam\n",
            "salam\n",
            "salam\n",
            "salam\n",
            "salam\n",
            "salam\n",
            "salam\n",
            "salam\n",
            "salam\n",
            "salam\n",
            "salam\n",
            "salam\n",
            "salam\n",
            "salam\n",
            "salam\n",
            "salam\n",
            "salam\n",
            "salam\n",
            "salam\n",
            "salam\n",
            "salam\n",
            "salam\n",
            "salam\n",
            "salam\n",
            "salam\n",
            "salam\n",
            "salam\n",
            "salam\n",
            "salam\n",
            "salam\n",
            "salam\n",
            "salam\n",
            "salam\n",
            "salam\n",
            "salam\n",
            "salam\n",
            "salam\n",
            "salam\n",
            "salam\n",
            "salam\n",
            "salam\n",
            "salam\n",
            "salam\n",
            "salam\n",
            "salam\n",
            "salam\n",
            "salam\n",
            "salam\n",
            "salam\n",
            "salam\n",
            "salam\n",
            "salam\n",
            "salam\n",
            "salam\n",
            "salam\n",
            "salam\n",
            "salam\n",
            "salam\n",
            "salam\n",
            "salam\n",
            "salam\n",
            "salam\n",
            "salam\n",
            "salam\n",
            "salam\n",
            "salam\n",
            "salam\n",
            "salam\n",
            "salam\n",
            "salam\n",
            "salam\n",
            "salam\n",
            "salam\n",
            "salam\n",
            "salam\n",
            "salam\n",
            "salam\n",
            "salam\n",
            "salam\n",
            "salam\n",
            "salam\n",
            "salam\n",
            "salam\n",
            "salam\n",
            "salam\n",
            "salam\n",
            "salam\n",
            "salam\n",
            "salam\n",
            "salam\n",
            "salam\n",
            "salam\n",
            "salam\n",
            "salam\n",
            "salam\n",
            "salam\n",
            "salam\n",
            "salam\n",
            "salam\n",
            "salam\n",
            "salam\n",
            "salam\n",
            "salam\n",
            "salam\n",
            "salam\n",
            "salam\n",
            "salam\n",
            "salam\n",
            "salam\n",
            "salam\n",
            "salam\n",
            "salam\n",
            "salam\n",
            "salam\n",
            "salam\n",
            "salam\n",
            "salam\n",
            "salam\n",
            "salam\n",
            "salam\n",
            "salam\n",
            "salam\n",
            "salam\n",
            "salam\n",
            "salam\n",
            "salam\n",
            "salam\n",
            "salam\n",
            "salam\n",
            "salam\n",
            "salam\n",
            "salam\n",
            "salam\n",
            "salam\n",
            "salam\n",
            "salam\n",
            "salam\n",
            "salam\n",
            "salam\n",
            "salam\n",
            "salam\n",
            "salam\n",
            "salam\n",
            "salam\n",
            "salam\n",
            "salam\n",
            "salam\n",
            "salam\n",
            "salam\n",
            "salam\n",
            "salam\n",
            "salam\n",
            "salam\n",
            "salam\n",
            "salam\n",
            "salam\n",
            "salam\n",
            "salam\n",
            "salam\n",
            "salam\n",
            "salam\n",
            "salam\n",
            "salam\n",
            "salam\n",
            "salam\n",
            "salam\n",
            "salam\n",
            "salam\n",
            "salam\n",
            "salam\n",
            "salam\n",
            "salam\n",
            "salam\n",
            "salam\n",
            "salam\n",
            "salam\n",
            "salam\n",
            "salam\n",
            "salam\n",
            "salam\n",
            "salam\n",
            "salam\n",
            "salam\n",
            "salam\n",
            "salam\n",
            "salam\n",
            "salam\n",
            "salam\n",
            "salam\n",
            "salam\n",
            "salam\n",
            "salam\n",
            "salam\n",
            "salam\n",
            "salam\n",
            "salam\n",
            "salam\n",
            "salam\n",
            "salam\n",
            "salam\n",
            "salam\n",
            "salam\n",
            "salam\n",
            "salam\n",
            "salam\n",
            "salam\n",
            "salam\n",
            "salam\n",
            "salam\n",
            "salam\n",
            "salam\n",
            "salam\n",
            "salam\n",
            "salam\n",
            "salam\n",
            "salam\n",
            "salam\n",
            "salam\n",
            "salam\n",
            "salam\n",
            "salam\n",
            "salam\n",
            "salam\n",
            "salam\n",
            "salam\n",
            "salam\n",
            "salam\n",
            "salam\n",
            "salam\n",
            "salam\n",
            "salam\n",
            "salam\n",
            "salam\n",
            "salam\n",
            "salam\n",
            "salam\n",
            "salam\n",
            "salam\n",
            "salam\n",
            "salam\n",
            "salam\n",
            "salam\n",
            "salam\n",
            "salam\n",
            "salam\n",
            "salam\n",
            "salam\n",
            "salam\n",
            "salam\n",
            "salam\n",
            "salam\n",
            "salam\n",
            "salam\n",
            "salam\n",
            "salam\n",
            "salam\n",
            "salam\n",
            "salam\n",
            "salam\n",
            "salam\n",
            "salam\n",
            "salam\n",
            "salam\n",
            "salam\n",
            "salam\n",
            "salam\n",
            "salam\n",
            "salam\n",
            "salam\n",
            "salam\n",
            "salam\n",
            "salam\n",
            "salam\n",
            "salam\n",
            "salam\n",
            "salam\n",
            "salam\n",
            "salam\n",
            "salam\n",
            "salam\n",
            "salam\n",
            "salam\n",
            "salam\n",
            "salam\n",
            "salam\n",
            "salam\n",
            "salam\n",
            "salam\n",
            "salam\n",
            "salam\n",
            "salam\n",
            "salam\n",
            "salam\n",
            "salam\n",
            "salam\n",
            "salam\n",
            "salam\n",
            "salam\n",
            "salam\n",
            "salam\n",
            "salam\n",
            "salam\n",
            "salam\n",
            "salam\n",
            "salam\n",
            "salam\n",
            "salam\n",
            "salam\n",
            "salam\n",
            "salam\n",
            "salam\n",
            "salam\n",
            "salam\n",
            "salam\n",
            "salam\n",
            "salam\n",
            "salam\n",
            "salam\n",
            "salam\n",
            "salam\n",
            "salam\n",
            "salam\n",
            "salam\n",
            "salam\n",
            "salam\n",
            "salam\n",
            "salam\n",
            "salam\n",
            "salam\n",
            "salam\n",
            "salam\n",
            "salam\n",
            "salam\n",
            "salam\n",
            "salam\n",
            "salam\n",
            "salam\n",
            "salam\n",
            "salam\n",
            "salam\n",
            "salam\n",
            "salam\n",
            "salam\n",
            "salam\n",
            "salam\n",
            "salam\n",
            "salam\n",
            "salam\n",
            "salam\n",
            "salam\n",
            "salam\n",
            "salam\n",
            "salam\n",
            "salam\n",
            "salam\n",
            "salam\n",
            "salam\n",
            "salam\n",
            "salam\n",
            "salam\n",
            "salam\n",
            "salam\n",
            "salam\n",
            "salam\n",
            "salam\n",
            "salam\n",
            "salam\n",
            "salam\n",
            "salam\n",
            "salam\n",
            "salam\n",
            "salam\n",
            "salam\n",
            "salam\n",
            "salam\n",
            "salam\n",
            "salam\n",
            "salam\n",
            "salam\n",
            "salam\n",
            "salam\n",
            "salam\n",
            "salam\n",
            "salam\n",
            "salam\n",
            "salam\n",
            "salam\n",
            "salam\n",
            "salam\n",
            "salam\n",
            "salam\n",
            "salam\n",
            "salam\n",
            "salam\n",
            "salam\n",
            "salam\n",
            "salam\n",
            "salam\n",
            "salam\n",
            "salam\n",
            "salam\n",
            "salam\n",
            "salam\n",
            "salam\n",
            "salam\n",
            "salam\n",
            "salam\n",
            "salam\n",
            "salam\n",
            "salam\n",
            "salam\n",
            "salam\n",
            "salam\n",
            "salam\n",
            "salam\n",
            "salam\n",
            "salam\n",
            "salam\n",
            "salam\n",
            "salam\n",
            "salam\n",
            "salam\n",
            "salam\n",
            "salam\n",
            "salam\n",
            "salam\n",
            "salam\n",
            "salam\n",
            "salam\n",
            "salam\n",
            "salam\n",
            "salam\n",
            "salam\n",
            "salam\n",
            "salam\n",
            "salam\n",
            "salam\n",
            "salam\n",
            "salam\n",
            "salam\n",
            "salam\n",
            "salam\n",
            "salam\n",
            "salam\n",
            "salam\n",
            "salam\n",
            "salam\n",
            "salam\n",
            "salam\n",
            "salam\n",
            "salam\n",
            "salam\n",
            "salam\n",
            "salam\n",
            "salam\n",
            "salam\n",
            "salam\n",
            "salam\n",
            "salam\n",
            "salam\n",
            "salam\n",
            "salam\n",
            "salam\n",
            "salam\n",
            "salam\n",
            "salam\n",
            "salam\n",
            "salam\n",
            "salam\n",
            "salam\n",
            "salam\n",
            "salam\n",
            "salam\n",
            "salam\n",
            "salam\n",
            "salam\n",
            "salam\n",
            "salam\n",
            "salam\n",
            "salam\n",
            "salam\n",
            "salam\n",
            "salam\n",
            "salam\n",
            "salam\n",
            "salam\n",
            "salam\n",
            "salam\n",
            "salam\n",
            "salam\n",
            "salam\n",
            "salam\n",
            "salam\n",
            "salam\n",
            "salam\n",
            "salam\n",
            "salam\n",
            "salam\n",
            "salam\n",
            "salam\n",
            "salam\n",
            "salam\n",
            "salam\n",
            "salam\n",
            "salam\n",
            "salam\n",
            "salam\n",
            "salam\n",
            "salam\n",
            "salam\n",
            "salam\n",
            "salam\n",
            "salam\n",
            "salam\n",
            "salam\n",
            "salam\n",
            "salam\n",
            "salam\n",
            "salam\n",
            "salam\n",
            "salam\n",
            "salam\n",
            "salam\n",
            "salam\n",
            "salam\n",
            "salam\n",
            "salam\n",
            "salam\n",
            "salam\n",
            "salam\n",
            "salam\n",
            "salam\n",
            "salam\n",
            "salam\n",
            "salam\n",
            "salam\n",
            "salam\n",
            "salam\n",
            "salam\n",
            "salam\n",
            "salam\n",
            "salam\n",
            "salam\n",
            "salam\n",
            "salam\n",
            "salam\n",
            "salam\n",
            "salam\n",
            "salam\n",
            "salam\n",
            "salam\n",
            "salam\n",
            "salam\n",
            "salam\n",
            "salam\n",
            "salam\n",
            "salam\n",
            "salam\n",
            "salam\n",
            "salam\n",
            "salam\n",
            "salam\n",
            "salam\n",
            "salam\n",
            "salam\n",
            "salam\n",
            "salam\n",
            "salam\n",
            "salam\n",
            "salam\n",
            "salam\n",
            "salam\n",
            "salam\n",
            "salam\n",
            "salam\n",
            "salam\n",
            "salam\n",
            "salam\n",
            "salam\n",
            "salam\n",
            "salam\n",
            "salam\n",
            "salam\n",
            "salam\n",
            "salam\n",
            "salam\n",
            "salam\n",
            "salam\n",
            "salam\n",
            "salam\n",
            "salam\n",
            "salam\n",
            "salam\n",
            "salam\n",
            "salam\n",
            "salam\n",
            "salam\n",
            "salam\n",
            "salam\n",
            "salam\n",
            "salam\n",
            "salam\n",
            "salam\n",
            "salam\n",
            "salam\n",
            "salam\n",
            "salam\n",
            "salam\n",
            "salam\n",
            "salam\n",
            "salam\n",
            "salam\n",
            "salam\n",
            "salam\n",
            "salam\n",
            "salam\n",
            "salam\n",
            "salam\n",
            "salam\n",
            "salam\n",
            "salam\n",
            "salam\n",
            "salam\n",
            "salam\n",
            "salam\n",
            "salam\n",
            "salam\n",
            "salam\n",
            "salam\n",
            "salam\n",
            "salam\n",
            "salam\n",
            "salam\n",
            "salam\n",
            "salam\n",
            "salam\n",
            "salam\n",
            "salam\n",
            "salam\n",
            "salam\n",
            "salam\n",
            "salam\n",
            "salam\n",
            "salam\n",
            "salam\n",
            "salam\n",
            "salam\n",
            "salam\n",
            "salam\n",
            "salam\n",
            "salam\n",
            "salam\n",
            "salam\n",
            "salam\n",
            "salam\n",
            "salam\n",
            "salam\n",
            "salam\n",
            "salam\n",
            "salam\n",
            "salam\n",
            "salam\n",
            "salam\n",
            "salam\n",
            "salam\n",
            "salam\n",
            "salam\n",
            "salam\n",
            "salam\n",
            "salam\n",
            "salam\n",
            "salam\n",
            "salam\n",
            "salam\n",
            "salam\n",
            "salam\n",
            "salam\n",
            "salam\n",
            "salam\n",
            "salam\n",
            "salam\n",
            "salam\n",
            "salam\n",
            "salam\n",
            "salam\n",
            "salam\n",
            "salam\n",
            "salam\n",
            "salam\n",
            "salam\n",
            "salam\n",
            "salam\n",
            "salam\n",
            "salam\n",
            "salam\n",
            "salam\n",
            "salam\n",
            "salam\n",
            "salam\n",
            "salam\n",
            "salam\n",
            "salam\n",
            "salam\n",
            "salam\n",
            "salam\n",
            "salam\n",
            "salam\n",
            "salam\n",
            "salam\n",
            "salam\n",
            "salam\n",
            "salam\n",
            "salam\n",
            "salam\n",
            "salam\n",
            "salam\n",
            "salam\n",
            "salam\n",
            "salam\n",
            "salam\n",
            "salam\n",
            "salam\n",
            "salam\n",
            "salam\n",
            "salam\n",
            "salam\n",
            "salam\n",
            "salam\n",
            "salam\n",
            "salam\n",
            "salam\n",
            "salam\n",
            "salam\n",
            "salam\n",
            "salam\n",
            "salam\n",
            "salam\n",
            "salam\n",
            "salam\n",
            "salam\n",
            "salam\n",
            "salam\n",
            "salam\n",
            "salam\n",
            "salam\n",
            "salam\n",
            "salam\n",
            "salam\n",
            "salam\n",
            "salam\n",
            "salam\n",
            "salam\n",
            "salam\n",
            "salam\n",
            "salam\n",
            "salam\n",
            "salam\n",
            "salam\n",
            "salam\n",
            "salam\n",
            "salam\n",
            "salam\n",
            "salam\n",
            "salam\n",
            "salam\n",
            "salam\n",
            "salam\n",
            "salam\n",
            "salam\n",
            "salam\n",
            "salam\n",
            "salam\n",
            "salam\n",
            "salam\n",
            "salam\n",
            "salam\n",
            "salam\n",
            "salam\n",
            "salam\n",
            "salam\n",
            "salam\n",
            "salam\n",
            "salam\n",
            "salam\n",
            "salam\n",
            "salam\n",
            "salam\n",
            "salam\n",
            "salam\n",
            "salam\n",
            "salam\n",
            "salam\n",
            "salam\n",
            "salam\n",
            "salam\n",
            "salam\n",
            "salam\n",
            "salam\n",
            "salam\n",
            "salam\n",
            "salam\n",
            "salam\n",
            "salam\n",
            "salam\n",
            "salam\n",
            "salam\n",
            "salam\n",
            "salam\n",
            "salam\n",
            "salam\n",
            "salam\n",
            "salam\n",
            "salam\n",
            "salam\n",
            "salam\n",
            "salam\n",
            "salam\n",
            "salam\n",
            "salam\n",
            "salam\n",
            "salam\n",
            "salam\n",
            "salam\n",
            "salam\n",
            "salam\n",
            "salam\n",
            "salam\n",
            "salam\n",
            "salam\n",
            "salam\n",
            "salam\n",
            "salam\n",
            "salam\n",
            "salam\n",
            "salam\n",
            "salam\n",
            "salam\n",
            "salam\n",
            "salam\n",
            "salam\n",
            "salam\n",
            "salam\n",
            "salam\n",
            "salam\n",
            "salam\n",
            "salam\n",
            "salam\n",
            "salam\n",
            "salam\n",
            "salam\n",
            "salam\n",
            "salam\n",
            "salam\n",
            "salam\n",
            "salam\n",
            "salam\n",
            "salam\n",
            "salam\n",
            "salam\n",
            "salam\n",
            "salam\n",
            "salam\n",
            "salam\n",
            "salam\n",
            "salam\n",
            "salam\n",
            "salam\n",
            "salam\n",
            "salam\n",
            "salam\n",
            "salam\n",
            "salam\n",
            "salam\n",
            "salam\n",
            "salam\n",
            "salam\n",
            "salam\n",
            "salam\n",
            "salam\n",
            "salam\n",
            "salam\n",
            "salam\n",
            "salam\n",
            "salam\n",
            "salam\n",
            "salam\n",
            "salam\n",
            "salam\n",
            "salam\n",
            "salam\n",
            "salam\n",
            "salam\n",
            "salam\n",
            "salam\n",
            "salam\n",
            "salam\n",
            "salam\n",
            "salam\n",
            "salam\n",
            "salam\n",
            "salam\n",
            "salam\n",
            "salam\n",
            "salam\n",
            "salam\n",
            "salam\n",
            "salam\n",
            "salam\n",
            "salam\n",
            "salam\n",
            "salam\n",
            "salam\n",
            "salam\n",
            "salam\n",
            "salam\n",
            "salam\n",
            "salam\n",
            "salam\n",
            "salam\n",
            "salam\n",
            "salam\n",
            "salam\n",
            "salam\n",
            "salam\n",
            "salam\n",
            "salam\n",
            "salam\n",
            "salam\n",
            "salam\n",
            "salam\n",
            "salam\n",
            "salam\n",
            "salam\n",
            "salam\n",
            "salam\n",
            "salam\n",
            "salam\n",
            "salam\n",
            "salam\n",
            "salam\n",
            "salam\n",
            "salam\n",
            "salam\n",
            "salam\n",
            "salam\n",
            "salam\n",
            "salam\n",
            "salam\n",
            "salam\n",
            "salam\n",
            "salam\n",
            "salam\n",
            "salam\n",
            "salam\n",
            "salam\n",
            "salam\n",
            "salam\n",
            "salam\n",
            "salam\n",
            "salam\n",
            "salam\n",
            "salam\n",
            "salam\n",
            "salam\n",
            "salam\n",
            "salam\n",
            "salam\n",
            "salam\n",
            "salam\n",
            "salam\n",
            "salam\n",
            "salam\n",
            "salam\n",
            "salam\n",
            "salam\n",
            "salam\n",
            "salam\n",
            "salam\n",
            "salam\n",
            "salam\n",
            "salam\n",
            "salam\n",
            "salam\n",
            "salam\n",
            "salam\n",
            "salam\n",
            "salam\n",
            "salam\n",
            "salam\n",
            "salam\n",
            "salam\n",
            "salam\n",
            "salam\n",
            "salam\n",
            "salam\n",
            "salam\n",
            "salam\n",
            "salam\n",
            "salam\n",
            "salam\n",
            "salam\n",
            "salam\n",
            "salam\n",
            "salam\n",
            "salam\n",
            "salam\n",
            "salam\n",
            "salam\n",
            "salam\n",
            "salam\n",
            "salam\n",
            "salam\n",
            "salam\n",
            "salam\n",
            "salam\n",
            "salam\n",
            "salam\n",
            "salam\n",
            "salam\n",
            "salam\n",
            "salam\n",
            "salam\n",
            "salam\n",
            "salam\n",
            "salam\n",
            "salam\n",
            "salam\n",
            "salam\n",
            "salam\n",
            "salam\n",
            "salam\n",
            "salam\n",
            "salam\n",
            "salam\n",
            "salam\n",
            "salam\n",
            "salam\n",
            "salam\n",
            "salam\n",
            "salam\n",
            "salam\n",
            "salam\n",
            "salam\n",
            "salam\n",
            "salam\n",
            "salam\n",
            "salam\n",
            "salam\n",
            "salam\n",
            "salam\n",
            "salam\n",
            "salam\n",
            "salam\n",
            "salam\n",
            "salam\n",
            "salam\n",
            "salam\n",
            "salam\n",
            "salam\n",
            "salam\n",
            "salam\n",
            "salam\n",
            "salam\n",
            "salam\n",
            "salam\n",
            "salam\n",
            "salam\n",
            "salam\n",
            "salam\n",
            "salam\n",
            "salam\n",
            "salam\n",
            "salam\n",
            "salam\n",
            "salam\n",
            "salam\n",
            "salam\n",
            "salam\n",
            "salam\n",
            "salam\n",
            "salam\n",
            "salam\n",
            "salam\n",
            "salam\n",
            "salam\n",
            "salam\n",
            "salam\n",
            "salam\n",
            "salam\n",
            "salam\n",
            "salam\n",
            "salam\n",
            "salam\n",
            "salam\n",
            "salam\n",
            "salam\n",
            "salam\n",
            "salam\n",
            "salam\n",
            "salam\n",
            "salam\n",
            "salam\n",
            "salam\n",
            "salam\n",
            "salam\n",
            "salam\n",
            "salam\n",
            "salam\n",
            "salam\n",
            "salam\n",
            "salam\n",
            "salam\n",
            "salam\n",
            "salam\n",
            "salam\n",
            "salam\n",
            "salam\n",
            "salam\n",
            "salam\n",
            "salam\n",
            "salam\n",
            "salam\n",
            "salam\n",
            "salam\n",
            "salam\n",
            "salam\n",
            "salam\n",
            "salam\n",
            "salam\n",
            "salam\n",
            "salam\n",
            "salam\n",
            "salam\n",
            "salam\n",
            "salam\n",
            "salam\n",
            "salam\n",
            "salam\n",
            "salam\n",
            "salam\n",
            "salam\n",
            "salam\n",
            "salam\n",
            "salam\n",
            "salam\n",
            "salam\n",
            "salam\n",
            "salam\n",
            "salam\n",
            "salam\n",
            "salam\n",
            "salam\n",
            "salam\n",
            "salam\n",
            "salam\n",
            "salam\n",
            "salam\n",
            "salam\n",
            "salam\n",
            "salam\n",
            "salam\n",
            "salam\n",
            "salam\n",
            "salam\n",
            "salam\n",
            "salam\n",
            "salam\n",
            "salam\n",
            "salam\n",
            "salam\n",
            "salam\n",
            "salam\n",
            "salam\n",
            "salam\n",
            "salam\n",
            "salam\n",
            "salam\n",
            "salam\n",
            "salam\n",
            "salam\n",
            "salam\n",
            "salam\n",
            "salam\n",
            "salam\n",
            "salam\n",
            "salam\n",
            "salam\n",
            "salam\n",
            "salam\n",
            "salam\n",
            "salam\n",
            "salam\n",
            "salam\n",
            "salam\n",
            "salam\n",
            "salam\n",
            "salam\n",
            "salam\n",
            "salam\n",
            "salam\n",
            "salam\n",
            "salam\n",
            "salam\n",
            "salam\n",
            "salam\n",
            "salam\n",
            "salam\n",
            "salam\n",
            "salam\n",
            "salam\n",
            "salam\n",
            "salam\n",
            "salam\n",
            "salam\n",
            "salam\n",
            "salam\n",
            "salam\n",
            "salam\n",
            "salam\n",
            "salam\n",
            "salam\n",
            "salam\n",
            "salam\n",
            "salam\n",
            "salam\n",
            "salam\n",
            "salam\n",
            "salam\n",
            "salam\n",
            "salam\n",
            "salam\n",
            "salam\n",
            "salam\n",
            "salam\n",
            "salam\n",
            "salam\n",
            "salam\n",
            "salam\n",
            "salam\n",
            "salam\n",
            "salam\n",
            "salam\n",
            "salam\n",
            "salam\n",
            "salam\n",
            "salam\n",
            "salam\n",
            "salam\n",
            "salam\n",
            "salam\n",
            "salam\n",
            "salam\n",
            "salam\n",
            "salam\n",
            "salam\n",
            "salam\n",
            "salam\n",
            "salam"
          ]
        },
        {
          "ename": "KeyboardInterrupt",
          "evalue": "",
          "output_type": "error",
          "traceback": [
            "\u001b[0;31m---------------------------------------------------------------------------\u001b[0m",
            "\u001b[0;31mKeyboardInterrupt\u001b[0m                         Traceback (most recent call last)",
            "\u001b[0;32m<ipython-input-40-c93b1f72ff2b>\u001b[0m in \u001b[0;36m<cell line: 1>\u001b[0;34m()\u001b[0m\n\u001b[1;32m      1\u001b[0m \u001b[0;32mwhile\u001b[0m \u001b[0;32mTrue\u001b[0m\u001b[0;34m:\u001b[0m\u001b[0;34m\u001b[0m\u001b[0;34m\u001b[0m\u001b[0m\n\u001b[0;32m----> 2\u001b[0;31m     \u001b[0mprint\u001b[0m\u001b[0;34m(\u001b[0m\u001b[0;34m'salam'\u001b[0m\u001b[0;34m)\u001b[0m\u001b[0;34m\u001b[0m\u001b[0;34m\u001b[0m\u001b[0m\n\u001b[0m",
            "\u001b[0;32m/usr/local/lib/python3.10/dist-packages/ipykernel/iostream.py\u001b[0m in \u001b[0;36mwrite\u001b[0;34m(self, string)\u001b[0m\n\u001b[1;32m    400\u001b[0m             \u001b[0mis_child\u001b[0m \u001b[0;34m=\u001b[0m \u001b[0;34m(\u001b[0m\u001b[0;32mnot\u001b[0m \u001b[0mself\u001b[0m\u001b[0;34m.\u001b[0m\u001b[0m_is_master_process\u001b[0m\u001b[0;34m(\u001b[0m\u001b[0;34m)\u001b[0m\u001b[0;34m)\u001b[0m\u001b[0;34m\u001b[0m\u001b[0;34m\u001b[0m\u001b[0m\n\u001b[1;32m    401\u001b[0m             \u001b[0;31m# only touch the buffer in the IO thread to avoid races\u001b[0m\u001b[0;34m\u001b[0m\u001b[0;34m\u001b[0m\u001b[0m\n\u001b[0;32m--> 402\u001b[0;31m             \u001b[0mself\u001b[0m\u001b[0;34m.\u001b[0m\u001b[0mpub_thread\u001b[0m\u001b[0;34m.\u001b[0m\u001b[0mschedule\u001b[0m\u001b[0;34m(\u001b[0m\u001b[0;32mlambda\u001b[0m \u001b[0;34m:\u001b[0m \u001b[0mself\u001b[0m\u001b[0;34m.\u001b[0m\u001b[0m_buffer\u001b[0m\u001b[0;34m.\u001b[0m\u001b[0mwrite\u001b[0m\u001b[0;34m(\u001b[0m\u001b[0mstring\u001b[0m\u001b[0;34m)\u001b[0m\u001b[0;34m)\u001b[0m\u001b[0;34m\u001b[0m\u001b[0;34m\u001b[0m\u001b[0m\n\u001b[0m\u001b[1;32m    403\u001b[0m             \u001b[0;32mif\u001b[0m \u001b[0mis_child\u001b[0m\u001b[0;34m:\u001b[0m\u001b[0;34m\u001b[0m\u001b[0;34m\u001b[0m\u001b[0m\n\u001b[1;32m    404\u001b[0m                 \u001b[0;31m# mp.Pool cannot be trusted to flush promptly (or ever),\u001b[0m\u001b[0;34m\u001b[0m\u001b[0;34m\u001b[0m\u001b[0m\n",
            "\u001b[0;32m/usr/local/lib/python3.10/dist-packages/ipykernel/iostream.py\u001b[0m in \u001b[0;36mschedule\u001b[0;34m(self, f)\u001b[0m\n\u001b[1;32m    201\u001b[0m             \u001b[0mself\u001b[0m\u001b[0;34m.\u001b[0m\u001b[0m_events\u001b[0m\u001b[0;34m.\u001b[0m\u001b[0mappend\u001b[0m\u001b[0;34m(\u001b[0m\u001b[0mf\u001b[0m\u001b[0;34m)\u001b[0m\u001b[0;34m\u001b[0m\u001b[0;34m\u001b[0m\u001b[0m\n\u001b[1;32m    202\u001b[0m             \u001b[0;31m# wake event thread (message content is ignored)\u001b[0m\u001b[0;34m\u001b[0m\u001b[0;34m\u001b[0m\u001b[0m\n\u001b[0;32m--> 203\u001b[0;31m             \u001b[0mself\u001b[0m\u001b[0;34m.\u001b[0m\u001b[0m_event_pipe\u001b[0m\u001b[0;34m.\u001b[0m\u001b[0msend\u001b[0m\u001b[0;34m(\u001b[0m\u001b[0;34mb''\u001b[0m\u001b[0;34m)\u001b[0m\u001b[0;34m\u001b[0m\u001b[0;34m\u001b[0m\u001b[0m\n\u001b[0m\u001b[1;32m    204\u001b[0m         \u001b[0;32melse\u001b[0m\u001b[0;34m:\u001b[0m\u001b[0;34m\u001b[0m\u001b[0;34m\u001b[0m\u001b[0m\n\u001b[1;32m    205\u001b[0m             \u001b[0mf\u001b[0m\u001b[0;34m(\u001b[0m\u001b[0;34m)\u001b[0m\u001b[0;34m\u001b[0m\u001b[0;34m\u001b[0m\u001b[0m\n",
            "\u001b[0;32m/usr/local/lib/python3.10/dist-packages/zmq/sugar/socket.py\u001b[0m in \u001b[0;36msend\u001b[0;34m(self, data, flags, copy, track, routing_id, group)\u001b[0m\n\u001b[1;32m    618\u001b[0m                 )\n\u001b[1;32m    619\u001b[0m             \u001b[0mdata\u001b[0m\u001b[0;34m.\u001b[0m\u001b[0mgroup\u001b[0m \u001b[0;34m=\u001b[0m \u001b[0mgroup\u001b[0m\u001b[0;34m\u001b[0m\u001b[0;34m\u001b[0m\u001b[0m\n\u001b[0;32m--> 620\u001b[0;31m         \u001b[0;32mreturn\u001b[0m \u001b[0msuper\u001b[0m\u001b[0;34m(\u001b[0m\u001b[0;34m)\u001b[0m\u001b[0;34m.\u001b[0m\u001b[0msend\u001b[0m\u001b[0;34m(\u001b[0m\u001b[0mdata\u001b[0m\u001b[0;34m,\u001b[0m \u001b[0mflags\u001b[0m\u001b[0;34m=\u001b[0m\u001b[0mflags\u001b[0m\u001b[0;34m,\u001b[0m \u001b[0mcopy\u001b[0m\u001b[0;34m=\u001b[0m\u001b[0mcopy\u001b[0m\u001b[0;34m,\u001b[0m \u001b[0mtrack\u001b[0m\u001b[0;34m=\u001b[0m\u001b[0mtrack\u001b[0m\u001b[0;34m)\u001b[0m\u001b[0;34m\u001b[0m\u001b[0;34m\u001b[0m\u001b[0m\n\u001b[0m\u001b[1;32m    621\u001b[0m \u001b[0;34m\u001b[0m\u001b[0m\n\u001b[1;32m    622\u001b[0m     def send_multipart(\n",
            "\u001b[0;32mzmq/backend/cython/socket.pyx\u001b[0m in \u001b[0;36mzmq.backend.cython.socket.Socket.send\u001b[0;34m()\u001b[0m\n",
            "\u001b[0;32mzmq/backend/cython/socket.pyx\u001b[0m in \u001b[0;36mzmq.backend.cython.socket.Socket.send\u001b[0;34m()\u001b[0m\n",
            "\u001b[0;32mzmq/backend/cython/socket.pyx\u001b[0m in \u001b[0;36mzmq.backend.cython.socket._send_copy\u001b[0;34m()\u001b[0m\n",
            "\u001b[0;32m/usr/local/lib/python3.10/dist-packages/zmq/backend/cython/checkrc.pxd\u001b[0m in \u001b[0;36mzmq.backend.cython.checkrc._check_rc\u001b[0;34m()\u001b[0m\n",
            "\u001b[0;31mKeyboardInterrupt\u001b[0m: "
          ]
        }
      ],
      "source": [
        "while True:\n",
        "    print('salam')"
      ]
    },
    {
      "cell_type": "code",
      "execution_count": null,
      "metadata": {
        "colab": {
          "base_uri": "https://localhost:8080/",
          "height": 478
        },
        "id": "LBc5baAFS_DJ",
        "outputId": "712bd0ae-805a-4dc9-e43e-6b5a23ae6d46"
      },
      "outputs": [
        {
          "name": "stdout",
          "output_type": "stream",
          "text": [
            "Please enter a number: 1\n",
            "1\n",
            "Please enter a number: 2\n",
            "2\n",
            "Please enter a number: 3\n",
            "3\n",
            "Please enter a number: 9\n",
            "9\n"
          ]
        },
        {
          "ename": "KeyboardInterrupt",
          "evalue": "Interrupted by user",
          "output_type": "error",
          "traceback": [
            "\u001b[0;31m---------------------------------------------------------------------------\u001b[0m",
            "\u001b[0;31mKeyboardInterrupt\u001b[0m                         Traceback (most recent call last)",
            "\u001b[0;32m<ipython-input-42-69e20edcce63>\u001b[0m in \u001b[0;36m<cell line: 1>\u001b[0;34m()\u001b[0m\n\u001b[1;32m      1\u001b[0m \u001b[0;32mwhile\u001b[0m \u001b[0;32mTrue\u001b[0m\u001b[0;34m:\u001b[0m\u001b[0;34m\u001b[0m\u001b[0;34m\u001b[0m\u001b[0m\n\u001b[0;32m----> 2\u001b[0;31m     \u001b[0moutput\u001b[0m\u001b[0;34m=\u001b[0m\u001b[0minput\u001b[0m\u001b[0;34m(\u001b[0m\u001b[0;34m'Please enter a number: '\u001b[0m\u001b[0;34m)\u001b[0m\u001b[0;34m\u001b[0m\u001b[0;34m\u001b[0m\u001b[0m\n\u001b[0m\u001b[1;32m      3\u001b[0m     \u001b[0mprint\u001b[0m\u001b[0;34m(\u001b[0m\u001b[0moutput\u001b[0m\u001b[0;34m)\u001b[0m\u001b[0;34m\u001b[0m\u001b[0;34m\u001b[0m\u001b[0m\n",
            "\u001b[0;32m/usr/local/lib/python3.10/dist-packages/ipykernel/kernelbase.py\u001b[0m in \u001b[0;36mraw_input\u001b[0;34m(self, prompt)\u001b[0m\n\u001b[1;32m    849\u001b[0m                 \u001b[0;34m\"raw_input was called, but this frontend does not support input requests.\"\u001b[0m\u001b[0;34m\u001b[0m\u001b[0;34m\u001b[0m\u001b[0m\n\u001b[1;32m    850\u001b[0m             )\n\u001b[0;32m--> 851\u001b[0;31m         return self._input_request(str(prompt),\n\u001b[0m\u001b[1;32m    852\u001b[0m             \u001b[0mself\u001b[0m\u001b[0;34m.\u001b[0m\u001b[0m_parent_ident\u001b[0m\u001b[0;34m,\u001b[0m\u001b[0;34m\u001b[0m\u001b[0;34m\u001b[0m\u001b[0m\n\u001b[1;32m    853\u001b[0m             \u001b[0mself\u001b[0m\u001b[0;34m.\u001b[0m\u001b[0m_parent_header\u001b[0m\u001b[0;34m,\u001b[0m\u001b[0;34m\u001b[0m\u001b[0;34m\u001b[0m\u001b[0m\n",
            "\u001b[0;32m/usr/local/lib/python3.10/dist-packages/ipykernel/kernelbase.py\u001b[0m in \u001b[0;36m_input_request\u001b[0;34m(self, prompt, ident, parent, password)\u001b[0m\n\u001b[1;32m    893\u001b[0m             \u001b[0;32mexcept\u001b[0m \u001b[0mKeyboardInterrupt\u001b[0m\u001b[0;34m:\u001b[0m\u001b[0;34m\u001b[0m\u001b[0;34m\u001b[0m\u001b[0m\n\u001b[1;32m    894\u001b[0m                 \u001b[0;31m# re-raise KeyboardInterrupt, to truncate traceback\u001b[0m\u001b[0;34m\u001b[0m\u001b[0;34m\u001b[0m\u001b[0m\n\u001b[0;32m--> 895\u001b[0;31m                 \u001b[0;32mraise\u001b[0m \u001b[0mKeyboardInterrupt\u001b[0m\u001b[0;34m(\u001b[0m\u001b[0;34m\"Interrupted by user\"\u001b[0m\u001b[0;34m)\u001b[0m \u001b[0;32mfrom\u001b[0m \u001b[0;32mNone\u001b[0m\u001b[0;34m\u001b[0m\u001b[0;34m\u001b[0m\u001b[0m\n\u001b[0m\u001b[1;32m    896\u001b[0m             \u001b[0;32mexcept\u001b[0m \u001b[0mException\u001b[0m \u001b[0;32mas\u001b[0m \u001b[0me\u001b[0m\u001b[0;34m:\u001b[0m\u001b[0;34m\u001b[0m\u001b[0;34m\u001b[0m\u001b[0m\n\u001b[1;32m    897\u001b[0m                 \u001b[0mself\u001b[0m\u001b[0;34m.\u001b[0m\u001b[0mlog\u001b[0m\u001b[0;34m.\u001b[0m\u001b[0mwarning\u001b[0m\u001b[0;34m(\u001b[0m\u001b[0;34m\"Invalid Message:\"\u001b[0m\u001b[0;34m,\u001b[0m \u001b[0mexc_info\u001b[0m\u001b[0;34m=\u001b[0m\u001b[0;32mTrue\u001b[0m\u001b[0;34m)\u001b[0m\u001b[0;34m\u001b[0m\u001b[0;34m\u001b[0m\u001b[0m\n",
            "\u001b[0;31mKeyboardInterrupt\u001b[0m: Interrupted by user"
          ]
        }
      ],
      "source": [
        "while True:\n",
        "    output=input('Please enter a number: ')\n",
        "    print(output)"
      ]
    },
    {
      "cell_type": "code",
      "execution_count": null,
      "metadata": {
        "colab": {
          "base_uri": "https://localhost:8080/"
        },
        "id": "i8AVOYwMUmvg",
        "outputId": "125f3ff5-f63a-41cb-d818-4c167f681d6f"
      },
      "outputs": [
        {
          "data": {
            "text/plain": [
              "True"
            ]
          },
          "execution_count": 44,
          "metadata": {},
          "output_type": "execute_result"
        }
      ],
      "source": [
        "True"
      ]
    },
    {
      "cell_type": "code",
      "execution_count": null,
      "metadata": {
        "colab": {
          "base_uri": "https://localhost:8080/"
        },
        "id": "n5f8L9kDVmnI",
        "outputId": "18e1747e-f493-48bd-a010-c8964b9707aa"
      },
      "outputs": [
        {
          "data": {
            "text/plain": [
              "False"
            ]
          },
          "execution_count": 43,
          "metadata": {},
          "output_type": "execute_result"
        }
      ],
      "source": [
        "False"
      ]
    },
    {
      "cell_type": "code",
      "execution_count": null,
      "metadata": {
        "id": "-QTNwPLoVoa8"
      },
      "outputs": [],
      "source": [
        "name = \"Mohammad\""
      ]
    },
    {
      "cell_type": "code",
      "execution_count": null,
      "metadata": {
        "colab": {
          "base_uri": "https://localhost:8080/"
        },
        "id": "zTGPHR_GWIrW",
        "outputId": "dab76185-2f83-47ab-af50-167dbbd29816"
      },
      "outputs": [
        {
          "name": "stdout",
          "output_type": "stream",
          "text": [
            "Mohammad\n"
          ]
        }
      ],
      "source": [
        "print(name)"
      ]
    },
    {
      "cell_type": "code",
      "execution_count": null,
      "metadata": {
        "colab": {
          "base_uri": "https://localhost:8080/"
        },
        "id": "Qa_CLNwUWKJA",
        "outputId": "d7009c13-0ad3-495b-9316-55bbd01f4986"
      },
      "outputs": [
        {
          "data": {
            "text/plain": [
              "str"
            ]
          },
          "execution_count": 47,
          "metadata": {},
          "output_type": "execute_result"
        }
      ],
      "source": [
        "type(name)"
      ]
    },
    {
      "cell_type": "code",
      "execution_count": null,
      "metadata": {
        "colab": {
          "base_uri": "https://localhost:8080/"
        },
        "id": "flikDREGWL2d",
        "outputId": "ae1e7445-aeb6-4584-8494-8965c2fe2326"
      },
      "outputs": [
        {
          "data": {
            "text/plain": [
              "8"
            ]
          },
          "execution_count": 49,
          "metadata": {},
          "output_type": "execute_result"
        }
      ],
      "source": [
        "len(name) # طول اسم رو میدهد"
      ]
    },
    {
      "cell_type": "code",
      "execution_count": null,
      "metadata": {
        "colab": {
          "base_uri": "https://localhost:8080/"
        },
        "id": "2yNCWO2RWV3d",
        "outputId": "c87d773b-41c3-4033-81b8-d0d2aec14791"
      },
      "outputs": [
        {
          "name": "stdout",
          "output_type": "stream",
          "text": [
            "M\n",
            "o\n",
            "h\n",
            "a\n",
            "m\n",
            "m\n",
            "a\n",
            "d\n"
          ]
        }
      ],
      "source": [
        "for char in name:\n",
        "    print(char)"
      ]
    },
    {
      "cell_type": "markdown",
      "metadata": {
        "id": "eIppJ2xIW9HC"
      },
      "source": [
        "# Data Structure\n",
        "1. String\n",
        "2. list\n",
        "3. dictionary\n",
        "4. tuple and set\n",
        "5. VS Code\n",
        "6. Github"
      ]
    },
    {
      "cell_type": "code",
      "execution_count": null,
      "metadata": {
        "id": "Sr9OTP0OWykk"
      },
      "outputs": [],
      "source": [
        "name = \"Mohammadjavad Ahmanejade Kamrani.\""
      ]
    },
    {
      "cell_type": "code",
      "execution_count": null,
      "metadata": {
        "colab": {
          "base_uri": "https://localhost:8080/"
        },
        "id": "Q8vtdLxYoL8A",
        "outputId": "4e23fa59-2632-4f8b-acd0-de79f967cbc7"
      },
      "outputs": [
        {
          "data": {
            "text/plain": [
              "33"
            ]
          },
          "execution_count": 4,
          "metadata": {},
          "output_type": "execute_result"
        }
      ],
      "source": [
        "len(name)"
      ]
    },
    {
      "cell_type": "code",
      "execution_count": null,
      "metadata": {
        "colab": {
          "base_uri": "https://localhost:8080/",
          "height": 36
        },
        "id": "MYOvDBuwoSZt",
        "outputId": "10ac8488-5ac4-4018-dd20-5683232c809f"
      },
      "outputs": [
        {
          "data": {
            "application/vnd.google.colaboratory.intrinsic+json": {
              "type": "string"
            },
            "text/plain": [
              "'M'"
            ]
          },
          "execution_count": 5,
          "metadata": {},
          "output_type": "execute_result"
        }
      ],
      "source": [
        "name[0]"
      ]
    },
    {
      "cell_type": "code",
      "execution_count": null,
      "metadata": {
        "colab": {
          "base_uri": "https://localhost:8080/",
          "height": 36
        },
        "id": "yxFvwzjnonyS",
        "outputId": "506b4904-c688-4b83-c89c-05981d274259"
      },
      "outputs": [
        {
          "data": {
            "application/vnd.google.colaboratory.intrinsic+json": {
              "type": "string"
            },
            "text/plain": [
              "'d'"
            ]
          },
          "execution_count": 6,
          "metadata": {},
          "output_type": "execute_result"
        }
      ],
      "source": [
        "name[12]"
      ]
    },
    {
      "cell_type": "code",
      "execution_count": null,
      "metadata": {
        "colab": {
          "base_uri": "https://localhost:8080/",
          "height": 36
        },
        "id": "6EB60i7loqhh",
        "outputId": "85e8d3b5-f6b7-440f-d962-5752f924cbe7"
      },
      "outputs": [
        {
          "data": {
            "application/vnd.google.colaboratory.intrinsic+json": {
              "type": "string"
            },
            "text/plain": [
              "' '"
            ]
          },
          "execution_count": 7,
          "metadata": {},
          "output_type": "execute_result"
        }
      ],
      "source": [
        "name[13]"
      ]
    },
    {
      "cell_type": "code",
      "execution_count": null,
      "metadata": {
        "colab": {
          "base_uri": "https://localhost:8080/"
        },
        "id": "igFGg9WbotIN",
        "outputId": "fb0d7ad2-54f8-49bf-bfa4-8ff11bed35c5"
      },
      "outputs": [
        {
          "name": "stdout",
          "output_type": "stream",
          "text": [
            "Mohamma exist in name\n"
          ]
        }
      ],
      "source": [
        "if \"Mohammad\" in name:\n",
        "    print(\"Mohammad exist in name\")"
      ]
    },
    {
      "cell_type": "code",
      "execution_count": null,
      "metadata": {
        "id": "OZq4L51bpFjO"
      },
      "outputs": [],
      "source": [
        "if \"Mohamma\" in name:\n",
        "    print(\"Mohamma exist in name\")"
      ]
    },
    {
      "cell_type": "code",
      "execution_count": null,
      "metadata": {
        "colab": {
          "base_uri": "https://localhost:8080/"
        },
        "id": "l6mygD5XpNQo",
        "outputId": "831276f4-9197-40af-9933-c7505bcac996"
      },
      "outputs": [
        {
          "name": "stdout",
          "output_type": "stream",
          "text": [
            "M exist in name\n"
          ]
        }
      ],
      "source": [
        "if \"M\" in name:\n",
        "    print(\"M exist in name\")"
      ]
    },
    {
      "cell_type": "code",
      "execution_count": null,
      "metadata": {
        "id": "HMzYBZmDpQc-"
      },
      "outputs": [],
      "source": [
        "if \"Z\" in name:\n",
        "    print(\"Z exist in name\")"
      ]
    },
    {
      "cell_type": "code",
      "execution_count": null,
      "metadata": {
        "colab": {
          "base_uri": "https://localhost:8080/"
        },
        "id": "3fx_6iY0pTWc",
        "outputId": "5d55e988-56dc-4bbd-ce7b-d5e39dd514ef"
      },
      "outputs": [
        {
          "name": "stdout",
          "output_type": "stream",
          "text": [
            "j exist in name\n"
          ]
        }
      ],
      "source": [
        "if \"j\" in name:\n",
        "    print(\"j exist in name\")"
      ]
    },
    {
      "cell_type": "code",
      "execution_count": null,
      "metadata": {
        "id": "iZGJx0LmpaK1"
      },
      "outputs": [],
      "source": [
        "if \"J\" in name:\n",
        "    print(\"J exist in name\")"
      ]
    },
    {
      "cell_type": "code",
      "execution_count": null,
      "metadata": {
        "id": "TZSHbZhDpcV-"
      },
      "outputs": [],
      "source": [
        "if \"k\" in name:\n",
        "    print(\"k exist in name\")"
      ]
    },
    {
      "cell_type": "code",
      "execution_count": null,
      "metadata": {
        "colab": {
          "base_uri": "https://localhost:8080/"
        },
        "id": "8YSgF-OZpms5",
        "outputId": "70a79b16-53d5-4b8a-eb9b-f6835ecc452e"
      },
      "outputs": [
        {
          "name": "stdout",
          "output_type": "stream",
          "text": [
            "M\n",
            "o\n",
            "h\n",
            "a\n",
            "m\n",
            "m\n",
            "a\n",
            "d\n",
            "j\n",
            "a\n",
            "v\n",
            "a\n",
            "d\n",
            " \n",
            "A\n",
            "h\n",
            "m\n",
            "a\n",
            "n\n",
            "e\n",
            "j\n",
            "a\n",
            "d\n",
            "e\n",
            " \n",
            "K\n",
            "a\n",
            "m\n",
            "r\n",
            "a\n",
            "n\n",
            "i\n",
            ".\n"
          ]
        }
      ],
      "source": [
        "for char in name:\n",
        "    print(char)"
      ]
    },
    {
      "cell_type": "code",
      "execution_count": null,
      "metadata": {
        "colab": {
          "base_uri": "https://localhost:8080/"
        },
        "id": "mEYeX2KHpyI5",
        "outputId": "a8e510ac-7ae0-4b33-ce02-c9187ede9be2"
      },
      "outputs": [
        {
          "name": "stdout",
          "output_type": "stream",
          "text": [
            "j\n",
            "j\n"
          ]
        }
      ],
      "source": [
        "for char in name:\n",
        "    if char == \"j\":\n",
        "        print(char)"
      ]
    },
    {
      "cell_type": "code",
      "execution_count": null,
      "metadata": {
        "colab": {
          "base_uri": "https://localhost:8080/",
          "height": 36
        },
        "id": "frOA1iO6p7K7",
        "outputId": "c78605dd-b524-4553-9d09-4b65bc766419"
      },
      "outputs": [
        {
          "data": {
            "application/vnd.google.colaboratory.intrinsic+json": {
              "type": "string"
            },
            "text/plain": [
              "'mohammadjavad ahmanejade kamrani.'"
            ]
          },
          "execution_count": 21,
          "metadata": {},
          "output_type": "execute_result"
        }
      ],
      "source": [
        "name.lower()"
      ]
    },
    {
      "cell_type": "code",
      "execution_count": null,
      "metadata": {
        "colab": {
          "base_uri": "https://localhost:8080/",
          "height": 36
        },
        "id": "o1BF6AZBqMh1",
        "outputId": "a57da29d-7d2f-454f-c30a-ab2897b8db4f"
      },
      "outputs": [
        {
          "data": {
            "application/vnd.google.colaboratory.intrinsic+json": {
              "type": "string"
            },
            "text/plain": [
              "'MOHAMMADJAVAD AHMANEJADE KAMRANI.'"
            ]
          },
          "execution_count": 22,
          "metadata": {},
          "output_type": "execute_result"
        }
      ],
      "source": [
        "name.upper()"
      ]
    },
    {
      "cell_type": "code",
      "execution_count": null,
      "metadata": {
        "colab": {
          "base_uri": "https://localhost:8080/",
          "height": 36
        },
        "id": "0MBwSBmFqVEc",
        "outputId": "5809fbed-9e16-4160-8dc4-2671bd91de68"
      },
      "outputs": [
        {
          "data": {
            "application/vnd.google.colaboratory.intrinsic+json": {
              "type": "string"
            },
            "text/plain": [
              "'Mohammadjavad Ahmanejade Kamrani.'"
            ]
          },
          "execution_count": 23,
          "metadata": {},
          "output_type": "execute_result"
        }
      ],
      "source": [
        "name"
      ]
    },
    {
      "cell_type": "code",
      "execution_count": null,
      "metadata": {
        "colab": {
          "base_uri": "https://localhost:8080/"
        },
        "id": "ZR2pXU8JqW6D",
        "outputId": "d14aeebe-305f-41cf-ce47-92ca6a9e68cb"
      },
      "outputs": [
        {
          "name": "stdout",
          "output_type": "stream",
          "text": [
            "mohammad does not exist\n"
          ]
        }
      ],
      "source": [
        "if \"mohammad\" in name:\n",
        "    print(\"mohammad exist in name\")\n",
        "else:\n",
        "    print(\"mohammad does not exist\")"
      ]
    },
    {
      "cell_type": "code",
      "execution_count": null,
      "metadata": {
        "colab": {
          "base_uri": "https://localhost:8080/"
        },
        "id": "u2v6ebzLqeMj",
        "outputId": "8d5d728b-37f8-4a6d-e733-1fa6d1153e81"
      },
      "outputs": [
        {
          "name": "stdout",
          "output_type": "stream",
          "text": [
            "mohammad exist in name\n"
          ]
        }
      ],
      "source": [
        "if \"mohammad\" in name.lower():\n",
        "    print(\"mohammad exist in name\")"
      ]
    },
    {
      "cell_type": "code",
      "execution_count": null,
      "metadata": {
        "colab": {
          "base_uri": "https://localhost:8080/"
        },
        "id": "eGQtIzMPqis2",
        "outputId": "404d8d43-6b3a-4d23-ea8a-cdfd06763445"
      },
      "outputs": [
        {
          "data": {
            "text/plain": [
              "['Mohammadjavad', 'Ahmanejade', 'Kamrani.']"
            ]
          },
          "execution_count": 28,
          "metadata": {},
          "output_type": "execute_result"
        }
      ],
      "source": [
        "name.split(' ')"
      ]
    },
    {
      "cell_type": "code",
      "execution_count": null,
      "metadata": {
        "colab": {
          "base_uri": "https://localhost:8080/"
        },
        "id": "lRZuukAbq1rp",
        "outputId": "d895b64f-9766-49d2-a4a6-365dd7487c4e"
      },
      "outputs": [
        {
          "data": {
            "text/plain": [
              "['Moha', '', 'adjavad Ah', 'anejade Ka', 'rani.']"
            ]
          },
          "execution_count": 29,
          "metadata": {},
          "output_type": "execute_result"
        }
      ],
      "source": [
        "name.split('m')"
      ]
    },
    {
      "cell_type": "code",
      "execution_count": null,
      "metadata": {
        "colab": {
          "base_uri": "https://localhost:8080/"
        },
        "id": "kARyNmrEq4_F",
        "outputId": "ed8e7ff5-c455-44a0-f76d-ea472a728285"
      },
      "outputs": [
        {
          "data": {
            "text/plain": [
              "['Mohammadjavad Ahmanejade Kamrani.']"
            ]
          },
          "execution_count": 30,
          "metadata": {},
          "output_type": "execute_result"
        }
      ],
      "source": [
        "name.split(',')"
      ]
    },
    {
      "cell_type": "code",
      "execution_count": null,
      "metadata": {
        "colab": {
          "base_uri": "https://localhost:8080/",
          "height": 146
        },
        "id": "nYdDnZubrII9",
        "outputId": "eb9c2508-8f71-4c43-fc6c-52ad8c4edc57"
      },
      "outputs": [
        {
          "ename": "ValueError",
          "evalue": "empty separator",
          "output_type": "error",
          "traceback": [
            "\u001b[0;31m---------------------------------------------------------------------------\u001b[0m",
            "\u001b[0;31mValueError\u001b[0m                                Traceback (most recent call last)",
            "\u001b[0;32m<ipython-input-32-e97150ec4c1e>\u001b[0m in \u001b[0;36m<cell line: 1>\u001b[0;34m()\u001b[0m\n\u001b[0;32m----> 1\u001b[0;31m \u001b[0mname\u001b[0m\u001b[0;34m.\u001b[0m\u001b[0msplit\u001b[0m\u001b[0;34m(\u001b[0m\u001b[0;34m''\u001b[0m\u001b[0;34m)\u001b[0m\u001b[0;34m\u001b[0m\u001b[0;34m\u001b[0m\u001b[0m\n\u001b[0m",
            "\u001b[0;31mValueError\u001b[0m: empty separator"
          ]
        }
      ],
      "source": [
        "name.split('')"
      ]
    },
    {
      "cell_type": "code",
      "execution_count": null,
      "metadata": {
        "id": "EsT8oieWruVe"
      },
      "outputs": [],
      "source": [
        "name = \"Mohammadjavad Ahmanejade Kamrani. Hoshang dishab be park raft? javad cheto?\""
      ]
    },
    {
      "cell_type": "code",
      "execution_count": null,
      "metadata": {
        "colab": {
          "base_uri": "https://localhost:8080/"
        },
        "id": "PkCHJ0TJsMgo",
        "outputId": "c7813ee0-a0c2-400c-e819-155de6cec4fe"
      },
      "outputs": [
        {
          "data": {
            "text/plain": [
              "['Mohammadjavad',\n",
              " 'Ahmanejade',\n",
              " 'Kamrani.',\n",
              " 'Hoshang',\n",
              " 'dishab',\n",
              " 'be',\n",
              " 'park',\n",
              " 'raft?',\n",
              " 'javad',\n",
              " 'cheto?']"
            ]
          },
          "execution_count": 35,
          "metadata": {},
          "output_type": "execute_result"
        }
      ],
      "source": [
        "name.split(' ')"
      ]
    },
    {
      "cell_type": "code",
      "execution_count": null,
      "metadata": {
        "colab": {
          "base_uri": "https://localhost:8080/"
        },
        "id": "CdNA0AsEsOQ1",
        "outputId": "bed8a8ec-55c0-4dd4-e2c6-3003097891e5"
      },
      "outputs": [
        {
          "data": {
            "text/plain": [
              "['Mohammadjavad',\n",
              " 'Ahmanejade',\n",
              " 'Kamrani.',\n",
              " 'Hoshang',\n",
              " 'dishab',\n",
              " 'be',\n",
              " 'park',\n",
              " 'raft?',\n",
              " 'javad',\n",
              " 'cheto?']"
            ]
          },
          "execution_count": 36,
          "metadata": {},
          "output_type": "execute_result"
        }
      ],
      "source": [
        "name.split(\" \")"
      ]
    },
    {
      "cell_type": "code",
      "execution_count": null,
      "metadata": {
        "colab": {
          "base_uri": "https://localhost:8080/"
        },
        "id": "YFx4mnQDslG8",
        "outputId": "a4d6aa03-e292-4d9d-ff3e-0ac73e26d505"
      },
      "outputs": [
        {
          "data": {
            "text/plain": [
              "['Mohamma',\n",
              " 'java',\n",
              " ' Ahmaneja',\n",
              " 'e Kamrani. Hoshang ',\n",
              " 'ishab be park raft? java',\n",
              " ' cheto?']"
            ]
          },
          "execution_count": 37,
          "metadata": {},
          "output_type": "execute_result"
        }
      ],
      "source": [
        "name.split(\"d\")"
      ]
    },
    {
      "cell_type": "code",
      "execution_count": null,
      "metadata": {
        "colab": {
          "base_uri": "https://localhost:8080/",
          "height": 36
        },
        "id": "sBu1XaKEtPhe",
        "outputId": "32e42dfb-b740-4b5b-92fd-1b7396775f98"
      },
      "outputs": [
        {
          "data": {
            "application/vnd.google.colaboratory.intrinsic+json": {
              "type": "string"
            },
            "text/plain": [
              "'Mohammadjavad Ahmanejade Kamrani. Hoshang dishab be park raft? javad cheto?'"
            ]
          },
          "execution_count": 38,
          "metadata": {},
          "output_type": "execute_result"
        }
      ],
      "source": [
        "name"
      ]
    },
    {
      "cell_type": "code",
      "execution_count": null,
      "metadata": {
        "id": "CXPg4GnJtfcI"
      },
      "outputs": [],
      "source": [
        "name_new = name + \"Na javad be part naraft.\""
      ]
    },
    {
      "cell_type": "code",
      "execution_count": null,
      "metadata": {
        "colab": {
          "base_uri": "https://localhost:8080/",
          "height": 36
        },
        "id": "9lG3WbV6tuFP",
        "outputId": "2f580015-2a96-4a0a-def6-783747f8ae84"
      },
      "outputs": [
        {
          "data": {
            "application/vnd.google.colaboratory.intrinsic+json": {
              "type": "string"
            },
            "text/plain": [
              "'Mohammadjavad Ahmanejade Kamrani. Hoshang dishab be park raft? javad cheto?Na javad be part naraft.'"
            ]
          },
          "execution_count": 40,
          "metadata": {},
          "output_type": "execute_result"
        }
      ],
      "source": [
        "name_new"
      ]
    },
    {
      "cell_type": "code",
      "execution_count": null,
      "metadata": {
        "colab": {
          "base_uri": "https://localhost:8080/"
        },
        "id": "Jc9wW650tu3L",
        "outputId": "0a7f5871-a2ec-452b-82a1-cd6b262212fe"
      },
      "outputs": [
        {
          "data": {
            "text/plain": [
              "99"
            ]
          },
          "execution_count": 41,
          "metadata": {},
          "output_type": "execute_result"
        }
      ],
      "source": [
        "len(name_new)"
      ]
    },
    {
      "cell_type": "code",
      "execution_count": null,
      "metadata": {
        "colab": {
          "base_uri": "https://localhost:8080/",
          "height": 36
        },
        "id": "O4mwAG0-t7Tw",
        "outputId": "4dab7cb8-5e89-46dc-a8eb-8818290889f5"
      },
      "outputs": [
        {
          "data": {
            "application/vnd.google.colaboratory.intrinsic+json": {
              "type": "string"
            },
            "text/plain": [
              "'r'"
            ]
          },
          "execution_count": 42,
          "metadata": {},
          "output_type": "execute_result"
        }
      ],
      "source": [
        "name_new[89]"
      ]
    },
    {
      "cell_type": "code",
      "execution_count": null,
      "metadata": {
        "colab": {
          "base_uri": "https://localhost:8080/"
        },
        "id": "w0UnLOmGt938",
        "outputId": "3017aff3-b512-415e-d7c5-9108ebac1fd7"
      },
      "outputs": [
        {
          "name": "stdout",
          "output_type": "stream",
          "text": [
            "v\n",
            "a\n",
            "d\n",
            " \n",
            "b\n",
            "e\n",
            " \n",
            "p\n",
            "a\n",
            "r\n"
          ]
        }
      ],
      "source": [
        "for i in range(80, 90):\n",
        "    print(name_new[i])"
      ]
    },
    {
      "cell_type": "code",
      "execution_count": null,
      "metadata": {
        "colab": {
          "base_uri": "https://localhost:8080/",
          "height": 36
        },
        "id": "kWiSBiZIuIsX",
        "outputId": "9d62ffe4-18d8-4b11-f314-da1115c642b4"
      },
      "outputs": [
        {
          "data": {
            "application/vnd.google.colaboratory.intrinsic+json": {
              "type": "string"
            },
            "text/plain": [
              "'vad be par'"
            ]
          },
          "execution_count": 44,
          "metadata": {},
          "output_type": "execute_result"
        }
      ],
      "source": [
        "name_new[80:90]"
      ]
    },
    {
      "cell_type": "code",
      "execution_count": null,
      "metadata": {
        "colab": {
          "base_uri": "https://localhost:8080/",
          "height": 36
        },
        "id": "MAAg4DyhuXRJ",
        "outputId": "b8a9df33-b033-4d96-c25d-09c41854d5a8"
      },
      "outputs": [
        {
          "data": {
            "application/vnd.google.colaboratory.intrinsic+json": {
              "type": "string"
            },
            "text/plain": [
              "'VAD BE PAR'"
            ]
          },
          "execution_count": 45,
          "metadata": {},
          "output_type": "execute_result"
        }
      ],
      "source": [
        "name_new[80:90].upper()"
      ]
    },
    {
      "cell_type": "code",
      "execution_count": null,
      "metadata": {
        "colab": {
          "base_uri": "https://localhost:8080/"
        },
        "id": "EOlkeY7Ouo1w",
        "outputId": "822b5a52-acf5-486e-83ea-c38d7ed4c156"
      },
      "outputs": [
        {
          "data": {
            "text/plain": [
              "False"
            ]
          },
          "execution_count": 46,
          "metadata": {},
          "output_type": "execute_result"
        }
      ],
      "source": [
        "\"javad\" in name_new[80:90]"
      ]
    },
    {
      "cell_type": "code",
      "execution_count": null,
      "metadata": {
        "colab": {
          "base_uri": "https://localhost:8080/",
          "height": 36
        },
        "id": "867tT1yWuwnC",
        "outputId": "1b00b33b-31a3-416e-b5eb-226fddef5e59"
      },
      "outputs": [
        {
          "data": {
            "application/vnd.google.colaboratory.intrinsic+json": {
              "type": "string"
            },
            "text/plain": [
              "'Mohammadja'"
            ]
          },
          "execution_count": 47,
          "metadata": {},
          "output_type": "execute_result"
        }
      ],
      "source": [
        "name_new[:10]"
      ]
    },
    {
      "cell_type": "code",
      "execution_count": null,
      "metadata": {
        "colab": {
          "base_uri": "https://localhost:8080/",
          "height": 36
        },
        "id": "a9cUzeM2u4bN",
        "outputId": "aac9f516-9cb0-4a7e-ed0c-67d43f9a758c"
      },
      "outputs": [
        {
          "data": {
            "application/vnd.google.colaboratory.intrinsic+json": {
              "type": "string"
            },
            "text/plain": [
              "'rt naraft.'"
            ]
          },
          "execution_count": 48,
          "metadata": {},
          "output_type": "execute_result"
        }
      ],
      "source": [
        "name_new[89:]"
      ]
    },
    {
      "cell_type": "code",
      "execution_count": null,
      "metadata": {
        "colab": {
          "base_uri": "https://localhost:8080/",
          "height": 36
        },
        "id": "RkvW_BQ4u674",
        "outputId": "b7a7fc09-fc65-467b-c737-88f775a9e0c2"
      },
      "outputs": [
        {
          "data": {
            "application/vnd.google.colaboratory.intrinsic+json": {
              "type": "string"
            },
            "text/plain": [
              "'.'"
            ]
          },
          "execution_count": 49,
          "metadata": {},
          "output_type": "execute_result"
        }
      ],
      "source": [
        "name_new[-1]"
      ]
    },
    {
      "cell_type": "code",
      "execution_count": null,
      "metadata": {
        "colab": {
          "base_uri": "https://localhost:8080/",
          "height": 36
        },
        "id": "2ZgRtTsjv1tq",
        "outputId": "c972ec48-069c-4b64-c2e9-e1f1902c8b6a"
      },
      "outputs": [
        {
          "data": {
            "application/vnd.google.colaboratory.intrinsic+json": {
              "type": "string"
            },
            "text/plain": [
              "'t'"
            ]
          },
          "execution_count": 50,
          "metadata": {},
          "output_type": "execute_result"
        }
      ],
      "source": [
        "name_new[-2]"
      ]
    },
    {
      "cell_type": "code",
      "execution_count": null,
      "metadata": {
        "colab": {
          "base_uri": "https://localhost:8080/",
          "height": 36
        },
        "id": "xDJxszlBv8es",
        "outputId": "b18cc813-3632-4645-eb54-ed7d4f01d5b8"
      },
      "outputs": [
        {
          "data": {
            "application/vnd.google.colaboratory.intrinsic+json": {
              "type": "string"
            },
            "text/plain": [
              "'r'"
            ]
          },
          "execution_count": 53,
          "metadata": {},
          "output_type": "execute_result"
        }
      ],
      "source": [
        "name_new[-5]"
      ]
    },
    {
      "cell_type": "code",
      "execution_count": null,
      "metadata": {
        "colab": {
          "base_uri": "https://localhost:8080/",
          "height": 36
        },
        "id": "sIlm_S7qwBtT",
        "outputId": "49171585-5f93-4d66-9774-64d1a7b7d40b"
      },
      "outputs": [
        {
          "data": {
            "application/vnd.google.colaboratory.intrinsic+json": {
              "type": "string"
            },
            "text/plain": [
              "'rt naraft.'"
            ]
          },
          "execution_count": 54,
          "metadata": {},
          "output_type": "execute_result"
        }
      ],
      "source": [
        "name_new[-10:] # name_new[89:]"
      ]
    },
    {
      "cell_type": "code",
      "execution_count": null,
      "metadata": {
        "colab": {
          "base_uri": "https://localhost:8080/",
          "height": 36
        },
        "id": "yPkTs5PswRtO",
        "outputId": "cc79ed06-139a-4ba7-d487-f8854bf2907a"
      },
      "outputs": [
        {
          "data": {
            "application/vnd.google.colaboratory.intrinsic+json": {
              "type": "string"
            },
            "text/plain": [
              "'rt naraft.'"
            ]
          },
          "execution_count": 55,
          "metadata": {},
          "output_type": "execute_result"
        }
      ],
      "source": [
        "name_new[89:]"
      ]
    },
    {
      "cell_type": "code",
      "execution_count": null,
      "metadata": {
        "colab": {
          "base_uri": "https://localhost:8080/",
          "height": 54
        },
        "id": "VWHU2G6vwThH",
        "outputId": "e401d141-b163-4b0c-ecf0-548a7bcbd4c3"
      },
      "outputs": [
        {
          "name": "stdout",
          "output_type": "stream",
          "text": [
            "89\n"
          ]
        },
        {
          "data": {
            "application/vnd.google.colaboratory.intrinsic+json": {
              "type": "string"
            },
            "text/plain": [
              "'rt naraft.'"
            ]
          },
          "execution_count": 56,
          "metadata": {},
          "output_type": "execute_result"
        }
      ],
      "source": [
        "print(len(name_new)-10)\n",
        "name_new[len(name_new)-10:] # name_new[89:]"
      ]
    },
    {
      "cell_type": "code",
      "execution_count": null,
      "metadata": {
        "colab": {
          "base_uri": "https://localhost:8080/",
          "height": 72
        },
        "id": "f5-nuKuAwi2p",
        "outputId": "5d902d7f-7695-4549-9199-c70093b82035"
      },
      "outputs": [
        {
          "data": {
            "application/vnd.google.colaboratory.intrinsic+json": {
              "type": "string"
            },
            "text/plain": [
              "'Mohammadjavad Ahmanejade Kamrani. Hoshang dishab be park raft? javad cheto?Na javad be part naraft.Mohammadjavad Ahmanejade Kamrani. Hoshang dishab be park raft? javad cheto?Na javad be part naraft.Mohammadjavad Ahmanejade Kamrani. Hoshang dishab be park raft? javad cheto?Na javad be part naraft.'"
            ]
          },
          "execution_count": 57,
          "metadata": {},
          "output_type": "execute_result"
        }
      ],
      "source": [
        "name_new * 3"
      ]
    },
    {
      "cell_type": "code",
      "execution_count": null,
      "metadata": {
        "id": "XtnRBpesyGsl"
      },
      "outputs": [],
      "source": [
        "name = \"            Mohammadjavad Ahmanejade Kamrani. Hoshang dishab be park raft? javad cheto? Na javad be part naraft.\""
      ]
    },
    {
      "cell_type": "code",
      "execution_count": null,
      "metadata": {
        "colab": {
          "base_uri": "https://localhost:8080/",
          "height": 36
        },
        "id": "yQ1XSK5QyX1O",
        "outputId": "9dfc746a-1e00-424d-b105-796307e480ea"
      },
      "outputs": [
        {
          "data": {
            "application/vnd.google.colaboratory.intrinsic+json": {
              "type": "string"
            },
            "text/plain": [
              "'            Mohammadjavad Ahmanejade Kamrani. Hoshang dishab be park raft? javad cheto? Na javad be part naraft.'"
            ]
          },
          "execution_count": 59,
          "metadata": {},
          "output_type": "execute_result"
        }
      ],
      "source": [
        "name"
      ]
    },
    {
      "cell_type": "code",
      "execution_count": null,
      "metadata": {
        "colab": {
          "base_uri": "https://localhost:8080/",
          "height": 36
        },
        "id": "EiEiMAwfycxI",
        "outputId": "16973d14-6bae-4df6-ebe4-f60040dfd994"
      },
      "outputs": [
        {
          "data": {
            "application/vnd.google.colaboratory.intrinsic+json": {
              "type": "string"
            },
            "text/plain": [
              "'Mohammadjavad Ahmanejade Kamrani. Hoshang dishab be park raft? javad cheto? Na javad be part naraft.'"
            ]
          },
          "execution_count": 60,
          "metadata": {},
          "output_type": "execute_result"
        }
      ],
      "source": [
        "name.strip()"
      ]
    },
    {
      "cell_type": "code",
      "execution_count": null,
      "metadata": {
        "id": "IKvJ_tXzyiBA"
      },
      "outputs": [],
      "source": [
        "name = \"            Mohammadjavad Ahmanejade             Kamrani. Hoshang dishab be park raft? javad cheto? Na javad be part naraft.          \""
      ]
    },
    {
      "cell_type": "code",
      "execution_count": null,
      "metadata": {
        "colab": {
          "base_uri": "https://localhost:8080/",
          "height": 36
        },
        "id": "xhwmUpQ4yn-J",
        "outputId": "919c4e14-fbfb-4618-d041-bc9eaf3dcaf8"
      },
      "outputs": [
        {
          "data": {
            "application/vnd.google.colaboratory.intrinsic+json": {
              "type": "string"
            },
            "text/plain": [
              "'Mohammadjavad Ahmanejade             Kamrani. Hoshang dishab be park raft? javad cheto? Na javad be part naraft.'"
            ]
          },
          "execution_count": 65,
          "metadata": {},
          "output_type": "execute_result"
        }
      ],
      "source": [
        "name.strip()"
      ]
    },
    {
      "cell_type": "code",
      "execution_count": null,
      "metadata": {
        "colab": {
          "base_uri": "https://localhost:8080/",
          "height": 36
        },
        "id": "3bF-qYBByoq4",
        "outputId": "775db801-9130-414a-a9e5-ec3d78a59491"
      },
      "outputs": [
        {
          "data": {
            "application/vnd.google.colaboratory.intrinsic+json": {
              "type": "string"
            },
            "text/plain": [
              "'Mohammadjavad Ahmanejade Kamrani. Hoshang dishab be park raft? javad cheto? Na javad be part naraft.          '"
            ]
          },
          "execution_count": 63,
          "metadata": {},
          "output_type": "execute_result"
        }
      ],
      "source": [
        "name.lstrip()"
      ]
    },
    {
      "cell_type": "code",
      "execution_count": null,
      "metadata": {
        "colab": {
          "base_uri": "https://localhost:8080/",
          "height": 36
        },
        "id": "Xl0M0vYyyuwx",
        "outputId": "273dc499-8949-4dd5-9467-3e6969382cee"
      },
      "outputs": [
        {
          "data": {
            "application/vnd.google.colaboratory.intrinsic+json": {
              "type": "string"
            },
            "text/plain": [
              "'            Mohammadjavad Ahmanejade             Kamrani. Hoshang dishab be park raft? javad cheto? Na javad be part naraft.'"
            ]
          },
          "execution_count": 66,
          "metadata": {},
          "output_type": "execute_result"
        }
      ],
      "source": [
        "name.rstrip()"
      ]
    },
    {
      "cell_type": "code",
      "execution_count": null,
      "metadata": {
        "colab": {
          "base_uri": "https://localhost:8080/"
        },
        "id": "olWZuG-AzkZj",
        "outputId": "30d88edf-3ff7-49af-d01c-587f387e644d"
      },
      "outputs": [
        {
          "data": {
            "text/plain": [
              "True"
            ]
          },
          "execution_count": 67,
          "metadata": {},
          "output_type": "execute_result"
        }
      ],
      "source": [
        "\"javad\" in name"
      ]
    },
    {
      "cell_type": "code",
      "execution_count": null,
      "metadata": {
        "colab": {
          "base_uri": "https://localhost:8080/"
        },
        "id": "7Ck6pnxIzzH8",
        "outputId": "cfc3e03d-f79c-49f0-d636-d0bcd67b379c"
      },
      "outputs": [
        {
          "data": {
            "text/plain": [
              "20"
            ]
          },
          "execution_count": 68,
          "metadata": {},
          "output_type": "execute_result"
        }
      ],
      "source": [
        "name.find(\"javad\")"
      ]
    },
    {
      "cell_type": "code",
      "execution_count": null,
      "metadata": {
        "colab": {
          "base_uri": "https://localhost:8080/",
          "height": 36
        },
        "id": "zz2yrMM-0Ta8",
        "outputId": "5ac1ef24-5c5d-4813-9e6d-e1ee34938ee2"
      },
      "outputs": [
        {
          "data": {
            "application/vnd.google.colaboratory.intrinsic+json": {
              "type": "string"
            },
            "text/plain": [
              "'j'"
            ]
          },
          "execution_count": 69,
          "metadata": {},
          "output_type": "execute_result"
        }
      ],
      "source": [
        "name[20]"
      ]
    },
    {
      "cell_type": "code",
      "execution_count": null,
      "metadata": {
        "colab": {
          "base_uri": "https://localhost:8080/"
        },
        "id": "z3QBpLkh0Xod",
        "outputId": "459293ba-52df-4d4b-92a1-fade08968201"
      },
      "outputs": [
        {
          "data": {
            "text/plain": [
              "20"
            ]
          },
          "execution_count": 70,
          "metadata": {},
          "output_type": "execute_result"
        }
      ],
      "source": [
        "name.index(\"javad\")"
      ]
    },
    {
      "cell_type": "code",
      "execution_count": null,
      "metadata": {
        "colab": {
          "base_uri": "https://localhost:8080/",
          "height": 146
        },
        "id": "Fgeupfpg0oaH",
        "outputId": "c43b2549-f2c2-4652-dae0-6ef7b5be2265"
      },
      "outputs": [
        {
          "ename": "ValueError",
          "evalue": "substring not found",
          "output_type": "error",
          "traceback": [
            "\u001b[0;31m---------------------------------------------------------------------------\u001b[0m",
            "\u001b[0;31mValueError\u001b[0m                                Traceback (most recent call last)",
            "\u001b[0;32m<ipython-input-71-5cb53c96b47b>\u001b[0m in \u001b[0;36m<cell line: 1>\u001b[0;34m()\u001b[0m\n\u001b[0;32m----> 1\u001b[0;31m \u001b[0mname\u001b[0m\u001b[0;34m.\u001b[0m\u001b[0mindex\u001b[0m\u001b[0;34m(\u001b[0m\u001b[0;34m\"Javad\"\u001b[0m\u001b[0;34m)\u001b[0m\u001b[0;34m\u001b[0m\u001b[0;34m\u001b[0m\u001b[0m\n\u001b[0m",
            "\u001b[0;31mValueError\u001b[0m: substring not found"
          ]
        }
      ],
      "source": [
        "name.index(\"Javad\")"
      ]
    },
    {
      "cell_type": "code",
      "execution_count": null,
      "metadata": {
        "colab": {
          "base_uri": "https://localhost:8080/",
          "height": 36
        },
        "id": "lX8BKbO405-e",
        "outputId": "7c490b0a-30be-44f4-8e14-4303fef83296"
      },
      "outputs": [
        {
          "data": {
            "application/vnd.google.colaboratory.intrinsic+json": {
              "type": "string"
            },
            "text/plain": [
              "'            Mohammadjavad Ahmanejade             Kamrani. Hoshang dishab be park raft? javad cheto? Na javad be part naraft.          '"
            ]
          },
          "execution_count": 72,
          "metadata": {},
          "output_type": "execute_result"
        }
      ],
      "source": [
        "name"
      ]
    },
    {
      "cell_type": "code",
      "execution_count": null,
      "metadata": {
        "colab": {
          "base_uri": "https://localhost:8080/",
          "height": 36
        },
        "id": "9DxPEA3C1MaU",
        "outputId": "3a6fc7dd-fa46-42a6-af35-0b9f40528541"
      },
      "outputs": [
        {
          "data": {
            "application/vnd.google.colaboratory.intrinsic+json": {
              "type": "string"
            },
            "text/plain": [
              "'            Mohammadamir Ahmanejade             Kamrani. Hoshang dishab be park raft? amir cheto? Na amir be part naraft.          '"
            ]
          },
          "execution_count": 73,
          "metadata": {},
          "output_type": "execute_result"
        }
      ],
      "source": [
        "name.replace(\"javad\", \"amir\")"
      ]
    },
    {
      "cell_type": "code",
      "execution_count": null,
      "metadata": {
        "colab": {
          "base_uri": "https://localhost:8080/",
          "height": 36
        },
        "id": "YffIzz8N1YNL",
        "outputId": "1ed75dcd-8139-4f2f-b768-d839dac272c9"
      },
      "outputs": [
        {
          "data": {
            "application/vnd.google.colaboratory.intrinsic+json": {
              "type": "string"
            },
            "text/plain": [
              "',,,,,,,,,,,,Mohammadjavad,Ahmanejade,,,,,,,,,,,,,Kamrani.,Hoshang,dishab,be,park,raft?,javad,cheto?,Na,javad,be,part,naraft.,,,,,,,,,,'"
            ]
          },
          "execution_count": 74,
          "metadata": {},
          "output_type": "execute_result"
        }
      ],
      "source": [
        "name.replace(\" \", \",\")"
      ]
    },
    {
      "cell_type": "code",
      "execution_count": null,
      "metadata": {
        "colab": {
          "base_uri": "https://localhost:8080/",
          "height": 36
        },
        "id": "3sZTiaLm1yKw",
        "outputId": "adf12b48-a32e-4225-dcfb-ba557d6c630b"
      },
      "outputs": [
        {
          "data": {
            "application/vnd.google.colaboratory.intrinsic+json": {
              "type": "string"
            },
            "text/plain": [
              "'MohammadjavadAhmanejadeKamrani.Hoshangdishabbeparkraft?javadcheto?Najavadbepartnaraft.'"
            ]
          },
          "execution_count": 77,
          "metadata": {},
          "output_type": "execute_result"
        }
      ],
      "source": [
        "name.replace(\" \", \"\")"
      ]
    },
    {
      "cell_type": "code",
      "execution_count": null,
      "metadata": {
        "colab": {
          "base_uri": "https://localhost:8080/",
          "height": 36
        },
        "id": "__nf1LQk14jR",
        "outputId": "f48cd0a1-d865-45cc-a41a-e55e85502acd"
      },
      "outputs": [
        {
          "data": {
            "application/vnd.google.colaboratory.intrinsic+json": {
              "type": "string"
            },
            "text/plain": [
              "'MohmmdjvdAhmnejdeKmrni.Hoshngdishbbeprkrft?jvdcheto?Njvdbeprtnrft.'"
            ]
          },
          "execution_count": 78,
          "metadata": {},
          "output_type": "execute_result"
        }
      ],
      "source": [
        "name.replace(\" \", \"\").replace(\"a\", \"\")"
      ]
    },
    {
      "cell_type": "code",
      "execution_count": null,
      "metadata": {
        "colab": {
          "base_uri": "https://localhost:8080/",
          "height": 36
        },
        "id": "JFHo2tOh2hMo",
        "outputId": "2a48e1fd-7559-457e-8a84-d2ef2a0278a7"
      },
      "outputs": [
        {
          "data": {
            "application/vnd.google.colaboratory.intrinsic+json": {
              "type": "string"
            },
            "text/plain": [
              "'  Mohbmmb'"
            ]
          },
          "execution_count": 81,
          "metadata": {},
          "output_type": "execute_result"
        }
      ],
      "source": [
        "name[10:19].replace(\"a\", \"b\")"
      ]
    },
    {
      "cell_type": "code",
      "execution_count": null,
      "metadata": {
        "colab": {
          "base_uri": "https://localhost:8080/",
          "height": 146
        },
        "id": "X0nAypHS24v0",
        "outputId": "514e395b-7d4b-4808-8bed-c4047db87249"
      },
      "outputs": [
        {
          "ename": "TypeError",
          "evalue": "string indices must be integers",
          "output_type": "error",
          "traceback": [
            "\u001b[0;31m---------------------------------------------------------------------------\u001b[0m",
            "\u001b[0;31mTypeError\u001b[0m                                 Traceback (most recent call last)",
            "\u001b[0;32m<ipython-input-82-a585ad3d5ac9>\u001b[0m in \u001b[0;36m<cell line: 1>\u001b[0;34m()\u001b[0m\n\u001b[0;32m----> 1\u001b[0;31m \u001b[0mname\u001b[0m\u001b[0;34m[\u001b[0m\u001b[0;36m10\u001b[0m\u001b[0;34m,\u001b[0m\u001b[0;36m99\u001b[0m\u001b[0;34m]\u001b[0m\u001b[0;34m\u001b[0m\u001b[0;34m\u001b[0m\u001b[0m\n\u001b[0m",
            "\u001b[0;31mTypeError\u001b[0m: string indices must be integers"
          ]
        }
      ],
      "source": [
        "name[10,99] # ارور خواهد داد"
      ]
    },
    {
      "cell_type": "code",
      "execution_count": null,
      "metadata": {
        "colab": {
          "base_uri": "https://localhost:8080/",
          "height": 36
        },
        "id": "72_tF2gx3Xkh",
        "outputId": "9f90acbc-0694-45df-8030-b9a9824b4bbf"
      },
      "outputs": [
        {
          "data": {
            "application/vnd.google.colaboratory.intrinsic+json": {
              "type": "string"
            },
            "text/plain": [
              "'  Mohraft.          '"
            ]
          },
          "execution_count": 84,
          "metadata": {},
          "output_type": "execute_result"
        }
      ],
      "source": [
        "name[10:15] + name[-15:]"
      ]
    },
    {
      "cell_type": "code",
      "execution_count": null,
      "metadata": {
        "id": "J8ykIKIu39Co"
      },
      "outputs": [],
      "source": [
        "my_list = [1, 2, 3]"
      ]
    },
    {
      "cell_type": "code",
      "execution_count": null,
      "metadata": {
        "colab": {
          "base_uri": "https://localhost:8080/"
        },
        "id": "wBCMBsHW4bCZ",
        "outputId": "d11893d5-e9d9-431c-f9ec-8f3a3ba3fe72"
      },
      "outputs": [
        {
          "name": "stdout",
          "output_type": "stream",
          "text": [
            "[1, 2, 3]\n"
          ]
        }
      ],
      "source": [
        "print(my_list)"
      ]
    },
    {
      "cell_type": "code",
      "execution_count": null,
      "metadata": {
        "id": "FIXyov0S4cXx"
      },
      "outputs": [],
      "source": [
        "my_list = [1, 0, 1.4, \"salam\", 2+3j, True]"
      ]
    },
    {
      "cell_type": "code",
      "execution_count": null,
      "metadata": {
        "colab": {
          "base_uri": "https://localhost:8080/"
        },
        "id": "0F4LlCbe4uhS",
        "outputId": "4831af5e-31c3-47fd-9ebd-93b3865ea7d2"
      },
      "outputs": [
        {
          "data": {
            "text/plain": [
              "1"
            ]
          },
          "execution_count": 88,
          "metadata": {},
          "output_type": "execute_result"
        }
      ],
      "source": [
        "my_list[0]"
      ]
    },
    {
      "cell_type": "code",
      "execution_count": null,
      "metadata": {
        "colab": {
          "base_uri": "https://localhost:8080/"
        },
        "id": "Isf_Fa8E42FY",
        "outputId": "d54d2f45-8925-47e8-b989-daad8fd9fb0e"
      },
      "outputs": [
        {
          "data": {
            "text/plain": [
              "1.4"
            ]
          },
          "execution_count": 89,
          "metadata": {},
          "output_type": "execute_result"
        }
      ],
      "source": [
        "my_list[2]"
      ]
    },
    {
      "cell_type": "code",
      "execution_count": null,
      "metadata": {
        "colab": {
          "base_uri": "https://localhost:8080/"
        },
        "id": "uRM0iMDj43AR",
        "outputId": "324c9780-22e4-4e9d-f15b-9a196a7bc0a7"
      },
      "outputs": [
        {
          "data": {
            "text/plain": [
              "[1.4, 'salam']"
            ]
          },
          "execution_count": 90,
          "metadata": {},
          "output_type": "execute_result"
        }
      ],
      "source": [
        "my_list[2:4]"
      ]
    },
    {
      "cell_type": "code",
      "execution_count": null,
      "metadata": {
        "colab": {
          "base_uri": "https://localhost:8080/"
        },
        "id": "7DIBJOvG45ia",
        "outputId": "99911c88-0309-4c07-9840-18f5c145b6b3"
      },
      "outputs": [
        {
          "data": {
            "text/plain": [
              "[(2+3j), True]"
            ]
          },
          "execution_count": 91,
          "metadata": {},
          "output_type": "execute_result"
        }
      ],
      "source": [
        "my_list[-2:]"
      ]
    },
    {
      "cell_type": "code",
      "execution_count": null,
      "metadata": {
        "id": "HJLZ-pTG5BDT"
      },
      "outputs": [],
      "source": [
        "my_list = [1, 0, 1.4, \"salam\", 2+3j, True, [1, 2, 9, \"Hello\"]]"
      ]
    },
    {
      "cell_type": "code",
      "execution_count": null,
      "metadata": {
        "colab": {
          "base_uri": "https://localhost:8080/"
        },
        "id": "sNIuo9yY5IIZ",
        "outputId": "22de21a8-03a3-44a3-c8dc-3404c5a8cf8d"
      },
      "outputs": [
        {
          "data": {
            "text/plain": [
              "[1, 2, 9, 'Hello']"
            ]
          },
          "execution_count": 93,
          "metadata": {},
          "output_type": "execute_result"
        }
      ],
      "source": [
        "my_list[-1]"
      ]
    },
    {
      "cell_type": "code",
      "execution_count": null,
      "metadata": {
        "colab": {
          "base_uri": "https://localhost:8080/",
          "height": 36
        },
        "id": "YfTK5RGK5KCE",
        "outputId": "9899b9dc-17c0-497d-8ceb-1f919f167ccc"
      },
      "outputs": [
        {
          "data": {
            "application/vnd.google.colaboratory.intrinsic+json": {
              "type": "string"
            },
            "text/plain": [
              "'Hello'"
            ]
          },
          "execution_count": 94,
          "metadata": {},
          "output_type": "execute_result"
        }
      ],
      "source": [
        "my_list[-1][-1]"
      ]
    },
    {
      "cell_type": "code",
      "execution_count": null,
      "metadata": {
        "colab": {
          "base_uri": "https://localhost:8080/"
        },
        "id": "gr22nsgt5Pz8",
        "outputId": "8c74197b-6833-4edf-d1ff-96244821e17b"
      },
      "outputs": [
        {
          "data": {
            "text/plain": [
              "[9, 'Hello']"
            ]
          },
          "execution_count": 95,
          "metadata": {},
          "output_type": "execute_result"
        }
      ],
      "source": [
        "my_list[-1][2:]"
      ]
    },
    {
      "cell_type": "code",
      "execution_count": null,
      "metadata": {
        "id": "F1edpM_h5San"
      },
      "outputs": [],
      "source": [
        "list2 = []"
      ]
    },
    {
      "cell_type": "code",
      "execution_count": null,
      "metadata": {
        "colab": {
          "base_uri": "https://localhost:8080/"
        },
        "id": "zOc7cOYB6YL0",
        "outputId": "f21ae7e5-ec36-4dc2-c1ec-84649726266b"
      },
      "outputs": [
        {
          "data": {
            "text/plain": [
              "[]"
            ]
          },
          "execution_count": 97,
          "metadata": {},
          "output_type": "execute_result"
        }
      ],
      "source": [
        "list2"
      ]
    },
    {
      "cell_type": "code",
      "execution_count": null,
      "metadata": {
        "id": "kZ0pWXbR6Y7k"
      },
      "outputs": [],
      "source": [
        "for i in range(10):\n",
        "    list2.append(i)"
      ]
    },
    {
      "cell_type": "code",
      "execution_count": null,
      "metadata": {
        "colab": {
          "base_uri": "https://localhost:8080/"
        },
        "id": "Pnp8el7e6mQn",
        "outputId": "594454dc-4d8d-446b-f075-0bcbf8a31a6d"
      },
      "outputs": [
        {
          "data": {
            "text/plain": [
              "[0, 1, 2, 3, 4, 5, 6, 7, 8, 9]"
            ]
          },
          "execution_count": 99,
          "metadata": {},
          "output_type": "execute_result"
        }
      ],
      "source": [
        "list2"
      ]
    },
    {
      "cell_type": "code",
      "execution_count": null,
      "metadata": {
        "id": "NVLFHG746sE3"
      },
      "outputs": [],
      "source": [
        "list2.append(\"salam\")"
      ]
    },
    {
      "cell_type": "code",
      "execution_count": null,
      "metadata": {
        "colab": {
          "base_uri": "https://localhost:8080/"
        },
        "id": "k6NEhkYI6x_A",
        "outputId": "d2cd7103-611a-4651-aca7-48d730d2c196"
      },
      "outputs": [
        {
          "data": {
            "text/plain": [
              "[0, 1, 2, 3, 4, 5, 6, 7, 8, 9, 'salam']"
            ]
          },
          "execution_count": 101,
          "metadata": {},
          "output_type": "execute_result"
        }
      ],
      "source": [
        "list2"
      ]
    },
    {
      "cell_type": "code",
      "execution_count": null,
      "metadata": {
        "id": "Ic5a6Q1b6y2k"
      },
      "outputs": [],
      "source": [
        "list2.insert(0, \"Hello\")"
      ]
    },
    {
      "cell_type": "code",
      "execution_count": null,
      "metadata": {
        "colab": {
          "base_uri": "https://localhost:8080/"
        },
        "id": "cu6gfZEF6-pX",
        "outputId": "f7040bfc-f721-45f7-9a5f-54febdf4922f"
      },
      "outputs": [
        {
          "data": {
            "text/plain": [
              "['Hello', 0, 1, 2, 3, 4, 5, 6, 7, 8, 9, 'salam']"
            ]
          },
          "execution_count": 103,
          "metadata": {},
          "output_type": "execute_result"
        }
      ],
      "source": [
        "list2"
      ]
    },
    {
      "cell_type": "code",
      "execution_count": null,
      "metadata": {
        "id": "BEoT87GT6_j-"
      },
      "outputs": [],
      "source": [
        "list2.insert(5, \"Kodafez\")"
      ]
    },
    {
      "cell_type": "code",
      "execution_count": null,
      "metadata": {
        "colab": {
          "base_uri": "https://localhost:8080/"
        },
        "id": "EDlJ3B8v7GHM",
        "outputId": "c7eba672-7e7f-4cb6-cf20-a3e84d31985b"
      },
      "outputs": [
        {
          "data": {
            "text/plain": [
              "['Hello', 0, 1, 2, 3, 'Kodafez', 4, 5, 6, 7, 8, 9, 'salam']"
            ]
          },
          "execution_count": 105,
          "metadata": {},
          "output_type": "execute_result"
        }
      ],
      "source": [
        "list2"
      ]
    },
    {
      "cell_type": "code",
      "execution_count": null,
      "metadata": {
        "colab": {
          "base_uri": "https://localhost:8080/",
          "height": 146
        },
        "id": "pvMuKsi67H36",
        "outputId": "dd5e0793-9a0c-4cd4-a027-cb489a8c9a34"
      },
      "outputs": [
        {
          "ename": "AttributeError",
          "evalue": "'str' object has no attribute 'insert'",
          "output_type": "error",
          "traceback": [
            "\u001b[0;31m---------------------------------------------------------------------------\u001b[0m",
            "\u001b[0;31mAttributeError\u001b[0m                            Traceback (most recent call last)",
            "\u001b[0;32m<ipython-input-106-3c608cc90012>\u001b[0m in \u001b[0;36m<cell line: 1>\u001b[0;34m()\u001b[0m\n\u001b[0;32m----> 1\u001b[0;31m \u001b[0;34m\"salam\"\u001b[0m\u001b[0;34m.\u001b[0m\u001b[0minsert\u001b[0m\u001b[0;34m(\u001b[0m\u001b[0;36m1\u001b[0m\u001b[0;34m,\u001b[0m \u001b[0;34m\".\"\u001b[0m\u001b[0;34m)\u001b[0m\u001b[0;34m\u001b[0m\u001b[0;34m\u001b[0m\u001b[0m\n\u001b[0m",
            "\u001b[0;31mAttributeError\u001b[0m: 'str' object has no attribute 'insert'"
          ]
        }
      ],
      "source": [
        "\"salam\".insert(1, \".\")"
      ]
    },
    {
      "cell_type": "code",
      "execution_count": null,
      "metadata": {
        "colab": {
          "base_uri": "https://localhost:8080/",
          "height": 146
        },
        "id": "jkGbH2pq7pf0",
        "outputId": "a9026b53-1986-4ac1-8b7b-e94312913a7a"
      },
      "outputs": [
        {
          "ename": "NameError",
          "evalue": "name 'j' is not defined",
          "output_type": "error",
          "traceback": [
            "\u001b[0;31m---------------------------------------------------------------------------\u001b[0m",
            "\u001b[0;31mNameError\u001b[0m                                 Traceback (most recent call last)",
            "\u001b[0;32m<ipython-input-108-4c8da98b36be>\u001b[0m in \u001b[0;36m<cell line: 1>\u001b[0;34m()\u001b[0m\n\u001b[0;32m----> 1\u001b[0;31m \u001b[0mlist3\u001b[0m \u001b[0;34m=\u001b[0m \u001b[0;34m[\u001b[0m\u001b[0mj\u001b[0m\u001b[0;34m]\u001b[0m\u001b[0;34m\u001b[0m\u001b[0;34m\u001b[0m\u001b[0m\n\u001b[0m",
            "\u001b[0;31mNameError\u001b[0m: name 'j' is not defined"
          ]
        }
      ],
      "source": [
        "list3 = [j]"
      ]
    },
    {
      "cell_type": "code",
      "execution_count": null,
      "metadata": {
        "id": "96BYh4Vo8Go2"
      },
      "outputs": [],
      "source": [
        "list3 = [j for j in range(10)]\n",
        "\n",
        "# for j in range(10):\n",
        "#      list3.append(j)\n",
        "#\n",
        "#"
      ]
    },
    {
      "cell_type": "code",
      "execution_count": null,
      "metadata": {
        "colab": {
          "base_uri": "https://localhost:8080/"
        },
        "id": "Jh6soU8F8P77",
        "outputId": "d72b6591-0cc5-40be-fc9f-c25afa66e658"
      },
      "outputs": [
        {
          "data": {
            "text/plain": [
              "[0, 1, 2, 3, 4, 5, 6, 7, 8, 9]"
            ]
          },
          "execution_count": 110,
          "metadata": {},
          "output_type": "execute_result"
        }
      ],
      "source": [
        "list3"
      ]
    },
    {
      "cell_type": "code",
      "execution_count": null,
      "metadata": {
        "colab": {
          "base_uri": "https://localhost:8080/"
        },
        "id": "OvAU74W58Qwb",
        "outputId": "7d548bdd-99c1-4c00-c31f-933313963000"
      },
      "outputs": [
        {
          "data": {
            "text/plain": [
              "[10, 20, 30, 40, 50, 60, 70, 80, 90]"
            ]
          },
          "execution_count": 111,
          "metadata": {},
          "output_type": "execute_result"
        }
      ],
      "source": [
        "[j for j in range(10, 100, 10)]"
      ]
    },
    {
      "cell_type": "code",
      "execution_count": null,
      "metadata": {
        "colab": {
          "base_uri": "https://localhost:8080/",
          "height": 36
        },
        "id": "k2eogA2J8WJw",
        "outputId": "cc32acd5-52d1-48a4-ce70-5da29e13e831"
      },
      "outputs": [
        {
          "data": {
            "application/vnd.google.colaboratory.intrinsic+json": {
              "type": "string"
            },
            "text/plain": [
              "'            Mohbmmbdjavad Ahmanejade             Kamrani. Hoshang dishab be park raft? javad cheto? Na javad be part naraft.          '"
            ]
          },
          "execution_count": 114,
          "metadata": {},
          "output_type": "execute_result"
        }
      ],
      "source": [
        "name.replace(\"a\",\"b\" , 2)"
      ]
    },
    {
      "cell_type": "code",
      "execution_count": null,
      "metadata": {
        "colab": {
          "base_uri": "https://localhost:8080/"
        },
        "id": "tIom-Gjq-NSr",
        "outputId": "f2b9f854-90c6-471d-8e26-e7b8c1ff614c"
      },
      "outputs": [
        {
          "data": {
            "text/plain": [
              "15"
            ]
          },
          "execution_count": 115,
          "metadata": {},
          "output_type": "execute_result"
        }
      ],
      "source": [
        "name.find('a')"
      ]
    },
    {
      "cell_type": "code",
      "execution_count": null,
      "metadata": {
        "colab": {
          "base_uri": "https://localhost:8080/"
        },
        "id": "Jp_UkbFP_Ddb",
        "outputId": "2ea2310b-9411-48a6-994c-1f4449ce9d35"
      },
      "outputs": [
        {
          "data": {
            "text/plain": [
              "2"
            ]
          },
          "execution_count": 119,
          "metadata": {},
          "output_type": "execute_result"
        }
      ],
      "source": [
        "name[name.find('a')+1:].find('a')"
      ]
    },
    {
      "cell_type": "code",
      "execution_count": null,
      "metadata": {
        "colab": {
          "base_uri": "https://localhost:8080/"
        },
        "id": "Q7riAJeV_LhM",
        "outputId": "a0912137-d8e9-44c9-8113-01769db5d49b"
      },
      "outputs": [
        {
          "data": {
            "text/plain": [
              "12"
            ]
          },
          "execution_count": 121,
          "metadata": {},
          "output_type": "execute_result"
        }
      ],
      "source": [
        "name[name[name.find('a')+1:].find('a')+1:].find('a')"
      ]
    },
    {
      "cell_type": "code",
      "execution_count": null,
      "metadata": {
        "id": "kgaj1c02_OT2"
      },
      "outputs": [],
      "source": [
        "name[a3:a5].replace(\"a\",\"b\" , 3)"
      ]
    },
    {
      "cell_type": "code",
      "execution_count": null,
      "metadata": {
        "colab": {
          "base_uri": "https://localhost:8080/"
        },
        "id": "YJ3IDx89_uyq",
        "outputId": "487f1ee8-c1ad-4cc6-82fa-bb53f87cf07a"
      },
      "outputs": [
        {
          "data": {
            "text/plain": [
              "[0,\n",
              " 1,\n",
              " 2,\n",
              " 3,\n",
              " 4,\n",
              " 5,\n",
              " 6,\n",
              " 7,\n",
              " 8,\n",
              " 9,\n",
              " 10,\n",
              " 11,\n",
              " 12,\n",
              " 13,\n",
              " 14,\n",
              " 15,\n",
              " 16,\n",
              " 17,\n",
              " 18,\n",
              " 19,\n",
              " 20,\n",
              " 21,\n",
              " 22,\n",
              " 23,\n",
              " 24,\n",
              " 25,\n",
              " 26,\n",
              " 27,\n",
              " 28,\n",
              " 29,\n",
              " 30,\n",
              " 31,\n",
              " 32,\n",
              " 33,\n",
              " 34,\n",
              " 35,\n",
              " 36,\n",
              " 37,\n",
              " 38,\n",
              " 39,\n",
              " 40,\n",
              " 41,\n",
              " 42,\n",
              " 43,\n",
              " 44,\n",
              " 45,\n",
              " 46,\n",
              " 47,\n",
              " 48,\n",
              " 49,\n",
              " 50,\n",
              " 51,\n",
              " 52,\n",
              " 53,\n",
              " 54,\n",
              " 55,\n",
              " 56,\n",
              " 57,\n",
              " 58,\n",
              " 59,\n",
              " 60,\n",
              " 61,\n",
              " 62,\n",
              " 63,\n",
              " 64,\n",
              " 65,\n",
              " 66,\n",
              " 67,\n",
              " 68,\n",
              " 69,\n",
              " 70,\n",
              " 71,\n",
              " 72,\n",
              " 73,\n",
              " 74,\n",
              " 75,\n",
              " 76,\n",
              " 77,\n",
              " 78,\n",
              " 79,\n",
              " 80,\n",
              " 81,\n",
              " 82,\n",
              " 83,\n",
              " 84,\n",
              " 85,\n",
              " 86,\n",
              " 87,\n",
              " 88,\n",
              " 89,\n",
              " 90,\n",
              " 91,\n",
              " 92,\n",
              " 93,\n",
              " 94,\n",
              " 95,\n",
              " 96,\n",
              " 97,\n",
              " 98,\n",
              " 99,\n",
              " 100,\n",
              " 101,\n",
              " 102,\n",
              " 103,\n",
              " 104,\n",
              " 105,\n",
              " 106,\n",
              " 107,\n",
              " 108,\n",
              " 109,\n",
              " 110,\n",
              " 111,\n",
              " 112,\n",
              " 113,\n",
              " 114,\n",
              " 115,\n",
              " 116,\n",
              " 117,\n",
              " 118,\n",
              " 119,\n",
              " 120,\n",
              " 121,\n",
              " 122,\n",
              " 123,\n",
              " 124,\n",
              " 125,\n",
              " 126,\n",
              " 127,\n",
              " 128,\n",
              " 129,\n",
              " 130,\n",
              " 131,\n",
              " 132,\n",
              " 133,\n",
              " 134,\n",
              " 135,\n",
              " 136,\n",
              " 137,\n",
              " 138,\n",
              " 139,\n",
              " 140,\n",
              " 141,\n",
              " 142,\n",
              " 143,\n",
              " 144,\n",
              " 145,\n",
              " 146,\n",
              " 147,\n",
              " 148,\n",
              " 149,\n",
              " 150,\n",
              " 151,\n",
              " 152,\n",
              " 153,\n",
              " 154,\n",
              " 155,\n",
              " 156,\n",
              " 157,\n",
              " 158,\n",
              " 159,\n",
              " 160,\n",
              " 161,\n",
              " 162,\n",
              " 163,\n",
              " 164,\n",
              " 165,\n",
              " 166,\n",
              " 167,\n",
              " 168,\n",
              " 169,\n",
              " 170,\n",
              " 171,\n",
              " 172,\n",
              " 173,\n",
              " 174,\n",
              " 175,\n",
              " 176,\n",
              " 177,\n",
              " 178,\n",
              " 179,\n",
              " 180,\n",
              " 181,\n",
              " 182,\n",
              " 183,\n",
              " 184,\n",
              " 185,\n",
              " 186,\n",
              " 187,\n",
              " 188,\n",
              " 189,\n",
              " 190,\n",
              " 191,\n",
              " 192,\n",
              " 193,\n",
              " 194,\n",
              " 195,\n",
              " 196,\n",
              " 197,\n",
              " 198,\n",
              " 199,\n",
              " 200,\n",
              " 201,\n",
              " 202,\n",
              " 203,\n",
              " 204,\n",
              " 205,\n",
              " 206,\n",
              " 207,\n",
              " 208,\n",
              " 209,\n",
              " 210,\n",
              " 211,\n",
              " 212,\n",
              " 213,\n",
              " 214,\n",
              " 215,\n",
              " 216,\n",
              " 217,\n",
              " 218,\n",
              " 219,\n",
              " 220,\n",
              " 221,\n",
              " 222,\n",
              " 223,\n",
              " 224,\n",
              " 225,\n",
              " 226,\n",
              " 227,\n",
              " 228,\n",
              " 229,\n",
              " 230,\n",
              " 231,\n",
              " 232,\n",
              " 233,\n",
              " 234,\n",
              " 235,\n",
              " 236,\n",
              " 237,\n",
              " 238,\n",
              " 239,\n",
              " 240,\n",
              " 241,\n",
              " 242,\n",
              " 243,\n",
              " 244,\n",
              " 245,\n",
              " 246,\n",
              " 247,\n",
              " 248,\n",
              " 249,\n",
              " 250,\n",
              " 251,\n",
              " 252,\n",
              " 253,\n",
              " 254,\n",
              " 255,\n",
              " 256,\n",
              " 257,\n",
              " 258,\n",
              " 259,\n",
              " 260,\n",
              " 261,\n",
              " 262,\n",
              " 263,\n",
              " 264,\n",
              " 265,\n",
              " 266,\n",
              " 267,\n",
              " 268,\n",
              " 269,\n",
              " 270,\n",
              " 271,\n",
              " 272,\n",
              " 273,\n",
              " 274,\n",
              " 275,\n",
              " 276,\n",
              " 277,\n",
              " 278,\n",
              " 279,\n",
              " 280,\n",
              " 281,\n",
              " 282,\n",
              " 283,\n",
              " 284,\n",
              " 285,\n",
              " 286,\n",
              " 287,\n",
              " 288,\n",
              " 289,\n",
              " 290,\n",
              " 291,\n",
              " 292,\n",
              " 293,\n",
              " 294,\n",
              " 295,\n",
              " 296,\n",
              " 297,\n",
              " 298,\n",
              " 299,\n",
              " 300,\n",
              " 301,\n",
              " 302,\n",
              " 303,\n",
              " 304,\n",
              " 305,\n",
              " 306,\n",
              " 307,\n",
              " 308,\n",
              " 309,\n",
              " 310,\n",
              " 311,\n",
              " 312,\n",
              " 313,\n",
              " 314,\n",
              " 315,\n",
              " 316,\n",
              " 317,\n",
              " 318,\n",
              " 319,\n",
              " 320,\n",
              " 321,\n",
              " 322,\n",
              " 323,\n",
              " 324,\n",
              " 325,\n",
              " 326,\n",
              " 327,\n",
              " 328,\n",
              " 329,\n",
              " 330,\n",
              " 331,\n",
              " 332,\n",
              " 333,\n",
              " 334,\n",
              " 335,\n",
              " 336,\n",
              " 337,\n",
              " 338,\n",
              " 339,\n",
              " 340,\n",
              " 341,\n",
              " 342,\n",
              " 343,\n",
              " 344,\n",
              " 345,\n",
              " 346,\n",
              " 347,\n",
              " 348,\n",
              " 349,\n",
              " 350,\n",
              " 351,\n",
              " 352,\n",
              " 353,\n",
              " 354,\n",
              " 355,\n",
              " 356,\n",
              " 357,\n",
              " 358,\n",
              " 359,\n",
              " 360,\n",
              " 361,\n",
              " 362,\n",
              " 363,\n",
              " 364,\n",
              " 365,\n",
              " 366,\n",
              " 367,\n",
              " 368,\n",
              " 369,\n",
              " 370,\n",
              " 371,\n",
              " 372,\n",
              " 373,\n",
              " 374,\n",
              " 375,\n",
              " 376,\n",
              " 377,\n",
              " 378,\n",
              " 379,\n",
              " 380,\n",
              " 381,\n",
              " 382,\n",
              " 383,\n",
              " 384,\n",
              " 385,\n",
              " 386,\n",
              " 387,\n",
              " 388,\n",
              " 389,\n",
              " 390,\n",
              " 391,\n",
              " 392,\n",
              " 393,\n",
              " 394,\n",
              " 395,\n",
              " 396,\n",
              " 397,\n",
              " 398,\n",
              " 399,\n",
              " 400,\n",
              " 401,\n",
              " 402,\n",
              " 403,\n",
              " 404,\n",
              " 405,\n",
              " 406,\n",
              " 407,\n",
              " 408,\n",
              " 409,\n",
              " 410,\n",
              " 411,\n",
              " 412,\n",
              " 413,\n",
              " 414,\n",
              " 415,\n",
              " 416,\n",
              " 417,\n",
              " 418,\n",
              " 419,\n",
              " 420,\n",
              " 421,\n",
              " 422,\n",
              " 423,\n",
              " 424,\n",
              " 425,\n",
              " 426,\n",
              " 427,\n",
              " 428,\n",
              " 429,\n",
              " 430,\n",
              " 431,\n",
              " 432,\n",
              " 433,\n",
              " 434,\n",
              " 435,\n",
              " 436,\n",
              " 437,\n",
              " 438,\n",
              " 439,\n",
              " 440,\n",
              " 441,\n",
              " 442,\n",
              " 443,\n",
              " 444,\n",
              " 445,\n",
              " 446,\n",
              " 447,\n",
              " 448,\n",
              " 449,\n",
              " 450,\n",
              " 451,\n",
              " 452,\n",
              " 453,\n",
              " 454,\n",
              " 455,\n",
              " 456,\n",
              " 457,\n",
              " 458,\n",
              " 459,\n",
              " 460,\n",
              " 461,\n",
              " 462,\n",
              " 463,\n",
              " 464,\n",
              " 465,\n",
              " 466,\n",
              " 467,\n",
              " 468,\n",
              " 469,\n",
              " 470,\n",
              " 471,\n",
              " 472,\n",
              " 473,\n",
              " 474,\n",
              " 475,\n",
              " 476,\n",
              " 477,\n",
              " 478,\n",
              " 479,\n",
              " 480,\n",
              " 481,\n",
              " 482,\n",
              " 483,\n",
              " 484,\n",
              " 485,\n",
              " 486,\n",
              " 487,\n",
              " 488,\n",
              " 489,\n",
              " 490,\n",
              " 491,\n",
              " 492,\n",
              " 493,\n",
              " 494,\n",
              " 495,\n",
              " 496,\n",
              " 497,\n",
              " 498,\n",
              " 499,\n",
              " 500,\n",
              " 501,\n",
              " 502,\n",
              " 503,\n",
              " 504,\n",
              " 505,\n",
              " 506,\n",
              " 507,\n",
              " 508,\n",
              " 509,\n",
              " 510,\n",
              " 511,\n",
              " 512,\n",
              " 513,\n",
              " 514,\n",
              " 515,\n",
              " 516,\n",
              " 517,\n",
              " 518,\n",
              " 519,\n",
              " 520,\n",
              " 521,\n",
              " 522,\n",
              " 523,\n",
              " 524,\n",
              " 525,\n",
              " 526,\n",
              " 527,\n",
              " 528,\n",
              " 529,\n",
              " 530,\n",
              " 531,\n",
              " 532,\n",
              " 533,\n",
              " 534,\n",
              " 535,\n",
              " 536,\n",
              " 537,\n",
              " 538,\n",
              " 539,\n",
              " 540,\n",
              " 541,\n",
              " 542,\n",
              " 543,\n",
              " 544,\n",
              " 545,\n",
              " 546,\n",
              " 547,\n",
              " 548,\n",
              " 549,\n",
              " 550,\n",
              " 551,\n",
              " 552,\n",
              " 553,\n",
              " 554,\n",
              " 555,\n",
              " 556,\n",
              " 557,\n",
              " 558,\n",
              " 559,\n",
              " 560,\n",
              " 561,\n",
              " 562,\n",
              " 563,\n",
              " 564,\n",
              " 565,\n",
              " 566,\n",
              " 567,\n",
              " 568,\n",
              " 569,\n",
              " 570,\n",
              " 571,\n",
              " 572,\n",
              " 573,\n",
              " 574,\n",
              " 575,\n",
              " 576,\n",
              " 577,\n",
              " 578,\n",
              " 579,\n",
              " 580,\n",
              " 581,\n",
              " 582,\n",
              " 583,\n",
              " 584,\n",
              " 585,\n",
              " 586,\n",
              " 587,\n",
              " 588,\n",
              " 589,\n",
              " 590,\n",
              " 591,\n",
              " 592,\n",
              " 593,\n",
              " 594,\n",
              " 595,\n",
              " 596,\n",
              " 597,\n",
              " 598,\n",
              " 599,\n",
              " 600,\n",
              " 601,\n",
              " 602,\n",
              " 603,\n",
              " 604,\n",
              " 605,\n",
              " 606,\n",
              " 607,\n",
              " 608,\n",
              " 609,\n",
              " 610,\n",
              " 611,\n",
              " 612,\n",
              " 613,\n",
              " 614,\n",
              " 615,\n",
              " 616,\n",
              " 617,\n",
              " 618,\n",
              " 619,\n",
              " 620,\n",
              " 621,\n",
              " 622,\n",
              " 623,\n",
              " 624,\n",
              " 625,\n",
              " 626,\n",
              " 627,\n",
              " 628,\n",
              " 629,\n",
              " 630,\n",
              " 631,\n",
              " 632,\n",
              " 633,\n",
              " 634,\n",
              " 635,\n",
              " 636,\n",
              " 637,\n",
              " 638,\n",
              " 639,\n",
              " 640,\n",
              " 641,\n",
              " 642,\n",
              " 643,\n",
              " 644,\n",
              " 645,\n",
              " 646,\n",
              " 647,\n",
              " 648,\n",
              " 649,\n",
              " 650,\n",
              " 651,\n",
              " 652,\n",
              " 653,\n",
              " 654,\n",
              " 655,\n",
              " 656,\n",
              " 657,\n",
              " 658,\n",
              " 659,\n",
              " 660,\n",
              " 661,\n",
              " 662,\n",
              " 663,\n",
              " 664,\n",
              " 665,\n",
              " 666,\n",
              " 667,\n",
              " 668,\n",
              " 669,\n",
              " 670,\n",
              " 671,\n",
              " 672,\n",
              " 673,\n",
              " 674,\n",
              " 675,\n",
              " 676,\n",
              " 677,\n",
              " 678,\n",
              " 679,\n",
              " 680,\n",
              " 681,\n",
              " 682,\n",
              " 683,\n",
              " 684,\n",
              " 685,\n",
              " 686,\n",
              " 687,\n",
              " 688,\n",
              " 689,\n",
              " 690,\n",
              " 691,\n",
              " 692,\n",
              " 693,\n",
              " 694,\n",
              " 695,\n",
              " 696,\n",
              " 697,\n",
              " 698,\n",
              " 699,\n",
              " 700,\n",
              " 701,\n",
              " 702,\n",
              " 703,\n",
              " 704,\n",
              " 705,\n",
              " 706,\n",
              " 707,\n",
              " 708,\n",
              " 709,\n",
              " 710,\n",
              " 711,\n",
              " 712,\n",
              " 713,\n",
              " 714,\n",
              " 715,\n",
              " 716,\n",
              " 717,\n",
              " 718,\n",
              " 719,\n",
              " 720,\n",
              " 721,\n",
              " 722,\n",
              " 723,\n",
              " 724,\n",
              " 725,\n",
              " 726,\n",
              " 727,\n",
              " 728,\n",
              " 729,\n",
              " 730,\n",
              " 731,\n",
              " 732,\n",
              " 733,\n",
              " 734,\n",
              " 735,\n",
              " 736,\n",
              " 737,\n",
              " 738,\n",
              " 739,\n",
              " 740,\n",
              " 741,\n",
              " 742,\n",
              " 743,\n",
              " 744,\n",
              " 745,\n",
              " 746,\n",
              " 747,\n",
              " 748,\n",
              " 749,\n",
              " 750,\n",
              " 751,\n",
              " 752,\n",
              " 753,\n",
              " 754,\n",
              " 755,\n",
              " 756,\n",
              " 757,\n",
              " 758,\n",
              " 759,\n",
              " 760,\n",
              " 761,\n",
              " 762,\n",
              " 763,\n",
              " 764,\n",
              " 765,\n",
              " 766,\n",
              " 767,\n",
              " 768,\n",
              " 769,\n",
              " 770,\n",
              " 771,\n",
              " 772,\n",
              " 773,\n",
              " 774,\n",
              " 775,\n",
              " 776,\n",
              " 777,\n",
              " 778,\n",
              " 779,\n",
              " 780,\n",
              " 781,\n",
              " 782,\n",
              " 783,\n",
              " 784,\n",
              " 785,\n",
              " 786,\n",
              " 787,\n",
              " 788,\n",
              " 789,\n",
              " 790,\n",
              " 791,\n",
              " 792,\n",
              " 793,\n",
              " 794,\n",
              " 795,\n",
              " 796,\n",
              " 797,\n",
              " 798,\n",
              " 799,\n",
              " 800,\n",
              " 801,\n",
              " 802,\n",
              " 803,\n",
              " 804,\n",
              " 805,\n",
              " 806,\n",
              " 807,\n",
              " 808,\n",
              " 809,\n",
              " 810,\n",
              " 811,\n",
              " 812,\n",
              " 813,\n",
              " 814,\n",
              " 815,\n",
              " 816,\n",
              " 817,\n",
              " 818,\n",
              " 819,\n",
              " 820,\n",
              " 821,\n",
              " 822,\n",
              " 823,\n",
              " 824,\n",
              " 825,\n",
              " 826,\n",
              " 827,\n",
              " 828,\n",
              " 829,\n",
              " 830,\n",
              " 831,\n",
              " 832,\n",
              " 833,\n",
              " 834,\n",
              " 835,\n",
              " 836,\n",
              " 837,\n",
              " 838,\n",
              " 839,\n",
              " 840,\n",
              " 841,\n",
              " 842,\n",
              " 843,\n",
              " 844,\n",
              " 845,\n",
              " 846,\n",
              " 847,\n",
              " 848,\n",
              " 849,\n",
              " 850,\n",
              " 851,\n",
              " 852,\n",
              " 853,\n",
              " 854,\n",
              " 855,\n",
              " 856,\n",
              " 857,\n",
              " 858,\n",
              " 859,\n",
              " 860,\n",
              " 861,\n",
              " 862,\n",
              " 863,\n",
              " 864,\n",
              " 865,\n",
              " 866,\n",
              " 867,\n",
              " 868,\n",
              " 869,\n",
              " 870,\n",
              " 871,\n",
              " 872,\n",
              " 873,\n",
              " 874,\n",
              " 875,\n",
              " 876,\n",
              " 877,\n",
              " 878,\n",
              " 879,\n",
              " 880,\n",
              " 881,\n",
              " 882,\n",
              " 883,\n",
              " 884,\n",
              " 885,\n",
              " 886,\n",
              " 887,\n",
              " 888,\n",
              " 889,\n",
              " 890,\n",
              " 891,\n",
              " 892,\n",
              " 893,\n",
              " 894,\n",
              " 895,\n",
              " 896,\n",
              " 897,\n",
              " 898,\n",
              " 899,\n",
              " 900,\n",
              " 901,\n",
              " 902,\n",
              " 903,\n",
              " 904,\n",
              " 905,\n",
              " 906,\n",
              " 907,\n",
              " 908,\n",
              " 909,\n",
              " 910,\n",
              " 911,\n",
              " 912,\n",
              " 913,\n",
              " 914,\n",
              " 915,\n",
              " 916,\n",
              " 917,\n",
              " 918,\n",
              " 919,\n",
              " 920,\n",
              " 921,\n",
              " 922,\n",
              " 923,\n",
              " 924,\n",
              " 925,\n",
              " 926,\n",
              " 927,\n",
              " 928,\n",
              " 929,\n",
              " 930,\n",
              " 931,\n",
              " 932,\n",
              " 933,\n",
              " 934,\n",
              " 935,\n",
              " 936,\n",
              " 937,\n",
              " 938,\n",
              " 939,\n",
              " 940,\n",
              " 941,\n",
              " 942,\n",
              " 943,\n",
              " 944,\n",
              " 945,\n",
              " 946,\n",
              " 947,\n",
              " 948,\n",
              " 949,\n",
              " 950,\n",
              " 951,\n",
              " 952,\n",
              " 953,\n",
              " 954,\n",
              " 955,\n",
              " 956,\n",
              " 957,\n",
              " 958,\n",
              " 959,\n",
              " 960,\n",
              " 961,\n",
              " 962,\n",
              " 963,\n",
              " 964,\n",
              " 965,\n",
              " 966,\n",
              " 967,\n",
              " 968,\n",
              " 969,\n",
              " 970,\n",
              " 971,\n",
              " 972,\n",
              " 973,\n",
              " 974,\n",
              " 975,\n",
              " 976,\n",
              " 977,\n",
              " 978,\n",
              " 979,\n",
              " 980,\n",
              " 981,\n",
              " 982,\n",
              " 983,\n",
              " 984,\n",
              " 985,\n",
              " 986,\n",
              " 987,\n",
              " 988,\n",
              " 989,\n",
              " 990,\n",
              " 991,\n",
              " 992,\n",
              " 993,\n",
              " 994,\n",
              " 995,\n",
              " 996,\n",
              " 997,\n",
              " 998,\n",
              " 999,\n",
              " ...]"
            ]
          },
          "execution_count": 124,
          "metadata": {},
          "output_type": "execute_result"
        }
      ],
      "source": [
        "[j for j in range(1000000)]"
      ]
    },
    {
      "cell_type": "markdown",
      "metadata": {
        "id": "VkAYXU39EDST"
      },
      "source": [
        "# 2024-07-27"
      ]
    },
    {
      "cell_type": "code",
      "execution_count": null,
      "metadata": {
        "colab": {
          "base_uri": "https://localhost:8080/"
        },
        "id": "V-OmpzEh_w0H",
        "outputId": "2c15e9f1-6516-4ccf-c29b-d6b3229f3e3c"
      },
      "outputs": [
        {
          "data": {
            "text/plain": [
              "[0, 2, 4, 6, 8]"
            ]
          },
          "execution_count": 1,
          "metadata": {},
          "output_type": "execute_result"
        }
      ],
      "source": [
        "[i for i in range(10) if i%2 == 0]\n",
        "\n",
        "# for i in range(10):\n",
        "#     if i%2 == 0:\n",
        "#         print(i)"
      ]
    },
    {
      "cell_type": "code",
      "execution_count": null,
      "metadata": {
        "id": "mVWmJe2RDRVe"
      },
      "outputs": [],
      "source": [
        "t = (1,2,3)"
      ]
    },
    {
      "cell_type": "code",
      "execution_count": null,
      "metadata": {
        "colab": {
          "base_uri": "https://localhost:8080/"
        },
        "id": "2Q5Kt8M3D120",
        "outputId": "70ba7710-cd56-4bdb-ca0d-5a65e90f2812"
      },
      "outputs": [
        {
          "data": {
            "text/plain": [
              "1"
            ]
          },
          "execution_count": 3,
          "metadata": {},
          "output_type": "execute_result"
        }
      ],
      "source": [
        "t[0]"
      ]
    },
    {
      "cell_type": "code",
      "execution_count": null,
      "metadata": {
        "colab": {
          "base_uri": "https://localhost:8080/",
          "height": 141
        },
        "id": "6EQCqRQHD8HD",
        "outputId": "2e9ca504-6e52-40d1-96d7-9645c903e235"
      },
      "outputs": [
        {
          "ename": "TypeError",
          "evalue": "'tuple' object does not support item assignment",
          "output_type": "error",
          "traceback": [
            "\u001b[0;31m---------------------------------------------------------------------------\u001b[0m",
            "\u001b[0;31mTypeError\u001b[0m                                 Traceback (most recent call last)",
            "\u001b[0;32m<ipython-input-4-88963aa635fa>\u001b[0m in \u001b[0;36m<cell line: 1>\u001b[0;34m()\u001b[0m\n\u001b[0;32m----> 1\u001b[0;31m \u001b[0mt\u001b[0m\u001b[0;34m[\u001b[0m\u001b[0;36m0\u001b[0m\u001b[0;34m]\u001b[0m \u001b[0;34m=\u001b[0m \u001b[0;36m10\u001b[0m\u001b[0;34m\u001b[0m\u001b[0;34m\u001b[0m\u001b[0m\n\u001b[0m",
            "\u001b[0;31mTypeError\u001b[0m: 'tuple' object does not support item assignment"
          ]
        }
      ],
      "source": [
        "t[0] = 10"
      ]
    },
    {
      "cell_type": "code",
      "execution_count": null,
      "metadata": {
        "id": "BpOEEJ7LD-AO"
      },
      "outputs": [],
      "source": [
        "s = {1,2,3,4,5}"
      ]
    },
    {
      "cell_type": "code",
      "execution_count": null,
      "metadata": {
        "colab": {
          "base_uri": "https://localhost:8080/"
        },
        "id": "Ofx6LXbYERes",
        "outputId": "90bb3a25-9ea0-48a6-e7c4-749bf0f7e85a"
      },
      "outputs": [
        {
          "data": {
            "text/plain": [
              "{1, 2, 3, 4, 5}"
            ]
          },
          "execution_count": 6,
          "metadata": {},
          "output_type": "execute_result"
        }
      ],
      "source": [
        "s"
      ]
    },
    {
      "cell_type": "code",
      "execution_count": null,
      "metadata": {
        "id": "KwuKsAdFETuF"
      },
      "outputs": [],
      "source": [
        "dictionary = {\n",
        "    'key': 'value',\n",
        "    'key2': 2,\n",
        "    2: 'string',\n",
        "    3: [1,2,3],\n",
        "    \"dict\": {\n",
        "        'key': 'value'\n",
        "    }\n",
        "}"
      ]
    },
    {
      "cell_type": "code",
      "execution_count": null,
      "metadata": {
        "colab": {
          "base_uri": "https://localhost:8080/"
        },
        "id": "OnKmCWCPFEzO",
        "outputId": "4be8674b-b876-412e-a2e9-c86bb3524d72"
      },
      "outputs": [
        {
          "data": {
            "text/plain": [
              "('value', [1, 2, 3], 'value')"
            ]
          },
          "execution_count": 11,
          "metadata": {},
          "output_type": "execute_result"
        }
      ],
      "source": [
        "dictionary['key'], dictionary[3], dictionary['dict']['key']"
      ]
    },
    {
      "cell_type": "code",
      "execution_count": null,
      "metadata": {
        "colab": {
          "base_uri": "https://localhost:8080/"
        },
        "id": "FDpFxTcVFG2o",
        "outputId": "8e2614b9-edcc-4f23-a1b0-5650896ad77a"
      },
      "outputs": [
        {
          "data": {
            "text/plain": [
              "dict_keys(['key', 'key2', 2, 3, 'dict'])"
            ]
          },
          "execution_count": 12,
          "metadata": {},
          "output_type": "execute_result"
        }
      ],
      "source": [
        "dictionary.keys()"
      ]
    },
    {
      "cell_type": "code",
      "execution_count": null,
      "metadata": {
        "colab": {
          "base_uri": "https://localhost:8080/"
        },
        "id": "jKsoBkHLFVjF",
        "outputId": "cd9ab705-9ebc-4eca-c949-9779db0f3b52"
      },
      "outputs": [
        {
          "data": {
            "text/plain": [
              "dict_values(['value', 2, 'string', [1, 2, 3], {'key': 'value'}])"
            ]
          },
          "execution_count": 13,
          "metadata": {},
          "output_type": "execute_result"
        }
      ],
      "source": [
        "dictionary.values()"
      ]
    },
    {
      "cell_type": "code",
      "execution_count": null,
      "metadata": {
        "id": "QI4rg-lwFXiK"
      },
      "outputs": [],
      "source": [
        "dictionary[3].append(12)"
      ]
    },
    {
      "cell_type": "code",
      "execution_count": null,
      "metadata": {
        "colab": {
          "base_uri": "https://localhost:8080/"
        },
        "id": "s5X-3Q9OFcCs",
        "outputId": "f0aade1a-004c-4143-f9b4-8136f3cb5425"
      },
      "outputs": [
        {
          "data": {
            "text/plain": [
              "dict_values(['value', 2, 'string', [1, 2, 3, 12], {'key': 'value'}])"
            ]
          },
          "execution_count": 15,
          "metadata": {},
          "output_type": "execute_result"
        }
      ],
      "source": [
        "dictionary.values()"
      ]
    },
    {
      "cell_type": "code",
      "execution_count": null,
      "metadata": {
        "id": "1lQTOC3WFdJK"
      },
      "outputs": [],
      "source": [
        "(x, y), [(x1, y1), (x2, y2), (x3, y3)]"
      ]
    },
    {
      "cell_type": "code",
      "execution_count": null,
      "metadata": {
        "id": "byDlF6fGGNld"
      },
      "outputs": [],
      "source": [
        "s = {1, 5, 8, 11, 2}"
      ]
    },
    {
      "cell_type": "code",
      "execution_count": null,
      "metadata": {
        "colab": {
          "base_uri": "https://localhost:8080/"
        },
        "id": "je0l4xGIGQFk",
        "outputId": "8282a8f4-97c6-41be-970f-4ef518a609ba"
      },
      "outputs": [
        {
          "data": {
            "text/plain": [
              "{1, 2, 5, 8, 11}"
            ]
          },
          "execution_count": 17,
          "metadata": {},
          "output_type": "execute_result"
        }
      ],
      "source": [
        "s"
      ]
    },
    {
      "cell_type": "code",
      "execution_count": null,
      "metadata": {
        "id": "lKdl_ZggGRWf"
      },
      "outputs": [],
      "source": [
        "s.add(10)"
      ]
    },
    {
      "cell_type": "code",
      "execution_count": null,
      "metadata": {
        "colab": {
          "base_uri": "https://localhost:8080/"
        },
        "id": "OHalGxi_GpiE",
        "outputId": "7219eaa8-e8c9-4371-9d1e-a6c7a80a30a1"
      },
      "outputs": [
        {
          "data": {
            "text/plain": [
              "{1, 2, 5, 8, 10, 11}"
            ]
          },
          "execution_count": 21,
          "metadata": {},
          "output_type": "execute_result"
        }
      ],
      "source": [
        "s"
      ]
    },
    {
      "cell_type": "code",
      "execution_count": null,
      "metadata": {
        "id": "7wdz8DVjGwff"
      },
      "outputs": [],
      "source": [
        "s = {\"salam\", \"b\", \"c\"}"
      ]
    },
    {
      "cell_type": "code",
      "execution_count": null,
      "metadata": {
        "colab": {
          "base_uri": "https://localhost:8080/"
        },
        "id": "Pg8VqSEtG4o6",
        "outputId": "ea91aecc-ea30-4728-e238-90ea6fce259c"
      },
      "outputs": [
        {
          "data": {
            "text/plain": [
              "{'b', 'c', 'salam'}"
            ]
          },
          "execution_count": 23,
          "metadata": {},
          "output_type": "execute_result"
        }
      ],
      "source": [
        "s"
      ]
    },
    {
      "cell_type": "code",
      "execution_count": null,
      "metadata": {
        "id": "L4oNOeAaG5Sa"
      },
      "outputs": [],
      "source": [
        "s = {\"salam\", \"b\", \"c\", \"salom\"}"
      ]
    },
    {
      "cell_type": "code",
      "execution_count": null,
      "metadata": {
        "colab": {
          "base_uri": "https://localhost:8080/"
        },
        "id": "D-P1N_xJG9bC",
        "outputId": "38ee1e82-1aba-433a-abb5-657f2106866d"
      },
      "outputs": [
        {
          "data": {
            "text/plain": [
              "{'b', 'c', 'salam', 'salom'}"
            ]
          },
          "execution_count": 25,
          "metadata": {},
          "output_type": "execute_result"
        }
      ],
      "source": [
        "s"
      ]
    },
    {
      "cell_type": "code",
      "execution_count": null,
      "metadata": {
        "id": "TiQIv1OvG970"
      },
      "outputs": [],
      "source": [
        "dictionary[3] = [9,10,11]"
      ]
    },
    {
      "cell_type": "code",
      "execution_count": null,
      "metadata": {
        "colab": {
          "base_uri": "https://localhost:8080/"
        },
        "id": "4zq15kjiHcHf",
        "outputId": "c4edc272-7977-416a-c3a1-edcfc5645700"
      },
      "outputs": [
        {
          "data": {
            "text/plain": [
              "[9, 10, 11]"
            ]
          },
          "execution_count": 28,
          "metadata": {},
          "output_type": "execute_result"
        }
      ],
      "source": [
        "dictionary[3]"
      ]
    },
    {
      "cell_type": "code",
      "execution_count": null,
      "metadata": {
        "id": "1x1Yb09-Hgrm"
      },
      "outputs": [],
      "source": [
        "dict2 = {\n",
        "    'key': 'value',\n",
        "    3.7: 'value'\n",
        "}\n"
      ]
    },
    {
      "cell_type": "code",
      "execution_count": null,
      "metadata": {
        "colab": {
          "base_uri": "https://localhost:8080/",
          "height": 35
        },
        "id": "EYxBUSG6IsZU",
        "outputId": "34db95b8-6fa4-4a3e-fbef-d7b31b492b39"
      },
      "outputs": [
        {
          "data": {
            "application/vnd.google.colaboratory.intrinsic+json": {
              "type": "string"
            },
            "text/plain": [
              "'value'"
            ]
          },
          "execution_count": 30,
          "metadata": {},
          "output_type": "execute_result"
        }
      ],
      "source": [
        "dict2[3.7]"
      ]
    },
    {
      "cell_type": "code",
      "execution_count": null,
      "metadata": {
        "id": "0x9rgeh7IujU"
      },
      "outputs": [],
      "source": [
        "dict2 = {\n",
        "    'key': 'value',\n",
        "    2+3j: 'value'\n",
        "}\n"
      ]
    },
    {
      "cell_type": "code",
      "execution_count": null,
      "metadata": {
        "colab": {
          "base_uri": "https://localhost:8080/",
          "height": 35
        },
        "id": "idxgtYFMIxcv",
        "outputId": "446fadac-8994-45b3-afbc-842a47f9cd86"
      },
      "outputs": [
        {
          "data": {
            "application/vnd.google.colaboratory.intrinsic+json": {
              "type": "string"
            },
            "text/plain": [
              "'value'"
            ]
          },
          "execution_count": 32,
          "metadata": {},
          "output_type": "execute_result"
        }
      ],
      "source": [
        "dict2[2+3j]"
      ]
    },
    {
      "cell_type": "code",
      "execution_count": null,
      "metadata": {
        "id": "aQhEvCVRIzQg"
      },
      "outputs": [],
      "source": [
        "del dict2['key']"
      ]
    },
    {
      "cell_type": "code",
      "execution_count": null,
      "metadata": {
        "colab": {
          "base_uri": "https://localhost:8080/"
        },
        "id": "wBLsGkaDJSNi",
        "outputId": "0a107d4b-3596-4f16-eeb1-23a228183228"
      },
      "outputs": [
        {
          "data": {
            "text/plain": [
              "{(2+3j): 'value'}"
            ]
          },
          "execution_count": 34,
          "metadata": {},
          "output_type": "execute_result"
        }
      ],
      "source": [
        "dict2"
      ]
    },
    {
      "cell_type": "code",
      "execution_count": null,
      "metadata": {
        "colab": {
          "base_uri": "https://localhost:8080/",
          "height": 193
        },
        "id": "WG0O6FDwJTPn",
        "outputId": "a5b073bb-34f4-4d88-aba8-fccc684cef3d"
      },
      "outputs": [
        {
          "name": "stdout",
          "output_type": "stream",
          "text": [
            "2\n"
          ]
        },
        {
          "ename": "NameError",
          "evalue": "name 'a' is not defined",
          "output_type": "error",
          "traceback": [
            "\u001b[0;31m---------------------------------------------------------------------------\u001b[0m",
            "\u001b[0;31mNameError\u001b[0m                                 Traceback (most recent call last)",
            "\u001b[0;32m<ipython-input-35-1e219bccec94>\u001b[0m in \u001b[0;36m<cell line: 4>\u001b[0;34m()\u001b[0m\n\u001b[1;32m      2\u001b[0m \u001b[0mprint\u001b[0m\u001b[0;34m(\u001b[0m\u001b[0ma\u001b[0m\u001b[0;34m)\u001b[0m\u001b[0;34m\u001b[0m\u001b[0;34m\u001b[0m\u001b[0m\n\u001b[1;32m      3\u001b[0m \u001b[0;32mdel\u001b[0m \u001b[0ma\u001b[0m\u001b[0;34m\u001b[0m\u001b[0;34m\u001b[0m\u001b[0m\n\u001b[0;32m----> 4\u001b[0;31m \u001b[0mprint\u001b[0m\u001b[0;34m(\u001b[0m\u001b[0ma\u001b[0m\u001b[0;34m)\u001b[0m\u001b[0;34m\u001b[0m\u001b[0;34m\u001b[0m\u001b[0m\n\u001b[0m",
            "\u001b[0;31mNameError\u001b[0m: name 'a' is not defined"
          ]
        }
      ],
      "source": [
        "a = 2\n",
        "print(a)\n",
        "del a\n",
        "print(a)"
      ]
    },
    {
      "cell_type": "code",
      "execution_count": null,
      "metadata": {
        "id": "PAQ5voB3JaNp"
      },
      "outputs": [],
      "source": [
        "resnet_acc = {}\n",
        "resnet_acc['mnist'] = 89"
      ]
    },
    {
      "cell_type": "code",
      "execution_count": null,
      "metadata": {
        "id": "7rmN6PXxKSsO"
      },
      "outputs": [],
      "source": [
        "resnet_acc['iris'] = 99"
      ]
    },
    {
      "cell_type": "code",
      "execution_count": null,
      "metadata": {
        "id": "Lcvp_HZmKU09"
      },
      "outputs": [],
      "source": [
        "resnet_acc['imagenet'] = 72"
      ]
    },
    {
      "cell_type": "code",
      "execution_count": null,
      "metadata": {
        "colab": {
          "base_uri": "https://localhost:8080/"
        },
        "id": "Qenja8imKXVE",
        "outputId": "499d226b-6107-4988-e31a-f2bd498ac523"
      },
      "outputs": [
        {
          "data": {
            "text/plain": [
              "89"
            ]
          },
          "execution_count": 39,
          "metadata": {},
          "output_type": "execute_result"
        }
      ],
      "source": [
        "resnet_acc['mnist']"
      ]
    },
    {
      "cell_type": "code",
      "execution_count": null,
      "metadata": {
        "colab": {
          "base_uri": "https://localhost:8080/"
        },
        "id": "lBTAkva5KbhN",
        "outputId": "227d20c6-1529-4406-9451-782d019789c2"
      },
      "outputs": [
        {
          "data": {
            "text/plain": [
              "dict_items([('mnist', 89), ('iris', 99), ('imagenet', 72)])"
            ]
          },
          "execution_count": 40,
          "metadata": {},
          "output_type": "execute_result"
        }
      ],
      "source": [
        "resnet_acc.items()"
      ]
    },
    {
      "cell_type": "code",
      "execution_count": null,
      "metadata": {
        "id": "g0fzQz4nKfED"
      },
      "outputs": [],
      "source": [
        "power = {}\n",
        "for idx in range(10):\n",
        "    power[idx] = idx**2"
      ]
    },
    {
      "cell_type": "code",
      "execution_count": null,
      "metadata": {
        "colab": {
          "base_uri": "https://localhost:8080/"
        },
        "id": "lxyWBMZ7Kz_X",
        "outputId": "d240f21d-28d1-41bd-8257-7f3065d37ff9"
      },
      "outputs": [
        {
          "data": {
            "text/plain": [
              "16"
            ]
          },
          "execution_count": 42,
          "metadata": {},
          "output_type": "execute_result"
        }
      ],
      "source": [
        "power[4]"
      ]
    },
    {
      "cell_type": "code",
      "execution_count": null,
      "metadata": {
        "colab": {
          "base_uri": "https://localhost:8080/",
          "height": 141
        },
        "id": "3ZGb1CLuK1oY",
        "outputId": "077467f2-40ee-47d2-de5f-0eef4aa227e0"
      },
      "outputs": [
        {
          "ename": "NameError",
          "evalue": "name 'x' is not defined",
          "output_type": "error",
          "traceback": [
            "\u001b[0;31m---------------------------------------------------------------------------\u001b[0m",
            "\u001b[0;31mNameError\u001b[0m                                 Traceback (most recent call last)",
            "\u001b[0;32m<ipython-input-43-7206e28ccf79>\u001b[0m in \u001b[0;36m<cell line: 1>\u001b[0;34m()\u001b[0m\n\u001b[0;32m----> 1\u001b[0;31m \u001b[0my\u001b[0m \u001b[0;34m=\u001b[0m \u001b[0mx\u001b[0m \u001b[0;34m**\u001b[0m \u001b[0;36m2\u001b[0m\u001b[0;34m\u001b[0m\u001b[0;34m\u001b[0m\u001b[0m\n\u001b[0m",
            "\u001b[0;31mNameError\u001b[0m: name 'x' is not defined"
          ]
        }
      ],
      "source": [
        "y = x ** 2"
      ]
    },
    {
      "cell_type": "code",
      "execution_count": null,
      "metadata": {
        "id": "JYTw6tvILOrg"
      },
      "outputs": [],
      "source": [
        "def x2(x):\n",
        "    y = x ** 2\n",
        "    return y"
      ]
    },
    {
      "cell_type": "code",
      "execution_count": null,
      "metadata": {
        "colab": {
          "base_uri": "https://localhost:8080/"
        },
        "id": "puk_mLHGLqTq",
        "outputId": "c93d9fcf-e60e-4f33-fe94-9941ce00a9d1"
      },
      "outputs": [
        {
          "data": {
            "text/plain": [
              "100"
            ]
          },
          "execution_count": 45,
          "metadata": {},
          "output_type": "execute_result"
        }
      ],
      "source": [
        "x2(10)"
      ]
    },
    {
      "cell_type": "code",
      "execution_count": null,
      "metadata": {
        "colab": {
          "base_uri": "https://localhost:8080/"
        },
        "id": "hSLHPxeGLskB",
        "outputId": "39c1ba7e-7db7-4141-b3a0-0abf999f94fc"
      },
      "outputs": [
        {
          "data": {
            "text/plain": [
              "16"
            ]
          },
          "execution_count": 46,
          "metadata": {},
          "output_type": "execute_result"
        }
      ],
      "source": [
        "x2(-4)"
      ]
    },
    {
      "cell_type": "code",
      "execution_count": null,
      "metadata": {
        "id": "srMvT6llLuwf"
      },
      "outputs": [],
      "source": [
        "def empty():\n",
        "    return \"empty\""
      ]
    },
    {
      "cell_type": "code",
      "execution_count": null,
      "metadata": {
        "colab": {
          "base_uri": "https://localhost:8080/"
        },
        "id": "yu_TcQ4HL7uQ",
        "outputId": "e155d097-fdd7-4392-bc3f-76385fd18f81"
      },
      "outputs": [
        {
          "name": "stdout",
          "output_type": "stream",
          "text": [
            "empty\n"
          ]
        }
      ],
      "source": [
        "o = empty()\n",
        "print(o)"
      ]
    },
    {
      "cell_type": "code",
      "execution_count": null,
      "metadata": {
        "id": "lkvXp5imL9LP"
      },
      "outputs": [],
      "source": [
        "def empty2():\n",
        "    pass"
      ]
    },
    {
      "cell_type": "code",
      "execution_count": null,
      "metadata": {
        "id": "OO-GAh18MFv9"
      },
      "outputs": [],
      "source": [
        "a = x2(0)"
      ]
    },
    {
      "cell_type": "code",
      "execution_count": null,
      "metadata": {
        "colab": {
          "base_uri": "https://localhost:8080/"
        },
        "id": "INjI5fFwMTRa",
        "outputId": "bbcac2ac-cb2e-4e5a-860e-a9059abb4526"
      },
      "outputs": [
        {
          "data": {
            "text/plain": [
              "0"
            ]
          },
          "execution_count": 52,
          "metadata": {},
          "output_type": "execute_result"
        }
      ],
      "source": [
        "a"
      ]
    },
    {
      "cell_type": "code",
      "execution_count": null,
      "metadata": {
        "colab": {
          "base_uri": "https://localhost:8080/"
        },
        "id": "Bxn7nmcyMXIn",
        "outputId": "3eb3bdc2-d99f-4955-f01c-fa263c2120e2"
      },
      "outputs": [
        {
          "name": "stdout",
          "output_type": "stream",
          "text": [
            "2\n",
            "4\n"
          ]
        }
      ],
      "source": [
        "i = int(input())\n",
        "output = x2(i)\n",
        "print(output)"
      ]
    },
    {
      "cell_type": "code",
      "execution_count": null,
      "metadata": {
        "id": "bb2WvDfwMz7k"
      },
      "outputs": [],
      "source": [
        "def x3(q):\n",
        "    Q = q + 1\n",
        "    return q ** 2, Q, True"
      ]
    },
    {
      "cell_type": "code",
      "execution_count": null,
      "metadata": {
        "colab": {
          "base_uri": "https://localhost:8080/"
        },
        "id": "wv4D3_rONLFA",
        "outputId": "df08c253-4162-4dfd-9942-3ae82c499431"
      },
      "outputs": [
        {
          "data": {
            "text/plain": [
              "(16, 5, True)"
            ]
          },
          "execution_count": 60,
          "metadata": {},
          "output_type": "execute_result"
        }
      ],
      "source": [
        "x3(4)"
      ]
    },
    {
      "cell_type": "code",
      "execution_count": null,
      "metadata": {
        "id": "-Wn7cEv1NMlQ"
      },
      "outputs": [],
      "source": [
        "def plus(a, b):\n",
        "    return a + b"
      ]
    },
    {
      "cell_type": "code",
      "execution_count": null,
      "metadata": {
        "colab": {
          "base_uri": "https://localhost:8080/"
        },
        "id": "jmtnfTyjPokw",
        "outputId": "bbd559e4-fef7-444d-b744-c73bc53a9068"
      },
      "outputs": [
        {
          "data": {
            "text/plain": [
              "5"
            ]
          },
          "execution_count": 63,
          "metadata": {},
          "output_type": "execute_result"
        }
      ],
      "source": [
        "plus(2, 3)"
      ]
    },
    {
      "cell_type": "code",
      "execution_count": null,
      "metadata": {
        "colab": {
          "base_uri": "https://localhost:8080/"
        },
        "id": "8YXS-jpFPqGL",
        "outputId": "b880182b-630b-40f4-910c-21c34889f65b"
      },
      "outputs": [
        {
          "data": {
            "text/plain": [
              "-3"
            ]
          },
          "execution_count": 64,
          "metadata": {},
          "output_type": "execute_result"
        }
      ],
      "source": [
        "plus(-4,1)"
      ]
    },
    {
      "cell_type": "code",
      "execution_count": null,
      "metadata": {
        "colab": {
          "base_uri": "https://localhost:8080/"
        },
        "id": "9lLUELgtPtVq",
        "outputId": "a4fbdf96-1a7f-4467-dd02-d41658291060"
      },
      "outputs": [
        {
          "name": "stdout",
          "output_type": "stream",
          "text": [
            "4\n",
            "5\n",
            "6\n",
            "7\n",
            "8\n"
          ]
        }
      ],
      "source": [
        "for i in range(5):\n",
        "    print(plus(i, 4))"
      ]
    },
    {
      "cell_type": "code",
      "execution_count": null,
      "metadata": {
        "id": "mxMJ4BMBQcxf"
      },
      "outputs": [],
      "source": [
        "def odd(a):\n",
        "    if a % 2 == 0:\n",
        "        return False\n",
        "    else:\n",
        "        return True"
      ]
    },
    {
      "cell_type": "code",
      "execution_count": null,
      "metadata": {
        "colab": {
          "base_uri": "https://localhost:8080/"
        },
        "id": "JwmADENcQnCg",
        "outputId": "438313b0-94d7-4ea8-983b-54b0aecd650c"
      },
      "outputs": [
        {
          "data": {
            "text/plain": [
              "True"
            ]
          },
          "execution_count": 67,
          "metadata": {},
          "output_type": "execute_result"
        }
      ],
      "source": [
        "odd(109)"
      ]
    },
    {
      "cell_type": "code",
      "execution_count": null,
      "metadata": {
        "id": "DsdfIO5VQoAk"
      },
      "outputs": [],
      "source": [
        "# lambda x: 4 * x"
      ]
    },
    {
      "cell_type": "code",
      "execution_count": null,
      "metadata": {
        "id": "5-XSgKwdRNXA"
      },
      "outputs": [],
      "source": [
        "plus = lambda x: 4 * x"
      ]
    },
    {
      "cell_type": "code",
      "execution_count": null,
      "metadata": {
        "colab": {
          "base_uri": "https://localhost:8080/"
        },
        "id": "51pchbWARRZq",
        "outputId": "3b963189-309f-4f48-a0d1-5de6a222d1db"
      },
      "outputs": [
        {
          "data": {
            "text/plain": [
              "16"
            ]
          },
          "execution_count": 72,
          "metadata": {},
          "output_type": "execute_result"
        }
      ],
      "source": [
        "plus(4)"
      ]
    },
    {
      "cell_type": "code",
      "execution_count": null,
      "metadata": {
        "id": "CpLpL-IuRVjw"
      },
      "outputs": [],
      "source": [
        "plus = lambda x, y: 4 * (x + y)"
      ]
    },
    {
      "cell_type": "code",
      "execution_count": null,
      "metadata": {
        "colab": {
          "base_uri": "https://localhost:8080/"
        },
        "id": "3VvZRpMDRhcL",
        "outputId": "079b4d5a-12e0-40b9-8868-8be9e622cbd3"
      },
      "outputs": [
        {
          "data": {
            "text/plain": [
              "20"
            ]
          },
          "execution_count": 74,
          "metadata": {},
          "output_type": "execute_result"
        }
      ],
      "source": [
        "plus(2,3)"
      ]
    },
    {
      "cell_type": "code",
      "execution_count": null,
      "metadata": {
        "id": "D2vGj3XRRjCR"
      },
      "outputs": [],
      "source": [
        "import math\n",
        "from math import sqrt"
      ]
    },
    {
      "cell_type": "code",
      "execution_count": null,
      "metadata": {
        "colab": {
          "base_uri": "https://localhost:8080/"
        },
        "id": "VZuR181xSaqE",
        "outputId": "81d7af65-4ff4-469d-a645-8e9e842357cf"
      },
      "outputs": [
        {
          "data": {
            "text/plain": [
              "2.0"
            ]
          },
          "execution_count": 76,
          "metadata": {},
          "output_type": "execute_result"
        }
      ],
      "source": [
        "sqrt(4)"
      ]
    },
    {
      "cell_type": "code",
      "execution_count": null,
      "metadata": {
        "colab": {
          "base_uri": "https://localhost:8080/"
        },
        "id": "636sBsnASc1S",
        "outputId": "03303b69-54a9-4a6f-d4e4-4d469f2d9f1a"
      },
      "outputs": [
        {
          "data": {
            "text/plain": [
              "2.0"
            ]
          },
          "execution_count": 77,
          "metadata": {},
          "output_type": "execute_result"
        }
      ],
      "source": [
        "math.sqrt(4)"
      ]
    },
    {
      "cell_type": "code",
      "execution_count": null,
      "metadata": {
        "id": "wfYoxlvcSfXZ"
      },
      "outputs": [],
      "source": [
        "pi = math.pi"
      ]
    },
    {
      "cell_type": "code",
      "execution_count": null,
      "metadata": {
        "colab": {
          "base_uri": "https://localhost:8080/"
        },
        "id": "89v9sniBSiRi",
        "outputId": "1fc12726-5b60-44dd-d9fd-9c565c0c80cd"
      },
      "outputs": [
        {
          "data": {
            "text/plain": [
              "1.2246467991473532e-16"
            ]
          },
          "execution_count": 81,
          "metadata": {},
          "output_type": "execute_result"
        }
      ],
      "source": [
        "math.sin(pi) # math.sin(math.pi)"
      ]
    },
    {
      "cell_type": "code",
      "execution_count": null,
      "metadata": {
        "id": "-H1OQZZxSmdm"
      },
      "outputs": [],
      "source": [
        "from math import *"
      ]
    },
    {
      "cell_type": "code",
      "execution_count": null,
      "metadata": {
        "colab": {
          "base_uri": "https://localhost:8080/"
        },
        "id": "6cU0ZuEhS2Pq",
        "outputId": "00d52f63-dd0b-458d-8345-74a24f9c4815"
      },
      "outputs": [
        {
          "data": {
            "text/plain": [
              "-0.7568024953079282"
            ]
          },
          "execution_count": 83,
          "metadata": {},
          "output_type": "execute_result"
        }
      ],
      "source": [
        "sin(4)"
      ]
    },
    {
      "cell_type": "code",
      "execution_count": null,
      "metadata": {
        "colab": {
          "base_uri": "https://localhost:8080/"
        },
        "id": "XXjTZ8vOS3v6",
        "outputId": "736ad88b-402b-4648-d595-b012879c9524"
      },
      "outputs": [
        {
          "data": {
            "text/plain": [
              "0.6931471805599453"
            ]
          },
          "execution_count": 84,
          "metadata": {},
          "output_type": "execute_result"
        }
      ],
      "source": [
        "log(2)"
      ]
    },
    {
      "cell_type": "code",
      "execution_count": null,
      "metadata": {
        "colab": {
          "base_uri": "https://localhost:8080/"
        },
        "id": "ao20xRHjS8EM",
        "outputId": "145cc893-1ed1-4cf5-adf3-0686cff94065"
      },
      "outputs": [
        {
          "data": {
            "text/plain": [
              "1.0"
            ]
          },
          "execution_count": 85,
          "metadata": {},
          "output_type": "execute_result"
        }
      ],
      "source": [
        "log10(10)"
      ]
    },
    {
      "cell_type": "code",
      "execution_count": null,
      "metadata": {
        "colab": {
          "base_uri": "https://localhost:8080/"
        },
        "id": "YxcrpGaFS_Dx",
        "outputId": "406cba26-0dc9-4b37-dbff-6082c013723a"
      },
      "outputs": [
        {
          "data": {
            "text/plain": [
              "0.3010299956639812"
            ]
          },
          "execution_count": 86,
          "metadata": {},
          "output_type": "execute_result"
        }
      ],
      "source": [
        "log10(2)"
      ]
    },
    {
      "cell_type": "code",
      "execution_count": null,
      "metadata": {
        "id": "ZADfFEHgTAao"
      },
      "outputs": [],
      "source": [
        "import math"
      ]
    },
    {
      "cell_type": "code",
      "execution_count": null,
      "metadata": {
        "id": "cEmRMDiCTKmZ"
      },
      "outputs": [],
      "source": [
        "math."
      ]
    },
    {
      "cell_type": "code",
      "execution_count": null,
      "metadata": {
        "id": "yIkFWhUdTUY4"
      },
      "outputs": [],
      "source": [
        "# انواع روش‌های استفاده از توابع داخل یک package\n",
        "# import math # math.sin(2)\n",
        "# from math import sin # sin(2)\n",
        "# from math import * # sin(2), tan(2), log(2)"
      ]
    },
    {
      "cell_type": "code",
      "execution_count": null,
      "metadata": {
        "colab": {
          "base_uri": "https://localhost:8080/"
        },
        "id": "1VBq3sqRTZwK",
        "outputId": "4cec315d-43ce-4dda-9c2c-02f4e5203010"
      },
      "outputs": [
        {
          "data": {
            "text/plain": [
              "3.141592653589793"
            ]
          },
          "execution_count": 90,
          "metadata": {},
          "output_type": "execute_result"
        }
      ],
      "source": [
        "math.radians(180)"
      ]
    },
    {
      "cell_type": "code",
      "execution_count": null,
      "metadata": {
        "id": "aMHg0y-gTySm"
      },
      "outputs": [],
      "source": [
        "# open()"
      ]
    },
    {
      "cell_type": "code",
      "execution_count": null,
      "metadata": {
        "id": "aczrNyBsV6Yd"
      },
      "outputs": [],
      "source": [
        "# path /user/mohammad/python_project/test.txt\n",
        "# path C:\\\\user\\\\mohammad\\\\python_project\\\\test.txt\n",
        "# path \\\\user\\\\mohammad\\\\python_project/test.txt ترکیب این دو ارور میدهد"
      ]
    },
    {
      "cell_type": "code",
      "execution_count": null,
      "metadata": {
        "id": "MhaA7bmuVrWh"
      },
      "outputs": [],
      "source": [
        "file = open('./test.txt', 'r')"
      ]
    },
    {
      "cell_type": "code",
      "execution_count": null,
      "metadata": {
        "colab": {
          "base_uri": "https://localhost:8080/"
        },
        "id": "V513P0BtXRHx",
        "outputId": "9457879d-14c0-4bf8-9f32-411fded2ec08"
      },
      "outputs": [
        {
          "name": "stdout",
          "output_type": "stream",
          "text": [
            "salam\n"
          ]
        }
      ],
      "source": [
        "print(file.read())"
      ]
    },
    {
      "cell_type": "code",
      "execution_count": null,
      "metadata": {
        "colab": {
          "base_uri": "https://localhost:8080/"
        },
        "id": "4oMW7JxEXbym",
        "outputId": "a1c5f7c7-110e-45ce-a3ca-11f7b712ba62"
      },
      "outputs": [
        {
          "name": "stdout",
          "output_type": "stream",
          "text": [
            "salam\n",
            "salam2\n",
            "salam3\n",
            "\n",
            "\n",
            "\n",
            "khodahafez\n"
          ]
        }
      ],
      "source": [
        "file = open('./test.txt', 'r') # read\n",
        "print(file.read())"
      ]
    },
    {
      "cell_type": "code",
      "execution_count": null,
      "metadata": {
        "colab": {
          "base_uri": "https://localhost:8080/"
        },
        "id": "7aBNE4wnXk7D",
        "outputId": "181f03af-6196-4181-fcff-f0143c059171"
      },
      "outputs": [
        {
          "name": "stdout",
          "output_type": "stream",
          "text": [
            "salam az folder ghbli\n"
          ]
        }
      ],
      "source": [
        "file = open('../test2.txt', 'r') # read\n",
        "print(file.read())"
      ]
    },
    {
      "cell_type": "code",
      "execution_count": null,
      "metadata": {
        "id": "cXAmlobqY7DF"
      },
      "outputs": [],
      "source": [
        "# open('/test2.txt', 'r'), open('../test2.txt', 'r') /content/test.txt"
      ]
    },
    {
      "cell_type": "code",
      "execution_count": null,
      "metadata": {
        "id": "gCXSATm5aXTf"
      },
      "outputs": [],
      "source": [
        "\"\"\"\n",
        "fkal;sjdowinfskjfda\n",
        "nadsjklgfoauielwjvbldbv\n",
        "njadgfjksdvnuoadsiv\n",
        "\"\"\""
      ]
    },
    {
      "cell_type": "code",
      "execution_count": null,
      "metadata": {
        "colab": {
          "base_uri": "https://localhost:8080/"
        },
        "id": "WW7PJxNRdDzN",
        "outputId": "125e1408-a11b-466d-8c61-a497719f9c19"
      },
      "outputs": [
        {
          "name": "stdout",
          "output_type": "stream",
          "text": [
            "25\n",
            "100\n",
            "voroodi vared nashode\n",
            "None\n"
          ]
        }
      ],
      "source": [
        "\n",
        "def x2(x = None):\n",
        "    if x != None:\n",
        "        y = x ** 2\n",
        "        return y\n",
        "    else:\n",
        "        print(\"voroodi vared nashode\")\n",
        "\n",
        "print(x2(5))\n",
        "print(x2(10))\n",
        "print(x2())"
      ]
    },
    {
      "cell_type": "code",
      "execution_count": null,
      "metadata": {
        "colab": {
          "base_uri": "https://localhost:8080/",
          "height": 191
        },
        "id": "d8onBytUdFes",
        "outputId": "c5115359-2b68-49ad-900d-4e4ba22467e4"
      },
      "outputs": [
        {
          "data": {
            "application/vnd.google.colaboratory.intrinsic+json": {
              "type": "string"
            },
            "text/plain": [
              "'Wi-fi web reaches farmers in Peru\\n\\nA network of community computer centres, linked by wireless technology, is providing a helping hand for poor farmers in Peru.\\n\\nThe pilot scheme in the Huaral Valley, 80 kilometres north of the capital Lima, aims to offer the 6,000-strong community up-to-date information on agricultural market prices and trends. The Agricultural Information Project for Farmers of the Chancay-Huaral Valley also provides vital links between local organisations in charge of water irrigation, enabling them to coordinate their actions. More than 13,000 rural inhabitants, as well as 18,000 students in the region, will also benefit from the telecoms infrastructure.\\n\\nThe 14 telecentres uses only free open source software and affordable computer equipment. The network has been three years in the making and was officially inaugurated in September.\\n\\nThe non-government organisation, Cepes (Peruvian Centre for Social Studies) led the $200,000 project, also backed by local institutions, the Education and Agriculture ministries, and European development organisations. \"The plan includes training on computers and internet skills for both operators and users of the system,\" said Carlos Saldarriaga, technical coordinator at Cepes. Farmers are also taking extra lessons on how to apply the new information to make the most of their plots of land. The Board of Irrigation Users which runs the computer centres, aims to make the network self-sustainable within three years, through the cash generated by using the telecentres as internet cafes.\\n\\nOne of the key elements of the project is the Agricultural Information System, with its flagship huaral.org website. There, farmers can find the prices for local produce, as well as information on topics ranging from plague prevention to the latest farming techniques. The system also helps the inhabitants of the Chancay-Huaral Valley to organise their vital irrigation systems. \"Water is the main element that unites them all. It is a precious element in Peru\\'s coastal areas, because it is so scarce, and therefore it is necessary to have proper irrigation systems to make the most of it,\" Mr Saldarriaga told the BBC News website. The information network also allows farmers to look beyond their own region, and share experiences with other colleagues from the rest of Peru and even around the world.\\n\\nCepes says the involvement of the farmers has been key in the project\\'s success. \"Throughout the last three years, the people have provided a vital thrust to the project; they feel it belongs to them,\" said Mr Saldarriaga. The community training sessions, attended by an equal number of men and women, have been the perfect showcase for their enthusiasm. \"We have had an excellent response, mainly from young people. But we have also had a great feedback when we trained 40 or 50-year old women, who were seeing a computer for the first time in their lives.\" So far, the Huaral programme promoters say the experience has been very positive, and are already planning on spreading the model among other farmers\\' organisations in Peru. \"This is a pilot project, and we have been very keen on its cloning potential in other places,\" underlined Mr Saldarriaga.\\n\\nThe Cepes researcher recalls what happened in Cuyo, a 50-family community with no electricity, during the construction of the local telecentre site. There it was necessary to build a mini-hydraulic dam in order to generate 2kW worth of power for the computers, the communications equipment and the cabin lights. \"It was already dark when the technicians realised they didn\\'t have any light bulbs to test the generator, so they turned up to the local store to buy light bulbs,\" recalls Carlos Saldarriaga. \"The logical answer was \\'we don\\'t sell any\\', so they had to wait until the next morning to do the testing.\" Now, with the wireless network, Cuyo as well as the other communities is no longer isolated.\\n'"
            ]
          },
          "execution_count": 1,
          "metadata": {},
          "output_type": "execute_result"
        }
      ],
      "source": [
        "f = open('news.txt', 'r')\n",
        "f.read()"
      ]
    },
    {
      "cell_type": "code",
      "execution_count": null,
      "metadata": {
        "id": "eC0OHU9Jq5So"
      },
      "outputs": [],
      "source": [
        "news = f.read()"
      ]
    },
    {
      "cell_type": "markdown",
      "metadata": {
        "id": "UE17WavJsMkw"
      },
      "source": [
        "\\n یعنی اینتر\n",
        "\n",
        "\n",
        "\\t یعنی تب"
      ]
    },
    {
      "cell_type": "code",
      "execution_count": null,
      "metadata": {
        "colab": {
          "base_uri": "https://localhost:8080/"
        },
        "id": "6vW-6t0Frpwk",
        "outputId": "5a1a5aaf-a07b-450e-a25c-f91c957fd476"
      },
      "outputs": [
        {
          "data": {
            "text/plain": [
              "['Wi-fi web reaches farmers in Peru\\n',\n",
              " '\\n',\n",
              " 'A network of community computer centres, linked by wireless technology, is providing a helping hand for poor farmers in Peru.\\n',\n",
              " '\\n',\n",
              " 'The pilot scheme in the Huaral Valley, 80 kilometres north of the capital Lima, aims to offer the 6,000-strong community up-to-date information on agricultural market prices and trends. The Agricultural Information Project for Farmers of the Chancay-Huaral Valley also provides vital links between local organisations in charge of water irrigation, enabling them to coordinate their actions. More than 13,000 rural inhabitants, as well as 18,000 students in the region, will also benefit from the telecoms infrastructure.\\n',\n",
              " '\\n',\n",
              " 'The 14 telecentres uses only free open source software and affordable computer equipment. The network has been three years in the making and was officially inaugurated in September.\\n',\n",
              " '\\n',\n",
              " 'The non-government organisation, Cepes (Peruvian Centre for Social Studies) led the $200,000 project, also backed by local institutions, the Education and Agriculture ministries, and European development organisations. \"The plan includes training on computers and internet skills for both operators and users of the system,\" said Carlos Saldarriaga, technical coordinator at Cepes. Farmers are also taking extra lessons on how to apply the new information to make the most of their plots of land. The Board of Irrigation Users which runs the computer centres, aims to make the network self-sustainable within three years, through the cash generated by using the telecentres as internet cafes.\\n',\n",
              " '\\n',\n",
              " 'One of the key elements of the project is the Agricultural Information System, with its flagship huaral.org website. There, farmers can find the prices for local produce, as well as information on topics ranging from plague prevention to the latest farming techniques. The system also helps the inhabitants of the Chancay-Huaral Valley to organise their vital irrigation systems. \"Water is the main element that unites them all. It is a precious element in Peru\\'s coastal areas, because it is so scarce, and therefore it is necessary to have proper irrigation systems to make the most of it,\" Mr Saldarriaga told the BBC News website. The information network also allows farmers to look beyond their own region, and share experiences with other colleagues from the rest of Peru and even around the world.\\n',\n",
              " '\\n',\n",
              " 'Cepes says the involvement of the farmers has been key in the project\\'s success. \"Throughout the last three years, the people have provided a vital thrust to the project; they feel it belongs to them,\" said Mr Saldarriaga. The community training sessions, attended by an equal number of men and women, have been the perfect showcase for their enthusiasm. \"We have had an excellent response, mainly from young people. But we have also had a great feedback when we trained 40 or 50-year old women, who were seeing a computer for the first time in their lives.\" So far, the Huaral programme promoters say the experience has been very positive, and are already planning on spreading the model among other farmers\\' organisations in Peru. \"This is a pilot project, and we have been very keen on its cloning potential in other places,\" underlined Mr Saldarriaga.\\n',\n",
              " '\\n',\n",
              " 'The Cepes researcher recalls what happened in Cuyo, a 50-family community with no electricity, during the construction of the local telecentre site. There it was necessary to build a mini-hydraulic dam in order to generate 2kW worth of power for the computers, the communications equipment and the cabin lights. \"It was already dark when the technicians realised they didn\\'t have any light bulbs to test the generator, so they turned up to the local store to buy light bulbs,\" recalls Carlos Saldarriaga. \"The logical answer was \\'we don\\'t sell any\\', so they had to wait until the next morning to do the testing.\" Now, with the wireless network, Cuyo as well as the other communities is no longer isolated.\\n']"
            ]
          },
          "execution_count": 6,
          "metadata": {},
          "output_type": "execute_result"
        }
      ],
      "source": [
        "f = open('news.txt', 'r')\n",
        "f.readlines()"
      ]
    },
    {
      "cell_type": "code",
      "execution_count": null,
      "metadata": {
        "id": "ApsaRdF7r38i"
      },
      "outputs": [],
      "source": [
        "f = open('news.txt', 'r')\n",
        "news = f.read()"
      ]
    },
    {
      "cell_type": "code",
      "execution_count": null,
      "metadata": {
        "colab": {
          "base_uri": "https://localhost:8080/"
        },
        "id": "7tuHgF0TtExh",
        "outputId": "69643402-7035-4334-f331-7ee238124ff2"
      },
      "outputs": [
        {
          "data": {
            "text/plain": [
              "['One of the key elements of the project is the Agricultural Information System, with its flagship huaral.org website. There, farmers can find the prices for local produce, as well as information on topics ranging from plague prevention to the latest farming techniques. The system also helps the inhabitants of the Chancay-Huaral Valley to organise their vital irrigation systems. \"Water is the main element that unites them all. It is a precious element in Peru\\'s coastal areas, because it is so scarce, and therefore it is necessary to have proper irrigation systems to make the most of it,\" Mr Saldarriaga told the BBC News website. The information network also allows farmers to look beyond their own region, and share experiences with other colleagues from the rest of Peru and even around the world.',\n",
              " '',\n",
              " 'Cepes says the involvement of the farmers has been key in the project\\'s success. \"Throughout the last three years, the people have provided a vital thrust to the project; they feel it belongs to them,\" said Mr Saldarriaga. The community training sessions, attended by an equal number of men and women, have been the perfect showcase for their enthusiasm. \"We have had an excellent response, mainly from young people. But we have also had a great feedback when we trained 40 or 50-year old women, who were seeing a computer for the first time in their lives.\" So far, the Huaral programme promoters say the experience has been very positive, and are already planning on spreading the model among other farmers\\' organisations in Peru. \"This is a pilot project, and we have been very keen on its cloning potential in other places,\" underlined Mr Saldarriaga.',\n",
              " '',\n",
              " 'The Cepes researcher recalls what happened in Cuyo, a 50-family community with no electricity, during the construction of the local telecentre site. There it was necessary to build a mini-hydraulic dam in order to generate 2kW worth of power for the computers, the communications equipment and the cabin lights. \"It was already dark when the technicians realised they didn\\'t have any light bulbs to test the generator, so they turned up to the local store to buy light bulbs,\" recalls Carlos Saldarriaga. \"The logical answer was \\'we don\\'t sell any\\', so they had to wait until the next morning to do the testing.\" Now, with the wireless network, Cuyo as well as the other communities is no longer isolated.']"
            ]
          },
          "execution_count": 10,
          "metadata": {},
          "output_type": "execute_result"
        }
      ],
      "source": [
        "news.split('\\n')[10:15]"
      ]
    },
    {
      "cell_type": "code",
      "execution_count": null,
      "metadata": {
        "colab": {
          "base_uri": "https://localhost:8080/"
        },
        "id": "SWIq2hzZtI8M",
        "outputId": "a7845eca-4399-4e7d-9d85-5e7910355399"
      },
      "outputs": [
        {
          "name": "stdout",
          "output_type": "stream",
          "text": [
            "Wi-fi web reaches farmers in Peru\n",
            "\n"
          ]
        }
      ],
      "source": [
        "f = open('news.txt', 'r')\n",
        "print(f.readline())"
      ]
    },
    {
      "cell_type": "code",
      "execution_count": null,
      "metadata": {
        "colab": {
          "base_uri": "https://localhost:8080/"
        },
        "id": "iG0zBv0AtelD",
        "outputId": "a7230af4-7071-44f2-b5af-8142d807ee2e"
      },
      "outputs": [
        {
          "name": "stdout",
          "output_type": "stream",
          "text": [
            "Wi-fi web reaches farmers in Peru\n",
            "\n",
            "A network of community computer centres, linked by wireless technology, is providing a helping hand for poor farmers in Peru.\n",
            "\n",
            "The pilot scheme in the Huaral Valley, 80 kilometres north of the capital Lima, aims to offer the 6,000-strong community up-to-date information on agricultural market prices and trends. The Agricultural Information Project for Farmers of the Chancay-Huaral Valley also provides vital links between local organisations in charge of water irrigation, enabling them to coordinate their actions. More than 13,000 rural inhabitants, as well as 18,000 students in the region, will also benefit from the telecoms infrastructure.\n",
            "\n",
            "The 14 telecentres uses only free open source software and affordable computer equipment. The network has been three years in the making and was officially inaugurated in September.\n",
            "\n",
            "The non-government organisation, Cepes (Peruvian Centre for Social Studies) led the $200,000 project, also backed by local institutions, the Education and Agriculture ministries, and European development organisations. \"The plan includes training on computers and internet skills for both operators and users of the system,\" said Carlos Saldarriaga, technical coordinator at Cepes. Farmers are also taking extra lessons on how to apply the new information to make the most of their plots of land. The Board of Irrigation Users which runs the computer centres, aims to make the network self-sustainable within three years, through the cash generated by using the telecentres as internet cafes.\n",
            "\n",
            "One of the key elements of the project is the Agricultural Information System, with its flagship huaral.org website. There, farmers can find the prices for local produce, as well as information on topics ranging from plague prevention to the latest farming techniques. The system also helps the inhabitants of the Chancay-Huaral Valley to organise their vital irrigation systems. \"Water is the main element that unites them all. It is a precious element in Peru's coastal areas, because it is so scarce, and therefore it is necessary to have proper irrigation systems to make the most of it,\" Mr Saldarriaga told the BBC News website. The information network also allows farmers to look beyond their own region, and share experiences with other colleagues from the rest of Peru and even around the world.\n",
            "\n",
            "Cepes says the involvement of the farmers has been key in the project's success. \"Throughout the last three years, the people have provided a vital thrust to the project; they feel it belongs to them,\" said Mr Saldarriaga. The community training sessions, attended by an equal number of men and women, have been the perfect showcase for their enthusiasm. \"We have had an excellent response, mainly from young people. But we have also had a great feedback when we trained 40 or 50-year old women, who were seeing a computer for the first time in their lives.\" So far, the Huaral programme promoters say the experience has been very positive, and are already planning on spreading the model among other farmers' organisations in Peru. \"This is a pilot project, and we have been very keen on its cloning potential in other places,\" underlined Mr Saldarriaga.\n",
            "\n",
            "The Cepes researcher recalls what happened in Cuyo, a 50-family community with no electricity, during the construction of the local telecentre site. There it was necessary to build a mini-hydraulic dam in order to generate 2kW worth of power for the computers, the communications equipment and the cabin lights. \"It was already dark when the technicians realised they didn't have any light bulbs to test the generator, so they turned up to the local store to buy light bulbs,\" recalls Carlos Saldarriaga. \"The logical answer was 'we don't sell any', so they had to wait until the next morning to do the testing.\" Now, with the wireless network, Cuyo as well as the other communities is no longer isolated.\n",
            "\n"
          ]
        }
      ],
      "source": [
        "with open('news.txt', 'r') as f:\n",
        "    print(f.read())"
      ]
    },
    {
      "cell_type": "code",
      "execution_count": null,
      "metadata": {
        "colab": {
          "base_uri": "https://localhost:8080/"
        },
        "id": "pVDtIU8puRA1",
        "outputId": "1d3ad8f7-f592-4b8f-f48d-c65e2fdd01ef"
      },
      "outputs": [
        {
          "name": "stdout",
          "output_type": "stream",
          "text": [
            "Wi-fi web reaches farmers in Peru\n",
            "\n",
            "\n",
            "\n",
            "A network of community computer centres, linked by wireless technology, is providing a helping hand for poor farmers in Peru.\n",
            "\n",
            "\n",
            "\n",
            "The pilot scheme in the Huaral Valley, 80 kilometres north of the capital Lima, aims to offer the 6,000-strong community up-to-date information on agricultural market prices and trends. The Agricultural Information Project for Farmers of the Chancay-Huaral Valley also provides vital links between local organisations in charge of water irrigation, enabling them to coordinate their actions. More than 13,000 rural inhabitants, as well as 18,000 students in the region, will also benefit from the telecoms infrastructure.\n",
            "\n",
            "\n",
            "\n",
            "The 14 telecentres uses only free open source software and affordable computer equipment. The network has been three years in the making and was officially inaugurated in September.\n",
            "\n",
            "\n",
            "\n",
            "The non-government organisation, Cepes (Peruvian Centre for Social Studies) led the $200,000 project, also backed by local institutions, the Education and Agriculture ministries, and European development organisations. \"The plan includes training on computers and internet skills for both operators and users of the system,\" said Carlos Saldarriaga, technical coordinator at Cepes. Farmers are also taking extra lessons on how to apply the new information to make the most of their plots of land. The Board of Irrigation Users which runs the computer centres, aims to make the network self-sustainable within three years, through the cash generated by using the telecentres as internet cafes.\n",
            "\n",
            "\n",
            "\n",
            "One of the key elements of the project is the Agricultural Information System, with its flagship huaral.org website. There, farmers can find the prices for local produce, as well as information on topics ranging from plague prevention to the latest farming techniques. The system also helps the inhabitants of the Chancay-Huaral Valley to organise their vital irrigation systems. \"Water is the main element that unites them all. It is a precious element in Peru's coastal areas, because it is so scarce, and therefore it is necessary to have proper irrigation systems to make the most of it,\" Mr Saldarriaga told the BBC News website. The information network also allows farmers to look beyond their own region, and share experiences with other colleagues from the rest of Peru and even around the world.\n",
            "\n",
            "\n",
            "\n",
            "Cepes says the involvement of the farmers has been key in the project's success. \"Throughout the last three years, the people have provided a vital thrust to the project; they feel it belongs to them,\" said Mr Saldarriaga. The community training sessions, attended by an equal number of men and women, have been the perfect showcase for their enthusiasm. \"We have had an excellent response, mainly from young people. But we have also had a great feedback when we trained 40 or 50-year old women, who were seeing a computer for the first time in their lives.\" So far, the Huaral programme promoters say the experience has been very positive, and are already planning on spreading the model among other farmers' organisations in Peru. \"This is a pilot project, and we have been very keen on its cloning potential in other places,\" underlined Mr Saldarriaga.\n",
            "\n",
            "\n",
            "\n",
            "The Cepes researcher recalls what happened in Cuyo, a 50-family community with no electricity, during the construction of the local telecentre site. There it was necessary to build a mini-hydraulic dam in order to generate 2kW worth of power for the computers, the communications equipment and the cabin lights. \"It was already dark when the technicians realised they didn't have any light bulbs to test the generator, so they turned up to the local store to buy light bulbs,\" recalls Carlos Saldarriaga. \"The logical answer was 'we don't sell any', so they had to wait until the next morning to do the testing.\" Now, with the wireless network, Cuyo as well as the other communities is no longer isolated.\n",
            "\n",
            "\n"
          ]
        }
      ],
      "source": [
        "# with open('news.txt', 'r') as f:\n",
        "#     line = f.readline()\n",
        "#     while line != '':\n",
        "#         print(line)\n",
        "#         line = f.readline()\n",
        "\n",
        "with open('news.txt', 'r') as f:\n",
        "    while True:\n",
        "        line = f.readline()\n",
        "        print(line)\n",
        "        if line == '':\n",
        "            break"
      ]
    },
    {
      "cell_type": "code",
      "execution_count": null,
      "metadata": {
        "id": "Pbcd9K2ounMK"
      },
      "outputs": [],
      "source": [
        "# with open('news.txt', 'r') as f:\n",
        "#     news2 = f.readlines()\n",
        "#\n",
        "news2 = []\n",
        "with open('news.txt', 'r') as f:\n",
        "    while True:\n",
        "        line = f.readline()\n",
        "        news2.append(line)\n",
        "        if line == '':\n",
        "            break"
      ]
    },
    {
      "cell_type": "code",
      "execution_count": null,
      "metadata": {
        "colab": {
          "base_uri": "https://localhost:8080/"
        },
        "id": "vC056rXsvTEN",
        "outputId": "9a26a0cb-d4ca-4e44-b15e-e6a58b837940"
      },
      "outputs": [
        {
          "data": {
            "text/plain": [
              "['Wi-fi web reaches farmers in Peru\\n',\n",
              " '\\n',\n",
              " 'A network of community computer centres, linked by wireless technology, is providing a helping hand for poor farmers in Peru.\\n',\n",
              " '\\n',\n",
              " 'The pilot scheme in the Huaral Valley, 80 kilometres north of the capital Lima, aims to offer the 6,000-strong community up-to-date information on agricultural market prices and trends. The Agricultural Information Project for Farmers of the Chancay-Huaral Valley also provides vital links between local organisations in charge of water irrigation, enabling them to coordinate their actions. More than 13,000 rural inhabitants, as well as 18,000 students in the region, will also benefit from the telecoms infrastructure.\\n',\n",
              " '\\n',\n",
              " 'The 14 telecentres uses only free open source software and affordable computer equipment. The network has been three years in the making and was officially inaugurated in September.\\n',\n",
              " '\\n',\n",
              " 'The non-government organisation, Cepes (Peruvian Centre for Social Studies) led the $200,000 project, also backed by local institutions, the Education and Agriculture ministries, and European development organisations. \"The plan includes training on computers and internet skills for both operators and users of the system,\" said Carlos Saldarriaga, technical coordinator at Cepes. Farmers are also taking extra lessons on how to apply the new information to make the most of their plots of land. The Board of Irrigation Users which runs the computer centres, aims to make the network self-sustainable within three years, through the cash generated by using the telecentres as internet cafes.\\n',\n",
              " '\\n',\n",
              " 'One of the key elements of the project is the Agricultural Information System, with its flagship huaral.org website. There, farmers can find the prices for local produce, as well as information on topics ranging from plague prevention to the latest farming techniques. The system also helps the inhabitants of the Chancay-Huaral Valley to organise their vital irrigation systems. \"Water is the main element that unites them all. It is a precious element in Peru\\'s coastal areas, because it is so scarce, and therefore it is necessary to have proper irrigation systems to make the most of it,\" Mr Saldarriaga told the BBC News website. The information network also allows farmers to look beyond their own region, and share experiences with other colleagues from the rest of Peru and even around the world.\\n',\n",
              " '\\n',\n",
              " 'Cepes says the involvement of the farmers has been key in the project\\'s success. \"Throughout the last three years, the people have provided a vital thrust to the project; they feel it belongs to them,\" said Mr Saldarriaga. The community training sessions, attended by an equal number of men and women, have been the perfect showcase for their enthusiasm. \"We have had an excellent response, mainly from young people. But we have also had a great feedback when we trained 40 or 50-year old women, who were seeing a computer for the first time in their lives.\" So far, the Huaral programme promoters say the experience has been very positive, and are already planning on spreading the model among other farmers\\' organisations in Peru. \"This is a pilot project, and we have been very keen on its cloning potential in other places,\" underlined Mr Saldarriaga.\\n',\n",
              " '\\n',\n",
              " 'The Cepes researcher recalls what happened in Cuyo, a 50-family community with no electricity, during the construction of the local telecentre site. There it was necessary to build a mini-hydraulic dam in order to generate 2kW worth of power for the computers, the communications equipment and the cabin lights. \"It was already dark when the technicians realised they didn\\'t have any light bulbs to test the generator, so they turned up to the local store to buy light bulbs,\" recalls Carlos Saldarriaga. \"The logical answer was \\'we don\\'t sell any\\', so they had to wait until the next morning to do the testing.\" Now, with the wireless network, Cuyo as well as the other communities is no longer isolated.\\n',\n",
              " '']"
            ]
          },
          "execution_count": 16,
          "metadata": {},
          "output_type": "execute_result"
        }
      ],
      "source": [
        "news2"
      ]
    },
    {
      "cell_type": "code",
      "execution_count": null,
      "metadata": {
        "colab": {
          "base_uri": "https://localhost:8080/"
        },
        "id": "sVfc6aDnvtcN",
        "outputId": "292f94f2-bc62-46f2-97fa-5e8588ea76a8"
      },
      "outputs": [
        {
          "name": "stdout",
          "output_type": "stream",
          "text": [
            "b'Wi-fi web reaches farmers in Peru\\n\\nA network of community computer centres, linked by wireless technology, is providing a helping hand for poor farmers in Peru.\\n\\nThe pilot scheme in the Huaral Valley, 80 kilometres north of the capital Lima, aims to offer the 6,000-strong community up-to-date information on agricultural market prices and trends. The Agricultural Information Project for Farmers of the Chancay-Huaral Valley also provides vital links between local organisations in charge of water irrigation, enabling them to coordinate their actions. More than 13,000 rural inhabitants, as well as 18,000 students in the region, will also benefit from the telecoms infrastructure.\\n\\nThe 14 telecentres uses only free open source software and affordable computer equipment. The network has been three years in the making and was officially inaugurated in September.\\n\\nThe non-government organisation, Cepes (Peruvian Centre for Social Studies) led the $200,000 project, also backed by local institutions, the Education and Agriculture ministries, and European development organisations. \"The plan includes training on computers and internet skills for both operators and users of the system,\" said Carlos Saldarriaga, technical coordinator at Cepes. Farmers are also taking extra lessons on how to apply the new information to make the most of their plots of land. The Board of Irrigation Users which runs the computer centres, aims to make the network self-sustainable within three years, through the cash generated by using the telecentres as internet cafes.\\n\\nOne of the key elements of the project is the Agricultural Information System, with its flagship huaral.org website. There, farmers can find the prices for local produce, as well as information on topics ranging from plague prevention to the latest farming techniques. The system also helps the inhabitants of the Chancay-Huaral Valley to organise their vital irrigation systems. \"Water is the main element that unites them all. It is a precious element in Peru\\'s coastal areas, because it is so scarce, and therefore it is necessary to have proper irrigation systems to make the most of it,\" Mr Saldarriaga told the BBC News website. The information network also allows farmers to look beyond their own region, and share experiences with other colleagues from the rest of Peru and even around the world.\\n\\nCepes says the involvement of the farmers has been key in the project\\'s success. \"Throughout the last three years, the people have provided a vital thrust to the project; they feel it belongs to them,\" said Mr Saldarriaga. The community training sessions, attended by an equal number of men and women, have been the perfect showcase for their enthusiasm. \"We have had an excellent response, mainly from young people. But we have also had a great feedback when we trained 40 or 50-year old women, who were seeing a computer for the first time in their lives.\" So far, the Huaral programme promoters say the experience has been very positive, and are already planning on spreading the model among other farmers\\' organisations in Peru. \"This is a pilot project, and we have been very keen on its cloning potential in other places,\" underlined Mr Saldarriaga.\\n\\nThe Cepes researcher recalls what happened in Cuyo, a 50-family community with no electricity, during the construction of the local telecentre site. There it was necessary to build a mini-hydraulic dam in order to generate 2kW worth of power for the computers, the communications equipment and the cabin lights. \"It was already dark when the technicians realised they didn\\'t have any light bulbs to test the generator, so they turned up to the local store to buy light bulbs,\" recalls Carlos Saldarriaga. \"The logical answer was \\'we don\\'t sell any\\', so they had to wait until the next morning to do the testing.\" Now, with the wireless network, Cuyo as well as the other communities is no longer isolated.\\n'\n"
          ]
        }
      ],
      "source": [
        "with open('news.txt', 'rb') as f:\n",
        "    print(f.read())"
      ]
    },
    {
      "cell_type": "code",
      "execution_count": null,
      "metadata": {
        "id": "5vX_JaNsv27E"
      },
      "outputs": [],
      "source": [
        "with open('news2.txt', 'w') as f:\n",
        "    f.write(\"salam\")\n"
      ]
    },
    {
      "cell_type": "code",
      "execution_count": null,
      "metadata": {
        "id": "XaXL_7fJxKHp"
      },
      "outputs": [],
      "source": [
        "with open('news2.txt', 'w') as f:\n",
        "    for line in news2:\n",
        "        f.write(line)\n"
      ]
    },
    {
      "cell_type": "code",
      "execution_count": null,
      "metadata": {
        "id": "Tq9wMOXgxb_f"
      },
      "outputs": [],
      "source": [
        "# 'r', 'w', 'rb', 'wb', 'a', 'ab'"
      ]
    },
    {
      "cell_type": "code",
      "execution_count": null,
      "metadata": {
        "id": "PhqiuxJlxm6w"
      },
      "outputs": [],
      "source": [
        "with open('news3.txt', 'w') as f:\n",
        "    for line in range(10):\n",
        "        f.write(str(line))\n"
      ]
    },
    {
      "cell_type": "code",
      "execution_count": null,
      "metadata": {
        "id": "TRs13YvXyEGJ"
      },
      "outputs": [],
      "source": [
        "with open('news3.txt', 'w') as f:\n",
        "    for line in range(10):\n",
        "        f.write(str(line) + '\\n')\n"
      ]
    },
    {
      "cell_type": "code",
      "execution_count": null,
      "metadata": {
        "id": "mJ8fGOcLyQ64"
      },
      "outputs": [],
      "source": [
        "with open('news3.txt', 'a') as f:\n",
        "    for line in range(10, 20):\n",
        "        f.write(str(line) + '\\n')\n"
      ]
    },
    {
      "cell_type": "code",
      "execution_count": null,
      "metadata": {
        "id": "FjZJPVNJyegj"
      },
      "outputs": [],
      "source": [
        "with open('news3.txt', 'w') as f:\n",
        "    for line in range(10):\n",
        "        f.write(str(-line))\n"
      ]
    },
    {
      "cell_type": "code",
      "execution_count": null,
      "metadata": {
        "id": "FLmo04T7yi-C"
      },
      "outputs": [],
      "source": [
        "import os"
      ]
    },
    {
      "cell_type": "code",
      "execution_count": null,
      "metadata": {
        "colab": {
          "base_uri": "https://localhost:8080/"
        },
        "id": "RPweV2cBzwfy",
        "outputId": "e731892d-20a9-40fd-fb64-749b2fe0944c"
      },
      "outputs": [
        {
          "name": "stdout",
          "output_type": "stream",
          "text": [
            "/content\n"
          ]
        }
      ],
      "source": [
        "! pwd"
      ]
    },
    {
      "cell_type": "code",
      "execution_count": null,
      "metadata": {
        "id": "orxON44fzqBh"
      },
      "outputs": [],
      "source": [
        "os.chdir('..')"
      ]
    },
    {
      "cell_type": "code",
      "execution_count": null,
      "metadata": {
        "colab": {
          "base_uri": "https://localhost:8080/"
        },
        "id": "3GU7F3Wtz0e-",
        "outputId": "6384f9cb-6ca4-42ff-bc21-02712b655e73"
      },
      "outputs": [
        {
          "name": "stdout",
          "output_type": "stream",
          "text": [
            "/\n"
          ]
        }
      ],
      "source": [
        "! pwd"
      ]
    },
    {
      "cell_type": "code",
      "execution_count": null,
      "metadata": {
        "id": "XXe1UrTjz1e8"
      },
      "outputs": [],
      "source": [
        "os.chdir('./usr')"
      ]
    },
    {
      "cell_type": "code",
      "execution_count": null,
      "metadata": {
        "colab": {
          "base_uri": "https://localhost:8080/"
        },
        "id": "C_eqTFtkz4lh",
        "outputId": "8e65995b-b103-46ca-8d3a-53dd2492f55f"
      },
      "outputs": [
        {
          "name": "stdout",
          "output_type": "stream",
          "text": [
            "/usr\n"
          ]
        }
      ],
      "source": [
        "! pwd"
      ]
    },
    {
      "cell_type": "code",
      "execution_count": null,
      "metadata": {
        "id": "rW8bo_ENz54X"
      },
      "outputs": [],
      "source": [
        "os.chdir('../content') # os.chdir('/content')"
      ]
    },
    {
      "cell_type": "code",
      "execution_count": null,
      "metadata": {
        "colab": {
          "base_uri": "https://localhost:8080/"
        },
        "id": "ShRary7N0J1N",
        "outputId": "ee4fef44-3912-410d-df09-d8f8618a786d"
      },
      "outputs": [
        {
          "name": "stdout",
          "output_type": "stream",
          "text": [
            "/content\n"
          ]
        }
      ],
      "source": [
        "! pwd"
      ]
    },
    {
      "cell_type": "code",
      "execution_count": null,
      "metadata": {
        "colab": {
          "base_uri": "https://localhost:8080/"
        },
        "id": "fPpfVjEZ0Npf",
        "outputId": "4c8406cc-3651-41fe-82a8-0a537ded7fc5"
      },
      "outputs": [
        {
          "data": {
            "text/plain": [
              "['.config', 'news2.txt', 'news.txt', 'news3.txt', 'sample_data']"
            ]
          },
          "execution_count": 33,
          "metadata": {},
          "output_type": "execute_result"
        }
      ],
      "source": [
        "os.listdir('./')"
      ]
    },
    {
      "cell_type": "code",
      "execution_count": null,
      "metadata": {
        "colab": {
          "base_uri": "https://localhost:8080/",
          "height": 35
        },
        "id": "fGDsHGfS0Q5z",
        "outputId": "257d8a8e-e260-4819-be29-3fd30b56ccad"
      },
      "outputs": [
        {
          "data": {
            "application/vnd.google.colaboratory.intrinsic+json": {
              "type": "string"
            },
            "text/plain": [
              "'/content'"
            ]
          },
          "execution_count": 34,
          "metadata": {},
          "output_type": "execute_result"
        }
      ],
      "source": [
        "os.getcwd()"
      ]
    },
    {
      "cell_type": "code",
      "execution_count": null,
      "metadata": {
        "id": "se8VXO-70j--"
      },
      "outputs": [],
      "source": [
        "os.mkdir('test_os')"
      ]
    },
    {
      "cell_type": "code",
      "execution_count": null,
      "metadata": {
        "id": "Z9lxSoPp0-im"
      },
      "outputs": [],
      "source": [
        "os.chdir('test_os')"
      ]
    },
    {
      "cell_type": "code",
      "execution_count": null,
      "metadata": {
        "colab": {
          "base_uri": "https://localhost:8080/"
        },
        "id": "2EhPJrVn1hqR",
        "outputId": "bb1c2a4d-e8bf-4ef9-e27a-16deef02f74e"
      },
      "outputs": [
        {
          "data": {
            "text/plain": [
              "False"
            ]
          },
          "execution_count": 37,
          "metadata": {},
          "output_type": "execute_result"
        }
      ],
      "source": [
        "os.path.exists('test.txt')"
      ]
    },
    {
      "cell_type": "code",
      "execution_count": null,
      "metadata": {
        "colab": {
          "base_uri": "https://localhost:8080/",
          "height": 164
        },
        "id": "i7dLNGDB5wBR",
        "outputId": "9063bd0f-b130-4c8d-9b20-e5c77552380c"
      },
      "outputs": [
        {
          "ename": "FileNotFoundError",
          "evalue": "[Errno 2] No such file or directory: 'test.txt'",
          "output_type": "error",
          "traceback": [
            "\u001b[0;31m---------------------------------------------------------------------------\u001b[0m",
            "\u001b[0;31mFileNotFoundError\u001b[0m                         Traceback (most recent call last)",
            "\u001b[0;32m<ipython-input-46-a507e867ee1b>\u001b[0m in \u001b[0;36m<cell line: 1>\u001b[0;34m()\u001b[0m\n\u001b[0;32m----> 1\u001b[0;31m \u001b[0;32mwith\u001b[0m \u001b[0mopen\u001b[0m\u001b[0;34m(\u001b[0m\u001b[0;34m'test.txt'\u001b[0m\u001b[0;34m,\u001b[0m \u001b[0;34m'r'\u001b[0m\u001b[0;34m)\u001b[0m \u001b[0;32mas\u001b[0m \u001b[0mf\u001b[0m\u001b[0;34m:\u001b[0m\u001b[0;34m\u001b[0m\u001b[0;34m\u001b[0m\u001b[0m\n\u001b[0m\u001b[1;32m      2\u001b[0m         \u001b[0mprint\u001b[0m\u001b[0;34m(\u001b[0m\u001b[0mf\u001b[0m\u001b[0;34m.\u001b[0m\u001b[0mread\u001b[0m\u001b[0;34m(\u001b[0m\u001b[0;34m)\u001b[0m\u001b[0;34m)\u001b[0m\u001b[0;34m\u001b[0m\u001b[0;34m\u001b[0m\u001b[0m\n",
            "\u001b[0;31mFileNotFoundError\u001b[0m: [Errno 2] No such file or directory: 'test.txt'"
          ]
        }
      ],
      "source": [
        "with open('test.txt', 'r') as f:\n",
        "    print(f.read())"
      ]
    },
    {
      "cell_type": "code",
      "execution_count": null,
      "metadata": {
        "colab": {
          "base_uri": "https://localhost:8080/"
        },
        "id": "ueZS5jT71pHt",
        "outputId": "97fbdaba-5a4c-4ee2-8155-4bb03459e987"
      },
      "outputs": [
        {
          "name": "stdout",
          "output_type": "stream",
          "text": [
            "test.txt does not exist!\n"
          ]
        }
      ],
      "source": [
        "if os.path.exists('test.txt'):\n",
        "    with open('test.txt', 'r') as f:\n",
        "        print(f.read())\n",
        "else:\n",
        "    print(\"test.txt does not exist!\")\n",
        "    # exit() قطع کل برنامه"
      ]
    },
    {
      "cell_type": "code",
      "execution_count": null,
      "metadata": {
        "colab": {
          "base_uri": "https://localhost:8080/",
          "height": 35
        },
        "id": "xcNbF-Om1vRj",
        "outputId": "e1ac6509-4d92-4016-e13b-59682517d96e"
      },
      "outputs": [
        {
          "data": {
            "application/vnd.google.colaboratory.intrinsic+json": {
              "type": "string"
            },
            "text/plain": [
              "'/content/news.txt'"
            ]
          },
          "execution_count": 39,
          "metadata": {},
          "output_type": "execute_result"
        }
      ],
      "source": [
        "os.path.join('/content', 'news.txt')"
      ]
    },
    {
      "cell_type": "code",
      "execution_count": null,
      "metadata": {
        "id": "UJuQDNaK18LR"
      },
      "outputs": [],
      "source": [
        "news_path = os.path.join('/content', 'news.txt')\n",
        "with open(news_path, 'r') as f:\n",
        "    print(f.read())"
      ]
    },
    {
      "cell_type": "code",
      "execution_count": null,
      "metadata": {
        "colab": {
          "base_uri": "https://localhost:8080/",
          "height": 159
        },
        "id": "XLIgi8Ci2GO2",
        "outputId": "1c46b013-ad86-45c8-ce03-70ed7cf6daaf"
      },
      "outputs": [
        {
          "ename": "FileNotFoundError",
          "evalue": "[Errno 2] No such file or directory: 'home'",
          "output_type": "error",
          "traceback": [
            "\u001b[0;31m---------------------------------------------------------------------------\u001b[0m",
            "\u001b[0;31mFileNotFoundError\u001b[0m                         Traceback (most recent call last)",
            "\u001b[0;32m<ipython-input-40-868feabab6d7>\u001b[0m in \u001b[0;36m<cell line: 1>\u001b[0;34m()\u001b[0m\n\u001b[1;32m      1\u001b[0m \u001b[0;32mfor\u001b[0m \u001b[0mfolder\u001b[0m \u001b[0;32min\u001b[0m \u001b[0mos\u001b[0m\u001b[0;34m.\u001b[0m\u001b[0mlistdir\u001b[0m\u001b[0;34m(\u001b[0m\u001b[0;34m'/'\u001b[0m\u001b[0;34m)\u001b[0m\u001b[0;34m:\u001b[0m\u001b[0;34m\u001b[0m\u001b[0;34m\u001b[0m\u001b[0m\n\u001b[0;32m----> 2\u001b[0;31m     \u001b[0mprint\u001b[0m\u001b[0;34m(\u001b[0m\u001b[0mfolder\u001b[0m\u001b[0;34m,\u001b[0m \u001b[0mos\u001b[0m\u001b[0;34m.\u001b[0m\u001b[0mlistdir\u001b[0m\u001b[0;34m(\u001b[0m\u001b[0mfolder\u001b[0m\u001b[0;34m)\u001b[0m\u001b[0;34m)\u001b[0m\u001b[0;34m\u001b[0m\u001b[0;34m\u001b[0m\u001b[0m\n\u001b[0m",
            "\u001b[0;31mFileNotFoundError\u001b[0m: [Errno 2] No such file or directory: 'home'"
          ]
        }
      ],
      "source": [
        "for folder in os.listdir('/'):\n",
        "    print(folder, os.listdir(folder))"
      ]
    },
    {
      "cell_type": "code",
      "execution_count": null,
      "metadata": {
        "colab": {
          "base_uri": "https://localhost:8080/"
        },
        "id": "kA8x52rT2YwA",
        "outputId": "4dc8eadc-28f9-42cb-9212-719a4bf59bf4"
      },
      "outputs": [
        {
          "data": {
            "text/plain": [
              "True"
            ]
          },
          "execution_count": 43,
          "metadata": {},
          "output_type": "execute_result"
        }
      ],
      "source": [
        "os.path.exists('/home')"
      ]
    },
    {
      "cell_type": "code",
      "execution_count": null,
      "metadata": {
        "colab": {
          "base_uri": "https://localhost:8080/"
        },
        "id": "qwxF3E0A2ggi",
        "outputId": "723005f0-27c5-49e2-93e6-b752334f1584"
      },
      "outputs": [
        {
          "data": {
            "text/plain": [
              "['home',\n",
              " 'srv',\n",
              " 'bin',\n",
              " 'lib32',\n",
              " 'boot',\n",
              " 'mnt',\n",
              " 'proc',\n",
              " 'lib64',\n",
              " 'libx32',\n",
              " 'usr',\n",
              " 'lib',\n",
              " 'sbin',\n",
              " 'media',\n",
              " 'run',\n",
              " 'opt',\n",
              " 'tmp',\n",
              " 'dev',\n",
              " 'var',\n",
              " 'root',\n",
              " 'sys',\n",
              " 'etc',\n",
              " 'content',\n",
              " 'kaggle',\n",
              " '.dockerenv',\n",
              " 'datalab',\n",
              " 'tools',\n",
              " 'python-apt',\n",
              " 'NGC-DL-CONTAINER-LICENSE',\n",
              " 'cuda-keyring_1.0-1_all.deb']"
            ]
          },
          "execution_count": 44,
          "metadata": {},
          "output_type": "execute_result"
        }
      ],
      "source": [
        "os.listdir('/')"
      ]
    },
    {
      "cell_type": "code",
      "execution_count": null,
      "metadata": {
        "colab": {
          "base_uri": "https://localhost:8080/",
          "height": 36
        },
        "id": "JKBM3SWN7IjZ",
        "outputId": "af2b39c8-bca3-49e5-a40b-11503b56fe65"
      },
      "outputs": [
        {
          "data": {
            "application/vnd.google.colaboratory.intrinsic+json": {
              "type": "string"
            },
            "text/plain": [
              "'/home'"
            ]
          },
          "execution_count": 50,
          "metadata": {},
          "output_type": "execute_result"
        }
      ],
      "source": [
        "os.path.join('/', 'home')"
      ]
    },
    {
      "cell_type": "code",
      "execution_count": null,
      "metadata": {
        "colab": {
          "base_uri": "https://localhost:8080/",
          "height": 578
        },
        "id": "BS6hpHXa2QAW",
        "outputId": "9d371a09-20d7-42a4-9fb8-f6a84464d935"
      },
      "outputs": [
        {
          "name": "stdout",
          "output_type": "stream",
          "text": [
            "home []\n",
            "srv []\n",
            "bin ['apt-config', 'sdiff', 'more', 'sg', 'gpasswd', 'dmesg', 'realpath', 'setsid', 'rgrep', 'bash', 'ln', 'sensible-pager', 'tload', 'sync', 'unshare', 'skill', 'man', 'groups', 'du', 'basename', 'fallocate', 'gpgv', 'hostid', 'select-editor', 'getent', 'env', 'chmod', 'shred', 'uptime', 'chage', 'id', 'fmt', 'sort', 'pathchk', 'lslocks', 'dpkg-trigger', 'mount', 'zmore', 'factor', 'base64', 'dpkg-maintscript-helper', 'awk', 'shuf', 'zcmp', 'debconf-copydb', 'addpart', 'cut', 'head', 'false', 'prlimit', 'numfmt', 'egrep', 'scriptlive', 'ps', 'md5sum.textutils', 'runcon', 'ipcs', 'resizepart', 'pidwait', 'sed', 'domainname', 'linux32', 'partx', 'tzselect', 'dircolors', 'mountpoint', 'touch', 'bashbug', 'debconf-communicate', 'ipcmk', 'stty', 'sha256sum', 'dpkg-query', 'chattr', 'apt-cdrom', 'chsh', 'lsblk', 'getopt', 'whoami', 'newgrp', 'run-parts', 'update-alternatives', 'mknod', 'expiry', 'unexpand', 'whereis', 'getconf', 'apt-mark', 'chfn', 'lscpu', 'apt-cache', 'pldd', 'ionice', 'diff', 'grep', 'findmnt', 'pidof', 'slabtop', 'znew', 'nisdomainname', 'rbash', 'lsattr', 'debconf-escape', 'logname', 'mkfifo', 'split', 'chown', 'sha384sum', 'expand', 'nl', 'apt-key', 'link', 'vdir', 'tset', 'zfgrep', 'dpkg-divert', 'taskset', 'zcat', 'lsns', 'basenc', 'rm', 'zgrep', 'nohup', 'nawk', 'chrt', 'i386', 'ypdomainname', 'snice', 'perl5.34.0', 'zforce', 'debconf', 'ipcrm', 'uncompress', 'wc', 'printenv', 'namei', 'ldd', 'base32', 'df', 'arch', 'true', 'utmpdump', 'free', 'lslogins', 'zegrep', 'zdump', 'vmstat', 'find', 'dpkg-realpath', 'savelog', 'mesg', 'nice', 'fincore', 'timeout', 'clear_console', 'rmdir', 'sha224sum', 'dpkg', 'deb-systemd-invoke', 'kill', 'clear', 'renice', 'scriptreplay', 'users', 'od', 'diff3', 'dir', 'ischroot', 'csplit', 'umount', 'tic', 'passwd', 'md5sum', 'top', 'cksum', 'install', '[', 'fold', 'gzexe', 'mcookie', 'dpkg-deb', 'reset', 'mktemp', 'infocmp', 'tempfile', 'debconf-set-selections', 'dpkg-split', 'deb-systemd-helper', 'tail', 'dd', 'unlink', 'lsipc', 'login', 'script', 'sha512sum', 'sh', 'lastb', 'apt', 'linux64', 'mv', 'cp', 'lastlog', 'tabs', 'captoinfo', 'seq', 'setterm', 'tsort', 'fgrep', 'sha1sum', 'apt-get', 'zdiff', 'tty', 'mkdir', 'test', 'locale', 'paste', 'mawk', 'uclampset', 'pkill', 'x86_64', 'b2sum', 'toe', 'watch', 'pr', 'who', 'which', 'last', 'ptx', 'debconf-apt-progress', 'wall', 'truncate', 'setarch', 'sleep', 'tac', 'gzip', 'dash', 'tar', 'dnsdomainname', 'comm', 'localedef', 'pmap', 'stat', 'setpriv', 'sensible-browser', 'tee', 'dirname', 'logger', 'pwdx', 'pwd', 'tr', 'perl', 'locale-check', 'rev', 'which.debianutils', 'wdctl', 'echo', 'delpart', 'printf', 'faillog', 'stdbuf', 'hostname', 'uniq', 'cat', 'iconv', 'infotocap', 'chcon', 'debconf-show', 'pgrep', 'nproc', 'ls', 'expr', 'sensible-editor', 'flock', 'su', 'join', 'zless', 'uname', 'xargs', 'lsmem', 'dpkg-statoverride', 'pinky', 'gunzip', 'tput', 'w', 'chgrp', 'cmp', 'hardlink', 'nsenter', 'yes', 'readlink', 'pager', 'choom', 'sum', 'date', 'xdg-open', 'curl', 'python3.10', 'man.REAL', 'pdb3', 'xdg-mime', 'mpexpand', 'mm2gv', 'gtbl', 'cmake', 'oshcc', 'ompi-server', 'vimdot', 'tclsh', 'lessecho', 'h5cc', 'man-recode', 'jhsdb', 'gencnval', 'mandb', 'vimdiff', 'mispipe', 'ip', 'systemd-inhibit', 'jjs', 'jdeps', 'systemd-detect-virt', 'grotty', 'zipnote', 'fuser', 'nstat', 'dot2gxl', 'gsettings', 'xdg-screensaver', 'shmemrun', 'unzipsfx', 'ffmpeg', 'view', 'jshell', 'paperconf', 'gvpr', 'fio-genzipf', 'orted', 'pprof-symbolize', 'pee', 'ifne', 'pcre2-config', 'clang++-14', 'column', 'makeconv', 'unrar', 'routef', 'gdal-config', 'xxd', 'automake-1.16', 'uconv', 'fc-validate', 'mingle', 'wish8.6', 'krb5-config', 'pkttyagent', 'mpijavac', 'x86_64-linux-gnu-gfortran', 'lessfile', 'rmiregistry', 'fio', 'grog', 'jar', 'rlogin', 'pstree.x11', 'autom4te', 'mpicc.openmpi', 'bcomps', 'ul', 'javac', 'dh_autotools-dev_restoreconfig', 'unpack200', 'autoheader', 'zipcloak', 'patchwork', 'groff', 'systemd-umount', 'gapplication', 'autoscan', 'ts', 'pdb3.10', 'systemd-sysext', 'pslog', 'gfortran-11', 'mpirun.openmpi', 'update-mime-database', 'oshc++', 'gfortran', 'systemd-sysusers', 'browse', 'busctl', 'geos-config', 'libpng-config', 'gtk-update-icon-cache', 'javadoc', 'gdbus', 'dbus-cleanup-sockets', 'systemd-escape', 'xdg-email', 'open', 'nop', 'acyclic', 'ssh-keygen', 'page', 'mpicxx', 'mpicc', 'localectl', 'orte-info', 'resolvectl', 'gvgen', 'serialver', 'killall', 'systemd-run', 'pg_config', 'qt-faststart', 'python3.10-config', 'gpic', 'krb5-config.mit', 'jmap', 'ortecc', 'zip', 'vi', 'gvmap.sh', 'dh_autotools-dev_updateconfig', 'ssh-keyscan', 'java', 'jrunscript', 'xml2-config', 'systemd-cat', 'x86_64-linux-gnu-python3.10-config', 'sfdp', 'gxl2dot', 'zrun', 'jps', 'cluster', 'jstack', 'lsmod', 'dbus-daemon', 'jstatd', 'preconv', 'lckdo', 'Rscript', 'gvmap', 'keyring', 'fusermount', 'scp', 'ss', 'hexdump', 'ctest', 'shmemCC', 'lsof', 'git', 'ucfr', 'ucfq', 'xdg-settings', 'troff', 'tcldocstrip', 'dbus-update-activation-environment', 'tmux', 'lneato', 'funzip', 'gio-querymodules', 'systemd-mount', 'mpif90', 'isutf8', 'aclocal-1.16', 'fc-match', 'lsb_release', 'colcrt', 'vim', 'geqn', 'gvpack', 'ifnames', 'jimage', 'ifdata', 'fio_generate_plots', 'mpifort.openmpi', 'shmemc++', 'systemd-socket-activate', 'circo', 'lefty', 'rmic', 'hd', 'col', 'quickbook', 'oshcxx', 'pcre-config', 'mpijavac.pl', 'h5fc', 'git-receive-pack', 'rvim', 'inspect', 'rview', 'ulockmgr_server', 'dot', 'clang', 'aclocal', 'pt', '7zr', 'opalcc', 'jlink', 'ssh', 'rename', 'vimtutor', 'gencat', 'ffprobe', 'dijkstra', 'zipgrep', 'clinfo', 'grops', 'fc-list', 'opal_wrapper', 'keytool', 'javap', 'neqn', 'editor', 'tred', 'loginctl', 'pydoc3.10', 'lcf', 'shmemcc', 'pygettext3', 'rdma', 'fio2gnuplot', 'jmod', 'gencfu', 'routel', 'systemctl', 'apropos', 'dot_builtins', 'glib-compile-schemas', 'x86_64-linux-gnu-gfortran-11', 'osage', 'wish', 'tcltk-depends', 'f77', 'systemd-machine-id-setup', 'git-shell', 'systemd-id128', 'sponge', 'clang-cpp-14', 'clang-14', 'xauth', 'fc-scan', 'wget', 'jdb', 'gendict', 'google-pprof', 'rsync-ssl', 'prune', 'fio-btrace2fio', 'icuexportdata', 'opencv_version', 'ssh-copy-id', 'ssh-argv0', 'systemd-analyze', 'fc-conflist', 'vim.basic', 'py3versions', 'gxl2gv', 'libpng16-config', 'mpic++', 'prtstat', 'neato', 'curl-config', 'ex', 'mpiCC', 'rsh', 'fio_jsonplus_clat2csv', 'shmemcxx', 'clang++', 'pkg-config', 'sudo', 'ncursesw6-config', 'oshfort', 'ncurses6-config', 'systemd', 'mpif90.openmpi', 'opalc++', 'nnsd', 'dbus-monitor', 'opencv_annotation', 'protoc', 'pkexec', 'mpif77', 'gresource', 'm4', 'mpif77.openmpi', 'fc-cat', 'systemd-notify', 'networkctl', 'ompi_info', 'p7zip', 'R', 'vipe', 'opencv_waldboost_detector', 'oshrun', 'python3-config', 'ucf', 'pkaction', 'ffplay', 'dotty', 'catman', 'errno', 'systemd-stdio-bridge', 'manpath', 'file-rename', 'pkgdata', 'systemd-tmpfiles', 'pic', 'graphml2gv', 'write.ul', 'fc-cache', 'unflatten', 'kmod', 'fdp', 'dbus-run-session', '7za', 'apt-add-repository', 'xdg-icon-resource', 'opencv_visualisation', 'add-apt-repository', 'colrm', 'zipsplit', 'helpztags', 'timedatectl', 'lesspipe', 'mpirun', 'pkgconf', 'gc', 'mysql_config', 'journalctl', 'genrb', 'whatis', 'b2', 'nroff', 'h5c++', 'chronic', 'ncurses5-config', 'hostnamectl', '7z', 'asan_symbolize', 'systemd-cgls', 'jdeprscan', 'ssh-agent', 'unrar-nonfree', 'dbus-send', 'combine', 'sccmap', 'jaotc', 'edgepaint', 'oshmem_info', 'autoupdate', 'X11', 'parallel', 'systemd-tty-ask-password-agent', 'file', 'ogdi-config', 'tbl', 'sftp', 'genbrk', 'pack200', 'asan_symbolize-14', 'lesskey', 'opencv_model_diagnostics', 'systemd-path', 'aggregate_profile', 'mpic++.openmpi', 'ssh-add', 'jfr', 'jcmd', 'ncursesw5-config', 'ccomps', 'opencv_interactive-calibration', 'profile2mat', 'autoreconf', 'slogin', 'peekfd', 'gv2gml', 'bootctl', 'xdg-desktop-menu', 'xdg-desktop-icon', 'lnstat', 'mpiexec', 'bjam', 'systemd-cryptenroll', 'jinfo', 'cvtsudoers', 'cpack', 'python3', 'shmemfort', 'fc-query', 'ctstat', 'diffimg', 'mpiexec.openmpi', 'systemd-delta', 'pygettext3.10', 'tclsh8.6', 'jarsigner', 'rrsync', 'fio-dedupe', 'mpiCC.openmpi', 'py3compile', 'mpifort', 'dtplite', 'ompi-clean', 'vidir', 'gv2gxl', 'look', 'apt-ftparchive', 'py3clean', 'compile_et', 'git-upload-pack', 'mpicxx.openmpi', 'gvcolor', 'systemd-cgtop', 'fc-pattern', 'unzip', 'apt-sortpkgs', 'bcp', 'jexec', 'autoconf', 'gml2gv', 'nnslog', 'sudoreplay', 'rsync', 'zipinfo', 'genfio', 'orterun', 'orte-server', 'automake', 'derb', 'pydoc3', 'lexgrog', 'eqn', 'pstree', 'git-upload-archive', 'f95', 'kernel-install', 'orte-clean', 'write', 'jstat', 'pkcheck', 'rmid', 'rtstat', 'icuinfo', 'apt-extracttemplates', 'prename', 'soelim', 'x86_64-linux-gnu-python3-config', 'rcp', 'sudoedit', 'nc-config', 'systemd-ask-password', 'dbus-uuidgen', 'less', 'x86_64-linux-gnu-pkg-config', 'oshCC', 'twopi', 'nns', 'gio', 'git-lfs', 'fio-verify-state', 'xz', 'readelf', 'x86_64-linux-gnu-gcov-11', 'perlthanks', 'bunzip2', 'shasum', 'encguess', 'h2ph', 'x86_64-linux-gnu-gcov-dump', 'gold', 'zipdetails', 'x86_64-linux-gnu-strings', 'xzegrep', 'gcc-ranlib-11', 'x86_64-linux-gnu-gcc-nm-11', 'x86_64-linux-gnu-gcc-nm', 'c99', 'x86_64-linux-gnu-size', 'x86_64-linux-gnu-ld.bfd', 'gcc-nm', 'dpkg-architecture', 'xzfgrep', 'x86_64-linux-gnu-readelf', 'unxz', 'pod2man', 'splain', 'bzdiff', 'gcov-tool', 'make-first-existing-target', 'dpkg-name', 'unlzma', 'ld.gold', 'patch', 'x86_64-linux-gnu-strip', 'x86_64-linux-gnu-g++', 'dpkg-scansources', 'xsubpp', 'x86_64-linux-gnu-gcov-tool-11', 'ld.bfd', 'instmodsh', 'gcc-ar', 'bzegrep', 'x86_64-linux-gnu-gcc', 'lzless', 'dpkg-buildflags', 'cc', 'bzcat', 'ranlib', 'x86_64-linux-gnu-gcc-ranlib', 'cpan5.34-x86_64-linux-gnu', 'c89-gcc', 'x86_64-linux-gnu-as', 'gcov-dump', 'perlbug', 'objdump', 'rpcgen', 'lzmainfo', 'bzcmp', 'gcc-ar-11', 'lzfgrep', 'gcc', 'x86_64-linux-gnu-elfedit', 'bzmore', 'x86_64-linux-gnu-gcc-ar', 'gcov-tool-11', 'x86_64-linux-gnu-gold', 'piconv', 'dpkg-gencontrol', 'x86_64-linux-gnu-objdump', 'objcopy', 'perlivp', 'lzegrep', 'prove', 'gcc-ranlib', 'xzless', 'gcc-nm-11', 'c99-gcc', 'cpan', 'addr2line', 'x86_64-linux-gnu-cpp-11', 'g++', 'xzmore', 'c89', 'dpkg-scanpackages', 'xzdiff', 'make', 'nm', 'xzgrep', 'x86_64-linux-gnu-gcov', 'x86_64-linux-gnu-g++-11', 'dpkg-genbuildinfo', 'ptargrep', 'x86_64-linux-gnu-gprof', 'dpkg-source', 'x86_64-linux-gnu-nm', 'gcov', 'x86_64-linux-gnu-c++filt', 'lto-dump-11', 'x86_64-linux-gnu-dwp', 'x86_64-linux-gnu-gcc-11', 'pod2text', 'pod2html', 'bzip2recover', 'x86_64-linux-gnu-ld.gold', 'lzcmp', 'bzgrep', 'elfedit', 'lzgrep', 'dpkg-buildpackage', 'c++', 'c++filt', 'ar', 'x86_64-linux-gnu-ar', 'x86_64-linux-gnu-ranlib', 'strings', 'x86_64-linux-gnu-gcc-ranlib-11', 'dpkg-parsechangelog', 'xzcat', 'lzdiff', 'pod2usage', 'cpp', 'x86_64-linux-gnu-lto-dump-11', 'pl2pm', 'dpkg-vendor', 'perldoc', 'h2xs', 'dwp', 'x86_64-linux-gnu-ld', 'as', 'bzip2', 'size', 'streamzip', 'enc2xs', 'gprof', 'bzexe', 'x86_64-linux-gnu-objcopy', 'dpkg-distaddfile', 'gcc-11', 'lzcat', 'cpp-11', 'lzmore', 'x86_64-linux-gnu-gcov-tool', 'x86_64-linux-gnu-gcc-ar-11', 'podchecker', 'dpkg-genchanges', 'xzcmp', 'ptardiff', 'dpkg-checkbuilddeps', 'dpkg-shlibdeps', 'strip', 'libnetcfg', 'gcov-dump-11', 'ld', 'bzless', 'json_pp', 'dpkg-gensymbols', 'bzfgrep', 'lzma', 'ptar', 'corelist', 'g++-11', 'gmake', 'x86_64-linux-gnu-cpp', 'gcov-11', 'x86_64-linux-gnu-addr2line', 'perl5.34-x86_64-linux-gnu', 'dpkg-mergechangelogs', 'x86_64-linux-gnu-gcov-dump-11', 'c_rehash', 'openssl', 'gpg2', 'gpgsplit', 'watchgnupg', 'gpgconf', 'gpg', 'gpg-agent', 'pinentry', 'lspgpot', 'gpg-connect-agent', 'pinentry-curses', 'kbxutil', 'gpgsm', 'gpgcompose', 'gpg-zip', 'dirmngr-client', 'gpgtar', 'gpg-wks-server', 'dirmngr', 'gpgparsemail', 'migrate-pubring-from-classic-gpg']\n",
            "lib32 ['libresolv.so.2', 'libutil.so.1', 'libgcc_s.so.1', 'libstdc++.so.6', 'libthread_db.so.1', 'libm.so.6', 'libnss_dns.so.2', 'libmemusage.so', 'libnsl.so.1', 'libpthread.so.0', 'libnss_compat.so.2', 'libnss_hesiod.so.2', 'librt.so.1', 'libanl.so.1', 'libBrokenLocale.so.1', 'libpcprofile.so', 'libc_malloc_debug.so.0', 'libc.so.6', 'libdl.so.2', 'gconv', 'ld-linux.so.2', 'libstdc++.so.6.0.30', 'libnss_files.so.2']\n",
            "boot []\n",
            "mnt []\n",
            "proc ['fs', 'bus', 'dma', 'irq', 'net', 'sys', 'tty', 'acpi', 'keys', 'kmsg', 'misc', 'mtrr', 'scsi', 'stat', 'iomem', 'kcore', 'locks', 'swaps', 'crypto', 'driver', 'mdstat', 'mounts', 'uptime', 'vmstat', 'cgroups', 'cmdline', 'cpuinfo', 'devices', 'ioports', 'loadavg', 'meminfo', 'modules', 'sysvipc', 'version', 'consoles', 'kallsyms', 'pressure', 'slabinfo', 'softirqs', 'zoneinfo', 'buddyinfo', 'config.gz', 'diskstats', 'key-users', 'schedstat', 'interrupts', 'kpagecount', 'kpageflags', 'partitions', 'timer_list', 'execdomains', 'filesystems', 'kpagecgroup', 'vmallocinfo', 'pagetypeinfo', 'sysrq-trigger', 'self', 'thread-self', '1', '6', '15', '17', '19', '21', '61', '62', '79', '80', '1092', '1131', '1181', '1186', '13740']\n",
            "lib64 ['ld-linux-x86-64.so.2']\n",
            "libx32 []\n",
            "usr ['bin', 'lib32', 'src', 'lib64', 'libx32', 'include', 'local', 'lib', 'sbin', 'games', 'libexec', 'share', 'colab', 'grte']\n",
            "lib ['init', 'terminfo', 'x86_64-linux-gnu', 'tmpfiles.d', 'usrmerge', 'sysctl.d', 'mime', 'lsb', 'os-release', 'dpkg', 'systemd', 'apt', 'locale', 'udev', 'python3', 'R', 'libBLT.2.5.so.8.6', 'python3.10', 'tkConfig.sh', 'cmake', 'libvpf.so.4.1', 'python3.11', 'modules-load.d', 'libhdf4.settings', 'software-properties', 'bfd-plugins', 'kernel', 'libvpf.so', 'tclConfig.sh', 'groff', 'blt2.5', 'libarmadillo.so', 'dh-elpa', 'git-core', 'libmfhdfalt.la', 'ogdi', 'binfmt.d', 'valgrind', 'libmfhdfalt.so.0.0.0', 'tclooConfig.sh', 'pkgconf.multiarch', 'libdfalt.la', 'libpsm1', 'modprobe.d', 'man-db', 'libmfhdfalt.a', 'gcc', 'libBLTlite.2.5.so.8.6', 'clang', 'libarmadillo.so.10.8.2', 'dbus-1.0', 'jvm', 'libmfhdfalt.so', 'debug', 'libarmadillo.so.10', 'libogdi.so.4', 'python2.7', 'libdfalt.so', 'libdfalt.so.0.0.0', 'modules', 'llvm-14', 'libogdi.so', 'p7zip', 'emacsen-common', 'tcl8.6', 'environment.d', 'libogdi.so.4.1', 'pkgconfig', 'tcltk', 'pam.d', 'libmfhdfalt.so.0', 'sysusers.d', 'X11', 'tc', 'file', 'polkit-1', 'policykit-1', 'libdfalt.a', 'girepository-1.0', 'ld-linux.so.2', 'libvpf.so.4', 'tk8.6', 'openssh', 'libR.so', 'libdfalt.so.0', 'gold-ld', 'cpp', 'compat-ld', 'gnupg2', 'sasl2', 'ssl', 'gnupg']\n",
            "sbin ['killall5', 'policy-rc.d', 'e2scrub', 'newusers', 'findfs', 'update-passwd', 'wipefs', 'vigr', 'fsck.ext2', 'invoke-rc.d', 'ldconfig.real', 'adduser', 'pam_extrausers_update', 'groupmod', 'ctrlaltdel', 'installkernel', 'sysctl', 'chcpu', 'deluser', 'readprofile', 'mkswap', 'pam-auth-update', 'unix_chkpwd', 'tune2fs', 'resize2fs', 'tarcat', 'shadowconfig', 'mkfs.ext2', 'addgroup', 'zic', 'fstrim', 'e2mmpstatus', 'filefrag', 'badblocks', 'mkfs.ext3', 'cpgr', 'delgroup', 'chroot', 'switch_root', 'blkdiscard', 'pwunconv', 'chpasswd', 'isosize', 'nologin', 'iconvconfig', 'e2fsck', 'pam_timestamp_check', 'mkfs', 'rtcwake', 'fstab-decode', 'pwck', 'rmt-tar', 'dumpe2fs', 'fsck.ext3', 'mklost+found', 'e4crypt', 'userdel', 'agetty', 'pwconv', 'useradd', 'pam_getenv', 'mkfs.bfs', 'add-shell', 'fsck.minix', 'rmt', 'getty', 'chmem', 'grpconv', 'start-stop-daemon', 'groupadd', 'e2image', 'dpkg-preconfigure', 'blkzone', 'faillock', 'chgpasswd', 'update-shells', 'mke2fs', 'groupdel', 'swaplabel', 'remove-shell', 'mkfs.ext4', 'e2label', 'groupmems', 'cppw', 'e2undo', 'pam_extrausers_chkpwd', 'fsck.cramfs', 'zramctl', 'swapon', 'fsck', 'usermod', 'blkid', 'unix_update', 'debugfs', 'service', 'ldattach', 'ldconfig', 'grpck', 'mkfs.minix', 'runuser', 'e2freefrag', 'logsave', 'hwclock', 'losetup', 'update-rc.d', 'mkfs.cramfs', 'dpkg-reconfigure', 'grpunconv', 'pivot_root', 'vipw', 'blockdev', 'sulogin', 'initctl', 'e2scrub_all', 'mkhomedir_helper', 'swapoff', 'fsck.ext4', 'e4defrag', 'fsfreeze', 'docker-init', 'genccode', 'gensprep', 'init', 'arpd', 'ip', 'validlocale', 'libgvc6-config-update', 'visudo', 'paperconfig', 'devlink', 'insmod', 'sudo_sendlog', 'modprobe', 'capsh', 'dcb', 'telinit', 'sudo_logsrvd', 'depmod', 'update-icon-caches', 'lsmod', 'modinfo', 'gencmn', 'halt', 'locale-gen', 'genl', 'tipc', 'bridge', 'rmmod', 'getcap', 'mount.fuse', 'shutdown', 'setcap', 'update-java-alternatives', 'escapesrc', 'rtmon', 'vdpa', 'gennorm2', 'rtacct', 'update-locale', 'tc', 'icupkg', 'poweroff', 'runlevel', 'tzconfig', 'getpcaps', 'reboot', 'accessdb', 'addgnupghome', 'applygnupgdefaults', 'update-ca-certificates']\n",
            "media []\n",
            "run ['mount', 'lock', 'systemd', 'log', 'shm', 'sendsigs.omit.d', 'user']\n",
            "opt ['google', 'nvidia']\n",
            "tmp ['debugger_1mg8qfk7cp', 'language_service.e6270b0f336c.root.log.INFO.20240731-164045.1164', 'language_service.e6270b0f336c.root.log.INFO.20240731-164045.1181', 'dap_multiplexer.INFO', 'initgoogle_syslog_dir.0', 'language_service.INFO', 'tmpdsd99gy_', 'python-languageserver-cancellation', 'dap_multiplexer.e6270b0f336c.root.log.INFO.20240731-163626.80']\n",
            "dev ['core', 'stderr', 'stdout', 'stdin', 'fd', 'ptmx', 'fuse', 'urandom', 'zero', 'tty', 'full', 'random', 'null', 'shm', 'mqueue', 'pts']\n",
            "var ['spool', 'mail', 'lock', 'backups', 'local', 'lib', 'cache', 'log', 'run', 'opt', 'tmp', 'colab']\n",
            "root ['.profile', '.bashrc', '.local', '.jupyter', '.keras', '.tmux.conf', '.cache', '.config', '.wget-hsts', '.npm', '.ipython', '.launchpadlib']\n",
            "sys ['kernel', 'power', 'class', 'devices', 'dev', 'hypervisor', 'fs', 'bus', 'firmware', 'block', 'module']\n",
            "etc ['host.conf', 'xattr.conf', 'terminfo', 'ld.so.conf.d', 'bindresvport.blacklist', 'rc3.d', 'gss', 'kernel', 'rc4.d', 'deluser.conf', 'bash.bashrc', 'sysctl.d', 'machine-id', 'profile', 'default', 'resolv.conf', 'issue.net', 'init.d', 'sysctl.conf', 'rcS.d', 'gai.conf', 'profile.d', 'mke2fs.conf', 'rc2.d', 'legal', 'subuid', 'rmt', 'group', 'update-motd.d', 'cron.daily', '.pwd.lock', 'debconf.conf', 'debian_version', 'os-release', 'security', 'dpkg', 'alternatives', 'adduser.conf', 'rc1.d', 'passwd', 'gshadow', 'hosts', 'e2scrub.conf', 'systemd', 'login.defs', 'selinux', 'logrotate.d', 'apt', 'cron.d', 'rc0.d', 'libaudit.conf', 'ld.so.conf', 'subgid', 'pam.d', 'opt', 'cloud', 'skel', 'ld.so.cache', 'fstab', 'hostname', 'issue', 'netconfig', 'environment', 'shells', 'lsb-release', 'rc6.d', 'nsswitch.conf', 'pam.conf', 'networks', 'shadow', 'rc5.d', 'mtab', 'ipython', 'jupyter', 'requirements3.txt', 'requirements.in', 'requirements.user.in', 'requirements.core.in', 'pip.conf', 'R', 'python3.10', 'fonts', 'emacs', 'magic', 'gshadow-', 'modules-load.d', 'locale.gen', 'mysql', 'ucf.conf', 'tmpfiles.d', 'xdg', 'gtk-3.0', 'apparmor.d', 'odbc.ini', 'openmpi', 'localtime', 'sudoers.d', 'groff', 'sensors.d', 'depmod.d', 'papersize', 'magic.mime', 'ca-certificates', 'binfmt.d', 'sudo.conf', 'modprobe.d', 'vim', 'mime.types', 'java-11-openjdk', 'locale.alias', 'ssh', 'libnl-3', 'sudoers', 'PackageKit', 'group-', 'vdpau_wrapper.cfg', 'pulse', 'bash_completion.d', 'wgetrc', 'modules', 'sensors3.conf', 'shadow-', 'passwd-', 'manpath.config', '.java', 'ssl', 'timezone', 'odbcinst.ini', 'X11', 'libpaper.d', 'polkit-1', 'gitconfig', 'sudo_logsrvd.conf', 'libibverbs.d', 'python3', 'cron.weekly', 'dbus-1', 'openal', 'glvnd', 'dconf', 'iproute2', 'ODBCDataSources', 'fuse.conf', 'perl', 'cufile.json', 'logcheck', 'ca-certificates.conf', 'inputrc']\n",
            "content ['.config', 'news2.txt', 'news.txt', 'news3.txt', 'test_os', 'sample_data']\n",
            "kaggle ['input']\n"
          ]
        },
        {
          "ename": "NotADirectoryError",
          "evalue": "[Errno 20] Not a directory: '/.dockerenv'",
          "output_type": "error",
          "traceback": [
            "\u001b[0;31m---------------------------------------------------------------------------\u001b[0m",
            "\u001b[0;31mNotADirectoryError\u001b[0m                        Traceback (most recent call last)",
            "\u001b[0;32m<ipython-input-45-8f684962d67f>\u001b[0m in \u001b[0;36m<cell line: 1>\u001b[0;34m()\u001b[0m\n\u001b[1;32m      1\u001b[0m \u001b[0;32mfor\u001b[0m \u001b[0mfolder\u001b[0m \u001b[0;32min\u001b[0m \u001b[0mos\u001b[0m\u001b[0;34m.\u001b[0m\u001b[0mlistdir\u001b[0m\u001b[0;34m(\u001b[0m\u001b[0;34m'/'\u001b[0m\u001b[0;34m)\u001b[0m\u001b[0;34m:\u001b[0m\u001b[0;34m\u001b[0m\u001b[0;34m\u001b[0m\u001b[0m\n\u001b[0;32m----> 2\u001b[0;31m     \u001b[0mprint\u001b[0m\u001b[0;34m(\u001b[0m\u001b[0mfolder\u001b[0m\u001b[0;34m,\u001b[0m \u001b[0mos\u001b[0m\u001b[0;34m.\u001b[0m\u001b[0mlistdir\u001b[0m\u001b[0;34m(\u001b[0m\u001b[0mos\u001b[0m\u001b[0;34m.\u001b[0m\u001b[0mpath\u001b[0m\u001b[0;34m.\u001b[0m\u001b[0mjoin\u001b[0m\u001b[0;34m(\u001b[0m\u001b[0;34m'/'\u001b[0m\u001b[0;34m,\u001b[0m \u001b[0mfolder\u001b[0m\u001b[0;34m)\u001b[0m\u001b[0;34m)\u001b[0m\u001b[0;34m)\u001b[0m\u001b[0;34m\u001b[0m\u001b[0;34m\u001b[0m\u001b[0m\n\u001b[0m",
            "\u001b[0;31mNotADirectoryError\u001b[0m: [Errno 20] Not a directory: '/.dockerenv'"
          ]
        }
      ],
      "source": [
        "for folder in os.listdir('/'):\n",
        "    print(folder, os.listdir(os.path.join('/', folder)))"
      ]
    },
    {
      "cell_type": "code",
      "execution_count": null,
      "metadata": {
        "id": "bprNbciz2l4z"
      },
      "outputs": [],
      "source": [
        "home = os.path.join('/', 'home')"
      ]
    },
    {
      "cell_type": "code",
      "execution_count": null,
      "metadata": {
        "colab": {
          "base_uri": "https://localhost:8080/",
          "height": 36
        },
        "id": "_LTyXl_87t4k",
        "outputId": "c8e6a08f-36c9-496e-efd2-7c8251e76ab5"
      },
      "outputs": [
        {
          "data": {
            "application/vnd.google.colaboratory.intrinsic+json": {
              "type": "string"
            },
            "text/plain": [
              "'/homemohammad'"
            ]
          },
          "execution_count": 52,
          "metadata": {},
          "output_type": "execute_result"
        }
      ],
      "source": [
        "home + 'mohammad'"
      ]
    },
    {
      "cell_type": "code",
      "execution_count": null,
      "metadata": {
        "colab": {
          "base_uri": "https://localhost:8080/",
          "height": 36
        },
        "id": "HvfmufLE7woj",
        "outputId": "c1f5c2a4-162c-443d-9d21-90d416e7dd15"
      },
      "outputs": [
        {
          "data": {
            "application/vnd.google.colaboratory.intrinsic+json": {
              "type": "string"
            },
            "text/plain": [
              "'/home/mohammad'"
            ]
          },
          "execution_count": 53,
          "metadata": {},
          "output_type": "execute_result"
        }
      ],
      "source": [
        "os.path.join(home,'mohammad')"
      ]
    },
    {
      "cell_type": "code",
      "execution_count": null,
      "metadata": {
        "id": "5e4ERu_Y8WOJ"
      },
      "outputs": [],
      "source": [
        "os.makedirs('/home', exist_ok=True)"
      ]
    },
    {
      "cell_type": "code",
      "execution_count": null,
      "metadata": {
        "colab": {
          "base_uri": "https://localhost:8080/"
        },
        "id": "dvVMU8aS8Y2M",
        "outputId": "d311371d-a268-465b-c20c-5fe7d09ee42e"
      },
      "outputs": [
        {
          "name": "stdout",
          "output_type": "stream",
          "text": [
            "0\n",
            "0\n",
            "0\n",
            "0\n",
            "0\n",
            "0\n",
            "0\n",
            "0\n",
            "0\n",
            "0\n",
            "0\n",
            "1\n",
            "2\n",
            "3\n",
            "4\n",
            "5\n",
            "6\n",
            "7\n",
            "8\n",
            "9\n",
            "0\n",
            "2\n",
            "4\n",
            "6\n",
            "8\n",
            "10\n",
            "12\n",
            "14\n",
            "16\n",
            "18\n",
            "0\n",
            "3\n",
            "6\n",
            "9\n",
            "12\n",
            "15\n",
            "18\n",
            "21\n",
            "24\n",
            "27\n",
            "0\n",
            "4\n",
            "8\n",
            "12\n",
            "16\n",
            "20\n",
            "24\n",
            "28\n",
            "32\n",
            "36\n",
            "0\n",
            "5\n",
            "10\n",
            "15\n",
            "20\n",
            "25\n",
            "30\n",
            "35\n",
            "40\n",
            "45\n",
            "0\n",
            "6\n",
            "12\n",
            "18\n",
            "24\n",
            "30\n",
            "36\n",
            "42\n",
            "48\n",
            "54\n",
            "0\n",
            "7\n",
            "14\n",
            "21\n",
            "28\n",
            "35\n",
            "42\n",
            "49\n",
            "56\n",
            "63\n",
            "0\n",
            "8\n",
            "16\n",
            "24\n",
            "32\n",
            "40\n",
            "48\n",
            "56\n",
            "64\n",
            "72\n",
            "0\n",
            "9\n",
            "18\n",
            "27\n",
            "36\n",
            "45\n",
            "54\n",
            "63\n",
            "72\n",
            "81\n"
          ]
        }
      ],
      "source": [
        "for i in range(10):\n",
        "    for j in range(10):\n",
        "        print(i*j)"
      ]
    },
    {
      "cell_type": "code",
      "execution_count": null,
      "metadata": {
        "colab": {
          "base_uri": "https://localhost:8080/"
        },
        "id": "Bt3Fb0Yd88N6",
        "outputId": "c6bfe5db-1e20-4931-dfc6-18756cd717bd"
      },
      "outputs": [
        {
          "name": "stdout",
          "output_type": "stream",
          "text": [
            "correct\n"
          ]
        }
      ],
      "source": [
        "name='mohammad'\n",
        "family='mohammadi'\n",
        "if name == 'mohammad':\n",
        "    if family == 'mohammadi':\n",
        "        print('correct')"
      ]
    },
    {
      "cell_type": "code",
      "execution_count": null,
      "metadata": {
        "colab": {
          "base_uri": "https://localhost:8080/"
        },
        "id": "uwbTj9SY9b4t",
        "outputId": "5d103ea8-4a05-4c89-881e-649dd26dfece"
      },
      "outputs": [
        {
          "name": "stdout",
          "output_type": "stream",
          "text": [
            "name or family is not correct\n"
          ]
        }
      ],
      "source": [
        "name='mohammad'\n",
        "family='mohammadii'\n",
        "if name == 'mohammad' and family == 'mohammadi':\n",
        "    print('correct')\n",
        "else:\n",
        "    print(\"name or family is not correct\")"
      ]
    },
    {
      "cell_type": "code",
      "execution_count": null,
      "metadata": {
        "colab": {
          "base_uri": "https://localhost:8080/"
        },
        "id": "VwcsvK2S9mp9",
        "outputId": "6aebc669-f4dc-4cd6-a981-6a52d0fa4740"
      },
      "outputs": [
        {
          "name": "stdout",
          "output_type": "stream",
          "text": [
            "name is not correct\n"
          ]
        }
      ],
      "source": [
        "name='mohammadi'\n",
        "family='mohammadi'\n",
        "if name == 'mohammad':\n",
        "    if family == 'mohammadi':\n",
        "        print('correct')\n",
        "    else:\n",
        "        print(\"family is not correct!\")\n",
        "else:\n",
        "    print(\"name is not correct\")"
      ]
    },
    {
      "cell_type": "code",
      "execution_count": null,
      "metadata": {
        "id": "2sV5kuiq9wDG"
      },
      "outputs": [],
      "source": [
        "dict1 = {\n",
        "    'key1': 'value1',\n",
        "    'key2': 'value2'\n",
        "}"
      ]
    },
    {
      "cell_type": "code",
      "execution_count": null,
      "metadata": {
        "id": "O-NbrluN-Fh9"
      },
      "outputs": [],
      "source": [
        "dict1['jey3']='value3'"
      ]
    },
    {
      "cell_type": "code",
      "execution_count": null,
      "metadata": {
        "id": "JF7yEAYI-IRJ"
      },
      "outputs": [],
      "source": [
        "import json"
      ]
    },
    {
      "cell_type": "code",
      "execution_count": null,
      "metadata": {
        "id": "qiBKRYTk-LTD"
      },
      "outputs": [],
      "source": [
        "with open('dict1.json', 'w') as f:\n",
        "    json.dump(dict1, f)"
      ]
    },
    {
      "cell_type": "code",
      "execution_count": null,
      "metadata": {
        "colab": {
          "base_uri": "https://localhost:8080/",
          "height": 146
        },
        "id": "0D8lUxFg-wso",
        "outputId": "7e41bcc7-7893-4eed-9ccd-b679f81a566f"
      },
      "outputs": [
        {
          "ename": "NameError",
          "evalue": "name 'oo' is not defined",
          "output_type": "error",
          "traceback": [
            "\u001b[0;31m---------------------------------------------------------------------------\u001b[0m",
            "\u001b[0;31mNameError\u001b[0m                                 Traceback (most recent call last)",
            "\u001b[0;32m<ipython-input-69-193f71a04933>\u001b[0m in \u001b[0;36m<cell line: 1>\u001b[0;34m()\u001b[0m\n\u001b[0;32m----> 1\u001b[0;31m \u001b[0moo\u001b[0m\u001b[0;34m\u001b[0m\u001b[0;34m\u001b[0m\u001b[0m\n\u001b[0m",
            "\u001b[0;31mNameError\u001b[0m: name 'oo' is not defined"
          ]
        }
      ],
      "source": [
        "oo"
      ]
    },
    {
      "cell_type": "code",
      "execution_count": null,
      "metadata": {
        "colab": {
          "base_uri": "https://localhost:8080/"
        },
        "id": "7tynDCl5-c65",
        "outputId": "a44aec0e-a86a-4321-f8b7-803dddc669d3"
      },
      "outputs": [
        {
          "name": "stdout",
          "output_type": "stream",
          "text": [
            "oo is not defined!\n"
          ]
        }
      ],
      "source": [
        "try:\n",
        "    print(oo)\n",
        "    sdnlkfgainf\n",
        "    sfmdliasonfgjksd\n",
        "    smdfkjshagklfmsd\n",
        "    sdmlvjadlhgf\n",
        "except:\n",
        "    print(\"oo is not defined!\")"
      ]
    },
    {
      "cell_type": "code",
      "execution_count": null,
      "metadata": {
        "colab": {
          "base_uri": "https://localhost:8080/",
          "height": 182
        },
        "id": "oU0eeT0x-6wx",
        "outputId": "ac7bf6bc-0f38-48f6-9d61-b7d0900a9fd5"
      },
      "outputs": [
        {
          "ename": "TypeError",
          "evalue": "write() argument must be str, not dict",
          "output_type": "error",
          "traceback": [
            "\u001b[0;31m---------------------------------------------------------------------------\u001b[0m",
            "\u001b[0;31mTypeError\u001b[0m                                 Traceback (most recent call last)",
            "\u001b[0;32m<ipython-input-72-2b52cfc9e49d>\u001b[0m in \u001b[0;36m<cell line: 1>\u001b[0;34m()\u001b[0m\n\u001b[1;32m      1\u001b[0m \u001b[0;32mwith\u001b[0m \u001b[0mopen\u001b[0m\u001b[0;34m(\u001b[0m\u001b[0;34m'dict1.json'\u001b[0m\u001b[0;34m,\u001b[0m \u001b[0;34m'w'\u001b[0m\u001b[0;34m)\u001b[0m \u001b[0;32mas\u001b[0m \u001b[0mf\u001b[0m\u001b[0;34m:\u001b[0m\u001b[0;34m\u001b[0m\u001b[0;34m\u001b[0m\u001b[0m\n\u001b[1;32m      2\u001b[0m     \u001b[0;31m# json.dump(dict1, f)\u001b[0m\u001b[0;34m\u001b[0m\u001b[0;34m\u001b[0m\u001b[0m\n\u001b[0;32m----> 3\u001b[0;31m     \u001b[0mf\u001b[0m\u001b[0;34m.\u001b[0m\u001b[0mwrite\u001b[0m\u001b[0;34m(\u001b[0m\u001b[0mdict1\u001b[0m\u001b[0;34m)\u001b[0m\u001b[0;34m\u001b[0m\u001b[0;34m\u001b[0m\u001b[0m\n\u001b[0m",
            "\u001b[0;31mTypeError\u001b[0m: write() argument must be str, not dict"
          ]
        }
      ],
      "source": [
        "with open('dict1.json', 'w') as f:\n",
        "    # json.dump(dict1, f)\n",
        "    f.write(dict1)"
      ]
    },
    {
      "cell_type": "code",
      "execution_count": null,
      "metadata": {
        "id": "SbrDP75h_Wky"
      },
      "outputs": [],
      "source": [
        "with open('dict1.json', 'r') as f:\n",
        "    dict2 = json.load(f)"
      ]
    },
    {
      "cell_type": "code",
      "execution_count": null,
      "metadata": {
        "colab": {
          "base_uri": "https://localhost:8080/"
        },
        "id": "os9YTDPF_l03",
        "outputId": "620f42e8-7e13-4022-eb6f-3f1b4d5f07c5"
      },
      "outputs": [
        {
          "data": {
            "text/plain": [
              "{'key1': 'value1', 'key2': 'value2', 'jey3': 'value3'}"
            ]
          },
          "execution_count": 76,
          "metadata": {},
          "output_type": "execute_result"
        }
      ],
      "source": [
        "dict2"
      ]
    },
    {
      "cell_type": "markdown",
      "metadata": {
        "id": "hGTruzywIT_4"
      },
      "source": [
        "# 2024-08-03"
      ]
    },
    {
      "cell_type": "markdown",
      "metadata": {
        "id": "TBjxTNcJIbXw"
      },
      "source": [
        "Numpy Library (Package)"
      ]
    },
    {
      "cell_type": "code",
      "execution_count": null,
      "metadata": {
        "id": "kvu2u6t_ITm5"
      },
      "outputs": [],
      "source": [
        "! pip install numpy"
      ]
    },
    {
      "cell_type": "code",
      "execution_count": null,
      "metadata": {
        "id": "aaUCOQUZ_rgd"
      },
      "outputs": [],
      "source": [
        "import numpy"
      ]
    },
    {
      "cell_type": "code",
      "execution_count": null,
      "metadata": {
        "id": "VZUB-OlrJKlB"
      },
      "outputs": [],
      "source": [
        "numpy.array()"
      ]
    },
    {
      "cell_type": "code",
      "execution_count": null,
      "metadata": {
        "id": "Fabli9KwJVO5"
      },
      "outputs": [],
      "source": [
        "import numpy as np"
      ]
    },
    {
      "cell_type": "code",
      "execution_count": null,
      "metadata": {
        "colab": {
          "base_uri": "https://localhost:8080/"
        },
        "id": "gHrgWU2rJbWc",
        "outputId": "9ba3fdf1-6896-436b-bab5-85f50d6a5dc6"
      },
      "outputs": [
        {
          "data": {
            "text/plain": [
              "array([1, 2, 3])"
            ]
          },
          "execution_count": 4,
          "metadata": {},
          "output_type": "execute_result"
        }
      ],
      "source": [
        "np.array([1,2,3])"
      ]
    },
    {
      "cell_type": "code",
      "execution_count": null,
      "metadata": {
        "id": "K4005Q-ZJeuL"
      },
      "outputs": [],
      "source": [
        "import numpy as mohammad"
      ]
    },
    {
      "cell_type": "code",
      "execution_count": null,
      "metadata": {
        "colab": {
          "base_uri": "https://localhost:8080/"
        },
        "id": "Fqi1L7sTJmfE",
        "outputId": "aff244f2-2c74-4616-b9ea-bc2ebe8c48f4"
      },
      "outputs": [
        {
          "data": {
            "text/plain": [
              "<module 'numpy' from '/usr/local/lib/python3.10/dist-packages/numpy/__init__.py'>"
            ]
          },
          "execution_count": 7,
          "metadata": {},
          "output_type": "execute_result"
        }
      ],
      "source": [
        "mohammad"
      ]
    },
    {
      "cell_type": "code",
      "execution_count": null,
      "metadata": {
        "id": "nCVXEAstJnJH"
      },
      "outputs": [],
      "source": [
        "mohammad.array()"
      ]
    },
    {
      "cell_type": "code",
      "execution_count": null,
      "metadata": {
        "id": "nZswCmTPJx9G"
      },
      "outputs": [],
      "source": [
        "a = []\n",
        "for i in range(100):\n",
        "    a.append(i)"
      ]
    },
    {
      "cell_type": "code",
      "execution_count": null,
      "metadata": {
        "id": "MYJnelbnJ58y"
      },
      "outputs": [],
      "source": [
        "a"
      ]
    },
    {
      "cell_type": "code",
      "execution_count": null,
      "metadata": {
        "id": "Mb8zZhpJJ6ql"
      },
      "outputs": [],
      "source": [
        "b = np.arange(100)"
      ]
    },
    {
      "cell_type": "code",
      "execution_count": null,
      "metadata": {
        "colab": {
          "base_uri": "https://localhost:8080/"
        },
        "id": "1R_xVyEIKAI4",
        "outputId": "7a2b22a0-a501-45ad-f5f4-77157b2c154e"
      },
      "outputs": [
        {
          "data": {
            "text/plain": [
              "array([ 0,  1,  2,  3,  4,  5,  6,  7,  8,  9, 10, 11, 12, 13, 14, 15, 16,\n",
              "       17, 18, 19, 20, 21, 22, 23, 24, 25, 26, 27, 28, 29, 30, 31, 32, 33,\n",
              "       34, 35, 36, 37, 38, 39, 40, 41, 42, 43, 44, 45, 46, 47, 48, 49, 50,\n",
              "       51, 52, 53, 54, 55, 56, 57, 58, 59, 60, 61, 62, 63, 64, 65, 66, 67,\n",
              "       68, 69, 70, 71, 72, 73, 74, 75, 76, 77, 78, 79, 80, 81, 82, 83, 84,\n",
              "       85, 86, 87, 88, 89, 90, 91, 92, 93, 94, 95, 96, 97, 98, 99])"
            ]
          },
          "execution_count": 11,
          "metadata": {},
          "output_type": "execute_result"
        }
      ],
      "source": [
        "b"
      ]
    },
    {
      "cell_type": "code",
      "execution_count": null,
      "metadata": {
        "colab": {
          "base_uri": "https://localhost:8080/"
        },
        "id": "OYmzE6uuKGnd",
        "outputId": "84474cb6-6f04-42fd-b0f2-dbb9dca06ae3"
      },
      "outputs": [
        {
          "data": {
            "text/plain": [
              "99"
            ]
          },
          "execution_count": 12,
          "metadata": {},
          "output_type": "execute_result"
        }
      ],
      "source": [
        "max(a)"
      ]
    },
    {
      "cell_type": "code",
      "execution_count": null,
      "metadata": {
        "colab": {
          "base_uri": "https://localhost:8080/"
        },
        "id": "qdTO8DEAKKSd",
        "outputId": "d8165fdc-55e9-467b-fbad-f103713e8a0c"
      },
      "outputs": [
        {
          "data": {
            "text/plain": [
              "0"
            ]
          },
          "execution_count": 13,
          "metadata": {},
          "output_type": "execute_result"
        }
      ],
      "source": [
        "min(a)"
      ]
    },
    {
      "cell_type": "code",
      "execution_count": null,
      "metadata": {
        "colab": {
          "base_uri": "https://localhost:8080/",
          "height": 182
        },
        "id": "7NSGsgr8KTnW",
        "outputId": "81b9bcac-0cf2-4f32-eb1b-6b53640b7671"
      },
      "outputs": [
        {
          "ename": "TypeError",
          "evalue": "can't multiply sequence by non-int of type 'list'",
          "output_type": "error",
          "traceback": [
            "\u001b[0;31m---------------------------------------------------------------------------\u001b[0m",
            "\u001b[0;31mTypeError\u001b[0m                                 Traceback (most recent call last)",
            "\u001b[0;32m<ipython-input-14-6964df54af27>\u001b[0m in \u001b[0;36m<cell line: 3>\u001b[0;34m()\u001b[0m\n\u001b[1;32m      1\u001b[0m \u001b[0ma\u001b[0m \u001b[0;34m=\u001b[0m \u001b[0;34m[\u001b[0m\u001b[0;36m1\u001b[0m\u001b[0;34m,\u001b[0m\u001b[0;36m2\u001b[0m\u001b[0;34m,\u001b[0m\u001b[0;36m3\u001b[0m\u001b[0;34m]\u001b[0m\u001b[0;34m\u001b[0m\u001b[0;34m\u001b[0m\u001b[0m\n\u001b[1;32m      2\u001b[0m \u001b[0mb\u001b[0m \u001b[0;34m=\u001b[0m \u001b[0;34m[\u001b[0m\u001b[0;36m2\u001b[0m\u001b[0;34m,\u001b[0m\u001b[0;36m3\u001b[0m\u001b[0;34m,\u001b[0m\u001b[0;36m4\u001b[0m\u001b[0;34m]\u001b[0m\u001b[0;34m\u001b[0m\u001b[0;34m\u001b[0m\u001b[0m\n\u001b[0;32m----> 3\u001b[0;31m \u001b[0ma\u001b[0m \u001b[0;34m*\u001b[0m \u001b[0mb\u001b[0m\u001b[0;34m\u001b[0m\u001b[0;34m\u001b[0m\u001b[0m\n\u001b[0m",
            "\u001b[0;31mTypeError\u001b[0m: can't multiply sequence by non-int of type 'list'"
          ]
        }
      ],
      "source": [
        "a = [1,2,3]\n",
        "b = [2,3,4]\n",
        "a * b"
      ]
    },
    {
      "cell_type": "code",
      "execution_count": null,
      "metadata": {
        "colab": {
          "base_uri": "https://localhost:8080/"
        },
        "id": "z2li2rLNKXid",
        "outputId": "7982bddd-5bfc-4f3b-ffff-182b79c7b31d"
      },
      "outputs": [
        {
          "name": "stdout",
          "output_type": "stream",
          "text": [
            "[2, 6, 12]\n"
          ]
        }
      ],
      "source": [
        "ab = []\n",
        "for i in range(len(a)):\n",
        "    ab.append(a[i] * b[i])\n",
        "print(ab)"
      ]
    },
    {
      "cell_type": "code",
      "execution_count": null,
      "metadata": {
        "colab": {
          "base_uri": "https://localhost:8080/"
        },
        "id": "8HeXAnFQKn0V",
        "outputId": "d3b0f6ef-f75a-4998-8fe8-787ab2b37197"
      },
      "outputs": [
        {
          "data": {
            "text/plain": [
              "array([ True, False])"
            ]
          },
          "execution_count": 16,
          "metadata": {},
          "output_type": "execute_result"
        }
      ],
      "source": [
        "np.array([True, False])"
      ]
    },
    {
      "cell_type": "code",
      "execution_count": null,
      "metadata": {
        "colab": {
          "base_uri": "https://localhost:8080/"
        },
        "id": "387NoXLaL5rW",
        "outputId": "d974c90e-41e4-4902-faeb-508e4d755265"
      },
      "outputs": [
        {
          "data": {
            "text/plain": [
              "[1, 2, 3]"
            ]
          },
          "execution_count": 17,
          "metadata": {},
          "output_type": "execute_result"
        }
      ],
      "source": [
        "a"
      ]
    },
    {
      "cell_type": "code",
      "execution_count": null,
      "metadata": {
        "colab": {
          "base_uri": "https://localhost:8080/",
          "height": 164
        },
        "id": "W8t2AQk5Lluf",
        "outputId": "ef737d44-f966-424c-9a1f-7b927e6ac7d5"
      },
      "outputs": [
        {
          "ename": "ValueError",
          "evalue": "setting an array element with a sequence. The requested array has an inhomogeneous shape after 1 dimensions. The detected shape was (2,) + inhomogeneous part.",
          "output_type": "error",
          "traceback": [
            "\u001b[0;31m---------------------------------------------------------------------------\u001b[0m",
            "\u001b[0;31mValueError\u001b[0m                                Traceback (most recent call last)",
            "\u001b[0;32m<ipython-input-18-478111a02177>\u001b[0m in \u001b[0;36m<cell line: 1>\u001b[0;34m()\u001b[0m\n\u001b[0;32m----> 1\u001b[0;31m \u001b[0mnp\u001b[0m\u001b[0;34m.\u001b[0m\u001b[0marray\u001b[0m\u001b[0;34m(\u001b[0m\u001b[0;34m[\u001b[0m\u001b[0ma\u001b[0m\u001b[0;34m,\u001b[0m \u001b[0;32mFalse\u001b[0m\u001b[0;34m]\u001b[0m\u001b[0;34m)\u001b[0m\u001b[0;34m\u001b[0m\u001b[0;34m\u001b[0m\u001b[0m\n\u001b[0m",
            "\u001b[0;31mValueError\u001b[0m: setting an array element with a sequence. The requested array has an inhomogeneous shape after 1 dimensions. The detected shape was (2,) + inhomogeneous part."
          ]
        }
      ],
      "source": [
        "np.array([a, False])"
      ]
    },
    {
      "cell_type": "code",
      "execution_count": null,
      "metadata": {
        "colab": {
          "base_uri": "https://localhost:8080/"
        },
        "id": "RScbR0hDL6vq",
        "outputId": "f8505d8c-c0ea-4ca2-f0b7-7fd989dee070"
      },
      "outputs": [
        {
          "data": {
            "text/plain": [
              "(list, list)"
            ]
          },
          "execution_count": 19,
          "metadata": {},
          "output_type": "execute_result"
        }
      ],
      "source": [
        "type(a), type(b)"
      ]
    },
    {
      "cell_type": "code",
      "execution_count": null,
      "metadata": {
        "colab": {
          "base_uri": "https://localhost:8080/"
        },
        "id": "bLDJiZDTMMJP",
        "outputId": "fcac830a-4b68-4e61-937b-035257e08e39"
      },
      "outputs": [
        {
          "name": "stdout",
          "output_type": "stream",
          "text": [
            "<class 'numpy.ndarray'> <class 'numpy.ndarray'>\n"
          ]
        }
      ],
      "source": [
        "a_np = np.array(a)\n",
        "b_np = np.array(b)\n",
        "\n",
        "print(type(a_np), type(b_np))"
      ]
    },
    {
      "cell_type": "code",
      "execution_count": null,
      "metadata": {
        "colab": {
          "base_uri": "https://localhost:8080/"
        },
        "id": "qnHRO5t5MTlB",
        "outputId": "7f1d87c1-e782-47bc-ddb7-067c06f5a955"
      },
      "outputs": [
        {
          "data": {
            "text/plain": [
              "(3, 4)"
            ]
          },
          "execution_count": 22,
          "metadata": {},
          "output_type": "execute_result"
        }
      ],
      "source": [
        "a_np.max(), b_np.max()"
      ]
    },
    {
      "cell_type": "code",
      "execution_count": null,
      "metadata": {
        "colab": {
          "base_uri": "https://localhost:8080/"
        },
        "id": "mvgzLjHiM3KR",
        "outputId": "a669883e-cfc1-4eea-997f-facc3e093286"
      },
      "outputs": [
        {
          "data": {
            "text/plain": [
              "array([12, 19, 26, 33, 40, 47, 54, 61, 68, 75, 82, 89, 96])"
            ]
          },
          "execution_count": 26,
          "metadata": {},
          "output_type": "execute_result"
        }
      ],
      "source": [
        "np.arange(12, 97, 7)"
      ]
    },
    {
      "cell_type": "code",
      "execution_count": null,
      "metadata": {
        "colab": {
          "base_uri": "https://localhost:8080/"
        },
        "id": "saUlCFSQM7uh",
        "outputId": "fb9514ca-c5e5-4745-e044-fe94a40c77b1"
      },
      "outputs": [
        {
          "data": {
            "text/plain": [
              "array([1.1, 1.2, 1.3, 1.4, 1.5, 1.6])"
            ]
          },
          "execution_count": 29,
          "metadata": {},
          "output_type": "execute_result"
        }
      ],
      "source": [
        "np.arange(1.1, 1.7, 0.1)"
      ]
    },
    {
      "cell_type": "code",
      "execution_count": null,
      "metadata": {
        "colab": {
          "base_uri": "https://localhost:8080/"
        },
        "id": "hmdCWxx3NKCE",
        "outputId": "0f3e961c-b105-4674-b757-c53b2b4c3de1"
      },
      "outputs": [
        {
          "data": {
            "text/plain": [
              "(3, 3)"
            ]
          },
          "execution_count": 31,
          "metadata": {},
          "output_type": "execute_result"
        }
      ],
      "source": [
        "a[2], a_np[2]"
      ]
    },
    {
      "cell_type": "code",
      "execution_count": null,
      "metadata": {
        "colab": {
          "base_uri": "https://localhost:8080/"
        },
        "id": "hk6OjMxZNXoW",
        "outputId": "cb438c00-9949-43c2-d107-655f6fe37b47"
      },
      "outputs": [
        {
          "data": {
            "text/plain": [
              "array([1, 2])"
            ]
          },
          "execution_count": 32,
          "metadata": {},
          "output_type": "execute_result"
        }
      ],
      "source": [
        "a_np[:2]"
      ]
    },
    {
      "cell_type": "code",
      "execution_count": null,
      "metadata": {
        "colab": {
          "base_uri": "https://localhost:8080/",
          "height": 146
        },
        "id": "bYJUxalNNine",
        "outputId": "d8269db6-606b-4209-bc09-ebc86bb53733"
      },
      "outputs": [
        {
          "ename": "TypeError",
          "evalue": "can't multiply sequence by non-int of type 'list'",
          "output_type": "error",
          "traceback": [
            "\u001b[0;31m---------------------------------------------------------------------------\u001b[0m",
            "\u001b[0;31mTypeError\u001b[0m                                 Traceback (most recent call last)",
            "\u001b[0;32m<ipython-input-33-9bc1a869709f>\u001b[0m in \u001b[0;36m<cell line: 1>\u001b[0;34m()\u001b[0m\n\u001b[0;32m----> 1\u001b[0;31m \u001b[0ma\u001b[0m \u001b[0;34m*\u001b[0m \u001b[0mb\u001b[0m\u001b[0;34m\u001b[0m\u001b[0;34m\u001b[0m\u001b[0m\n\u001b[0m",
            "\u001b[0;31mTypeError\u001b[0m: can't multiply sequence by non-int of type 'list'"
          ]
        }
      ],
      "source": [
        "a * b"
      ]
    },
    {
      "cell_type": "code",
      "execution_count": null,
      "metadata": {
        "colab": {
          "base_uri": "https://localhost:8080/"
        },
        "id": "OuEWj93oNl4i",
        "outputId": "6f6a6d14-1d86-4cdf-b20c-6c56be089468"
      },
      "outputs": [
        {
          "data": {
            "text/plain": [
              "array([ 2,  6, 12])"
            ]
          },
          "execution_count": 34,
          "metadata": {},
          "output_type": "execute_result"
        }
      ],
      "source": [
        "# ab = []\n",
        "# for i in range(len(a)):\n",
        "#     ab.append(a[i] * b[i])\n",
        "# print(ab)\n",
        "\n",
        "a_np * b_np"
      ]
    },
    {
      "cell_type": "code",
      "execution_count": null,
      "metadata": {
        "colab": {
          "base_uri": "https://localhost:8080/"
        },
        "id": "PRjceujyNoj_",
        "outputId": "e163a95e-bdff-4bad-b6b4-00389fb0745f"
      },
      "outputs": [
        {
          "name": "stdout",
          "output_type": "stream",
          "text": [
            "[[2, 3, 4], [4, 6, 8], [6, 9, 12]]\n"
          ]
        }
      ],
      "source": [
        "# این سلول غلط است\n",
        "\n",
        "ab = [[],[],[]]\n",
        "for i in range(len(a)):\n",
        "    for j in range(len(b)):\n",
        "        ab[i].append(a[i] * b[j])\n",
        "print(ab)"
      ]
    },
    {
      "cell_type": "code",
      "execution_count": null,
      "metadata": {
        "colab": {
          "base_uri": "https://localhost:8080/"
        },
        "id": "kwU8gR5KOWKo",
        "outputId": "e7fac99b-c2a8-43e4-a838-dc80f8629d57"
      },
      "outputs": [
        {
          "data": {
            "text/plain": [
              "20"
            ]
          },
          "execution_count": 39,
          "metadata": {},
          "output_type": "execute_result"
        }
      ],
      "source": [
        "a_np @ b_np"
      ]
    },
    {
      "cell_type": "code",
      "execution_count": null,
      "metadata": {
        "colab": {
          "base_uri": "https://localhost:8080/"
        },
        "id": "ZVf0qGFEOkAS",
        "outputId": "742db3a2-59de-41ae-a87a-30f1e72db8a3"
      },
      "outputs": [
        {
          "data": {
            "text/plain": [
              "((3,), (3,), (3,))"
            ]
          },
          "execution_count": 41,
          "metadata": {},
          "output_type": "execute_result"
        }
      ],
      "source": [
        "a_np.shape, b_np.shape,  b_np.T.shape"
      ]
    },
    {
      "cell_type": "code",
      "execution_count": null,
      "metadata": {
        "colab": {
          "base_uri": "https://localhost:8080/"
        },
        "id": "w00kx3OBOqVt",
        "outputId": "4eee8b0b-36f0-455b-9e4d-089d71d0b0cb"
      },
      "outputs": [
        {
          "data": {
            "text/plain": [
              "20"
            ]
          },
          "execution_count": 42,
          "metadata": {},
          "output_type": "execute_result"
        }
      ],
      "source": [
        "a_np @ b_np.T"
      ]
    },
    {
      "cell_type": "code",
      "execution_count": null,
      "metadata": {
        "id": "FPwRmlGtOyfj"
      },
      "outputs": [],
      "source": [
        "# A : m*n \\ B: n*z"
      ]
    },
    {
      "cell_type": "code",
      "execution_count": null,
      "metadata": {
        "colab": {
          "base_uri": "https://localhost:8080/"
        },
        "id": "eYi5jzraSFkD",
        "outputId": "c738943b-3b1d-4e4c-cf50-459f03a2b514"
      },
      "outputs": [
        {
          "data": {
            "text/plain": [
              "(array([1, 2, 3]), array([2, 3, 4]))"
            ]
          },
          "execution_count": 43,
          "metadata": {},
          "output_type": "execute_result"
        }
      ],
      "source": [
        "a_np, b_np"
      ]
    },
    {
      "cell_type": "code",
      "execution_count": null,
      "metadata": {
        "colab": {
          "base_uri": "https://localhost:8080/"
        },
        "id": "Q9DvRNO3SNbs",
        "outputId": "c9bf4b75-e6a8-41bc-8b62-fee62ab1a02a"
      },
      "outputs": [
        {
          "data": {
            "text/plain": [
              "array([ 2,  6, 12])"
            ]
          },
          "execution_count": 44,
          "metadata": {},
          "output_type": "execute_result"
        }
      ],
      "source": [
        "a_np * b_np"
      ]
    },
    {
      "cell_type": "code",
      "execution_count": null,
      "metadata": {
        "colab": {
          "base_uri": "https://localhost:8080/"
        },
        "id": "EEmaik3rSQJD",
        "outputId": "6a74aa64-a704-4afb-ebd9-da1e282b8d81"
      },
      "outputs": [
        {
          "data": {
            "text/plain": [
              "20"
            ]
          },
          "execution_count": 45,
          "metadata": {},
          "output_type": "execute_result"
        }
      ],
      "source": [
        "np.dot(a_np, b_np)"
      ]
    },
    {
      "cell_type": "code",
      "execution_count": null,
      "metadata": {
        "id": "EevV17-eSU8x"
      },
      "outputs": [],
      "source": [
        "a= [[ 1,2, 3 ],\n",
        "    [4, 5, 6]]\n",
        "\n",
        "b = [[4,3,2],\n",
        "     [1,2,3]]"
      ]
    },
    {
      "cell_type": "code",
      "execution_count": null,
      "metadata": {
        "colab": {
          "base_uri": "https://localhost:8080/"
        },
        "id": "jAQICXqbShLV",
        "outputId": "400cb3b9-4e8e-4681-ac20-af48cba0e76c"
      },
      "outputs": [
        {
          "data": {
            "text/plain": [
              "(2, 3, 2, 3)"
            ]
          },
          "execution_count": 48,
          "metadata": {},
          "output_type": "execute_result"
        }
      ],
      "source": [
        "len(a), len(a[0]), len(b), len(b[0])"
      ]
    },
    {
      "cell_type": "code",
      "execution_count": null,
      "metadata": {
        "id": "SKVLmrUnSmXc"
      },
      "outputs": [],
      "source": [
        "a_np = np.array(a)\n",
        "b_np = np.array(b)"
      ]
    },
    {
      "cell_type": "code",
      "execution_count": null,
      "metadata": {
        "colab": {
          "base_uri": "https://localhost:8080/"
        },
        "id": "sMjmxf2wSwLq",
        "outputId": "6d93f1a8-6e7d-40ad-aa3e-064166b47dae"
      },
      "outputs": [
        {
          "data": {
            "text/plain": [
              "((2, 3), (2, 3))"
            ]
          },
          "execution_count": 50,
          "metadata": {},
          "output_type": "execute_result"
        }
      ],
      "source": [
        "a_np.shape, b_np.shape"
      ]
    },
    {
      "cell_type": "code",
      "execution_count": null,
      "metadata": {
        "colab": {
          "base_uri": "https://localhost:8080/"
        },
        "id": "aDoEtSnKSyuR",
        "outputId": "54eba19d-a499-4100-9be3-6f300cb26ee5"
      },
      "outputs": [
        {
          "data": {
            "text/plain": [
              "(6, 6)"
            ]
          },
          "execution_count": 52,
          "metadata": {},
          "output_type": "execute_result"
        }
      ],
      "source": [
        "a[1][2], a_np[1][2]"
      ]
    },
    {
      "cell_type": "code",
      "execution_count": null,
      "metadata": {
        "colab": {
          "base_uri": "https://localhost:8080/"
        },
        "id": "wvD8Fk87S8Nz",
        "outputId": "a0c711d5-293e-49f7-9014-87ca605dad20"
      },
      "outputs": [
        {
          "data": {
            "text/plain": [
              "6"
            ]
          },
          "execution_count": 53,
          "metadata": {},
          "output_type": "execute_result"
        }
      ],
      "source": [
        "a_np[1, 2]"
      ]
    },
    {
      "cell_type": "code",
      "execution_count": null,
      "metadata": {
        "colab": {
          "base_uri": "https://localhost:8080/",
          "height": 146
        },
        "id": "JNQxDJEUTCrz",
        "outputId": "241cec9d-2275-40b5-db89-3ba547bfedda"
      },
      "outputs": [
        {
          "ename": "TypeError",
          "evalue": "list indices must be integers or slices, not tuple",
          "output_type": "error",
          "traceback": [
            "\u001b[0;31m---------------------------------------------------------------------------\u001b[0m",
            "\u001b[0;31mTypeError\u001b[0m                                 Traceback (most recent call last)",
            "\u001b[0;32m<ipython-input-54-60d0574c67fb>\u001b[0m in \u001b[0;36m<cell line: 1>\u001b[0;34m()\u001b[0m\n\u001b[0;32m----> 1\u001b[0;31m \u001b[0ma\u001b[0m\u001b[0;34m[\u001b[0m\u001b[0;36m1\u001b[0m\u001b[0;34m,\u001b[0m\u001b[0;36m2\u001b[0m\u001b[0;34m]\u001b[0m\u001b[0;34m\u001b[0m\u001b[0;34m\u001b[0m\u001b[0m\n\u001b[0m",
            "\u001b[0;31mTypeError\u001b[0m: list indices must be integers or slices, not tuple"
          ]
        }
      ],
      "source": [
        "a[1,2]"
      ]
    },
    {
      "cell_type": "code",
      "execution_count": null,
      "metadata": {
        "id": "VUvnFndfTElb"
      },
      "outputs": [],
      "source": [
        "# a_np[1:9, 2:-4]"
      ]
    },
    {
      "cell_type": "code",
      "execution_count": null,
      "metadata": {
        "id": "ssHQ5p3_TUSd"
      },
      "outputs": [],
      "source": [
        "c = np.array([[[i for i in range(10)] for j in range(10)] for k in range(10)])"
      ]
    },
    {
      "cell_type": "code",
      "execution_count": null,
      "metadata": {
        "colab": {
          "base_uri": "https://localhost:8080/"
        },
        "id": "m64HKzpFTnNQ",
        "outputId": "4c66f0e4-fa14-4ce2-e1a3-6880b4e98599"
      },
      "outputs": [
        {
          "data": {
            "text/plain": [
              "(10, 10, 10)"
            ]
          },
          "execution_count": 56,
          "metadata": {},
          "output_type": "execute_result"
        }
      ],
      "source": [
        "c.shape"
      ]
    },
    {
      "cell_type": "code",
      "execution_count": null,
      "metadata": {
        "colab": {
          "base_uri": "https://localhost:8080/"
        },
        "id": "2nyA8Q6HToFK",
        "outputId": "57df21db-9e91-43b0-bb4c-097dfec124db"
      },
      "outputs": [
        {
          "data": {
            "text/plain": [
              "3"
            ]
          },
          "execution_count": 57,
          "metadata": {},
          "output_type": "execute_result"
        }
      ],
      "source": [
        "c.ndim"
      ]
    },
    {
      "cell_type": "code",
      "execution_count": null,
      "metadata": {
        "colab": {
          "base_uri": "https://localhost:8080/"
        },
        "id": "e6OXs3qNVpaD",
        "outputId": "e42fb086-fb7d-43cf-cc84-3610530f8847"
      },
      "outputs": [
        {
          "data": {
            "text/plain": [
              "3"
            ]
          },
          "execution_count": 60,
          "metadata": {},
          "output_type": "execute_result"
        }
      ],
      "source": [
        "len(c.shape)"
      ]
    },
    {
      "cell_type": "code",
      "execution_count": null,
      "metadata": {
        "colab": {
          "base_uri": "https://localhost:8080/"
        },
        "id": "BPAkONz3VAp_",
        "outputId": "b0e1e13d-21da-40b8-daa2-51712828a001"
      },
      "outputs": [
        {
          "data": {
            "text/plain": [
              "array([[9, 9, 9, 9, 9],\n",
              "       [9, 9, 9, 9, 9]])"
            ]
          },
          "execution_count": 59,
          "metadata": {},
          "output_type": "execute_result"
        }
      ],
      "source": [
        "c[2:4,3:-2,9]"
      ]
    },
    {
      "cell_type": "code",
      "execution_count": null,
      "metadata": {
        "id": "BhnVVcxJVDCP"
      },
      "outputs": [],
      "source": [
        "# np.dot()\n",
        "# np.cross()"
      ]
    },
    {
      "cell_type": "code",
      "execution_count": null,
      "metadata": {
        "colab": {
          "base_uri": "https://localhost:8080/"
        },
        "id": "tMu9zpNAVyD7",
        "outputId": "8e3ec881-0922-4d01-aa0d-85d8c8648bdd"
      },
      "outputs": [
        {
          "data": {
            "text/plain": [
              "((2, 3), (2, 3))"
            ]
          },
          "execution_count": 62,
          "metadata": {},
          "output_type": "execute_result"
        }
      ],
      "source": [
        "a_np.shape, b_np.shape"
      ]
    },
    {
      "cell_type": "code",
      "execution_count": null,
      "metadata": {
        "colab": {
          "base_uri": "https://localhost:8080/",
          "height": 146
        },
        "id": "inEHKn3fV2I-",
        "outputId": "b0536e00-80fe-4962-d32e-5229f190458b"
      },
      "outputs": [
        {
          "ename": "ValueError",
          "evalue": "matmul: Input operand 1 has a mismatch in its core dimension 0, with gufunc signature (n?,k),(k,m?)->(n?,m?) (size 2 is different from 3)",
          "output_type": "error",
          "traceback": [
            "\u001b[0;31m---------------------------------------------------------------------------\u001b[0m",
            "\u001b[0;31mValueError\u001b[0m                                Traceback (most recent call last)",
            "\u001b[0;32m<ipython-input-63-2336a6579c07>\u001b[0m in \u001b[0;36m<cell line: 1>\u001b[0;34m()\u001b[0m\n\u001b[0;32m----> 1\u001b[0;31m \u001b[0ma_np\u001b[0m \u001b[0;34m@\u001b[0m \u001b[0mb_np\u001b[0m\u001b[0;34m\u001b[0m\u001b[0;34m\u001b[0m\u001b[0m\n\u001b[0m",
            "\u001b[0;31mValueError\u001b[0m: matmul: Input operand 1 has a mismatch in its core dimension 0, with gufunc signature (n?,k),(k,m?)->(n?,m?) (size 2 is different from 3)"
          ]
        }
      ],
      "source": [
        "a_np @ b_np"
      ]
    },
    {
      "cell_type": "code",
      "execution_count": null,
      "metadata": {
        "colab": {
          "base_uri": "https://localhost:8080/"
        },
        "id": "THGliE5iV6Ec",
        "outputId": "4c16426e-6141-472f-efad-15551b356f0e"
      },
      "outputs": [
        {
          "data": {
            "text/plain": [
              "array([[16, 14],\n",
              "       [43, 32]])"
            ]
          },
          "execution_count": 64,
          "metadata": {},
          "output_type": "execute_result"
        }
      ],
      "source": [
        "a_np @ b_np.T"
      ]
    },
    {
      "cell_type": "code",
      "execution_count": null,
      "metadata": {
        "id": "y7kLn5_FWDSd"
      },
      "outputs": [],
      "source": [
        "b_np_T = np.transpose(b_np)"
      ]
    },
    {
      "cell_type": "code",
      "execution_count": null,
      "metadata": {
        "colab": {
          "base_uri": "https://localhost:8080/"
        },
        "id": "25SWNPNCWvLE",
        "outputId": "56590797-e59e-4349-bf94-e5c20bd99249"
      },
      "outputs": [
        {
          "data": {
            "text/plain": [
              "array([[4, 1],\n",
              "       [3, 2],\n",
              "       [2, 3]])"
            ]
          },
          "execution_count": 66,
          "metadata": {},
          "output_type": "execute_result"
        }
      ],
      "source": [
        "b_np_T"
      ]
    },
    {
      "cell_type": "code",
      "execution_count": null,
      "metadata": {
        "colab": {
          "base_uri": "https://localhost:8080/"
        },
        "id": "3j7ecs03XMyR",
        "outputId": "848089db-e826-4efc-a9d6-6179f552a109"
      },
      "outputs": [
        {
          "data": {
            "text/plain": [
              "array([[16, 14],\n",
              "       [43, 32]])"
            ]
          },
          "execution_count": 67,
          "metadata": {},
          "output_type": "execute_result"
        }
      ],
      "source": [
        "np.matmul(a_np, b_np_T)"
      ]
    },
    {
      "cell_type": "code",
      "execution_count": null,
      "metadata": {
        "colab": {
          "base_uri": "https://localhost:8080/"
        },
        "id": "RPYxrAtJX0v-",
        "outputId": "26b9caee-4329-4456-f23e-91cf09aaafed"
      },
      "outputs": [
        {
          "data": {
            "text/plain": [
              "array([[1., 1., 1.],\n",
              "       [1., 1., 1.]])"
            ]
          },
          "execution_count": 68,
          "metadata": {},
          "output_type": "execute_result"
        }
      ],
      "source": [
        "np.ones((2,3))"
      ]
    },
    {
      "cell_type": "code",
      "execution_count": null,
      "metadata": {
        "colab": {
          "base_uri": "https://localhost:8080/"
        },
        "id": "yWRWDF1AX3dY",
        "outputId": "df799a35-6b57-4928-8ad0-37881a86994e"
      },
      "outputs": [
        {
          "data": {
            "text/plain": [
              "array([[0., 0., 0.],\n",
              "       [0., 0., 0.]])"
            ]
          },
          "execution_count": 69,
          "metadata": {},
          "output_type": "execute_result"
        }
      ],
      "source": [
        "np.zeros((2,3))"
      ]
    },
    {
      "cell_type": "code",
      "execution_count": null,
      "metadata": {
        "colab": {
          "base_uri": "https://localhost:8080/"
        },
        "id": "lJUqeo7MX66U",
        "outputId": "18ac7b83-e158-402e-f6f0-593962780907"
      },
      "outputs": [
        {
          "data": {
            "text/plain": [
              "array([[1., 0., 0.],\n",
              "       [0., 1., 0.],\n",
              "       [0., 0., 1.]])"
            ]
          },
          "execution_count": 71,
          "metadata": {},
          "output_type": "execute_result"
        }
      ],
      "source": [
        "np.eye(3)"
      ]
    },
    {
      "cell_type": "code",
      "execution_count": null,
      "metadata": {
        "colab": {
          "base_uri": "https://localhost:8080/"
        },
        "id": "zinM5ylsX-uL",
        "outputId": "20c2c872-440d-4493-e012-5c89a6f7b1cf"
      },
      "outputs": [
        {
          "data": {
            "text/plain": [
              "array([[5, 5, 5, 5],\n",
              "       [5, 5, 5, 5],\n",
              "       [5, 5, 5, 5],\n",
              "       [5, 5, 5, 5]])"
            ]
          },
          "execution_count": 72,
          "metadata": {},
          "output_type": "execute_result"
        }
      ],
      "source": [
        "np.full((4,4), 5)"
      ]
    },
    {
      "cell_type": "code",
      "execution_count": null,
      "metadata": {
        "colab": {
          "base_uri": "https://localhost:8080/"
        },
        "id": "G3Ga7SPCYIYB",
        "outputId": "432185e4-dcb9-406f-ee65-cb4d44e6510c"
      },
      "outputs": [
        {
          "data": {
            "text/plain": [
              "0.6814507703004355"
            ]
          },
          "execution_count": 74,
          "metadata": {},
          "output_type": "execute_result"
        }
      ],
      "source": [
        "np.random.uniform(0,1)"
      ]
    },
    {
      "cell_type": "code",
      "execution_count": null,
      "metadata": {
        "colab": {
          "base_uri": "https://localhost:8080/"
        },
        "id": "uiSV7JYnYgsc",
        "outputId": "c97d6f27-fe84-4198-9b5b-8ddaf02a315a"
      },
      "outputs": [
        {
          "data": {
            "text/plain": [
              "array([[-0.91809693, -0.51145387,  0.11356459,  0.07787437, -0.3135356 ,\n",
              "         0.45794578,  0.93962236],\n",
              "       [-0.71417977,  0.05746693,  0.49618399, -0.13017797, -0.71992631,\n",
              "        -0.66537551, -0.76126532],\n",
              "       [-0.4427263 ,  0.45169088, -0.09892077,  0.61265249,  0.32528052,\n",
              "        -0.95251116, -0.64020682],\n",
              "       [ 0.91787175, -0.02043979, -0.71751142, -0.39352195, -0.53531375,\n",
              "        -0.55526999, -0.30447105],\n",
              "       [ 0.93935402, -0.27777345, -0.75040473, -0.97432503, -0.53938681,\n",
              "        -0.46706907,  0.73538669],\n",
              "       [ 0.01366477, -0.59031345,  0.63735769, -0.81037801, -0.73786204,\n",
              "        -0.95743707, -0.00723371],\n",
              "       [-0.30945391, -0.63629504, -0.66662705, -0.61926459,  0.97904744,\n",
              "         0.73073562, -0.15746683],\n",
              "       [ 0.393464  , -0.1067025 ,  0.97723012, -0.13095082,  0.11049292,\n",
              "         0.12165067, -0.09928662],\n",
              "       [ 0.19937867, -0.5594451 ,  0.16993209,  0.29493716, -0.49298341,\n",
              "        -0.78418423, -0.61397004]])"
            ]
          },
          "execution_count": 75,
          "metadata": {},
          "output_type": "execute_result"
        }
      ],
      "source": [
        "np.random.uniform(-1,1, size=(9,7))"
      ]
    },
    {
      "cell_type": "code",
      "execution_count": null,
      "metadata": {
        "colab": {
          "base_uri": "https://localhost:8080/"
        },
        "id": "gFgh60I6YqzG",
        "outputId": "87aea240-ef78-4544-c63b-1e6facfb25aa"
      },
      "outputs": [
        {
          "data": {
            "text/plain": [
              "6"
            ]
          },
          "execution_count": 77,
          "metadata": {},
          "output_type": "execute_result"
        }
      ],
      "source": [
        "np.random.randint(0,10)"
      ]
    },
    {
      "cell_type": "code",
      "execution_count": null,
      "metadata": {
        "colab": {
          "base_uri": "https://localhost:8080/"
        },
        "id": "Rd-BDCTfYyKW",
        "outputId": "145c1f55-0c6b-4f9e-ef27-c34924ac1822"
      },
      "outputs": [
        {
          "data": {
            "text/plain": [
              "array([[-0.46011654,  0.35252495, -1.14423466,  0.59125994],\n",
              "       [-0.36057681,  1.03753081, -0.50897896,  2.137922  ],\n",
              "       [ 0.78199696, -1.52792106, -1.18477414, -0.73743954],\n",
              "       [ 2.2782114 , -0.72704423,  0.85075613, -1.62211002]])"
            ]
          },
          "execution_count": 78,
          "metadata": {},
          "output_type": "execute_result"
        }
      ],
      "source": [
        "np.random.normal(0,1 , size=(4,4))"
      ]
    },
    {
      "cell_type": "code",
      "execution_count": null,
      "metadata": {
        "id": "sbBiyi84Y8dG"
      },
      "outputs": [],
      "source": [
        "np.random"
      ]
    },
    {
      "cell_type": "code",
      "execution_count": null,
      "metadata": {
        "colab": {
          "base_uri": "https://localhost:8080/"
        },
        "id": "EXvgJ7j3cNh_",
        "outputId": "aa6b7681-da47-43a8-de59-eebc0157d0b4"
      },
      "outputs": [
        {
          "data": {
            "text/plain": [
              "array([ 1.08835255, -0.22841372,  0.82716524,  0.43852524,  0.82063371,\n",
              "        0.06445238, -0.09533843, -0.9371623 ,  0.77361843,  0.29407459])"
            ]
          },
          "execution_count": 84,
          "metadata": {},
          "output_type": "execute_result"
        }
      ],
      "source": [
        "np.random.normal(0,1, size=10)"
      ]
    },
    {
      "cell_type": "code",
      "execution_count": null,
      "metadata": {
        "colab": {
          "base_uri": "https://localhost:8080/"
        },
        "id": "_j0qGsZvcXGa",
        "outputId": "e7d58545-bd06-4d37-b6db-76846c355e90"
      },
      "outputs": [
        {
          "data": {
            "text/plain": [
              "array([ -9.52857626,  -8.98615905, -10.40821751,  -9.92141128,\n",
              "       -11.38839611,  -9.26954764,  -9.43728591,  -9.19098253,\n",
              "        -9.6175471 ,  -9.41241163])"
            ]
          },
          "execution_count": 85,
          "metadata": {},
          "output_type": "execute_result"
        }
      ],
      "source": [
        "np.random.normal(-10,1, size=10)"
      ]
    },
    {
      "cell_type": "code",
      "execution_count": null,
      "metadata": {
        "colab": {
          "base_uri": "https://localhost:8080/"
        },
        "id": "Z0YL2hj2cdm0",
        "outputId": "1691ddba-89b5-4b42-9eda-3ad96ec84332"
      },
      "outputs": [
        {
          "data": {
            "text/plain": [
              "array([  8.28902972, -13.58036839,  -4.77487348,   6.4268753 ,\n",
              "        13.6717679 ,  11.99435534,  -3.5173504 ,  11.50572454,\n",
              "        11.52720325,  27.36836963])"
            ]
          },
          "execution_count": 86,
          "metadata": {},
          "output_type": "execute_result"
        }
      ],
      "source": [
        "np.random.normal(0,10, size=10)"
      ]
    },
    {
      "cell_type": "code",
      "execution_count": null,
      "metadata": {
        "colab": {
          "base_uri": "https://localhost:8080/"
        },
        "id": "L6VG_qayci9b",
        "outputId": "18c450e8-ccd5-4499-9982-6ea80757abe6"
      },
      "outputs": [
        {
          "data": {
            "text/plain": [
              "array([1.09870787, 0.21215105, 0.94085844, 1.22651242, 0.15368421,\n",
              "       0.93064508, 1.1794866 , 0.27830121, 1.07760758, 2.29915315])"
            ]
          },
          "execution_count": 89,
          "metadata": {},
          "output_type": "execute_result"
        }
      ],
      "source": [
        "np.abs(np.random.normal(loc=0.0, scale=1.0, size=10))"
      ]
    },
    {
      "cell_type": "code",
      "execution_count": null,
      "metadata": {
        "colab": {
          "base_uri": "https://localhost:8080/"
        },
        "id": "IMPg3kixc3GB",
        "outputId": "a45c412f-fc76-4204-c074-a434fb61a02e"
      },
      "outputs": [
        {
          "data": {
            "text/plain": [
              "array([3.00590339e-01, 5.73015995e+00, 2.93951204e-04, 7.77866938e-03,\n",
              "       3.57621693e-02, 4.68870177e+00, 1.83314066e+00, 3.54368525e-02,\n",
              "       1.03509142e+01, 5.99573151e-01])"
            ]
          },
          "execution_count": 91,
          "metadata": {},
          "output_type": "execute_result"
        }
      ],
      "source": [
        "np.power(np.random.normal(loc=0.0, scale=1.0, size=10), 4)  # لیست(ارری) را به توان ۴ رساندم"
      ]
    },
    {
      "cell_type": "code",
      "execution_count": null,
      "metadata": {
        "id": "UUTLQx-4dKjS"
      },
      "outputs": [],
      "source": [
        "c = np.array([[[i*j*k for i in range(10)] for j in range(10)] for k in range(10)])"
      ]
    },
    {
      "cell_type": "code",
      "execution_count": null,
      "metadata": {
        "colab": {
          "base_uri": "https://localhost:8080/"
        },
        "id": "QhMkCln3gUXe",
        "outputId": "18869ed8-d81f-40e1-8dd1-96cfd5f78d60"
      },
      "outputs": [
        {
          "data": {
            "text/plain": [
              "array([[[  0,   0,   0,   0,   0,   0,   0,   0,   0,   0],\n",
              "        [  0,   0,   0,   0,   0,   0,   0,   0,   0,   0],\n",
              "        [  0,   0,   0,   0,   0,   0,   0,   0,   0,   0],\n",
              "        [  0,   0,   0,   0,   0,   0,   0,   0,   0,   0],\n",
              "        [  0,   0,   0,   0,   0,   0,   0,   0,   0,   0],\n",
              "        [  0,   0,   0,   0,   0,   0,   0,   0,   0,   0],\n",
              "        [  0,   0,   0,   0,   0,   0,   0,   0,   0,   0],\n",
              "        [  0,   0,   0,   0,   0,   0,   0,   0,   0,   0],\n",
              "        [  0,   0,   0,   0,   0,   0,   0,   0,   0,   0],\n",
              "        [  0,   0,   0,   0,   0,   0,   0,   0,   0,   0]],\n",
              "\n",
              "       [[  0,   0,   0,   0,   0,   0,   0,   0,   0,   0],\n",
              "        [  0,   1,   2,   3,   4,   5,   6,   7,   8,   9],\n",
              "        [  0,   2,   4,   6,   8,  10,  12,  14,  16,  18],\n",
              "        [  0,   3,   6,   9,  12,  15,  18,  21,  24,  27],\n",
              "        [  0,   4,   8,  12,  16,  20,  24,  28,  32,  36],\n",
              "        [  0,   5,  10,  15,  20,  25,  30,  35,  40,  45],\n",
              "        [  0,   6,  12,  18,  24,  30,  36,  42,  48,  54],\n",
              "        [  0,   7,  14,  21,  28,  35,  42,  49,  56,  63],\n",
              "        [  0,   8,  16,  24,  32,  40,  48,  56,  64,  72],\n",
              "        [  0,   9,  18,  27,  36,  45,  54,  63,  72,  81]],\n",
              "\n",
              "       [[  0,   0,   0,   0,   0,   0,   0,   0,   0,   0],\n",
              "        [  0,   2,   4,   6,   8,  10,  12,  14,  16,  18],\n",
              "        [  0,   4,   8,  12,  16,  20,  24,  28,  32,  36],\n",
              "        [  0,   6,  12,  18,  24,  30,  36,  42,  48,  54],\n",
              "        [  0,   8,  16,  24,  32,  40,  48,  56,  64,  72],\n",
              "        [  0,  10,  20,  30,  40,  50,  60,  70,  80,  90],\n",
              "        [  0,  12,  24,  36,  48,  60,  72,  84,  96, 108],\n",
              "        [  0,  14,  28,  42,  56,  70,  84,  98, 112, 126],\n",
              "        [  0,  16,  32,  48,  64,  80,  96, 112, 128, 144],\n",
              "        [  0,  18,  36,  54,  72,  90, 108, 126, 144, 162]],\n",
              "\n",
              "       [[  0,   0,   0,   0,   0,   0,   0,   0,   0,   0],\n",
              "        [  0,   3,   6,   9,  12,  15,  18,  21,  24,  27],\n",
              "        [  0,   6,  12,  18,  24,  30,  36,  42,  48,  54],\n",
              "        [  0,   9,  18,  27,  36,  45,  54,  63,  72,  81],\n",
              "        [  0,  12,  24,  36,  48,  60,  72,  84,  96, 108],\n",
              "        [  0,  15,  30,  45,  60,  75,  90, 105, 120, 135],\n",
              "        [  0,  18,  36,  54,  72,  90, 108, 126, 144, 162],\n",
              "        [  0,  21,  42,  63,  84, 105, 126, 147, 168, 189],\n",
              "        [  0,  24,  48,  72,  96, 120, 144, 168, 192, 216],\n",
              "        [  0,  27,  54,  81, 108, 135, 162, 189, 216, 243]],\n",
              "\n",
              "       [[  0,   0,   0,   0,   0,   0,   0,   0,   0,   0],\n",
              "        [  0,   4,   8,  12,  16,  20,  24,  28,  32,  36],\n",
              "        [  0,   8,  16,  24,  32,  40,  48,  56,  64,  72],\n",
              "        [  0,  12,  24,  36,  48,  60,  72,  84,  96, 108],\n",
              "        [  0,  16,  32,  48,  64,  80,  96, 112, 128, 144],\n",
              "        [  0,  20,  40,  60,  80, 100, 120, 140, 160, 180],\n",
              "        [  0,  24,  48,  72,  96, 120, 144, 168, 192, 216],\n",
              "        [  0,  28,  56,  84, 112, 140, 168, 196, 224, 252],\n",
              "        [  0,  32,  64,  96, 128, 160, 192, 224, 256, 288],\n",
              "        [  0,  36,  72, 108, 144, 180, 216, 252, 288, 324]],\n",
              "\n",
              "       [[  0,   0,   0,   0,   0,   0,   0,   0,   0,   0],\n",
              "        [  0,   5,  10,  15,  20,  25,  30,  35,  40,  45],\n",
              "        [  0,  10,  20,  30,  40,  50,  60,  70,  80,  90],\n",
              "        [  0,  15,  30,  45,  60,  75,  90, 105, 120, 135],\n",
              "        [  0,  20,  40,  60,  80, 100, 120, 140, 160, 180],\n",
              "        [  0,  25,  50,  75, 100, 125, 150, 175, 200, 225],\n",
              "        [  0,  30,  60,  90, 120, 150, 180, 210, 240, 270],\n",
              "        [  0,  35,  70, 105, 140, 175, 210, 245, 280, 315],\n",
              "        [  0,  40,  80, 120, 160, 200, 240, 280, 320, 360],\n",
              "        [  0,  45,  90, 135, 180, 225, 270, 315, 360, 405]],\n",
              "\n",
              "       [[  0,   0,   0,   0,   0,   0,   0,   0,   0,   0],\n",
              "        [  0,   6,  12,  18,  24,  30,  36,  42,  48,  54],\n",
              "        [  0,  12,  24,  36,  48,  60,  72,  84,  96, 108],\n",
              "        [  0,  18,  36,  54,  72,  90, 108, 126, 144, 162],\n",
              "        [  0,  24,  48,  72,  96, 120, 144, 168, 192, 216],\n",
              "        [  0,  30,  60,  90, 120, 150, 180, 210, 240, 270],\n",
              "        [  0,  36,  72, 108, 144, 180, 216, 252, 288, 324],\n",
              "        [  0,  42,  84, 126, 168, 210, 252, 294, 336, 378],\n",
              "        [  0,  48,  96, 144, 192, 240, 288, 336, 384, 432],\n",
              "        [  0,  54, 108, 162, 216, 270, 324, 378, 432, 486]],\n",
              "\n",
              "       [[  0,   0,   0,   0,   0,   0,   0,   0,   0,   0],\n",
              "        [  0,   7,  14,  21,  28,  35,  42,  49,  56,  63],\n",
              "        [  0,  14,  28,  42,  56,  70,  84,  98, 112, 126],\n",
              "        [  0,  21,  42,  63,  84, 105, 126, 147, 168, 189],\n",
              "        [  0,  28,  56,  84, 112, 140, 168, 196, 224, 252],\n",
              "        [  0,  35,  70, 105, 140, 175, 210, 245, 280, 315],\n",
              "        [  0,  42,  84, 126, 168, 210, 252, 294, 336, 378],\n",
              "        [  0,  49,  98, 147, 196, 245, 294, 343, 392, 441],\n",
              "        [  0,  56, 112, 168, 224, 280, 336, 392, 448, 504],\n",
              "        [  0,  63, 126, 189, 252, 315, 378, 441, 504, 567]],\n",
              "\n",
              "       [[  0,   0,   0,   0,   0,   0,   0,   0,   0,   0],\n",
              "        [  0,   8,  16,  24,  32,  40,  48,  56,  64,  72],\n",
              "        [  0,  16,  32,  48,  64,  80,  96, 112, 128, 144],\n",
              "        [  0,  24,  48,  72,  96, 120, 144, 168, 192, 216],\n",
              "        [  0,  32,  64,  96, 128, 160, 192, 224, 256, 288],\n",
              "        [  0,  40,  80, 120, 160, 200, 240, 280, 320, 360],\n",
              "        [  0,  48,  96, 144, 192, 240, 288, 336, 384, 432],\n",
              "        [  0,  56, 112, 168, 224, 280, 336, 392, 448, 504],\n",
              "        [  0,  64, 128, 192, 256, 320, 384, 448, 512, 576],\n",
              "        [  0,  72, 144, 216, 288, 360, 432, 504, 576, 648]],\n",
              "\n",
              "       [[  0,   0,   0,   0,   0,   0,   0,   0,   0,   0],\n",
              "        [  0,   9,  18,  27,  36,  45,  54,  63,  72,  81],\n",
              "        [  0,  18,  36,  54,  72,  90, 108, 126, 144, 162],\n",
              "        [  0,  27,  54,  81, 108, 135, 162, 189, 216, 243],\n",
              "        [  0,  36,  72, 108, 144, 180, 216, 252, 288, 324],\n",
              "        [  0,  45,  90, 135, 180, 225, 270, 315, 360, 405],\n",
              "        [  0,  54, 108, 162, 216, 270, 324, 378, 432, 486],\n",
              "        [  0,  63, 126, 189, 252, 315, 378, 441, 504, 567],\n",
              "        [  0,  72, 144, 216, 288, 360, 432, 504, 576, 648],\n",
              "        [  0,  81, 162, 243, 324, 405, 486, 567, 648, 729]]])"
            ]
          },
          "execution_count": 93,
          "metadata": {},
          "output_type": "execute_result"
        }
      ],
      "source": [
        "c"
      ]
    },
    {
      "cell_type": "code",
      "execution_count": null,
      "metadata": {
        "id": "r3PgO22BvaNS"
      },
      "outputs": [],
      "source": [
        "import numpy as np"
      ]
    },
    {
      "cell_type": "code",
      "execution_count": null,
      "metadata": {
        "id": "XTBt4wsmvg_G"
      },
      "outputs": [],
      "source": [
        "np.random.seed(0)"
      ]
    },
    {
      "cell_type": "code",
      "execution_count": null,
      "metadata": {
        "colab": {
          "base_uri": "https://localhost:8080/"
        },
        "id": "pUIXV0MjwasF",
        "outputId": "257b1fcc-9d0c-48a2-e42d-f154eb477ff9"
      },
      "outputs": [
        {
          "data": {
            "text/plain": [
              "3"
            ]
          },
          "execution_count": 6,
          "metadata": {},
          "output_type": "execute_result"
        }
      ],
      "source": [
        "np.random.randint(10)"
      ]
    },
    {
      "cell_type": "code",
      "execution_count": null,
      "metadata": {
        "id": "hfflvNZjwdXe"
      },
      "outputs": [],
      "source": [
        "import random"
      ]
    },
    {
      "cell_type": "code",
      "execution_count": null,
      "metadata": {
        "id": "F2uaO75Lw1H3"
      },
      "outputs": [],
      "source": [
        "random.seed(0)"
      ]
    },
    {
      "cell_type": "code",
      "execution_count": null,
      "metadata": {
        "id": "p1k0DAirxyH5"
      },
      "outputs": [],
      "source": [
        "a = np.random.uniform(size=10)"
      ]
    },
    {
      "cell_type": "code",
      "execution_count": null,
      "metadata": {
        "id": "Ma8TOkXYx2PY"
      },
      "outputs": [],
      "source": [
        "a.sort()"
      ]
    },
    {
      "cell_type": "code",
      "execution_count": null,
      "metadata": {
        "colab": {
          "base_uri": "https://localhost:8080/"
        },
        "id": "FHu6qenzx7e0",
        "outputId": "3bd04bdc-a860-4160-a9d1-c3452d29505a"
      },
      "outputs": [
        {
          "data": {
            "text/plain": [
              "array([0.14035078, 0.33739616, 0.36824154, 0.3927848 , 0.47360805,\n",
              "       0.64817187, 0.80091075, 0.83607876, 0.87008726, 0.95715516])"
            ]
          },
          "execution_count": 11,
          "metadata": {},
          "output_type": "execute_result"
        }
      ],
      "source": [
        "a"
      ]
    },
    {
      "cell_type": "code",
      "execution_count": null,
      "metadata": {
        "id": "dsl5z8MPx-Gl"
      },
      "outputs": [],
      "source": [
        "b = np.copy(a) # b = a"
      ]
    },
    {
      "cell_type": "code",
      "execution_count": null,
      "metadata": {
        "colab": {
          "base_uri": "https://localhost:8080/"
        },
        "id": "td-fHsEwyAJH",
        "outputId": "be6d63ad-b4f4-4334-d079-d3f8c7e7ebf4"
      },
      "outputs": [
        {
          "data": {
            "text/plain": [
              "dtype('float64')"
            ]
          },
          "execution_count": 15,
          "metadata": {},
          "output_type": "execute_result"
        }
      ],
      "source": [
        "a.dtype"
      ]
    },
    {
      "cell_type": "code",
      "execution_count": null,
      "metadata": {
        "id": "_uBYR-deyeYg"
      },
      "outputs": [],
      "source": [
        "np.float16"
      ]
    },
    {
      "cell_type": "code",
      "execution_count": null,
      "metadata": {
        "colab": {
          "base_uri": "https://localhost:8080/"
        },
        "id": "_kAgVDoFy5B0",
        "outputId": "671adb13-0267-4bbb-81b8-f622f36b9bd6"
      },
      "outputs": [
        {
          "data": {
            "text/plain": [
              "(10,)"
            ]
          },
          "execution_count": 16,
          "metadata": {},
          "output_type": "execute_result"
        }
      ],
      "source": [
        "a.shape"
      ]
    },
    {
      "cell_type": "code",
      "execution_count": null,
      "metadata": {
        "colab": {
          "base_uri": "https://localhost:8080/"
        },
        "id": "hZb1xZ5nzCvF",
        "outputId": "d5c06f79-3d89-49b5-d3b9-f496e6637d7b"
      },
      "outputs": [
        {
          "data": {
            "text/plain": [
              "array([[0.14035078, 0.33739616, 0.36824154, 0.3927848 , 0.47360805],\n",
              "       [0.64817187, 0.80091075, 0.83607876, 0.87008726, 0.95715516]])"
            ]
          },
          "execution_count": 17,
          "metadata": {},
          "output_type": "execute_result"
        }
      ],
      "source": [
        "np.reshape(a,(2,5))"
      ]
    },
    {
      "cell_type": "code",
      "execution_count": null,
      "metadata": {
        "colab": {
          "base_uri": "https://localhost:8080/",
          "height": 287
        },
        "id": "jisfAjeIzI7r",
        "outputId": "40c28510-1e81-4b77-957f-ae07798a604f"
      },
      "outputs": [
        {
          "ename": "ValueError",
          "evalue": "cannot reshape array of size 10 into shape (3,3)",
          "output_type": "error",
          "traceback": [
            "\u001b[0;31m---------------------------------------------------------------------------\u001b[0m",
            "\u001b[0;31mValueError\u001b[0m                                Traceback (most recent call last)",
            "\u001b[0;32m<ipython-input-18-4762d9989a4f>\u001b[0m in \u001b[0;36m<cell line: 1>\u001b[0;34m()\u001b[0m\n\u001b[0;32m----> 1\u001b[0;31m \u001b[0mnp\u001b[0m\u001b[0;34m.\u001b[0m\u001b[0mreshape\u001b[0m\u001b[0;34m(\u001b[0m\u001b[0ma\u001b[0m\u001b[0;34m,\u001b[0m\u001b[0;34m(\u001b[0m\u001b[0;36m3\u001b[0m\u001b[0;34m,\u001b[0m\u001b[0;36m3\u001b[0m\u001b[0;34m)\u001b[0m\u001b[0;34m)\u001b[0m\u001b[0;34m\u001b[0m\u001b[0;34m\u001b[0m\u001b[0m\n\u001b[0m",
            "\u001b[0;32m/usr/local/lib/python3.10/dist-packages/numpy/core/fromnumeric.py\u001b[0m in \u001b[0;36mreshape\u001b[0;34m(a, newshape, order)\u001b[0m\n\u001b[1;32m    283\u001b[0m            [5, 6]])\n\u001b[1;32m    284\u001b[0m     \"\"\"\n\u001b[0;32m--> 285\u001b[0;31m     \u001b[0;32mreturn\u001b[0m \u001b[0m_wrapfunc\u001b[0m\u001b[0;34m(\u001b[0m\u001b[0ma\u001b[0m\u001b[0;34m,\u001b[0m \u001b[0;34m'reshape'\u001b[0m\u001b[0;34m,\u001b[0m \u001b[0mnewshape\u001b[0m\u001b[0;34m,\u001b[0m \u001b[0morder\u001b[0m\u001b[0;34m=\u001b[0m\u001b[0morder\u001b[0m\u001b[0;34m)\u001b[0m\u001b[0;34m\u001b[0m\u001b[0;34m\u001b[0m\u001b[0m\n\u001b[0m\u001b[1;32m    286\u001b[0m \u001b[0;34m\u001b[0m\u001b[0m\n\u001b[1;32m    287\u001b[0m \u001b[0;34m\u001b[0m\u001b[0m\n",
            "\u001b[0;32m/usr/local/lib/python3.10/dist-packages/numpy/core/fromnumeric.py\u001b[0m in \u001b[0;36m_wrapfunc\u001b[0;34m(obj, method, *args, **kwds)\u001b[0m\n\u001b[1;32m     57\u001b[0m \u001b[0;34m\u001b[0m\u001b[0m\n\u001b[1;32m     58\u001b[0m     \u001b[0;32mtry\u001b[0m\u001b[0;34m:\u001b[0m\u001b[0;34m\u001b[0m\u001b[0;34m\u001b[0m\u001b[0m\n\u001b[0;32m---> 59\u001b[0;31m         \u001b[0;32mreturn\u001b[0m \u001b[0mbound\u001b[0m\u001b[0;34m(\u001b[0m\u001b[0;34m*\u001b[0m\u001b[0margs\u001b[0m\u001b[0;34m,\u001b[0m \u001b[0;34m**\u001b[0m\u001b[0mkwds\u001b[0m\u001b[0;34m)\u001b[0m\u001b[0;34m\u001b[0m\u001b[0;34m\u001b[0m\u001b[0m\n\u001b[0m\u001b[1;32m     60\u001b[0m     \u001b[0;32mexcept\u001b[0m \u001b[0mTypeError\u001b[0m\u001b[0;34m:\u001b[0m\u001b[0;34m\u001b[0m\u001b[0;34m\u001b[0m\u001b[0m\n\u001b[1;32m     61\u001b[0m         \u001b[0;31m# A TypeError occurs if the object does have such a method in its\u001b[0m\u001b[0;34m\u001b[0m\u001b[0;34m\u001b[0m\u001b[0m\n",
            "\u001b[0;31mValueError\u001b[0m: cannot reshape array of size 10 into shape (3,3)"
          ]
        }
      ],
      "source": [
        "np.reshape(a,(3,3)) # این ارور میدهد باید طول اری شما به شیپ قابل تقسیم باشد"
      ]
    },
    {
      "cell_type": "code",
      "execution_count": null,
      "metadata": {
        "id": "jls4s8PwzNva"
      },
      "outputs": [],
      "source": [
        "b = np.random.uniform(size=(12,7,3))"
      ]
    },
    {
      "cell_type": "code",
      "execution_count": null,
      "metadata": {
        "colab": {
          "base_uri": "https://localhost:8080/"
        },
        "id": "bbLK4x8rzlny",
        "outputId": "52ffce2d-9b2a-4df5-b86d-92b1aba480a5"
      },
      "outputs": [
        {
          "data": {
            "text/plain": [
              "array([[[5.20477480e-01, 6.78879530e-01, 7.20632655e-01],\n",
              "        [5.82019792e-01, 5.37373229e-01, 7.58615624e-01],\n",
              "        [1.05907607e-01, 4.73600419e-01, 1.86332343e-01],\n",
              "        [7.36918177e-01, 2.16550354e-01, 1.35218173e-01],\n",
              "        [3.24141008e-01, 1.49674867e-01, 2.22321388e-01],\n",
              "        [3.86488981e-01, 9.02598476e-01, 4.49949990e-01],\n",
              "        [6.13063458e-01, 9.02348583e-01, 9.92803504e-02]],\n",
              "\n",
              "       [[9.69809068e-01, 6.53140036e-01, 1.70909585e-01],\n",
              "        [3.58152167e-01, 7.50686141e-01, 6.07830669e-01],\n",
              "        [3.25047229e-01, 3.84254265e-02, 6.34274058e-01],\n",
              "        [9.58949269e-01, 6.52790317e-01, 6.35058874e-01],\n",
              "        [9.95299568e-01, 5.81850329e-01, 4.14368588e-01],\n",
              "        [4.74697502e-01, 6.23510101e-01, 3.38007615e-01],\n",
              "        [6.74752322e-01, 3.17201742e-01, 7.78345482e-01]],\n",
              "\n",
              "       [[9.49571053e-01, 6.62526867e-01, 1.35716356e-02],\n",
              "        [6.22846096e-01, 6.73659631e-01, 9.71945002e-01],\n",
              "        [8.78193471e-01, 5.09624377e-01, 5.57146937e-02],\n",
              "        [4.51159215e-01, 1.99876654e-02, 4.41710921e-01],\n",
              "        [9.79586729e-01, 3.59444464e-01, 4.80893531e-01],\n",
              "        [6.88661183e-01, 8.80475889e-01, 9.18235466e-01],\n",
              "        [2.16822138e-01, 5.65188867e-01, 8.65102561e-01]],\n",
              "\n",
              "       [[5.08968961e-01, 9.16722954e-01, 9.21157610e-01],\n",
              "        [8.31124926e-02, 2.77718561e-01, 9.35670486e-03],\n",
              "        [8.42342080e-01, 6.47174140e-01, 8.41386119e-01],\n",
              "        [2.64730164e-01, 3.97820753e-01, 5.52821480e-01],\n",
              "        [1.64940460e-01, 3.69808093e-01, 1.46441763e-01],\n",
              "        [5.69618406e-01, 7.03737279e-01, 2.88476437e-01],\n",
              "        [4.33288062e-01, 7.56106694e-01, 3.96098275e-01]],\n",
              "\n",
              "       [[8.96038388e-01, 6.38921076e-01, 8.91554437e-01],\n",
              "        [6.80055569e-01, 4.49197738e-01, 9.78570928e-01],\n",
              "        [1.16201910e-01, 7.67023704e-01, 4.11820139e-01],\n",
              "        [6.75439081e-01, 2.49796276e-01, 3.13218332e-01],\n",
              "        [9.65416221e-01, 5.88465085e-01, 6.59668412e-01],\n",
              "        [5.33206254e-01, 2.30533024e-01, 3.94869293e-01],\n",
              "        [6.18808565e-01, 4.74867515e-01, 4.70132189e-01]],\n",
              "\n",
              "       [[7.16074531e-01, 2.87991004e-01, 3.83462225e-01],\n",
              "        [7.49169837e-01, 8.78452190e-01, 1.02863359e-01],\n",
              "        [9.23738895e-02, 3.54046662e-01, 5.51816259e-01],\n",
              "        [3.36250935e-02, 9.68961765e-01, 3.20997241e-01],\n",
              "        [2.21262685e-01, 1.41263905e-01, 9.72599271e-02],\n",
              "        [9.84042241e-01, 2.60340928e-01, 5.37022521e-01],\n",
              "        [4.47926172e-01, 9.95690891e-02, 3.52311661e-01]],\n",
              "\n",
              "       [[4.69249174e-01, 8.41140130e-01, 9.04647744e-01],\n",
              "        [3.75593838e-02, 5.08315449e-01, 1.66847513e-01],\n",
              "        [7.79051020e-01, 8.64933296e-01, 4.11396724e-01],\n",
              "        [1.39972585e-01, 3.32223853e-02, 9.82574960e-01],\n",
              "        [3.73290751e-01, 4.20075370e-01, 5.05881151e-02],\n",
              "        [3.65496106e-01, 1.66279737e-02, 2.30742335e-01],\n",
              "        [7.64911699e-01, 9.44123519e-01, 7.49999249e-01]],\n",
              "\n",
              "       [[3.39403819e-01, 4.89548937e-01, 3.38985117e-01],\n",
              "        [1.79490261e-01, 1.70986599e-01, 4.63450977e-01],\n",
              "        [8.74572958e-01, 9.44119751e-01, 6.08252866e-01],\n",
              "        [5.96655406e-01, 7.83644245e-01, 5.00026298e-01],\n",
              "        [5.03700568e-02, 6.99098075e-01, 9.92396399e-01],\n",
              "        [2.67262538e-01, 6.79090616e-01, 8.64281443e-01],\n",
              "        [7.50844246e-01, 9.64489768e-01, 5.54242435e-01]],\n",
              "\n",
              "       [[2.12390499e-01, 2.22443224e-01, 2.18749374e-01],\n",
              "        [5.69573535e-01, 4.52109035e-01, 9.70236683e-01],\n",
              "        [6.80544691e-01, 8.52955659e-02, 5.64183327e-02],\n",
              "        [4.87837704e-01, 8.81004562e-01, 9.76404387e-01],\n",
              "        [6.17657916e-01, 5.42498775e-01, 8.54613580e-01],\n",
              "        [7.43834545e-01, 4.78596326e-01, 6.77081574e-01],\n",
              "        [6.07045061e-01, 7.14696936e-01, 4.69497183e-01]],\n",
              "\n",
              "       [[4.56014623e-01, 9.06418087e-01, 1.37220420e-01],\n",
              "        [2.29219323e-01, 8.81585399e-01, 9.04424976e-01],\n",
              "        [6.45784599e-01, 3.24682972e-01, 5.19711194e-01],\n",
              "        [5.53568650e-05, 3.11860221e-01, 4.25451538e-01],\n",
              "        [8.85337660e-01, 6.79879456e-01, 4.56129772e-01],\n",
              "        [4.83408617e-01, 7.88739428e-01, 2.29441834e-01],\n",
              "        [8.80297603e-01, 3.13692393e-01, 9.57450856e-01]],\n",
              "\n",
              "       [[4.71751571e-01, 7.11583817e-01, 1.53694305e-01],\n",
              "        [7.30442177e-01, 6.46264437e-01, 2.14880737e-01],\n",
              "        [1.86458219e-01, 8.07580269e-01, 7.47079470e-01],\n",
              "        [6.74847346e-01, 2.76893751e-01, 1.74908874e-01],\n",
              "        [7.04474258e-01, 4.63150200e-01, 8.40428533e-01],\n",
              "        [2.04865762e-01, 1.64958868e-01, 1.24833057e-01],\n",
              "        [7.22080662e-01, 3.04529649e-02, 7.46994240e-01]],\n",
              "\n",
              "       [[9.25961651e-02, 2.17450493e-01, 7.49254417e-01],\n",
              "        [7.31693756e-01, 4.56146372e-02, 2.09157029e-01],\n",
              "        [2.86915043e-01, 6.77263305e-01, 6.30382897e-02],\n",
              "        [5.55649243e-01, 9.24007349e-03, 8.33038098e-01],\n",
              "        [9.84329434e-01, 7.03494784e-01, 1.81631200e-01],\n",
              "        [5.12393463e-01, 5.80447137e-01, 7.87542156e-01],\n",
              "        [6.06475460e-01, 2.18402855e-01, 4.55168815e-01]]])"
            ]
          },
          "execution_count": 21,
          "metadata": {},
          "output_type": "execute_result"
        }
      ],
      "source": [
        "b"
      ]
    },
    {
      "cell_type": "code",
      "execution_count": null,
      "metadata": {
        "colab": {
          "base_uri": "https://localhost:8080/"
        },
        "id": "LISMhWz-zuou",
        "outputId": "ce9d2122-69a2-4ed7-e309-04e531e01b91"
      },
      "outputs": [
        {
          "data": {
            "text/plain": [
              "(12, 7, 3)"
            ]
          },
          "execution_count": 22,
          "metadata": {},
          "output_type": "execute_result"
        }
      ],
      "source": [
        "b.shape"
      ]
    },
    {
      "cell_type": "code",
      "execution_count": null,
      "metadata": {
        "colab": {
          "base_uri": "https://localhost:8080/"
        },
        "id": "47E7CsFIzzPB",
        "outputId": "265ae2a4-8f92-43af-d3aa-4046e3d62e07"
      },
      "outputs": [
        {
          "data": {
            "text/plain": [
              "252"
            ]
          },
          "execution_count": 23,
          "metadata": {},
          "output_type": "execute_result"
        }
      ],
      "source": [
        "12 * 7 * 3"
      ]
    },
    {
      "cell_type": "code",
      "execution_count": null,
      "metadata": {
        "colab": {
          "base_uri": "https://localhost:8080/"
        },
        "id": "HaVLU1wJz-51",
        "outputId": "9d0e6c8f-f89b-400a-efa3-70d36d0ebd3b"
      },
      "outputs": [
        {
          "data": {
            "text/plain": [
              "28.0"
            ]
          },
          "execution_count": 28,
          "metadata": {},
          "output_type": "execute_result"
        }
      ],
      "source": [
        "252/9"
      ]
    },
    {
      "cell_type": "code",
      "execution_count": null,
      "metadata": {
        "colab": {
          "base_uri": "https://localhost:8080/"
        },
        "id": "Lj_zmIbpz2o-",
        "outputId": "7a6d1ae1-7638-4496-fcbe-6e8b67037c4d"
      },
      "outputs": [
        {
          "data": {
            "text/plain": [
              "array([[[5.20477480e-01, 6.78879530e-01, 7.20632655e-01, 5.82019792e-01,\n",
              "         5.37373229e-01, 7.58615624e-01, 1.05907607e-01],\n",
              "        [4.73600419e-01, 1.86332343e-01, 7.36918177e-01, 2.16550354e-01,\n",
              "         1.35218173e-01, 3.24141008e-01, 1.49674867e-01],\n",
              "        [2.22321388e-01, 3.86488981e-01, 9.02598476e-01, 4.49949990e-01,\n",
              "         6.13063458e-01, 9.02348583e-01, 9.92803504e-02],\n",
              "        [9.69809068e-01, 6.53140036e-01, 1.70909585e-01, 3.58152167e-01,\n",
              "         7.50686141e-01, 6.07830669e-01, 3.25047229e-01],\n",
              "        [3.84254265e-02, 6.34274058e-01, 9.58949269e-01, 6.52790317e-01,\n",
              "         6.35058874e-01, 9.95299568e-01, 5.81850329e-01],\n",
              "        [4.14368588e-01, 4.74697502e-01, 6.23510101e-01, 3.38007615e-01,\n",
              "         6.74752322e-01, 3.17201742e-01, 7.78345482e-01]],\n",
              "\n",
              "       [[9.49571053e-01, 6.62526867e-01, 1.35716356e-02, 6.22846096e-01,\n",
              "         6.73659631e-01, 9.71945002e-01, 8.78193471e-01],\n",
              "        [5.09624377e-01, 5.57146937e-02, 4.51159215e-01, 1.99876654e-02,\n",
              "         4.41710921e-01, 9.79586729e-01, 3.59444464e-01],\n",
              "        [4.80893531e-01, 6.88661183e-01, 8.80475889e-01, 9.18235466e-01,\n",
              "         2.16822138e-01, 5.65188867e-01, 8.65102561e-01],\n",
              "        [5.08968961e-01, 9.16722954e-01, 9.21157610e-01, 8.31124926e-02,\n",
              "         2.77718561e-01, 9.35670486e-03, 8.42342080e-01],\n",
              "        [6.47174140e-01, 8.41386119e-01, 2.64730164e-01, 3.97820753e-01,\n",
              "         5.52821480e-01, 1.64940460e-01, 3.69808093e-01],\n",
              "        [1.46441763e-01, 5.69618406e-01, 7.03737279e-01, 2.88476437e-01,\n",
              "         4.33288062e-01, 7.56106694e-01, 3.96098275e-01]],\n",
              "\n",
              "       [[8.96038388e-01, 6.38921076e-01, 8.91554437e-01, 6.80055569e-01,\n",
              "         4.49197738e-01, 9.78570928e-01, 1.16201910e-01],\n",
              "        [7.67023704e-01, 4.11820139e-01, 6.75439081e-01, 2.49796276e-01,\n",
              "         3.13218332e-01, 9.65416221e-01, 5.88465085e-01],\n",
              "        [6.59668412e-01, 5.33206254e-01, 2.30533024e-01, 3.94869293e-01,\n",
              "         6.18808565e-01, 4.74867515e-01, 4.70132189e-01],\n",
              "        [7.16074531e-01, 2.87991004e-01, 3.83462225e-01, 7.49169837e-01,\n",
              "         8.78452190e-01, 1.02863359e-01, 9.23738895e-02],\n",
              "        [3.54046662e-01, 5.51816259e-01, 3.36250935e-02, 9.68961765e-01,\n",
              "         3.20997241e-01, 2.21262685e-01, 1.41263905e-01],\n",
              "        [9.72599271e-02, 9.84042241e-01, 2.60340928e-01, 5.37022521e-01,\n",
              "         4.47926172e-01, 9.95690891e-02, 3.52311661e-01]],\n",
              "\n",
              "       [[4.69249174e-01, 8.41140130e-01, 9.04647744e-01, 3.75593838e-02,\n",
              "         5.08315449e-01, 1.66847513e-01, 7.79051020e-01],\n",
              "        [8.64933296e-01, 4.11396724e-01, 1.39972585e-01, 3.32223853e-02,\n",
              "         9.82574960e-01, 3.73290751e-01, 4.20075370e-01],\n",
              "        [5.05881151e-02, 3.65496106e-01, 1.66279737e-02, 2.30742335e-01,\n",
              "         7.64911699e-01, 9.44123519e-01, 7.49999249e-01],\n",
              "        [3.39403819e-01, 4.89548937e-01, 3.38985117e-01, 1.79490261e-01,\n",
              "         1.70986599e-01, 4.63450977e-01, 8.74572958e-01],\n",
              "        [9.44119751e-01, 6.08252866e-01, 5.96655406e-01, 7.83644245e-01,\n",
              "         5.00026298e-01, 5.03700568e-02, 6.99098075e-01],\n",
              "        [9.92396399e-01, 2.67262538e-01, 6.79090616e-01, 8.64281443e-01,\n",
              "         7.50844246e-01, 9.64489768e-01, 5.54242435e-01]],\n",
              "\n",
              "       [[2.12390499e-01, 2.22443224e-01, 2.18749374e-01, 5.69573535e-01,\n",
              "         4.52109035e-01, 9.70236683e-01, 6.80544691e-01],\n",
              "        [8.52955659e-02, 5.64183327e-02, 4.87837704e-01, 8.81004562e-01,\n",
              "         9.76404387e-01, 6.17657916e-01, 5.42498775e-01],\n",
              "        [8.54613580e-01, 7.43834545e-01, 4.78596326e-01, 6.77081574e-01,\n",
              "         6.07045061e-01, 7.14696936e-01, 4.69497183e-01],\n",
              "        [4.56014623e-01, 9.06418087e-01, 1.37220420e-01, 2.29219323e-01,\n",
              "         8.81585399e-01, 9.04424976e-01, 6.45784599e-01],\n",
              "        [3.24682972e-01, 5.19711194e-01, 5.53568650e-05, 3.11860221e-01,\n",
              "         4.25451538e-01, 8.85337660e-01, 6.79879456e-01],\n",
              "        [4.56129772e-01, 4.83408617e-01, 7.88739428e-01, 2.29441834e-01,\n",
              "         8.80297603e-01, 3.13692393e-01, 9.57450856e-01]],\n",
              "\n",
              "       [[4.71751571e-01, 7.11583817e-01, 1.53694305e-01, 7.30442177e-01,\n",
              "         6.46264437e-01, 2.14880737e-01, 1.86458219e-01],\n",
              "        [8.07580269e-01, 7.47079470e-01, 6.74847346e-01, 2.76893751e-01,\n",
              "         1.74908874e-01, 7.04474258e-01, 4.63150200e-01],\n",
              "        [8.40428533e-01, 2.04865762e-01, 1.64958868e-01, 1.24833057e-01,\n",
              "         7.22080662e-01, 3.04529649e-02, 7.46994240e-01],\n",
              "        [9.25961651e-02, 2.17450493e-01, 7.49254417e-01, 7.31693756e-01,\n",
              "         4.56146372e-02, 2.09157029e-01, 2.86915043e-01],\n",
              "        [6.77263305e-01, 6.30382897e-02, 5.55649243e-01, 9.24007349e-03,\n",
              "         8.33038098e-01, 9.84329434e-01, 7.03494784e-01],\n",
              "        [1.81631200e-01, 5.12393463e-01, 5.80447137e-01, 7.87542156e-01,\n",
              "         6.06475460e-01, 2.18402855e-01, 4.55168815e-01]]])"
            ]
          },
          "execution_count": 27,
          "metadata": {},
          "output_type": "execute_result"
        }
      ],
      "source": [
        "np.reshape(b,(6,6,7))"
      ]
    },
    {
      "cell_type": "code",
      "execution_count": null,
      "metadata": {
        "colab": {
          "base_uri": "https://localhost:8080/"
        },
        "id": "ky0dK34Tz5Zi",
        "outputId": "12707fcd-cc79-43b4-a5a1-364ffb4e9c8a"
      },
      "outputs": [
        {
          "data": {
            "text/plain": [
              "array([[[5.20477480e-01, 6.78879530e-01, 7.20632655e-01, 5.82019792e-01],\n",
              "        [5.37373229e-01, 7.58615624e-01, 1.05907607e-01, 4.73600419e-01],\n",
              "        [1.86332343e-01, 7.36918177e-01, 2.16550354e-01, 1.35218173e-01],\n",
              "        [3.24141008e-01, 1.49674867e-01, 2.22321388e-01, 3.86488981e-01],\n",
              "        [9.02598476e-01, 4.49949990e-01, 6.13063458e-01, 9.02348583e-01],\n",
              "        [9.92803504e-02, 9.69809068e-01, 6.53140036e-01, 1.70909585e-01],\n",
              "        [3.58152167e-01, 7.50686141e-01, 6.07830669e-01, 3.25047229e-01]],\n",
              "\n",
              "       [[3.84254265e-02, 6.34274058e-01, 9.58949269e-01, 6.52790317e-01],\n",
              "        [6.35058874e-01, 9.95299568e-01, 5.81850329e-01, 4.14368588e-01],\n",
              "        [4.74697502e-01, 6.23510101e-01, 3.38007615e-01, 6.74752322e-01],\n",
              "        [3.17201742e-01, 7.78345482e-01, 9.49571053e-01, 6.62526867e-01],\n",
              "        [1.35716356e-02, 6.22846096e-01, 6.73659631e-01, 9.71945002e-01],\n",
              "        [8.78193471e-01, 5.09624377e-01, 5.57146937e-02, 4.51159215e-01],\n",
              "        [1.99876654e-02, 4.41710921e-01, 9.79586729e-01, 3.59444464e-01]],\n",
              "\n",
              "       [[4.80893531e-01, 6.88661183e-01, 8.80475889e-01, 9.18235466e-01],\n",
              "        [2.16822138e-01, 5.65188867e-01, 8.65102561e-01, 5.08968961e-01],\n",
              "        [9.16722954e-01, 9.21157610e-01, 8.31124926e-02, 2.77718561e-01],\n",
              "        [9.35670486e-03, 8.42342080e-01, 6.47174140e-01, 8.41386119e-01],\n",
              "        [2.64730164e-01, 3.97820753e-01, 5.52821480e-01, 1.64940460e-01],\n",
              "        [3.69808093e-01, 1.46441763e-01, 5.69618406e-01, 7.03737279e-01],\n",
              "        [2.88476437e-01, 4.33288062e-01, 7.56106694e-01, 3.96098275e-01]],\n",
              "\n",
              "       [[8.96038388e-01, 6.38921076e-01, 8.91554437e-01, 6.80055569e-01],\n",
              "        [4.49197738e-01, 9.78570928e-01, 1.16201910e-01, 7.67023704e-01],\n",
              "        [4.11820139e-01, 6.75439081e-01, 2.49796276e-01, 3.13218332e-01],\n",
              "        [9.65416221e-01, 5.88465085e-01, 6.59668412e-01, 5.33206254e-01],\n",
              "        [2.30533024e-01, 3.94869293e-01, 6.18808565e-01, 4.74867515e-01],\n",
              "        [4.70132189e-01, 7.16074531e-01, 2.87991004e-01, 3.83462225e-01],\n",
              "        [7.49169837e-01, 8.78452190e-01, 1.02863359e-01, 9.23738895e-02]],\n",
              "\n",
              "       [[3.54046662e-01, 5.51816259e-01, 3.36250935e-02, 9.68961765e-01],\n",
              "        [3.20997241e-01, 2.21262685e-01, 1.41263905e-01, 9.72599271e-02],\n",
              "        [9.84042241e-01, 2.60340928e-01, 5.37022521e-01, 4.47926172e-01],\n",
              "        [9.95690891e-02, 3.52311661e-01, 4.69249174e-01, 8.41140130e-01],\n",
              "        [9.04647744e-01, 3.75593838e-02, 5.08315449e-01, 1.66847513e-01],\n",
              "        [7.79051020e-01, 8.64933296e-01, 4.11396724e-01, 1.39972585e-01],\n",
              "        [3.32223853e-02, 9.82574960e-01, 3.73290751e-01, 4.20075370e-01]],\n",
              "\n",
              "       [[5.05881151e-02, 3.65496106e-01, 1.66279737e-02, 2.30742335e-01],\n",
              "        [7.64911699e-01, 9.44123519e-01, 7.49999249e-01, 3.39403819e-01],\n",
              "        [4.89548937e-01, 3.38985117e-01, 1.79490261e-01, 1.70986599e-01],\n",
              "        [4.63450977e-01, 8.74572958e-01, 9.44119751e-01, 6.08252866e-01],\n",
              "        [5.96655406e-01, 7.83644245e-01, 5.00026298e-01, 5.03700568e-02],\n",
              "        [6.99098075e-01, 9.92396399e-01, 2.67262538e-01, 6.79090616e-01],\n",
              "        [8.64281443e-01, 7.50844246e-01, 9.64489768e-01, 5.54242435e-01]],\n",
              "\n",
              "       [[2.12390499e-01, 2.22443224e-01, 2.18749374e-01, 5.69573535e-01],\n",
              "        [4.52109035e-01, 9.70236683e-01, 6.80544691e-01, 8.52955659e-02],\n",
              "        [5.64183327e-02, 4.87837704e-01, 8.81004562e-01, 9.76404387e-01],\n",
              "        [6.17657916e-01, 5.42498775e-01, 8.54613580e-01, 7.43834545e-01],\n",
              "        [4.78596326e-01, 6.77081574e-01, 6.07045061e-01, 7.14696936e-01],\n",
              "        [4.69497183e-01, 4.56014623e-01, 9.06418087e-01, 1.37220420e-01],\n",
              "        [2.29219323e-01, 8.81585399e-01, 9.04424976e-01, 6.45784599e-01]],\n",
              "\n",
              "       [[3.24682972e-01, 5.19711194e-01, 5.53568650e-05, 3.11860221e-01],\n",
              "        [4.25451538e-01, 8.85337660e-01, 6.79879456e-01, 4.56129772e-01],\n",
              "        [4.83408617e-01, 7.88739428e-01, 2.29441834e-01, 8.80297603e-01],\n",
              "        [3.13692393e-01, 9.57450856e-01, 4.71751571e-01, 7.11583817e-01],\n",
              "        [1.53694305e-01, 7.30442177e-01, 6.46264437e-01, 2.14880737e-01],\n",
              "        [1.86458219e-01, 8.07580269e-01, 7.47079470e-01, 6.74847346e-01],\n",
              "        [2.76893751e-01, 1.74908874e-01, 7.04474258e-01, 4.63150200e-01]],\n",
              "\n",
              "       [[8.40428533e-01, 2.04865762e-01, 1.64958868e-01, 1.24833057e-01],\n",
              "        [7.22080662e-01, 3.04529649e-02, 7.46994240e-01, 9.25961651e-02],\n",
              "        [2.17450493e-01, 7.49254417e-01, 7.31693756e-01, 4.56146372e-02],\n",
              "        [2.09157029e-01, 2.86915043e-01, 6.77263305e-01, 6.30382897e-02],\n",
              "        [5.55649243e-01, 9.24007349e-03, 8.33038098e-01, 9.84329434e-01],\n",
              "        [7.03494784e-01, 1.81631200e-01, 5.12393463e-01, 5.80447137e-01],\n",
              "        [7.87542156e-01, 6.06475460e-01, 2.18402855e-01, 4.55168815e-01]]])"
            ]
          },
          "execution_count": 29,
          "metadata": {},
          "output_type": "execute_result"
        }
      ],
      "source": [
        "np.reshape(b,(9,7,4))"
      ]
    },
    {
      "cell_type": "code",
      "execution_count": null,
      "metadata": {
        "id": "9_EY_GMf0LjY"
      },
      "outputs": [],
      "source": [
        "c = np.reshape(b,(4,9,7))"
      ]
    },
    {
      "cell_type": "code",
      "execution_count": null,
      "metadata": {
        "id": "jkBfrqjY0Rfd"
      },
      "outputs": [],
      "source": [
        "c.sort(axis=0)"
      ]
    },
    {
      "cell_type": "code",
      "execution_count": null,
      "metadata": {
        "colab": {
          "base_uri": "https://localhost:8080/"
        },
        "id": "bWuTBbZM0V1a",
        "outputId": "da6d6958-0cc3-4bb2-ae58-c576485ad1c5"
      },
      "outputs": [
        {
          "data": {
            "text/plain": [
              "array([[[9.35670486e-03, 8.31124926e-02, 2.77718561e-01, 5.08315449e-01,\n",
              "         6.78879530e-01, 7.20632655e-01, 7.58615624e-01],\n",
              "        [5.53568650e-05, 1.39972585e-01, 1.86332343e-01, 2.16550354e-01,\n",
              "         3.24141008e-01, 4.73600419e-01, 7.36918177e-01],\n",
              "        [1.66279737e-02, 5.05881151e-02, 2.30742335e-01, 3.65496106e-01,\n",
              "         5.69618406e-01, 7.03737279e-01, 7.56106694e-01],\n",
              "        [1.16201910e-01, 1.79490261e-01, 2.14880737e-01, 3.39403819e-01,\n",
              "         4.63450977e-01, 4.89548937e-01, 7.30442177e-01],\n",
              "        [3.84254265e-02, 2.76893751e-01, 4.11820139e-01, 5.88465085e-01,\n",
              "         6.52790317e-01, 7.47079470e-01, 8.07580269e-01],\n",
              "        [3.04529649e-02, 1.24833057e-01, 1.64958868e-01, 2.04865762e-01,\n",
              "         5.33206254e-01, 6.18808565e-01, 6.59668412e-01],\n",
              "        [1.35716356e-02, 9.25961651e-02, 2.09157029e-01, 2.17450493e-01,\n",
              "         2.86915043e-01, 6.80544691e-01, 7.49254417e-01],\n",
              "        [9.24007349e-03, 5.57146937e-02, 2.21262685e-01, 3.20997241e-01,\n",
              "         3.54046662e-01, 5.09624377e-01, 9.68961765e-01],\n",
              "        [9.72599271e-02, 9.95690891e-02, 2.60340928e-01, 3.52311661e-01,\n",
              "         4.47926172e-01, 5.37022521e-01, 7.87542156e-01]],\n",
              "\n",
              "       [[3.75593838e-02, 1.66847513e-01, 4.56014623e-01, 5.08968961e-01,\n",
              "         7.79051020e-01, 8.41140130e-01, 9.04647744e-01],\n",
              "        [3.32223853e-02, 1.49674867e-01, 3.24682972e-01, 3.97820753e-01,\n",
              "         4.20075370e-01, 6.47174140e-01, 8.41386119e-01],\n",
              "        [9.92803504e-02, 2.22321388e-01, 3.86488981e-01, 4.33288062e-01,\n",
              "         6.13063458e-01, 7.64911699e-01, 9.02598476e-01],\n",
              "        [1.53694305e-01, 1.86458219e-01, 3.38985117e-01, 4.71751571e-01,\n",
              "         6.46264437e-01, 7.11583817e-01, 8.74572958e-01],\n",
              "        [5.03700568e-02, 3.13218332e-01, 4.63150200e-01, 6.08252866e-01,\n",
              "         6.75439081e-01, 7.67023704e-01, 9.44119751e-01],\n",
              "        [2.30533024e-01, 3.38007615e-01, 4.14368588e-01, 4.74697502e-01,\n",
              "         6.23510101e-01, 6.74752322e-01, 7.78345482e-01],\n",
              "        [4.56146372e-02, 1.02863359e-01, 2.22443224e-01, 3.83462225e-01,\n",
              "         5.69573535e-01, 7.31693756e-01, 8.78452190e-01],\n",
              "        [1.99876654e-02, 6.30382897e-02, 3.59444464e-01, 4.41710921e-01,\n",
              "         4.51159215e-01, 5.51816259e-01, 9.76404387e-01],\n",
              "        [1.81631200e-01, 2.18402855e-01, 4.55168815e-01, 5.12393463e-01,\n",
              "         5.80447137e-01, 6.06475460e-01, 8.54613580e-01]],\n",
              "\n",
              "       [[1.05907607e-01, 2.29219323e-01, 4.69249174e-01, 5.82019792e-01,\n",
              "         8.42342080e-01, 9.04424976e-01, 9.06418087e-01],\n",
              "        [1.35218173e-01, 2.64730164e-01, 3.69808093e-01, 4.11396724e-01,\n",
              "         5.19711194e-01, 6.79879456e-01, 8.85337660e-01],\n",
              "        [1.46441763e-01, 2.88476437e-01, 3.96098275e-01, 4.49949990e-01,\n",
              "         7.49999249e-01, 8.80297603e-01, 9.44123519e-01],\n",
              "        [1.70909585e-01, 3.25047229e-01, 3.58152167e-01, 6.07830669e-01,\n",
              "         6.53140036e-01, 7.50686141e-01, 9.69809068e-01],\n",
              "        [1.74908874e-01, 5.00026298e-01, 5.96655406e-01, 6.35058874e-01,\n",
              "         6.99098075e-01, 7.83644245e-01, 9.65416221e-01],\n",
              "        [2.67262538e-01, 3.94869293e-01, 4.70132189e-01, 4.74867515e-01,\n",
              "         7.22080662e-01, 7.46994240e-01, 8.40428533e-01],\n",
              "        [9.23738895e-02, 2.18749374e-01, 2.87991004e-01, 4.52109035e-01,\n",
              "         7.16074531e-01, 7.49169837e-01, 9.70236683e-01],\n",
              "        [3.36250935e-02, 8.52955659e-02, 4.87837704e-01, 5.42498775e-01,\n",
              "         6.17657916e-01, 8.33038098e-01, 9.79586729e-01],\n",
              "        [2.16822138e-01, 4.78596326e-01, 5.65188867e-01, 6.77081574e-01,\n",
              "         7.14696936e-01, 7.43834545e-01, 9.18235466e-01]],\n",
              "\n",
              "       [[1.37220420e-01, 5.20477480e-01, 5.37373229e-01, 6.45784599e-01,\n",
              "         8.81585399e-01, 9.16722954e-01, 9.21157610e-01],\n",
              "        [1.64940460e-01, 3.11860221e-01, 3.73290751e-01, 4.25451538e-01,\n",
              "         5.52821480e-01, 8.64933296e-01, 9.82574960e-01],\n",
              "        [2.29441834e-01, 3.13692393e-01, 4.56129772e-01, 4.83408617e-01,\n",
              "         7.88739428e-01, 9.02348583e-01, 9.57450856e-01],\n",
              "        [1.70986599e-01, 4.49197738e-01, 6.38921076e-01, 6.80055569e-01,\n",
              "         8.91554437e-01, 8.96038388e-01, 9.78570928e-01],\n",
              "        [2.49796276e-01, 5.81850329e-01, 6.34274058e-01, 6.74847346e-01,\n",
              "         7.04474258e-01, 9.58949269e-01, 9.95299568e-01],\n",
              "        [3.17201742e-01, 5.54242435e-01, 6.79090616e-01, 7.50844246e-01,\n",
              "         8.64281443e-01, 9.64489768e-01, 9.92396399e-01],\n",
              "        [2.12390499e-01, 6.22846096e-01, 6.62526867e-01, 6.73659631e-01,\n",
              "         8.78193471e-01, 9.49571053e-01, 9.71945002e-01],\n",
              "        [5.64183327e-02, 1.41263905e-01, 5.55649243e-01, 6.77263305e-01,\n",
              "         7.03494784e-01, 8.81004562e-01, 9.84329434e-01],\n",
              "        [4.69497183e-01, 4.80893531e-01, 6.07045061e-01, 6.88661183e-01,\n",
              "         8.65102561e-01, 8.80475889e-01, 9.84042241e-01]]])"
            ]
          },
          "execution_count": 36,
          "metadata": {},
          "output_type": "execute_result"
        }
      ],
      "source": [
        "c"
      ]
    },
    {
      "cell_type": "code",
      "execution_count": null,
      "metadata": {
        "id": "sh-s2Zu900Au"
      },
      "outputs": [],
      "source": [
        "c = np.reshape(b, (9,28))"
      ]
    },
    {
      "cell_type": "code",
      "execution_count": null,
      "metadata": {
        "colab": {
          "base_uri": "https://localhost:8080/"
        },
        "id": "GteyukvJ04cZ",
        "outputId": "cd4ee8f6-b799-42c0-fa3b-49ccba28dd20"
      },
      "outputs": [
        {
          "data": {
            "text/plain": [
              "array([[9.35670486e-03, 8.31124926e-02, 2.77718561e-01, 5.08315449e-01,\n",
              "        6.78879530e-01, 7.20632655e-01, 7.58615624e-01, 5.53568650e-05,\n",
              "        1.39972585e-01, 1.86332343e-01, 2.16550354e-01, 3.24141008e-01,\n",
              "        4.73600419e-01, 7.36918177e-01, 1.66279737e-02, 5.05881151e-02,\n",
              "        2.30742335e-01, 3.65496106e-01, 5.69618406e-01, 7.03737279e-01,\n",
              "        7.56106694e-01, 1.16201910e-01, 1.79490261e-01, 2.14880737e-01,\n",
              "        3.39403819e-01, 4.63450977e-01, 4.89548937e-01, 7.30442177e-01],\n",
              "       [3.84254265e-02, 2.76893751e-01, 4.11820139e-01, 5.88465085e-01,\n",
              "        6.52790317e-01, 7.47079470e-01, 8.07580269e-01, 3.04529649e-02,\n",
              "        1.24833057e-01, 1.64958868e-01, 2.04865762e-01, 5.33206254e-01,\n",
              "        6.18808565e-01, 6.59668412e-01, 1.35716356e-02, 9.25961651e-02,\n",
              "        2.09157029e-01, 2.17450493e-01, 2.86915043e-01, 6.80544691e-01,\n",
              "        7.49254417e-01, 9.24007349e-03, 5.57146937e-02, 2.21262685e-01,\n",
              "        3.20997241e-01, 3.54046662e-01, 5.09624377e-01, 9.68961765e-01],\n",
              "       [9.72599271e-02, 9.95690891e-02, 2.60340928e-01, 3.52311661e-01,\n",
              "        4.47926172e-01, 5.37022521e-01, 7.87542156e-01, 3.75593838e-02,\n",
              "        1.66847513e-01, 4.56014623e-01, 5.08968961e-01, 7.79051020e-01,\n",
              "        8.41140130e-01, 9.04647744e-01, 3.32223853e-02, 1.49674867e-01,\n",
              "        3.24682972e-01, 3.97820753e-01, 4.20075370e-01, 6.47174140e-01,\n",
              "        8.41386119e-01, 9.92803504e-02, 2.22321388e-01, 3.86488981e-01,\n",
              "        4.33288062e-01, 6.13063458e-01, 7.64911699e-01, 9.02598476e-01],\n",
              "       [1.53694305e-01, 1.86458219e-01, 3.38985117e-01, 4.71751571e-01,\n",
              "        6.46264437e-01, 7.11583817e-01, 8.74572958e-01, 5.03700568e-02,\n",
              "        3.13218332e-01, 4.63150200e-01, 6.08252866e-01, 6.75439081e-01,\n",
              "        7.67023704e-01, 9.44119751e-01, 2.30533024e-01, 3.38007615e-01,\n",
              "        4.14368588e-01, 4.74697502e-01, 6.23510101e-01, 6.74752322e-01,\n",
              "        7.78345482e-01, 4.56146372e-02, 1.02863359e-01, 2.22443224e-01,\n",
              "        3.83462225e-01, 5.69573535e-01, 7.31693756e-01, 8.78452190e-01],\n",
              "       [1.99876654e-02, 6.30382897e-02, 3.59444464e-01, 4.41710921e-01,\n",
              "        4.51159215e-01, 5.51816259e-01, 9.76404387e-01, 1.81631200e-01,\n",
              "        2.18402855e-01, 4.55168815e-01, 5.12393463e-01, 5.80447137e-01,\n",
              "        6.06475460e-01, 8.54613580e-01, 1.05907607e-01, 2.29219323e-01,\n",
              "        4.69249174e-01, 5.82019792e-01, 8.42342080e-01, 9.04424976e-01,\n",
              "        9.06418087e-01, 1.35218173e-01, 2.64730164e-01, 3.69808093e-01,\n",
              "        4.11396724e-01, 5.19711194e-01, 6.79879456e-01, 8.85337660e-01],\n",
              "       [1.46441763e-01, 2.88476437e-01, 3.96098275e-01, 4.49949990e-01,\n",
              "        7.49999249e-01, 8.80297603e-01, 9.44123519e-01, 1.70909585e-01,\n",
              "        3.25047229e-01, 3.58152167e-01, 6.07830669e-01, 6.53140036e-01,\n",
              "        7.50686141e-01, 9.69809068e-01, 1.74908874e-01, 5.00026298e-01,\n",
              "        5.96655406e-01, 6.35058874e-01, 6.99098075e-01, 7.83644245e-01,\n",
              "        9.65416221e-01, 2.67262538e-01, 3.94869293e-01, 4.70132189e-01,\n",
              "        4.74867515e-01, 7.22080662e-01, 7.46994240e-01, 8.40428533e-01],\n",
              "       [9.23738895e-02, 2.18749374e-01, 2.87991004e-01, 4.52109035e-01,\n",
              "        7.16074531e-01, 7.49169837e-01, 9.70236683e-01, 3.36250935e-02,\n",
              "        8.52955659e-02, 4.87837704e-01, 5.42498775e-01, 6.17657916e-01,\n",
              "        8.33038098e-01, 9.79586729e-01, 2.16822138e-01, 4.78596326e-01,\n",
              "        5.65188867e-01, 6.77081574e-01, 7.14696936e-01, 7.43834545e-01,\n",
              "        9.18235466e-01, 1.37220420e-01, 5.20477480e-01, 5.37373229e-01,\n",
              "        6.45784599e-01, 8.81585399e-01, 9.16722954e-01, 9.21157610e-01],\n",
              "       [1.64940460e-01, 3.11860221e-01, 3.73290751e-01, 4.25451538e-01,\n",
              "        5.52821480e-01, 8.64933296e-01, 9.82574960e-01, 2.29441834e-01,\n",
              "        3.13692393e-01, 4.56129772e-01, 4.83408617e-01, 7.88739428e-01,\n",
              "        9.02348583e-01, 9.57450856e-01, 1.70986599e-01, 4.49197738e-01,\n",
              "        6.38921076e-01, 6.80055569e-01, 8.91554437e-01, 8.96038388e-01,\n",
              "        9.78570928e-01, 2.49796276e-01, 5.81850329e-01, 6.34274058e-01,\n",
              "        6.74847346e-01, 7.04474258e-01, 9.58949269e-01, 9.95299568e-01],\n",
              "       [3.17201742e-01, 5.54242435e-01, 6.79090616e-01, 7.50844246e-01,\n",
              "        8.64281443e-01, 9.64489768e-01, 9.92396399e-01, 2.12390499e-01,\n",
              "        6.22846096e-01, 6.62526867e-01, 6.73659631e-01, 8.78193471e-01,\n",
              "        9.49571053e-01, 9.71945002e-01, 5.64183327e-02, 1.41263905e-01,\n",
              "        5.55649243e-01, 6.77263305e-01, 7.03494784e-01, 8.81004562e-01,\n",
              "        9.84329434e-01, 4.69497183e-01, 4.80893531e-01, 6.07045061e-01,\n",
              "        6.88661183e-01, 8.65102561e-01, 8.80475889e-01, 9.84042241e-01]])"
            ]
          },
          "execution_count": 38,
          "metadata": {},
          "output_type": "execute_result"
        }
      ],
      "source": [
        "c"
      ]
    },
    {
      "cell_type": "code",
      "execution_count": null,
      "metadata": {
        "id": "JSqn_Vqj2msD"
      },
      "outputs": [],
      "source": [
        "c.sort(axis=0)"
      ]
    },
    {
      "cell_type": "code",
      "execution_count": null,
      "metadata": {
        "colab": {
          "base_uri": "https://localhost:8080/"
        },
        "id": "fi_8_qoM2vov",
        "outputId": "0566bd1c-54e4-4562-9355-4743fffb1e75"
      },
      "outputs": [
        {
          "data": {
            "text/plain": [
              "array([[5.53568650e-05, 9.35670486e-03, 1.66279737e-02, 3.84254265e-02,\n",
              "        5.57146937e-02, 9.25961651e-02, 1.24833057e-01, 1.64958868e-01,\n",
              "        1.86332343e-01, 2.09157029e-01, 2.16550354e-01, 2.21262685e-01,\n",
              "        2.76893751e-01, 2.86915043e-01, 3.20997241e-01, 3.54046662e-01,\n",
              "        4.11820139e-01, 4.73600419e-01, 4.89548937e-01, 5.08315449e-01,\n",
              "        5.69618406e-01, 6.52790317e-01, 6.59668412e-01, 6.80544691e-01,\n",
              "        7.30442177e-01, 7.36918177e-01, 7.56106694e-01, 7.58615624e-01],\n",
              "       [9.24007349e-03, 1.35716356e-02, 3.04529649e-02, 5.05881151e-02,\n",
              "        8.31124926e-02, 1.16201910e-01, 1.39972585e-01, 1.79490261e-01,\n",
              "        2.04865762e-01, 2.14880737e-01, 2.17450493e-01, 2.30742335e-01,\n",
              "        2.77718561e-01, 3.24141008e-01, 3.39403819e-01, 3.65496106e-01,\n",
              "        4.56014623e-01, 5.08968961e-01, 5.33206254e-01, 5.82019792e-01,\n",
              "        6.06475460e-01, 6.78879530e-01, 7.03737279e-01, 7.20632655e-01,\n",
              "        7.47079470e-01, 7.49254417e-01, 8.07580269e-01, 9.04647744e-01],\n",
              "       [1.99876654e-02, 3.75593838e-02, 9.23738895e-02, 9.92803504e-02,\n",
              "        9.95690891e-02, 1.49674867e-01, 1.66847513e-01, 2.22321388e-01,\n",
              "        2.60340928e-01, 3.24682972e-01, 3.52311661e-01, 3.86488981e-01,\n",
              "        3.97820753e-01, 4.20075370e-01, 4.33288062e-01, 4.47926172e-01,\n",
              "        4.63450977e-01, 5.09624377e-01, 5.37022521e-01, 5.88465085e-01,\n",
              "        6.18808565e-01, 6.79879456e-01, 7.31693756e-01, 7.67023704e-01,\n",
              "        7.78345482e-01, 8.41386119e-01, 8.78452190e-01, 9.44119751e-01],\n",
              "       [3.32223853e-02, 5.03700568e-02, 9.72599271e-02, 1.35218173e-01,\n",
              "        1.81631200e-01, 2.18402855e-01, 2.29219323e-01, 2.64730164e-01,\n",
              "        3.38007615e-01, 3.38985117e-01, 3.83462225e-01, 4.14368588e-01,\n",
              "        4.51159215e-01, 4.55168815e-01, 4.69249174e-01, 5.12393463e-01,\n",
              "        5.19711194e-01, 5.51816259e-01, 5.80447137e-01, 6.13063458e-01,\n",
              "        6.47174140e-01, 7.11583817e-01, 7.79051020e-01, 7.87542156e-01,\n",
              "        8.41140130e-01, 8.74572958e-01, 9.02598476e-01, 9.68961765e-01],\n",
              "       [3.36250935e-02, 6.30382897e-02, 1.02863359e-01, 1.37220420e-01,\n",
              "        1.86458219e-01, 2.18749374e-01, 2.30533024e-01, 3.13218332e-01,\n",
              "        3.59444464e-01, 3.69808093e-01, 4.11396724e-01, 4.41710921e-01,\n",
              "        4.63150200e-01, 4.71751571e-01, 4.74697502e-01, 5.69573535e-01,\n",
              "        6.08252866e-01, 6.23510101e-01, 6.46264437e-01, 6.74752322e-01,\n",
              "        6.75439081e-01, 7.50686141e-01, 7.83644245e-01, 8.40428533e-01,\n",
              "        8.80297603e-01, 9.04424976e-01, 9.06418087e-01, 9.69809068e-01],\n",
              "       [4.56146372e-02, 8.52955659e-02, 1.05907607e-01, 1.53694305e-01,\n",
              "        2.16822138e-01, 2.22443224e-01, 2.87991004e-01, 3.94869293e-01,\n",
              "        3.96098275e-01, 4.49949990e-01, 4.70132189e-01, 4.74867515e-01,\n",
              "        5.00026298e-01, 5.65188867e-01, 6.07830669e-01, 6.35058874e-01,\n",
              "        6.53140036e-01, 6.99098075e-01, 7.16074531e-01, 7.43834545e-01,\n",
              "        7.49169837e-01, 7.64911699e-01, 8.42342080e-01, 8.54613580e-01,\n",
              "        8.85337660e-01, 9.21157610e-01, 9.65416221e-01, 9.76404387e-01],\n",
              "       [5.64183327e-02, 1.41263905e-01, 1.74908874e-01, 2.49796276e-01,\n",
              "        2.88476437e-01, 3.13692393e-01, 3.58152167e-01, 4.25451538e-01,\n",
              "        4.49197738e-01, 4.56129772e-01, 4.83408617e-01, 5.37373229e-01,\n",
              "        5.42498775e-01, 5.96655406e-01, 6.17657916e-01, 6.45784599e-01,\n",
              "        6.77081574e-01, 7.04474258e-01, 7.22080662e-01, 7.46994240e-01,\n",
              "        7.49999249e-01, 8.33038098e-01, 8.81585399e-01, 9.16722954e-01,\n",
              "        9.18235466e-01, 9.44123519e-01, 9.70236683e-01, 9.79586729e-01],\n",
              "       [1.46441763e-01, 1.70909585e-01, 2.12390499e-01, 2.67262538e-01,\n",
              "        3.11860221e-01, 3.25047229e-01, 3.73290751e-01, 4.52109035e-01,\n",
              "        4.78596326e-01, 4.87837704e-01, 5.20477480e-01, 5.52821480e-01,\n",
              "        5.81850329e-01, 6.34274058e-01, 6.38921076e-01, 6.74847346e-01,\n",
              "        6.80055569e-01, 7.14696936e-01, 7.88739428e-01, 8.64933296e-01,\n",
              "        8.80475889e-01, 8.81004562e-01, 9.02348583e-01, 9.57450856e-01,\n",
              "        9.58949269e-01, 9.78570928e-01, 9.82574960e-01, 9.92396399e-01],\n",
              "       [1.64940460e-01, 1.70986599e-01, 2.29441834e-01, 3.17201742e-01,\n",
              "        4.69497183e-01, 4.80893531e-01, 5.54242435e-01, 5.55649243e-01,\n",
              "        6.07045061e-01, 6.22846096e-01, 6.62526867e-01, 6.73659631e-01,\n",
              "        6.77263305e-01, 6.79090616e-01, 6.88661183e-01, 7.03494784e-01,\n",
              "        7.50844246e-01, 8.64281443e-01, 8.65102561e-01, 8.78193471e-01,\n",
              "        8.91554437e-01, 8.96038388e-01, 9.49571053e-01, 9.64489768e-01,\n",
              "        9.71945002e-01, 9.84042241e-01, 9.84329434e-01, 9.95299568e-01]])"
            ]
          },
          "execution_count": 42,
          "metadata": {},
          "output_type": "execute_result"
        }
      ],
      "source": [
        "c"
      ]
    },
    {
      "cell_type": "code",
      "execution_count": null,
      "metadata": {
        "colab": {
          "base_uri": "https://localhost:8080/"
        },
        "id": "D2e5RU3i283_",
        "outputId": "72211d61-20a1-446c-e0a4-20df173092c5"
      },
      "outputs": [
        {
          "data": {
            "text/plain": [
              "(array([0.16494046, 0.1709866 , 0.22944183, 0.31720174, 0.46949718,\n",
              "        0.48089353, 0.55424244, 0.55564924, 0.60704506, 0.6228461 ,\n",
              "        0.66252687, 0.67365963, 0.67726331, 0.67909062, 0.68866118,\n",
              "        0.70349478, 0.75084425, 0.86428144, 0.86510256, 0.87819347,\n",
              "        0.89155444, 0.89603839, 0.94957105, 0.96448977, 0.971945  ,\n",
              "        0.98404224, 0.98432943, 0.99529957]),\n",
              " array([0.75861562, 0.90464774, 0.94411975, 0.96896177, 0.96980907,\n",
              "        0.97640439, 0.97958673, 0.9923964 , 0.99529957]))"
            ]
          },
          "execution_count": 44,
          "metadata": {},
          "output_type": "execute_result"
        }
      ],
      "source": [
        "c.max(axis=0), c.max(axis=1)"
      ]
    },
    {
      "cell_type": "code",
      "execution_count": null,
      "metadata": {
        "colab": {
          "base_uri": "https://localhost:8080/"
        },
        "id": "dc9Zm3613bmE",
        "outputId": "cc73bc08-d549-4264-834b-5ad7c66154c3"
      },
      "outputs": [
        {
          "data": {
            "text/plain": [
              "((28,), (9,))"
            ]
          },
          "execution_count": 45,
          "metadata": {},
          "output_type": "execute_result"
        }
      ],
      "source": [
        "c.max(axis=0).shape, c.max(axis=1).shape"
      ]
    },
    {
      "cell_type": "code",
      "execution_count": null,
      "metadata": {
        "id": "pWJf797A3k4Q"
      },
      "outputs": [],
      "source": [
        "c=np.random.randint(100,size=(2,5))"
      ]
    },
    {
      "cell_type": "code",
      "execution_count": null,
      "metadata": {
        "id": "AhJR4QVS3q0T"
      },
      "outputs": [],
      "source": [
        "d = c.copy()"
      ]
    },
    {
      "cell_type": "code",
      "execution_count": null,
      "metadata": {
        "colab": {
          "base_uri": "https://localhost:8080/"
        },
        "id": "edHz-Dbp38po",
        "outputId": "28a91440-5d45-487b-9c5a-7daefe3878ef"
      },
      "outputs": [
        {
          "data": {
            "text/plain": [
              "array([[23, 24,  4, 49, 87],\n",
              "       [30, 54, 25, 20, 97]])"
            ]
          },
          "execution_count": 51,
          "metadata": {},
          "output_type": "execute_result"
        }
      ],
      "source": [
        "c"
      ]
    },
    {
      "cell_type": "code",
      "execution_count": null,
      "metadata": {
        "colab": {
          "base_uri": "https://localhost:8080/"
        },
        "id": "Q6z3BRzM31hw",
        "outputId": "29cd321d-cec3-4961-f408-b42986360007"
      },
      "outputs": [
        {
          "name": "stdout",
          "output_type": "stream",
          "text": [
            "[[23 24  4 20 87]\n",
            " [30 54 25 49 97]]\n"
          ]
        }
      ],
      "source": [
        "d.sort(axis=0)\n",
        "print(d)"
      ]
    },
    {
      "cell_type": "code",
      "execution_count": null,
      "metadata": {
        "colab": {
          "base_uri": "https://localhost:8080/"
        },
        "id": "_AndYUzh4Dxw",
        "outputId": "e5efdfb0-7f79-4f1d-a7dd-57f38a64444f"
      },
      "outputs": [
        {
          "name": "stdout",
          "output_type": "stream",
          "text": [
            "[[ 4 23 24 49 87]\n",
            " [20 25 30 54 97]]\n"
          ]
        }
      ],
      "source": [
        "d = c.copy()\n",
        "d.sort(axis=1)\n",
        "print(d)"
      ]
    },
    {
      "cell_type": "code",
      "execution_count": null,
      "metadata": {
        "id": "zqmN-cwr4dF5"
      },
      "outputs": [],
      "source": [
        "c=np.random.randint(20,size=(2,10))"
      ]
    },
    {
      "cell_type": "code",
      "execution_count": null,
      "metadata": {
        "colab": {
          "base_uri": "https://localhost:8080/"
        },
        "id": "VyR6_tSn4fRh",
        "outputId": "7a5e66e2-9d35-498b-fc89-95c83db828d7"
      },
      "outputs": [
        {
          "data": {
            "text/plain": [
              "array([[ 5,  1, 19, 19,  7,  9, 17,  9,  0, 19],\n",
              "       [ 4, 17, 16,  3, 10,  1,  4,  4, 16, 16]])"
            ]
          },
          "execution_count": 55,
          "metadata": {},
          "output_type": "execute_result"
        }
      ],
      "source": [
        "c"
      ]
    },
    {
      "cell_type": "code",
      "execution_count": null,
      "metadata": {
        "id": "TpwMG0Gd4iZy"
      },
      "outputs": [],
      "source": [
        "c.sort(axis=1)"
      ]
    },
    {
      "cell_type": "code",
      "execution_count": null,
      "metadata": {
        "colab": {
          "base_uri": "https://localhost:8080/"
        },
        "id": "iJPORyHd4k6C",
        "outputId": "49d30304-35fb-43b6-aaff-3f0bb29b861c"
      },
      "outputs": [
        {
          "data": {
            "text/plain": [
              "array([[ 0,  1,  5,  7,  9,  9, 17, 19, 19, 19],\n",
              "       [ 1,  3,  4,  4,  4, 10, 16, 16, 16, 17]])"
            ]
          },
          "execution_count": 57,
          "metadata": {},
          "output_type": "execute_result"
        }
      ],
      "source": [
        "c"
      ]
    },
    {
      "cell_type": "code",
      "execution_count": null,
      "metadata": {
        "colab": {
          "base_uri": "https://localhost:8080/"
        },
        "id": "Uu3owqOJ4svb",
        "outputId": "03e1af6a-2d01-41bc-ea16-9f8ff2420684"
      },
      "outputs": [
        {
          "data": {
            "text/plain": [
              "array([19, 17])"
            ]
          },
          "execution_count": 58,
          "metadata": {},
          "output_type": "execute_result"
        }
      ],
      "source": [
        "c.max(axis=1)"
      ]
    },
    {
      "cell_type": "code",
      "execution_count": null,
      "metadata": {
        "colab": {
          "base_uri": "https://localhost:8080/"
        },
        "id": "9gywRQW64xOj",
        "outputId": "ac821e20-2daa-4187-b868-7307a37a0383"
      },
      "outputs": [
        {
          "data": {
            "text/plain": [
              "array([ 1,  3,  5,  7,  9, 10, 17, 19, 19, 19])"
            ]
          },
          "execution_count": 60,
          "metadata": {},
          "output_type": "execute_result"
        }
      ],
      "source": [
        "c.max(axis=0)"
      ]
    },
    {
      "cell_type": "code",
      "execution_count": null,
      "metadata": {
        "colab": {
          "base_uri": "https://localhost:8080/"
        },
        "id": "C8tII1f35jbw",
        "outputId": "a5d9df19-e333-48aa-9e39-5f0783f9db8a"
      },
      "outputs": [
        {
          "data": {
            "text/plain": [
              "array([19, 17])"
            ]
          },
          "execution_count": 61,
          "metadata": {},
          "output_type": "execute_result"
        }
      ],
      "source": [
        "c.max(axis=-1)"
      ]
    },
    {
      "cell_type": "code",
      "execution_count": null,
      "metadata": {
        "id": "_LbQE7ST55Z4"
      },
      "outputs": [],
      "source": [
        "# [0[1[2],1[2]], [1[2],1[2]]]"
      ]
    },
    {
      "cell_type": "code",
      "execution_count": null,
      "metadata": {
        "id": "ex8h-hts7LNf"
      },
      "outputs": [],
      "source": [
        "# close in files\n",
        "file = open()\n",
        "flie.close()\n",
        "\n",
        "with open as f:\n",
        "    s,dflnjljskfn\n",
        "\n",
        "print()"
      ]
    },
    {
      "cell_type": "code",
      "execution_count": null,
      "metadata": {
        "colab": {
          "base_uri": "https://localhost:8080/"
        },
        "id": "0weCLoHZ7c4N",
        "outputId": "1e945c25-7bae-406b-cfc1-51d0f754d8cf"
      },
      "outputs": [
        {
          "data": {
            "text/plain": [
              "9.8"
            ]
          },
          "execution_count": 62,
          "metadata": {},
          "output_type": "execute_result"
        }
      ],
      "source": [
        "c.mean()"
      ]
    },
    {
      "cell_type": "code",
      "execution_count": null,
      "metadata": {
        "colab": {
          "base_uri": "https://localhost:8080/"
        },
        "id": "HbTGimVC7fbV",
        "outputId": "edc41899-2282-49dc-c050-a276c89a7ef3"
      },
      "outputs": [
        {
          "data": {
            "text/plain": [
              "array([10.5,  9.1])"
            ]
          },
          "execution_count": 63,
          "metadata": {},
          "output_type": "execute_result"
        }
      ],
      "source": [
        "c.mean(axis=1)"
      ]
    },
    {
      "cell_type": "code",
      "execution_count": null,
      "metadata": {
        "colab": {
          "base_uri": "https://localhost:8080/"
        },
        "id": "lkS1GBg57j6E",
        "outputId": "83573955-1059-4674-d71b-6fb1e1559c8c"
      },
      "outputs": [
        {
          "data": {
            "text/plain": [
              "array([ 0.5,  2. ,  4.5,  5.5,  6.5,  9.5, 16.5, 17.5, 17.5, 18. ])"
            ]
          },
          "execution_count": 64,
          "metadata": {},
          "output_type": "execute_result"
        }
      ],
      "source": [
        "c.mean(axis=0)"
      ]
    },
    {
      "cell_type": "code",
      "execution_count": null,
      "metadata": {
        "colab": {
          "base_uri": "https://localhost:8080/"
        },
        "id": "VerQQA3V7o3K",
        "outputId": "9a7f1baa-58d1-4f52-b72a-d1c180263fdc"
      },
      "outputs": [
        {
          "data": {
            "text/plain": [
              "array([7.11688134, 6.22012862])"
            ]
          },
          "execution_count": 65,
          "metadata": {},
          "output_type": "execute_result"
        }
      ],
      "source": [
        "c.std(axis=1)"
      ]
    },
    {
      "cell_type": "code",
      "execution_count": null,
      "metadata": {
        "id": "ZlKa1x3Q78K3"
      },
      "outputs": [],
      "source": [
        "import math"
      ]
    },
    {
      "cell_type": "code",
      "execution_count": null,
      "metadata": {
        "colab": {
          "base_uri": "https://localhost:8080/"
        },
        "id": "NUz480kO8NY2",
        "outputId": "949f363e-b103-44b5-f8fb-e4536490236e"
      },
      "outputs": [
        {
          "data": {
            "text/plain": [
              "-0.4480736161291701"
            ]
          },
          "execution_count": 67,
          "metadata": {},
          "output_type": "execute_result"
        }
      ],
      "source": [
        "math.cos(90)"
      ]
    },
    {
      "cell_type": "code",
      "execution_count": null,
      "metadata": {
        "id": "HCZ8L5G_8yKX"
      },
      "outputs": [],
      "source": [
        "# ! pip install scipy\n",
        "# pip install numpy"
      ]
    },
    {
      "cell_type": "code",
      "execution_count": null,
      "metadata": {
        "id": "stRm-oWf9iM5"
      },
      "outputs": [],
      "source": [
        "import scipy\n",
        "from scipy.integrate import quad"
      ]
    },
    {
      "cell_type": "code",
      "execution_count": null,
      "metadata": {
        "id": "cNYq-lDd9k4c"
      },
      "outputs": [],
      "source": [
        "def f(x):\n",
        "    return np.sin(x)"
      ]
    },
    {
      "cell_type": "code",
      "execution_count": null,
      "metadata": {
        "colab": {
          "base_uri": "https://localhost:8080/"
        },
        "id": "5qrnfQrj-AKJ",
        "outputId": "2314202e-fded-4418-b117-ed9aed93dfe4"
      },
      "outputs": [
        {
          "data": {
            "text/plain": [
              "1.2246467991473532e-16"
            ]
          },
          "execution_count": 71,
          "metadata": {},
          "output_type": "execute_result"
        }
      ],
      "source": [
        "f(np.pi)"
      ]
    },
    {
      "cell_type": "code",
      "execution_count": null,
      "metadata": {
        "colab": {
          "base_uri": "https://localhost:8080/"
        },
        "id": "u866qeHA-IBm",
        "outputId": "0d63f483-0e56-4d12-f5ad-6c18ebf51c27"
      },
      "outputs": [
        {
          "data": {
            "text/plain": [
              "(2.0, 2.220446049250313e-14)"
            ]
          },
          "execution_count": 72,
          "metadata": {},
          "output_type": "execute_result"
        }
      ],
      "source": [
        "quad(f, a=0,b=np.pi)"
      ]
    },
    {
      "cell_type": "code",
      "execution_count": null,
      "metadata": {
        "colab": {
          "base_uri": "https://localhost:8080/"
        },
        "id": "-8MrI2MI-RzL",
        "outputId": "5f61e5f1-3f2d-4525-f834-5be1c3692b5b"
      },
      "outputs": [
        {
          "data": {
            "text/plain": [
              "2.0"
            ]
          },
          "execution_count": 77,
          "metadata": {},
          "output_type": "execute_result"
        }
      ],
      "source": [
        "np.cos(0)-np.cos(np.pi)"
      ]
    },
    {
      "cell_type": "code",
      "execution_count": null,
      "metadata": {
        "id": "C2iRK_7VAB5P"
      },
      "outputs": [],
      "source": [
        "import matplotlib.pyplot as plt"
      ]
    },
    {
      "cell_type": "code",
      "execution_count": null,
      "metadata": {
        "colab": {
          "base_uri": "https://localhost:8080/",
          "height": 447
        },
        "id": "o4awJIMWAJTu",
        "outputId": "a3626878-277d-465b-cc3d-d806a8bb2065"
      },
      "outputs": [
        {
          "data": {
            "text/plain": [
              "[<matplotlib.lines.Line2D at 0x7b54719555d0>]"
            ]
          },
          "execution_count": 81,
          "metadata": {},
          "output_type": "execute_result"
        },
        {
          "data": {
            "image/png": "[encoded data removed]",
            "text/plain": [
              "<Figure size 640x480 with 1 Axes>"
            ]
          },
          "metadata": {},
          "output_type": "display_data"
        }
      ],
      "source": [
        "plt.plot(np.arange(100),np.random.uniform(size=100))"
      ]
    },
    {
      "cell_type": "code",
      "execution_count": null,
      "metadata": {
        "id": "LTvjChGyAfcm"
      },
      "outputs": [],
      "source": [
        "# pip install matplotlib"
      ]
    },
    {
      "cell_type": "code",
      "execution_count": null,
      "metadata": {
        "colab": {
          "base_uri": "https://localhost:8080/",
          "height": 499
        },
        "id": "DbjzTiHIAeBE",
        "outputId": "db2727bd-63d7-44ce-91fc-7dd7d526117e"
      },
      "outputs": [
        {
          "data": {
            "text/plain": [
              "(array([3328., 1373.,  218., ...,    0.,    0.,    0.]),\n",
              " array([0.000e+00, 1.000e+00, 2.000e+00, ..., 9.997e+03, 9.998e+03,\n",
              "        9.999e+03]),\n",
              " <BarContainer object of 9999 artists>)"
            ]
          },
          "execution_count": 85,
          "metadata": {},
          "output_type": "execute_result"
        },
        {
          "data": {
            "image/png": "[encoded data removed]",
            "text/plain": [
              "<Figure size 640x480 with 1 Axes>"
            ]
          },
          "metadata": {},
          "output_type": "display_data"
        }
      ],
      "source": [
        "plt.hist(np.random.normal(0,1, size=10000), np.arange(10000))"
      ]
    },
    {
      "cell_type": "code",
      "execution_count": null,
      "metadata": {
        "id": "XLly4SorBW-w"
      },
      "outputs": [],
      "source": [
        "x = np.linspace(0, 10, 100)"
      ]
    },
    {
      "cell_type": "code",
      "execution_count": null,
      "metadata": {
        "id": "hhGjf5LWBrm6"
      },
      "outputs": [],
      "source": [
        "y = np.sin(np.sqrt(x))"
      ]
    },
    {
      "cell_type": "code",
      "execution_count": null,
      "metadata": {
        "colab": {
          "base_uri": "https://localhost:8080/",
          "height": 447
        },
        "id": "RvXOLP1KBxRM",
        "outputId": "ec314be5-8d32-40ca-b4b6-d5a2ff76118a"
      },
      "outputs": [
        {
          "data": {
            "text/plain": [
              "[<matplotlib.lines.Line2D at 0x7b546885b2e0>]"
            ]
          },
          "execution_count": 90,
          "metadata": {},
          "output_type": "execute_result"
        },
        {
          "data": {
            "image/png": "[encoded data removed]",
            "text/plain": [
              "<Figure size 640x480 with 1 Axes>"
            ]
          },
          "metadata": {},
          "output_type": "display_data"
        }
      ],
      "source": [
        "plt.plot(x,y)"
      ]
    },
    {
      "cell_type": "code",
      "execution_count": null,
      "metadata": {
        "id": "0Kis5xYAB6LS"
      },
      "outputs": [],
      "source": [
        "a = np.linspace(0, 10, 10)\n",
        "y_a = np.sin(np.sqrt(a)) # این تابع یک تابع دلخواه است شما میتوانید به ازای هر چیزی جایگزین کنید"
      ]
    },
    {
      "cell_type": "code",
      "execution_count": null,
      "metadata": {
        "colab": {
          "base_uri": "https://localhost:8080/",
          "height": 447
        },
        "id": "jtighLvfCGs6",
        "outputId": "a83ed035-0c5b-4e41-93f7-0c310ceb80ca"
      },
      "outputs": [
        {
          "data": {
            "text/plain": [
              "<matplotlib.collections.PathCollection at 0x7b54686cc850>"
            ]
          },
          "execution_count": 97,
          "metadata": {},
          "output_type": "execute_result"
        },
        {
          "data": {
            "image/png": "[encoded data removed]",
            "text/plain": [
              "<Figure size 640x480 with 1 Axes>"
            ]
          },
          "metadata": {},
          "output_type": "display_data"
        }
      ],
      "source": [
        "plt.plot(x,y)\n",
        "plt.scatter(a, y_a, c='red')"
      ]
    },
    {
      "cell_type": "code",
      "execution_count": null,
      "metadata": {
        "id": "mZ5-76gNGCVX"
      },
      "outputs": [],
      "source": [
        "def sim(x, counter):\n",
        "    # some operation\n",
        "    return counter + 1"
      ]
    },
    {
      "cell_type": "code",
      "execution_count": null,
      "metadata": {
        "id": "OpOJKIWzGL-6"
      },
      "outputs": [],
      "source": [
        "counter =0\n",
        "for i in range(10):\n",
        "    counter = sim(0, counter)"
      ]
    },
    {
      "cell_type": "code",
      "execution_count": null,
      "metadata": {
        "colab": {
          "base_uri": "https://localhost:8080/"
        },
        "id": "7llE3-U9GTno",
        "outputId": "66649681-996b-4118-9820-52c7258d9697"
      },
      "outputs": [
        {
          "data": {
            "text/plain": [
              "10"
            ]
          },
          "execution_count": 100,
          "metadata": {},
          "output_type": "execute_result"
        }
      ],
      "source": [
        "counter"
      ]
    },
    {
      "cell_type": "markdown",
      "metadata": {
        "id": "9xH2R2P8waT3"
      },
      "source": [
        "# 2024-08-14"
      ]
    },
    {
      "cell_type": "code",
      "execution_count": 9,
      "metadata": {
        "id": "HjPaR19CwJ0_"
      },
      "outputs": [
        {
          "data": {
            "text/plain": [
              "<matplotlib.collections.PathCollection at 0x1833b7d9340>"
            ]
          },
          "execution_count": 9,
          "metadata": {},
          "output_type": "execute_result"
        },
        {
          "data": {
            "image/png": "[encoded data removed]",
            "text/plain": [
              "<Figure size 640x480 with 1 Axes>"
            ]
          },
          "metadata": {},
          "output_type": "display_data"
        }
      ],
      "source": [
        "import numpy as np\n",
        "import matplotlib.pyplot as plt\n",
        "x = np.linspace(0, 10, 100)\n",
        "y = np.sin(np.sqrt(x))\n",
        "a = np.linspace(0, 10, 10)\n",
        "y_a = np.sin(np.sqrt(a))\n",
        "\n",
        "plt.plot(x,y)\n",
        "plt.scatter(a, y_a, c='red')"
      ]
    },
    {
      "cell_type": "code",
      "execution_count": 2,
      "metadata": {},
      "outputs": [],
      "source": [
        "from scipy.interpolate import interp1d"
      ]
    },
    {
      "cell_type": "code",
      "execution_count": 10,
      "metadata": {},
      "outputs": [],
      "source": [
        "inter_l = interp1d(x=a,y=y_a, kind='linear')\n",
        "inter_q = interp1d(x=a,y=y_a, kind='quadratic')\n",
        "inter_c = interp1d(x=a,y=y_a, kind='cubic')"
      ]
    },
    {
      "cell_type": "code",
      "execution_count": 11,
      "metadata": {},
      "outputs": [
        {
          "data": {
            "text/plain": [
              "[<matplotlib.lines.Line2D at 0x1833b7f3c20>]"
            ]
          },
          "execution_count": 11,
          "metadata": {},
          "output_type": "execute_result"
        },
        {
          "data": {
            "image/png": "[encoded data removed]",
            "text/plain": [
              "<Figure size 640x480 with 1 Axes>"
            ]
          },
          "metadata": {},
          "output_type": "display_data"
        }
      ],
      "source": [
        "import matplotlib.pyplot as plt\n",
        "plt.plot(x,y)\n",
        "plt.plot(x,inter_l(x))"
      ]
    },
    {
      "cell_type": "code",
      "execution_count": 12,
      "metadata": {},
      "outputs": [
        {
          "data": {
            "text/plain": [
              "[<matplotlib.lines.Line2D at 0x18339ebbfb0>]"
            ]
          },
          "execution_count": 12,
          "metadata": {},
          "output_type": "execute_result"
        },
        {
          "data": {
            "image/png": "[encoded data removed]",
            "text/plain": [
              "<Figure size 640x480 with 1 Axes>"
            ]
          },
          "metadata": {},
          "output_type": "display_data"
        }
      ],
      "source": [
        "plt.plot(x,y)\n",
        "plt.plot(x,inter_q(x))"
      ]
    },
    {
      "cell_type": "code",
      "execution_count": 13,
      "metadata": {},
      "outputs": [
        {
          "data": {
            "text/plain": [
              "[<matplotlib.lines.Line2D at 0x1833b7ff1d0>]"
            ]
          },
          "execution_count": 13,
          "metadata": {},
          "output_type": "execute_result"
        },
        {
          "data": {
            "image/png": "[encoded data removed]",
            "text/plain": [
              "<Figure size 640x480 with 1 Axes>"
            ]
          },
          "metadata": {},
          "output_type": "display_data"
        }
      ],
      "source": [
        "plt.plot(x,y)\n",
        "plt.plot(x,inter_c(x))"
      ]
    },
    {
      "cell_type": "code",
      "execution_count": 14,
      "metadata": {},
      "outputs": [],
      "source": [
        "from scipy.optimize import minimize\n",
        "from scipy.optimize import differential_evolution"
      ]
    },
    {
      "cell_type": "code",
      "execution_count": 15,
      "metadata": {},
      "outputs": [],
      "source": [
        "def x2(x):\n",
        "    return x**2"
      ]
    },
    {
      "cell_type": "code",
      "execution_count": 18,
      "metadata": {},
      "outputs": [],
      "source": [
        "out = minimize(x2,x0=10)"
      ]
    },
    {
      "cell_type": "code",
      "execution_count": 19,
      "metadata": {},
      "outputs": [
        {
          "data": {
            "text/plain": [
              "  message: Optimization terminated successfully.\n",
              "  success: True\n",
              "   status: 0\n",
              "      fun: 1.7161984122524196e-15\n",
              "        x: [-4.143e-08]\n",
              "      nit: 4\n",
              "      jac: [-6.795e-08]\n",
              " hess_inv: [[ 5.000e-01]]\n",
              "     nfev: 10\n",
              "     njev: 5"
            ]
          },
          "execution_count": 19,
          "metadata": {},
          "output_type": "execute_result"
        }
      ],
      "source": [
        "out"
      ]
    },
    {
      "cell_type": "code",
      "execution_count": 24,
      "metadata": {},
      "outputs": [],
      "source": [
        "def f(x):\n",
        "    return x**2 + 2"
      ]
    },
    {
      "cell_type": "code",
      "execution_count": 27,
      "metadata": {},
      "outputs": [],
      "source": [
        "out = minimize(f,x0=1000000)"
      ]
    },
    {
      "cell_type": "code",
      "execution_count": 28,
      "metadata": {},
      "outputs": [
        {
          "data": {
            "text/plain": [
              "  message: Optimization terminated successfully.\n",
              "  success: True\n",
              "   status: 0\n",
              "      fun: 2.000000000003566\n",
              "        x: [-1.888e-06]\n",
              "      nit: 4\n",
              "      jac: [-3.785e-06]\n",
              " hess_inv: [[ 5.000e-01]]\n",
              "     nfev: 28\n",
              "     njev: 14"
            ]
          },
          "execution_count": 28,
          "metadata": {},
          "output_type": "execute_result"
        }
      ],
      "source": [
        "out"
      ]
    },
    {
      "cell_type": "code",
      "execution_count": null,
      "metadata": {},
      "outputs": [],
      "source": []
    }
  ],
  "metadata": {
    "colab": {
      "provenance": []
    },
    "kernelspec": {
      "display_name": "Python 3",
      "name": "python3"
    },
    "language_info": {
      "codemirror_mode": {
        "name": "ipython",
        "version": 3
      },
      "file_extension": ".py",
      "mimetype": "text/x-python",
      "name": "python",
      "nbconvert_exporter": "python",
      "pygments_lexer": "ipython3",
      "version": "3.12.4"
    }
  },
  "nbformat": 4,
  "nbformat_minor": 0
}
