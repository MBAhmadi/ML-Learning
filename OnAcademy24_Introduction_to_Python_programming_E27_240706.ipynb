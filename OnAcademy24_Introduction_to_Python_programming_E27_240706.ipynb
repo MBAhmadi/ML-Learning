{
  "nbformat": 4,
  "nbformat_minor": 0,
  "metadata": {
    "colab": {
      "provenance": [],
      "include_colab_link": true
    },
    "kernelspec": {
      "name": "python3",
      "display_name": "Python 3"
    },
    "language_info": {
      "name": "python"
    }
  },
  "cells": [
    {
      "cell_type": "markdown",
      "metadata": {
        "id": "view-in-github",
        "colab_type": "text"
      },
      "source": [
        "<a href=\"https://colab.research.google.com/github/MBAhmadi/ML-Learning/blob/main/OnAcademy24_Introduction_to_Python_programming_E27_240706.ipynb\" target=\"_parent\"><img src=\"https://colab.research.google.com/assets/colab-badge.svg\" alt=\"Open In Colab\"/></a>"
      ]
    },
    {
      "cell_type": "code",
      "execution_count": null,
      "metadata": {
        "id": "hTpvkc73xwBy"
      },
      "outputs": [],
      "source": [
        "! wget https://repo.anaconda.com/archive/Anaconda3-2024.06-1-Windows-x86_64.exe"
      ]
    },
    {
      "cell_type": "markdown",
      "source": [
        "# Python Basic Syntax\n",
        "\n",
        "\n",
        "*   Variables type\n",
        "*   Operators\n",
        "*   Getting Input\n",
        "*   Conditions\n",
        "*   Loop (iterators)\n",
        "\n"
      ],
      "metadata": {
        "id": "gQts8mrE_9XO"
      }
    },
    {
      "cell_type": "code",
      "source": [
        "print(\"Salam\")"
      ],
      "metadata": {
        "id": "5wteUSbNzmRw",
        "colab": {
          "base_uri": "https://localhost:8080/"
        },
        "outputId": "f04310c5-8d87-4811-b34d-e3452a600a6d"
      },
      "execution_count": null,
      "outputs": [
        {
          "output_type": "stream",
          "name": "stdout",
          "text": [
            "Salam\n"
          ]
        }
      ]
    },
    {
      "cell_type": "code",
      "source": [
        "print('سلام')"
      ],
      "metadata": {
        "colab": {
          "base_uri": "https://localhost:8080/"
        },
        "id": "W8OktSM2ExxY",
        "outputId": "bdba1384-8e71-446a-d508-a9f66fce12fc"
      },
      "execution_count": null,
      "outputs": [
        {
          "output_type": "stream",
          "name": "stdout",
          "text": [
            "سلام\n"
          ]
        }
      ]
    },
    {
      "cell_type": "code",
      "source": [
        "# این یک کامنت است\n",
        "# دستور زیر یک پرینت سلام است\n",
        "print('salam')"
      ],
      "metadata": {
        "colab": {
          "base_uri": "https://localhost:8080/"
        },
        "id": "g9GxG5tJESDv",
        "outputId": "aa077a09-0192-4215-b864-dc109f710649"
      },
      "execution_count": null,
      "outputs": [
        {
          "output_type": "stream",
          "name": "stdout",
          "text": [
            "salam\n"
          ]
        }
      ]
    },
    {
      "cell_type": "code",
      "source": [
        "# Strings vs Character\n",
        "print('a') # 'a'"
      ],
      "metadata": {
        "colab": {
          "base_uri": "https://localhost:8080/"
        },
        "id": "b0Tz-3YkEjyB",
        "outputId": "4b5a2aaa-c7c3-4c77-b935-3d5a17372cdd"
      },
      "execution_count": null,
      "outputs": [
        {
          "output_type": "stream",
          "name": "stdout",
          "text": [
            "a\n"
          ]
        }
      ]
    },
    {
      "cell_type": "code",
      "source": [
        "print('abas') # \"abas\""
      ],
      "metadata": {
        "colab": {
          "base_uri": "https://localhost:8080/"
        },
        "id": "KA8go8PTEm32",
        "outputId": "5c27fb3d-9460-4be3-e2cd-7c511230e2d7"
      },
      "execution_count": null,
      "outputs": [
        {
          "output_type": "stream",
          "name": "stdout",
          "text": [
            "abas\n"
          ]
        }
      ]
    },
    {
      "cell_type": "code",
      "source": [
        "print('a') # 'a' ajskbfjajksbgaouaeuewijbkfi   print(\"salam\")"
      ],
      "metadata": {
        "id": "8rg0KL6WF90y"
      },
      "execution_count": null,
      "outputs": []
    },
    {
      "cell_type": "code",
      "source": [
        "print(\"salam\");"
      ],
      "metadata": {
        "colab": {
          "base_uri": "https://localhost:8080/"
        },
        "id": "d6dSd9Z0Gby5",
        "outputId": "b723faef-0dda-4894-9310-6a9eba1dcfc4"
      },
      "execution_count": null,
      "outputs": [
        {
          "output_type": "stream",
          "name": "stdout",
          "text": [
            "salam\n"
          ]
        }
      ]
    },
    {
      "cell_type": "code",
      "source": [
        "# akslfs\n",
        "# akslnfiiasf\n",
        "# manskfjabsr"
      ],
      "metadata": {
        "id": "I2vV25YUGdTE"
      },
      "execution_count": null,
      "outputs": []
    },
    {
      "cell_type": "code",
      "source": [
        "# madgfn\n",
        "# njaek\n",
        "# jfao;sg\n",
        "# kjjsbbdst     crtl /"
      ],
      "metadata": {
        "id": "TmcDTIh_Gz1C"
      },
      "execution_count": null,
      "outputs": []
    },
    {
      "cell_type": "code",
      "source": [
        "print(\"سلام\"), print(\"خداحافظ\")"
      ],
      "metadata": {
        "colab": {
          "base_uri": "https://localhost:8080/"
        },
        "id": "_iBkeYWcHBGx",
        "outputId": "094a00df-44f5-4483-e1a3-64e5f0ab5837"
      },
      "execution_count": null,
      "outputs": [
        {
          "output_type": "stream",
          "name": "stdout",
          "text": [
            "سلام\n",
            "خداحافظ\n"
          ]
        },
        {
          "output_type": "execute_result",
          "data": {
            "text/plain": [
              "(None, None)"
            ]
          },
          "metadata": {},
          "execution_count": 9
        }
      ]
    },
    {
      "cell_type": "code",
      "source": [
        "print(salam) # این کد ایراد دارد. متغیر سلام تعریف نشده است"
      ],
      "metadata": {
        "id": "IfzHd0CxH0hs"
      },
      "execution_count": null,
      "outputs": []
    },
    {
      "cell_type": "code",
      "source": [
        "# aaaaaaaaaaaaaaaaaaaaaaaaaaaaaaaaaaaaaa\n",
        "# aaaaaaaaaaaaaaaaaaaaaaaaaaaaaaaaaaaaaa\n",
        "# aaaaaaaaaaaaaaaaaaaaaaaaaaaaaaaaaaaaaaaaaaaaaaaaaaaaaaaaaaaaaaaaaaaaaaaaaaaaaaaaaaaaaaaaaaaaaaaaaaaaaaaaaaaaaaaaaaaaaaaaaaaaaaaaaaaaaaaaaaaaaaaaaaaaaaaaaaaaaaaaaaaaaaaaaaaaaaaaaaa"
      ],
      "metadata": {
        "id": "LBd2MdmZIul7"
      },
      "execution_count": null,
      "outputs": []
    },
    {
      "cell_type": "code",
      "source": [
        "print(salam)"
      ],
      "metadata": {
        "colab": {
          "base_uri": "https://localhost:8080/",
          "height": 146
        },
        "id": "9tHKf3y3JD00",
        "outputId": "6dfd893d-00b5-4f4d-df22-a121de1ef358"
      },
      "execution_count": null,
      "outputs": [
        {
          "output_type": "error",
          "ename": "NameError",
          "evalue": "name 'salam' is not defined",
          "traceback": [
            "\u001b[0;31m---------------------------------------------------------------------------\u001b[0m",
            "\u001b[0;31mNameError\u001b[0m                                 Traceback (most recent call last)",
            "\u001b[0;32m<ipython-input-10-0484178a56bb>\u001b[0m in \u001b[0;36m<cell line: 1>\u001b[0;34m()\u001b[0m\n\u001b[0;32m----> 1\u001b[0;31m \u001b[0mprint\u001b[0m\u001b[0;34m(\u001b[0m\u001b[0msalam\u001b[0m\u001b[0;34m)\u001b[0m\u001b[0;34m\u001b[0m\u001b[0;34m\u001b[0m\u001b[0m\n\u001b[0m",
            "\u001b[0;31mNameError\u001b[0m: name 'salam' is not defined"
          ]
        }
      ]
    },
    {
      "cell_type": "code",
      "source": [
        "a = 10\n",
        "b = 11"
      ],
      "metadata": {
        "id": "LmbD9aR4JVg0"
      },
      "execution_count": null,
      "outputs": []
    },
    {
      "cell_type": "code",
      "source": [
        "salam = 2\n",
        "print(salam)"
      ],
      "metadata": {
        "colab": {
          "base_uri": "https://localhost:8080/"
        },
        "id": "bsV_oyUxJnId",
        "outputId": "48ecdf3a-8c5c-47e0-f8ea-38e7dbffeed9"
      },
      "execution_count": null,
      "outputs": [
        {
          "output_type": "stream",
          "name": "stdout",
          "text": [
            "2\n"
          ]
        }
      ]
    },
    {
      "cell_type": "code",
      "source": [
        "salam = 3"
      ],
      "metadata": {
        "id": "jsArxKwBJ5dC"
      },
      "execution_count": null,
      "outputs": []
    },
    {
      "cell_type": "code",
      "source": [
        "print(salam)"
      ],
      "metadata": {
        "colab": {
          "base_uri": "https://localhost:8080/"
        },
        "id": "3C6qxm2sKHtl",
        "outputId": "c68c2d1e-6f06-4b88-dc07-e441ef55e93a"
      },
      "execution_count": null,
      "outputs": [
        {
          "output_type": "stream",
          "name": "stdout",
          "text": [
            "3\n"
          ]
        }
      ]
    },
    {
      "cell_type": "code",
      "source": [
        "print(1)"
      ],
      "metadata": {
        "colab": {
          "base_uri": "https://localhost:8080/"
        },
        "id": "ZYOapDlOKJp-",
        "outputId": "9a533aa3-00a2-4ff4-bf0e-4537abe55436"
      },
      "execution_count": null,
      "outputs": [
        {
          "output_type": "stream",
          "name": "stdout",
          "text": [
            "1\n"
          ]
        }
      ]
    },
    {
      "cell_type": "code",
      "source": [
        "print(c)"
      ],
      "metadata": {
        "colab": {
          "base_uri": "https://localhost:8080/",
          "height": 146
        },
        "id": "KUZ7v29RL-7v",
        "outputId": "72e8d9e8-2473-487a-a964-6e8321e279f8"
      },
      "execution_count": null,
      "outputs": [
        {
          "output_type": "error",
          "ename": "NameError",
          "evalue": "name 'c' is not defined",
          "traceback": [
            "\u001b[0;31m---------------------------------------------------------------------------\u001b[0m",
            "\u001b[0;31mNameError\u001b[0m                                 Traceback (most recent call last)",
            "\u001b[0;32m<ipython-input-16-1dd5973cae19>\u001b[0m in \u001b[0;36m<cell line: 1>\u001b[0;34m()\u001b[0m\n\u001b[0;32m----> 1\u001b[0;31m \u001b[0mprint\u001b[0m\u001b[0;34m(\u001b[0m\u001b[0mc\u001b[0m\u001b[0;34m)\u001b[0m\u001b[0;34m\u001b[0m\u001b[0;34m\u001b[0m\u001b[0m\n\u001b[0m",
            "\u001b[0;31mNameError\u001b[0m: name 'c' is not defined"
          ]
        }
      ]
    },
    {
      "cell_type": "code",
      "source": [
        "print(4)"
      ],
      "metadata": {
        "colab": {
          "base_uri": "https://localhost:8080/"
        },
        "id": "2m1aD9_MMDDw",
        "outputId": "2e82de2f-6f19-4da8-8d70-6c415c8a18eb"
      },
      "execution_count": null,
      "outputs": [
        {
          "output_type": "stream",
          "name": "stdout",
          "text": [
            "4\n"
          ]
        }
      ]
    },
    {
      "cell_type": "code",
      "source": [
        "print(۱) # این رو بعدا توضیح میدم چرا ارور داد"
      ],
      "metadata": {
        "colab": {
          "base_uri": "https://localhost:8080/",
          "height": 110
        },
        "id": "lwbuG1hHMEYq",
        "outputId": "0a5e1c44-a933-49a2-95a2-973ca677dfeb"
      },
      "execution_count": null,
      "outputs": [
        {
          "output_type": "error",
          "ename": "SyntaxError",
          "evalue": "invalid character '۱' (U+06F1) (<ipython-input-19-36ee92ad88aa>, line 1)",
          "traceback": [
            "\u001b[0;36m  File \u001b[0;32m\"<ipython-input-19-36ee92ad88aa>\"\u001b[0;36m, line \u001b[0;32m1\u001b[0m\n\u001b[0;31m    print(۱) # این رو بعدا توضیح میدم چرا ارور داد\u001b[0m\n\u001b[0m          ^\u001b[0m\n\u001b[0;31mSyntaxError\u001b[0m\u001b[0;31m:\u001b[0m invalid character '۱' (U+06F1)\n"
          ]
        }
      ]
    },
    {
      "cell_type": "code",
      "source": [
        "print(type(4))"
      ],
      "metadata": {
        "colab": {
          "base_uri": "https://localhost:8080/"
        },
        "id": "JLchnW5lMs7A",
        "outputId": "20a96fa3-cab9-489f-daf1-029e96cf3c4f"
      },
      "execution_count": null,
      "outputs": [
        {
          "output_type": "stream",
          "name": "stdout",
          "text": [
            "<class 'int'>\n"
          ]
        }
      ]
    },
    {
      "cell_type": "code",
      "source": [
        "print(type(9845098))"
      ],
      "metadata": {
        "colab": {
          "base_uri": "https://localhost:8080/"
        },
        "id": "wm9lUk8mNP5N",
        "outputId": "dee9cf65-a059-4898-807c-ad9876a00662"
      },
      "execution_count": null,
      "outputs": [
        {
          "output_type": "stream",
          "name": "stdout",
          "text": [
            "<class 'int'>\n"
          ]
        }
      ]
    },
    {
      "cell_type": "code",
      "source": [
        "4"
      ],
      "metadata": {
        "colab": {
          "base_uri": "https://localhost:8080/"
        },
        "id": "g9MT1G1qNV7o",
        "outputId": "a35b0aba-9ca0-45b7-d48a-58a3a414bd18"
      },
      "execution_count": null,
      "outputs": [
        {
          "output_type": "execute_result",
          "data": {
            "text/plain": [
              "4"
            ]
          },
          "metadata": {},
          "execution_count": 22
        }
      ]
    },
    {
      "cell_type": "code",
      "source": [
        "print(type(3.14))"
      ],
      "metadata": {
        "colab": {
          "base_uri": "https://localhost:8080/"
        },
        "id": "hwJL_woANxw_",
        "outputId": "6e33539e-ed5e-4b89-f434-116f1453c441"
      },
      "execution_count": null,
      "outputs": [
        {
          "output_type": "stream",
          "name": "stdout",
          "text": [
            "<class 'float'>\n"
          ]
        }
      ]
    },
    {
      "cell_type": "code",
      "source": [
        "print(type(3.141596))"
      ],
      "metadata": {
        "colab": {
          "base_uri": "https://localhost:8080/"
        },
        "id": "U3TDCajbOAlZ",
        "outputId": "fbcca75a-a213-40e7-cf1e-f8066cdb4755"
      },
      "execution_count": null,
      "outputs": [
        {
          "output_type": "stream",
          "name": "stdout",
          "text": [
            "<class 'float'>\n"
          ]
        }
      ]
    },
    {
      "cell_type": "code",
      "source": [
        "print(type(True))"
      ],
      "metadata": {
        "colab": {
          "base_uri": "https://localhost:8080/"
        },
        "id": "rfR1DZUZOJMg",
        "outputId": "cc1ccd9e-5697-4789-916d-e96fd68c92c0"
      },
      "execution_count": null,
      "outputs": [
        {
          "output_type": "stream",
          "name": "stdout",
          "text": [
            "<class 'bool'>\n"
          ]
        }
      ]
    },
    {
      "cell_type": "code",
      "source": [
        "print(type(False))"
      ],
      "metadata": {
        "colab": {
          "base_uri": "https://localhost:8080/"
        },
        "id": "tmimOXguOVdD",
        "outputId": "d2c3e3d5-a656-4b84-cb6d-b33111a9ecbf"
      },
      "execution_count": null,
      "outputs": [
        {
          "output_type": "stream",
          "name": "stdout",
          "text": [
            "<class 'bool'>\n"
          ]
        }
      ]
    },
    {
      "cell_type": "code",
      "source": [
        "print(type(2 + 4j))"
      ],
      "metadata": {
        "colab": {
          "base_uri": "https://localhost:8080/"
        },
        "id": "FrYCW3CFOW76",
        "outputId": "233edb20-2288-49a4-a465-9c83a227c056"
      },
      "execution_count": null,
      "outputs": [
        {
          "output_type": "stream",
          "name": "stdout",
          "text": [
            "<class 'complex'>\n"
          ]
        }
      ]
    },
    {
      "cell_type": "code",
      "source": [
        "Aa = 4"
      ],
      "metadata": {
        "id": "JyO_ZAkEOrod"
      },
      "execution_count": null,
      "outputs": []
    },
    {
      "cell_type": "code",
      "source": [
        "aa = 5"
      ],
      "metadata": {
        "id": "parI4UYHOwoT"
      },
      "execution_count": null,
      "outputs": []
    },
    {
      "cell_type": "code",
      "source": [
        "print(Aa, aa)"
      ],
      "metadata": {
        "colab": {
          "base_uri": "https://localhost:8080/"
        },
        "id": "Pzc5IfyAOySp",
        "outputId": "6d443f9e-5891-4211-cba1-417cb2abcc5b"
      },
      "execution_count": null,
      "outputs": [
        {
          "output_type": "stream",
          "name": "stdout",
          "text": [
            "4 5\n"
          ]
        }
      ]
    },
    {
      "cell_type": "code",
      "source": [
        "# اینها با هم هیچ تفاوتی ندارند\n",
        "a=4\n",
        "a =4\n",
        "a = 4\n",
        "a       =                 4"
      ],
      "metadata": {
        "id": "YrpU-j5fPDDO"
      },
      "execution_count": null,
      "outputs": []
    },
    {
      "cell_type": "code",
      "source": [
        "a = 4\n",
        "b = 3.14\n",
        "c = False\n",
        "d = 2 + 1j\n",
        "e = \"salam\" # فرقی بین رشته (جمله) و حرف (کارکتر) وجود ندارد\n",
        "f = 'س'"
      ],
      "metadata": {
        "id": "QRxF3XGAPe9d"
      },
      "execution_count": null,
      "outputs": []
    },
    {
      "cell_type": "code",
      "source": [
        "print(a, b, c, d, e)"
      ],
      "metadata": {
        "colab": {
          "base_uri": "https://localhost:8080/"
        },
        "id": "enxrSrRyP6df",
        "outputId": "dfb37ee3-ef84-44aa-c3fb-0f2f5827dcf9"
      },
      "execution_count": null,
      "outputs": [
        {
          "output_type": "stream",
          "name": "stdout",
          "text": [
            "4 3.14 False (2+1j) salam\n"
          ]
        }
      ]
    },
    {
      "cell_type": "code",
      "source": [
        "print(type([5]))"
      ],
      "metadata": {
        "colab": {
          "base_uri": "https://localhost:8080/"
        },
        "id": "BcgOTtb4P7_v",
        "outputId": "3a58b4c8-2584-4dd6-d29c-b4b2a51b7a77"
      },
      "execution_count": null,
      "outputs": [
        {
          "output_type": "stream",
          "name": "stdout",
          "text": [
            "<class 'list'>\n"
          ]
        }
      ]
    },
    {
      "cell_type": "code",
      "source": [
        "print(type([5,3,2,7]))"
      ],
      "metadata": {
        "colab": {
          "base_uri": "https://localhost:8080/"
        },
        "id": "9ApoGkB3Rb0e",
        "outputId": "bee697c6-2cb1-48dd-84ef-d6eb58f2cb2c"
      },
      "execution_count": null,
      "outputs": [
        {
          "output_type": "stream",
          "name": "stdout",
          "text": [
            "<class 'list'>\n"
          ]
        }
      ]
    },
    {
      "cell_type": "code",
      "source": [
        "omid = [4,2,1,7,9]"
      ],
      "metadata": {
        "id": "rbRZ4xavRlzT"
      },
      "execution_count": null,
      "outputs": []
    },
    {
      "cell_type": "code",
      "source": [
        "print(omid)"
      ],
      "metadata": {
        "colab": {
          "base_uri": "https://localhost:8080/"
        },
        "id": "9Dow-gy4RztI",
        "outputId": "c36caa4b-72de-45dd-efef-03e84c20d784"
      },
      "execution_count": null,
      "outputs": [
        {
          "output_type": "stream",
          "name": "stdout",
          "text": [
            "[4, 2, 1, 7, 9]\n"
          ]
        }
      ]
    },
    {
      "cell_type": "code",
      "source": [
        "omid = [4, 5, 3.14, 'a', \"salam\", 1+2j, True]"
      ],
      "metadata": {
        "id": "haSW6Q9YR_kz"
      },
      "execution_count": null,
      "outputs": []
    },
    {
      "cell_type": "code",
      "source": [
        "print(omid)"
      ],
      "metadata": {
        "colab": {
          "base_uri": "https://localhost:8080/"
        },
        "id": "2afn_ZtQSRna",
        "outputId": "76a3683c-6cd5-4ca7-cf15-7fee5aea12cf"
      },
      "execution_count": null,
      "outputs": [
        {
          "output_type": "stream",
          "name": "stdout",
          "text": [
            "[4, 5, 3.14, 'a', 'salam', (1+2j), True]\n"
          ]
        }
      ]
    },
    {
      "cell_type": "code",
      "source": [
        "print(type(omid))"
      ],
      "metadata": {
        "colab": {
          "base_uri": "https://localhost:8080/"
        },
        "id": "y1RZs2XuSTb1",
        "outputId": "d2112c29-8504-456a-fb7e-1009902b535b"
      },
      "execution_count": null,
      "outputs": [
        {
          "output_type": "stream",
          "name": "stdout",
          "text": [
            "<class 'list'>\n"
          ]
        }
      ]
    },
    {
      "cell_type": "code",
      "source": [
        " # array int omid = [1, 2, 3]"
      ],
      "metadata": {
        "id": "xOMVvw8USfvH"
      },
      "execution_count": null,
      "outputs": []
    },
    {
      "cell_type": "code",
      "source": [
        "print(type((1, 2, 3)))"
      ],
      "metadata": {
        "colab": {
          "base_uri": "https://localhost:8080/"
        },
        "id": "Vp1mDz4OSx10",
        "outputId": "9fd3fffa-0ddc-4053-c2b7-d9813951fd2c"
      },
      "execution_count": null,
      "outputs": [
        {
          "output_type": "stream",
          "name": "stdout",
          "text": [
            "<class 'tuple'>\n"
          ]
        }
      ]
    },
    {
      "cell_type": "code",
      "source": [
        "print(type({1,2,3}))"
      ],
      "metadata": {
        "colab": {
          "base_uri": "https://localhost:8080/"
        },
        "id": "mofTN56xS-vM",
        "outputId": "eb712028-0c73-4dd9-c36e-b98fbf68845f"
      },
      "execution_count": null,
      "outputs": [
        {
          "output_type": "stream",
          "name": "stdout",
          "text": [
            "<class 'set'>\n"
          ]
        }
      ]
    },
    {
      "cell_type": "code",
      "source": [
        "print(type({'mohammad' : 'javad'}))"
      ],
      "metadata": {
        "colab": {
          "base_uri": "https://localhost:8080/"
        },
        "id": "6TNLmwguTWSS",
        "outputId": "1a0fecfb-56e9-4212-d19f-90262eeda8ca"
      },
      "execution_count": null,
      "outputs": [
        {
          "output_type": "stream",
          "name": "stdout",
          "text": [
            "<class 'dict'>\n"
          ]
        }
      ]
    }
  ]
}